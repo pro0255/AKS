{
 "cells": [
  {
   "cell_type": "markdown",
   "metadata": {},
   "source": [
    "# Project to AKS"
   ]
  },
  {
   "cell_type": "markdown",
   "metadata": {},
   "source": [
    "## Reference \n",
    "\n",
    "- https://homel.vsb.cz/~vas218/pdf/acs/grammar.pdf\n",
    "- https://homel.vsb.cz/~vas218/pdf/acs/vasinek-thesis.pdf\n",
    "- https://homel.vsb.cz/~vas218/acs.html\n",
    "\n",
    "## Choosen task\n",
    "\n",
    "- Reduction paradox\n",
    "\n",
    "## Description\n",
    "\n",
    "- Try to reduce message and with every step maximaze entropy\n",
    "\n",
    "## Official description \n",
    "\n",
    "- **RePair - maximal anticompression - reduction paradox**\n",
    "    - Find the smallest possible representation(measured in the number of symbols) of file using the reduction paradox which leads to the largest increase of zero order entropy representation.\n",
    "    - Heuristics - largest first, random\n",
    "    - Describe the algorithm and summarize results to a .doc(x) or .pdf report.\n",
    "    - Prepare a presentation for 10 minutes about your method.\n",
    "    - Literature: Vasinek, Dissertation thesis (Chapter 5)\n",
    "\n",
    "## Steps\n",
    "\n",
    "- Load dataset\n",
    "- Can pick a subset for faster running (sample it)\n",
    "- Find every bigram and try to create rule\n",
    "- Calculate Entropy for new message\n",
    "- Need to find rule which reduces size of message but increases entropy (harder to compress)\n",
    "- Find extremes for every file\n",
    "- Show graphs"
   ]
  },
  {
   "cell_type": "code",
   "execution_count": 4,
   "metadata": {},
   "outputs": [],
   "source": [
    "import os\n",
    "import sys\n",
    "\n",
    "def adding_module_path():\n",
    "    module_path = os.path.abspath(os.path.sep.join([\"..\"]*1))\n",
    "\n",
    "    if module_path not in sys.path:\n",
    "        sys.path.append(module_path)\n",
    "\n",
    "adding_module_path()"
   ]
  },
  {
   "cell_type": "code",
   "execution_count": 265,
   "metadata": {},
   "outputs": [],
   "source": [
    "from src.load_data import get_dataset\n",
    "from src.load_data import DataSets\n",
    "from src.get_probs import get_sorted_probs_as_df\n",
    "import numpy as np\n",
    "import pandas as pd\n",
    "import time\n",
    "from src.save import save_both\n",
    "from enum import Enum\n",
    "import re\n",
    "from ast import literal_eval\n",
    "import random\n",
    "import plotly.express as px\n"
   ]
  },
  {
   "cell_type": "code",
   "execution_count": 25,
   "metadata": {},
   "outputs": [],
   "source": [
    "TEST_NORMALIZATION_SIZE = 10000"
   ]
  },
  {
   "cell_type": "code",
   "execution_count": 26,
   "metadata": {},
   "outputs": [],
   "source": [
    "def load_dataset(type, normalization=None):\n",
    "    data_dna, path_dna = get_dataset(type)\n",
    "    if normalization is None:\n",
    "        return data_dna, path_dna\n",
    "    return \"\".join(np.random.choice(list(data_dna), normalization)), path_dna"
   ]
  },
  {
   "cell_type": "code",
   "execution_count": 27,
   "metadata": {},
   "outputs": [],
   "source": [
    "def get_datasets(normalization=None):\n",
    "    return [\n",
    "        #(*get_dataset(DataSets.english, normalization), DataSets.english), \n",
    "        (*load_dataset(DataSets.dna, normalization), DataSets.dna),\n",
    "        #(*load_dataset(DataSets.proteins, normalization), DataSets.proteins),\n",
    "        #(*load_dataset(DataSets.sources, normalization), DataSets.sources),\n",
    "    ]\n"
   ]
  },
  {
   "cell_type": "code",
   "execution_count": 28,
   "metadata": {},
   "outputs": [
    {
     "name": "stdout",
     "output_type": "stream",
     "text": [
      "Loading C://Users//Vojta//Desktop//iv//AKS//datasets\\dna\\dna.50MB\n"
     ]
    }
   ],
   "source": [
    "test_datasets = get_datasets(TEST_NORMALIZATION_SIZE)"
   ]
  },
  {
   "cell_type": "code",
   "execution_count": 29,
   "metadata": {},
   "outputs": [
    {
     "data": {
      "text/plain": [
       "[('CGGTATTAAGATTATTATCATTGCAGAAAGACTTTACTAAGATAAGTATACATTCAGCTTTTGTTATAGATCGTGCATATTCCCGGGAAAGGATCGGTTTGCTACGATTGAATGGAAGGAACAAACCCTACAAGATTTCTATTCCAGTAATCTCGTGTGGAAGGTATTTGTTAATATAGACTGAGGGTCGTACGTGAGACTCCATAGGGTCCGGAAACTCCCAAACGTACTGGCCGGCGAACCCTTGGATTCATTGGTGGAGACCAGTATTTATTGACTCACGTCCGACAGATGACCGCAAGCCCATGCTTCCCGCATTGCGTTAGTCGACGGTCAGTTCTACAGTAATAAAGAGGCACTATTGGCACTCCAGGCTTCAGAAAAGTTCCATTTTAGTTTTATATCTATTAAGACTAGTAGAGCGTTGAAATATTTTACTCCATAAGTTCTCAAGCTCTTTCTTTCAATCAAGAGGGCCAAATATTGGGTGCCTAAAGTTAAACCTGCGTATACAATAAATCGGCTCGGCTCCTAAGGGTATACCCCTTGTTGTTAAGAAACTGACTTGTAGCCTCAAGATACGCATAAGTCCCGAGCGATCAATACCAGCTCGTCGTAGCCTAAGATGTTTGAACGTGCGAACATGGGAGGCATTATTTGTACTGAGCGCCACAAAAGGACGTGGAGCCGGTCAAAGTGAGAGCTTCTAATGGGAGATACTAAGGTTTGTGTCTCAATTCACAAAAGAATATAAATTAAATTAGACCATCAACGGTGTTGATATAATGTAACTTTTCCCCCCCTCGTAATAACTAATTCGTTGCACGGTTAGCTGCTCACTTTAATGCTTTGTAGCCCAAAAACACATTGGTGATGTCCTTAAAGCAATGACGCAATTCGGTGATTGAAAATGCATGTGGAATTCGTAAGAGTCCTAAGCTCATAGAGAACATATAAACACAGGATATGGAACCCAAACCTACTCCTTAACATGATGCGCGATGTAGTCTGGTACGAGGAGCTAGCCCACATAGTCTTGAGGAGTGAATACAGAACTCAATTAATTACTTTGGCACTAAGATACGATGCCAAAAAAACAGTAAACTGCAAAAAACTCCACTCCTATTGTTACTTCGAACTTCTCTCACATTTTCTCTTTTGAGTAGCTGCGAGAAACAGAGTTAACTGAAAAGCATCCTGAAATTAAAAGGAGCTCCACAGTTTATGACTTCCGTTCTGGCTACAGCTGGCCGCGTCTTATATATGCGAAATTGCTCCGAATCAGATGTTGCACTCCAGACAACAAACGTACAATCAGCAGGGTTTCTGTACTGCTGGATTGTGATGATTATTAACACAGCCTTTCAGTCCACTATTAACCCAAGCCCGAGCCGTTGCCAGAGGCTGCAACGAAAGAGGAGGAAGTGTTTTGACACAGACATACTAGAGGCAGATGTATTCTCTTTCAATAGGGGTCGTGAATAGTCATCATGTGTGGACGTCTAAATACCTTATTACGCTGCGAAGACCGTATCTAACTCTCACAGATGGCCACGAGAATTCACTGCACATGACGTAACCGCAGGGCGCGATATCATCTCTGATGCTCAAAAGGTAGTTTTATTGTCCACCTAGTGTCCTCCATCCATAAGTGCTGGCAGATGGAGGTGCCGACGATACACCTGTGCTTAATAACACCCACGACTCATGATAATTGTTCTTTTTATAGGATATCATGACCAGAACCATTGTGTAACTGACTTGTCTTTACGTGAGTCACTCACACAAGCGGTTTTTCAGCGCCTATCTGTCGCTGGAGTGAAATCCATGCTAGTATCCAAACTCTTGACGCACTTTCGATACTTTAATTTCAATATGGTAACTGATAGCCAACGGTGGCTTCTGGTGTGACTTCTATATCAAGTGGAGGTTTATTCCGATGTCACCCAAATTAGGGTGCTACCAGGACGAGTGACAGTTGCCAACCGGTTAAGGGCAAATTTCCATCGTGACGCTGAAACTGATCTTAGGAGAGTACACATCTAGAAATTCAGTATGGTTTCAGCAACTAGCCTTCCAGTACCAATCGAACGATGGCTCAATGTTATTGCACAATATCCTTGATCGGTTCATGTACCACCGACAGCCATTCCTCGCTCTCTTCTTATGGCTAAGGGCATTTACGGAAATACGGAGCGTTACAAGTGCCCATCGTAGTTAGTTAGTCCAACGAATTAACGCAGTCACCATAAGAGCAGCAACTTTTGTCAAGCTATCTACGCCTGCAAGCATCTCCGTACTTTTAAAACTCGTAGGTGTACGGGAAAGACAGTAACAAGATTACCCCACGTATCTACTTCGGCAGGAATCCTAGGAAACTCGAATAACACCAAAACCCATATACTTAACACCATTTTAGCTGCTTTCTTAGCTTACTATGTATTATCTTCATATGAAAACATAATTAACCATAGTGGTATCCGTATAAAAAGTAGAATATAATCGTTCAATCGTCGCTCTTAGTTGAAAAAATCACGGTCACCTAATTAGGCCTAAATGATCGGGTGCAATGGAATCCCGGCTTAATTTTGGAGAACACTAGTTAAATTATGGGGCACGGATTAGATGCAATCGATACGCGCTTTCATCATATTAAAGTTATATATCTTACTATCATGCTGTGTCAGCATAGCGAACTACAACTAGTTGATAGACATTGTCCTCCATAAAGAACTGTTGATAAGTAACATTAGTAACCATCGATATATAGATTCATTATAAGTCAATTTTATCAGCTGAACTCTTACGTGTTGGCATTATATTTAAGTTGGCTATCTTCGGACTCATTACTAGTTAAGAGGTACAATGGGCATTGGCTGGAACATTGTAGCCCCTTGACTTATTGTTTACACTACATTAGTTGCCGTCCTATTCCAGTTAGACAGCTTGTTTCGGTAACTGAACCATTTAAGCCAGAAACAATGGTCACGACACGGACCGAACTGATCTCTAAGGTCCAGTTGTCGATCACAAGTATTATGCTTACCACGAATATAAGACATCACCATTTCACAGTACTTTCTCTCGATGACGTAACATTCAGTCCCATCATCAATAAATATTATGGTAGATTCGTCCGGCTGACATACAATAGTTCCCTAAGGGTACAATCGAAAGATTAATTTGATAGGCAATGTAGGTCGTGCGCATCTGCAAGACAATCGATTGCATTAGTTCAAAGATCGGTATGACCTAGCAATGCCGAGATCACTCACACCCGGGACAATAATCTACGTTCGACGTCGAAATAAGTTTTCTATCGGGCTTCACACATTCGCTACGATAGTTTTCCGGTTTGTGATCGCAAAAAAGCGTCTTATATAAGGTCCCACTTCGTCAAACCGATCTAAAGTCAACGATGGAGGATCTCACATCTTCGGCAACAAAATAACAGGTATGAGGACCTACCGAAGCTTTTCATAGTTAATTTAGTCTTAATTTATGATAACAGACTAAGTCAGAACATAATAAGTGTTATAAAAGACACCCATAACTTCTGTTCTTGGATTTAGGATCATGAAATTTATGCTTAGTCTTTACCAGTGAGATATGCAGCAGATCTGAGTGGGCCGGTGTCCGACTTCTAAACATGATTTGACGCAGGTAAATGTCGGCAGCTATTGGTCTTCTCCGTTTATGCACAAACTTTCCCAGTCAGGCAGATTTGGAGGCTCGATTCTGTTAGAAGAACGCGAGGTAAAACCAAAGCGACCAAACATTTTCCATATATCCTTCCTTTTAGCGGATGTGCTAGTGTCTCTCCTTTCTTGCATAACGGCAGGATCAAATGTTTTCCTGATATATCCCGGTGTTTGTCGCATTACAATCCCCTGTTCCAAGACACAAATAGTGTTGCTATCATTATGCGGTAGTGGACTGCAGAAATTATTACCTGAGTCTGTTTTGGTGTCCGTTAGATACAGATTAACCTCACTCCTCATCTACAACGAGGCATCAGAGCGGACTCTTGTTATCGAAAGTTCTGTGCCATATATATTGTAAGTATTTTATCTTGCATTTACTATTAGGCTTTATTAGATAGAGGATTGAACGCTAATATATTATCCTCACTCCGGGATATAATTCTCTTATGGGAATAGTTAACTTATGGCGTTGTTATTTTAAAGGATCTATCAAACACATAAGGTTACCCATAGTGAATCTCTGTGATGGTCCAAGGACGCCATTTTAGATTAGGCGATTTGACATTAATTCTTGTCCGTTGACCTAGTGTCGCGGCGACTAAACTTGGGACTAGGTCATACTTTGGTGCCTCATGTTCAGAGGAAATGATGAGATGGTTCAATTGATCAACACCGCTCAAGCAGCAAATAGGTTTATACTTTCATATAACTACCAAACGGCAATTGGTATCTGTTCGTACTGATCGAAACATTCGCAGCAGTCGATTGAAAAACGCAAAGCACCATTAAGATCGGCCACTCTTACACCGGACAAGACTAGTCTTAACTTAAAACTGGGGCTGGCATCGTATCTTGAGATCTGAATCTACGACGGGGATTTCATTACTCGTAACAAGCACGATGAATGAGCGGTTATATACAACGATGAGAGCATAAGCGAAATCACACTTAGACCCGCTGTGTTAGATTAAACTAACATTATCATAGTTGTCAGGGTCCGATAGATTCTGCATAAACTACAAGGCAATATTATAACACGCAATACGTGTGACTCCAAGTCAATGATAGAATCATCTTTCTGGTGAAGCGATGTGACAAATCCGCGTGTAATATTATATCTATCATGAGAATGTTTATGCTCCCGCTTGAGAGGCGCGGATGTCAGCCAGATCACCCTGGCTTGGTAGCCTGACAAGTATCTACTGAGTCATTTTCTCCCCATTCCTGACACTCCTGACGACTATGACATTGATTACATGTGTCCAAGGGTTGACAGCGGAAAACGTATTCTCTGATGCTCTAGGGAGAGCTACTGTCGAACTATTGTTTCGTGGTATTCACCAAGTTAAGGAATCTCCATGTGATGACCTACCTGTAAGACATAATCCGATCCATATGCTTCTGCTCGCCTTAAAGTCTCGGCTAAAACTGGACGGGATTTAATCTGGAAGTATGAAATGTATGAGAGAATCAAAGTCAGGAACATTGTCGTTAATAAATAAATAGTTAGCTCGGCGCTGTGCTACCTTACCGCATCCTGGAGGAAAACATCTTAACGACACGCTTGACGCGGTTGTGTAAATAAAGTCTATCCAGATTGTTACAGGGTATGCGCACTGGTGAACAGAAAGGTATTGATATCTTTTACTGTGAGAATATAAAACTGGATTCTAAGTGTATACTAGATATAATTCGATTATCCGTCCGGATGCAACCATTGTGTAAGTTTCGGTTCCACAGCTTCTTGCCTCCCCAAACTTGAGCCTTCATACATAAGCTCGCTGTATCTTGTAGACCCACACACGCCTTCTGATGGGTCTCTTTTTCGTCTCTCCTAACCCTCCTGTTGCAGGAATGTGTATTAGTCTCTCCATGCAAACGCTGTCTAGCGCTAGTATGAGTCTGCGCACATTTGCATACGCTTTCATTTAGGCTTTCACGTGCGACCAATCTGTACTGCCTACGGGACACATATCTCATACATTCGTAATCCAGCCAGCGATAGTAAAGGCTTTCAACACCCTTTAGTTAAACCATTTCGGACTGTGTAGGGTCTTGATCCGTGTTGGATGCCATATTCGAGTCGAACACCGTGCATGTACTTCGTATGATCAATTTAGCCAATTACTTTCAAACACTCCTCCGCTATTCGTTTTGCGCTTAAAACTTCAATGATGCTGCCACGATTCTGTAAGAAGCCTGGGGAGTCGGTTGGATAATGACGAGGAAATTTGTAAGTTCGCACTAGTACCGTATAAACTGCTAGTAAGGAATTTCTGCTGCGGGTATGAATCGAAATAGCCTCCGGGGTCGAAACTGGATAAGAAAATGAGAGAAAGACGTCGACACCTTATTCATTCAATGAGTTCAGGACTTTGGAACACCAGGTCGTCGATTACAGCGGTCTAGCCGTAATGCGGGCCCACTAACGGTTATCGTAACTTTAAGGACAGCGTCATTGTCCGAGAATCCTGACGATTGAGGCTCAAGTTCCGGATAGGACCTGTGGGGCTAGACAATCTCTCTGTCAGTAACAACCGGCCATACGATACGGTTCGTTTCTAGCGGAACTCACTCTTTAAGAGATCGAGTGTAACCTCATACACTGGAGAGCGTGTCTATATTGTCTGGTAATAGGAAAATAAAATTTACCATTATTAACCTGATGAAGTACCTTCCGGCGATATAATTACCGCTGCTTTTAGTGCGTTTTTTACATGCAGTCATAAAGGAGTAATACAACCTACTAAATGACGACGGACGGTCAGGATATTGTCGGAGCTTGCTACATCGATCCGACAACCTAGACAACAATTTATACTGAAAGCCACGTTTAAAAAATCCAATAAAAAGATAGCATTTGTCTTTAAAGTGGCACATCTCTTTATTGTTCACTACGCTAAACTCTAACACTACTCCAACCATGGGACCCCTCCTTAGTTATTCCGAGCGCCAAGTCCCTTGCCGGTTAACTATCCTTCAAGTCCATAATTAGTTTGGTGGTTTTCACATAAATACGTCAGTTAATTCGCTGAGCTTGCTTCCTTAACGTTTGTGGCTAACTAGTACTGGAATAAGAGTGCAGGATCGATTTGGAGCAGGGTCGGGTGTTCCCCTGTATAGAAGACCCTTATAGCTAAAGTTCCCGTATATTAGTCAGTAACGAAAACCACTCTAGTCCGCGCGAGCCCGTACAGATGAAGATAAATTTGGCGAAGGTGTATCACAACGTCACTGACCTCGGGTACAGCCAAAGGATTTCTGATGCCAGACAAGTGCGTCTTGCCGTAAGGAACTACTACAATTGTGTTTCAGCAACGTATAGCGTTGAGTGTGTTCCTTATCTGTTCAATGGGAACTTATATTTCGCTATCGGCGGGCACTATCTATTGCCTAGGTAGTCTTTCTCTTCATCGTGCATGGTTATGCCATATATGAAATGGGGCGTTTACACGTGTTATTGAACTTGTTTTGCTGAGTATCGTGGACCAGAAATACCCAAAGATAATATCAGTGTTTTGTAGTACTAGATGCAGGCCGGATTCTGCTTTGACTGATGTCCGTAATTTACGATTTCGGGTACATCTCTGAGTGCCAACTGTTGGTGGATTCGATAACATTAACGACATATATTGCATTAGGTCATATTAAACCCGTTAATTTGGTCCATAAGGGTATTCGATATCAACTTTTATCCGCTCGTTTACGGTCCTTAAGGTCTGTTCTGTCAACTGAATTTGCTGGAATGCCTATGTCTCTACAGAGATTAGCCACCTCATACATAGAGCATGCATCTTTACATTGAAGAACATTTTATCTCGAGGGGGCCACAATTGCAGTTTGTTTTATATCAATAGATCCGACAATTGTTTAATTAGCCTACCTAACTTTGTAGAAGATAAATTTACTAAGGCAGCTTAGGTACGGATGGTCTAACTATAGAATTCATGTTACGCTTATTGTGCTTGAATCTCTGCGCCCAACAAAACCCTACCAAATTACCACTTGGGATACTTTATAATGGGATACGCATATATATTGTGCAAAGAGCAGCTTGGTCAACCCTATCTTTTCCGCTAGGATGGCGGCAGCGTAAAGGCCTAACCCGAACCTCAACACTAACACAGTGCTTGCTAGCCCTTAATCCGTTAATCGGTATAACTGCAGTGAAAAAACCCAGGCATACTGTTCACGTCAGTTACTCCTAGCTCTTCTAAATGTGAAGGGCTAGTTTACTCGCGATTCTTCATATACTGAATGTCCATGTGTTAAATATCCTCGAAGGCCCACTTGTTTCTCACCAAGAAGAAATCTCCACTGATATCCTCTAACTAACGCCAAGACGCCGGATTGTAACCATCACCATTCGATTTCTCTCCGGATTCCGAACCCGTCTAAGAAGGAACCGAGCGTAAGAGCCATTACCTAAATTGAACTTGGACGCACCTTTTCGTAACTGGGAATAAAACACGGAGTACTAGTAATGCAGTATAAAAATGCGTATGGTAAAGGTGATGAACGTATTCGCAGACATTTTACGAACGTACACTTGACATCCACAAATATGGGATGGATCTAGCTAGTTTTCTGGATCCGCTTGAACCCTCCGTAAGTACTGTTTTTCTGCGCAACTAGGACGTTAATTCTTGCAACCCATACGTTTGCGAGTAGACCCATTGAGCGTCATACACCATTTTAGAGAATAATGAGAATGAATTATGACTCTCTTTCGCAGGACATCTTGCCACCGTTTAAAGGATGTCCATCTATGGCCCGGTAACACTGACCAGTATTCATAAGTTGAAATACCAAGTGATCGGAGACTGAGGTCGCAGAAAAATGAATCTTAATCGGTGGAGCTCGTGTCTAATGAAGTGAGGTATATGACAACTAAGCAAAATACTTCATTTGATCCCTCTGTCACAGCAGCCAATAGGTTATAATTAACGTCGGCCCCACGCGGTTATGAACTAAAAACACGGACTACAGACATATCTGGTCGAAAAATGAACGGGGTTGGAGTTAACAACTACCAAAAGATTCAGAAGACGAATGATCGACATTACCACTGTGATTTGTGTGGAGATAACGCCTATGACACTCTTAAATCGTGCGCGCGAGGGACCCGCTTACCGACCCATGGGCTAGGAGATTGAACTAAACAATGAGATCTTATGGTGGGTCAGACGTTATCTAGAAAAGCATCATGTAAAATATCTTGGTTAATCCACAGATGCACAGGACATCGAGGCTGCTATTACGTCTACGGCGATGGTCCTTTTTCCATACTTGTCTGATGATTGTATGTGCTAAACACATCCACGATGGCCGCTTAGAGACGATTCAGAAACAGACTAATATTGCCTCATCAGCGACTGATGTAGAGTTAGCCCCCGCATATGTACGAACGAGGTAAATATCGGATTAACTCCAGCTGTAATATATACCATTTCTATTGCGCGCTATACAGACTGGAATGAATGCACCTTCGAGTACACCCATATTGTAGATGAAGTGATAGAATTTCATAACCATAATTAGTGATGGAACGATTGTTGCCGACGATTCCTCTTTTCGAAAGGTGGGGTGAGAATACCCTATTAAGGATTATAACGCACCCACGAAATCTTCTGCTTTTGACATTAATTATTCTAGCTAGGCTATGTACCGCACGTCTTATAATAATTAGTTGATTAATCCTATTATAGGATTCAGAATCGTGTTTATATACTGTTGCTACATACTCGAGTTTCTTATTGACATTGCAGCGCTAATTTTTGGTGATCCGCATATAGATCATATCCGTACATGTATGGATTCAGCCCAATGATTGATTAGCGGTTTCCATCGAAATGGCAGACCTATTTTCCGACGATTACCGTTTGTTATGTGGATCATTTATGTAATACCGTCTTTCGAGCCTTACATGATTGTAAATATTAACATATAGCTAGAAGTGTGCCCCCGATACAGGTTAGTTTCTGATTTGCCGTGGCCTACACCACGTACTAGATTTAGGTAATATTTTAGCGATAAGGTGTTCTAGGAACTTTATTTCACCCTGACTTTCCGTCAGTTGCTCTACCGATCTGAGAGTGGTACTGTCATATTGTAGACTGTCGGGATTAGAATTGTCAAGTAAACGCTAATGTACGCCTCGTGGAGTCGGAAAACATACGAAGTCCCACTCATTTTCGAGAGATTGTGGAACTTAGTTCCAAATGAAAAGCTGAGTACCTACGGATCAATATCCTCGTCCATGATTTGATAGTGGCGTCCGGCAGTCGCATGGTTTT',\n",
       "  'C://Users//Vojta//Desktop//iv//AKS//datasets\\\\dna\\\\dna.50MB',\n",
       "  <DataSets.dna: 'dna'>)]"
      ]
     },
     "execution_count": 29,
     "metadata": {},
     "output_type": "execute_result"
    }
   ],
   "source": [
    "test_datasets"
   ]
  },
  {
   "cell_type": "code",
   "execution_count": 203,
   "metadata": {},
   "outputs": [],
   "source": [
    "data_test, data_path, data_type = test_datasets[0]"
   ]
  },
  {
   "cell_type": "code",
   "execution_count": 204,
   "metadata": {},
   "outputs": [],
   "source": [
    "def find_k_grams_freq(data, max_size_k=2):\n",
    "    \n",
    "    kgrams_dic = {}\n",
    "\n",
    "    for k in range(2, max_size_k+1):\n",
    "\n",
    "        for i in range(len(data) - k):\n",
    "\n",
    "            n_gram = data[i:i+k]\n",
    "            \n",
    "            kgrams_dic[n_gram] = kgrams_dic.get(n_gram, 0) + 1\n",
    "\n",
    "    return kgrams_dic"
   ]
  },
  {
   "cell_type": "code",
   "execution_count": 205,
   "metadata": {},
   "outputs": [
    {
     "data": {
      "text/plain": [
       "{'CG': 440,\n",
       " 'GG': 423,\n",
       " 'GT': 590,\n",
       " 'TA': 832,\n",
       " 'AT': 867,\n",
       " 'TT': 842,\n",
       " 'AA': 804,\n",
       " 'AG': 579,\n",
       " 'GA': 625,\n",
       " 'TC': 627,\n",
       " 'CA': 623,\n",
       " 'TG': 618,\n",
       " 'GC': 422,\n",
       " 'AC': 634,\n",
       " 'CT': 621,\n",
       " 'CC': 451}"
      ]
     },
     "execution_count": 205,
     "metadata": {},
     "output_type": "execute_result"
    }
   ],
   "source": [
    "find_k_grams_freq(data_test)"
   ]
  },
  {
   "cell_type": "code",
   "execution_count": 206,
   "metadata": {},
   "outputs": [],
   "source": [
    "import math\n",
    "from collections import Counter\n",
    "\n",
    "def calc_freq(content):\n",
    "    c = Counter(list(content))\n",
    "    return c\n",
    "\n",
    "def calc_p(counter, n):\n",
    "    counter = dict(counter)\n",
    "    res = {}\n",
    "    for k, v in counter.items():\n",
    "        res[k] = v / n  \n",
    "    return res\n",
    "\n",
    "def get_n(counter):\n",
    "    counter = dict(counter)\n",
    "    return np.sum(list(counter.values()))\n",
    "\n",
    "def calc_H(p):\n",
    "    H = 0\n",
    "    for k, v in p.items():\n",
    "        #Shannon equation!\n",
    "        H += p[k] * math.log2(p[k])\n",
    "    return -H\n",
    "\n",
    "def calc_entropy_for_message(message):\n",
    "    counter = calc_freq(message)\n",
    "    n = get_n(counter)\n",
    "    p = calc_p(counter, n)\n",
    "    H = calc_H(p)\n",
    "    return H"
   ]
  },
  {
   "cell_type": "code",
   "execution_count": 207,
   "metadata": {},
   "outputs": [
    {
     "data": {
      "text/plain": [
       "1.9811065817840268"
      ]
     },
     "execution_count": 207,
     "metadata": {},
     "output_type": "execute_result"
    }
   ],
   "source": [
    "calc_entropy_for_message(data_test)"
   ]
  },
  {
   "cell_type": "code",
   "execution_count": 208,
   "metadata": {},
   "outputs": [],
   "source": [
    "def diff_entropy(message1, message2):\n",
    "    message1_entropy = calc_entropy_for_message(message1)\n",
    "    message2_entropy = calc_entropy_for_message(message2)\n",
    "    diff = message1_entropy - message2_entropy\n",
    "    return diff"
   ]
  },
  {
   "cell_type": "code",
   "execution_count": 209,
   "metadata": {},
   "outputs": [
    {
     "data": {
      "text/plain": [
       "0.0"
      ]
     },
     "execution_count": 209,
     "metadata": {},
     "output_type": "execute_result"
    }
   ],
   "source": [
    "diff_entropy(data_test, data_test)"
   ]
  },
  {
   "cell_type": "code",
   "execution_count": 210,
   "metadata": {},
   "outputs": [],
   "source": [
    "def find_not_existing_character(current_alpahbet):\n",
    "    ascii_values = list(range(0, 256))\n",
    "    ascii_codes = [ord(char) for char in current_alpahbet]\n",
    "    can_use = set(ascii_values).difference(set(ascii_codes))\n",
    "    ascii_picked_char = random.choice(list(can_use))\n",
    "    char = chr(ascii_picked_char)\n",
    "    return char"
   ]
  },
  {
   "cell_type": "code",
   "execution_count": 211,
   "metadata": {},
   "outputs": [
    {
     "data": {
      "text/plain": [
       "'@'"
      ]
     },
     "execution_count": 211,
     "metadata": {},
     "output_type": "execute_result"
    }
   ],
   "source": [
    "find_not_existing_character(['A', 'C', 'G', 'T'])"
   ]
  },
  {
   "cell_type": "code",
   "execution_count": 237,
   "metadata": {},
   "outputs": [],
   "source": [
    "def transform_message(message, ngram_for_replace):\n",
    "    current_alphabet_size = np.unique(list(message))\n",
    "\n",
    "    replace_character = find_not_existing_character(current_alphabet_size)\n",
    "    \n",
    "    return message.replace(ngram_for_replace, replace_character), replace_character"
   ]
  },
  {
   "cell_type": "code",
   "execution_count": 238,
   "metadata": {},
   "outputs": [],
   "source": [
    "def calculate_for_ngrams_diff(ngrams, message, method_entropy=diff_entropy):\n",
    "    res = {}\n",
    "    \n",
    "    for k, v in ngrams.items():\n",
    "        res[k] = {\n",
    "            \"Counter\": v,\n",
    "            \"Diff\": method_entropy(message, transform_message(message, k)[0])\n",
    "        }\n",
    "    return res"
   ]
  },
  {
   "cell_type": "code",
   "execution_count": 239,
   "metadata": {},
   "outputs": [
    {
     "data": {
      "text/html": [
       "<div>\n",
       "<style scoped>\n",
       "    .dataframe tbody tr th:only-of-type {\n",
       "        vertical-align: middle;\n",
       "    }\n",
       "\n",
       "    .dataframe tbody tr th {\n",
       "        vertical-align: top;\n",
       "    }\n",
       "\n",
       "    .dataframe thead th {\n",
       "        text-align: right;\n",
       "    }\n",
       "</style>\n",
       "<table border=\"1\" class=\"dataframe\">\n",
       "  <thead>\n",
       "    <tr style=\"text-align: right;\">\n",
       "      <th></th>\n",
       "      <th>Counter</th>\n",
       "      <th>Diff</th>\n",
       "    </tr>\n",
       "  </thead>\n",
       "  <tbody>\n",
       "    <tr>\n",
       "      <th>CG</th>\n",
       "      <td>440</td>\n",
       "      <td>-0.144009</td>\n",
       "    </tr>\n",
       "    <tr>\n",
       "      <th>GG</th>\n",
       "      <td>423</td>\n",
       "      <td>-0.116308</td>\n",
       "    </tr>\n",
       "    <tr>\n",
       "      <th>GT</th>\n",
       "      <td>590</td>\n",
       "      <td>-0.194946</td>\n",
       "    </tr>\n",
       "    <tr>\n",
       "      <th>TA</th>\n",
       "      <td>832</td>\n",
       "      <td>-0.276203</td>\n",
       "    </tr>\n",
       "    <tr>\n",
       "      <th>AT</th>\n",
       "      <td>867</td>\n",
       "      <td>-0.281469</td>\n",
       "    </tr>\n",
       "    <tr>\n",
       "      <th>TT</th>\n",
       "      <td>842</td>\n",
       "      <td>-0.216464</td>\n",
       "    </tr>\n",
       "    <tr>\n",
       "      <th>AA</th>\n",
       "      <td>804</td>\n",
       "      <td>-0.209085</td>\n",
       "    </tr>\n",
       "    <tr>\n",
       "      <th>AG</th>\n",
       "      <td>579</td>\n",
       "      <td>-0.191932</td>\n",
       "    </tr>\n",
       "    <tr>\n",
       "      <th>GA</th>\n",
       "      <td>625</td>\n",
       "      <td>-0.198838</td>\n",
       "    </tr>\n",
       "    <tr>\n",
       "      <th>TC</th>\n",
       "      <td>627</td>\n",
       "      <td>-0.204607</td>\n",
       "    </tr>\n",
       "    <tr>\n",
       "      <th>CA</th>\n",
       "      <td>623</td>\n",
       "      <td>-0.202622</td>\n",
       "    </tr>\n",
       "    <tr>\n",
       "      <th>TG</th>\n",
       "      <td>618</td>\n",
       "      <td>-0.199201</td>\n",
       "    </tr>\n",
       "    <tr>\n",
       "      <th>GC</th>\n",
       "      <td>422</td>\n",
       "      <td>-0.141089</td>\n",
       "    </tr>\n",
       "    <tr>\n",
       "      <th>AC</th>\n",
       "      <td>634</td>\n",
       "      <td>-0.204254</td>\n",
       "    </tr>\n",
       "    <tr>\n",
       "      <th>CT</th>\n",
       "      <td>621</td>\n",
       "      <td>-0.203690</td>\n",
       "    </tr>\n",
       "    <tr>\n",
       "      <th>CC</th>\n",
       "      <td>451</td>\n",
       "      <td>-0.122980</td>\n",
       "    </tr>\n",
       "  </tbody>\n",
       "</table>\n",
       "</div>"
      ],
      "text/plain": [
       "    Counter      Diff\n",
       "CG      440 -0.144009\n",
       "GG      423 -0.116308\n",
       "GT      590 -0.194946\n",
       "TA      832 -0.276203\n",
       "AT      867 -0.281469\n",
       "TT      842 -0.216464\n",
       "AA      804 -0.209085\n",
       "AG      579 -0.191932\n",
       "GA      625 -0.198838\n",
       "TC      627 -0.204607\n",
       "CA      623 -0.202622\n",
       "TG      618 -0.199201\n",
       "GC      422 -0.141089\n",
       "AC      634 -0.204254\n",
       "CT      621 -0.203690\n",
       "CC      451 -0.122980"
      ]
     },
     "execution_count": 239,
     "metadata": {},
     "output_type": "execute_result"
    }
   ],
   "source": [
    "r = calculate_for_ngrams_diff(\n",
    "        find_k_grams_freq(data_test),\n",
    "        data_test\n",
    "    )\n",
    "\n",
    "pd.DataFrame.from_dict(\n",
    "    r, \n",
    "    orient=\"index\"\n",
    ")"
   ]
  },
  {
   "cell_type": "code",
   "execution_count": 240,
   "metadata": {},
   "outputs": [
    {
     "data": {
      "text/plain": [
       "{'CG': {'Counter': 440, 'Diff': -0.14400911057088184},\n",
       " 'GG': {'Counter': 423, 'Diff': -0.11630809042022605},\n",
       " 'GT': {'Counter': 590, 'Diff': -0.1949460187176224},\n",
       " 'TA': {'Counter': 832, 'Diff': -0.2762032304859767},\n",
       " 'AT': {'Counter': 867, 'Diff': -0.2814694848677286},\n",
       " 'TT': {'Counter': 842, 'Diff': -0.21646359726551978},\n",
       " 'AA': {'Counter': 804, 'Diff': -0.209085389731968},\n",
       " 'AG': {'Counter': 579, 'Diff': -0.19193238152330538},\n",
       " 'GA': {'Counter': 625, 'Diff': -0.1988380616008576},\n",
       " 'TC': {'Counter': 627, 'Diff': -0.20460664457236177},\n",
       " 'CA': {'Counter': 623, 'Diff': -0.20262176743536653},\n",
       " 'TG': {'Counter': 618, 'Diff': -0.19920108924319635},\n",
       " 'GC': {'Counter': 422, 'Diff': -0.1410886853334885},\n",
       " 'AC': {'Counter': 634, 'Diff': -0.20425441540731226},\n",
       " 'CT': {'Counter': 621, 'Diff': -0.20369031140422456},\n",
       " 'CC': {'Counter': 451, 'Diff': -0.12298011907015827}}"
      ]
     },
     "execution_count": 240,
     "metadata": {},
     "output_type": "execute_result"
    }
   ],
   "source": [
    "r"
   ]
  },
  {
   "cell_type": "code",
   "execution_count": 241,
   "metadata": {},
   "outputs": [
    {
     "data": {
      "text/plain": [
       "dict_items([('CG', {'Counter': 440, 'Diff': -0.14400911057088184}), ('GG', {'Counter': 423, 'Diff': -0.11630809042022605}), ('GT', {'Counter': 590, 'Diff': -0.1949460187176224}), ('TA', {'Counter': 832, 'Diff': -0.2762032304859767}), ('AT', {'Counter': 867, 'Diff': -0.2814694848677286}), ('TT', {'Counter': 842, 'Diff': -0.21646359726551978}), ('AA', {'Counter': 804, 'Diff': -0.209085389731968}), ('AG', {'Counter': 579, 'Diff': -0.19193238152330538}), ('GA', {'Counter': 625, 'Diff': -0.1988380616008576}), ('TC', {'Counter': 627, 'Diff': -0.20460664457236177}), ('CA', {'Counter': 623, 'Diff': -0.20262176743536653}), ('TG', {'Counter': 618, 'Diff': -0.19920108924319635}), ('GC', {'Counter': 422, 'Diff': -0.1410886853334885}), ('AC', {'Counter': 634, 'Diff': -0.20425441540731226}), ('CT', {'Counter': 621, 'Diff': -0.20369031140422456}), ('CC', {'Counter': 451, 'Diff': -0.12298011907015827})])"
      ]
     },
     "execution_count": 241,
     "metadata": {},
     "output_type": "execute_result"
    }
   ],
   "source": [
    "r.items()"
   ]
  },
  {
   "cell_type": "code",
   "execution_count": 242,
   "metadata": {},
   "outputs": [],
   "source": [
    "def pick_largest(items):\n",
    "    return list(sorted(items, key=lambda x: x[1]['Diff']))[0]\n",
    "\n",
    "def pick_random(items):\n",
    "    return random.choice(items)\n",
    "\n",
    "def pick_only_decreasing(dic, pick_method=pick_largest):\n",
    "    items = dic.items()\n",
    "\n",
    "    decreasing_items = list(filter(lambda x: x[1]['Diff'] < 0, items))\n",
    "\n",
    "    if len(decreasing_items) == 0:\n",
    "        return None\n",
    "\n",
    "    return pick_method(decreasing_items)    "
   ]
  },
  {
   "cell_type": "code",
   "execution_count": 243,
   "metadata": {},
   "outputs": [
    {
     "data": {
      "text/plain": [
       "('AT', {'Counter': 867, 'Diff': -0.2814694848677286})"
      ]
     },
     "execution_count": 243,
     "metadata": {},
     "output_type": "execute_result"
    }
   ],
   "source": [
    "pick_only_decreasing(r, pick_largest)"
   ]
  },
  {
   "cell_type": "markdown",
   "metadata": {},
   "source": [
    "# Algorithm implementation - Reduction paradox"
   ]
  },
  {
   "cell_type": "code",
   "execution_count": 266,
   "metadata": {},
   "outputs": [],
   "source": [
    "class TableFields(Enum):\n",
    "    Rule = \"Rule\"\n",
    "    EntropyMove = \"EntropyMove\"\n",
    "    DataType = \"DataType\"\n",
    "    DescriptionData = \"DescriptionData\"\n",
    "    MessageSize = \"MessageSize\"\n",
    "    AlphabetSize = \"AlphabetSize\"\n",
    "    GrammaticSize = \"GrammaticSize\"\n",
    "    CalcTime = \"CalcTime\"\n"
   ]
  },
  {
   "cell_type": "code",
   "execution_count": 267,
   "metadata": {},
   "outputs": [],
   "source": [
    "def create_value(message_0, message_1, diff, replace_character, n_gram, grammatic, tic, type_data=None, description_data=None):\n",
    "    new_message_alphabet_size = len(np.unique(list(message_1)))\n",
    "    new_message_size = len(message_1)\n",
    "\n",
    "    new_rule = f\"{n_gram} -> {replace_character}\"\n",
    "\n",
    "    grammatic[n_gram] = replace_character\n",
    "\n",
    "    tac = time.time()\n",
    "    \n",
    "    return {\n",
    "        TableFields.Rule.value: new_rule,\n",
    "        TableFields.EntropyMove.value: diff,\n",
    "        TableFields.DataType.value: type_data,\n",
    "        TableFields.DescriptionData.value: description_data,\n",
    "        TableFields.MessageSize.value: new_message_size,\n",
    "        TableFields.AlphabetSize.value: new_message_alphabet_size,\n",
    "        TableFields.GrammaticSize.value: len(list(grammatic.keys())),\n",
    "        TableFields.CalcTime.value: tac - tic,\n",
    "    }\n"
   ]
  },
  {
   "cell_type": "code",
   "execution_count": 268,
   "metadata": {},
   "outputs": [],
   "source": [
    "def algorithm_step(message, grammatic, type_data=None, description_data=None, tic=None, heuristics_method=pick_largest):\n",
    "    #Find ngrams\n",
    "    n_grams = find_k_grams_freq(message)\n",
    "    \n",
    "\n",
    "    diff_table = calculate_for_ngrams_diff(\n",
    "        n_grams,\n",
    "        message\n",
    "    )\n",
    "\n",
    "    picked = pick_only_decreasing(diff_table, heuristics_method)\n",
    "\n",
    "    if picked is None:\n",
    "        return None\n",
    "\n",
    "    #('AT', {'Counter': 867, 'Diff': -0.2814694848677286})\n",
    "    n_gram, dic_values = picked\n",
    "    transformed_message, replace_character = transform_message(message, n_gram)\n",
    "    \n",
    "    return transformed_message, create_value(message, transformed_message, dic_values['Diff'], replace_character, n_gram, grammatic, tic, type_data, description_data)\n"
   ]
  },
  {
   "cell_type": "code",
   "execution_count": 269,
   "metadata": {},
   "outputs": [],
   "source": [
    "def algorithm(message, type_data=None, description_data=None, limit_step=None):\n",
    "    res = {}\n",
    "    grammatic = {}\n",
    "\n",
    "    step = 0\n",
    "    while True:\n",
    "        tic = time.time()\n",
    "        if limit_step is not None and limit_step == step:\n",
    "            break\n",
    "        step_value = algorithm_step(message, grammatic, type_data, description_data, tic)\n",
    "        print(step, len(message))\n",
    "        if step_value is None:\n",
    "            break\n",
    "\n",
    "        else:\n",
    "            transformed_message, value = step_value\n",
    "            message = transformed_message\n",
    "\n",
    "            step += 1\n",
    "            res[step] = value\n",
    "\n",
    "    return res"
   ]
  },
  {
   "cell_type": "markdown",
   "metadata": {},
   "source": [
    "## Testing data"
   ]
  },
  {
   "cell_type": "code",
   "execution_count": 272,
   "metadata": {},
   "outputs": [
    {
     "name": "stdout",
     "output_type": "stream",
     "text": [
      "0 10000\n",
      "1 9133\n",
      "2 8512\n",
      "3 7933\n",
      "4 7493\n",
      "5 7157\n",
      "6 6847\n",
      "7 6600\n",
      "8 6355\n",
      "9 6182\n",
      "10 6028\n",
      "11 5890\n",
      "12 5756\n",
      "13 5633\n",
      "14 5529\n",
      "15 5430\n",
      "16 5347\n",
      "17 5264\n",
      "18 5185\n",
      "19 5109\n"
     ]
    }
   ],
   "source": [
    "test_result = algorithm(data_test, limit_step=20)"
   ]
  },
  {
   "cell_type": "code",
   "execution_count": 276,
   "metadata": {},
   "outputs": [
    {
     "data": {
      "text/html": [
       "<div>\n",
       "<style scoped>\n",
       "    .dataframe tbody tr th:only-of-type {\n",
       "        vertical-align: middle;\n",
       "    }\n",
       "\n",
       "    .dataframe tbody tr th {\n",
       "        vertical-align: top;\n",
       "    }\n",
       "\n",
       "    .dataframe thead th {\n",
       "        text-align: right;\n",
       "    }\n",
       "</style>\n",
       "<table border=\"1\" class=\"dataframe\">\n",
       "  <thead>\n",
       "    <tr style=\"text-align: right;\">\n",
       "      <th></th>\n",
       "      <th>Rule</th>\n",
       "      <th>EntropyMove</th>\n",
       "      <th>DataType</th>\n",
       "      <th>DescriptionData</th>\n",
       "      <th>MessageSize</th>\n",
       "      <th>AlphabetSize</th>\n",
       "      <th>GrammaticSize</th>\n",
       "      <th>CalcTime</th>\n",
       "    </tr>\n",
       "  </thead>\n",
       "  <tbody>\n",
       "    <tr>\n",
       "      <th>1</th>\n",
       "      <td>AT -&gt; Ô</td>\n",
       "      <td>-0.281469</td>\n",
       "      <td>None</td>\n",
       "      <td>None</td>\n",
       "      <td>9133</td>\n",
       "      <td>5</td>\n",
       "      <td>1</td>\n",
       "      <td>0.069252</td>\n",
       "    </tr>\n",
       "    <tr>\n",
       "      <th>2</th>\n",
       "      <td>CT -&gt; -</td>\n",
       "      <td>-0.212045</td>\n",
       "      <td>None</td>\n",
       "      <td>None</td>\n",
       "      <td>8512</td>\n",
       "      <td>6</td>\n",
       "      <td>2</td>\n",
       "      <td>0.089968</td>\n",
       "    </tr>\n",
       "    <tr>\n",
       "      <th>3</th>\n",
       "      <td>AG -&gt; X</td>\n",
       "      <td>-0.238370</td>\n",
       "      <td>None</td>\n",
       "      <td>None</td>\n",
       "      <td>7933</td>\n",
       "      <td>7</td>\n",
       "      <td>3</td>\n",
       "      <td>0.116999</td>\n",
       "    </tr>\n",
       "    <tr>\n",
       "      <th>4</th>\n",
       "      <td>CG -&gt; Ö</td>\n",
       "      <td>-0.181157</td>\n",
       "      <td>None</td>\n",
       "      <td>None</td>\n",
       "      <td>7493</td>\n",
       "      <td>8</td>\n",
       "      <td>4</td>\n",
       "      <td>0.148036</td>\n",
       "    </tr>\n",
       "    <tr>\n",
       "      <th>5</th>\n",
       "      <td>AA -&gt; ö</td>\n",
       "      <td>-0.153603</td>\n",
       "      <td>None</td>\n",
       "      <td>None</td>\n",
       "      <td>7157</td>\n",
       "      <td>9</td>\n",
       "      <td>5</td>\n",
       "      <td>0.161363</td>\n",
       "    </tr>\n",
       "    <tr>\n",
       "      <th>6</th>\n",
       "      <td>TT -&gt; \u001a</td>\n",
       "      <td>-0.166145</td>\n",
       "      <td>None</td>\n",
       "      <td>None</td>\n",
       "      <td>6847</td>\n",
       "      <td>10</td>\n",
       "      <td>6</td>\n",
       "      <td>0.197517</td>\n",
       "    </tr>\n",
       "    <tr>\n",
       "      <th>7</th>\n",
       "      <td>TG -&gt; H</td>\n",
       "      <td>-0.121708</td>\n",
       "      <td>None</td>\n",
       "      <td>None</td>\n",
       "      <td>6600</td>\n",
       "      <td>11</td>\n",
       "      <td>7</td>\n",
       "      <td>0.210859</td>\n",
       "    </tr>\n",
       "    <tr>\n",
       "      <th>8</th>\n",
       "      <td>AC -&gt; m</td>\n",
       "      <td>-0.130753</td>\n",
       "      <td>None</td>\n",
       "      <td>None</td>\n",
       "      <td>6355</td>\n",
       "      <td>12</td>\n",
       "      <td>8</td>\n",
       "      <td>0.250985</td>\n",
       "    </tr>\n",
       "    <tr>\n",
       "      <th>9</th>\n",
       "      <td>ÔG -&gt; P</td>\n",
       "      <td>-0.109946</td>\n",
       "      <td>None</td>\n",
       "      <td>None</td>\n",
       "      <td>6182</td>\n",
       "      <td>13</td>\n",
       "      <td>9</td>\n",
       "      <td>0.288847</td>\n",
       "    </tr>\n",
       "    <tr>\n",
       "      <th>10</th>\n",
       "      <td>CC -&gt; ¾</td>\n",
       "      <td>-0.100875</td>\n",
       "      <td>None</td>\n",
       "      <td>None</td>\n",
       "      <td>6028</td>\n",
       "      <td>14</td>\n",
       "      <td>10</td>\n",
       "      <td>0.329587</td>\n",
       "    </tr>\n",
       "    <tr>\n",
       "      <th>11</th>\n",
       "      <td>-G -&gt; ]</td>\n",
       "      <td>-0.086221</td>\n",
       "      <td>None</td>\n",
       "      <td>None</td>\n",
       "      <td>5890</td>\n",
       "      <td>15</td>\n",
       "      <td>11</td>\n",
       "      <td>0.360557</td>\n",
       "    </tr>\n",
       "    <tr>\n",
       "      <th>12</th>\n",
       "      <td>ÔT -&gt; </td>\n",
       "      <td>-0.090340</td>\n",
       "      <td>None</td>\n",
       "      <td>None</td>\n",
       "      <td>5756</td>\n",
       "      <td>16</td>\n",
       "      <td>12</td>\n",
       "      <td>0.407590</td>\n",
       "    </tr>\n",
       "    <tr>\n",
       "      <th>13</th>\n",
       "      <td>AX -&gt; \b</td>\n",
       "      <td>-0.081451</td>\n",
       "      <td>None</td>\n",
       "      <td>None</td>\n",
       "      <td>5633</td>\n",
       "      <td>17</td>\n",
       "      <td>13</td>\n",
       "      <td>0.447422</td>\n",
       "    </tr>\n",
       "    <tr>\n",
       "      <th>14</th>\n",
       "      <td>AÔ -&gt; ¶</td>\n",
       "      <td>-0.068590</td>\n",
       "      <td>None</td>\n",
       "      <td>None</td>\n",
       "      <td>5529</td>\n",
       "      <td>18</td>\n",
       "      <td>14</td>\n",
       "      <td>0.498389</td>\n",
       "    </tr>\n",
       "    <tr>\n",
       "      <th>15</th>\n",
       "      <td>ÖG -&gt; ¤</td>\n",
       "      <td>-0.068541</td>\n",
       "      <td>None</td>\n",
       "      <td>None</td>\n",
       "      <td>5430</td>\n",
       "      <td>19</td>\n",
       "      <td>15</td>\n",
       "      <td>0.599720</td>\n",
       "    </tr>\n",
       "    <tr>\n",
       "      <th>16</th>\n",
       "      <td>CX -&gt; n</td>\n",
       "      <td>-0.067380</td>\n",
       "      <td>None</td>\n",
       "      <td>None</td>\n",
       "      <td>5347</td>\n",
       "      <td>20</td>\n",
       "      <td>16</td>\n",
       "      <td>0.642358</td>\n",
       "    </tr>\n",
       "    <tr>\n",
       "      <th>17</th>\n",
       "      <td>-T -&gt; &amp;</td>\n",
       "      <td>-0.066613</td>\n",
       "      <td>None</td>\n",
       "      <td>None</td>\n",
       "      <td>5264</td>\n",
       "      <td>21</td>\n",
       "      <td>17</td>\n",
       "      <td>0.729048</td>\n",
       "    </tr>\n",
       "    <tr>\n",
       "      <th>18</th>\n",
       "      <td>CÔ -&gt; ÷</td>\n",
       "      <td>-0.065977</td>\n",
       "      <td>None</td>\n",
       "      <td>None</td>\n",
       "      <td>5185</td>\n",
       "      <td>22</td>\n",
       "      <td>18</td>\n",
       "      <td>0.792006</td>\n",
       "    </tr>\n",
       "    <tr>\n",
       "      <th>19</th>\n",
       "      <td>XG -&gt; O</td>\n",
       "      <td>-0.058821</td>\n",
       "      <td>None</td>\n",
       "      <td>None</td>\n",
       "      <td>5109</td>\n",
       "      <td>23</td>\n",
       "      <td>19</td>\n",
       "      <td>0.779772</td>\n",
       "    </tr>\n",
       "    <tr>\n",
       "      <th>20</th>\n",
       "      <td>A- -&gt; ~</td>\n",
       "      <td>-0.060580</td>\n",
       "      <td>None</td>\n",
       "      <td>None</td>\n",
       "      <td>5020</td>\n",
       "      <td>24</td>\n",
       "      <td>20</td>\n",
       "      <td>0.882017</td>\n",
       "    </tr>\n",
       "  </tbody>\n",
       "</table>\n",
       "</div>"
      ],
      "text/plain": [
       "       Rule  EntropyMove DataType DescriptionData  MessageSize  AlphabetSize  \\\n",
       "1   AT -> Ô    -0.281469     None            None         9133             5   \n",
       "2   CT -> -    -0.212045     None            None         8512             6   \n",
       "3   AG -> X    -0.238370     None            None         7933             7   \n",
       "4   CG -> Ö    -0.181157     None            None         7493             8   \n",
       "5   AA -> ö    -0.153603     None            None         7157             9   \n",
       "6   TT -> \u001a    -0.166145     None            None         6847            10   \n",
       "7   TG -> H    -0.121708     None            None         6600            11   \n",
       "8   AC -> m    -0.130753     None            None         6355            12   \n",
       "9   ÔG -> P    -0.109946     None            None         6182            13   \n",
       "10  CC -> ¾    -0.100875     None            None         6028            14   \n",
       "11  -G -> ]    -0.086221     None            None         5890            15   \n",
       "12  ÔT ->     -0.090340     None            None         5756            16   \n",
       "13  AX -> \b    -0.081451     None            None         5633            17   \n",
       "14  AÔ -> ¶    -0.068590     None            None         5529            18   \n",
       "15  ÖG -> ¤    -0.068541     None            None         5430            19   \n",
       "16  CX -> n    -0.067380     None            None         5347            20   \n",
       "17  -T -> &    -0.066613     None            None         5264            21   \n",
       "18  CÔ -> ÷    -0.065977     None            None         5185            22   \n",
       "19  XG -> O    -0.058821     None            None         5109            23   \n",
       "20  A- -> ~    -0.060580     None            None         5020            24   \n",
       "\n",
       "    GrammaticSize  CalcTime  \n",
       "1               1  0.069252  \n",
       "2               2  0.089968  \n",
       "3               3  0.116999  \n",
       "4               4  0.148036  \n",
       "5               5  0.161363  \n",
       "6               6  0.197517  \n",
       "7               7  0.210859  \n",
       "8               8  0.250985  \n",
       "9               9  0.288847  \n",
       "10             10  0.329587  \n",
       "11             11  0.360557  \n",
       "12             12  0.407590  \n",
       "13             13  0.447422  \n",
       "14             14  0.498389  \n",
       "15             15  0.599720  \n",
       "16             16  0.642358  \n",
       "17             17  0.729048  \n",
       "18             18  0.792006  \n",
       "19             19  0.779772  \n",
       "20             20  0.882017  "
      ]
     },
     "execution_count": 276,
     "metadata": {},
     "output_type": "execute_result"
    }
   ],
   "source": [
    "df = pd.DataFrame.from_dict(test_result, orient=\"index\")\n",
    "df"
   ]
  },
  {
   "cell_type": "code",
   "execution_count": 278,
   "metadata": {},
   "outputs": [
    {
     "data": {
      "application/vnd.plotly.v1+json": {
       "config": {
        "plotlyServerURL": "https://plot.ly"
       },
       "data": [
        {
         "hovertemplate": "index=%{x}<br>EntropyMove=%{y}<br>text=%{text}<extra></extra>",
         "legendgroup": "",
         "line": {
          "color": "#636efa",
          "dash": "solid"
         },
         "marker": {
          "symbol": "circle"
         },
         "mode": "text+markers+lines",
         "name": "",
         "orientation": "v",
         "showlegend": false,
         "text": [
          "-0.281",
          "-0.212",
          "-0.238",
          "-0.181",
          "-0.154",
          "-0.166",
          "-0.122",
          "-0.131",
          "-0.110",
          "-0.101",
          "-0.086",
          "-0.090",
          "-0.081",
          "-0.069",
          "-0.069",
          "-0.067",
          "-0.067",
          "-0.066",
          "-0.059",
          "-0.061"
         ],
         "type": "scatter",
         "x": [
          1,
          2,
          3,
          4,
          5,
          6,
          7,
          8,
          9,
          10,
          11,
          12,
          13,
          14,
          15,
          16,
          17,
          18,
          19,
          20
         ],
         "xaxis": "x",
         "y": [
          -0.2814694848677286,
          -0.21204455920633736,
          -0.23836966213578048,
          -0.1811570021525113,
          -0.15360340151676288,
          -0.166144855268906,
          -0.12170770931776653,
          -0.130752729823143,
          -0.10994624353055826,
          -0.10087481303997192,
          -0.08622129236335896,
          -0.09034042587684388,
          -0.08145095807199798,
          -0.06858987784072523,
          -0.06854056589243207,
          -0.06737970986149922,
          -0.06661271067990526,
          -0.06597656445209488,
          -0.058821270680549986,
          -0.060579919005220084
         ],
         "yaxis": "y"
        }
       ],
       "layout": {
        "legend": {
         "tracegroupgap": 0
        },
        "margin": {
         "t": 60
        },
        "template": {
         "data": {
          "bar": [
           {
            "error_x": {
             "color": "#2a3f5f"
            },
            "error_y": {
             "color": "#2a3f5f"
            },
            "marker": {
             "line": {
              "color": "#E5ECF6",
              "width": 0.5
             },
             "pattern": {
              "fillmode": "overlay",
              "size": 10,
              "solidity": 0.2
             }
            },
            "type": "bar"
           }
          ],
          "barpolar": [
           {
            "marker": {
             "line": {
              "color": "#E5ECF6",
              "width": 0.5
             },
             "pattern": {
              "fillmode": "overlay",
              "size": 10,
              "solidity": 0.2
             }
            },
            "type": "barpolar"
           }
          ],
          "carpet": [
           {
            "aaxis": {
             "endlinecolor": "#2a3f5f",
             "gridcolor": "white",
             "linecolor": "white",
             "minorgridcolor": "white",
             "startlinecolor": "#2a3f5f"
            },
            "baxis": {
             "endlinecolor": "#2a3f5f",
             "gridcolor": "white",
             "linecolor": "white",
             "minorgridcolor": "white",
             "startlinecolor": "#2a3f5f"
            },
            "type": "carpet"
           }
          ],
          "choropleth": [
           {
            "colorbar": {
             "outlinewidth": 0,
             "ticks": ""
            },
            "type": "choropleth"
           }
          ],
          "contour": [
           {
            "colorbar": {
             "outlinewidth": 0,
             "ticks": ""
            },
            "colorscale": [
             [
              0,
              "#0d0887"
             ],
             [
              0.1111111111111111,
              "#46039f"
             ],
             [
              0.2222222222222222,
              "#7201a8"
             ],
             [
              0.3333333333333333,
              "#9c179e"
             ],
             [
              0.4444444444444444,
              "#bd3786"
             ],
             [
              0.5555555555555556,
              "#d8576b"
             ],
             [
              0.6666666666666666,
              "#ed7953"
             ],
             [
              0.7777777777777778,
              "#fb9f3a"
             ],
             [
              0.8888888888888888,
              "#fdca26"
             ],
             [
              1,
              "#f0f921"
             ]
            ],
            "type": "contour"
           }
          ],
          "contourcarpet": [
           {
            "colorbar": {
             "outlinewidth": 0,
             "ticks": ""
            },
            "type": "contourcarpet"
           }
          ],
          "heatmap": [
           {
            "colorbar": {
             "outlinewidth": 0,
             "ticks": ""
            },
            "colorscale": [
             [
              0,
              "#0d0887"
             ],
             [
              0.1111111111111111,
              "#46039f"
             ],
             [
              0.2222222222222222,
              "#7201a8"
             ],
             [
              0.3333333333333333,
              "#9c179e"
             ],
             [
              0.4444444444444444,
              "#bd3786"
             ],
             [
              0.5555555555555556,
              "#d8576b"
             ],
             [
              0.6666666666666666,
              "#ed7953"
             ],
             [
              0.7777777777777778,
              "#fb9f3a"
             ],
             [
              0.8888888888888888,
              "#fdca26"
             ],
             [
              1,
              "#f0f921"
             ]
            ],
            "type": "heatmap"
           }
          ],
          "heatmapgl": [
           {
            "colorbar": {
             "outlinewidth": 0,
             "ticks": ""
            },
            "colorscale": [
             [
              0,
              "#0d0887"
             ],
             [
              0.1111111111111111,
              "#46039f"
             ],
             [
              0.2222222222222222,
              "#7201a8"
             ],
             [
              0.3333333333333333,
              "#9c179e"
             ],
             [
              0.4444444444444444,
              "#bd3786"
             ],
             [
              0.5555555555555556,
              "#d8576b"
             ],
             [
              0.6666666666666666,
              "#ed7953"
             ],
             [
              0.7777777777777778,
              "#fb9f3a"
             ],
             [
              0.8888888888888888,
              "#fdca26"
             ],
             [
              1,
              "#f0f921"
             ]
            ],
            "type": "heatmapgl"
           }
          ],
          "histogram": [
           {
            "marker": {
             "pattern": {
              "fillmode": "overlay",
              "size": 10,
              "solidity": 0.2
             }
            },
            "type": "histogram"
           }
          ],
          "histogram2d": [
           {
            "colorbar": {
             "outlinewidth": 0,
             "ticks": ""
            },
            "colorscale": [
             [
              0,
              "#0d0887"
             ],
             [
              0.1111111111111111,
              "#46039f"
             ],
             [
              0.2222222222222222,
              "#7201a8"
             ],
             [
              0.3333333333333333,
              "#9c179e"
             ],
             [
              0.4444444444444444,
              "#bd3786"
             ],
             [
              0.5555555555555556,
              "#d8576b"
             ],
             [
              0.6666666666666666,
              "#ed7953"
             ],
             [
              0.7777777777777778,
              "#fb9f3a"
             ],
             [
              0.8888888888888888,
              "#fdca26"
             ],
             [
              1,
              "#f0f921"
             ]
            ],
            "type": "histogram2d"
           }
          ],
          "histogram2dcontour": [
           {
            "colorbar": {
             "outlinewidth": 0,
             "ticks": ""
            },
            "colorscale": [
             [
              0,
              "#0d0887"
             ],
             [
              0.1111111111111111,
              "#46039f"
             ],
             [
              0.2222222222222222,
              "#7201a8"
             ],
             [
              0.3333333333333333,
              "#9c179e"
             ],
             [
              0.4444444444444444,
              "#bd3786"
             ],
             [
              0.5555555555555556,
              "#d8576b"
             ],
             [
              0.6666666666666666,
              "#ed7953"
             ],
             [
              0.7777777777777778,
              "#fb9f3a"
             ],
             [
              0.8888888888888888,
              "#fdca26"
             ],
             [
              1,
              "#f0f921"
             ]
            ],
            "type": "histogram2dcontour"
           }
          ],
          "mesh3d": [
           {
            "colorbar": {
             "outlinewidth": 0,
             "ticks": ""
            },
            "type": "mesh3d"
           }
          ],
          "parcoords": [
           {
            "line": {
             "colorbar": {
              "outlinewidth": 0,
              "ticks": ""
             }
            },
            "type": "parcoords"
           }
          ],
          "pie": [
           {
            "automargin": true,
            "type": "pie"
           }
          ],
          "scatter": [
           {
            "marker": {
             "colorbar": {
              "outlinewidth": 0,
              "ticks": ""
             }
            },
            "type": "scatter"
           }
          ],
          "scatter3d": [
           {
            "line": {
             "colorbar": {
              "outlinewidth": 0,
              "ticks": ""
             }
            },
            "marker": {
             "colorbar": {
              "outlinewidth": 0,
              "ticks": ""
             }
            },
            "type": "scatter3d"
           }
          ],
          "scattercarpet": [
           {
            "marker": {
             "colorbar": {
              "outlinewidth": 0,
              "ticks": ""
             }
            },
            "type": "scattercarpet"
           }
          ],
          "scattergeo": [
           {
            "marker": {
             "colorbar": {
              "outlinewidth": 0,
              "ticks": ""
             }
            },
            "type": "scattergeo"
           }
          ],
          "scattergl": [
           {
            "marker": {
             "colorbar": {
              "outlinewidth": 0,
              "ticks": ""
             }
            },
            "type": "scattergl"
           }
          ],
          "scattermapbox": [
           {
            "marker": {
             "colorbar": {
              "outlinewidth": 0,
              "ticks": ""
             }
            },
            "type": "scattermapbox"
           }
          ],
          "scatterpolar": [
           {
            "marker": {
             "colorbar": {
              "outlinewidth": 0,
              "ticks": ""
             }
            },
            "type": "scatterpolar"
           }
          ],
          "scatterpolargl": [
           {
            "marker": {
             "colorbar": {
              "outlinewidth": 0,
              "ticks": ""
             }
            },
            "type": "scatterpolargl"
           }
          ],
          "scatterternary": [
           {
            "marker": {
             "colorbar": {
              "outlinewidth": 0,
              "ticks": ""
             }
            },
            "type": "scatterternary"
           }
          ],
          "surface": [
           {
            "colorbar": {
             "outlinewidth": 0,
             "ticks": ""
            },
            "colorscale": [
             [
              0,
              "#0d0887"
             ],
             [
              0.1111111111111111,
              "#46039f"
             ],
             [
              0.2222222222222222,
              "#7201a8"
             ],
             [
              0.3333333333333333,
              "#9c179e"
             ],
             [
              0.4444444444444444,
              "#bd3786"
             ],
             [
              0.5555555555555556,
              "#d8576b"
             ],
             [
              0.6666666666666666,
              "#ed7953"
             ],
             [
              0.7777777777777778,
              "#fb9f3a"
             ],
             [
              0.8888888888888888,
              "#fdca26"
             ],
             [
              1,
              "#f0f921"
             ]
            ],
            "type": "surface"
           }
          ],
          "table": [
           {
            "cells": {
             "fill": {
              "color": "#EBF0F8"
             },
             "line": {
              "color": "white"
             }
            },
            "header": {
             "fill": {
              "color": "#C8D4E3"
             },
             "line": {
              "color": "white"
             }
            },
            "type": "table"
           }
          ]
         },
         "layout": {
          "annotationdefaults": {
           "arrowcolor": "#2a3f5f",
           "arrowhead": 0,
           "arrowwidth": 1
          },
          "autotypenumbers": "strict",
          "coloraxis": {
           "colorbar": {
            "outlinewidth": 0,
            "ticks": ""
           }
          },
          "colorscale": {
           "diverging": [
            [
             0,
             "#8e0152"
            ],
            [
             0.1,
             "#c51b7d"
            ],
            [
             0.2,
             "#de77ae"
            ],
            [
             0.3,
             "#f1b6da"
            ],
            [
             0.4,
             "#fde0ef"
            ],
            [
             0.5,
             "#f7f7f7"
            ],
            [
             0.6,
             "#e6f5d0"
            ],
            [
             0.7,
             "#b8e186"
            ],
            [
             0.8,
             "#7fbc41"
            ],
            [
             0.9,
             "#4d9221"
            ],
            [
             1,
             "#276419"
            ]
           ],
           "sequential": [
            [
             0,
             "#0d0887"
            ],
            [
             0.1111111111111111,
             "#46039f"
            ],
            [
             0.2222222222222222,
             "#7201a8"
            ],
            [
             0.3333333333333333,
             "#9c179e"
            ],
            [
             0.4444444444444444,
             "#bd3786"
            ],
            [
             0.5555555555555556,
             "#d8576b"
            ],
            [
             0.6666666666666666,
             "#ed7953"
            ],
            [
             0.7777777777777778,
             "#fb9f3a"
            ],
            [
             0.8888888888888888,
             "#fdca26"
            ],
            [
             1,
             "#f0f921"
            ]
           ],
           "sequentialminus": [
            [
             0,
             "#0d0887"
            ],
            [
             0.1111111111111111,
             "#46039f"
            ],
            [
             0.2222222222222222,
             "#7201a8"
            ],
            [
             0.3333333333333333,
             "#9c179e"
            ],
            [
             0.4444444444444444,
             "#bd3786"
            ],
            [
             0.5555555555555556,
             "#d8576b"
            ],
            [
             0.6666666666666666,
             "#ed7953"
            ],
            [
             0.7777777777777778,
             "#fb9f3a"
            ],
            [
             0.8888888888888888,
             "#fdca26"
            ],
            [
             1,
             "#f0f921"
            ]
           ]
          },
          "colorway": [
           "#636efa",
           "#EF553B",
           "#00cc96",
           "#ab63fa",
           "#FFA15A",
           "#19d3f3",
           "#FF6692",
           "#B6E880",
           "#FF97FF",
           "#FECB52"
          ],
          "font": {
           "color": "#2a3f5f"
          },
          "geo": {
           "bgcolor": "white",
           "lakecolor": "white",
           "landcolor": "#E5ECF6",
           "showlakes": true,
           "showland": true,
           "subunitcolor": "white"
          },
          "hoverlabel": {
           "align": "left"
          },
          "hovermode": "closest",
          "mapbox": {
           "style": "light"
          },
          "paper_bgcolor": "white",
          "plot_bgcolor": "#E5ECF6",
          "polar": {
           "angularaxis": {
            "gridcolor": "white",
            "linecolor": "white",
            "ticks": ""
           },
           "bgcolor": "#E5ECF6",
           "radialaxis": {
            "gridcolor": "white",
            "linecolor": "white",
            "ticks": ""
           }
          },
          "scene": {
           "xaxis": {
            "backgroundcolor": "#E5ECF6",
            "gridcolor": "white",
            "gridwidth": 2,
            "linecolor": "white",
            "showbackground": true,
            "ticks": "",
            "zerolinecolor": "white"
           },
           "yaxis": {
            "backgroundcolor": "#E5ECF6",
            "gridcolor": "white",
            "gridwidth": 2,
            "linecolor": "white",
            "showbackground": true,
            "ticks": "",
            "zerolinecolor": "white"
           },
           "zaxis": {
            "backgroundcolor": "#E5ECF6",
            "gridcolor": "white",
            "gridwidth": 2,
            "linecolor": "white",
            "showbackground": true,
            "ticks": "",
            "zerolinecolor": "white"
           }
          },
          "shapedefaults": {
           "line": {
            "color": "#2a3f5f"
           }
          },
          "ternary": {
           "aaxis": {
            "gridcolor": "white",
            "linecolor": "white",
            "ticks": ""
           },
           "baxis": {
            "gridcolor": "white",
            "linecolor": "white",
            "ticks": ""
           },
           "bgcolor": "#E5ECF6",
           "caxis": {
            "gridcolor": "white",
            "linecolor": "white",
            "ticks": ""
           }
          },
          "title": {
           "x": 0.05
          },
          "xaxis": {
           "automargin": true,
           "gridcolor": "white",
           "linecolor": "white",
           "ticks": "",
           "title": {
            "standoff": 15
           },
           "zerolinecolor": "white",
           "zerolinewidth": 2
          },
          "yaxis": {
           "automargin": true,
           "gridcolor": "white",
           "linecolor": "white",
           "ticks": "",
           "title": {
            "standoff": 15
           },
           "zerolinecolor": "white",
           "zerolinewidth": 2
          }
         }
        },
        "xaxis": {
         "anchor": "y",
         "domain": [
          0,
          1
         ],
         "title": {
          "text": "index"
         }
        },
        "yaxis": {
         "anchor": "x",
         "domain": [
          0,
          1
         ],
         "title": {
          "text": "EntropyMove"
         }
        }
       }
      }
     },
     "metadata": {},
     "output_type": "display_data"
    }
   ],
   "source": [
    "fig = px.line(df, x=df.index, y=df.EntropyMove, text=[(\"%.3f\" % x) for x in df.EntropyMove.values], title='Entropy paradox')\n",
    "fig.show()"
   ]
  },
  {
   "cell_type": "code",
   "execution_count": 283,
   "metadata": {},
   "outputs": [
    {
     "data": {
      "application/vnd.plotly.v1+json": {
       "config": {
        "plotlyServerURL": "https://plot.ly"
       },
       "data": [
        {
         "hovertemplate": "index=%{x}<br>MessageSize=%{text}<extra></extra>",
         "legendgroup": "",
         "line": {
          "color": "#636efa",
          "dash": "solid"
         },
         "marker": {
          "symbol": "circle"
         },
         "mode": "text+markers+lines",
         "name": "",
         "orientation": "v",
         "showlegend": false,
         "text": [
          9133,
          8512,
          7933,
          7493,
          7157,
          6847,
          6600,
          6355,
          6182,
          6028,
          5890,
          5756,
          5633,
          5529,
          5430,
          5347,
          5264,
          5185,
          5109,
          5020
         ],
         "type": "scatter",
         "x": [
          1,
          2,
          3,
          4,
          5,
          6,
          7,
          8,
          9,
          10,
          11,
          12,
          13,
          14,
          15,
          16,
          17,
          18,
          19,
          20
         ],
         "xaxis": "x",
         "y": [
          9133,
          8512,
          7933,
          7493,
          7157,
          6847,
          6600,
          6355,
          6182,
          6028,
          5890,
          5756,
          5633,
          5529,
          5430,
          5347,
          5264,
          5185,
          5109,
          5020
         ],
         "yaxis": "y"
        }
       ],
       "layout": {
        "legend": {
         "tracegroupgap": 0
        },
        "template": {
         "data": {
          "bar": [
           {
            "error_x": {
             "color": "#2a3f5f"
            },
            "error_y": {
             "color": "#2a3f5f"
            },
            "marker": {
             "line": {
              "color": "#E5ECF6",
              "width": 0.5
             },
             "pattern": {
              "fillmode": "overlay",
              "size": 10,
              "solidity": 0.2
             }
            },
            "type": "bar"
           }
          ],
          "barpolar": [
           {
            "marker": {
             "line": {
              "color": "#E5ECF6",
              "width": 0.5
             },
             "pattern": {
              "fillmode": "overlay",
              "size": 10,
              "solidity": 0.2
             }
            },
            "type": "barpolar"
           }
          ],
          "carpet": [
           {
            "aaxis": {
             "endlinecolor": "#2a3f5f",
             "gridcolor": "white",
             "linecolor": "white",
             "minorgridcolor": "white",
             "startlinecolor": "#2a3f5f"
            },
            "baxis": {
             "endlinecolor": "#2a3f5f",
             "gridcolor": "white",
             "linecolor": "white",
             "minorgridcolor": "white",
             "startlinecolor": "#2a3f5f"
            },
            "type": "carpet"
           }
          ],
          "choropleth": [
           {
            "colorbar": {
             "outlinewidth": 0,
             "ticks": ""
            },
            "type": "choropleth"
           }
          ],
          "contour": [
           {
            "colorbar": {
             "outlinewidth": 0,
             "ticks": ""
            },
            "colorscale": [
             [
              0,
              "#0d0887"
             ],
             [
              0.1111111111111111,
              "#46039f"
             ],
             [
              0.2222222222222222,
              "#7201a8"
             ],
             [
              0.3333333333333333,
              "#9c179e"
             ],
             [
              0.4444444444444444,
              "#bd3786"
             ],
             [
              0.5555555555555556,
              "#d8576b"
             ],
             [
              0.6666666666666666,
              "#ed7953"
             ],
             [
              0.7777777777777778,
              "#fb9f3a"
             ],
             [
              0.8888888888888888,
              "#fdca26"
             ],
             [
              1,
              "#f0f921"
             ]
            ],
            "type": "contour"
           }
          ],
          "contourcarpet": [
           {
            "colorbar": {
             "outlinewidth": 0,
             "ticks": ""
            },
            "type": "contourcarpet"
           }
          ],
          "heatmap": [
           {
            "colorbar": {
             "outlinewidth": 0,
             "ticks": ""
            },
            "colorscale": [
             [
              0,
              "#0d0887"
             ],
             [
              0.1111111111111111,
              "#46039f"
             ],
             [
              0.2222222222222222,
              "#7201a8"
             ],
             [
              0.3333333333333333,
              "#9c179e"
             ],
             [
              0.4444444444444444,
              "#bd3786"
             ],
             [
              0.5555555555555556,
              "#d8576b"
             ],
             [
              0.6666666666666666,
              "#ed7953"
             ],
             [
              0.7777777777777778,
              "#fb9f3a"
             ],
             [
              0.8888888888888888,
              "#fdca26"
             ],
             [
              1,
              "#f0f921"
             ]
            ],
            "type": "heatmap"
           }
          ],
          "heatmapgl": [
           {
            "colorbar": {
             "outlinewidth": 0,
             "ticks": ""
            },
            "colorscale": [
             [
              0,
              "#0d0887"
             ],
             [
              0.1111111111111111,
              "#46039f"
             ],
             [
              0.2222222222222222,
              "#7201a8"
             ],
             [
              0.3333333333333333,
              "#9c179e"
             ],
             [
              0.4444444444444444,
              "#bd3786"
             ],
             [
              0.5555555555555556,
              "#d8576b"
             ],
             [
              0.6666666666666666,
              "#ed7953"
             ],
             [
              0.7777777777777778,
              "#fb9f3a"
             ],
             [
              0.8888888888888888,
              "#fdca26"
             ],
             [
              1,
              "#f0f921"
             ]
            ],
            "type": "heatmapgl"
           }
          ],
          "histogram": [
           {
            "marker": {
             "pattern": {
              "fillmode": "overlay",
              "size": 10,
              "solidity": 0.2
             }
            },
            "type": "histogram"
           }
          ],
          "histogram2d": [
           {
            "colorbar": {
             "outlinewidth": 0,
             "ticks": ""
            },
            "colorscale": [
             [
              0,
              "#0d0887"
             ],
             [
              0.1111111111111111,
              "#46039f"
             ],
             [
              0.2222222222222222,
              "#7201a8"
             ],
             [
              0.3333333333333333,
              "#9c179e"
             ],
             [
              0.4444444444444444,
              "#bd3786"
             ],
             [
              0.5555555555555556,
              "#d8576b"
             ],
             [
              0.6666666666666666,
              "#ed7953"
             ],
             [
              0.7777777777777778,
              "#fb9f3a"
             ],
             [
              0.8888888888888888,
              "#fdca26"
             ],
             [
              1,
              "#f0f921"
             ]
            ],
            "type": "histogram2d"
           }
          ],
          "histogram2dcontour": [
           {
            "colorbar": {
             "outlinewidth": 0,
             "ticks": ""
            },
            "colorscale": [
             [
              0,
              "#0d0887"
             ],
             [
              0.1111111111111111,
              "#46039f"
             ],
             [
              0.2222222222222222,
              "#7201a8"
             ],
             [
              0.3333333333333333,
              "#9c179e"
             ],
             [
              0.4444444444444444,
              "#bd3786"
             ],
             [
              0.5555555555555556,
              "#d8576b"
             ],
             [
              0.6666666666666666,
              "#ed7953"
             ],
             [
              0.7777777777777778,
              "#fb9f3a"
             ],
             [
              0.8888888888888888,
              "#fdca26"
             ],
             [
              1,
              "#f0f921"
             ]
            ],
            "type": "histogram2dcontour"
           }
          ],
          "mesh3d": [
           {
            "colorbar": {
             "outlinewidth": 0,
             "ticks": ""
            },
            "type": "mesh3d"
           }
          ],
          "parcoords": [
           {
            "line": {
             "colorbar": {
              "outlinewidth": 0,
              "ticks": ""
             }
            },
            "type": "parcoords"
           }
          ],
          "pie": [
           {
            "automargin": true,
            "type": "pie"
           }
          ],
          "scatter": [
           {
            "marker": {
             "colorbar": {
              "outlinewidth": 0,
              "ticks": ""
             }
            },
            "type": "scatter"
           }
          ],
          "scatter3d": [
           {
            "line": {
             "colorbar": {
              "outlinewidth": 0,
              "ticks": ""
             }
            },
            "marker": {
             "colorbar": {
              "outlinewidth": 0,
              "ticks": ""
             }
            },
            "type": "scatter3d"
           }
          ],
          "scattercarpet": [
           {
            "marker": {
             "colorbar": {
              "outlinewidth": 0,
              "ticks": ""
             }
            },
            "type": "scattercarpet"
           }
          ],
          "scattergeo": [
           {
            "marker": {
             "colorbar": {
              "outlinewidth": 0,
              "ticks": ""
             }
            },
            "type": "scattergeo"
           }
          ],
          "scattergl": [
           {
            "marker": {
             "colorbar": {
              "outlinewidth": 0,
              "ticks": ""
             }
            },
            "type": "scattergl"
           }
          ],
          "scattermapbox": [
           {
            "marker": {
             "colorbar": {
              "outlinewidth": 0,
              "ticks": ""
             }
            },
            "type": "scattermapbox"
           }
          ],
          "scatterpolar": [
           {
            "marker": {
             "colorbar": {
              "outlinewidth": 0,
              "ticks": ""
             }
            },
            "type": "scatterpolar"
           }
          ],
          "scatterpolargl": [
           {
            "marker": {
             "colorbar": {
              "outlinewidth": 0,
              "ticks": ""
             }
            },
            "type": "scatterpolargl"
           }
          ],
          "scatterternary": [
           {
            "marker": {
             "colorbar": {
              "outlinewidth": 0,
              "ticks": ""
             }
            },
            "type": "scatterternary"
           }
          ],
          "surface": [
           {
            "colorbar": {
             "outlinewidth": 0,
             "ticks": ""
            },
            "colorscale": [
             [
              0,
              "#0d0887"
             ],
             [
              0.1111111111111111,
              "#46039f"
             ],
             [
              0.2222222222222222,
              "#7201a8"
             ],
             [
              0.3333333333333333,
              "#9c179e"
             ],
             [
              0.4444444444444444,
              "#bd3786"
             ],
             [
              0.5555555555555556,
              "#d8576b"
             ],
             [
              0.6666666666666666,
              "#ed7953"
             ],
             [
              0.7777777777777778,
              "#fb9f3a"
             ],
             [
              0.8888888888888888,
              "#fdca26"
             ],
             [
              1,
              "#f0f921"
             ]
            ],
            "type": "surface"
           }
          ],
          "table": [
           {
            "cells": {
             "fill": {
              "color": "#EBF0F8"
             },
             "line": {
              "color": "white"
             }
            },
            "header": {
             "fill": {
              "color": "#C8D4E3"
             },
             "line": {
              "color": "white"
             }
            },
            "type": "table"
           }
          ]
         },
         "layout": {
          "annotationdefaults": {
           "arrowcolor": "#2a3f5f",
           "arrowhead": 0,
           "arrowwidth": 1
          },
          "autotypenumbers": "strict",
          "coloraxis": {
           "colorbar": {
            "outlinewidth": 0,
            "ticks": ""
           }
          },
          "colorscale": {
           "diverging": [
            [
             0,
             "#8e0152"
            ],
            [
             0.1,
             "#c51b7d"
            ],
            [
             0.2,
             "#de77ae"
            ],
            [
             0.3,
             "#f1b6da"
            ],
            [
             0.4,
             "#fde0ef"
            ],
            [
             0.5,
             "#f7f7f7"
            ],
            [
             0.6,
             "#e6f5d0"
            ],
            [
             0.7,
             "#b8e186"
            ],
            [
             0.8,
             "#7fbc41"
            ],
            [
             0.9,
             "#4d9221"
            ],
            [
             1,
             "#276419"
            ]
           ],
           "sequential": [
            [
             0,
             "#0d0887"
            ],
            [
             0.1111111111111111,
             "#46039f"
            ],
            [
             0.2222222222222222,
             "#7201a8"
            ],
            [
             0.3333333333333333,
             "#9c179e"
            ],
            [
             0.4444444444444444,
             "#bd3786"
            ],
            [
             0.5555555555555556,
             "#d8576b"
            ],
            [
             0.6666666666666666,
             "#ed7953"
            ],
            [
             0.7777777777777778,
             "#fb9f3a"
            ],
            [
             0.8888888888888888,
             "#fdca26"
            ],
            [
             1,
             "#f0f921"
            ]
           ],
           "sequentialminus": [
            [
             0,
             "#0d0887"
            ],
            [
             0.1111111111111111,
             "#46039f"
            ],
            [
             0.2222222222222222,
             "#7201a8"
            ],
            [
             0.3333333333333333,
             "#9c179e"
            ],
            [
             0.4444444444444444,
             "#bd3786"
            ],
            [
             0.5555555555555556,
             "#d8576b"
            ],
            [
             0.6666666666666666,
             "#ed7953"
            ],
            [
             0.7777777777777778,
             "#fb9f3a"
            ],
            [
             0.8888888888888888,
             "#fdca26"
            ],
            [
             1,
             "#f0f921"
            ]
           ]
          },
          "colorway": [
           "#636efa",
           "#EF553B",
           "#00cc96",
           "#ab63fa",
           "#FFA15A",
           "#19d3f3",
           "#FF6692",
           "#B6E880",
           "#FF97FF",
           "#FECB52"
          ],
          "font": {
           "color": "#2a3f5f"
          },
          "geo": {
           "bgcolor": "white",
           "lakecolor": "white",
           "landcolor": "#E5ECF6",
           "showlakes": true,
           "showland": true,
           "subunitcolor": "white"
          },
          "hoverlabel": {
           "align": "left"
          },
          "hovermode": "closest",
          "mapbox": {
           "style": "light"
          },
          "paper_bgcolor": "white",
          "plot_bgcolor": "#E5ECF6",
          "polar": {
           "angularaxis": {
            "gridcolor": "white",
            "linecolor": "white",
            "ticks": ""
           },
           "bgcolor": "#E5ECF6",
           "radialaxis": {
            "gridcolor": "white",
            "linecolor": "white",
            "ticks": ""
           }
          },
          "scene": {
           "xaxis": {
            "backgroundcolor": "#E5ECF6",
            "gridcolor": "white",
            "gridwidth": 2,
            "linecolor": "white",
            "showbackground": true,
            "ticks": "",
            "zerolinecolor": "white"
           },
           "yaxis": {
            "backgroundcolor": "#E5ECF6",
            "gridcolor": "white",
            "gridwidth": 2,
            "linecolor": "white",
            "showbackground": true,
            "ticks": "",
            "zerolinecolor": "white"
           },
           "zaxis": {
            "backgroundcolor": "#E5ECF6",
            "gridcolor": "white",
            "gridwidth": 2,
            "linecolor": "white",
            "showbackground": true,
            "ticks": "",
            "zerolinecolor": "white"
           }
          },
          "shapedefaults": {
           "line": {
            "color": "#2a3f5f"
           }
          },
          "ternary": {
           "aaxis": {
            "gridcolor": "white",
            "linecolor": "white",
            "ticks": ""
           },
           "baxis": {
            "gridcolor": "white",
            "linecolor": "white",
            "ticks": ""
           },
           "bgcolor": "#E5ECF6",
           "caxis": {
            "gridcolor": "white",
            "linecolor": "white",
            "ticks": ""
           }
          },
          "title": {
           "x": 0.05
          },
          "xaxis": {
           "automargin": true,
           "gridcolor": "white",
           "linecolor": "white",
           "ticks": "",
           "title": {
            "standoff": 15
           },
           "zerolinecolor": "white",
           "zerolinewidth": 2
          },
          "yaxis": {
           "automargin": true,
           "gridcolor": "white",
           "linecolor": "white",
           "ticks": "",
           "title": {
            "standoff": 15
           },
           "zerolinecolor": "white",
           "zerolinewidth": 2
          }
         }
        },
        "title": {
         "text": "Message size"
        },
        "xaxis": {
         "anchor": "y",
         "domain": [
          0,
          1
         ],
         "title": {
          "text": "index"
         }
        },
        "yaxis": {
         "anchor": "x",
         "domain": [
          0,
          1
         ],
         "title": {
          "text": "MessageSize"
         }
        }
       }
      }
     },
     "metadata": {},
     "output_type": "display_data"
    }
   ],
   "source": [
    "fig = px.line(df, x=df.index, y=df.MessageSize, text=df.MessageSize, title='Message size')\n",
    "fig.show()\n",
    "#fig.write_image(\"test.png\")"
   ]
  },
  {
   "cell_type": "markdown",
   "metadata": {},
   "source": [
    "# Real experiment data"
   ]
  },
  {
   "cell_type": "code",
   "execution_count": 284,
   "metadata": {},
   "outputs": [],
   "source": [
    "def get_datasets(normalization=None):\n",
    "    return [\n",
    "        (*load_dataset(DataSets.english, normalization), DataSets.english), \n",
    "        (*load_dataset(DataSets.dna, normalization), DataSets.dna),\n",
    "        (*load_dataset(DataSets.proteins, normalization), DataSets.proteins),\n",
    "        (*load_dataset(DataSets.sources, normalization), DataSets.sources),\n",
    "    ]"
   ]
  },
  {
   "cell_type": "code",
   "execution_count": 285,
   "metadata": {},
   "outputs": [],
   "source": [
    "NORM_VALUES = [10000, 20000]\n",
    "CSV_NAME = \"steps.csv\"\n",
    "ENTROPY_GRAPH = \"entropy_paradox.png\"\n",
    "MESSAGE_GRAPH = \"message_size.png\""
   ]
  },
  {
   "cell_type": "code",
   "execution_count": 286,
   "metadata": {},
   "outputs": [],
   "source": [
    "def write_images(df, path):\n",
    "    fig = px.line(df, x=df.index, y=df.EntropyMove, text=[(\"%.3f\" % x) for x in df.EntropyMove.values], title='Entropy paradox')\n",
    "    fig.write_image(os.path.sep.join([path, ENTROPY_GRAPH]))\n",
    "    fig = px.line(df, x=df.index, y=df.MessageSize, text=df.MessageSize, title='Message size')\n",
    "    fig.write_image(os.path.sep.join([path, MESSAGE_GRAPH]))    "
   ]
  },
  {
   "cell_type": "code",
   "execution_count": 287,
   "metadata": {},
   "outputs": [],
   "source": [
    "def save_dataframe(df, path):\n",
    "    path = os.path.sep.join([path, CSV_NAME])\n",
    "    df.to_csv(path, index=False)"
   ]
  },
  {
   "cell_type": "code",
   "execution_count": 292,
   "metadata": {},
   "outputs": [],
   "source": [
    "def run_algorithm_for_datasets(normalization_values=NORM_VALUES, limit_steps=20):\n",
    "    for n_v in normalization_values:\n",
    "\n",
    "        datasets = get_datasets(n_v)\n",
    "\n",
    "        for data, data_path, data_type in datasets:\n",
    "            data_type_string = data_type.value\n",
    "            current_path = os.path.sep.join([data_type_string, str(n_v)])\n",
    "\n",
    "            if not os.path.isdir(current_path):\n",
    "                os.makedirs(current_path)\n",
    "\n",
    "            res = algorithm(data, data_type_string, \"\", limit_step=limit_steps)\n",
    "            df = pd.DataFrame.from_dict(test_result, orient=\"index\")\n",
    "\n",
    "            save_dataframe(df, current_path)\n",
    "            write_images(df, current_path)"
   ]
  },
  {
   "cell_type": "code",
   "execution_count": 293,
   "metadata": {},
   "outputs": [
    {
     "name": "stdout",
     "output_type": "stream",
     "text": [
      "Loading C://Users//Vojta//Desktop//iv//AKS//datasets\\english\\english.50MB\n",
      "Loading C://Users//Vojta//Desktop//iv//AKS//datasets\\dna\\dna.50MB\n",
      "Loading C://Users//Vojta//Desktop//iv//AKS//datasets\\proteins\\proteins.50MB\n",
      "Loading C://Users//Vojta//Desktop//iv//AKS//datasets\\sources\\sources.50MB\n",
      "0 10000\n",
      "1 9734\n",
      "2 9588\n",
      "3 9493\n",
      "4 9407\n",
      "5 9330\n",
      "6 9256\n",
      "7 9185\n",
      "8 9122\n",
      "9 9067\n",
      "10 9009\n",
      "11 8950\n"
     ]
    }
   ],
   "source": [
    "run_algorithm_for_datasets()"
   ]
  }
 ],
 "metadata": {
  "interpreter": {
   "hash": "97e6c85832baaca9363ab02f06d99864db3184f5c282967bd7ef920b2fe63dcd"
  },
  "kernelspec": {
   "display_name": "Python 3.8.1 ('venv': venv)",
   "language": "python",
   "name": "python3"
  },
  "language_info": {
   "codemirror_mode": {
    "name": "ipython",
    "version": 3
   },
   "file_extension": ".py",
   "mimetype": "text/x-python",
   "name": "python",
   "nbconvert_exporter": "python",
   "pygments_lexer": "ipython3",
   "version": "3.8.1"
  },
  "orig_nbformat": 4
 },
 "nbformat": 4,
 "nbformat_minor": 2
}
