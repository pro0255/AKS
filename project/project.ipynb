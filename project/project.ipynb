{
 "cells": [
  {
   "cell_type": "markdown",
   "metadata": {},
   "source": [
    "# Project to AKS"
   ]
  },
  {
   "cell_type": "markdown",
   "metadata": {},
   "source": [
    "## Reference \n",
    "\n",
    "- https://homel.vsb.cz/~vas218/pdf/acs/grammar.pdf\n",
    "- https://homel.vsb.cz/~vas218/pdf/acs/vasinek-thesis.pdf\n",
    "- https://homel.vsb.cz/~vas218/acs.html\n",
    "\n",
    "## Choosen task\n",
    "\n",
    "- Reduction paradox\n",
    "\n",
    "## Description\n",
    "\n",
    "- Try to reduce message and with every step maximaze entropy\n",
    "\n",
    "## Official description \n",
    "\n",
    "- **RePair - maximal anticompression - reduction paradox**\n",
    "    - Find the smallest possible representation(measured in the number of symbols) of file using the reduction paradox which leads to the largest increase of zero order entropy representation.\n",
    "    - Heuristics - largest first, random\n",
    "    - Describe the algorithm and summarize results to a .doc(x) or .pdf report.\n",
    "    - Prepare a presentation for 10 minutes about your method.\n",
    "    - Literature: Vasinek, Dissertation thesis (Chapter 5)\n",
    "\n",
    "## Steps\n",
    "\n",
    "- Load dataset\n",
    "- Can pick a subset for faster running (sample it)\n",
    "- Find every bigram and try to create rule\n",
    "- Calculate Entropy for new message\n",
    "- Need to find rule which reduces size of message but increases entropy (harder to compress)\n",
    "- Find extremes for every file\n",
    "- Show graphs"
   ]
  },
  {
   "cell_type": "code",
   "execution_count": 1,
   "metadata": {},
   "outputs": [],
   "source": [
    "import os\n",
    "import sys\n",
    "\n",
    "def adding_module_path():\n",
    "    module_path = os.path.abspath(os.path.sep.join([\"..\"]*1))\n",
    "\n",
    "    if module_path not in sys.path:\n",
    "        sys.path.append(module_path)\n",
    "\n",
    "adding_module_path()"
   ]
  },
  {
   "cell_type": "code",
   "execution_count": 2,
   "metadata": {},
   "outputs": [],
   "source": [
    "from src.load_data import get_dataset\n",
    "from src.load_data import DataSets\n",
    "from src.get_probs import get_sorted_probs_as_df\n",
    "import numpy as np\n",
    "import pandas as pd\n",
    "import time\n",
    "from src.save import save_both\n",
    "from enum import Enum\n",
    "import re\n",
    "from ast import literal_eval\n",
    "import random\n",
    "import plotly.express as px\n"
   ]
  },
  {
   "cell_type": "code",
   "execution_count": 3,
   "metadata": {},
   "outputs": [],
   "source": [
    "TEST_NORMALIZATION_SIZE = 10000"
   ]
  },
  {
   "cell_type": "code",
   "execution_count": 4,
   "metadata": {},
   "outputs": [],
   "source": [
    "def load_dataset(type, normalization=None):\n",
    "    data_dna, path_dna = get_dataset(type)\n",
    "    if normalization is None:\n",
    "        return data_dna, path_dna\n",
    "    return \"\".join(np.random.choice(list(data_dna), normalization)), path_dna"
   ]
  },
  {
   "cell_type": "code",
   "execution_count": 5,
   "metadata": {},
   "outputs": [],
   "source": [
    "def get_datasets(normalization=None):\n",
    "    return [\n",
    "        #(*get_dataset(DataSets.english, normalization), DataSets.english), \n",
    "        (*load_dataset(DataSets.dna, normalization), DataSets.dna),\n",
    "        #(*load_dataset(DataSets.proteins, normalization), DataSets.proteins),\n",
    "        #(*load_dataset(DataSets.sources, normalization), DataSets.sources),\n",
    "    ]\n"
   ]
  },
  {
   "cell_type": "code",
   "execution_count": 6,
   "metadata": {},
   "outputs": [
    {
     "name": "stdout",
     "output_type": "stream",
     "text": [
      "Loading C://Users//proko//Desktop//University//iv//aks//datasets\\dna\\dna.50MB\n"
     ]
    }
   ],
   "source": [
    "test_datasets = get_datasets(TEST_NORMALIZATION_SIZE)"
   ]
  },
  {
   "cell_type": "code",
   "execution_count": 7,
   "metadata": {},
   "outputs": [
    {
     "data": {
      "text/plain": [
       "[('TTATGTTCCTATCAGTATAGACTGCAGCTGAAAGTTTAGCAGATGCCATCTGAACAGCTCTAATGCTATATAGAAGTAGCTACTCAAAACGTTAGTAATCACGGCTAGCTATACTTGGGAAAAACCTTGCTCGCCCCAGTTGTATTCGCATATGTGCTTCATGGACACATAGATCGACTGGAAACCGTTACTCTAAGTTGGATTCTTGGAAATACGAAATAGGTGATAATCTTGCACGAATCATGAGTCACAACGCAGTATGGAGTGTCGACTCAAGACCCTACATTCACTTACCGGTCCTTAAGTGTAAAAAACGCACATTGGACTAATCAGTGAACGACGTTACTTATGATCCACTGCGTTGAATGTCTGGTTAGACCCGTTATATGTAATTCCGTATTGGGGAATTATCTTAACTCCAGCCTTTTCAATCTTCGAGTGAGTTTGCTTACGGAAGAATGGTATTCTGACATATCGTTCGATATCCTCCCCGAAATAAGCGATTAAGTGGAGAGTAAAGTATCTTCTGGATAGCGGTAGCTGTCGTTCGTTTAAAAGTTGATAGGAAAGATACTTGCCTTCTATCAATGCCATATCAAAAGTGTCTCACAGGCAACGATATCAATAGTGGCCACGTCATCATTGCAATTCGCACAGGCGCATCCCCCTTTGTGTTTCTTGGAAAACTGTGTGCATATTAATAAGTGATTTTGCAGCTTAACCAAGGAACTAATGGATCTCCAGGCATACTGAGTCAGAGAAAAAAACCTGCGTCCCCGGAAGCGTAGCATTTATTTCACAGTTTAGTTTTTGTTGGCATCAAAAGTTTTTTGACTGAGATACAGATTTGGTCAGCGACCCGGACCTCCCGGGTCTGTTTGGTAGAGATTTGCTTACTGTACAAATAGTGATACTCCAACGAGGATTGCAAGATGGTGGTCGCTTCACACTCTTGTAGAGCGGACAGTAGACCTCGCAGAACGATCCTAGACTAATAAAGTATACACTTTTGAACCGATGATTAACAACCACCCTTCGTGACAACACATATGGATGATGAATGTCGTAGACCCGGTGTAGTCCCAAGATGACTACTCCTAGAGTTAACGTAATCCACTGACGGTCGCGGGGATGTACTTGCACCGTACGACTACTCGCAGTAGTAATAGAGCCGAACTAATTCACGTCCCTAGACCCTGCCAATAGCTACCCATTAACAACATGCCTAGTAAGAGAAATTATGAAATTCAGGCAGCTTTTACTATGTCGATACCCCCATTTACTCTAAACCTCTTAGAATTGTGATATAAATTGCACATGGGCGGTAGGAATATTCTTAGGAATCACTTACCACAACAGATTGATCTGGCGATTATTGTGTGAAACTAAAGGGAAGTCAAAGTTGATGGCAGATTGGAGCGAACTGAATTAGGGAATAGGAATATGAAAGGTGCGAGCGGGGCGTTATTTGAGAAGTACGTAAAACGGCTGTAATATTTCGTCAAAAAATACGTTATGAATCTTAGCTGGCTTAGCCAGTGAGGTATGCGTCCACTAAAACGTCTCACAAATTTAAGTGATGCGGTAATATCCAAACTCCTTTCCATAGGGACGTTTAGTTCCGCCTACCGGCCATTGGATAGCACAGTTATCAAATACAAGGCATAGATGTAACCGTAGAATTTTCCTTCCGATAGTGTCACACAGTCTCGTCGAAAAGCAAATGAGTTACTGTTGGAATTACGCTTGCATACATTTAATACGAAGTAAGCTCTGTGAGTTCCACGTCCCTCGTTCAATTATCACTCTATGAATTATTATTCTAACAGACGAAGGTTACCTACGTGTAATACAGTAGTAGAGCTGATTCTCTGTTGAGTCTTGTTCACATTAGGCTGGACTGACCCATCCGTAGACTCAGTATTCTATTCTCATTCACTCAACTCAAGTTGTTGGTTTCAAAGCGTATATGCTTGGTTATATCTCCTACATTTTCAAATGTCTTATAATAGAGCGAAACAAGAATTAATATTACTAATCTTATTTTATCCCACATATTTACTCTTGTTTGTGAAACCTGCAGCTCTATGTTTCGTATTCCATAATGAGCTGAGATCCTAGTCGTAGGTAAACCATGAGTCAGCAAATTATACAGGCTGAATGGATCCTCTTAGGGATCGCAAGTCTATTCAATCCCTGTGACAATCGTGTTCATCCGTTAAATTTAGCACGCTTGCTAAATAAACCTTTCATGATCGTAGTCGCCCGTTTATTAACTACTTACGAATAACCAAAGACAGTACGGTTTATTACTAGTTGTATGAATACTCTGATTTGCAAAGAACAAGAGATTGCACGATGCCTGAAAAGCGGATACCATTAAAACAAATGAGAAGTGATGTGGACGCTGTTGGGATTCCTAGCCTGTGTAAACCGAAGTGCGGTTGTTAGTTTGAGTCCTCGGTCTCGCCGGTTGTCGTGTCTGGCGTACTCATTCATTACCAATTATAGTCTCACGGGGTTCCTCTAATTCGCTGCTGTGAAAAAGATCAAACAGAGAAAAAACATAGTTGGTTAAGCGCCGACTTTCGCGATCAATAATTTGCTTCAAGACGTCGGTAATGTGCTCGCTAAACATCGTGTGTTGTAAATGAGACAACCGTTCTAGACTTGGGAGAGAAGTTAGAATTGAATTCACAGCTAACGGTTATGATCCTGTTGAATAATCGCAGCTATTGCTCGCTAGTTCACTCAGACTACATCGTCTGAAGTGAATGCAACAGAAAACCTACATAACAGGAGGATGCATAGATCGATTAGAACATACTGATTATTTGCTCTATGCCAGAGGCGCAACTCTTAGTTATATTTATTAGGTCCTCGGGATTAGTATCCAGGGTAATCTATCTGGGGATAAACTGCGGGAACTACACGCTGTTATACCTTTGGGATTATCGCTTACCAGCTCCTCAGACATGGGCGTCAGACTAGTCTGCCTCTAACACAACTATCGTCCTAGCTGTGACCGTTGCGATGTCCCAAAGTGTCGTTAAACCCATTTCGTATTATGGTTAAGACCCGGCTCGGATGTTGCGCATATAGCGGTAATCACAGATAAGTAAATCCCAAAATGCGATCATTCAGTAGGGGTCACTGAGTCTGGTGCCGATATCGAACTATGCGGTAGCTAACAAGCTTGCTTATAAGAATGAGAGTTTGAAGCCACAAAACGATCAAATGGGGCAGCGAGCATAAATGTTTGTTCTTAAAACCATTTCAAGAAGGTAGAAGTACAACAGCTTACTAAGCTAGCACCGGTTTTATCCGAAGCTATAGCAACGCAGTTAGCTGGGTAGTTTCTTCGTAGTGGAGATATCTTAGACATCCATTTCATTTTGTGACCTTCTGTAATGTGACTCAAACAGTGATTTCGGAATTATACTCAATCATGTGAAGAACATTTTCTTAATAAGAGGTAACTCCTGTGCGTCTTCAATAAGCCTTGTACCTAACCACTAGGGTAAAGATCTCACAAATCTCCAGCTTACATATAATGACAAAAGTGGGGCATGGTGGTCTTCACGTGGCCAGTGTTTCAAAGTCGAAACGTGTTTTAATAATATTGGTTTTTGCTCAGTATTAAGACCAGGTCTCCGTAATCTAGGAAAGTAAATAATGGGAAGCACATAAAACAACAGCGAATATGTGGAGACGGACGATCTCAACCGTCTATTCTTTTGAAATGCAAGAATGAAATTCAGAGTTGCGAGATCGCTCGCATAAATCGGGCTAAGATCAACCCGGAATACGCTCCTATAAACAGGGTTCAGTGGCACCCCCCGTCGTAGTCACGTGCCCTTTACGCGACTAACATTGTAGCTCATGTTAGAATTACAGATAGTTATTACGATATGGAATATCGGAACCATAAGAATTAGGTATGTTAGATAACCGAACCATTAGGTAATTTTGAGTCGTTACCGAATGTTCAGAAGAAAGACTCCCCCCACTTAAATCATTGTGTGTATTCCGTTCATCATCCTGTATACATGTATTAACAACTCCGATTTCGGCAGATAATAAAGTATATCGGAGCATAGTTCTGCAGGCTCGTAGGTTCAATGTCAAGTCATCGAATGTCCTTGTTGGTTTCTAAGTGATAGTGCAATTATTAAATTAGACACGCCTTTTCGCCTTTTTCCTGTGAAGAGCTTGTATAAGAGGTATCCAGTTCTTCGCGTATCATACTAGCGCTAGAATCGACATGTGGCGTACTGCCACGCCACGGCTAATCTGCAACGAGATCTGGAAACGTAGGATTCATAAAGATATTGTTCGACAGGAGCAGATGCCATTGTTATTGTTGCGCGTAGCTACGTATGTTAAAGCATTTTCAAGCGTCTTAAGGCTTGAGTTATTCGTGGTTCCAGTCGTTACAGAGGTAGTCAGGCTTTACTCTACGTAAACGAGTCACTTATACCATAGTGTATAATTGACTCCGTATTAGCAAAGTTTTTATCAAGAGCCTTAAAATAACTTTCGTCGACTACGTTTCCCATAATGGTATTATGGTGACCTGCTTACCTTTACTAGAGATATTGCAATTTTGAGTAACAATTACCCATTAAGATTTAGCAGTCTCGAAATCAGTGTTCGTGATGATTCGCTTCACCGAAATTTGCCTTTAGCATCTCTCACATGATTATTTGGGCAAGTGATTTACACCTTACAATATCTTCCTCTAGTTGGCTATCAGACTTCGTTAAACCGTGTGCGAGGAGTCTAGAATTTTTATCCCCAGTCCAGTAACCATGACCGTCGCCCTTATTGTCACATGCTACTGAAAGAAGTCCAATTCGAAAGTGGATATTGGCGCAACCTTCTTGACAAAGGCTACCTAGGCCCCTGTGGACTACATACCGGAGCCCCGGACACGGGGTGTTGTGGTCGATACTTGAGCGGATACCGCTAGGCACTACAATCATACCGTGCACATATGGTTATTCCAGTATCGATAGGCTCATATTTAACGTCTGCCACATACACTATATAGAGTGCCTCAGCGCAGTTATGACATGTTGGCTCCGTGTAATTGAAAAGAGCCCATTTATCAACCTATACGATTATCATGAACCTGCAGATTAGAGTCGTCCAACTTCCATGCAGACGGTTCATTTTACTGTCGTTGTGTTTTACGCGATGTTGCGTCCTCGTAGGGCTGAAGTTAGCAACTCGGGTAGTCGTACCTTTAATCTCGCCGTACCCGCCAATAGGGTACTTTTAGTATCGAATGGCGGTCAAGGGTCTATATTCTGGGAAACATAAATTTCCCCCGGACACGCGAGTTGGAGGATAAACACAGGAAGTGCGGACCTATCATTGCAGCTTCTTAAAGTAGCAATCCTTTGTGTTCTACACGTAGTTTTATAACCGACATGCCCCATATACCTGAGGGCGTAGTGCCTTATGCCATGATGCGCGCACGCCTGGGGCCCGATGAGTCATACACACGCCTGGCTGGAACTATATCCTTGGTAGAGTTTTACAATGCCGTTGTTAGGCTAAAAGAAGGAAGTTCTCTAAACAAGAAAACCTAGCAAAGTAATTTTTGCCTTGCGTTTTTTCACGGCCTATGTGCTTGCGT\\nAGTCCAGACGCAAATACGATATACGATGATGGCCATTACCTGACAGTAGATAGCGTGCGAACAGTAAACTACCTACGCGCCGACGCAAGGGAACACAAGTGGCCTTGGCACTGCCCGCTGCATTGCTGACACAGCCTGTTAAAAATAAAACCAGTGGTTACTAACGACTCGCATAAAAATGCATCAACACGGCTATCGACCTCACCGAGCTGTATGATTAATGGGATGAAACAAGACAGGCGTTACGGGTCGTAGCTGGGTGTTCTATAGAACAATAACGAATATATCAAACAACCCTCATCAAGCAATCGCTAATGTGGTCGAACACTCGAAATCCTTATTATCGATTTTAGGACATTTCTAACTGCTGTCAGTCTTTATTAGAGGTCTACATGGACATTCCATGCTTTCCCTGGAGCTCGATCGTCATTGCTTCAAAAGTTCTCGTCATAGCTCCTGGCTTGTAGCCTAATATGGACTAGACCATCGACTCACTTCTTTGAGATCTTTTTTGACAGGACCGTTTAGATGTTTTACTCTGCACCCCGTAACTAATGCACATTTTTCGTCAGCGCAATACGGAGATATAATGCTTATGATTCACAAGAGGATCTCCTTATGACCACATTGCCACACAAAGTCATGGATCCCAACGGCTATGCGAGTCAAGCGTTTACAGTCCTAGGTATCGAAGTTGAAACTGAGTTTCAACTCTGGCTATAATATGATCCTCTTCCCTGGCTTGAAGTCATAGCCCGGAATAAAAATGTCACTACAAGATAGGACTTTAAATTATCCATGTACTTGATCCCAATATCGTAGCCATTCTAAATCAATCTACAGATATTTACGATCGTCCGGTTATCAAGGGTGATATAAAGCTTCTTAAAAATCGCTATCTCGATTGTATAACTCAATAAGAGCGTGTCTCTTTTTATACGAGTAGTGGATCAATAGTGGGAGTACTAAGTTACTATGAGAACCTAGAATACGCAGTCTCGTCTTTCTTGTGTATTCCAAAGCATCTTATCGCATGTTTACCAATTGGTAAGTCTTCCTTGCACAAGGATGTCTAATATCGATAGAAATAGGGAACGAAATCAGCGTGTATCAATGGTGTTCGACAGGCAAGTTCATTGGTTGCGATCTTAATGGCCAGTAGTTAGCCAAATATGTGGGTTTCCCTATTACAGGTGAGGCGTCGAGAAAGCGACTATAGGCGAGTGATAGCGGATATATTCCTTACTGAGGTTCGAGTACCCTATTCAATGCGTGAAGACATATGTTTTTTAGCGGAGAAGGGCCTATGCACCAGATGCGGGTCTTACCTATCGCTCACTACTTTTGATCGGATAATTATCAACGTTTTCAATCGACGTTTAGGCTGCCGTCGCCAATATGATTAAGGATCTTAATGCTCCGAATGCTTATTTGAAAGGTTTTCCAATAAACTAATAATATTCCGCGTATTCTGTAGGAGAAAACAATCAAAAGCTATTCTCGCAACTATCATTGTTGCCATATCTCTCCACCCTAACTGAAATAAAGATCTATCGGACTAGCTGCCGTACAGACACAGTCATTCTATTCGGCGAGGACCATACATTTGATTTGGGTAGGCGGATACTTGAACACGAACGCACCGAGCGGCCTTTCATTCCGGGGGCTCTTCAAGTATCTAGTTATCCTGAATATAAAAACATTTTAGTACAAAAGGGCCCATAGCGACTATTAGGAAACGTGCACTGTCCGGATGATTTAAGCCTTCACAAAAATGATCACAGAGAAGGAATTGGAACATCAATTGTTTGACTTTAAATGATATTGAAAATTGGTGTAGTACAGAGTGACATAAGACAATCTCACTGTGTAGGAAATTAACTGAAATGTTCTACGTTAATGTGTGTTGCGAGCTACACGATCTAGGAAATGAATTCTCTCGTGTTCCGGAGGTTTCGGTACCATAGTCATGCGCTATGTCCATGTACTCTATAAGAACTCAACTATGATACGACTACCAAGATTTCTTTGATTGGACTGTTTCGCATAGATCGTCATTACGCCACTGTCTATGCCCCTATTATTAATTGTGTAATAGAATCATATTGTGGGGACGCTCACTAATTAGGGTCGAACTGGTCCCGTCTCCGCTCGATCTAGCTTGTCCCTCAATCGCTAGTCTTTTTCATAAATAAGCTAACTTATGACGCATGCTTGTGGATCCGACGCAAGGGCTTGCATGGTACTATATTCTTAGATGTGCCAAAGATAATGGAATATACTTATCTAGTTTCGGATACAGTTTATTCGTCTTTCAGGGTGAGTAATTTTCATAAGCAAACTAGGCCATGAGGGAGTACACCATGTATAGACTATAGTGTGGTTTCTTAGTAATACTGAGTAAATCTTAGAAGATCAAATGGGTCGACCACGTAATATTTATACGACCCTACTCAGCCACAAACTTCTAGTTCGTAGCGTCGTCTTCTGATTAGTATGTAATGTGCGGCGATAGCTTGTGGTTACGTCTGCTTCGTTCATACTATCGACTAACAATAGTTTATATTGTCGCGCTTAATAAAAGTTACTTAGTGTGTATTGGACTGAAGTCTCCTTAACTGGACCAGCCTCAAACGGGTATTTTATCCTTCATTGAATTGTTCCTATCGAATCATTGTTAGACGGGTGACTCTTTATACTGACAAGTATCCTCAAGGTGGATATGTAAAAAGTTAGATTTTATGTTGAAGAAGCAGAAAGGATCGCAATGGACAAATGCCTCAATGTTTGCATCTCGGTGGCTCTGTACGGCAGATTTTGTCTATTTCGATCATACTTAAACTACATGATTTTGAGTATGCTTGGACTTGGATTCTGGCTTTGTTGACGTCAAATCTACACCGTTATTGCTCGAAAAAATCTGGGCATAACGTCGAACCGTCAGACCATCGTTAAAAAACGTAAGGTCCTGAGAACCTATTTAATTCCCTAACAACCGCTGAAATAGAACCGGAGAGAGGAAAGCTGAAGTATATAGTCGAGTAGATTTTGAAGCGGGCACATTGAGGTCGGGCACCCCAATAATCTGCGTGCGAGTAAAAACAACGCCTTTAAAAGCATAGGACTCAAGGGTCCATAGGGCGTTCAATGGATGATATCTTAGTTTTCCAGGGACGACTGAGATTATTTTAAAGCCGGATACTTTCTCATGCGACGTAACACGGAAAGGGGTAACAGGACTTTCACAGGATCATAGTTGCCCCAGTGGATGAGATATTTACGCATTCTGTTCGGGAAAGTGAAAAGAGTTCATCTAGTGTGAAGATTAAATCGATGTACTGTCCCTTCCGGAAGTATTACGCAGCGGATGTCGCGACGCGAGCGGCCTACGACTTTCTACCACGGGTAAGATGGTTCCGTTACTAGCTATGTTTGTCGCATTAGAAGCTTGTGTTCTACTGCGCTACTGTATGTATGGAGCCAATGCACATCTCGTTTGGAGCCTTCCATCTGGCTCCCTTGAGGTGATGGTACCCTGTTTGCATTAGGTTATTGAACAAGTACCCATGTCCGCATGAAGTTTGTGAGTGATTTAGCCTTAAATGGCCAGACCTCCTTCGAGTGATGGATAATGGCGGAATAGCATTCTGCCCAAGGGTCCTACTTTATTGTATTTTCTGAACTCGGAAATTGTCATAGCAGGACATTTTGTTTTCGCTCATAAAAATCTGATTCGATAAGTCATGCCTACACTTATTTTAGACGGTTCGGAAACCCGTTTATATTTGTACAGAATAGGAGCGTACTCGGCTTCTAACATTCAGATGTGGGAATATATGTACTTTAGTGCTGATTTTTGATCTTAAACCTCAATATTTGCTATATCCGAGAAGTTACTGCCTGGGGACCTCATCAAGGACCATATTTATTCACGCGGCGACCTGTAAATCCGGGAAATGACCGAAATAGGGAATGATCTCGAACAATTACGACTCTTTCCGCAACGCGTCGTCTATAGCAGTCCAAGAACCATGGGTCACGTTCCTTTGCAGGCCTTTGTCTGCGAATTAATCTCTCTTGGCCAAACATGCTCCTCATTGGGATGCCGTACGAGCACATCGGGACACGTTCGGCTAGTTCATACCTTGAGACCTTTCATTTTTCCAAAGGTGTGCTATTAAATCTTTTGTTGTACCTACCGATATGATAGAATCGGTCAACTCTGATTCGCGTCCTTTTTCGCTATACGTACGGGAAGCTGACGTCGGCTGGTCAAAATCGAACATGTATTGATCCTCAGGTTAATTAAAAGGAGATGCTACAATGCTCAAAGGATTGGATTTCCATGGAAAAAA',\n",
       "  'C://Users//proko//Desktop//University//iv//aks//datasets\\\\dna\\\\dna.50MB',\n",
       "  <DataSets.dna: 'dna'>)]"
      ]
     },
     "execution_count": 7,
     "metadata": {},
     "output_type": "execute_result"
    }
   ],
   "source": [
    "test_datasets"
   ]
  },
  {
   "cell_type": "code",
   "execution_count": 8,
   "metadata": {},
   "outputs": [],
   "source": [
    "data_test, data_path, data_type = test_datasets[0]"
   ]
  },
  {
   "cell_type": "code",
   "execution_count": 9,
   "metadata": {},
   "outputs": [],
   "source": [
    "def find_k_grams_freq(data, max_size_k=2):\n",
    "    \n",
    "    kgrams_dic = {}\n",
    "\n",
    "    for k in range(2, max_size_k+1):\n",
    "\n",
    "        for i in range(len(data) - k):\n",
    "\n",
    "            n_gram = data[i:i+k]\n",
    "            \n",
    "            kgrams_dic[n_gram] = kgrams_dic.get(n_gram, 0) + 1\n",
    "\n",
    "    return kgrams_dic"
   ]
  },
  {
   "cell_type": "code",
   "execution_count": 10,
   "metadata": {},
   "outputs": [
    {
     "data": {
      "text/plain": [
       "{'TT': 854,\n",
       " 'TA': 827,\n",
       " 'AT': 849,\n",
       " 'TG': 629,\n",
       " 'GT': 636,\n",
       " 'TC': 640,\n",
       " 'CC': 422,\n",
       " 'CT': 611,\n",
       " 'CA': 580,\n",
       " 'AG': 604,\n",
       " 'GA': 619,\n",
       " 'AC': 573,\n",
       " 'GC': 440,\n",
       " 'AA': 815,\n",
       " 'CG': 462,\n",
       " 'GG': 435,\n",
       " 'T\\n': 1,\n",
       " '\\nA': 1}"
      ]
     },
     "execution_count": 10,
     "metadata": {},
     "output_type": "execute_result"
    }
   ],
   "source": [
    "find_k_grams_freq(data_test)"
   ]
  },
  {
   "cell_type": "code",
   "execution_count": 11,
   "metadata": {},
   "outputs": [],
   "source": [
    "import math\n",
    "from collections import Counter\n",
    "\n",
    "def calc_freq(content):\n",
    "    c = Counter(list(content))\n",
    "    return c\n",
    "\n",
    "def calc_p(counter, n):\n",
    "    counter = dict(counter)\n",
    "    res = {}\n",
    "    for k, v in counter.items():\n",
    "        res[k] = v / n  \n",
    "    return res\n",
    "\n",
    "def get_n(counter):\n",
    "    counter = dict(counter)\n",
    "    return np.sum(list(counter.values()))\n",
    "\n",
    "def calc_H(p):\n",
    "    H = 0\n",
    "    for k, v in p.items():\n",
    "        #Shannon equation!\n",
    "        H += p[k] * math.log2(p[k])\n",
    "    return -H\n",
    "\n",
    "def calc_entropy_for_message(message):\n",
    "    counter = calc_freq(message)\n",
    "    n = get_n(counter)\n",
    "    p = calc_p(counter, n)\n",
    "    H = calc_H(p)\n",
    "    return H"
   ]
  },
  {
   "cell_type": "code",
   "execution_count": 12,
   "metadata": {},
   "outputs": [
    {
     "data": {
      "text/plain": [
       "1.9827831849450892"
      ]
     },
     "execution_count": 12,
     "metadata": {},
     "output_type": "execute_result"
    }
   ],
   "source": [
    "calc_entropy_for_message(data_test)"
   ]
  },
  {
   "cell_type": "code",
   "execution_count": 1,
   "metadata": {},
   "outputs": [],
   "source": [
    "def diff_entropy(message1, message2):\n",
    "    message1_entropy = calc_entropy_for_message(message1)\n",
    "    message2_entropy = calc_entropy_for_message(message2)\n",
    "    message_1_entropy_size = message1_entropy * len(message1)\n",
    "    message_2_entropy_size = message2_entropy * len(message2)\n",
    "\n",
    "\n",
    "    diff = message_1_entropy_size - message_2_entropy_size\n",
    "    print(f'{message1_entropy} * {len(message1)} < {message2_entropy} * {len(message2)} ... {diff}')\n",
    "    return diff"
   ]
  },
  {
   "cell_type": "code",
   "execution_count": 2,
   "metadata": {},
   "outputs": [
    {
     "ename": "NameError",
     "evalue": "name 'data_test' is not defined",
     "output_type": "error",
     "traceback": [
      "\u001b[1;31m---------------------------------------------------------------------------\u001b[0m",
      "\u001b[1;31mNameError\u001b[0m                                 Traceback (most recent call last)",
      "\u001b[1;32mc:\\Users\\proko\\Desktop\\University\\iv\\aks\\project\\project.ipynb Cell 16'\u001b[0m in \u001b[0;36m<module>\u001b[1;34m\u001b[0m\n\u001b[1;32m----> <a href='vscode-notebook-cell:/c%3A/Users/proko/Desktop/University/iv/aks/project/project.ipynb#ch0000015?line=0'>1</a>\u001b[0m diff_entropy(data_test, data_test)\n",
      "\u001b[1;31mNameError\u001b[0m: name 'data_test' is not defined"
     ]
    }
   ],
   "source": [
    "diff_entropy(data_test, data_test)"
   ]
  },
  {
   "cell_type": "code",
   "execution_count": 15,
   "metadata": {},
   "outputs": [],
   "source": [
    "all_chars_uni = tuple(chr(i) for i in range(32, 0x110000) if chr(i).isprintable())"
   ]
  },
  {
   "cell_type": "code",
   "execution_count": 16,
   "metadata": {},
   "outputs": [],
   "source": [
    "all_chars_ascii = list(range(0, 256))\n",
    "all_chars_ascii = [chr(ascii_char) for ascii_char in all_chars_ascii]"
   ]
  },
  {
   "cell_type": "code",
   "execution_count": 17,
   "metadata": {},
   "outputs": [],
   "source": [
    "def find_not_existing_character(current_alpahbet, gen_chars=all_chars_uni):\n",
    "    can_use = set(gen_chars).difference(set(current_alpahbet))\n",
    "    ascii_picked_char = random.choice(list(can_use))\n",
    "    return ascii_picked_char"
   ]
  },
  {
   "cell_type": "code",
   "execution_count": 18,
   "metadata": {},
   "outputs": [
    {
     "data": {
      "text/plain": [
       "'𩽗'"
      ]
     },
     "execution_count": 18,
     "metadata": {},
     "output_type": "execute_result"
    }
   ],
   "source": [
    "find_not_existing_character(['A', 'C', 'G', 'T'])"
   ]
  },
  {
   "cell_type": "code",
   "execution_count": 19,
   "metadata": {},
   "outputs": [],
   "source": [
    "def transform_message(message, ngram_for_replace):\n",
    "    current_alphabet_size = np.unique(list(message))\n",
    "\n",
    "    #print('Alphabet size', len(current_alphabet_size))\n",
    "\n",
    "    replace_character = find_not_existing_character(current_alphabet_size)\n",
    "    \n",
    "    return message.replace(ngram_for_replace, replace_character), replace_character"
   ]
  },
  {
   "cell_type": "code",
   "execution_count": 53,
   "metadata": {},
   "outputs": [],
   "source": [
    "def calculate_for_ngrams_diff(ngrams, message, method_entropy=diff_entropy, init_message=None):\n",
    "    res = {}\n",
    "    \n",
    "    for k, v in ngrams.items():\n",
    "        res[k] = {\n",
    "            \"Counter\": v,\n",
    "            #message - current\n",
    "            #message - next message\n",
    "            #\"Diff\": method_entropy(init_message, transform_message(message, k)[0])\n",
    "            \"Diff\": method_entropy(message, transform_message(message, k)[0])\n",
    "        }\n",
    "    return res"
   ]
  },
  {
   "cell_type": "code",
   "execution_count": 54,
   "metadata": {},
   "outputs": [
    {
     "data": {
      "text/html": [
       "<div>\n",
       "<style scoped>\n",
       "    .dataframe tbody tr th:only-of-type {\n",
       "        vertical-align: middle;\n",
       "    }\n",
       "\n",
       "    .dataframe tbody tr th {\n",
       "        vertical-align: top;\n",
       "    }\n",
       "\n",
       "    .dataframe thead th {\n",
       "        text-align: right;\n",
       "    }\n",
       "</style>\n",
       "<table border=\"1\" class=\"dataframe\">\n",
       "  <thead>\n",
       "    <tr style=\"text-align: right;\">\n",
       "      <th></th>\n",
       "      <th>Counter</th>\n",
       "      <th>Diff</th>\n",
       "    </tr>\n",
       "  </thead>\n",
       "  <tbody>\n",
       "    <tr>\n",
       "      <th>TT</th>\n",
       "      <td>854</td>\n",
       "      <td>-729.276200</td>\n",
       "    </tr>\n",
       "    <tr>\n",
       "      <th>TA</th>\n",
       "      <td>827</td>\n",
       "      <td>-882.229748</td>\n",
       "    </tr>\n",
       "    <tr>\n",
       "      <th>AT</th>\n",
       "      <td>849</td>\n",
       "      <td>-863.358991</td>\n",
       "    </tr>\n",
       "    <tr>\n",
       "      <th>TG</th>\n",
       "      <td>629</td>\n",
       "      <td>-682.001728</td>\n",
       "    </tr>\n",
       "    <tr>\n",
       "      <th>GT</th>\n",
       "      <td>636</td>\n",
       "      <td>-676.604391</td>\n",
       "    </tr>\n",
       "    <tr>\n",
       "      <th>TC</th>\n",
       "      <td>640</td>\n",
       "      <td>-644.634450</td>\n",
       "    </tr>\n",
       "    <tr>\n",
       "      <th>CC</th>\n",
       "      <td>422</td>\n",
       "      <td>-422.363488</td>\n",
       "    </tr>\n",
       "    <tr>\n",
       "      <th>CT</th>\n",
       "      <td>611</td>\n",
       "      <td>-667.794745</td>\n",
       "    </tr>\n",
       "    <tr>\n",
       "      <th>CA</th>\n",
       "      <td>580</td>\n",
       "      <td>-654.192984</td>\n",
       "    </tr>\n",
       "    <tr>\n",
       "      <th>AG</th>\n",
       "      <td>604</td>\n",
       "      <td>-663.345945</td>\n",
       "    </tr>\n",
       "    <tr>\n",
       "      <th>GA</th>\n",
       "      <td>619</td>\n",
       "      <td>-651.936485</td>\n",
       "    </tr>\n",
       "    <tr>\n",
       "      <th>AC</th>\n",
       "      <td>573</td>\n",
       "      <td>-658.936627</td>\n",
       "    </tr>\n",
       "    <tr>\n",
       "      <th>GC</th>\n",
       "      <td>440</td>\n",
       "      <td>-508.551726</td>\n",
       "    </tr>\n",
       "    <tr>\n",
       "      <th>AA</th>\n",
       "      <td>815</td>\n",
       "      <td>-694.958505</td>\n",
       "    </tr>\n",
       "    <tr>\n",
       "      <th>CG</th>\n",
       "      <td>462</td>\n",
       "      <td>-494.047718</td>\n",
       "    </tr>\n",
       "    <tr>\n",
       "      <th>GG</th>\n",
       "      <td>435</td>\n",
       "      <td>-450.201174</td>\n",
       "    </tr>\n",
       "    <tr>\n",
       "      <th>T\\n</th>\n",
       "      <td>1</td>\n",
       "      <td>1.760897</td>\n",
       "    </tr>\n",
       "    <tr>\n",
       "      <th>\\nA</th>\n",
       "      <td>1</td>\n",
       "      <td>1.814696</td>\n",
       "    </tr>\n",
       "  </tbody>\n",
       "</table>\n",
       "</div>"
      ],
      "text/plain": [
       "     Counter        Diff\n",
       "TT       854 -729.276200\n",
       "TA       827 -882.229748\n",
       "AT       849 -863.358991\n",
       "TG       629 -682.001728\n",
       "GT       636 -676.604391\n",
       "TC       640 -644.634450\n",
       "CC       422 -422.363488\n",
       "CT       611 -667.794745\n",
       "CA       580 -654.192984\n",
       "AG       604 -663.345945\n",
       "GA       619 -651.936485\n",
       "AC       573 -658.936627\n",
       "GC       440 -508.551726\n",
       "AA       815 -694.958505\n",
       "CG       462 -494.047718\n",
       "GG       435 -450.201174\n",
       "T\\n        1    1.760897\n",
       "\\nA        1    1.814696"
      ]
     },
     "execution_count": 54,
     "metadata": {},
     "output_type": "execute_result"
    }
   ],
   "source": [
    "r = calculate_for_ngrams_diff(\n",
    "        find_k_grams_freq(data_test),\n",
    "        data_test,\n",
    "        diff_entropy,\n",
    "        data_test\n",
    "    )\n",
    "\n",
    "pd.DataFrame.from_dict(\n",
    "    r, \n",
    "    orient=\"index\"\n",
    ")"
   ]
  },
  {
   "cell_type": "code",
   "execution_count": 55,
   "metadata": {},
   "outputs": [
    {
     "data": {
      "text/plain": [
       "{'TT': {'Counter': 854, 'Diff': -729.2761996854606},\n",
       " 'TA': {'Counter': 827, 'Diff': -882.2297480514208},\n",
       " 'AT': {'Counter': 849, 'Diff': -863.3589910351257},\n",
       " 'TG': {'Counter': 629, 'Diff': -682.0017279815547},\n",
       " 'GT': {'Counter': 636, 'Diff': -676.6043906316991},\n",
       " 'TC': {'Counter': 640, 'Diff': -644.6344500735722},\n",
       " 'CC': {'Counter': 422, 'Diff': -422.36348846448163},\n",
       " 'CT': {'Counter': 611, 'Diff': -667.7947450954998},\n",
       " 'CA': {'Counter': 580, 'Diff': -654.1929841770943},\n",
       " 'AG': {'Counter': 604, 'Diff': -663.3459446156303},\n",
       " 'GA': {'Counter': 619, 'Diff': -651.9364852830295},\n",
       " 'AC': {'Counter': 573, 'Diff': -658.9366269316452},\n",
       " 'GC': {'Counter': 440, 'Diff': -508.5517264855989},\n",
       " 'AA': {'Counter': 815, 'Diff': -694.9585052221155},\n",
       " 'CG': {'Counter': 462, 'Diff': -494.0477182414543},\n",
       " 'GG': {'Counter': 435, 'Diff': -450.20117376424605},\n",
       " 'T\\n': {'Counter': 1, 'Diff': 1.7608965062972857},\n",
       " '\\nA': {'Counter': 1, 'Diff': 1.8146956160526315}}"
      ]
     },
     "execution_count": 55,
     "metadata": {},
     "output_type": "execute_result"
    }
   ],
   "source": [
    "r"
   ]
  },
  {
   "cell_type": "code",
   "execution_count": 56,
   "metadata": {},
   "outputs": [
    {
     "data": {
      "text/plain": [
       "dict_items([('TT', {'Counter': 854, 'Diff': -729.2761996854606}), ('TA', {'Counter': 827, 'Diff': -882.2297480514208}), ('AT', {'Counter': 849, 'Diff': -863.3589910351257}), ('TG', {'Counter': 629, 'Diff': -682.0017279815547}), ('GT', {'Counter': 636, 'Diff': -676.6043906316991}), ('TC', {'Counter': 640, 'Diff': -644.6344500735722}), ('CC', {'Counter': 422, 'Diff': -422.36348846448163}), ('CT', {'Counter': 611, 'Diff': -667.7947450954998}), ('CA', {'Counter': 580, 'Diff': -654.1929841770943}), ('AG', {'Counter': 604, 'Diff': -663.3459446156303}), ('GA', {'Counter': 619, 'Diff': -651.9364852830295}), ('AC', {'Counter': 573, 'Diff': -658.9366269316452}), ('GC', {'Counter': 440, 'Diff': -508.5517264855989}), ('AA', {'Counter': 815, 'Diff': -694.9585052221155}), ('CG', {'Counter': 462, 'Diff': -494.0477182414543}), ('GG', {'Counter': 435, 'Diff': -450.20117376424605}), ('T\\n', {'Counter': 1, 'Diff': 1.7608965062972857}), ('\\nA', {'Counter': 1, 'Diff': 1.8146956160526315})])"
      ]
     },
     "execution_count": 56,
     "metadata": {},
     "output_type": "execute_result"
    }
   ],
   "source": [
    "r.items()"
   ]
  },
  {
   "cell_type": "code",
   "execution_count": 57,
   "metadata": {},
   "outputs": [],
   "source": [
    "def pick_largest(items):\n",
    "    return list(sorted(items, key=lambda x: x[1]['Diff']))[0]\n",
    "\n",
    "def pick_random(items):\n",
    "    return random.choice(items)\n",
    "\n",
    "def pick_only_decreasing(dic, pick_method=pick_largest):\n",
    "    items = dic.items()\n",
    "\n",
    "    decreasing_items = list(filter(lambda x: x[1]['Diff'] < 0, items))\n",
    "\n",
    "    if len(decreasing_items) == 0:\n",
    "        return None\n",
    "\n",
    "    return pick_method(decreasing_items)    "
   ]
  },
  {
   "cell_type": "code",
   "execution_count": 58,
   "metadata": {},
   "outputs": [
    {
     "data": {
      "text/plain": [
       "('TA', {'Counter': 827, 'Diff': -882.2297480514208})"
      ]
     },
     "execution_count": 58,
     "metadata": {},
     "output_type": "execute_result"
    }
   ],
   "source": [
    "pick_only_decreasing(r, pick_largest)"
   ]
  },
  {
   "cell_type": "markdown",
   "metadata": {},
   "source": [
    "# Algorithm implementation - Reduction paradox"
   ]
  },
  {
   "cell_type": "code",
   "execution_count": 59,
   "metadata": {},
   "outputs": [],
   "source": [
    "class TableFields(Enum):\n",
    "    Rule = \"Rule\"\n",
    "    EntropyMove = \"EntropyMove\"\n",
    "    DataType = \"DataType\"\n",
    "    DescriptionData = \"DescriptionData\"\n",
    "    MessageSize = \"MessageSize\"\n",
    "    AlphabetSize = \"AlphabetSize\"\n",
    "    GrammaticSize = \"GrammaticSize\"\n",
    "    CalcTime = \"CalcTime\"\n"
   ]
  },
  {
   "cell_type": "code",
   "execution_count": 60,
   "metadata": {},
   "outputs": [],
   "source": [
    "def create_value(message_0, message_1, diff, replace_character, n_gram, grammatic, tic, type_data=None, description_data=None):\n",
    "    new_message_alphabet_size = len(np.unique(list(message_1)))\n",
    "    new_message_size = len(message_1)\n",
    "\n",
    "    new_rule = f\"{n_gram} -> {replace_character}\"\n",
    "\n",
    "    grammatic[n_gram] = replace_character\n",
    "\n",
    "    tac = time.time()\n",
    "    \n",
    "    return {\n",
    "        TableFields.Rule.value: new_rule,\n",
    "        TableFields.EntropyMove.value: diff,\n",
    "        TableFields.DataType.value: type_data,\n",
    "        TableFields.DescriptionData.value: description_data,\n",
    "        TableFields.MessageSize.value: new_message_size,\n",
    "        TableFields.AlphabetSize.value: new_message_alphabet_size,\n",
    "        TableFields.GrammaticSize.value: len(list(grammatic.keys())),\n",
    "        TableFields.CalcTime.value: tac - tic,\n",
    "    }\n"
   ]
  },
  {
   "cell_type": "code",
   "execution_count": 66,
   "metadata": {},
   "outputs": [],
   "source": [
    "def algorithm_step(init_message, message, grammatic, type_data=None, description_data=None, tic=None, heuristics_method=pick_largest):\n",
    "    #Find ngrams\n",
    "    n_grams = find_k_grams_freq(message)\n",
    "    \n",
    "\n",
    "    diff_table = calculate_for_ngrams_diff(\n",
    "        n_grams,\n",
    "        message,\n",
    "        diff_entropy,\n",
    "        init_message\n",
    "    )\n",
    "\n",
    "    picked = pick_only_decreasing(diff_table, heuristics_method)\n",
    "    print(picked)\n",
    "\n",
    "    if picked is None:\n",
    "        return None\n",
    "\n",
    "    #('AT', {'Counter': 867, 'Diff': -0.2814694848677286})\n",
    "    n_gram, dic_values = picked\n",
    "    transformed_message, replace_character = transform_message(message, n_gram)\n",
    "    \n",
    "    return transformed_message, create_value(message, transformed_message, dic_values['Diff'], replace_character, n_gram, grammatic, tic, type_data, description_data)\n"
   ]
  },
  {
   "cell_type": "code",
   "execution_count": 67,
   "metadata": {},
   "outputs": [],
   "source": [
    "def algorithm(message, type_data=None, description_data=None, limit_step=None):\n",
    "    init_message = message\n",
    "\n",
    "    res = {}\n",
    "    grammatic = {}\n",
    "\n",
    "    step = 0\n",
    "    while True:\n",
    "        tic = time.time()\n",
    "        if limit_step is not None and limit_step == step:\n",
    "            break\n",
    "        step_value = algorithm_step(init_message, message, grammatic, type_data, description_data, tic)\n",
    "        print(step, len(message))\n",
    "        print('\\n')\n",
    "        if step_value is None:\n",
    "            break\n",
    "\n",
    "        else:\n",
    "            transformed_message, value = step_value\n",
    "            message = transformed_message\n",
    "\n",
    "            step += 1\n",
    "            res[step] = value\n",
    "\n",
    "    return res"
   ]
  },
  {
   "cell_type": "markdown",
   "metadata": {},
   "source": [
    "## Testing data"
   ]
  },
  {
   "cell_type": "code",
   "execution_count": 68,
   "metadata": {},
   "outputs": [
    {
     "name": "stdout",
     "output_type": "stream",
     "text": [
      "('TA', {'Counter': 827, 'Diff': -882.2297480514208})\n",
      "0 10000\n",
      "\n",
      "\n",
      "('GT', {'Counter': 464, 'Diff': -569.5022345748221})\n",
      "1 9173\n",
      "\n",
      "\n",
      "('AC', {'Counter': 400, 'Diff': -575.0995729161186})\n",
      "2 8709\n",
      "\n",
      "\n",
      "('CG', {'Counter': 299, 'Diff': -407.07225767593627})\n",
      "3 8309\n",
      "\n",
      "\n",
      "('AT', {'Counter': 414, 'Diff': -320.72796692238626})\n",
      "4 8010\n",
      "\n",
      "\n",
      "('GC', {'Counter': 299, 'Diff': -256.91591626573427})\n",
      "5 7596\n",
      "\n",
      "\n",
      "('TG', {'Counter': 211, 'Diff': -204.81810819133534})\n",
      "6 7297\n",
      "\n",
      "\n",
      "('CA', {'Counter': 212, 'Diff': -203.95397383572345})\n",
      "7 7086\n",
      "\n",
      "\n",
      "('T⨖', {'Counter': 141, 'Diff': -147.2831482531983})\n",
      "8 6874\n",
      "\n",
      "\n",
      "('⨖A', {'Counter': 100, 'Diff': -127.98022970538295})\n",
      "9 6733\n",
      "\n",
      "\n",
      "('G⨖', {'Counter': 89, 'Diff': -91.30783315588633})\n",
      "10 6633\n",
      "\n",
      "\n",
      "('CC', {'Counter': 175, 'Diff': -87.99567853513145})\n",
      "11 6544\n",
      "\n",
      "\n",
      "('AG', {'Counter': 167, 'Diff': -83.78315789410772})\n",
      "12 6403\n",
      "\n",
      "\n",
      "('T𘏿', {'Counter': 81, 'Diff': -78.29208661933808})\n",
      "13 6236\n",
      "\n",
      "\n",
      "('ળT', {'Counter': 44, 'Diff': -69.94522600013806})\n",
      "14 6155\n",
      "\n",
      "\n",
      "('⨖T', {'Counter': 91, 'Diff': -62.11049915919284})\n",
      "15 6111\n",
      "\n",
      "\n",
      "('G𘏿', {'Counter': 42, 'Diff': -49.49716336770871})\n",
      "16 6020\n",
      "\n",
      "\n",
      "('𩎩A', {'Counter': 41, 'Diff': -45.96234249880217})\n",
      "17 5978\n",
      "\n",
      "\n",
      "('ળG', {'Counter': 35, 'Diff': -44.27813888554738})\n",
      "18 5937\n",
      "\n",
      "\n",
      "('𣻤C', {'Counter': 60, 'Diff': -42.60564530592819})\n",
      "19 5902\n",
      "\n",
      "\n"
     ]
    }
   ],
   "source": [
    "test_result = algorithm(data_test, limit_step=20)"
   ]
  },
  {
   "cell_type": "code",
   "execution_count": 64,
   "metadata": {},
   "outputs": [
    {
     "data": {
      "text/html": [
       "<div>\n",
       "<style scoped>\n",
       "    .dataframe tbody tr th:only-of-type {\n",
       "        vertical-align: middle;\n",
       "    }\n",
       "\n",
       "    .dataframe tbody tr th {\n",
       "        vertical-align: top;\n",
       "    }\n",
       "\n",
       "    .dataframe thead th {\n",
       "        text-align: right;\n",
       "    }\n",
       "</style>\n",
       "<table border=\"1\" class=\"dataframe\">\n",
       "  <thead>\n",
       "    <tr style=\"text-align: right;\">\n",
       "      <th></th>\n",
       "      <th>Rule</th>\n",
       "      <th>EntropyMove</th>\n",
       "      <th>DataType</th>\n",
       "      <th>DescriptionData</th>\n",
       "      <th>MessageSize</th>\n",
       "      <th>AlphabetSize</th>\n",
       "      <th>GrammaticSize</th>\n",
       "      <th>CalcTime</th>\n",
       "    </tr>\n",
       "  </thead>\n",
       "  <tbody>\n",
       "    <tr>\n",
       "      <th>1</th>\n",
       "      <td>TA -&gt; 灟</td>\n",
       "      <td>-882.229748</td>\n",
       "      <td>None</td>\n",
       "      <td>None</td>\n",
       "      <td>9173</td>\n",
       "      <td>6</td>\n",
       "      <td>1</td>\n",
       "      <td>0.482255</td>\n",
       "    </tr>\n",
       "    <tr>\n",
       "      <th>2</th>\n",
       "      <td>GT -&gt; 渇</td>\n",
       "      <td>-569.502235</td>\n",
       "      <td>None</td>\n",
       "      <td>None</td>\n",
       "      <td>8709</td>\n",
       "      <td>7</td>\n",
       "      <td>2</td>\n",
       "      <td>0.647222</td>\n",
       "    </tr>\n",
       "    <tr>\n",
       "      <th>3</th>\n",
       "      <td>AC -&gt; 𘡼</td>\n",
       "      <td>-575.099573</td>\n",
       "      <td>None</td>\n",
       "      <td>None</td>\n",
       "      <td>8309</td>\n",
       "      <td>8</td>\n",
       "      <td>3</td>\n",
       "      <td>0.863668</td>\n",
       "    </tr>\n",
       "    <tr>\n",
       "      <th>4</th>\n",
       "      <td>CG -&gt; 𢧡</td>\n",
       "      <td>-407.072258</td>\n",
       "      <td>None</td>\n",
       "      <td>None</td>\n",
       "      <td>8010</td>\n",
       "      <td>9</td>\n",
       "      <td>4</td>\n",
       "      <td>1.096606</td>\n",
       "    </tr>\n",
       "    <tr>\n",
       "      <th>5</th>\n",
       "      <td>AT -&gt; 𫵏</td>\n",
       "      <td>-320.727967</td>\n",
       "      <td>None</td>\n",
       "      <td>None</td>\n",
       "      <td>7596</td>\n",
       "      <td>10</td>\n",
       "      <td>5</td>\n",
       "      <td>1.413561</td>\n",
       "    </tr>\n",
       "    <tr>\n",
       "      <th>6</th>\n",
       "      <td>GC -&gt; 杦</td>\n",
       "      <td>-256.915916</td>\n",
       "      <td>None</td>\n",
       "      <td>None</td>\n",
       "      <td>7297</td>\n",
       "      <td>11</td>\n",
       "      <td>6</td>\n",
       "      <td>1.734922</td>\n",
       "    </tr>\n",
       "    <tr>\n",
       "      <th>7</th>\n",
       "      <td>TG -&gt; 𣴨</td>\n",
       "      <td>-204.818108</td>\n",
       "      <td>None</td>\n",
       "      <td>None</td>\n",
       "      <td>7086</td>\n",
       "      <td>12</td>\n",
       "      <td>7</td>\n",
       "      <td>2.029316</td>\n",
       "    </tr>\n",
       "    <tr>\n",
       "      <th>8</th>\n",
       "      <td>CA -&gt; 𬴷</td>\n",
       "      <td>-203.953974</td>\n",
       "      <td>None</td>\n",
       "      <td>None</td>\n",
       "      <td>6874</td>\n",
       "      <td>13</td>\n",
       "      <td>8</td>\n",
       "      <td>2.468467</td>\n",
       "    </tr>\n",
       "    <tr>\n",
       "      <th>9</th>\n",
       "      <td>T灟 -&gt; 𩷟</td>\n",
       "      <td>-147.283148</td>\n",
       "      <td>None</td>\n",
       "      <td>None</td>\n",
       "      <td>6733</td>\n",
       "      <td>14</td>\n",
       "      <td>9</td>\n",
       "      <td>2.637513</td>\n",
       "    </tr>\n",
       "    <tr>\n",
       "      <th>10</th>\n",
       "      <td>灟A -&gt; 𩥺</td>\n",
       "      <td>-127.980230</td>\n",
       "      <td>None</td>\n",
       "      <td>None</td>\n",
       "      <td>6633</td>\n",
       "      <td>15</td>\n",
       "      <td>10</td>\n",
       "      <td>3.274131</td>\n",
       "    </tr>\n",
       "    <tr>\n",
       "      <th>11</th>\n",
       "      <td>G灟 -&gt; ꈡ</td>\n",
       "      <td>-91.307833</td>\n",
       "      <td>None</td>\n",
       "      <td>None</td>\n",
       "      <td>6544</td>\n",
       "      <td>16</td>\n",
       "      <td>11</td>\n",
       "      <td>3.415540</td>\n",
       "    </tr>\n",
       "    <tr>\n",
       "      <th>12</th>\n",
       "      <td>CC -&gt; 𛉚</td>\n",
       "      <td>-87.995679</td>\n",
       "      <td>None</td>\n",
       "      <td>None</td>\n",
       "      <td>6403</td>\n",
       "      <td>17</td>\n",
       "      <td>12</td>\n",
       "      <td>4.411774</td>\n",
       "    </tr>\n",
       "    <tr>\n",
       "      <th>13</th>\n",
       "      <td>AG -&gt; 𪻊</td>\n",
       "      <td>-83.783158</td>\n",
       "      <td>None</td>\n",
       "      <td>None</td>\n",
       "      <td>6236</td>\n",
       "      <td>18</td>\n",
       "      <td>13</td>\n",
       "      <td>4.570179</td>\n",
       "    </tr>\n",
       "    <tr>\n",
       "      <th>14</th>\n",
       "      <td>T渇 -&gt; 𐂟</td>\n",
       "      <td>-78.292087</td>\n",
       "      <td>None</td>\n",
       "      <td>None</td>\n",
       "      <td>6155</td>\n",
       "      <td>19</td>\n",
       "      <td>14</td>\n",
       "      <td>5.092809</td>\n",
       "    </tr>\n",
       "    <tr>\n",
       "      <th>15</th>\n",
       "      <td>𘡼T -&gt; 𨩭</td>\n",
       "      <td>-69.945226</td>\n",
       "      <td>None</td>\n",
       "      <td>None</td>\n",
       "      <td>6111</td>\n",
       "      <td>20</td>\n",
       "      <td>15</td>\n",
       "      <td>5.400395</td>\n",
       "    </tr>\n",
       "    <tr>\n",
       "      <th>16</th>\n",
       "      <td>灟T -&gt; 툜</td>\n",
       "      <td>-62.110499</td>\n",
       "      <td>None</td>\n",
       "      <td>None</td>\n",
       "      <td>6020</td>\n",
       "      <td>21</td>\n",
       "      <td>16</td>\n",
       "      <td>5.762228</td>\n",
       "    </tr>\n",
       "    <tr>\n",
       "      <th>17</th>\n",
       "      <td>G渇 -&gt; ᙑ</td>\n",
       "      <td>-49.497163</td>\n",
       "      <td>None</td>\n",
       "      <td>None</td>\n",
       "      <td>5978</td>\n",
       "      <td>22</td>\n",
       "      <td>17</td>\n",
       "      <td>6.242184</td>\n",
       "    </tr>\n",
       "    <tr>\n",
       "      <th>18</th>\n",
       "      <td>杦A -&gt; 줩</td>\n",
       "      <td>-45.962342</td>\n",
       "      <td>None</td>\n",
       "      <td>None</td>\n",
       "      <td>5937</td>\n",
       "      <td>23</td>\n",
       "      <td>18</td>\n",
       "      <td>6.687149</td>\n",
       "    </tr>\n",
       "    <tr>\n",
       "      <th>19</th>\n",
       "      <td>𘡼G -&gt; 팱</td>\n",
       "      <td>-44.278139</td>\n",
       "      <td>None</td>\n",
       "      <td>None</td>\n",
       "      <td>5902</td>\n",
       "      <td>24</td>\n",
       "      <td>19</td>\n",
       "      <td>7.615484</td>\n",
       "    </tr>\n",
       "    <tr>\n",
       "      <th>20</th>\n",
       "      <td>𫵏C -&gt; 𠒵</td>\n",
       "      <td>-42.605645</td>\n",
       "      <td>None</td>\n",
       "      <td>None</td>\n",
       "      <td>5842</td>\n",
       "      <td>25</td>\n",
       "      <td>20</td>\n",
       "      <td>8.057806</td>\n",
       "    </tr>\n",
       "  </tbody>\n",
       "</table>\n",
       "</div>"
      ],
      "text/plain": [
       "       Rule  EntropyMove DataType DescriptionData  MessageSize  AlphabetSize  \\\n",
       "1   TA -> 灟  -882.229748     None            None         9173             6   \n",
       "2   GT -> 渇  -569.502235     None            None         8709             7   \n",
       "3   AC -> 𘡼  -575.099573     None            None         8309             8   \n",
       "4   CG -> 𢧡  -407.072258     None            None         8010             9   \n",
       "5   AT -> 𫵏  -320.727967     None            None         7596            10   \n",
       "6   GC -> 杦  -256.915916     None            None         7297            11   \n",
       "7   TG -> 𣴨  -204.818108     None            None         7086            12   \n",
       "8   CA -> 𬴷  -203.953974     None            None         6874            13   \n",
       "9   T灟 -> 𩷟  -147.283148     None            None         6733            14   \n",
       "10  灟A -> 𩥺  -127.980230     None            None         6633            15   \n",
       "11  G灟 -> ꈡ   -91.307833     None            None         6544            16   \n",
       "12  CC -> 𛉚   -87.995679     None            None         6403            17   \n",
       "13  AG -> 𪻊   -83.783158     None            None         6236            18   \n",
       "14  T渇 -> 𐂟   -78.292087     None            None         6155            19   \n",
       "15  𘡼T -> 𨩭   -69.945226     None            None         6111            20   \n",
       "16  灟T -> 툜   -62.110499     None            None         6020            21   \n",
       "17  G渇 -> ᙑ   -49.497163     None            None         5978            22   \n",
       "18  杦A -> 줩   -45.962342     None            None         5937            23   \n",
       "19  𘡼G -> 팱   -44.278139     None            None         5902            24   \n",
       "20  𫵏C -> 𠒵   -42.605645     None            None         5842            25   \n",
       "\n",
       "    GrammaticSize  CalcTime  \n",
       "1               1  0.482255  \n",
       "2               2  0.647222  \n",
       "3               3  0.863668  \n",
       "4               4  1.096606  \n",
       "5               5  1.413561  \n",
       "6               6  1.734922  \n",
       "7               7  2.029316  \n",
       "8               8  2.468467  \n",
       "9               9  2.637513  \n",
       "10             10  3.274131  \n",
       "11             11  3.415540  \n",
       "12             12  4.411774  \n",
       "13             13  4.570179  \n",
       "14             14  5.092809  \n",
       "15             15  5.400395  \n",
       "16             16  5.762228  \n",
       "17             17  6.242184  \n",
       "18             18  6.687149  \n",
       "19             19  7.615484  \n",
       "20             20  8.057806  "
      ]
     },
     "execution_count": 64,
     "metadata": {},
     "output_type": "execute_result"
    }
   ],
   "source": [
    "df = pd.DataFrame.from_dict(test_result, orient=\"index\")\n",
    "df"
   ]
  },
  {
   "cell_type": "code",
   "execution_count": 45,
   "metadata": {},
   "outputs": [
    {
     "data": {
      "application/vnd.plotly.v1+json": {
       "config": {
        "plotlyServerURL": "https://plot.ly"
       },
       "data": [
        {
         "hovertemplate": "index=%{x}<br>EntropyMove=%{y}<br>text=%{text}<extra></extra>",
         "legendgroup": "",
         "line": {
          "color": "#636efa",
          "dash": "solid"
         },
         "marker": {
          "symbol": "circle"
         },
         "mode": "lines+markers+text",
         "name": "",
         "orientation": "v",
         "showlegend": false,
         "text": [
          "-882.230",
          "-1451.732",
          "-2026.832",
          "-2433.904",
          "-2754.632",
          "-3011.548",
          "-3216.366",
          "-3420.320",
          "-3567.603",
          "-3695.583",
          "-3786.891",
          "-3874.887",
          "-3958.670",
          "-4036.962",
          "-4106.907",
          "-4169.018",
          "-4218.515",
          "-4264.477",
          "-4308.755",
          "-4351.361"
         ],
         "type": "scatter",
         "x": [
          1,
          2,
          3,
          4,
          5,
          6,
          7,
          8,
          9,
          10,
          11,
          12,
          13,
          14,
          15,
          16,
          17,
          18,
          19,
          20
         ],
         "xaxis": "x",
         "y": [
          -882.2297480514208,
          -1451.7319826262428,
          -2026.8315555423615,
          -2433.9038132182977,
          -2754.631780140684,
          -3011.5476964064183,
          -3216.3658045977536,
          -3420.319778433477,
          -3567.6029266866753,
          -3695.5831563920583,
          -3786.8909895479446,
          -3874.886668083076,
          -3958.669825977184,
          -4036.961912596522,
          -4106.90713859666,
          -4169.017637755853,
          -4218.5148011235615,
          -4264.477143622364,
          -4308.755282507911,
          -4351.360927813839
         ],
         "yaxis": "y"
        }
       ],
       "layout": {
        "legend": {
         "tracegroupgap": 0
        },
        "template": {
         "data": {
          "bar": [
           {
            "error_x": {
             "color": "#2a3f5f"
            },
            "error_y": {
             "color": "#2a3f5f"
            },
            "marker": {
             "line": {
              "color": "#E5ECF6",
              "width": 0.5
             },
             "pattern": {
              "fillmode": "overlay",
              "size": 10,
              "solidity": 0.2
             }
            },
            "type": "bar"
           }
          ],
          "barpolar": [
           {
            "marker": {
             "line": {
              "color": "#E5ECF6",
              "width": 0.5
             },
             "pattern": {
              "fillmode": "overlay",
              "size": 10,
              "solidity": 0.2
             }
            },
            "type": "barpolar"
           }
          ],
          "carpet": [
           {
            "aaxis": {
             "endlinecolor": "#2a3f5f",
             "gridcolor": "white",
             "linecolor": "white",
             "minorgridcolor": "white",
             "startlinecolor": "#2a3f5f"
            },
            "baxis": {
             "endlinecolor": "#2a3f5f",
             "gridcolor": "white",
             "linecolor": "white",
             "minorgridcolor": "white",
             "startlinecolor": "#2a3f5f"
            },
            "type": "carpet"
           }
          ],
          "choropleth": [
           {
            "colorbar": {
             "outlinewidth": 0,
             "ticks": ""
            },
            "type": "choropleth"
           }
          ],
          "contour": [
           {
            "colorbar": {
             "outlinewidth": 0,
             "ticks": ""
            },
            "colorscale": [
             [
              0,
              "#0d0887"
             ],
             [
              0.1111111111111111,
              "#46039f"
             ],
             [
              0.2222222222222222,
              "#7201a8"
             ],
             [
              0.3333333333333333,
              "#9c179e"
             ],
             [
              0.4444444444444444,
              "#bd3786"
             ],
             [
              0.5555555555555556,
              "#d8576b"
             ],
             [
              0.6666666666666666,
              "#ed7953"
             ],
             [
              0.7777777777777778,
              "#fb9f3a"
             ],
             [
              0.8888888888888888,
              "#fdca26"
             ],
             [
              1,
              "#f0f921"
             ]
            ],
            "type": "contour"
           }
          ],
          "contourcarpet": [
           {
            "colorbar": {
             "outlinewidth": 0,
             "ticks": ""
            },
            "type": "contourcarpet"
           }
          ],
          "heatmap": [
           {
            "colorbar": {
             "outlinewidth": 0,
             "ticks": ""
            },
            "colorscale": [
             [
              0,
              "#0d0887"
             ],
             [
              0.1111111111111111,
              "#46039f"
             ],
             [
              0.2222222222222222,
              "#7201a8"
             ],
             [
              0.3333333333333333,
              "#9c179e"
             ],
             [
              0.4444444444444444,
              "#bd3786"
             ],
             [
              0.5555555555555556,
              "#d8576b"
             ],
             [
              0.6666666666666666,
              "#ed7953"
             ],
             [
              0.7777777777777778,
              "#fb9f3a"
             ],
             [
              0.8888888888888888,
              "#fdca26"
             ],
             [
              1,
              "#f0f921"
             ]
            ],
            "type": "heatmap"
           }
          ],
          "heatmapgl": [
           {
            "colorbar": {
             "outlinewidth": 0,
             "ticks": ""
            },
            "colorscale": [
             [
              0,
              "#0d0887"
             ],
             [
              0.1111111111111111,
              "#46039f"
             ],
             [
              0.2222222222222222,
              "#7201a8"
             ],
             [
              0.3333333333333333,
              "#9c179e"
             ],
             [
              0.4444444444444444,
              "#bd3786"
             ],
             [
              0.5555555555555556,
              "#d8576b"
             ],
             [
              0.6666666666666666,
              "#ed7953"
             ],
             [
              0.7777777777777778,
              "#fb9f3a"
             ],
             [
              0.8888888888888888,
              "#fdca26"
             ],
             [
              1,
              "#f0f921"
             ]
            ],
            "type": "heatmapgl"
           }
          ],
          "histogram": [
           {
            "marker": {
             "pattern": {
              "fillmode": "overlay",
              "size": 10,
              "solidity": 0.2
             }
            },
            "type": "histogram"
           }
          ],
          "histogram2d": [
           {
            "colorbar": {
             "outlinewidth": 0,
             "ticks": ""
            },
            "colorscale": [
             [
              0,
              "#0d0887"
             ],
             [
              0.1111111111111111,
              "#46039f"
             ],
             [
              0.2222222222222222,
              "#7201a8"
             ],
             [
              0.3333333333333333,
              "#9c179e"
             ],
             [
              0.4444444444444444,
              "#bd3786"
             ],
             [
              0.5555555555555556,
              "#d8576b"
             ],
             [
              0.6666666666666666,
              "#ed7953"
             ],
             [
              0.7777777777777778,
              "#fb9f3a"
             ],
             [
              0.8888888888888888,
              "#fdca26"
             ],
             [
              1,
              "#f0f921"
             ]
            ],
            "type": "histogram2d"
           }
          ],
          "histogram2dcontour": [
           {
            "colorbar": {
             "outlinewidth": 0,
             "ticks": ""
            },
            "colorscale": [
             [
              0,
              "#0d0887"
             ],
             [
              0.1111111111111111,
              "#46039f"
             ],
             [
              0.2222222222222222,
              "#7201a8"
             ],
             [
              0.3333333333333333,
              "#9c179e"
             ],
             [
              0.4444444444444444,
              "#bd3786"
             ],
             [
              0.5555555555555556,
              "#d8576b"
             ],
             [
              0.6666666666666666,
              "#ed7953"
             ],
             [
              0.7777777777777778,
              "#fb9f3a"
             ],
             [
              0.8888888888888888,
              "#fdca26"
             ],
             [
              1,
              "#f0f921"
             ]
            ],
            "type": "histogram2dcontour"
           }
          ],
          "mesh3d": [
           {
            "colorbar": {
             "outlinewidth": 0,
             "ticks": ""
            },
            "type": "mesh3d"
           }
          ],
          "parcoords": [
           {
            "line": {
             "colorbar": {
              "outlinewidth": 0,
              "ticks": ""
             }
            },
            "type": "parcoords"
           }
          ],
          "pie": [
           {
            "automargin": true,
            "type": "pie"
           }
          ],
          "scatter": [
           {
            "marker": {
             "colorbar": {
              "outlinewidth": 0,
              "ticks": ""
             }
            },
            "type": "scatter"
           }
          ],
          "scatter3d": [
           {
            "line": {
             "colorbar": {
              "outlinewidth": 0,
              "ticks": ""
             }
            },
            "marker": {
             "colorbar": {
              "outlinewidth": 0,
              "ticks": ""
             }
            },
            "type": "scatter3d"
           }
          ],
          "scattercarpet": [
           {
            "marker": {
             "colorbar": {
              "outlinewidth": 0,
              "ticks": ""
             }
            },
            "type": "scattercarpet"
           }
          ],
          "scattergeo": [
           {
            "marker": {
             "colorbar": {
              "outlinewidth": 0,
              "ticks": ""
             }
            },
            "type": "scattergeo"
           }
          ],
          "scattergl": [
           {
            "marker": {
             "colorbar": {
              "outlinewidth": 0,
              "ticks": ""
             }
            },
            "type": "scattergl"
           }
          ],
          "scattermapbox": [
           {
            "marker": {
             "colorbar": {
              "outlinewidth": 0,
              "ticks": ""
             }
            },
            "type": "scattermapbox"
           }
          ],
          "scatterpolar": [
           {
            "marker": {
             "colorbar": {
              "outlinewidth": 0,
              "ticks": ""
             }
            },
            "type": "scatterpolar"
           }
          ],
          "scatterpolargl": [
           {
            "marker": {
             "colorbar": {
              "outlinewidth": 0,
              "ticks": ""
             }
            },
            "type": "scatterpolargl"
           }
          ],
          "scatterternary": [
           {
            "marker": {
             "colorbar": {
              "outlinewidth": 0,
              "ticks": ""
             }
            },
            "type": "scatterternary"
           }
          ],
          "surface": [
           {
            "colorbar": {
             "outlinewidth": 0,
             "ticks": ""
            },
            "colorscale": [
             [
              0,
              "#0d0887"
             ],
             [
              0.1111111111111111,
              "#46039f"
             ],
             [
              0.2222222222222222,
              "#7201a8"
             ],
             [
              0.3333333333333333,
              "#9c179e"
             ],
             [
              0.4444444444444444,
              "#bd3786"
             ],
             [
              0.5555555555555556,
              "#d8576b"
             ],
             [
              0.6666666666666666,
              "#ed7953"
             ],
             [
              0.7777777777777778,
              "#fb9f3a"
             ],
             [
              0.8888888888888888,
              "#fdca26"
             ],
             [
              1,
              "#f0f921"
             ]
            ],
            "type": "surface"
           }
          ],
          "table": [
           {
            "cells": {
             "fill": {
              "color": "#EBF0F8"
             },
             "line": {
              "color": "white"
             }
            },
            "header": {
             "fill": {
              "color": "#C8D4E3"
             },
             "line": {
              "color": "white"
             }
            },
            "type": "table"
           }
          ]
         },
         "layout": {
          "annotationdefaults": {
           "arrowcolor": "#2a3f5f",
           "arrowhead": 0,
           "arrowwidth": 1
          },
          "autotypenumbers": "strict",
          "coloraxis": {
           "colorbar": {
            "outlinewidth": 0,
            "ticks": ""
           }
          },
          "colorscale": {
           "diverging": [
            [
             0,
             "#8e0152"
            ],
            [
             0.1,
             "#c51b7d"
            ],
            [
             0.2,
             "#de77ae"
            ],
            [
             0.3,
             "#f1b6da"
            ],
            [
             0.4,
             "#fde0ef"
            ],
            [
             0.5,
             "#f7f7f7"
            ],
            [
             0.6,
             "#e6f5d0"
            ],
            [
             0.7,
             "#b8e186"
            ],
            [
             0.8,
             "#7fbc41"
            ],
            [
             0.9,
             "#4d9221"
            ],
            [
             1,
             "#276419"
            ]
           ],
           "sequential": [
            [
             0,
             "#0d0887"
            ],
            [
             0.1111111111111111,
             "#46039f"
            ],
            [
             0.2222222222222222,
             "#7201a8"
            ],
            [
             0.3333333333333333,
             "#9c179e"
            ],
            [
             0.4444444444444444,
             "#bd3786"
            ],
            [
             0.5555555555555556,
             "#d8576b"
            ],
            [
             0.6666666666666666,
             "#ed7953"
            ],
            [
             0.7777777777777778,
             "#fb9f3a"
            ],
            [
             0.8888888888888888,
             "#fdca26"
            ],
            [
             1,
             "#f0f921"
            ]
           ],
           "sequentialminus": [
            [
             0,
             "#0d0887"
            ],
            [
             0.1111111111111111,
             "#46039f"
            ],
            [
             0.2222222222222222,
             "#7201a8"
            ],
            [
             0.3333333333333333,
             "#9c179e"
            ],
            [
             0.4444444444444444,
             "#bd3786"
            ],
            [
             0.5555555555555556,
             "#d8576b"
            ],
            [
             0.6666666666666666,
             "#ed7953"
            ],
            [
             0.7777777777777778,
             "#fb9f3a"
            ],
            [
             0.8888888888888888,
             "#fdca26"
            ],
            [
             1,
             "#f0f921"
            ]
           ]
          },
          "colorway": [
           "#636efa",
           "#EF553B",
           "#00cc96",
           "#ab63fa",
           "#FFA15A",
           "#19d3f3",
           "#FF6692",
           "#B6E880",
           "#FF97FF",
           "#FECB52"
          ],
          "font": {
           "color": "#2a3f5f"
          },
          "geo": {
           "bgcolor": "white",
           "lakecolor": "white",
           "landcolor": "#E5ECF6",
           "showlakes": true,
           "showland": true,
           "subunitcolor": "white"
          },
          "hoverlabel": {
           "align": "left"
          },
          "hovermode": "closest",
          "mapbox": {
           "style": "light"
          },
          "paper_bgcolor": "white",
          "plot_bgcolor": "#E5ECF6",
          "polar": {
           "angularaxis": {
            "gridcolor": "white",
            "linecolor": "white",
            "ticks": ""
           },
           "bgcolor": "#E5ECF6",
           "radialaxis": {
            "gridcolor": "white",
            "linecolor": "white",
            "ticks": ""
           }
          },
          "scene": {
           "xaxis": {
            "backgroundcolor": "#E5ECF6",
            "gridcolor": "white",
            "gridwidth": 2,
            "linecolor": "white",
            "showbackground": true,
            "ticks": "",
            "zerolinecolor": "white"
           },
           "yaxis": {
            "backgroundcolor": "#E5ECF6",
            "gridcolor": "white",
            "gridwidth": 2,
            "linecolor": "white",
            "showbackground": true,
            "ticks": "",
            "zerolinecolor": "white"
           },
           "zaxis": {
            "backgroundcolor": "#E5ECF6",
            "gridcolor": "white",
            "gridwidth": 2,
            "linecolor": "white",
            "showbackground": true,
            "ticks": "",
            "zerolinecolor": "white"
           }
          },
          "shapedefaults": {
           "line": {
            "color": "#2a3f5f"
           }
          },
          "ternary": {
           "aaxis": {
            "gridcolor": "white",
            "linecolor": "white",
            "ticks": ""
           },
           "baxis": {
            "gridcolor": "white",
            "linecolor": "white",
            "ticks": ""
           },
           "bgcolor": "#E5ECF6",
           "caxis": {
            "gridcolor": "white",
            "linecolor": "white",
            "ticks": ""
           }
          },
          "title": {
           "x": 0.05
          },
          "xaxis": {
           "automargin": true,
           "gridcolor": "white",
           "linecolor": "white",
           "ticks": "",
           "title": {
            "standoff": 15
           },
           "zerolinecolor": "white",
           "zerolinewidth": 2
          },
          "yaxis": {
           "automargin": true,
           "gridcolor": "white",
           "linecolor": "white",
           "ticks": "",
           "title": {
            "standoff": 15
           },
           "zerolinecolor": "white",
           "zerolinewidth": 2
          }
         }
        },
        "title": {
         "text": "Entropy paradox"
        },
        "xaxis": {
         "anchor": "y",
         "domain": [
          0,
          1
         ],
         "title": {
          "text": "index"
         }
        },
        "yaxis": {
         "anchor": "x",
         "domain": [
          0,
          1
         ],
         "title": {
          "text": "EntropyMove"
         }
        }
       }
      }
     },
     "metadata": {},
     "output_type": "display_data"
    }
   ],
   "source": [
    "fig = px.line(df, x=df.index, y=df.EntropyMove, text=[(\"%.3f\" % x) for x in df.EntropyMove.values], title='Entropy paradox')\n",
    "fig.show()"
   ]
  },
  {
   "cell_type": "code",
   "execution_count": 46,
   "metadata": {},
   "outputs": [
    {
     "data": {
      "application/vnd.plotly.v1+json": {
       "config": {
        "plotlyServerURL": "https://plot.ly"
       },
       "data": [
        {
         "hovertemplate": "index=%{x}<br>MessageSize=%{text}<extra></extra>",
         "legendgroup": "",
         "line": {
          "color": "#636efa",
          "dash": "solid"
         },
         "marker": {
          "symbol": "circle"
         },
         "mode": "lines+markers+text",
         "name": "",
         "orientation": "v",
         "showlegend": false,
         "text": [
          9173,
          8709,
          8309,
          8010,
          7596,
          7297,
          7086,
          6874,
          6733,
          6633,
          6544,
          6403,
          6236,
          6155,
          6111,
          6020,
          5978,
          5937,
          5902,
          5842
         ],
         "type": "scatter",
         "x": [
          1,
          2,
          3,
          4,
          5,
          6,
          7,
          8,
          9,
          10,
          11,
          12,
          13,
          14,
          15,
          16,
          17,
          18,
          19,
          20
         ],
         "xaxis": "x",
         "y": [
          9173,
          8709,
          8309,
          8010,
          7596,
          7297,
          7086,
          6874,
          6733,
          6633,
          6544,
          6403,
          6236,
          6155,
          6111,
          6020,
          5978,
          5937,
          5902,
          5842
         ],
         "yaxis": "y"
        }
       ],
       "layout": {
        "legend": {
         "tracegroupgap": 0
        },
        "template": {
         "data": {
          "bar": [
           {
            "error_x": {
             "color": "#2a3f5f"
            },
            "error_y": {
             "color": "#2a3f5f"
            },
            "marker": {
             "line": {
              "color": "#E5ECF6",
              "width": 0.5
             },
             "pattern": {
              "fillmode": "overlay",
              "size": 10,
              "solidity": 0.2
             }
            },
            "type": "bar"
           }
          ],
          "barpolar": [
           {
            "marker": {
             "line": {
              "color": "#E5ECF6",
              "width": 0.5
             },
             "pattern": {
              "fillmode": "overlay",
              "size": 10,
              "solidity": 0.2
             }
            },
            "type": "barpolar"
           }
          ],
          "carpet": [
           {
            "aaxis": {
             "endlinecolor": "#2a3f5f",
             "gridcolor": "white",
             "linecolor": "white",
             "minorgridcolor": "white",
             "startlinecolor": "#2a3f5f"
            },
            "baxis": {
             "endlinecolor": "#2a3f5f",
             "gridcolor": "white",
             "linecolor": "white",
             "minorgridcolor": "white",
             "startlinecolor": "#2a3f5f"
            },
            "type": "carpet"
           }
          ],
          "choropleth": [
           {
            "colorbar": {
             "outlinewidth": 0,
             "ticks": ""
            },
            "type": "choropleth"
           }
          ],
          "contour": [
           {
            "colorbar": {
             "outlinewidth": 0,
             "ticks": ""
            },
            "colorscale": [
             [
              0,
              "#0d0887"
             ],
             [
              0.1111111111111111,
              "#46039f"
             ],
             [
              0.2222222222222222,
              "#7201a8"
             ],
             [
              0.3333333333333333,
              "#9c179e"
             ],
             [
              0.4444444444444444,
              "#bd3786"
             ],
             [
              0.5555555555555556,
              "#d8576b"
             ],
             [
              0.6666666666666666,
              "#ed7953"
             ],
             [
              0.7777777777777778,
              "#fb9f3a"
             ],
             [
              0.8888888888888888,
              "#fdca26"
             ],
             [
              1,
              "#f0f921"
             ]
            ],
            "type": "contour"
           }
          ],
          "contourcarpet": [
           {
            "colorbar": {
             "outlinewidth": 0,
             "ticks": ""
            },
            "type": "contourcarpet"
           }
          ],
          "heatmap": [
           {
            "colorbar": {
             "outlinewidth": 0,
             "ticks": ""
            },
            "colorscale": [
             [
              0,
              "#0d0887"
             ],
             [
              0.1111111111111111,
              "#46039f"
             ],
             [
              0.2222222222222222,
              "#7201a8"
             ],
             [
              0.3333333333333333,
              "#9c179e"
             ],
             [
              0.4444444444444444,
              "#bd3786"
             ],
             [
              0.5555555555555556,
              "#d8576b"
             ],
             [
              0.6666666666666666,
              "#ed7953"
             ],
             [
              0.7777777777777778,
              "#fb9f3a"
             ],
             [
              0.8888888888888888,
              "#fdca26"
             ],
             [
              1,
              "#f0f921"
             ]
            ],
            "type": "heatmap"
           }
          ],
          "heatmapgl": [
           {
            "colorbar": {
             "outlinewidth": 0,
             "ticks": ""
            },
            "colorscale": [
             [
              0,
              "#0d0887"
             ],
             [
              0.1111111111111111,
              "#46039f"
             ],
             [
              0.2222222222222222,
              "#7201a8"
             ],
             [
              0.3333333333333333,
              "#9c179e"
             ],
             [
              0.4444444444444444,
              "#bd3786"
             ],
             [
              0.5555555555555556,
              "#d8576b"
             ],
             [
              0.6666666666666666,
              "#ed7953"
             ],
             [
              0.7777777777777778,
              "#fb9f3a"
             ],
             [
              0.8888888888888888,
              "#fdca26"
             ],
             [
              1,
              "#f0f921"
             ]
            ],
            "type": "heatmapgl"
           }
          ],
          "histogram": [
           {
            "marker": {
             "pattern": {
              "fillmode": "overlay",
              "size": 10,
              "solidity": 0.2
             }
            },
            "type": "histogram"
           }
          ],
          "histogram2d": [
           {
            "colorbar": {
             "outlinewidth": 0,
             "ticks": ""
            },
            "colorscale": [
             [
              0,
              "#0d0887"
             ],
             [
              0.1111111111111111,
              "#46039f"
             ],
             [
              0.2222222222222222,
              "#7201a8"
             ],
             [
              0.3333333333333333,
              "#9c179e"
             ],
             [
              0.4444444444444444,
              "#bd3786"
             ],
             [
              0.5555555555555556,
              "#d8576b"
             ],
             [
              0.6666666666666666,
              "#ed7953"
             ],
             [
              0.7777777777777778,
              "#fb9f3a"
             ],
             [
              0.8888888888888888,
              "#fdca26"
             ],
             [
              1,
              "#f0f921"
             ]
            ],
            "type": "histogram2d"
           }
          ],
          "histogram2dcontour": [
           {
            "colorbar": {
             "outlinewidth": 0,
             "ticks": ""
            },
            "colorscale": [
             [
              0,
              "#0d0887"
             ],
             [
              0.1111111111111111,
              "#46039f"
             ],
             [
              0.2222222222222222,
              "#7201a8"
             ],
             [
              0.3333333333333333,
              "#9c179e"
             ],
             [
              0.4444444444444444,
              "#bd3786"
             ],
             [
              0.5555555555555556,
              "#d8576b"
             ],
             [
              0.6666666666666666,
              "#ed7953"
             ],
             [
              0.7777777777777778,
              "#fb9f3a"
             ],
             [
              0.8888888888888888,
              "#fdca26"
             ],
             [
              1,
              "#f0f921"
             ]
            ],
            "type": "histogram2dcontour"
           }
          ],
          "mesh3d": [
           {
            "colorbar": {
             "outlinewidth": 0,
             "ticks": ""
            },
            "type": "mesh3d"
           }
          ],
          "parcoords": [
           {
            "line": {
             "colorbar": {
              "outlinewidth": 0,
              "ticks": ""
             }
            },
            "type": "parcoords"
           }
          ],
          "pie": [
           {
            "automargin": true,
            "type": "pie"
           }
          ],
          "scatter": [
           {
            "marker": {
             "colorbar": {
              "outlinewidth": 0,
              "ticks": ""
             }
            },
            "type": "scatter"
           }
          ],
          "scatter3d": [
           {
            "line": {
             "colorbar": {
              "outlinewidth": 0,
              "ticks": ""
             }
            },
            "marker": {
             "colorbar": {
              "outlinewidth": 0,
              "ticks": ""
             }
            },
            "type": "scatter3d"
           }
          ],
          "scattercarpet": [
           {
            "marker": {
             "colorbar": {
              "outlinewidth": 0,
              "ticks": ""
             }
            },
            "type": "scattercarpet"
           }
          ],
          "scattergeo": [
           {
            "marker": {
             "colorbar": {
              "outlinewidth": 0,
              "ticks": ""
             }
            },
            "type": "scattergeo"
           }
          ],
          "scattergl": [
           {
            "marker": {
             "colorbar": {
              "outlinewidth": 0,
              "ticks": ""
             }
            },
            "type": "scattergl"
           }
          ],
          "scattermapbox": [
           {
            "marker": {
             "colorbar": {
              "outlinewidth": 0,
              "ticks": ""
             }
            },
            "type": "scattermapbox"
           }
          ],
          "scatterpolar": [
           {
            "marker": {
             "colorbar": {
              "outlinewidth": 0,
              "ticks": ""
             }
            },
            "type": "scatterpolar"
           }
          ],
          "scatterpolargl": [
           {
            "marker": {
             "colorbar": {
              "outlinewidth": 0,
              "ticks": ""
             }
            },
            "type": "scatterpolargl"
           }
          ],
          "scatterternary": [
           {
            "marker": {
             "colorbar": {
              "outlinewidth": 0,
              "ticks": ""
             }
            },
            "type": "scatterternary"
           }
          ],
          "surface": [
           {
            "colorbar": {
             "outlinewidth": 0,
             "ticks": ""
            },
            "colorscale": [
             [
              0,
              "#0d0887"
             ],
             [
              0.1111111111111111,
              "#46039f"
             ],
             [
              0.2222222222222222,
              "#7201a8"
             ],
             [
              0.3333333333333333,
              "#9c179e"
             ],
             [
              0.4444444444444444,
              "#bd3786"
             ],
             [
              0.5555555555555556,
              "#d8576b"
             ],
             [
              0.6666666666666666,
              "#ed7953"
             ],
             [
              0.7777777777777778,
              "#fb9f3a"
             ],
             [
              0.8888888888888888,
              "#fdca26"
             ],
             [
              1,
              "#f0f921"
             ]
            ],
            "type": "surface"
           }
          ],
          "table": [
           {
            "cells": {
             "fill": {
              "color": "#EBF0F8"
             },
             "line": {
              "color": "white"
             }
            },
            "header": {
             "fill": {
              "color": "#C8D4E3"
             },
             "line": {
              "color": "white"
             }
            },
            "type": "table"
           }
          ]
         },
         "layout": {
          "annotationdefaults": {
           "arrowcolor": "#2a3f5f",
           "arrowhead": 0,
           "arrowwidth": 1
          },
          "autotypenumbers": "strict",
          "coloraxis": {
           "colorbar": {
            "outlinewidth": 0,
            "ticks": ""
           }
          },
          "colorscale": {
           "diverging": [
            [
             0,
             "#8e0152"
            ],
            [
             0.1,
             "#c51b7d"
            ],
            [
             0.2,
             "#de77ae"
            ],
            [
             0.3,
             "#f1b6da"
            ],
            [
             0.4,
             "#fde0ef"
            ],
            [
             0.5,
             "#f7f7f7"
            ],
            [
             0.6,
             "#e6f5d0"
            ],
            [
             0.7,
             "#b8e186"
            ],
            [
             0.8,
             "#7fbc41"
            ],
            [
             0.9,
             "#4d9221"
            ],
            [
             1,
             "#276419"
            ]
           ],
           "sequential": [
            [
             0,
             "#0d0887"
            ],
            [
             0.1111111111111111,
             "#46039f"
            ],
            [
             0.2222222222222222,
             "#7201a8"
            ],
            [
             0.3333333333333333,
             "#9c179e"
            ],
            [
             0.4444444444444444,
             "#bd3786"
            ],
            [
             0.5555555555555556,
             "#d8576b"
            ],
            [
             0.6666666666666666,
             "#ed7953"
            ],
            [
             0.7777777777777778,
             "#fb9f3a"
            ],
            [
             0.8888888888888888,
             "#fdca26"
            ],
            [
             1,
             "#f0f921"
            ]
           ],
           "sequentialminus": [
            [
             0,
             "#0d0887"
            ],
            [
             0.1111111111111111,
             "#46039f"
            ],
            [
             0.2222222222222222,
             "#7201a8"
            ],
            [
             0.3333333333333333,
             "#9c179e"
            ],
            [
             0.4444444444444444,
             "#bd3786"
            ],
            [
             0.5555555555555556,
             "#d8576b"
            ],
            [
             0.6666666666666666,
             "#ed7953"
            ],
            [
             0.7777777777777778,
             "#fb9f3a"
            ],
            [
             0.8888888888888888,
             "#fdca26"
            ],
            [
             1,
             "#f0f921"
            ]
           ]
          },
          "colorway": [
           "#636efa",
           "#EF553B",
           "#00cc96",
           "#ab63fa",
           "#FFA15A",
           "#19d3f3",
           "#FF6692",
           "#B6E880",
           "#FF97FF",
           "#FECB52"
          ],
          "font": {
           "color": "#2a3f5f"
          },
          "geo": {
           "bgcolor": "white",
           "lakecolor": "white",
           "landcolor": "#E5ECF6",
           "showlakes": true,
           "showland": true,
           "subunitcolor": "white"
          },
          "hoverlabel": {
           "align": "left"
          },
          "hovermode": "closest",
          "mapbox": {
           "style": "light"
          },
          "paper_bgcolor": "white",
          "plot_bgcolor": "#E5ECF6",
          "polar": {
           "angularaxis": {
            "gridcolor": "white",
            "linecolor": "white",
            "ticks": ""
           },
           "bgcolor": "#E5ECF6",
           "radialaxis": {
            "gridcolor": "white",
            "linecolor": "white",
            "ticks": ""
           }
          },
          "scene": {
           "xaxis": {
            "backgroundcolor": "#E5ECF6",
            "gridcolor": "white",
            "gridwidth": 2,
            "linecolor": "white",
            "showbackground": true,
            "ticks": "",
            "zerolinecolor": "white"
           },
           "yaxis": {
            "backgroundcolor": "#E5ECF6",
            "gridcolor": "white",
            "gridwidth": 2,
            "linecolor": "white",
            "showbackground": true,
            "ticks": "",
            "zerolinecolor": "white"
           },
           "zaxis": {
            "backgroundcolor": "#E5ECF6",
            "gridcolor": "white",
            "gridwidth": 2,
            "linecolor": "white",
            "showbackground": true,
            "ticks": "",
            "zerolinecolor": "white"
           }
          },
          "shapedefaults": {
           "line": {
            "color": "#2a3f5f"
           }
          },
          "ternary": {
           "aaxis": {
            "gridcolor": "white",
            "linecolor": "white",
            "ticks": ""
           },
           "baxis": {
            "gridcolor": "white",
            "linecolor": "white",
            "ticks": ""
           },
           "bgcolor": "#E5ECF6",
           "caxis": {
            "gridcolor": "white",
            "linecolor": "white",
            "ticks": ""
           }
          },
          "title": {
           "x": 0.05
          },
          "xaxis": {
           "automargin": true,
           "gridcolor": "white",
           "linecolor": "white",
           "ticks": "",
           "title": {
            "standoff": 15
           },
           "zerolinecolor": "white",
           "zerolinewidth": 2
          },
          "yaxis": {
           "automargin": true,
           "gridcolor": "white",
           "linecolor": "white",
           "ticks": "",
           "title": {
            "standoff": 15
           },
           "zerolinecolor": "white",
           "zerolinewidth": 2
          }
         }
        },
        "title": {
         "text": "Message size"
        },
        "xaxis": {
         "anchor": "y",
         "domain": [
          0,
          1
         ],
         "title": {
          "text": "index"
         }
        },
        "yaxis": {
         "anchor": "x",
         "domain": [
          0,
          1
         ],
         "title": {
          "text": "MessageSize"
         }
        }
       }
      }
     },
     "metadata": {},
     "output_type": "display_data"
    }
   ],
   "source": [
    "fig = px.line(df, x=df.index, y=df.MessageSize, text=df.MessageSize, title='Message size')\n",
    "fig.show()\n",
    "fig.write_image(\"test.png\")"
   ]
  },
  {
   "cell_type": "markdown",
   "metadata": {},
   "source": [
    "# Real experiment data"
   ]
  },
  {
   "cell_type": "code",
   "execution_count": 47,
   "metadata": {},
   "outputs": [],
   "source": [
    "def get_datasets(normalization=None):\n",
    "    return [\n",
    "        #(*load_dataset(DataSets.english, normalization), DataSets.english), \n",
    "        (*load_dataset(DataSets.dna, normalization), DataSets.dna),\n",
    "        (*load_dataset(DataSets.proteins, normalization), DataSets.proteins),\n",
    "        #(*load_dataset(DataSets.sources, normalization), DataSets.sources),\n",
    "    ]"
   ]
  },
  {
   "cell_type": "code",
   "execution_count": 48,
   "metadata": {},
   "outputs": [],
   "source": [
    "NORM_VALUES = [10000, 20000]\n",
    "CSV_NAME = \"steps.csv\"\n",
    "ENTROPY_GRAPH = \"entropy_paradox.png\"\n",
    "MESSAGE_GRAPH = \"message_size.png\""
   ]
  },
  {
   "cell_type": "code",
   "execution_count": 49,
   "metadata": {},
   "outputs": [],
   "source": [
    "def write_images(df, path):\n",
    "    fig = px.line(df, x=df.index, y=df.EntropyMove, text=[(\"%.3f\" % x) for x in df.EntropyMove.values], title='Entropy paradox')\n",
    "    fig.write_image(os.path.sep.join([path, ENTROPY_GRAPH]))\n",
    "    fig = px.line(df, x=df.index, y=df.MessageSize, text=df.MessageSize, title='Message size')\n",
    "    fig.write_image(os.path.sep.join([path, MESSAGE_GRAPH]))    "
   ]
  },
  {
   "cell_type": "code",
   "execution_count": 50,
   "metadata": {},
   "outputs": [],
   "source": [
    "def save_dataframe(df, path):\n",
    "    path = os.path.sep.join([path, CSV_NAME])\n",
    "    df.to_csv(path, index=False)"
   ]
  },
  {
   "cell_type": "code",
   "execution_count": 51,
   "metadata": {},
   "outputs": [],
   "source": [
    "def run_algorithm_for_datasets(normalization_values=NORM_VALUES, limit_steps=None):\n",
    "    for n_v in normalization_values:\n",
    "\n",
    "        datasets = get_datasets(n_v)\n",
    "\n",
    "        for data, data_path, data_type in datasets:\n",
    "            data_type_string = data_type.value\n",
    "            current_path = os.path.sep.join([data_type_string, str(n_v)])\n",
    "\n",
    "\n",
    "            limit_steps_str = \"None\" if limit_steps is None else str(limit_steps)\n",
    "            steps_path = os.path.sep.join([current_path, limit_steps_str])\n",
    "\n",
    "            if not os.path.isdir(steps_path):\n",
    "                os.makedirs(steps_path)\n",
    "\n",
    "            res = algorithm(data, data_type_string, \"\", limit_step=limit_steps)\n",
    "            df = pd.DataFrame.from_dict(res, orient=\"index\")\n",
    "\n",
    "\n",
    "\n",
    "\n",
    "            save_dataframe(df, steps_path)\n",
    "            write_images(df, steps_path)"
   ]
  },
  {
   "cell_type": "code",
   "execution_count": 69,
   "metadata": {},
   "outputs": [
    {
     "name": "stdout",
     "output_type": "stream",
     "text": [
      "Loading C://Users//proko//Desktop//University//iv//aks//datasets\\dna\\dna.50MB\n",
      "Loading C://Users//proko//Desktop//University//iv//aks//datasets\\proteins\\proteins.50MB\n",
      "('TA', {'Counter': 819, 'Diff': -873.8662290760512})\n",
      "0 10000\n",
      "\n",
      "\n",
      "('GC', {'Counter': 431, 'Diff': -579.1534863949419})\n",
      "1 9181\n",
      "\n",
      "\n",
      "('AT', {'Counter': 425, 'Diff': -574.2953257232366})\n",
      "2 8750\n",
      "\n",
      "\n",
      "('CG', {'Counter': 284, 'Diff': -420.0601849436498})\n",
      "3 8325\n",
      "\n",
      "\n",
      "('CT', {'Counter': 341, 'Diff': -295.3401374411915})\n",
      "4 8041\n",
      "\n",
      "\n",
      "('AG', {'Counter': 361, 'Diff': -298.18887423037086})\n",
      "5 7700\n",
      "\n",
      "\n",
      "('GA', {'Counter': 226, 'Diff': -190.41601745917433})\n",
      "6 7339\n",
      "\n",
      "\n",
      "('TC', {'Counter': 248, 'Diff': -193.4222293665116})\n",
      "7 7113\n",
      "\n",
      "\n",
      "('𢶺T', {'Counter': 141, 'Diff': -151.4200575779323})\n",
      "8 6865\n",
      "\n",
      "\n",
      "('A𢶺', {'Counter': 118, 'Diff': -124.80432680759259})\n",
      "9 6724\n",
      "\n",
      "\n",
      "('C𢶺', {'Counter': 72, 'Diff': -86.69197509943115})\n",
      "10 6606\n",
      "\n",
      "\n",
      "('A钦', {'Counter': 55, 'Diff': -79.41877016116996})\n",
      "11 6534\n",
      "\n",
      "\n",
      "('𢶺G', {'Counter': 73, 'Diff': -76.50825390650061})\n",
      "12 6479\n",
      "\n",
      "\n",
      "('钦T', {'Counter': 55, 'Diff': -69.96967733355632})\n",
      "13 6406\n",
      "\n",
      "\n",
      "('𧱡A', {'Counter': 60, 'Diff': -58.61827544258995})\n",
      "14 6351\n",
      "\n",
      "\n",
      "('𤛐G', {'Counter': 66, 'Diff': -59.345211257441406})\n",
      "15 6291\n",
      "\n",
      "\n",
      "('T𣳴', {'Counter': 55, 'Diff': -58.80507062503966})\n",
      "16 6225\n",
      "\n",
      "\n",
      "('CC', {'Counter': 141, 'Diff': -56.59002867142044})\n",
      "17 6170\n",
      "\n",
      "\n",
      "('T𢶺', {'Counter': 85, 'Diff': -51.608606599147606})\n",
      "18 6052\n",
      "\n",
      "\n",
      "('G钦', {'Counter': 39, 'Diff': -48.56574987469139})\n",
      "19 5967\n",
      "\n",
      "\n",
      "('G𧱡', {'Counter': 32, 'Diff': -44.16180978112243})\n",
      "20 5928\n",
      "\n",
      "\n",
      "('㵑A', {'Counter': 52, 'Diff': -43.143094849281624})\n",
      "21 5896\n",
      "\n",
      "\n",
      "('A𤛐', {'Counter': 70, 'Diff': -43.79080637398147})\n",
      "22 5844\n",
      "\n",
      "\n",
      "('钦A', {'Counter': 44, 'Diff': -38.43582076859093})\n",
      "23 5774\n",
      "\n",
      "\n",
      "('𣳴G', {'Counter': 41, 'Diff': -36.263027803754085})\n",
      "24 5730\n",
      "\n",
      "\n",
      "('𧱡T', {'Counter': 52, 'Diff': -33.90177096433763})\n",
      "25 5689\n",
      "\n",
      "\n",
      "('T钦', {'Counter': 39, 'Diff': -32.35408815815026})\n",
      "26 5637\n",
      "\n",
      "\n",
      "('T氾', {'Counter': 35, 'Diff': -29.5473622215286})\n",
      "27 5598\n",
      "\n",
      "\n",
      "('𢶺C', {'Counter': 46, 'Diff': -28.66809286260468})\n",
      "28 5563\n",
      "\n",
      "\n",
      "('A㵑', {'Counter': 40, 'Diff': -27.452172785266157})\n",
      "29 5517\n",
      "\n",
      "\n",
      "('G𥀞', {'Counter': 44, 'Diff': -22.39406510912886})\n",
      "30 5477\n",
      "\n",
      "\n",
      "('T𬤿', {'Counter': 17, 'Diff': -20.60180755482361})\n",
      "31 5433\n",
      "\n",
      "\n",
      "('𢶺𤛐', {'Counter': 12, 'Diff': -20.636389871488063})\n",
      "32 5416\n",
      "\n",
      "\n",
      "('A𣳴', {'Counter': 47, 'Diff': -20.73810813395903})\n",
      "33 5404\n",
      "\n",
      "\n",
      "('钦G', {'Counter': 31, 'Diff': -19.96878452937017})\n",
      "34 5357\n",
      "\n",
      "\n",
      "('𤛐C', {'Counter': 42, 'Diff': -17.351599529276427})\n",
      "35 5326\n",
      "\n",
      "\n",
      "('氾A', {'Counter': 33, 'Diff': -17.62273571539481})\n",
      "36 5284\n",
      "\n",
      "\n",
      "('G𬤿', {'Counter': 12, 'Diff': -16.11592462153203})\n",
      "37 5251\n",
      "\n",
      "\n",
      "('C㵑', {'Counter': 23, 'Diff': -15.773025587470329})\n",
      "38 5239\n",
      "\n",
      "\n",
      "('𧱡𢶺', {'Counter': 13, 'Diff': -15.14756743714679})\n",
      "39 5216\n",
      "\n",
      "\n",
      "('잾G', {'Counter': 12, 'Diff': -14.948515598407539})\n",
      "40 5203\n",
      "\n",
      "\n",
      "('𬤿T', {'Counter': 18, 'Diff': -14.184076125988213})\n",
      "41 5191\n",
      "\n",
      "\n",
      "('𢶺𥀞', {'Counter': 10, 'Diff': -14.104411149750376})\n",
      "42 5173\n",
      "\n",
      "\n",
      "('𥀞A', {'Counter': 35, 'Diff': -14.130476739275764})\n",
      "43 5163\n",
      "\n",
      "\n",
      "('𣳴T', {'Counter': 42, 'Diff': -12.126623333206226})\n",
      "44 5128\n",
      "\n",
      "\n",
      "('𢶺𧱡', {'Counter': 15, 'Diff': -11.389510713721393})\n",
      "45 5086\n",
      "\n",
      "\n",
      "('A𬤿', {'Counter': 11, 'Diff': -11.370507629628264})\n",
      "46 5071\n",
      "\n",
      "\n",
      "('T筰', {'Counter': 11, 'Diff': -11.138539327843318})\n",
      "47 5060\n",
      "\n",
      "\n",
      "('钦𢶺', {'Counter': 9, 'Diff': -10.50747475818207})\n",
      "48 5049\n",
      "\n",
      "\n",
      "('𤛐钦', {'Counter': 9, 'Diff': -9.851770698256587})\n",
      "49 5040\n",
      "\n",
      "\n",
      "('𢶺氾', {'Counter': 6, 'Diff': -9.794219797167898})\n",
      "50 5031\n",
      "\n",
      "\n",
      "('𥀞𤛐', {'Counter': 9, 'Diff': -9.373297711139458})\n",
      "51 5025\n",
      "\n",
      "\n",
      "('𭃍G', {'Counter': 7, 'Diff': -9.364242325958912})\n",
      "52 5016\n",
      "\n",
      "\n",
      "('G𢶺', {'Counter': 42, 'Diff': -8.922412846302905})\n",
      "53 5009\n",
      "\n",
      "\n",
      "('A잾', {'Counter': 17, 'Diff': -9.044321914683678})\n",
      "54 4967\n",
      "\n",
      "\n",
      "('氾𤛐', {'Counter': 8, 'Diff': -8.916409407182073})\n",
      "55 4950\n",
      "\n",
      "\n",
      "('㵑T', {'Counter': 35, 'Diff': -8.503507907244057})\n",
      "56 4942\n",
      "\n",
      "\n",
      "('𤛐𣳴', {'Counter': 9, 'Diff': -8.39043630809465})\n",
      "57 4907\n",
      "\n",
      "\n",
      "('𭃆G', {'Counter': 6, 'Diff': -7.91297384819336})\n",
      "58 4898\n",
      "\n",
      "\n",
      "('钦𧱡', {'Counter': 7, 'Diff': -7.76981423664256})\n",
      "59 4892\n",
      "\n",
      "\n",
      "('𭣽G', {'Counter': 9, 'Diff': -7.49596051804474})\n",
      "60 4885\n",
      "\n",
      "\n",
      "('ꋸC', {'Counter': 17, 'Diff': -7.281121119536692})\n",
      "61 4876\n",
      "\n",
      "\n",
      "('𧱡氾', {'Counter': 7, 'Diff': -7.027306865042192})\n",
      "62 4859\n",
      "\n",
      "\n",
      "('G𭣽', {'Counter': 7, 'Diff': -6.9881572223494})\n",
      "63 4852\n",
      "\n",
      "\n",
      "('𥁜A', {'Counter': 4, 'Diff': -6.969456583217834})\n",
      "64 4845\n",
      "\n",
      "\n",
      "('T𦑣', {'Counter': 7, 'Diff': -6.817798537096678})\n",
      "65 4841\n",
      "\n",
      "\n",
      "('氾𧱡', {'Counter': 6, 'Diff': -6.670720485260972})\n",
      "66 4834\n",
      "\n",
      "\n",
      "('𠏶G', {'Counter': 5, 'Diff': -6.325533233473834})\n",
      "67 4828\n",
      "\n",
      "\n",
      "('C𭃆', {'Counter': 5, 'Diff': -6.183176840280794})\n",
      "68 4823\n",
      "\n",
      "\n",
      "('T㩍', {'Counter': 7, 'Diff': -6.10904333162398})\n",
      "69 4818\n",
      "\n",
      "\n",
      "('𢶺㵑', {'Counter': 7, 'Diff': -6.094872678477259})\n",
      "70 4811\n",
      "\n",
      "\n",
      "('筰A', {'Counter': 12, 'Diff': -6.035521996960597})\n",
      "71 4804\n",
      "\n",
      "\n",
      "('𣳴钦', {'Counter': 5, 'Diff': -6.021557802425377})\n",
      "72 4792\n",
      "\n",
      "\n",
      "('C𗾠', {'Counter': 8, 'Diff': -5.938041294040886})\n",
      "73 4787\n",
      "\n",
      "\n",
      "('잾C', {'Counter': 11, 'Diff': -6.444907031203911})\n",
      "74 4779\n",
      "\n",
      "\n",
      "('𤛐𥀞', {'Counter': 11, 'Diff': -5.981487365796056})\n",
      "75 4768\n",
      "\n",
      "\n",
      "('𥁜T', {'Counter': 7, 'Diff': -5.875007616090443})\n",
      "76 4757\n",
      "\n",
      "\n",
      "('髒A', {'Counter': 4, 'Diff': -5.531635221217584})\n",
      "77 4750\n",
      "\n",
      "\n",
      "('𠏶T', {'Counter': 7, 'Diff': -5.528772664762073})\n",
      "78 4746\n",
      "\n",
      "\n",
      "('G𭷻', {'Counter': 8, 'Diff': -5.468039236166078})\n",
      "79 4739\n",
      "\n",
      "\n",
      "('𤛐ꋸ', {'Counter': 5, 'Diff': -5.392428202248993})\n",
      "80 4731\n",
      "\n",
      "\n",
      "('𧱡𧱡', {'Counter': 10, 'Diff': -5.397518846155435})\n",
      "81 4726\n",
      "\n",
      "\n",
      "('𥀞㵑', {'Counter': 3, 'Diff': -5.1888357062453})\n",
      "82 4716\n",
      "\n",
      "\n",
      "('C𒂆', {'Counter': 3, 'Diff': -5.175802332581952})\n",
      "83 4713\n",
      "\n",
      "\n",
      "('G𭃆', {'Counter': 7, 'Diff': -5.157736594173912})\n",
      "84 4710\n",
      "\n",
      "\n",
      "('A疪', {'Counter': 4, 'Diff': -5.10760056572326})\n",
      "85 4703\n",
      "\n",
      "\n",
      "('氾钦', {'Counter': 5, 'Diff': -5.054987146646454})\n",
      "86 4699\n",
      "\n",
      "\n",
      "('C𬤿', {'Counter': 11, 'Diff': -4.892163681386592})\n",
      "87 4694\n",
      "\n",
      "\n",
      "('𭃍C', {'Counter': 7, 'Diff': -5.0888827738162945})\n",
      "88 4683\n",
      "\n",
      "\n",
      "('G𦑣', {'Counter': 6, 'Diff': -4.504949014044541})\n",
      "89 4676\n",
      "\n",
      "\n",
      "('㵑钦', {'Counter': 2, 'Diff': -4.481352219328983})\n",
      "90 4670\n",
      "\n",
      "\n",
      "('T참', {'Counter': 4, 'Diff': -4.435205235531612})\n",
      "91 4668\n",
      "\n",
      "\n",
      "('𥁜G', {'Counter': 5, 'Diff': -4.400483114859526})\n",
      "92 4664\n",
      "\n",
      "\n",
      "('𥀞钦', {'Counter': 6, 'Diff': -4.36731162680735})\n",
      "93 4659\n",
      "\n",
      "\n",
      "('𣳴𣳴', {'Counter': 7, 'Diff': -4.2337231345591135})\n",
      "94 4653\n",
      "\n",
      "\n",
      "('𝝋G', {'Counter': 4, 'Diff': -4.099500287491537})\n",
      "95 4646\n",
      "\n",
      "\n",
      "('𣳴㵑', {'Counter': 5, 'Diff': -4.066115410831117})\n",
      "96 4642\n",
      "\n",
      "\n",
      "('ⰬG', {'Counter': 4, 'Diff': -4.048974070985423})\n",
      "97 4637\n",
      "\n",
      "\n",
      "('㩍C', {'Counter': 4, 'Diff': -4.034937806580274})\n",
      "98 4633\n",
      "\n",
      "\n",
      "('C𤛐', {'Counter': 27, 'Diff': -4.663782483046816})\n",
      "99 4629\n",
      "\n",
      "\n",
      "('잾𢶺', {'Counter': 3, 'Diff': -4.032116180187586})\n",
      "100 4602\n",
      "\n",
      "\n",
      "('𢶺钦', {'Counter': 8, 'Diff': -4.352238305618812})\n",
      "101 4599\n",
      "\n",
      "\n",
      "('T𠏶', {'Counter': 7, 'Diff': -3.9655810591466434})\n",
      "102 4591\n",
      "\n",
      "\n",
      "('𦑣T', {'Counter': 6, 'Diff': -4.510445058702317})\n",
      "103 4584\n",
      "\n",
      "\n",
      "('G愐', {'Counter': 5, 'Diff': -3.9272952192332014})\n",
      "104 4578\n",
      "\n",
      "\n",
      "('𧎂T', {'Counter': 4, 'Diff': -3.7804153459946974})\n",
      "105 4573\n",
      "\n",
      "\n",
      "('㵑氾', {'Counter': 5, 'Diff': -3.7562586632593593})\n",
      "106 4569\n",
      "\n",
      "\n",
      "('G𦂰', {'Counter': 6, 'Diff': -3.7651213110948447})\n",
      "107 4564\n",
      "\n",
      "\n",
      "('𦕑A', {'Counter': 5, 'Diff': -3.6066142484924057})\n",
      "108 4558\n",
      "\n",
      "\n",
      "('𣳴𥀞', {'Counter': 6, 'Diff': -3.608235568914097})\n",
      "109 4553\n",
      "\n",
      "\n",
      "('𤛐𬤿', {'Counter': 2, 'Diff': -3.454809680024482})\n",
      "110 4547\n",
      "\n",
      "\n",
      "('ꋸ钦', {'Counter': 2, 'Diff': -3.441480046702054})\n",
      "111 4545\n",
      "\n",
      "\n",
      "('钦C', {'Counter': 15, 'Diff': -4.165762653025013})\n",
      "112 4543\n",
      "\n",
      "\n",
      "('𧱡钦', {'Counter': 5, 'Diff': -3.8938228058359527})\n",
      "113 4528\n",
      "\n",
      "\n",
      "('C𢆐', {'Counter': 3, 'Diff': -3.450169923788053})\n",
      "114 4523\n",
      "\n",
      "\n",
      "('𢛽G', {'Counter': 5, 'Diff': -3.4247658760941704})\n",
      "115 4520\n",
      "\n",
      "\n",
      "('잾𧱡', {'Counter': 2, 'Diff': -3.343546762393089})\n",
      "116 4515\n",
      "\n",
      "\n",
      "('ꋸ㵑', {'Counter': 2, 'Diff': -3.2733421202283353})\n",
      "117 4513\n",
      "\n",
      "\n",
      "('疪T', {'Counter': 6, 'Diff': -3.258766083195951})\n",
      "118 4511\n",
      "\n",
      "\n",
      "('𧱡잾', {'Counter': 2, 'Diff': -3.2302436285644944})\n",
      "119 4505\n",
      "\n",
      "\n",
      "('C髒', {'Counter': 3, 'Diff': -3.20232370188387})\n",
      "120 4503\n",
      "\n",
      "\n",
      "('𗾠𢶺', {'Counter': 2, 'Diff': -3.0835004605323775})\n",
      "121 4500\n",
      "\n",
      "\n",
      "('㩍A', {'Counter': 7, 'Diff': -3.084369593874726})\n",
      "122 4498\n",
      "\n",
      "\n",
      "('G𧎂', {'Counter': 2, 'Diff': -3.056550597826572})\n",
      "123 4491\n",
      "\n",
      "\n",
      "('𥁜C', {'Counter': 3, 'Diff': -3.053572953107505})\n",
      "124 4489\n",
      "\n",
      "\n",
      "('𠏶C', {'Counter': 2, 'Diff': -2.981469184625894})\n",
      "125 4486\n",
      "\n",
      "\n",
      "('𢶺ꋸ', {'Counter': 6, 'Diff': -2.8216983207821613})\n",
      "126 4484\n",
      "\n",
      "\n",
      "('𥀞잾', {'Counter': 2, 'Diff': -2.7722220088980976})\n",
      "127 4478\n",
      "\n",
      "\n",
      "('𭃍A', {'Counter': 11, 'Diff': -2.748200280519086})\n",
      "128 4476\n",
      "\n",
      "\n",
      "('A𒂆', {'Counter': 8, 'Diff': -3.655416261502978})\n",
      "129 4465\n",
      "\n",
      "\n",
      "('𮜓A', {'Counter': 7, 'Diff': -3.3100717431516387})\n",
      "130 4457\n",
      "\n",
      "\n",
      "('筰𤛐', {'Counter': 3, 'Diff': -2.758249851751316})\n",
      "131 4450\n",
      "\n",
      "\n",
      "('𢶺𭣽', {'Counter': 2, 'Diff': -2.7209781292294792})\n",
      "132 4447\n",
      "\n",
      "\n",
      "('氾𬤿', {'Counter': 2, 'Diff': -2.680799597495934})\n",
      "133 4445\n",
      "\n",
      "\n",
      "('𢶺𬤿', {'Counter': 1, 'Diff': -2.6166577814001357})\n",
      "134 4443\n",
      "\n",
      "\n",
      "('𦑣G', {'Counter': 5, 'Diff': -2.592348615737137})\n",
      "135 4442\n",
      "\n",
      "\n",
      "('钦ꋸ', {'Counter': 2, 'Diff': -2.583141391751269})\n",
      "136 4437\n",
      "\n",
      "\n",
      "('ꋸ𣳴', {'Counter': 3, 'Diff': -2.8843602333909075})\n",
      "137 4435\n",
      "\n",
      "\n",
      "('잾𣳴', {'Counter': 2, 'Diff': -2.4736988210715936})\n",
      "138 4432\n",
      "\n",
      "\n",
      "('𭣽𧱡', {'Counter': 2, 'Diff': -2.4073268679348985})\n",
      "139 4430\n",
      "\n",
      "\n",
      "('筰𢶺', {'Counter': 3, 'Diff': -2.3575196775855147})\n",
      "140 4428\n",
      "\n",
      "\n",
      "('𬤿𣳴', {'Counter': 2, 'Diff': -2.3405892988157575})\n",
      "141 4425\n",
      "\n",
      "\n",
      "('C𮝏', {'Counter': 1, 'Diff': -2.3043796151760034})\n",
      "142 4423\n",
      "\n",
      "\n",
      "('㵑𥀞', {'Counter': 6, 'Diff': -2.3050276696230867})\n",
      "143 4422\n",
      "\n",
      "\n",
      "('氾잾', {'Counter': 1, 'Diff': -2.278341755227302})\n",
      "144 4416\n",
      "\n",
      "\n",
      "('𭷻𤛐', {'Counter': 1, 'Diff': -2.264309942664113})\n",
      "145 4415\n",
      "\n",
      "\n",
      "('𭣽𢶺', {'Counter': 1, 'Diff': -2.224134072785091})\n",
      "146 4414\n",
      "\n",
      "\n",
      "('𣳴𬤿', {'Counter': 2, 'Diff': -2.207166712174512})\n",
      "147 4413\n",
      "\n",
      "\n",
      "('𭷻𧱡', {'Counter': 2, 'Diff': -2.155822766300844})\n",
      "148 4411\n",
      "\n",
      "\n",
      "('𗾠𥀞', {'Counter': 2, 'Diff': -2.129664764932386})\n",
      "149 4409\n",
      "\n",
      "\n",
      "('𥀞𧱡', {'Counter': 7, 'Diff': -2.57773119916601})\n",
      "150 4407\n",
      "\n",
      "\n",
      "('T𦌝', {'Counter': 2, 'Diff': -2.126614638698811})\n",
      "151 4400\n",
      "\n",
      "\n",
      "('A𭷻', {'Counter': 9, 'Diff': -2.118929575448419})\n",
      "152 4398\n",
      "\n",
      "\n",
      "('G𠏶', {'Counter': 5, 'Diff': -2.130112443031976})\n",
      "153 4389\n",
      "\n",
      "\n",
      "('잾㵑', {'Counter': 2, 'Diff': -2.107561699423968})\n",
      "154 4384\n",
      "\n",
      "\n",
      "('𢶺𭃍', {'Counter': 1, 'Diff': -2.0495209172913746})\n",
      "155 4382\n",
      "\n",
      "\n",
      "('C疪', {'Counter': 3, 'Diff': -2.021586699094769})\n",
      "156 4381\n",
      "\n",
      "\n",
      "('A𩺽', {'Counter': 2, 'Diff': -2.006904600038979})\n",
      "157 4378\n",
      "\n",
      "\n",
      "('㵑잾', {'Counter': 2, 'Diff': -1.9660699997402844})\n",
      "158 4376\n",
      "\n",
      "\n",
      "('𗰸A', {'Counter': 1, 'Diff': -1.9564447963166458})\n",
      "159 4374\n",
      "\n",
      "\n",
      "('𤛐𭣽', {'Counter': 3, 'Diff': -1.9373899158272252})\n",
      "160 4373\n",
      "\n",
      "\n",
      "('𭣽T', {'Counter': 9, 'Diff': -3.2373952468842617})\n",
      "161 4370\n",
      "\n",
      "\n",
      "('𧱡𭃆', {'Counter': 1, 'Diff': -1.9278670607491222})\n",
      "162 4361\n",
      "\n",
      "\n",
      "('钦氾', {'Counter': 5, 'Diff': -1.9139040365735127})\n",
      "163 4360\n",
      "\n",
      "\n",
      "('ⰬA', {'Counter': 6, 'Diff': -1.9132937461945403})\n",
      "164 4355\n",
      "\n",
      "\n",
      "('筰𣳴', {'Counter': 1, 'Diff': -1.8989769234976848})\n",
      "165 4349\n",
      "\n",
      "\n",
      "('𦂰𤛐', {'Counter': 1, 'Diff': -1.865035332091793})\n",
      "166 4348\n",
      "\n",
      "\n",
      "('𗾠𣳴', {'Counter': 2, 'Diff': -1.8358752974418167})\n",
      "167 4347\n",
      "\n",
      "\n",
      "('央G', {'Counter': 3, 'Diff': -1.82906767402892})\n",
      "168 4345\n",
      "\n",
      "\n",
      "('A央', {'Counter': 2, 'Diff': -2.282835742120369})\n",
      "169 4342\n",
      "\n",
      "\n",
      "('氾ꋸ', {'Counter': 4, 'Diff': -1.8313806426049268})\n",
      "170 4340\n",
      "\n",
      "\n",
      "('𤛐ꌲ', {'Counter': 2, 'Diff': -1.8162019876144768})\n",
      "171 4336\n",
      "\n",
      "\n",
      "('𢶺𦂰', {'Counter': 1, 'Diff': -1.782939187472948})\n",
      "172 4334\n",
      "\n",
      "\n",
      "('A𬮥', {'Counter': 2, 'Diff': -1.776824817781744})\n",
      "173 4333\n",
      "\n",
      "\n",
      "('筰㵑', {'Counter': 1, 'Diff': -1.7671597859480244})\n",
      "174 4331\n",
      "\n",
      "\n",
      "('钦잾', {'Counter': 1, 'Diff': -1.756412209255359})\n",
      "175 4330\n",
      "\n",
      "\n",
      "('A𢛽', {'Counter': 6, 'Diff': -1.731193183513824})\n",
      "176 4329\n",
      "\n",
      "\n",
      "('𢛽T', {'Counter': 5, 'Diff': -2.253943407049519})\n",
      "177 4323\n",
      "\n",
      "\n",
      "('𮜓𤛐', {'Counter': 1, 'Diff': -1.731416820686718})\n",
      "178 4318\n",
      "\n",
      "\n",
      "('𬤿𢶺', {'Counter': 4, 'Diff': -1.7090518692893966})\n",
      "179 4317\n",
      "\n",
      "\n",
      "('𥁜𤛐', {'Counter': 1, 'Diff': -1.6829897280840669})\n",
      "180 4313\n",
      "\n",
      "\n",
      "('𧱡𭷻', {'Counter': 1, 'Diff': -1.6668128375458764})\n",
      "181 4312\n",
      "\n",
      "\n",
      "('𢶺髒', {'Counter': 1, 'Diff': -1.6621195981424535})\n",
      "182 4311\n",
      "\n",
      "\n",
      "('筰𥀞', {'Counter': 2, 'Diff': -1.6505831413269334})\n",
      "183 4310\n",
      "\n",
      "\n",
      "('𭃍氾', {'Counter': 1, 'Diff': -1.6393716922138992})\n",
      "184 4308\n",
      "\n",
      "\n",
      "('𧱡𢆐', {'Counter': 1, 'Diff': -1.6201307301853376})\n",
      "185 4307\n",
      "\n",
      "\n",
      "('⊮𥀞', {'Counter': 1, 'Diff': -1.617214607882488})\n",
      "186 4306\n",
      "\n",
      "\n",
      "('氾𭃍', {'Counter': 1, 'Diff': -1.5949558137435815})\n",
      "187 4305\n",
      "\n",
      "\n",
      "('잾𤛐', {'Counter': 4, 'Diff': -1.5750916413890081})\n",
      "188 4304\n",
      "\n",
      "\n",
      "('𝝋𢶺', {'Counter': 1, 'Diff': -1.573969728895463})\n",
      "189 4300\n",
      "\n",
      "\n",
      "('𬸞T', {'Counter': 1, 'Diff': -1.5668405031174188})\n",
      "190 4299\n",
      "\n",
      "\n",
      "('A𗰸', {'Counter': 2, 'Diff': -1.550509357228293})\n",
      "191 4298\n",
      "\n",
      "\n",
      "('𢶺𒂆', {'Counter': 2, 'Diff': -1.5456656547939929})\n",
      "192 4296\n",
      "\n",
      "\n",
      "('𗾠㵑', {'Counter': 2, 'Diff': -1.5417792434964213})\n",
      "193 4294\n",
      "\n",
      "\n",
      "('𭃍𧱡', {'Counter': 2, 'Diff': -1.535000909203518})\n",
      "194 4292\n",
      "\n",
      "\n",
      "('㵑𭃆', {'Counter': 1, 'Diff': -1.5076828592355014})\n",
      "195 4290\n",
      "\n",
      "\n",
      "('𭃆𢶺', {'Counter': 2, 'Diff': -1.8472180879507505})\n",
      "196 4289\n",
      "\n",
      "\n",
      "('𥀞𭃆', {'Counter': 1, 'Diff': -1.5135036890133051})\n",
      "197 4287\n",
      "\n",
      "\n",
      "('ꋸ𬤿', {'Counter': 1, 'Diff': -1.5051719475704886})\n",
      "198 4286\n",
      "\n",
      "\n",
      "('𧱡髒', {'Counter': 1, 'Diff': -1.4758466158127703})\n",
      "199 4285\n",
      "\n",
      "\n",
      "('筰𧱡', {'Counter': 2, 'Diff': -1.9626863217636128})\n",
      "200 4284\n",
      "\n",
      "\n",
      "('𢶺𩸌', {'Counter': 1, 'Diff': -1.440020844922401})\n",
      "201 4282\n",
      "\n",
      "\n",
      "('𧎂G', {'Counter': 4, 'Diff': -1.4380906662845518})\n",
      "202 4281\n",
      "\n",
      "\n",
      "('𥁜𧱡', {'Counter': 1, 'Diff': -1.4018393655205728})\n",
      "203 4277\n",
      "\n",
      "\n",
      "('𣳴ꌲ', {'Counter': 1, 'Diff': -1.3919134594034404})\n",
      "204 4276\n",
      "\n",
      "\n",
      "('𒂆氾', {'Counter': 1, 'Diff': -1.3826053899938415})\n",
      "205 4275\n",
      "\n",
      "\n",
      "('𮝏𤛐', {'Counter': 1, 'Diff': -1.377805638105201})\n",
      "206 4274\n",
      "\n",
      "\n",
      "('A㩍', {'Counter': 6, 'Diff': -1.3764820695723756})\n",
      "207 4273\n",
      "\n",
      "\n",
      "('⊮C', {'Counter': 6, 'Diff': -1.3825522582337726})\n",
      "208 4267\n",
      "\n",
      "\n",
      "('C𭃍', {'Counter': 5, 'Diff': -1.7092231468159298})\n",
      "209 4261\n",
      "\n",
      "\n",
      "('𦕑𤛐', {'Counter': 1, 'Diff': -1.3734407058509532})\n",
      "210 4256\n",
      "\n",
      "\n",
      "('참G', {'Counter': 5, 'Diff': -1.3745199737895746})\n",
      "211 4255\n",
      "\n",
      "\n",
      "('ꋸ𗾠', {'Counter': 1, 'Diff': -1.3694578348149662})\n",
      "212 4250\n",
      "\n",
      "\n",
      "('𥀞𭷻', {'Counter': 1, 'Diff': -1.3361775565062999})\n",
      "213 4249\n",
      "\n",
      "\n",
      "('𤛐𠏶', {'Counter': 1, 'Diff': -1.3158667269235593})\n",
      "214 4248\n",
      "\n",
      "\n",
      "('𥀞𦂰', {'Counter': 1, 'Diff': -1.2847425335567095})\n",
      "215 4247\n",
      "\n",
      "\n",
      "('𧱡𥀞', {'Counter': 6, 'Diff': -1.7493285164928238})\n",
      "216 4246\n",
      "\n",
      "\n",
      "('Gஒ', {'Counter': 1, 'Diff': -1.2802578980845283})\n",
      "217 4240\n",
      "\n",
      "\n",
      "('ஒT', {'Counter': 1, 'Diff': -1.4522399659945222})\n",
      "218 4239\n",
      "\n",
      "\n",
      "('㵑𭣽', {'Counter': 1, 'Diff': -1.2748618472724047})\n",
      "219 4238\n",
      "\n",
      "\n",
      "('𤛐疪', {'Counter': 1, 'Diff': -1.2574638761107053})\n",
      "220 4237\n",
      "\n",
      "\n",
      "('𦕑𢶺', {'Counter': 1, 'Diff': -1.2550969371186511})\n",
      "221 4236\n",
      "\n",
      "\n",
      "('𢶺잾', {'Counter': 3, 'Diff': -1.8297881086618872})\n",
      "222 4235\n",
      "\n",
      "\n",
      "('𮜓𢶺', {'Counter': 1, 'Diff': -1.5284308290720219})\n",
      "223 4232\n",
      "\n",
      "\n",
      "('잾𥀞', {'Counter': 2, 'Diff': -1.3572991811379325})\n",
      "224 4231\n",
      "\n",
      "\n",
      "('A㜔', {'Counter': 1, 'Diff': -1.2541025199789146})\n",
      "225 4229\n",
      "\n",
      "\n",
      "('𑿒A', {'Counter': 1, 'Diff': -1.2503567834937712})\n",
      "226 4228\n",
      "\n",
      "\n",
      "('氾髒', {'Counter': 1, 'Diff': -1.2270150473013928})\n",
      "227 4227\n",
      "\n",
      "\n",
      "('C𫏗', {'Counter': 1, 'Diff': -1.2125847477473144})\n",
      "228 4226\n",
      "\n",
      "\n",
      "('𩸌𧱡', {'Counter': 1, 'Diff': -1.20189331954316})\n",
      "229 4225\n",
      "\n",
      "\n",
      "('𣳴𗝒', {'Counter': 1, 'Diff': -1.2004270040124538})\n",
      "230 4224\n",
      "\n",
      "\n",
      "('疪𤛐', {'Counter': 1, 'Diff': -1.1981072222188232})\n",
      "231 4223\n",
      "\n",
      "\n",
      "('𢆐㵑', {'Counter': 1, 'Diff': -1.190166679876711})\n",
      "232 4222\n",
      "\n",
      "\n",
      "('ⅨG', {'Counter': 1, 'Diff': -1.1510176539377426})\n",
      "233 4221\n",
      "\n",
      "\n",
      "('T𠟊', {'Counter': 1, 'Diff': -1.1500264171081653})\n",
      "234 4220\n",
      "\n",
      "\n",
      "('𤄉T', {'Counter': 1, 'Diff': -1.146806155295053})\n",
      "235 4219\n",
      "\n",
      "\n",
      "('𝝋𣳴', {'Counter': 1, 'Diff': -1.1460326918422652})\n",
      "236 4218\n",
      "\n",
      "\n",
      "('𧱡𦑣', {'Counter': 1, 'Diff': -1.1453139594523236})\n",
      "237 4217\n",
      "\n",
      "\n",
      "('㵑𦂰', {'Counter': 1, 'Diff': -1.1378740195505088})\n",
      "238 4216\n",
      "\n",
      "\n",
      "('T㵑', {'Counter': 20, 'Diff': -1.5261781682202127})\n",
      "239 4215\n",
      "\n",
      "\n",
      "('G𨲫', {'Counter': 2, 'Diff': -2.0179787607958133})\n",
      "240 4195\n",
      "\n",
      "\n",
      "('𥁜𣳴', {'Counter': 1, 'Diff': -1.140465680793568})\n",
      "241 4193\n",
      "\n",
      "\n",
      "('𭃍𥀞', {'Counter': 1, 'Diff': -1.1305980004799494})\n",
      "242 4192\n",
      "\n",
      "\n",
      "('G𦌝', {'Counter': 2, 'Diff': -1.1207608316071855})\n",
      "243 4191\n",
      "\n",
      "\n",
      "('𗰸C', {'Counter': 1, 'Diff': -1.116318351821974})\n",
      "244 4189\n",
      "\n",
      "\n",
      "('钦𭣽', {'Counter': 1, 'Diff': -1.1121877466939623})\n",
      "245 4188\n",
      "\n",
      "\n",
      "('钦𭷻', {'Counter': 1, 'Diff': -1.0577863679791335})\n",
      "246 4187\n",
      "\n",
      "\n",
      "('𢶺疪', {'Counter': 1, 'Diff': -1.0553834059210203})\n",
      "247 4186\n",
      "\n",
      "\n",
      "('𧱡𮝏', {'Counter': 1, 'Diff': -1.045566577122372})\n",
      "248 4185\n",
      "\n",
      "\n",
      "('ꋸ𭃆', {'Counter': 1, 'Diff': -1.0407156688052055})\n",
      "249 4184\n",
      "\n",
      "\n",
      "('𢛽𤛐', {'Counter': 1, 'Diff': -1.0277177652496903})\n",
      "250 4183\n",
      "\n",
      "\n",
      "('𗾠钦', {'Counter': 2, 'Diff': -1.0113937108362734})\n",
      "251 4182\n",
      "\n",
      "\n",
      "('𤛐髒', {'Counter': 2, 'Diff': -1.0046131819690345})\n",
      "252 4180\n",
      "\n",
      "\n",
      "('髒𣳴', {'Counter': 1, 'Diff': -1.0425360081244435})\n",
      "253 4178\n",
      "\n",
      "\n",
      "('C𗰸', {'Counter': 1, 'Diff': -1.0035304550256114})\n",
      "254 4177\n",
      "\n",
      "\n",
      "('G𨜭', {'Counter': 1, 'Diff': -0.9998440171657421})\n",
      "255 4176\n",
      "\n",
      "\n",
      "('𦕑𧱡', {'Counter': 1, 'Diff': -0.9844852047353925})\n",
      "256 4175\n",
      "\n",
      "\n",
      "('G𦕑', {'Counter': 4, 'Diff': -1.539624631703191})\n",
      "257 4174\n",
      "\n",
      "\n",
      "('愐钦', {'Counter': 1, 'Diff': -0.9731291891548608})\n",
      "258 4170\n",
      "\n",
      "\n",
      "('A𧩒', {'Counter': 1, 'Diff': -0.9613927889986371})\n",
      "259 4169\n",
      "\n",
      "\n",
      "('𭃆氾', {'Counter': 2, 'Diff': -0.9514561927280738})\n",
      "260 4168\n",
      "\n",
      "\n",
      "('잾𬤿', {'Counter': 1, 'Diff': -0.950370812901383})\n",
      "261 4166\n",
      "\n",
      "\n",
      "('𦑣𣳴', {'Counter': 1, 'Diff': -0.937959984603367})\n",
      "262 4165\n",
      "\n",
      "\n",
      "('𦂰钦', {'Counter': 1, 'Diff': -0.9175324578063737})\n",
      "263 4164\n",
      "\n",
      "\n",
      "('᳹T', {'Counter': 2, 'Diff': -0.9165444734353514})\n",
      "264 4163\n",
      "\n",
      "\n",
      "('㰫A', {'Counter': 2, 'Diff': -0.9096512305768556})\n",
      "265 4161\n",
      "\n",
      "\n",
      "('Aꋸ', {'Counter': 14, 'Diff': -1.357408566520462})\n",
      "266 4159\n",
      "\n",
      "\n",
      "('ꋸ잾', {'Counter': 1, 'Diff': -0.9787013911736722})\n",
      "267 4145\n",
      "\n",
      "\n",
      "('𗾠ꋸ', {'Counter': 1, 'Diff': -0.9545959023962496})\n",
      "268 4144\n",
      "\n",
      "\n",
      "('𥀞𗾠', {'Counter': 2, 'Diff': -1.0979170116916066})\n",
      "269 4143\n",
      "\n",
      "\n",
      "('T𤄉', {'Counter': 1, 'Diff': -0.9084651025223138})\n",
      "270 4141\n",
      "\n",
      "\n",
      "('㵑𢶺', {'Counter': 5, 'Diff': -0.9100504799753253})\n",
      "271 4140\n",
      "\n",
      "\n",
      "('ᚐC', {'Counter': 1, 'Diff': -0.8918832700073835})\n",
      "272 4135\n",
      "\n",
      "\n",
      "('C𦑣', {'Counter': 3, 'Diff': -1.6600379798801441})\n",
      "273 4134\n",
      "\n",
      "\n",
      "('𮝏氾', {'Counter': 1, 'Diff': -0.8913489243168442})\n",
      "274 4131\n",
      "\n",
      "\n",
      "('𢶺𮝏', {'Counter': 1, 'Diff': -1.059641093328537})\n",
      "275 4130\n",
      "\n",
      "\n",
      "('𣳴Ⱜ', {'Counter': 1, 'Diff': -0.8861546785883547})\n",
      "276 4129\n",
      "\n",
      "\n",
      "('筰𬤿', {'Counter': 1, 'Diff': -0.8811347621776804})\n",
      "277 4128\n",
      "\n",
      "\n",
      "('𮜓钦', {'Counter': 1, 'Diff': -0.871373670797766})\n",
      "278 4127\n",
      "\n",
      "\n",
      "('𥀞髒', {'Counter': 1, 'Diff': -0.8468227643170394})\n",
      "279 4126\n",
      "\n",
      "\n",
      "('G𓆧', {'Counter': 1, 'Diff': -0.8344704650407948})\n",
      "280 4125\n",
      "\n",
      "\n",
      "('G𒆞', {'Counter': 1, 'Diff': -0.8302835096365015})\n",
      "281 4124\n",
      "\n",
      "\n",
      "('拟氾', {'Counter': 1, 'Diff': -0.8265561943371722})\n",
      "282 4123\n",
      "\n",
      "\n",
      "('钦𗝒', {'Counter': 1, 'Diff': -0.8126503315434093})\n",
      "283 4122\n",
      "\n",
      "\n",
      "('𗝒A', {'Counter': 6, 'Diff': -0.7770192405332637})\n",
      "284 4121\n",
      "\n",
      "\n",
      "('T𗝒', {'Counter': 5, 'Diff': -1.4565221002558246})\n",
      "285 4115\n",
      "\n",
      "\n",
      "('氾拟', {'Counter': 1, 'Diff': -0.7613265130130458})\n",
      "286 4110\n",
      "\n",
      "\n",
      "('𥁜钦', {'Counter': 1, 'Diff': -0.7552208847992006})\n",
      "287 4109\n",
      "\n",
      "\n",
      "('𢆐𧱡', {'Counter': 2, 'Diff': -0.7534586719339131})\n",
      "288 4108\n",
      "\n",
      "\n",
      "('氾⊮', {'Counter': 2, 'Diff': -0.7082094723009504})\n",
      "289 4106\n",
      "\n",
      "\n",
      "('T𪣉', {'Counter': 1, 'Diff': -0.6917388868350827})\n",
      "290 4104\n",
      "\n",
      "\n",
      "('Ⱜ𥀞', {'Counter': 1, 'Diff': -0.6892855194928416})\n",
      "291 4103\n",
      "\n",
      "\n",
      "('GⰬ', {'Counter': 4, 'Diff': -1.5311983211540792})\n",
      "292 4102\n",
      "\n",
      "\n",
      "('𢠩T', {'Counter': 1, 'Diff': -0.6900026993243955})\n",
      "293 4098\n",
      "\n",
      "\n",
      "('𩩮T', {'Counter': 1, 'Diff': -0.6864973561096122})\n",
      "294 4097\n",
      "\n",
      "\n",
      "('T𠲷', {'Counter': 1, 'Diff': -0.682981756683148})\n",
      "295 4096\n",
      "\n",
      "\n",
      "('𠏶𥀞', {'Counter': 1, 'Diff': -0.6757069506384141})\n",
      "296 4095\n",
      "\n",
      "\n",
      "('愐㵑', {'Counter': 1, 'Diff': -0.6700776859652251})\n",
      "297 4094\n",
      "\n",
      "\n",
      "('氾疪', {'Counter': 1, 'Diff': -0.665862019515771})\n",
      "298 4093\n",
      "\n",
      "\n",
      "('𥀞㩍', {'Counter': 1, 'Diff': -0.6601813198431046})\n",
      "299 4092\n",
      "\n",
      "\n",
      "('잾𗾠', {'Counter': 1, 'Diff': -0.6437946098849352})\n",
      "300 4091\n",
      "\n",
      "\n",
      "('𦌝G', {'Counter': 2, 'Diff': -0.6277033621990995})\n",
      "301 4090\n",
      "\n",
      "\n",
      "('G誚', {'Counter': 2, 'Diff': -1.0562333772577404})\n",
      "302 4088\n",
      "\n",
      "\n",
      "('𧎂𧱡', {'Counter': 1, 'Diff': -0.6207204465354152})\n",
      "303 4086\n",
      "\n",
      "\n",
      "('𦂰㵑', {'Counter': 1, 'Diff': -0.6104940683071618})\n",
      "304 4085\n",
      "\n",
      "\n",
      "('C䜫', {'Counter': 1, 'Diff': -0.6102437754198036})\n",
      "305 4084\n",
      "\n",
      "\n",
      "('𣳴疪', {'Counter': 1, 'Diff': -0.6092618515504})\n",
      "306 4083\n",
      "\n",
      "\n",
      "('T𬸞', {'Counter': 2, 'Diff': -0.6055560897002579})\n",
      "307 4082\n",
      "\n",
      "\n",
      "('𬸞G', {'Counter': 1, 'Diff': -0.8042744389276777})\n",
      "308 4080\n",
      "\n",
      "\n",
      "('G𬸞', {'Counter': 1, 'Diff': -0.6191345768384053})\n",
      "309 4079\n",
      "\n",
      "\n",
      "('𑿒C', {'Counter': 1, 'Diff': -0.6063788227584155})\n",
      "310 4078\n",
      "\n",
      "\n",
      "('𨲫𤛐', {'Counter': 1, 'Diff': -0.6065688952257915})\n",
      "311 4077\n",
      "\n",
      "\n",
      "('筰钦', {'Counter': 2, 'Diff': -0.6034296415200515})\n",
      "312 4076\n",
      "\n",
      "\n",
      "('C㜔', {'Counter': 1, 'Diff': -0.6017835444908997})\n",
      "313 4074\n",
      "\n",
      "\n",
      "('氾ꌲ', {'Counter': 2, 'Diff': -0.5677411631659197})\n",
      "314 4073\n",
      "\n",
      "\n",
      "('𧱡𧎂', {'Counter': 1, 'Diff': -0.5438180009186908})\n",
      "315 4071\n",
      "\n",
      "\n",
      "('𥀞𮝏', {'Counter': 1, 'Diff': -0.5422363898542244})\n",
      "316 4070\n",
      "\n",
      "\n",
      "('ꌲ𥀞', {'Counter': 1, 'Diff': -1.0430642219362198})\n",
      "317 4069\n",
      "\n",
      "\n",
      "('𦕑𣳴', {'Counter': 1, 'Diff': -0.5369533343728108})\n",
      "318 4068\n",
      "\n",
      "\n",
      "('𗾠筰', {'Counter': 1, 'Diff': -0.5313851646133116})\n",
      "319 4067\n",
      "\n",
      "\n",
      "('A𔘆', {'Counter': 1, 'Diff': -0.512241377706232})\n",
      "320 4066\n",
      "\n",
      "\n",
      "('𥀞𦑣', {'Counter': 1, 'Diff': -0.509861428901786})\n",
      "321 4065\n",
      "\n",
      "\n",
      "('𠤹A', {'Counter': 1, 'Diff': -0.5085528107774735})\n",
      "322 4064\n",
      "\n",
      "\n",
      "('疪氾', {'Counter': 1, 'Diff': -0.5085129781546129})\n",
      "323 4063\n",
      "\n",
      "\n",
      "('央𢶺', {'Counter': 1, 'Diff': -0.4727237671868352})\n",
      "324 4062\n",
      "\n",
      "\n",
      "('筰𗾠', {'Counter': 1, 'Diff': -0.4707845773664303})\n",
      "325 4061\n",
      "\n",
      "\n",
      "('⊮𣳴', {'Counter': 2, 'Diff': -0.46978616868000245})\n",
      "326 4060\n",
      "\n",
      "\n",
      "('𒂆T', {'Counter': 8, 'Diff': -0.45885546710633207})\n",
      "327 4058\n",
      "\n",
      "\n",
      "('䰨G', {'Counter': 1, 'Diff': -0.6247301021940075})\n",
      "328 4050\n",
      "\n",
      "\n",
      "('C⊮', {'Counter': 5, 'Diff': -0.4436275340813154})\n",
      "329 4049\n",
      "\n",
      "\n",
      "('𗾠C', {'Counter': 6, 'Diff': -0.7201996805633826})\n",
      "330 4044\n",
      "\n",
      "\n",
      "('C𥁜', {'Counter': 4, 'Diff': -0.7598611072535277})\n",
      "331 4038\n",
      "\n",
      "\n",
      "('G𮜓', {'Counter': 6, 'Diff': -0.45539464234752813})\n",
      "332 4034\n",
      "\n",
      "\n",
      "('钦㩍', {'Counter': 1, 'Diff': -0.4332552103951457})\n",
      "333 4028\n",
      "\n",
      "\n",
      "('Tꐇ', {'Counter': 1, 'Diff': -0.4226752927461348})\n",
      "334 4027\n",
      "\n",
      "\n",
      "('𨟐T', {'Counter': 1, 'Diff': -0.4190372466255212})\n",
      "335 4026\n",
      "\n",
      "\n",
      "('🅶T', {'Counter': 1, 'Diff': -0.4153881886959425})\n",
      "336 4025\n",
      "\n",
      "\n",
      "('𗆼G', {'Counter': 1, 'Diff': -0.39388565923582064})\n",
      "337 4024\n",
      "\n",
      "\n",
      "('G鍻', {'Counter': 1, 'Diff': -0.3894191948529624})\n",
      "338 4023\n",
      "\n",
      "\n",
      "('髒㵑', {'Counter': 1, 'Diff': -0.38515999873925466})\n",
      "339 4022\n",
      "\n",
      "\n",
      "('G㌪', {'Counter': 1, 'Diff': -0.3852954178219079})\n",
      "340 4021\n",
      "\n",
      "\n",
      "('𘪏G', {'Counter': 1, 'Diff': -0.38079672952881083})\n",
      "341 4020\n",
      "\n",
      "\n",
      "('𩃿G', {'Counter': 1, 'Diff': -0.37628171889082296})\n",
      "342 4019\n",
      "\n",
      "\n",
      "('T𩃿', {'Counter': 1, 'Diff': -0.4138810662261676})\n",
      "343 4018\n",
      "\n",
      "\n",
      "('𢆐𬤿', {'Counter': 1, 'Diff': -0.3738421835223562})\n",
      "344 4017\n",
      "\n",
      "\n",
      "('𬤿筰', {'Counter': 1, 'Diff': -0.7151982802242856})\n",
      "345 4016\n",
      "\n",
      "\n",
      "('𢛽𥀞', {'Counter': 1, 'Diff': -0.32973816697631264})\n",
      "346 4015\n",
      "\n",
      "\n",
      "('𣳴𧎂', {'Counter': 1, 'Diff': -0.3041815475517069})\n",
      "347 4014\n",
      "\n",
      "\n",
      "('ᚐA', {'Counter': 2, 'Diff': -0.2816628244618187})\n",
      "348 4013\n",
      "\n",
      "\n",
      "('A𗨆', {'Counter': 1, 'Diff': -0.27264223338715965})\n",
      "349 4011\n",
      "\n",
      "\n",
      "('A𧋼', {'Counter': 1, 'Diff': -0.2685492381824588})\n",
      "350 4010\n",
      "\n",
      "\n",
      "('A𢠩', {'Counter': 1, 'Diff': -0.2644425469916314})\n",
      "351 4009\n",
      "\n",
      "\n",
      "('𭷻잾', {'Counter': 1, 'Diff': -0.2638749610669038})\n",
      "352 4008\n",
      "\n",
      "\n",
      "('𤛐참', {'Counter': 2, 'Diff': -0.2588648849450692})\n",
      "353 4007\n",
      "\n",
      "\n",
      "('𥀞𢛽', {'Counter': 1, 'Diff': -0.2501424351212336})\n",
      "354 4005\n",
      "\n",
      "\n",
      "('A㰫', {'Counter': 2, 'Diff': -0.24354532857978484})\n",
      "355 4004\n",
      "\n",
      "\n",
      "('央𧱡', {'Counter': 1, 'Diff': -0.2416368988051545})\n",
      "356 4002\n",
      "\n",
      "\n",
      "('𬤿𝝋', {'Counter': 1, 'Diff': -0.2404873165723984})\n",
      "357 4001\n",
      "\n",
      "\n",
      "('A铖', {'Counter': 2, 'Diff': -0.228396192072978})\n",
      "358 4000\n",
      "\n",
      "\n",
      "('铖A', {'Counter': 1, 'Diff': -0.8750548838070245})\n",
      "359 3998\n",
      "\n",
      "\n",
      "('𢈛𤛐', {'Counter': 1, 'Diff': -0.22708094193512807})\n",
      "360 3997\n",
      "\n",
      "\n",
      "('𭃆筰', {'Counter': 1, 'Diff': -0.22518865149686462})\n",
      "361 3996\n",
      "\n",
      "\n",
      "('㵑𠏶', {'Counter': 1, 'Diff': -0.2179434822210169})\n",
      "362 3995\n",
      "\n",
      "\n",
      "('𠏶钦', {'Counter': 1, 'Diff': -0.37074762252814253})\n",
      "363 3994\n",
      "\n",
      "\n",
      "('𥁜𢶺', {'Counter': 2, 'Diff': -0.2094074738197378})\n",
      "364 3993\n",
      "\n",
      "\n",
      "('C𓆧', {'Counter': 1, 'Diff': -0.1902915583268623})\n",
      "365 3991\n",
      "\n",
      "\n",
      "('ꋸꋸ', {'Counter': 2, 'Diff': -0.18995973281562328})\n",
      "366 3990\n",
      "\n",
      "\n",
      "('𭃍ꋸ', {'Counter': 1, 'Diff': -0.3725716432854824})\n",
      "367 3988\n",
      "\n",
      "\n",
      "('ꋸA', {'Counter': 10, 'Diff': -0.29175204134662636})\n",
      "368 3987\n",
      "\n",
      "\n",
      "('𣳴𭃍', {'Counter': 2, 'Diff': -0.1927626947108365})\n",
      "369 3977\n",
      "\n",
      "\n",
      "('C𧩒', {'Counter': 1, 'Diff': -0.1896181983393035})\n",
      "370 3975\n",
      "\n",
      "\n",
      "('铖C', {'Counter': 1, 'Diff': -0.18348258400146733})\n",
      "371 3974\n",
      "\n",
      "\n",
      "('𝝋𬤿', {'Counter': 1, 'Diff': -0.17830658496677643})\n",
      "372 3973\n",
      "\n",
      "\n",
      "('𬤿ꌲ', {'Counter': 1, 'Diff': -0.3234040364259272})\n",
      "373 3972\n",
      "\n",
      "\n",
      "('钦𬤿', {'Counter': 2, 'Diff': -0.6426223966518592})\n",
      "374 3971\n",
      "\n",
      "\n",
      "('⊮钦', {'Counter': 1, 'Diff': -0.5788492452702485})\n",
      "375 3969\n",
      "\n",
      "\n",
      "('钦钦', {'Counter': 3, 'Diff': -0.2342126153780555})\n",
      "376 3968\n",
      "\n",
      "\n",
      "('𝝋钦', {'Counter': 1, 'Diff': -0.43165735338334343})\n",
      "377 3965\n",
      "\n",
      "\n",
      "('钦𮜓', {'Counter': 1, 'Diff': -0.260085780195368})\n",
      "378 3964\n",
      "\n",
      "\n",
      "('C𤯂', {'Counter': 1, 'Diff': -0.1809539389105339})\n",
      "379 3963\n",
      "\n",
      "\n",
      "('긛C', {'Counter': 1, 'Diff': -0.1747603446310677})\n",
      "380 3962\n",
      "\n",
      "\n",
      "('𧱡𩺽', {'Counter': 1, 'Diff': -0.1525278349436121})\n",
      "381 3961\n",
      "\n",
      "\n",
      "('𩿽G', {'Counter': 1, 'Diff': -0.15115511967451312})\n",
      "382 3960\n",
      "\n",
      "\n",
      "('G𠤹', {'Counter': 1, 'Diff': -0.14661239265115})\n",
      "383 3959\n",
      "\n",
      "\n",
      "('𓂀G', {'Counter': 1, 'Diff': -0.1420530105715443})\n",
      "384 3958\n",
      "\n",
      "\n",
      "('T蒓', {'Counter': 1, 'Diff': -0.14143039773989585})\n",
      "385 3957\n",
      "\n",
      "\n",
      "('G씸', {'Counter': 1, 'Diff': -0.13784154325185227})\n",
      "386 3956\n",
      "\n",
      "\n",
      "('ꈎT', {'Counter': 1, 'Diff': -0.13811869224809925})\n",
      "387 3955\n",
      "\n",
      "\n",
      "('𤽠T', {'Counter': 1, 'Diff': -0.1344310430904443})\n",
      "388 3954\n",
      "\n",
      "\n",
      "('𠲷G', {'Counter': 1, 'Diff': -0.13397842778795166})\n",
      "389 3953\n",
      "\n",
      "\n",
      "('𭣽筰', {'Counter': 1, 'Diff': -0.13264394784346223})\n",
      "390 3952\n",
      "\n",
      "\n",
      "('欐T', {'Counter': 1, 'Diff': -0.13146227121615084})\n",
      "391 3951\n",
      "\n",
      "\n",
      "('잾𢆐', {'Counter': 1, 'Diff': -0.1311053256285959})\n",
      "392 3950\n",
      "\n",
      "\n",
      "('𢆐𤛐', {'Counter': 2, 'Diff': -0.9456373543471273})\n",
      "393 3949\n",
      "\n",
      "\n",
      "('𭃆𥀞', {'Counter': 2, 'Diff': -0.13234260277749854})\n",
      "394 3947\n",
      "\n",
      "\n",
      "('T𢾜', {'Counter': 1, 'Diff': -0.1295796795966453})\n",
      "395 3945\n",
      "\n",
      "\n",
      "('詓T', {'Counter': 1, 'Diff': -0.12585851468611509})\n",
      "396 3944\n",
      "\n",
      "\n",
      "('𩃿T', {'Counter': 1, 'Diff': -0.12212583138534683})\n",
      "397 3943\n",
      "\n",
      "\n",
      "('誚𤛐', {'Counter': 1, 'Diff': -0.101635325292591})\n",
      "398 3942\n",
      "\n",
      "\n",
      "('㵑𦑣', {'Counter': 1, 'Diff': -0.10181152364020818})\n",
      "399 3941\n",
      "\n",
      "\n",
      "('𠏶㵑', {'Counter': 1, 'Diff': -0.07927680759530631})\n",
      "400 3940\n",
      "\n",
      "\n",
      "('𦂰𣳴', {'Counter': 2, 'Diff': -0.07088866168487584})\n",
      "401 3939\n",
      "\n",
      "\n",
      "('𩸌𬤿', {'Counter': 1, 'Diff': -0.03055728113031364})\n",
      "402 3937\n",
      "\n",
      "\n",
      "('愐ꋸ', {'Counter': 1, 'Diff': -0.0181954241998028})\n",
      "403 3936\n",
      "\n",
      "\n",
      "('𧎂𥀞', {'Counter': 1, 'Diff': -0.0046191344008548185})\n",
      "404 3935\n",
      "\n",
      "\n",
      "('氾央', {'Counter': 1, 'Diff': -0.001930784866999602})\n",
      "405 3934\n",
      "\n",
      "\n",
      "None\n",
      "406 3933\n",
      "\n",
      "\n",
      "('LL', {'Counter': 109, 'Diff': -139.48945436644135})\n",
      "0 10000\n",
      "\n",
      "\n",
      "('LA', {'Counter': 66, 'Diff': -93.79229345739441})\n",
      "1 9899\n",
      "\n",
      "\n",
      "('AL', {'Counter': 62, 'Diff': -79.35750688793632})\n",
      "2 9833\n",
      "\n",
      "\n",
      "('SL', {'Counter': 53, 'Diff': -70.21138925053674})\n",
      "3 9771\n",
      "\n",
      "\n",
      "('LG', {'Counter': 56, 'Diff': -63.33358776402747})\n",
      "4 9718\n",
      "\n",
      "\n",
      "('VA', {'Counter': 42, 'Diff': -59.63562629822991})\n",
      "5 9662\n",
      "\n",
      "\n",
      "('SG', {'Counter': 39, 'Diff': -55.0614446429463})\n",
      "6 9620\n",
      "\n",
      "\n",
      "('IL', {'Counter': 46, 'Diff': -55.23353895640321})\n",
      "7 9581\n",
      "\n",
      "\n",
      "('AE', {'Counter': 36, 'Diff': -51.914283693782636})\n",
      "8 9535\n",
      "\n",
      "\n",
      "('VS', {'Counter': 39, 'Diff': -50.146718708339904})\n",
      "9 9499\n",
      "\n",
      "\n",
      "('AG', {'Counter': 38, 'Diff': -48.2068492268736})\n",
      "10 9460\n",
      "\n",
      "\n",
      "('LI', {'Counter': 42, 'Diff': -47.870969380514})\n",
      "11 9422\n",
      "\n",
      "\n",
      "('EV', {'Counter': 28, 'Diff': -45.19000599247374})\n",
      "12 9380\n",
      "\n",
      "\n",
      "('TS', {'Counter': 30, 'Diff': -44.123216437670635})\n",
      "13 9352\n",
      "\n",
      "\n",
      "('RG', {'Counter': 28, 'Diff': -42.64124948411336})\n",
      "14 9322\n",
      "\n",
      "\n",
      "('KA', {'Counter': 27, 'Diff': -42.574770181643544})\n",
      "15 9294\n",
      "\n",
      "\n",
      "('IV', {'Counter': 27, 'Diff': -42.098519545303134})\n",
      "16 9267\n",
      "\n",
      "\n",
      "('LE', {'Counter': 37, 'Diff': -41.30016448477545})\n",
      "17 9240\n",
      "\n",
      "\n",
      "('AT', {'Counter': 29, 'Diff': -39.82457715617056})\n",
      "18 9203\n",
      "\n",
      "\n",
      "('RS', {'Counter': 27, 'Diff': -39.19620234573085})\n",
      "19 9174\n",
      "\n",
      "\n",
      "('GK', {'Counter': 29, 'Diff': -38.73396750701795})\n",
      "20 9147\n",
      "\n",
      "\n",
      "('VI', {'Counter': 30, 'Diff': -38.047639657583204})\n",
      "21 9118\n",
      "\n",
      "\n",
      "('DL', {'Counter': 25, 'Diff': -36.49466151739034})\n",
      "22 9088\n",
      "\n",
      "\n",
      "('ES', {'Counter': 27, 'Diff': -36.08299388142768})\n",
      "23 9063\n",
      "\n",
      "\n",
      "('TV', {'Counter': 24, 'Diff': -35.59016443556902})\n",
      "24 9036\n",
      "\n",
      "\n",
      "('AP', {'Counter': 23, 'Diff': -35.60741773923655})\n",
      "25 9012\n",
      "\n",
      "\n",
      "('GR', {'Counter': 21, 'Diff': -35.407283187385474})\n",
      "26 8989\n",
      "\n",
      "\n",
      "('IK', {'Counter': 25, 'Diff': -34.49163849433535})\n",
      "27 8968\n",
      "\n",
      "\n",
      "('PT', {'Counter': 21, 'Diff': -32.60490506440692})\n",
      "28 8943\n",
      "\n",
      "\n",
      "('RE', {'Counter': 20, 'Diff': -32.338136565856985})\n",
      "29 8922\n",
      "\n",
      "\n",
      "('LF', {'Counter': 30, 'Diff': -32.387327233671385})\n",
      "30 8902\n",
      "\n",
      "\n",
      "('KS', {'Counter': 24, 'Diff': -32.29509597399738})\n",
      "31 8872\n",
      "\n",
      "\n",
      "('GT', {'Counter': 17, 'Diff': -31.5507301285179})\n",
      "32 8848\n",
      "\n",
      "\n",
      "('DV', {'Counter': 20, 'Diff': -31.127948304354504})\n",
      "33 8831\n",
      "\n",
      "\n",
      "('EI', {'Counter': 20, 'Diff': -30.9977898105426})\n",
      "34 8811\n",
      "\n",
      "\n",
      "('PA', {'Counter': 16, 'Diff': -30.65523815528286})\n",
      "35 8791\n",
      "\n",
      "\n",
      "('SR', {'Counter': 24, 'Diff': -29.75176039447979})\n",
      "36 8775\n",
      "\n",
      "\n",
      "('GI', {'Counter': 16, 'Diff': -29.77654687512404})\n",
      "37 8751\n",
      "\n",
      "\n",
      "('VL', {'Counter': 29, 'Diff': -29.634906124148984})\n",
      "38 8735\n",
      "\n",
      "\n",
      "('AD', {'Counter': 25, 'Diff': -28.91226875344728})\n",
      "39 8706\n",
      "\n",
      "\n",
      "('TK', {'Counter': 18, 'Diff': -28.891949229648162})\n",
      "40 8681\n",
      "\n",
      "\n",
      "('FE', {'Counter': 18, 'Diff': -27.878516761105857})\n",
      "41 8663\n",
      "\n",
      "\n",
      "('RA', {'Counter': 20, 'Diff': -27.92205288225523})\n",
      "42 8645\n",
      "\n",
      "\n",
      "('GP', {'Counter': 25, 'Diff': -27.72824606402719})\n",
      "43 8625\n",
      "\n",
      "\n",
      "('IS', {'Counter': 22, 'Diff': -27.318100798984233})\n",
      "44 8600\n",
      "\n",
      "\n",
      "('KE', {'Counter': 18, 'Diff': -26.392340290876746})\n",
      "45 8578\n",
      "\n",
      "\n",
      "('FT', {'Counter': 16, 'Diff': -26.280475115709123})\n",
      "46 8560\n",
      "\n",
      "\n",
      "('GN', {'Counter': 19, 'Diff': -26.063666426794953})\n",
      "47 8544\n",
      "\n",
      "\n",
      "('QA', {'Counter': 17, 'Diff': -26.042465076607186})\n",
      "48 8525\n",
      "\n",
      "\n",
      "('VR', {'Counter': 16, 'Diff': -25.77530362240941})\n",
      "49 8508\n",
      "\n",
      "\n",
      "('SD', {'Counter': 17, 'Diff': -25.447871911157563})\n",
      "50 8492\n",
      "\n",
      "\n"
     ]
    }
   ],
   "source": [
    "run_algorithm_for_datasets()"
   ]
  },
  {
   "cell_type": "code",
   "execution_count": null,
   "metadata": {},
   "outputs": [],
   "source": [
    "10000 * 0.5"
   ]
  },
  {
   "cell_type": "code",
   "execution_count": null,
   "metadata": {},
   "outputs": [],
   "source": [
    "9500 * 1"
   ]
  },
  {
   "cell_type": "code",
   "execution_count": null,
   "metadata": {},
   "outputs": [],
   "source": []
  }
 ],
 "metadata": {
  "interpreter": {
   "hash": "97e6c85832baaca9363ab02f06d99864db3184f5c282967bd7ef920b2fe63dcd"
  },
  "kernelspec": {
   "display_name": "Python 3.8.1 ('venv': venv)",
   "language": "python",
   "name": "python3"
  },
  "language_info": {
   "codemirror_mode": {
    "name": "ipython",
    "version": 3
   },
   "file_extension": ".py",
   "mimetype": "text/x-python",
   "name": "python",
   "nbconvert_exporter": "python",
   "pygments_lexer": "ipython3",
   "version": "3.8.6rc1"
  },
  "orig_nbformat": 4
 },
 "nbformat": 4,
 "nbformat_minor": 2
}
