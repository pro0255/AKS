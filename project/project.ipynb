{
 "cells": [
  {
   "cell_type": "markdown",
   "metadata": {},
   "source": [
    "# Project to AKS"
   ]
  },
  {
   "cell_type": "markdown",
   "metadata": {},
   "source": [
    "## Reference \n",
    "\n",
    "- https://homel.vsb.cz/~vas218/pdf/acs/grammar.pdf\n",
    "- https://homel.vsb.cz/~vas218/pdf/acs/vasinek-thesis.pdf\n",
    "- https://homel.vsb.cz/~vas218/acs.html\n",
    "\n",
    "## Choosen task\n",
    "\n",
    "- Reduction paradox\n",
    "\n",
    "## Description\n",
    "\n",
    "- Try to reduce message and with every step maximaze entropy\n",
    "\n",
    "## Official description \n",
    "\n",
    "- **RePair - maximal anticompression - reduction paradox**\n",
    "    - Find the smallest possible representation(measured in the number of symbols) of file using the reduction paradox which leads to the largest increase of zero order entropy representation.\n",
    "    - Heuristics - largest first, random\n",
    "    - Describe the algorithm and summarize results to a .doc(x) or .pdf report.\n",
    "    - Prepare a presentation for 10 minutes about your method.\n",
    "    - Literature: Vasinek, Dissertation thesis (Chapter 5)\n",
    "\n",
    "## Steps\n",
    "\n",
    "- Load dataset\n",
    "- Can pick a subset for faster running (sample it)\n",
    "- Find every bigram and try to create rule\n",
    "- Calculate Entropy for new message\n",
    "- Need to find rule which reduces size of message but increases entropy (harder to compress)\n",
    "- Find extremes for every file\n",
    "- Show graphs"
   ]
  },
  {
   "cell_type": "code",
   "execution_count": 1,
   "metadata": {},
   "outputs": [],
   "source": [
    "import os\n",
    "import sys\n",
    "\n",
    "def adding_module_path():\n",
    "    module_path = os.path.abspath(os.path.sep.join([\"..\"]*1))\n",
    "\n",
    "    if module_path not in sys.path:\n",
    "        sys.path.append(module_path)\n",
    "\n",
    "adding_module_path()"
   ]
  },
  {
   "cell_type": "code",
   "execution_count": 2,
   "metadata": {},
   "outputs": [],
   "source": [
    "from src.load_data import get_dataset\n",
    "from src.load_data import DataSets\n",
    "from src.get_probs import get_sorted_probs_as_df\n",
    "import numpy as np\n",
    "import pandas as pd\n",
    "import time\n",
    "from src.save import save_both\n",
    "from enum import Enum\n",
    "import re\n",
    "from ast import literal_eval\n",
    "import random\n",
    "import plotly.express as px\n"
   ]
  },
  {
   "cell_type": "code",
   "execution_count": 3,
   "metadata": {},
   "outputs": [],
   "source": [
    "TEST_NORMALIZATION_SIZE = 10000"
   ]
  },
  {
   "cell_type": "code",
   "execution_count": 4,
   "metadata": {},
   "outputs": [],
   "source": [
    "def load_dataset(type, normalization=None):\n",
    "    data_dna, path_dna = get_dataset(type)\n",
    "    if normalization is None:\n",
    "        return data_dna, path_dna\n",
    "    return \"\".join(np.random.choice(list(data_dna), normalization)), path_dna"
   ]
  },
  {
   "cell_type": "code",
   "execution_count": 5,
   "metadata": {},
   "outputs": [],
   "source": [
    "def get_datasets(normalization=None):\n",
    "    return [\n",
    "        #(*get_dataset(DataSets.english, normalization), DataSets.english), \n",
    "        (*load_dataset(DataSets.dna, normalization), DataSets.dna),\n",
    "        #(*load_dataset(DataSets.proteins, normalization), DataSets.proteins),\n",
    "        #(*load_dataset(DataSets.sources, normalization), DataSets.sources),\n",
    "    ]\n"
   ]
  },
  {
   "cell_type": "code",
   "execution_count": 6,
   "metadata": {},
   "outputs": [
    {
     "name": "stdout",
     "output_type": "stream",
     "text": [
      "Loading C://Users//proko//Desktop//University//iv//aks//datasets\\dna\\dna.50MB\n"
     ]
    }
   ],
   "source": [
    "test_datasets = get_datasets(TEST_NORMALIZATION_SIZE)"
   ]
  },
  {
   "cell_type": "code",
   "execution_count": 7,
   "metadata": {},
   "outputs": [
    {
     "data": {
      "text/plain": [
       "[('CCCGATATGCATATGTCATGGTCCTGGATTTACAAGGATCGAGTAATGGCAACTGTCTGTACTGATATTTCCAATTTCTTAAGTATTTCGTGTTAAAGCATGGATGTAAGGTTGAGTTATATGGGTATATGCAACATATCATAATTGGAAGTATCAGCGTAATCTCTATAATAGTAAACATCTCAGTATCATGCCTCTTAAGCTATATTCGTCCGACCTATCCGTAAGATTCATATTTATAGCGTGTGCCTGCGGACGATCAAATGGGAGAGGTTACCTCGTGATTCCAGCCGCTATATTAGGTGTATTCCTTTCGTACCCGAACTCGTGATCCCTAGGAAGAGATTATCGACTGTACGATAAGGTGCGAGAGTGAAACAAAGCGCGTTTATCACTACTTAATGATGCGCACAATTCACACTATGACGCACCGCGTCATACAAGAATTTATGCCCTATCCTGATAACTATTTTTCAATGCGATTTTGAAATGACCATATCGCATTTCTAAACTAATCTGACGAGGGCTATCTATGTTCTTTGCAATGTCCACCGTTCTACGACTCACTGCGAACTCCAATTCTACCAAGAGGTCTGAAACACCTAAATTCCTGCATTACGGTCTTAGGATTTCTTACTTATGGATGTATCAGTCACATATAGAGTAATAGGGTTAAATTTGGTATGATTTACGTGTGAAATCCAAGTTGATGGACATCCGGAGGTCGTCAGTTGCCTGAGGGTCCATGAATCAATAATCTCTATTTCGAGCCTCCCTTTCGTATTAGAGTTAGATCAATTCTTTAACCGCTTGTCGGCTTCACCGTAGTCGAGTTTAGGGGGTGGGGACGGCAACCCGAACTTAGTCCGATTTCACGGGACTTGTTGCGTACTAAGATCTTACGTCTATGAAGAACGCGGTAATTAGTTTTCCACGCATGCTGACTATATACATCCTGGCACTTAACAATCGTGTATGACGGGACGGTTTTTTGAATGAGTCGAATTAAGTAACTTACGTGGGAATCATTAGGGCCCGGTTAGAATATCGTTGACACTCCTTATAAAGACGGCTTTGGTATGCTAGGGAACTTACTGTGACAAAAGAAAGTCTCAAGTGTAGTGGGTACTTCTTTTTCAGCATGAGGTCAGCGGTGTATTATCAAAGACGTTCTAAAGAAGGAGTTTTTACCAACACTAGAAACCGCCTCTGCACATTTAAAACAGTGTAGAGGCAAAAAATCATTATTTAAGAAAGGTAGTAATCCGCAATCCGTCAAATATTAAGATCATTATTGAGACGAGTGTGCTTATGTCTTGCTAACTTAGAACACCCACAGGCCCGAATTCTTTACAGTTCGACTAGGAGAGCTTAAGGATTCGTTTGATTTGGTTGATAGCTGTAACTGCAAAAAGTCTGCCACAGAAGGTTTTAAGCAAAAGTTTATAAGGCTTAATGTCCAGAAGCCGAAATCAGGCAGGATCCGGTGTATGGCTACTAGAGATCTTATTTTTTTCACTGTGTATCACCGGTAATCGCGATTATGCACACAGTGAACTTCAACTGAAAGTATTCTAATCTACCACCTTAAACTGTGCTTAAGAAGGCTACTACATTGCTCGAGGATGTCTTACAACATTAAGTACTTACTTCTTGGCTTAGACTCAGACAGAGGCACCGTTCCGTCATAAATCTTCTAATTATGGGACCATTCACTATAGGATCGAGTAGTAATGTATTGGTATATTTAACGACGGCCTCATGCTAATAGTAGCTGTCAATGCGTCTTATAATCTCTAAAGATTTGTGACTTTTCAGGCAATGCCCTATTCCCAATTTATTTCTAGTCATCTCTGTTCCCTGATTGGGGCATAAAATTCGAGGTAGAATATTCAACTAACAATAGAATGAACTGTTGACAGCCAACACTATACATCTTGCATATTATTTTTATTCTCAAGACCGCGTATCTACTGATCTCTAATGTCGGAGATCTATCATTACCTCCGATTTGTTTGCGATTAGTTATCACTCCGACAGAAAGGATGACAGACATCTAGATCACTGCTAATACTGTAAATGTAGGATACTAGTAGTCTGTCTTTTCTATAAAACTATAAGGACATAGGACTTACAACGTCTTTAATACGACTCAAAGAAATTAGTTGATTATCGTTTAATCCTCGCTGGTGCGGCTCCGCAAGCCATAGAACTACGAGTTCTTGAGCACTTCTAAATTAAGGACAACGATAATGTTAAGTTTTCGTTACTGAAATCGTGGGTATACCCGACGTCATAAAAAATTTTATTAAAATAATGATAAGCAGTAAAAACTCCCAAATCAAGACAATACCCAATCATGTATAGGCTAAAGGTAGCCCCGGTGATCAATAAGTACCATCCTTTGTCTCTTAATAATTGAATCCAATGTTCGCATAAAAACCTCAGACTAAGTTCCTATTTCATCGTGTCGCATCTGCTGGCTCAGGGTCACCAACCGCGTTGTTACAAATTAATTTACCACATCTAGCTCCTCTCCATCTAAACTACACGCTAGCCGACGCTTTAATCGTAAAATACTAGTCGATCAGGAGAAATGTAGCCGCAACCTTCTTAACTAAGGAATCAACAGTCGGTTGCCGTACCTCAAGTAGAAAGAATATAAGAAAAACAAGCGTGTTTTCTAAGTCAGGCGGAGATAAGGATGTTCCCACATCAAAGCTTACTAGTAAAGAGAACTCTAGATTGCGCATATGGTTAATACGGCGCAAGGATGTTCTGTACTAACCTCTATGTATTACGAGTTATCCGGTCCCCCAGTTGAACTTATACATTAGTTCTTCTCGGATAAGACACATCAATTAGGAGCACTGGTTCAACGCAAGAAAATACCTAACTGCCAGACCTCGTTCCGAGAAAACATCCACGGGGAAAAGAGCTTGCGGCTTCTCCATTTGATACAACCGAGAGACGTTTCGACTTCCCTACAATCCGTCTTAGATACGCTAGTTGTCTTTAAAGTATTATTCATTGGAACCGTAAGGCTCTCTAATGTCAAAATATTGGACAGGTCTAAGGAGCAAACAAATTGGTGTCTGATTACGTAATGGGTTACCGAATGGGCTTTTGTTAATTTCCTGAACCAAAGAGATGTTAGTAACTTTGCTTGCCCCATGCCCCTAGTTAGTTCATCACCACTGGAACAGTTTTGCATGACGGCCACTTACCTACTTTGCTAATTCTTGGTTAAATATTGTGGTGCAAATTGCCACTTCACCTCAGACTATGGTAGGCCTACCTTACCATCTGTTTCGAAGCGTTTTCCTGGTTTTCAGTAAGTGTATACACTAAACCTGGCTACTATGTATCCGTAGAGTCGACTCACGAGGTAGGCAAGTAACATGTATGAGAAGACCGTGCGCCGATTAATGAATTATTACAAGGGAGGCTCACTTTAGTTCGAATTGTGCCTATTATTAACCAGATTAATCTTAGATTCAAGTATCCAATTCAAAAATTAAGCAACGTTTAGCTTTAGGCATTGAAAAAAGGGTACGGGCATCTATAATATCCATATTAAATAATAAATGTGCATGTTACCGTGTATACTGACCGACTATACTCAGAGCGACTGCTTTGCAGATTTTATTAGGAGGCCCATCTAAAAAGACCACGAATCTTATGCACTCTAATTACATTCAGGAGCCTCATGGTGGATCTATGTAGTCGCGATCTTTGGCCCAAAAAGCGTGTGGTAAACCATATGTCAAATCTAGCATATAGTGTTTCTGATCGGTCTGTGCGACTTGCCAGCTTGTATACTAGCCCTACCTTTGTTTACACTCTGGCCATTAATTCGCTCATTTGTTTAAAATGGACCTGCTGATACCAACTAACAACACGCACAGATCGACNGATGGATAACAGGGAGCAGCGTGTTGTACCTTGTTGTAGTTTAAGCTGCCCATGGCGATATTTTCCCCATAGAGTCAAATAGGGCAGTAGATCATCCTAAGAATGGAAAAGCTGTGACGGAACGCGTATGCACTACATGAAATAGTTTCGATCTGATTGCAACATTGCTACAGTTATAACTGTTTGATAAGATATAATCACGACGTCAACTGTACACTACCCAACTCGATTCTGACTAACATATTTTTATAGCGCGCACATTGGGTGATGTGAAAACTGTAGACTTGGTCTGGTGTTATTGTAGACAGGCATATCTGAAATATTATGGTTGTATGGACATAGGGTTATTCGGCCTCCTTCAAAAATCCCGCTTAAGCTACTACCTATGTTGACATATTGCAGCCGCTAGTCTGCCCGATATAACGTTACGACTTACGAGCGAAAGCGAAGCTTGTCAGTTAATCATCGTCCTAATTACCTCCCACAGAACAGTTACAACACTAGATGTAATCATTTTTCATGTTCATACGTGCTTCCACGAAGACGAGTTTCAAGTTCTTGCACAGGACTCATCAAACTAGTAATGTCATTCTCGTAAACACTTTATTATAACATATGTGACCTATCTTTCGCTGACACACTAAAGCCAACAGGCCACAGAACGATCAGACTTTGACGAATTAGGTGCTAATGATACAACGAAATCGATTATCTGTCCTTGTCGCACAAGTCTTACAGTAAATCGAGCGTGTTAACACTAGCTAATGTTAGCGAGCTACTTTCAAACAGTGAAACTCCGCCGGAACCAGACCCTCTCGTAATACCAACATACGGTATCTATAGCTAATAACTTATGGGATCCTATTAGGGCAATCTTTTCTGCATGAACGCCATCAGAAACTGCGGCCGCTCCGTCACACCTCTCAAGACTTTGACCAAGAAAAAGTTTCAATGAGAAATACTGCGCGGCGAAGCGACTGCCATTTGCAAGTTATCGCTCACCTGTCAGCTTTGTCCAATTCCTTAACATCCATTCCGAACAGTGCTGGGCTGAATATATATTCTCTGATTGCCCTCTTTCGGGACTAAGTCTATCCCGTCCGTACATACGGAACGAAATACTACGCAAGTTAGGTCATTTGAGCTACTTGGGTTTATAGGCTTGCACGTCCTGAAGTCTGTTCTCATAGCTACTAACAATGTAATTTGGAAAGATTGACGGACTGTATATAGTAACCTATTCAGCGTATACTTAACGATTACTTCACAAAAAAAAAAACGGGAAAATATAGGAGTGGGAAGCCTTCATAGTTACGGTTATTCCCCGAGTGTACTGTGAGCAAAAGCTATCGGAATACGTTCACTCCTGCGTCTTCAGATGATTGTATGCGGAGCTTCCTGAGATCCGATTATCTTGTTGCGGGTTATTAATACATAGTGAAACTCCACAGATTCCAGCGACCTGGTACCTACTAATCCTGAATATAATCAGAAAGGCGTATTTCGATTGGCGATTCAGCGGCCGTGATTTCTAACAATATCTAATACAGTTCGATACATTGGCGATCGGTGATAACCACGCACCCACTGTTTAATCTCCTGCCTCCTTTCAAAACAGTTAGCTAGTAAGGCGGGACTATTAATAAGCCGGTTCTATTGATTAAAAACTCGAGATGCATCGGTCGAAACCGCCACTTCCAGAAATAGCTTTACTATTCACTGGAAAAAGCACATTGAGCAATGGCGTTAATTTGTCGGTGCGGTTGGCAGGCTCTCCTGTTGTTGGACATAGTATCGTGTGAACCACGATAATGATTAAAATTTATCATGCTGTACTAGCTATTTGCAAGGACATATTATCGCTCTGATAACTTACCATTTGTACCTGTCTCGGTTACAATATCTCATTAACTTGTGCTCTCCCATGACTCCCTAGCACGTCCTCTGGACAGACGGACTTGCCCACATGGTCAATGATACATAATGACTAGGCATCTATGGACAATATTGTTGATTGTTTCAAAAAATTTAGGCAATTGTATAAGCCCCTTAAACACTAAAATAAATTTGGTCTGCATTTATTCTTTGTAATGTCTTGATTGGGAGGATAATTTTACGAGCAGTATTGCTATGTTTGTTATTGTCGAATTATATCGTCCAAGTAACCGACCTGTTTACAAAGTGCGTAGCTTAGCGGGTCATACAATTCGATAATGAGTAGGAGCATTTTAGCGTACGAGCTACATATAAATATTCTTTGTATTCGAAATCAGGGAAATAACTCTTACGAAGGCTCGCGAGATTACTTGTCGTAGCTACTCGTCTTGTTGGCAGCTGACCTGTGTCAGTTATAAGCGGAAAATACCTGATTTTGGTGATAAATAACGTTAAGGGGTTCTCTCCTAGCTGGGGCATTATTAAAAGCGTTAGTTAATAACGATAGCATATTAACCTTGTTGCGCAACTAAATTGCCATAATTGGGTCATTCTACCTTCTGCAGTAAATTAATCTGAGGCACCTACGAAGGTAGCCTAGCTGATTACAACAGTCAAACATTTTTTTTTAAGAAAACATCAGGGGTGAGATCGTGATTAAAATAGCCGAATATATCTTCGAGGCACCTCACTCGAGTCTATTCAATGTCTAGAGCCAGTCCAAATCTTTTTATGTAGCATACTTGGAGGCAGGTTATCCCCACCCCGTAGGCGCATAAATTACGCCTGAACAAATACCTGTCTGACCCCGCTTATCAAAATGTGGCTCTCCAATTTTTCGCGGGCCCTGGACATCTCCCACACTCGTAGGTTTAGGTTATGCCTCAGGGTTATAAGGAATGTCTGAATATGGCTTCACATCGCCGATTCAAACACGACAACGACAGTAGGTCGGACTGGTCTAGTAGCTGCGATAGAAAAAGCTACTATGTAACGTTAATCCCTTCTCCCGTATGTAAGAACCAAATCAAAACATTAAATGACTATATTTGGAATCACAATGGGATGATACTCCAACCGTGTACGGTACCAGTATTACTTAGGCATTAACGGCACTGTGTCTACGCGTTATAAAGTACTTATACTGTAGATAGTAGAGCATTTTACATTAGTGAGAAGTATTGCTCTGTAATGAGTGCGGAACATCCGATCTAAATTCCGGTTTGCTAGCAGTAAAGTCAGAGGCGTAAAACAGGACTAATCGCCTCTACTGCGAGCAGCAATCGACATACTGCCAAAATGCTGACCTATAGGAATCTGCATAAAGTTAGAAAAGAACAGTCATATTATTATTGTTGTATCTATAATTTCGATTTTATCACATTAGAGAATGATTGTACTGCAAAATACTGAATGTCGCGTGAGGTATGAGTAAAATCTGATGGGACAGTATAAAGTCCGTTACAGGTTGAAAGTAGTGCTTGGATACACATAACTTACTTACGTATGTACAGCGAAACCGGGCCAATAATTTGGAAAAGTAAATATGTTGCATCCTATATTATCTGTCTCCGAAGACTTAACCGCGATACGCCGGCAACGGTAGGGATATTTAGGACCGGATGTACGCGCTAATGTTTATAGTACAGCTTAAGCACTTTACCTTGAACAGTTTCCTGTTGGTCGGAGAGACATTTACGGTATTGATTGGGTAGTTCTGGTTAATGCTAATTAACTGGTAATCGAACTATAAATGTCGAGCATAGCATACTCATTTATAATCCGTCGTGGTGTATGTATGAACTCCTTTGATTCAACTTTTATTTGTAATTCGGTTTCCCTGACTGGTTGCACGATACAAGATTTCTAATAACTAGCTTTAGGGCCTTAGCGTGCGAGTGGACAGAACCGATTTGACCTCCTACTGAGGGTAAACCGACCGCTGTCTGTCCGATTGTTGGGGCAAAATTACAGTCAATCATTTTTCTCTTCATATTTTGGGGTAGCGCGTTCTCATAGCCCTGGTGTAGCGATGAGTCTTGTTAATTGAGTCATTGTACACGCCATCTGTTACAGTCTTATGTATGATTCTTGTTAACTCGAACCATTTCCTGTTCTAGCCAGGACTTCATCCCACCTTAGGAAAGCGAACGTAGAGTAGTCATCGAAACACGTGTGCGGACGGTGTACTGTGCTATTAAGGCTTTTACCATGTTGGATTAATGCTGCGGCAATAAATAGCTCAAGGTAAGACAACATATGATTCGTGTCTACTTGCACGCGATGCGTTCTCAGTGACGATTTGGACGCTAACGCTGTATAGCCTGTACAGGCCTATGTGACGCTTGCTCTATCATGACGAGCGGTGGCCCGTCATAGTGTGTCTCGAGTTCGTATAACCACTAAGCTCACCACTTCCAAGGACTTAGCTCCATAGGCAGGCAGGAGTATTTATAGAGTAGTCTAATAGTTAGCCTCCGTATACTTTACGTAGCGGCCCTACGGGAGATCACTTATACAGTGTGCCAAACGCTACTCCAAAAAAACAAGATACGTGAACGTCCCTCCACAAGAATGATGTACTTTAAAAAATTGATCTGTCAATTATGTGATGGTGATGTCCGAATCACTGTCAGACAAATTGTATAACAAGGTATAGCTATTTACCGACAGCTCAACGTTCGAGTTACGGCATCCTAATGCAACCCTGTTTCGAAGGTGAATCCGTGTGCTCCGTACAAGCGGAATAAATCAAACAGCAAGCAGCCTTCGAACATTTATTTTGAGTTAGCGTTGTCAGAGTCTGACCATAAGTTTATAATCTAAGGTCGAAGAATTGATCAGAGAGCACTGTCAAATATATCTCAGCATCCATGCCCAGGTTATTTCCTCGATTAAGTCCTATGGCAATATAAACATACATAGTTATTCTTCACAATTCCCTCACGAACACTATCGTGTCCGATTAACTGTTGGCGACACTTACCATCGGGCAATGGAGACGATTCTATATGATGGCGCCAACGCGAATGTCGGTCAGAGCTAGATCGTCGCACGAATGTACTCTTAGAAGCCTATGAGATGAGACGTTTACGAAAGATCTAAACTTAGCCGCTCATGCGCTCGGCTACTTGGATCTGTAAGGTCGAGAAGTTATAAGGACTTTCCCCTGCTTATTTAAGGTAAAGTATTCTCTTAAGCCTCAGTTGGGGGGCAGCGCAAACCCTCGAAATTTAAATCATACAGCACCACTTAGCTCGTATAGATTTACTCATATAGACAGTAAAGGTCCACTTAAGATTATAAGCCACCATGAGGATGTCTAAGTAGATTAGTTAGATGCAGCATGAGCAAACTAGGGACTGCCATATTAGACTTAGTTAGGAGACAATTCAAACGGAATAAGTAAAGATTTCTTAATTATGTTACGTTGAGTGGAGACGTGATGCGATGAATGCTTGTTTACCTGGGCATCGACGGTAAGATATATCGATAAGCGTACTTATCCTTAATACTGATCCCCCTCTCAATACTAGCACATCAGAGACCCTGATAATCATATAGAGCCTTAGGGTGGGTTCCGACACTCCAGTTACGGCGCTAAAGCATGTAGTAACACTTAAAATACATCACAAAGCTATAATTACTTACTGCTTGTAGAAATATTTGGGCTATTGATCCTTCGAAATAATTCTATATTGGTACTTTGTAGCAATGGGAGTTGGTGACAAATTGTTTCGTTGAGTTTTTTCCTGAAGCTATTGACGCAGTGATCGAAACTACCAATGATTCCGAAATAATCAGGCAGAATAGAAACGGAGCAATAGGAACCTCTATACTAACAATATAACAGTCTATTGGCAGGTTTCAGTCTGATTGCGTGCTTTAGGTAGTTTGCCCACCCTTTGCGGCAGTGTTTTAAATTTTGGAAAAACACTTAATTGCGCCTTCATATGCGATCCCAACATGTGCATGTTGCGCGAGGTATGGTTTAGTTATATAAATTGTAATCGCAACGGCGATATTCCCGAGTGACTTATTATCACTAACGAAAAGTTCGCGCCTAGAACGTGTACAGACAACTAGAACCCATGCACTGCTCTGTTAAAACGGATGCTAATCGAAAGGTCTTGCGATACGTCCGAAATAC',\n",
       "  'C://Users//proko//Desktop//University//iv//aks//datasets\\\\dna\\\\dna.50MB',\n",
       "  <DataSets.dna: 'dna'>)]"
      ]
     },
     "execution_count": 7,
     "metadata": {},
     "output_type": "execute_result"
    }
   ],
   "source": [
    "test_datasets"
   ]
  },
  {
   "cell_type": "code",
   "execution_count": 8,
   "metadata": {},
   "outputs": [],
   "source": [
    "data_test, data_path, data_type = test_datasets[0]"
   ]
  },
  {
   "cell_type": "code",
   "execution_count": 9,
   "metadata": {},
   "outputs": [],
   "source": [
    "def find_k_grams_freq(data, max_size_k=2):\n",
    "    \n",
    "    kgrams_dic = {}\n",
    "\n",
    "    for k in range(2, max_size_k+1):\n",
    "\n",
    "        for i in range(len(data) - k):\n",
    "\n",
    "            n_gram = data[i:i+k]\n",
    "            \n",
    "            kgrams_dic[n_gram] = kgrams_dic.get(n_gram, 0) + 1\n",
    "\n",
    "    return kgrams_dic"
   ]
  },
  {
   "cell_type": "code",
   "execution_count": 10,
   "metadata": {},
   "outputs": [
    {
     "data": {
      "text/plain": [
       "{'CC': 407,\n",
       " 'CG': 433,\n",
       " 'GA': 577,\n",
       " 'AT': 866,\n",
       " 'TA': 914,\n",
       " 'TG': 600,\n",
       " 'GC': 444,\n",
       " 'CA': 584,\n",
       " 'GT': 604,\n",
       " 'TC': 601,\n",
       " 'GG': 402,\n",
       " 'CT': 645,\n",
       " 'TT': 850,\n",
       " 'AC': 617,\n",
       " 'AA': 861,\n",
       " 'AG': 591,\n",
       " 'CN': 1,\n",
       " 'NG': 1}"
      ]
     },
     "execution_count": 10,
     "metadata": {},
     "output_type": "execute_result"
    }
   ],
   "source": [
    "find_k_grams_freq(data_test)"
   ]
  },
  {
   "cell_type": "code",
   "execution_count": 11,
   "metadata": {},
   "outputs": [],
   "source": [
    "import math\n",
    "from collections import Counter\n",
    "\n",
    "def calc_freq(content):\n",
    "    c = Counter(list(content))\n",
    "    return c\n",
    "\n",
    "def calc_p(counter, n):\n",
    "    counter = dict(counter)\n",
    "    res = {}\n",
    "    for k, v in counter.items():\n",
    "        res[k] = v / n  \n",
    "    return res\n",
    "\n",
    "def get_n(counter):\n",
    "    counter = dict(counter)\n",
    "    return np.sum(list(counter.values()))\n",
    "\n",
    "def calc_H(p):\n",
    "    H = 0\n",
    "    for k, v in p.items():\n",
    "        #Shannon equation!\n",
    "        H += p[k] * math.log2(p[k])\n",
    "    return -H\n",
    "\n",
    "def calc_entropy_for_message(message):\n",
    "    counter = calc_freq(message)\n",
    "    n = get_n(counter)\n",
    "    p = calc_p(counter, n)\n",
    "    H = calc_H(p)\n",
    "    return H"
   ]
  },
  {
   "cell_type": "code",
   "execution_count": 12,
   "metadata": {},
   "outputs": [
    {
     "data": {
      "text/plain": [
       "1.9776479278504808"
      ]
     },
     "execution_count": 12,
     "metadata": {},
     "output_type": "execute_result"
    }
   ],
   "source": [
    "calc_entropy_for_message(data_test)"
   ]
  },
  {
   "cell_type": "code",
   "execution_count": 13,
   "metadata": {},
   "outputs": [],
   "source": [
    "def diff_entropy(message1, message2):\n",
    "    message1_entropy = calc_entropy_for_message(message1)\n",
    "    message2_entropy = calc_entropy_for_message(message2)\n",
    "    message_1_entropy_size = message1_entropy * len(message1)\n",
    "    message_2_entropy_size = message2_entropy * len(message2)\n",
    "\n",
    "\n",
    "    diff = message_1_entropy_size - message_2_entropy_size\n",
    "    #print(f'{round(message1_entropy, 2)} * {len(message1)} < {round(message2_entropy, 2)} * {len(message2)} ... {diff}')\n",
    "    return diff"
   ]
  },
  {
   "cell_type": "code",
   "execution_count": 14,
   "metadata": {},
   "outputs": [
    {
     "data": {
      "text/plain": [
       "0.0"
      ]
     },
     "execution_count": 14,
     "metadata": {},
     "output_type": "execute_result"
    }
   ],
   "source": [
    "diff_entropy(data_test, data_test)"
   ]
  },
  {
   "cell_type": "code",
   "execution_count": 15,
   "metadata": {},
   "outputs": [],
   "source": [
    "all_chars_uni = tuple(chr(i) for i in range(32, 0x110000) if chr(i).isprintable())"
   ]
  },
  {
   "cell_type": "code",
   "execution_count": 16,
   "metadata": {},
   "outputs": [],
   "source": [
    "all_chars_ascii = list(range(0, 256))\n",
    "all_chars_ascii = [chr(ascii_char) for ascii_char in all_chars_ascii]"
   ]
  },
  {
   "cell_type": "code",
   "execution_count": 17,
   "metadata": {},
   "outputs": [],
   "source": [
    "def find_not_existing_character(current_alpahbet, gen_chars=all_chars_uni):\n",
    "    can_use = set(gen_chars).difference(set(current_alpahbet))\n",
    "    ascii_picked_char = random.choice(list(can_use))\n",
    "    return ascii_picked_char"
   ]
  },
  {
   "cell_type": "code",
   "execution_count": 18,
   "metadata": {},
   "outputs": [
    {
     "data": {
      "text/plain": [
       "'𛇮'"
      ]
     },
     "execution_count": 18,
     "metadata": {},
     "output_type": "execute_result"
    }
   ],
   "source": [
    "find_not_existing_character(['A', 'C', 'G', 'T'])"
   ]
  },
  {
   "cell_type": "code",
   "execution_count": 19,
   "metadata": {},
   "outputs": [],
   "source": [
    "def transform_message(message, ngram_for_replace):\n",
    "    current_alphabet_size = np.unique(list(message))\n",
    "\n",
    "    #print('Alphabet size', len(current_alphabet_size))\n",
    "\n",
    "    replace_character = find_not_existing_character(current_alphabet_size)\n",
    "    \n",
    "    return message.replace(ngram_for_replace, replace_character), replace_character"
   ]
  },
  {
   "cell_type": "code",
   "execution_count": 20,
   "metadata": {},
   "outputs": [],
   "source": [
    "def calculate_for_ngrams_diff(ngrams, message, method_entropy=diff_entropy, init_message=None):\n",
    "    res = {}\n",
    "    \n",
    "    for k, v in ngrams.items():\n",
    "        res[k] = {\n",
    "            \"Counter\": v,\n",
    "            #message - current\n",
    "            #message - next message\n",
    "            #\"Diff\": method_entropy(init_message, transform_message(message, k)[0])\n",
    "            \"Diff\": method_entropy(message, transform_message(message, k)[0])\n",
    "        }\n",
    "    return res"
   ]
  },
  {
   "cell_type": "code",
   "execution_count": 21,
   "metadata": {},
   "outputs": [
    {
     "data": {
      "text/html": [
       "<div>\n",
       "<style scoped>\n",
       "    .dataframe tbody tr th:only-of-type {\n",
       "        vertical-align: middle;\n",
       "    }\n",
       "\n",
       "    .dataframe tbody tr th {\n",
       "        vertical-align: top;\n",
       "    }\n",
       "\n",
       "    .dataframe thead th {\n",
       "        text-align: right;\n",
       "    }\n",
       "</style>\n",
       "<table border=\"1\" class=\"dataframe\">\n",
       "  <thead>\n",
       "    <tr style=\"text-align: right;\">\n",
       "      <th></th>\n",
       "      <th>Counter</th>\n",
       "      <th>Diff</th>\n",
       "    </tr>\n",
       "  </thead>\n",
       "  <tbody>\n",
       "    <tr>\n",
       "      <th>CC</th>\n",
       "      <td>407</td>\n",
       "      <td>-429.811368</td>\n",
       "    </tr>\n",
       "    <tr>\n",
       "      <th>CG</th>\n",
       "      <td>433</td>\n",
       "      <td>-476.602214</td>\n",
       "    </tr>\n",
       "    <tr>\n",
       "      <th>GA</th>\n",
       "      <td>577</td>\n",
       "      <td>-663.262153</td>\n",
       "    </tr>\n",
       "    <tr>\n",
       "      <th>AT</th>\n",
       "      <td>866</td>\n",
       "      <td>-902.599147</td>\n",
       "    </tr>\n",
       "    <tr>\n",
       "      <th>TA</th>\n",
       "      <td>914</td>\n",
       "      <td>-857.800771</td>\n",
       "    </tr>\n",
       "    <tr>\n",
       "      <th>TG</th>\n",
       "      <td>600</td>\n",
       "      <td>-656.357127</td>\n",
       "    </tr>\n",
       "    <tr>\n",
       "      <th>GC</th>\n",
       "      <td>444</td>\n",
       "      <td>-468.978055</td>\n",
       "    </tr>\n",
       "    <tr>\n",
       "      <th>CA</th>\n",
       "      <td>584</td>\n",
       "      <td>-679.783285</td>\n",
       "    </tr>\n",
       "    <tr>\n",
       "      <th>GT</th>\n",
       "      <td>604</td>\n",
       "      <td>-653.362705</td>\n",
       "    </tr>\n",
       "    <tr>\n",
       "      <th>TC</th>\n",
       "      <td>601</td>\n",
       "      <td>-677.653314</td>\n",
       "    </tr>\n",
       "    <tr>\n",
       "      <th>GG</th>\n",
       "      <td>402</td>\n",
       "      <td>-407.508930</td>\n",
       "    </tr>\n",
       "    <tr>\n",
       "      <th>CT</th>\n",
       "      <td>645</td>\n",
       "      <td>-643.139570</td>\n",
       "    </tr>\n",
       "    <tr>\n",
       "      <th>TT</th>\n",
       "      <td>850</td>\n",
       "      <td>-743.865291</td>\n",
       "    </tr>\n",
       "    <tr>\n",
       "      <th>AC</th>\n",
       "      <td>617</td>\n",
       "      <td>-655.352342</td>\n",
       "    </tr>\n",
       "    <tr>\n",
       "      <th>AA</th>\n",
       "      <td>861</td>\n",
       "      <td>-728.744669</td>\n",
       "    </tr>\n",
       "    <tr>\n",
       "      <th>AG</th>\n",
       "      <td>591</td>\n",
       "      <td>-653.515796</td>\n",
       "    </tr>\n",
       "    <tr>\n",
       "      <th>CN</th>\n",
       "      <td>1</td>\n",
       "      <td>2.271877</td>\n",
       "    </tr>\n",
       "    <tr>\n",
       "      <th>NG</th>\n",
       "      <td>1</td>\n",
       "      <td>2.302866</td>\n",
       "    </tr>\n",
       "  </tbody>\n",
       "</table>\n",
       "</div>"
      ],
      "text/plain": [
       "    Counter        Diff\n",
       "CC      407 -429.811368\n",
       "CG      433 -476.602214\n",
       "GA      577 -663.262153\n",
       "AT      866 -902.599147\n",
       "TA      914 -857.800771\n",
       "TG      600 -656.357127\n",
       "GC      444 -468.978055\n",
       "CA      584 -679.783285\n",
       "GT      604 -653.362705\n",
       "TC      601 -677.653314\n",
       "GG      402 -407.508930\n",
       "CT      645 -643.139570\n",
       "TT      850 -743.865291\n",
       "AC      617 -655.352342\n",
       "AA      861 -728.744669\n",
       "AG      591 -653.515796\n",
       "CN        1    2.271877\n",
       "NG        1    2.302866"
      ]
     },
     "execution_count": 21,
     "metadata": {},
     "output_type": "execute_result"
    }
   ],
   "source": [
    "r = calculate_for_ngrams_diff(\n",
    "        find_k_grams_freq(data_test),\n",
    "        data_test,\n",
    "        diff_entropy,\n",
    "        data_test\n",
    "    )\n",
    "\n",
    "pd.DataFrame.from_dict(\n",
    "    r, \n",
    "    orient=\"index\"\n",
    ")"
   ]
  },
  {
   "cell_type": "code",
   "execution_count": 22,
   "metadata": {},
   "outputs": [
    {
     "data": {
      "text/plain": [
       "{'CC': {'Counter': 407, 'Diff': -429.81136813989724},\n",
       " 'CG': {'Counter': 433, 'Diff': -476.6022139988163},\n",
       " 'GA': {'Counter': 577, 'Diff': -663.2621527918345},\n",
       " 'AT': {'Counter': 866, 'Diff': -902.599147238976},\n",
       " 'TA': {'Counter': 914, 'Diff': -857.8007706875178},\n",
       " 'TG': {'Counter': 600, 'Diff': -656.3571271993169},\n",
       " 'GC': {'Counter': 444, 'Diff': -468.97805533048813},\n",
       " 'CA': {'Counter': 584, 'Diff': -679.7832854468397},\n",
       " 'GT': {'Counter': 604, 'Diff': -653.3627048300841},\n",
       " 'TC': {'Counter': 601, 'Diff': -677.6533135408063},\n",
       " 'GG': {'Counter': 402, 'Diff': -407.50893022703895},\n",
       " 'CT': {'Counter': 645, 'Diff': -643.139569584946},\n",
       " 'TT': {'Counter': 850, 'Diff': -743.8652911470417},\n",
       " 'AC': {'Counter': 617, 'Diff': -655.3523424227278},\n",
       " 'AA': {'Counter': 861, 'Diff': -728.7446691381738},\n",
       " 'AG': {'Counter': 591, 'Diff': -653.5157959937023},\n",
       " 'CN': {'Counter': 1, 'Diff': 2.2718767690494133},\n",
       " 'NG': {'Counter': 1, 'Diff': 2.302865796984406}}"
      ]
     },
     "execution_count": 22,
     "metadata": {},
     "output_type": "execute_result"
    }
   ],
   "source": [
    "r"
   ]
  },
  {
   "cell_type": "code",
   "execution_count": 23,
   "metadata": {},
   "outputs": [
    {
     "data": {
      "text/plain": [
       "dict_items([('CC', {'Counter': 407, 'Diff': -429.81136813989724}), ('CG', {'Counter': 433, 'Diff': -476.6022139988163}), ('GA', {'Counter': 577, 'Diff': -663.2621527918345}), ('AT', {'Counter': 866, 'Diff': -902.599147238976}), ('TA', {'Counter': 914, 'Diff': -857.8007706875178}), ('TG', {'Counter': 600, 'Diff': -656.3571271993169}), ('GC', {'Counter': 444, 'Diff': -468.97805533048813}), ('CA', {'Counter': 584, 'Diff': -679.7832854468397}), ('GT', {'Counter': 604, 'Diff': -653.3627048300841}), ('TC', {'Counter': 601, 'Diff': -677.6533135408063}), ('GG', {'Counter': 402, 'Diff': -407.50893022703895}), ('CT', {'Counter': 645, 'Diff': -643.139569584946}), ('TT', {'Counter': 850, 'Diff': -743.8652911470417}), ('AC', {'Counter': 617, 'Diff': -655.3523424227278}), ('AA', {'Counter': 861, 'Diff': -728.7446691381738}), ('AG', {'Counter': 591, 'Diff': -653.5157959937023}), ('CN', {'Counter': 1, 'Diff': 2.2718767690494133}), ('NG', {'Counter': 1, 'Diff': 2.302865796984406})])"
      ]
     },
     "execution_count": 23,
     "metadata": {},
     "output_type": "execute_result"
    }
   ],
   "source": [
    "r.items()"
   ]
  },
  {
   "cell_type": "code",
   "execution_count": 24,
   "metadata": {},
   "outputs": [],
   "source": [
    "def pick_largest(items):\n",
    "    return list(sorted(items, key=lambda x: x[1]['Diff']))[0]\n",
    "\n",
    "def pick_random(items):\n",
    "    return random.choice(items)\n",
    "\n",
    "def pick_only_decreasing(dic, pick_method=pick_largest):\n",
    "    items = dic.items()\n",
    "\n",
    "    decreasing_items = list(filter(lambda x: x[1]['Diff'] < 0, items))\n",
    "\n",
    "    if len(decreasing_items) == 0:\n",
    "        return None\n",
    "\n",
    "    return pick_method(decreasing_items)    "
   ]
  },
  {
   "cell_type": "code",
   "execution_count": 25,
   "metadata": {},
   "outputs": [
    {
     "data": {
      "text/plain": [
       "('AT', {'Counter': 866, 'Diff': -902.599147238976})"
      ]
     },
     "execution_count": 25,
     "metadata": {},
     "output_type": "execute_result"
    }
   ],
   "source": [
    "pick_only_decreasing(r, pick_largest)"
   ]
  },
  {
   "cell_type": "markdown",
   "metadata": {},
   "source": [
    "# Algorithm implementation - Reduction paradox"
   ]
  },
  {
   "cell_type": "code",
   "execution_count": 26,
   "metadata": {},
   "outputs": [],
   "source": [
    "class TableFields(Enum):\n",
    "    Rule = \"Rule\"\n",
    "    EntropyMove = \"EntropyMove\"\n",
    "    CurrentEntropy = \"CurrentEntropy\"\n",
    "    EntropySize = \"EntropySize\"\n",
    "    DataType = \"DataType\"\n",
    "    DescriptionData = \"DescriptionData\"\n",
    "    MessageSize = \"MessageSize\"\n",
    "    AlphabetSize = \"AlphabetSize\"\n",
    "    GrammaticSize = \"GrammaticSize\"\n",
    "    CalcTime = \"CalcTime\"\n"
   ]
  },
  {
   "cell_type": "code",
   "execution_count": 27,
   "metadata": {},
   "outputs": [],
   "source": [
    "def create_value(message_0, message_1, diff, replace_character, n_gram, grammatic, tic, type_data=None, description_data=None):\n",
    "    new_message_alphabet_size = len(np.unique(list(message_1)))\n",
    "    new_message_size = len(message_1)\n",
    "    new_message_entropy = calc_entropy_for_message(message_1)\n",
    "\n",
    "    new_rule = f\"{n_gram} -> {replace_character}\"\n",
    "    grammatic[n_gram] = replace_character\n",
    "\n",
    "    tac = time.time()\n",
    "    \n",
    "    return {\n",
    "        TableFields.Rule.value: new_rule,\n",
    "        TableFields.EntropyMove.value: diff,\n",
    "        TableFields.CurrentEntropy.value: new_message_entropy,\n",
    "        TableFields.EntropySize.value: new_message_entropy * new_message_size,\n",
    "        TableFields.DataType.value: type_data,\n",
    "        TableFields.DescriptionData.value: description_data,\n",
    "        TableFields.MessageSize.value: new_message_size,\n",
    "        TableFields.AlphabetSize.value: new_message_alphabet_size,\n",
    "        TableFields.GrammaticSize.value: len(list(grammatic.keys())),\n",
    "        TableFields.CalcTime.value: tac - tic,\n",
    "    }\n"
   ]
  },
  {
   "cell_type": "code",
   "execution_count": 28,
   "metadata": {},
   "outputs": [],
   "source": [
    "def algorithm_step(init_message, message, grammatic, type_data=None, description_data=None, tic=None, heuristics_method=pick_largest, optimized=False):\n",
    "    #Find ngrams\n",
    "    n_grams = find_k_grams_freq(message)\n",
    "    \n",
    "    #optimized = diff_entropy change pls use formula\n",
    "\n",
    "    diff_table = calculate_for_ngrams_diff(\n",
    "        n_grams,\n",
    "        message,\n",
    "        diff_entropy,\n",
    "        init_message\n",
    "    )\n",
    "\n",
    "    picked = pick_only_decreasing(diff_table, heuristics_method)\n",
    "    print(picked)\n",
    "\n",
    "    if picked is None:\n",
    "        return None\n",
    "\n",
    "    #('AT', {'Counter': 867, 'Diff': -0.2814694848677286})\n",
    "    n_gram, dic_values = picked\n",
    "    transformed_message, replace_character = transform_message(message, n_gram)\n",
    "    \n",
    "    return transformed_message, create_value(message, transformed_message, dic_values['Diff'], replace_character, n_gram, grammatic, tic, type_data, description_data)\n"
   ]
  },
  {
   "cell_type": "code",
   "execution_count": 46,
   "metadata": {},
   "outputs": [],
   "source": [
    "def algorithm(message, type_data=None, description_data=None, limit_step=None, heuristic_method=pick_largest, optimized=False):\n",
    "    init_message = message\n",
    "\n",
    "    res = {}\n",
    "    grammatic = {}\n",
    "    step = 0\n",
    "#message_0, message_1, diff, replace_character, n_gram, grammatic, tic, type_data=None, description_data=None\n",
    "    step_value = create_value(init_message, init_message, 0, \"\", \"\", grammatic, time.time(), type_data)\n",
    "\n",
    "    res[step] = step_value\n",
    "    step += 1\n",
    "\n",
    "    while True:\n",
    "        tic = time.time()\n",
    "        if limit_step is not None and limit_step == step:\n",
    "            break\n",
    "        step_value = algorithm_step(init_message, message, grammatic, type_data, description_data, tic, heuristic_method, optimized)\n",
    "        print(step, len(message))\n",
    "        print('\\n')\n",
    "        if step_value is None:\n",
    "            break\n",
    "\n",
    "        else:\n",
    "            transformed_message, value = step_value\n",
    "            message = transformed_message\n",
    "\n",
    "            step += 1\n",
    "            res[step] = value\n",
    "\n",
    "    return res"
   ]
  },
  {
   "cell_type": "markdown",
   "metadata": {},
   "source": [
    "## Testing data"
   ]
  },
  {
   "cell_type": "code",
   "execution_count": 47,
   "metadata": {},
   "outputs": [
    {
     "name": "stdout",
     "output_type": "stream",
     "text": [
      "('AT', {'Counter': 866, 'Diff': -902.599147238976})\n",
      "1 10000\n",
      "\n",
      "\n",
      "('TC', {'Counter': 421, 'Diff': -564.2114557037385})\n",
      "2 9134\n",
      "\n",
      "\n",
      "('GA', {'Counter': 408, 'Diff': -574.2843182809556})\n",
      "3 8713\n",
      "\n",
      "\n",
      "('CG', {'Counter': 273, 'Diff': -395.204272314666})\n",
      "4 8305\n",
      "\n",
      "\n",
      "('CA', {'Counter': 329, 'Diff': -303.967591233999})\n",
      "5 8032\n",
      "\n",
      "\n",
      "('TG', {'Counter': 359, 'Diff': -289.3102175666063})\n",
      "6 7703\n",
      "\n",
      "\n",
      "('𑄨T', {'Counter': 166, 'Diff': -186.2967022102166})\n",
      "7 7344\n",
      "\n",
      "\n",
      "('AC', {'Counter': 248, 'Diff': -194.63337510700148})\n",
      "8 7178\n",
      "\n",
      "\n",
      "('GT', {'Counter': 240, 'Diff': -136.14568108932508})\n",
      "9 6929\n",
      "\n",
      "\n",
      "('𑄨A', {'Counter': 143, 'Diff': -123.82819112846119})\n",
      "10 6689\n",
      "\n",
      "\n",
      "('T𑄨', {'Counter': 86, 'Diff': -96.12848366744583})\n",
      "11 6546\n",
      "\n",
      "\n",
      "('𮊳A', {'Counter': 68, 'Diff': -76.46490543075925})\n",
      "12 6460\n",
      "\n",
      "\n",
      "('C𑄨', {'Counter': 65, 'Diff': -74.25959822794175})\n",
      "13 6392\n",
      "\n",
      "\n",
      "('A♂', {'Counter': 55, 'Diff': -73.38207233108187})\n",
      "14 6327\n",
      "\n",
      "\n",
      "('T♂', {'Counter': 51, 'Diff': -59.2440128585622})\n",
      "15 6272\n",
      "\n",
      "\n",
      "('G𑄨', {'Counter': 60, 'Diff': -58.699002428933454})\n",
      "16 6221\n",
      "\n",
      "\n",
      "('CC', {'Counter': 144, 'Diff': -59.08696257967313})\n",
      "17 6161\n",
      "\n",
      "\n",
      "('𮊳G', {'Counter': 36, 'Diff': -53.60534813820777})\n",
      "18 6043\n",
      "\n",
      "\n",
      "('G홄', {'Counter': 44, 'Diff': -49.64660047789948})\n",
      "19 6007\n",
      "\n",
      "\n"
     ]
    }
   ],
   "source": [
    "test_result = algorithm(data_test, limit_step=20)"
   ]
  },
  {
   "cell_type": "code",
   "execution_count": 48,
   "metadata": {},
   "outputs": [
    {
     "data": {
      "text/html": [
       "<div>\n",
       "<style scoped>\n",
       "    .dataframe tbody tr th:only-of-type {\n",
       "        vertical-align: middle;\n",
       "    }\n",
       "\n",
       "    .dataframe tbody tr th {\n",
       "        vertical-align: top;\n",
       "    }\n",
       "\n",
       "    .dataframe thead th {\n",
       "        text-align: right;\n",
       "    }\n",
       "</style>\n",
       "<table border=\"1\" class=\"dataframe\">\n",
       "  <thead>\n",
       "    <tr style=\"text-align: right;\">\n",
       "      <th></th>\n",
       "      <th>Rule</th>\n",
       "      <th>EntropyMove</th>\n",
       "      <th>CurrentEntropy</th>\n",
       "      <th>EntropySize</th>\n",
       "      <th>DataType</th>\n",
       "      <th>DescriptionData</th>\n",
       "      <th>MessageSize</th>\n",
       "      <th>AlphabetSize</th>\n",
       "      <th>GrammaticSize</th>\n",
       "      <th>CalcTime</th>\n",
       "    </tr>\n",
       "  </thead>\n",
       "  <tbody>\n",
       "    <tr>\n",
       "      <th>0</th>\n",
       "      <td>-&gt;</td>\n",
       "      <td>0.000000</td>\n",
       "      <td>1.977648</td>\n",
       "      <td>19776.479279</td>\n",
       "      <td>None</td>\n",
       "      <td>None</td>\n",
       "      <td>10000</td>\n",
       "      <td>5</td>\n",
       "      <td>1</td>\n",
       "      <td>0.003001</td>\n",
       "    </tr>\n",
       "    <tr>\n",
       "      <th>2</th>\n",
       "      <td>AT -&gt; 𑄨</td>\n",
       "      <td>-902.599147</td>\n",
       "      <td>2.263967</td>\n",
       "      <td>20679.078426</td>\n",
       "      <td>None</td>\n",
       "      <td>None</td>\n",
       "      <td>9134</td>\n",
       "      <td>6</td>\n",
       "      <td>2</td>\n",
       "      <td>0.487568</td>\n",
       "    </tr>\n",
       "    <tr>\n",
       "      <th>3</th>\n",
       "      <td>TC -&gt; 𮊳</td>\n",
       "      <td>-564.211456</td>\n",
       "      <td>2.438114</td>\n",
       "      <td>21243.289881</td>\n",
       "      <td>None</td>\n",
       "      <td>None</td>\n",
       "      <td>8713</td>\n",
       "      <td>7</td>\n",
       "      <td>3</td>\n",
       "      <td>0.650164</td>\n",
       "    </tr>\n",
       "    <tr>\n",
       "      <th>4</th>\n",
       "      <td>GA -&gt; ♂</td>\n",
       "      <td>-574.284318</td>\n",
       "      <td>2.627041</td>\n",
       "      <td>21817.574200</td>\n",
       "      <td>None</td>\n",
       "      <td>None</td>\n",
       "      <td>8305</td>\n",
       "      <td>8</td>\n",
       "      <td>4</td>\n",
       "      <td>0.857145</td>\n",
       "    </tr>\n",
       "    <tr>\n",
       "      <th>5</th>\n",
       "      <td>CG -&gt; 脮</td>\n",
       "      <td>-395.204272</td>\n",
       "      <td>2.765535</td>\n",
       "      <td>22212.778472</td>\n",
       "      <td>None</td>\n",
       "      <td>None</td>\n",
       "      <td>8032</td>\n",
       "      <td>9</td>\n",
       "      <td>5</td>\n",
       "      <td>1.072077</td>\n",
       "    </tr>\n",
       "    <tr>\n",
       "      <th>6</th>\n",
       "      <td>CA -&gt; 𨽴</td>\n",
       "      <td>-303.967591</td>\n",
       "      <td>2.923114</td>\n",
       "      <td>22516.746063</td>\n",
       "      <td>None</td>\n",
       "      <td>None</td>\n",
       "      <td>7703</td>\n",
       "      <td>10</td>\n",
       "      <td>6</td>\n",
       "      <td>1.360998</td>\n",
       "    </tr>\n",
       "    <tr>\n",
       "      <th>7</th>\n",
       "      <td>TG -&gt; 홄</td>\n",
       "      <td>-289.310218</td>\n",
       "      <td>3.105400</td>\n",
       "      <td>22806.056281</td>\n",
       "      <td>None</td>\n",
       "      <td>None</td>\n",
       "      <td>7344</td>\n",
       "      <td>11</td>\n",
       "      <td>7</td>\n",
       "      <td>1.781959</td>\n",
       "    </tr>\n",
       "    <tr>\n",
       "      <th>8</th>\n",
       "      <td>𑄨T -&gt; 𪇭</td>\n",
       "      <td>-186.296702</td>\n",
       "      <td>3.203170</td>\n",
       "      <td>22992.352983</td>\n",
       "      <td>None</td>\n",
       "      <td>None</td>\n",
       "      <td>7178</td>\n",
       "      <td>12</td>\n",
       "      <td>8</td>\n",
       "      <td>1.984849</td>\n",
       "    </tr>\n",
       "    <tr>\n",
       "      <th>9</th>\n",
       "      <td>AC -&gt; 湛</td>\n",
       "      <td>-194.633375</td>\n",
       "      <td>3.346368</td>\n",
       "      <td>23186.986358</td>\n",
       "      <td>None</td>\n",
       "      <td>None</td>\n",
       "      <td>6929</td>\n",
       "      <td>13</td>\n",
       "      <td>9</td>\n",
       "      <td>2.590003</td>\n",
       "    </tr>\n",
       "    <tr>\n",
       "      <th>10</th>\n",
       "      <td>GT -&gt; 𣟂</td>\n",
       "      <td>-136.145681</td>\n",
       "      <td>3.486789</td>\n",
       "      <td>23323.132039</td>\n",
       "      <td>None</td>\n",
       "      <td>None</td>\n",
       "      <td>6689</td>\n",
       "      <td>14</td>\n",
       "      <td>10</td>\n",
       "      <td>2.746336</td>\n",
       "    </tr>\n",
       "    <tr>\n",
       "      <th>11</th>\n",
       "      <td>𑄨A -&gt; ⬉</td>\n",
       "      <td>-123.828191</td>\n",
       "      <td>3.581876</td>\n",
       "      <td>23446.960230</td>\n",
       "      <td>None</td>\n",
       "      <td>None</td>\n",
       "      <td>6546</td>\n",
       "      <td>15</td>\n",
       "      <td>11</td>\n",
       "      <td>3.397088</td>\n",
       "    </tr>\n",
       "    <tr>\n",
       "      <th>12</th>\n",
       "      <td>T𑄨 -&gt; ﶕ</td>\n",
       "      <td>-96.128484</td>\n",
       "      <td>3.644441</td>\n",
       "      <td>23543.088714</td>\n",
       "      <td>None</td>\n",
       "      <td>None</td>\n",
       "      <td>6460</td>\n",
       "      <td>16</td>\n",
       "      <td>12</td>\n",
       "      <td>3.815521</td>\n",
       "    </tr>\n",
       "    <tr>\n",
       "      <th>13</th>\n",
       "      <td>𮊳A -&gt; ࠋ</td>\n",
       "      <td>-76.464905</td>\n",
       "      <td>3.695174</td>\n",
       "      <td>23619.553619</td>\n",
       "      <td>None</td>\n",
       "      <td>None</td>\n",
       "      <td>6392</td>\n",
       "      <td>17</td>\n",
       "      <td>13</td>\n",
       "      <td>4.165351</td>\n",
       "    </tr>\n",
       "    <tr>\n",
       "      <th>14</th>\n",
       "      <td>C𑄨 -&gt; 𘊶</td>\n",
       "      <td>-74.259598</td>\n",
       "      <td>3.744873</td>\n",
       "      <td>23693.813218</td>\n",
       "      <td>None</td>\n",
       "      <td>None</td>\n",
       "      <td>6327</td>\n",
       "      <td>18</td>\n",
       "      <td>14</td>\n",
       "      <td>4.390408</td>\n",
       "    </tr>\n",
       "    <tr>\n",
       "      <th>15</th>\n",
       "      <td>A♂ -&gt; 𓆓</td>\n",
       "      <td>-73.382072</td>\n",
       "      <td>3.789413</td>\n",
       "      <td>23767.195290</td>\n",
       "      <td>None</td>\n",
       "      <td>None</td>\n",
       "      <td>6272</td>\n",
       "      <td>19</td>\n",
       "      <td>15</td>\n",
       "      <td>4.846241</td>\n",
       "    </tr>\n",
       "    <tr>\n",
       "      <th>16</th>\n",
       "      <td>T♂ -&gt; 𧰋</td>\n",
       "      <td>-59.244013</td>\n",
       "      <td>3.830001</td>\n",
       "      <td>23826.439303</td>\n",
       "      <td>None</td>\n",
       "      <td>None</td>\n",
       "      <td>6221</td>\n",
       "      <td>20</td>\n",
       "      <td>16</td>\n",
       "      <td>5.265388</td>\n",
       "    </tr>\n",
       "    <tr>\n",
       "      <th>17</th>\n",
       "      <td>G𑄨 -&gt; 𝝫</td>\n",
       "      <td>-58.699002</td>\n",
       "      <td>3.876828</td>\n",
       "      <td>23885.138305</td>\n",
       "      <td>None</td>\n",
       "      <td>None</td>\n",
       "      <td>6161</td>\n",
       "      <td>21</td>\n",
       "      <td>17</td>\n",
       "      <td>5.569079</td>\n",
       "    </tr>\n",
       "    <tr>\n",
       "      <th>18</th>\n",
       "      <td>CC -&gt; ᠂</td>\n",
       "      <td>-59.086963</td>\n",
       "      <td>3.962308</td>\n",
       "      <td>23944.225268</td>\n",
       "      <td>None</td>\n",
       "      <td>None</td>\n",
       "      <td>6043</td>\n",
       "      <td>22</td>\n",
       "      <td>18</td>\n",
       "      <td>6.158010</td>\n",
       "    </tr>\n",
       "    <tr>\n",
       "      <th>19</th>\n",
       "      <td>𮊳G -&gt; 𤚂</td>\n",
       "      <td>-53.605348</td>\n",
       "      <td>3.994978</td>\n",
       "      <td>23997.830616</td>\n",
       "      <td>None</td>\n",
       "      <td>None</td>\n",
       "      <td>6007</td>\n",
       "      <td>23</td>\n",
       "      <td>19</td>\n",
       "      <td>6.654999</td>\n",
       "    </tr>\n",
       "    <tr>\n",
       "      <th>20</th>\n",
       "      <td>G홄 -&gt; 𣈥</td>\n",
       "      <td>-49.646600</td>\n",
       "      <td>4.032782</td>\n",
       "      <td>24047.477217</td>\n",
       "      <td>None</td>\n",
       "      <td>None</td>\n",
       "      <td>5963</td>\n",
       "      <td>24</td>\n",
       "      <td>20</td>\n",
       "      <td>7.184958</td>\n",
       "    </tr>\n",
       "  </tbody>\n",
       "</table>\n",
       "</div>"
      ],
      "text/plain": [
       "       Rule  EntropyMove  CurrentEntropy   EntropySize DataType  \\\n",
       "0       ->      0.000000        1.977648  19776.479279     None   \n",
       "2   AT -> 𑄨  -902.599147        2.263967  20679.078426     None   \n",
       "3   TC -> 𮊳  -564.211456        2.438114  21243.289881     None   \n",
       "4   GA -> ♂  -574.284318        2.627041  21817.574200     None   \n",
       "5   CG -> 脮  -395.204272        2.765535  22212.778472     None   \n",
       "6   CA -> 𨽴  -303.967591        2.923114  22516.746063     None   \n",
       "7   TG -> 홄  -289.310218        3.105400  22806.056281     None   \n",
       "8   𑄨T -> 𪇭  -186.296702        3.203170  22992.352983     None   \n",
       "9   AC -> 湛  -194.633375        3.346368  23186.986358     None   \n",
       "10  GT -> 𣟂  -136.145681        3.486789  23323.132039     None   \n",
       "11  𑄨A -> ⬉  -123.828191        3.581876  23446.960230     None   \n",
       "12  T𑄨 -> ﶕ   -96.128484        3.644441  23543.088714     None   \n",
       "13  𮊳A -> ࠋ   -76.464905        3.695174  23619.553619     None   \n",
       "14  C𑄨 -> 𘊶   -74.259598        3.744873  23693.813218     None   \n",
       "15  A♂ -> 𓆓   -73.382072        3.789413  23767.195290     None   \n",
       "16  T♂ -> 𧰋   -59.244013        3.830001  23826.439303     None   \n",
       "17  G𑄨 -> 𝝫   -58.699002        3.876828  23885.138305     None   \n",
       "18  CC -> ᠂   -59.086963        3.962308  23944.225268     None   \n",
       "19  𮊳G -> 𤚂   -53.605348        3.994978  23997.830616     None   \n",
       "20  G홄 -> 𣈥   -49.646600        4.032782  24047.477217     None   \n",
       "\n",
       "   DescriptionData  MessageSize  AlphabetSize  GrammaticSize  CalcTime  \n",
       "0             None        10000             5              1  0.003001  \n",
       "2             None         9134             6              2  0.487568  \n",
       "3             None         8713             7              3  0.650164  \n",
       "4             None         8305             8              4  0.857145  \n",
       "5             None         8032             9              5  1.072077  \n",
       "6             None         7703            10              6  1.360998  \n",
       "7             None         7344            11              7  1.781959  \n",
       "8             None         7178            12              8  1.984849  \n",
       "9             None         6929            13              9  2.590003  \n",
       "10            None         6689            14             10  2.746336  \n",
       "11            None         6546            15             11  3.397088  \n",
       "12            None         6460            16             12  3.815521  \n",
       "13            None         6392            17             13  4.165351  \n",
       "14            None         6327            18             14  4.390408  \n",
       "15            None         6272            19             15  4.846241  \n",
       "16            None         6221            20             16  5.265388  \n",
       "17            None         6161            21             17  5.569079  \n",
       "18            None         6043            22             18  6.158010  \n",
       "19            None         6007            23             19  6.654999  \n",
       "20            None         5963            24             20  7.184958  "
      ]
     },
     "execution_count": 48,
     "metadata": {},
     "output_type": "execute_result"
    }
   ],
   "source": [
    "df = pd.DataFrame.from_dict(test_result, orient=\"index\")\n",
    "df"
   ]
  },
  {
   "cell_type": "code",
   "execution_count": 49,
   "metadata": {},
   "outputs": [
    {
     "data": {
      "application/vnd.plotly.v1+json": {
       "config": {
        "plotlyServerURL": "https://plot.ly"
       },
       "data": [
        {
         "hovertemplate": "index=%{x}<br>EntropyMove=%{y}<br>text=%{text}<extra></extra>",
         "legendgroup": "",
         "line": {
          "color": "#636efa",
          "dash": "solid"
         },
         "marker": {
          "symbol": "circle"
         },
         "mode": "text+lines+markers",
         "name": "",
         "orientation": "v",
         "showlegend": false,
         "text": [
          "0.0",
          "-902.6",
          "-564.2",
          "-574.3",
          "-395.2",
          "-304.0",
          "-289.3",
          "-186.3",
          "-194.6",
          "-136.1",
          "-123.8",
          "-96.1",
          "-76.5",
          "-74.3",
          "-73.4",
          "-59.2",
          "-58.7",
          "-59.1",
          "-53.6",
          "-49.6"
         ],
         "type": "scatter",
         "x": [
          0,
          2,
          3,
          4,
          5,
          6,
          7,
          8,
          9,
          10,
          11,
          12,
          13,
          14,
          15,
          16,
          17,
          18,
          19,
          20
         ],
         "xaxis": "x",
         "y": [
          0,
          -902.599147238976,
          -564.2114557037385,
          -574.2843182809556,
          -395.204272314666,
          -303.967591233999,
          -289.3102175666063,
          -186.2967022102166,
          -194.63337510700148,
          -136.14568108932508,
          -123.82819112846119,
          -96.12848366744583,
          -76.46490543075925,
          -74.25959822794175,
          -73.38207233108187,
          -59.2440128585622,
          -58.699002428933454,
          -59.08696257967313,
          -53.60534813820777,
          -49.64660047789948
         ],
         "yaxis": "y"
        }
       ],
       "layout": {
        "legend": {
         "tracegroupgap": 0
        },
        "template": {
         "data": {
          "bar": [
           {
            "error_x": {
             "color": "#2a3f5f"
            },
            "error_y": {
             "color": "#2a3f5f"
            },
            "marker": {
             "line": {
              "color": "#E5ECF6",
              "width": 0.5
             },
             "pattern": {
              "fillmode": "overlay",
              "size": 10,
              "solidity": 0.2
             }
            },
            "type": "bar"
           }
          ],
          "barpolar": [
           {
            "marker": {
             "line": {
              "color": "#E5ECF6",
              "width": 0.5
             },
             "pattern": {
              "fillmode": "overlay",
              "size": 10,
              "solidity": 0.2
             }
            },
            "type": "barpolar"
           }
          ],
          "carpet": [
           {
            "aaxis": {
             "endlinecolor": "#2a3f5f",
             "gridcolor": "white",
             "linecolor": "white",
             "minorgridcolor": "white",
             "startlinecolor": "#2a3f5f"
            },
            "baxis": {
             "endlinecolor": "#2a3f5f",
             "gridcolor": "white",
             "linecolor": "white",
             "minorgridcolor": "white",
             "startlinecolor": "#2a3f5f"
            },
            "type": "carpet"
           }
          ],
          "choropleth": [
           {
            "colorbar": {
             "outlinewidth": 0,
             "ticks": ""
            },
            "type": "choropleth"
           }
          ],
          "contour": [
           {
            "colorbar": {
             "outlinewidth": 0,
             "ticks": ""
            },
            "colorscale": [
             [
              0,
              "#0d0887"
             ],
             [
              0.1111111111111111,
              "#46039f"
             ],
             [
              0.2222222222222222,
              "#7201a8"
             ],
             [
              0.3333333333333333,
              "#9c179e"
             ],
             [
              0.4444444444444444,
              "#bd3786"
             ],
             [
              0.5555555555555556,
              "#d8576b"
             ],
             [
              0.6666666666666666,
              "#ed7953"
             ],
             [
              0.7777777777777778,
              "#fb9f3a"
             ],
             [
              0.8888888888888888,
              "#fdca26"
             ],
             [
              1,
              "#f0f921"
             ]
            ],
            "type": "contour"
           }
          ],
          "contourcarpet": [
           {
            "colorbar": {
             "outlinewidth": 0,
             "ticks": ""
            },
            "type": "contourcarpet"
           }
          ],
          "heatmap": [
           {
            "colorbar": {
             "outlinewidth": 0,
             "ticks": ""
            },
            "colorscale": [
             [
              0,
              "#0d0887"
             ],
             [
              0.1111111111111111,
              "#46039f"
             ],
             [
              0.2222222222222222,
              "#7201a8"
             ],
             [
              0.3333333333333333,
              "#9c179e"
             ],
             [
              0.4444444444444444,
              "#bd3786"
             ],
             [
              0.5555555555555556,
              "#d8576b"
             ],
             [
              0.6666666666666666,
              "#ed7953"
             ],
             [
              0.7777777777777778,
              "#fb9f3a"
             ],
             [
              0.8888888888888888,
              "#fdca26"
             ],
             [
              1,
              "#f0f921"
             ]
            ],
            "type": "heatmap"
           }
          ],
          "heatmapgl": [
           {
            "colorbar": {
             "outlinewidth": 0,
             "ticks": ""
            },
            "colorscale": [
             [
              0,
              "#0d0887"
             ],
             [
              0.1111111111111111,
              "#46039f"
             ],
             [
              0.2222222222222222,
              "#7201a8"
             ],
             [
              0.3333333333333333,
              "#9c179e"
             ],
             [
              0.4444444444444444,
              "#bd3786"
             ],
             [
              0.5555555555555556,
              "#d8576b"
             ],
             [
              0.6666666666666666,
              "#ed7953"
             ],
             [
              0.7777777777777778,
              "#fb9f3a"
             ],
             [
              0.8888888888888888,
              "#fdca26"
             ],
             [
              1,
              "#f0f921"
             ]
            ],
            "type": "heatmapgl"
           }
          ],
          "histogram": [
           {
            "marker": {
             "pattern": {
              "fillmode": "overlay",
              "size": 10,
              "solidity": 0.2
             }
            },
            "type": "histogram"
           }
          ],
          "histogram2d": [
           {
            "colorbar": {
             "outlinewidth": 0,
             "ticks": ""
            },
            "colorscale": [
             [
              0,
              "#0d0887"
             ],
             [
              0.1111111111111111,
              "#46039f"
             ],
             [
              0.2222222222222222,
              "#7201a8"
             ],
             [
              0.3333333333333333,
              "#9c179e"
             ],
             [
              0.4444444444444444,
              "#bd3786"
             ],
             [
              0.5555555555555556,
              "#d8576b"
             ],
             [
              0.6666666666666666,
              "#ed7953"
             ],
             [
              0.7777777777777778,
              "#fb9f3a"
             ],
             [
              0.8888888888888888,
              "#fdca26"
             ],
             [
              1,
              "#f0f921"
             ]
            ],
            "type": "histogram2d"
           }
          ],
          "histogram2dcontour": [
           {
            "colorbar": {
             "outlinewidth": 0,
             "ticks": ""
            },
            "colorscale": [
             [
              0,
              "#0d0887"
             ],
             [
              0.1111111111111111,
              "#46039f"
             ],
             [
              0.2222222222222222,
              "#7201a8"
             ],
             [
              0.3333333333333333,
              "#9c179e"
             ],
             [
              0.4444444444444444,
              "#bd3786"
             ],
             [
              0.5555555555555556,
              "#d8576b"
             ],
             [
              0.6666666666666666,
              "#ed7953"
             ],
             [
              0.7777777777777778,
              "#fb9f3a"
             ],
             [
              0.8888888888888888,
              "#fdca26"
             ],
             [
              1,
              "#f0f921"
             ]
            ],
            "type": "histogram2dcontour"
           }
          ],
          "mesh3d": [
           {
            "colorbar": {
             "outlinewidth": 0,
             "ticks": ""
            },
            "type": "mesh3d"
           }
          ],
          "parcoords": [
           {
            "line": {
             "colorbar": {
              "outlinewidth": 0,
              "ticks": ""
             }
            },
            "type": "parcoords"
           }
          ],
          "pie": [
           {
            "automargin": true,
            "type": "pie"
           }
          ],
          "scatter": [
           {
            "marker": {
             "colorbar": {
              "outlinewidth": 0,
              "ticks": ""
             }
            },
            "type": "scatter"
           }
          ],
          "scatter3d": [
           {
            "line": {
             "colorbar": {
              "outlinewidth": 0,
              "ticks": ""
             }
            },
            "marker": {
             "colorbar": {
              "outlinewidth": 0,
              "ticks": ""
             }
            },
            "type": "scatter3d"
           }
          ],
          "scattercarpet": [
           {
            "marker": {
             "colorbar": {
              "outlinewidth": 0,
              "ticks": ""
             }
            },
            "type": "scattercarpet"
           }
          ],
          "scattergeo": [
           {
            "marker": {
             "colorbar": {
              "outlinewidth": 0,
              "ticks": ""
             }
            },
            "type": "scattergeo"
           }
          ],
          "scattergl": [
           {
            "marker": {
             "colorbar": {
              "outlinewidth": 0,
              "ticks": ""
             }
            },
            "type": "scattergl"
           }
          ],
          "scattermapbox": [
           {
            "marker": {
             "colorbar": {
              "outlinewidth": 0,
              "ticks": ""
             }
            },
            "type": "scattermapbox"
           }
          ],
          "scatterpolar": [
           {
            "marker": {
             "colorbar": {
              "outlinewidth": 0,
              "ticks": ""
             }
            },
            "type": "scatterpolar"
           }
          ],
          "scatterpolargl": [
           {
            "marker": {
             "colorbar": {
              "outlinewidth": 0,
              "ticks": ""
             }
            },
            "type": "scatterpolargl"
           }
          ],
          "scatterternary": [
           {
            "marker": {
             "colorbar": {
              "outlinewidth": 0,
              "ticks": ""
             }
            },
            "type": "scatterternary"
           }
          ],
          "surface": [
           {
            "colorbar": {
             "outlinewidth": 0,
             "ticks": ""
            },
            "colorscale": [
             [
              0,
              "#0d0887"
             ],
             [
              0.1111111111111111,
              "#46039f"
             ],
             [
              0.2222222222222222,
              "#7201a8"
             ],
             [
              0.3333333333333333,
              "#9c179e"
             ],
             [
              0.4444444444444444,
              "#bd3786"
             ],
             [
              0.5555555555555556,
              "#d8576b"
             ],
             [
              0.6666666666666666,
              "#ed7953"
             ],
             [
              0.7777777777777778,
              "#fb9f3a"
             ],
             [
              0.8888888888888888,
              "#fdca26"
             ],
             [
              1,
              "#f0f921"
             ]
            ],
            "type": "surface"
           }
          ],
          "table": [
           {
            "cells": {
             "fill": {
              "color": "#EBF0F8"
             },
             "line": {
              "color": "white"
             }
            },
            "header": {
             "fill": {
              "color": "#C8D4E3"
             },
             "line": {
              "color": "white"
             }
            },
            "type": "table"
           }
          ]
         },
         "layout": {
          "annotationdefaults": {
           "arrowcolor": "#2a3f5f",
           "arrowhead": 0,
           "arrowwidth": 1
          },
          "autotypenumbers": "strict",
          "coloraxis": {
           "colorbar": {
            "outlinewidth": 0,
            "ticks": ""
           }
          },
          "colorscale": {
           "diverging": [
            [
             0,
             "#8e0152"
            ],
            [
             0.1,
             "#c51b7d"
            ],
            [
             0.2,
             "#de77ae"
            ],
            [
             0.3,
             "#f1b6da"
            ],
            [
             0.4,
             "#fde0ef"
            ],
            [
             0.5,
             "#f7f7f7"
            ],
            [
             0.6,
             "#e6f5d0"
            ],
            [
             0.7,
             "#b8e186"
            ],
            [
             0.8,
             "#7fbc41"
            ],
            [
             0.9,
             "#4d9221"
            ],
            [
             1,
             "#276419"
            ]
           ],
           "sequential": [
            [
             0,
             "#0d0887"
            ],
            [
             0.1111111111111111,
             "#46039f"
            ],
            [
             0.2222222222222222,
             "#7201a8"
            ],
            [
             0.3333333333333333,
             "#9c179e"
            ],
            [
             0.4444444444444444,
             "#bd3786"
            ],
            [
             0.5555555555555556,
             "#d8576b"
            ],
            [
             0.6666666666666666,
             "#ed7953"
            ],
            [
             0.7777777777777778,
             "#fb9f3a"
            ],
            [
             0.8888888888888888,
             "#fdca26"
            ],
            [
             1,
             "#f0f921"
            ]
           ],
           "sequentialminus": [
            [
             0,
             "#0d0887"
            ],
            [
             0.1111111111111111,
             "#46039f"
            ],
            [
             0.2222222222222222,
             "#7201a8"
            ],
            [
             0.3333333333333333,
             "#9c179e"
            ],
            [
             0.4444444444444444,
             "#bd3786"
            ],
            [
             0.5555555555555556,
             "#d8576b"
            ],
            [
             0.6666666666666666,
             "#ed7953"
            ],
            [
             0.7777777777777778,
             "#fb9f3a"
            ],
            [
             0.8888888888888888,
             "#fdca26"
            ],
            [
             1,
             "#f0f921"
            ]
           ]
          },
          "colorway": [
           "#636efa",
           "#EF553B",
           "#00cc96",
           "#ab63fa",
           "#FFA15A",
           "#19d3f3",
           "#FF6692",
           "#B6E880",
           "#FF97FF",
           "#FECB52"
          ],
          "font": {
           "color": "#2a3f5f"
          },
          "geo": {
           "bgcolor": "white",
           "lakecolor": "white",
           "landcolor": "#E5ECF6",
           "showlakes": true,
           "showland": true,
           "subunitcolor": "white"
          },
          "hoverlabel": {
           "align": "left"
          },
          "hovermode": "closest",
          "mapbox": {
           "style": "light"
          },
          "paper_bgcolor": "white",
          "plot_bgcolor": "#E5ECF6",
          "polar": {
           "angularaxis": {
            "gridcolor": "white",
            "linecolor": "white",
            "ticks": ""
           },
           "bgcolor": "#E5ECF6",
           "radialaxis": {
            "gridcolor": "white",
            "linecolor": "white",
            "ticks": ""
           }
          },
          "scene": {
           "xaxis": {
            "backgroundcolor": "#E5ECF6",
            "gridcolor": "white",
            "gridwidth": 2,
            "linecolor": "white",
            "showbackground": true,
            "ticks": "",
            "zerolinecolor": "white"
           },
           "yaxis": {
            "backgroundcolor": "#E5ECF6",
            "gridcolor": "white",
            "gridwidth": 2,
            "linecolor": "white",
            "showbackground": true,
            "ticks": "",
            "zerolinecolor": "white"
           },
           "zaxis": {
            "backgroundcolor": "#E5ECF6",
            "gridcolor": "white",
            "gridwidth": 2,
            "linecolor": "white",
            "showbackground": true,
            "ticks": "",
            "zerolinecolor": "white"
           }
          },
          "shapedefaults": {
           "line": {
            "color": "#2a3f5f"
           }
          },
          "ternary": {
           "aaxis": {
            "gridcolor": "white",
            "linecolor": "white",
            "ticks": ""
           },
           "baxis": {
            "gridcolor": "white",
            "linecolor": "white",
            "ticks": ""
           },
           "bgcolor": "#E5ECF6",
           "caxis": {
            "gridcolor": "white",
            "linecolor": "white",
            "ticks": ""
           }
          },
          "title": {
           "x": 0.05
          },
          "xaxis": {
           "automargin": true,
           "gridcolor": "white",
           "linecolor": "white",
           "ticks": "",
           "title": {
            "standoff": 15
           },
           "zerolinecolor": "white",
           "zerolinewidth": 2
          },
          "yaxis": {
           "automargin": true,
           "gridcolor": "white",
           "linecolor": "white",
           "ticks": "",
           "title": {
            "standoff": 15
           },
           "zerolinecolor": "white",
           "zerolinewidth": 2
          }
         }
        },
        "title": {
         "text": "Pohyb entropie"
        },
        "xaxis": {
         "anchor": "y",
         "domain": [
          0,
          1
         ],
         "title": {
          "text": "index"
         }
        },
        "yaxis": {
         "anchor": "x",
         "domain": [
          0,
          1
         ],
         "title": {
          "text": "EntropyMove"
         }
        }
       }
      }
     },
     "metadata": {},
     "output_type": "display_data"
    }
   ],
   "source": [
    "fig = px.line(df, x=df.index, y=df.EntropyMove, text=[(\"%.1f\" % x) for x in df.EntropyMove.values], title='Pohyb entropie')\n",
    "fig.show()"
   ]
  },
  {
   "cell_type": "code",
   "execution_count": 50,
   "metadata": {},
   "outputs": [
    {
     "data": {
      "application/vnd.plotly.v1+json": {
       "config": {
        "plotlyServerURL": "https://plot.ly"
       },
       "data": [
        {
         "hovertemplate": "index=%{x}<br>MessageSize=%{text}<extra></extra>",
         "legendgroup": "",
         "line": {
          "color": "#636efa",
          "dash": "solid"
         },
         "marker": {
          "symbol": "circle"
         },
         "mode": "text+lines+markers",
         "name": "",
         "orientation": "v",
         "showlegend": false,
         "text": [
          10000,
          9134,
          8713,
          8305,
          8032,
          7703,
          7344,
          7178,
          6929,
          6689,
          6546,
          6460,
          6392,
          6327,
          6272,
          6221,
          6161,
          6043,
          6007,
          5963
         ],
         "type": "scatter",
         "x": [
          0,
          2,
          3,
          4,
          5,
          6,
          7,
          8,
          9,
          10,
          11,
          12,
          13,
          14,
          15,
          16,
          17,
          18,
          19,
          20
         ],
         "xaxis": "x",
         "y": [
          10000,
          9134,
          8713,
          8305,
          8032,
          7703,
          7344,
          7178,
          6929,
          6689,
          6546,
          6460,
          6392,
          6327,
          6272,
          6221,
          6161,
          6043,
          6007,
          5963
         ],
         "yaxis": "y"
        }
       ],
       "layout": {
        "legend": {
         "tracegroupgap": 0
        },
        "template": {
         "data": {
          "bar": [
           {
            "error_x": {
             "color": "#2a3f5f"
            },
            "error_y": {
             "color": "#2a3f5f"
            },
            "marker": {
             "line": {
              "color": "#E5ECF6",
              "width": 0.5
             },
             "pattern": {
              "fillmode": "overlay",
              "size": 10,
              "solidity": 0.2
             }
            },
            "type": "bar"
           }
          ],
          "barpolar": [
           {
            "marker": {
             "line": {
              "color": "#E5ECF6",
              "width": 0.5
             },
             "pattern": {
              "fillmode": "overlay",
              "size": 10,
              "solidity": 0.2
             }
            },
            "type": "barpolar"
           }
          ],
          "carpet": [
           {
            "aaxis": {
             "endlinecolor": "#2a3f5f",
             "gridcolor": "white",
             "linecolor": "white",
             "minorgridcolor": "white",
             "startlinecolor": "#2a3f5f"
            },
            "baxis": {
             "endlinecolor": "#2a3f5f",
             "gridcolor": "white",
             "linecolor": "white",
             "minorgridcolor": "white",
             "startlinecolor": "#2a3f5f"
            },
            "type": "carpet"
           }
          ],
          "choropleth": [
           {
            "colorbar": {
             "outlinewidth": 0,
             "ticks": ""
            },
            "type": "choropleth"
           }
          ],
          "contour": [
           {
            "colorbar": {
             "outlinewidth": 0,
             "ticks": ""
            },
            "colorscale": [
             [
              0,
              "#0d0887"
             ],
             [
              0.1111111111111111,
              "#46039f"
             ],
             [
              0.2222222222222222,
              "#7201a8"
             ],
             [
              0.3333333333333333,
              "#9c179e"
             ],
             [
              0.4444444444444444,
              "#bd3786"
             ],
             [
              0.5555555555555556,
              "#d8576b"
             ],
             [
              0.6666666666666666,
              "#ed7953"
             ],
             [
              0.7777777777777778,
              "#fb9f3a"
             ],
             [
              0.8888888888888888,
              "#fdca26"
             ],
             [
              1,
              "#f0f921"
             ]
            ],
            "type": "contour"
           }
          ],
          "contourcarpet": [
           {
            "colorbar": {
             "outlinewidth": 0,
             "ticks": ""
            },
            "type": "contourcarpet"
           }
          ],
          "heatmap": [
           {
            "colorbar": {
             "outlinewidth": 0,
             "ticks": ""
            },
            "colorscale": [
             [
              0,
              "#0d0887"
             ],
             [
              0.1111111111111111,
              "#46039f"
             ],
             [
              0.2222222222222222,
              "#7201a8"
             ],
             [
              0.3333333333333333,
              "#9c179e"
             ],
             [
              0.4444444444444444,
              "#bd3786"
             ],
             [
              0.5555555555555556,
              "#d8576b"
             ],
             [
              0.6666666666666666,
              "#ed7953"
             ],
             [
              0.7777777777777778,
              "#fb9f3a"
             ],
             [
              0.8888888888888888,
              "#fdca26"
             ],
             [
              1,
              "#f0f921"
             ]
            ],
            "type": "heatmap"
           }
          ],
          "heatmapgl": [
           {
            "colorbar": {
             "outlinewidth": 0,
             "ticks": ""
            },
            "colorscale": [
             [
              0,
              "#0d0887"
             ],
             [
              0.1111111111111111,
              "#46039f"
             ],
             [
              0.2222222222222222,
              "#7201a8"
             ],
             [
              0.3333333333333333,
              "#9c179e"
             ],
             [
              0.4444444444444444,
              "#bd3786"
             ],
             [
              0.5555555555555556,
              "#d8576b"
             ],
             [
              0.6666666666666666,
              "#ed7953"
             ],
             [
              0.7777777777777778,
              "#fb9f3a"
             ],
             [
              0.8888888888888888,
              "#fdca26"
             ],
             [
              1,
              "#f0f921"
             ]
            ],
            "type": "heatmapgl"
           }
          ],
          "histogram": [
           {
            "marker": {
             "pattern": {
              "fillmode": "overlay",
              "size": 10,
              "solidity": 0.2
             }
            },
            "type": "histogram"
           }
          ],
          "histogram2d": [
           {
            "colorbar": {
             "outlinewidth": 0,
             "ticks": ""
            },
            "colorscale": [
             [
              0,
              "#0d0887"
             ],
             [
              0.1111111111111111,
              "#46039f"
             ],
             [
              0.2222222222222222,
              "#7201a8"
             ],
             [
              0.3333333333333333,
              "#9c179e"
             ],
             [
              0.4444444444444444,
              "#bd3786"
             ],
             [
              0.5555555555555556,
              "#d8576b"
             ],
             [
              0.6666666666666666,
              "#ed7953"
             ],
             [
              0.7777777777777778,
              "#fb9f3a"
             ],
             [
              0.8888888888888888,
              "#fdca26"
             ],
             [
              1,
              "#f0f921"
             ]
            ],
            "type": "histogram2d"
           }
          ],
          "histogram2dcontour": [
           {
            "colorbar": {
             "outlinewidth": 0,
             "ticks": ""
            },
            "colorscale": [
             [
              0,
              "#0d0887"
             ],
             [
              0.1111111111111111,
              "#46039f"
             ],
             [
              0.2222222222222222,
              "#7201a8"
             ],
             [
              0.3333333333333333,
              "#9c179e"
             ],
             [
              0.4444444444444444,
              "#bd3786"
             ],
             [
              0.5555555555555556,
              "#d8576b"
             ],
             [
              0.6666666666666666,
              "#ed7953"
             ],
             [
              0.7777777777777778,
              "#fb9f3a"
             ],
             [
              0.8888888888888888,
              "#fdca26"
             ],
             [
              1,
              "#f0f921"
             ]
            ],
            "type": "histogram2dcontour"
           }
          ],
          "mesh3d": [
           {
            "colorbar": {
             "outlinewidth": 0,
             "ticks": ""
            },
            "type": "mesh3d"
           }
          ],
          "parcoords": [
           {
            "line": {
             "colorbar": {
              "outlinewidth": 0,
              "ticks": ""
             }
            },
            "type": "parcoords"
           }
          ],
          "pie": [
           {
            "automargin": true,
            "type": "pie"
           }
          ],
          "scatter": [
           {
            "marker": {
             "colorbar": {
              "outlinewidth": 0,
              "ticks": ""
             }
            },
            "type": "scatter"
           }
          ],
          "scatter3d": [
           {
            "line": {
             "colorbar": {
              "outlinewidth": 0,
              "ticks": ""
             }
            },
            "marker": {
             "colorbar": {
              "outlinewidth": 0,
              "ticks": ""
             }
            },
            "type": "scatter3d"
           }
          ],
          "scattercarpet": [
           {
            "marker": {
             "colorbar": {
              "outlinewidth": 0,
              "ticks": ""
             }
            },
            "type": "scattercarpet"
           }
          ],
          "scattergeo": [
           {
            "marker": {
             "colorbar": {
              "outlinewidth": 0,
              "ticks": ""
             }
            },
            "type": "scattergeo"
           }
          ],
          "scattergl": [
           {
            "marker": {
             "colorbar": {
              "outlinewidth": 0,
              "ticks": ""
             }
            },
            "type": "scattergl"
           }
          ],
          "scattermapbox": [
           {
            "marker": {
             "colorbar": {
              "outlinewidth": 0,
              "ticks": ""
             }
            },
            "type": "scattermapbox"
           }
          ],
          "scatterpolar": [
           {
            "marker": {
             "colorbar": {
              "outlinewidth": 0,
              "ticks": ""
             }
            },
            "type": "scatterpolar"
           }
          ],
          "scatterpolargl": [
           {
            "marker": {
             "colorbar": {
              "outlinewidth": 0,
              "ticks": ""
             }
            },
            "type": "scatterpolargl"
           }
          ],
          "scatterternary": [
           {
            "marker": {
             "colorbar": {
              "outlinewidth": 0,
              "ticks": ""
             }
            },
            "type": "scatterternary"
           }
          ],
          "surface": [
           {
            "colorbar": {
             "outlinewidth": 0,
             "ticks": ""
            },
            "colorscale": [
             [
              0,
              "#0d0887"
             ],
             [
              0.1111111111111111,
              "#46039f"
             ],
             [
              0.2222222222222222,
              "#7201a8"
             ],
             [
              0.3333333333333333,
              "#9c179e"
             ],
             [
              0.4444444444444444,
              "#bd3786"
             ],
             [
              0.5555555555555556,
              "#d8576b"
             ],
             [
              0.6666666666666666,
              "#ed7953"
             ],
             [
              0.7777777777777778,
              "#fb9f3a"
             ],
             [
              0.8888888888888888,
              "#fdca26"
             ],
             [
              1,
              "#f0f921"
             ]
            ],
            "type": "surface"
           }
          ],
          "table": [
           {
            "cells": {
             "fill": {
              "color": "#EBF0F8"
             },
             "line": {
              "color": "white"
             }
            },
            "header": {
             "fill": {
              "color": "#C8D4E3"
             },
             "line": {
              "color": "white"
             }
            },
            "type": "table"
           }
          ]
         },
         "layout": {
          "annotationdefaults": {
           "arrowcolor": "#2a3f5f",
           "arrowhead": 0,
           "arrowwidth": 1
          },
          "autotypenumbers": "strict",
          "coloraxis": {
           "colorbar": {
            "outlinewidth": 0,
            "ticks": ""
           }
          },
          "colorscale": {
           "diverging": [
            [
             0,
             "#8e0152"
            ],
            [
             0.1,
             "#c51b7d"
            ],
            [
             0.2,
             "#de77ae"
            ],
            [
             0.3,
             "#f1b6da"
            ],
            [
             0.4,
             "#fde0ef"
            ],
            [
             0.5,
             "#f7f7f7"
            ],
            [
             0.6,
             "#e6f5d0"
            ],
            [
             0.7,
             "#b8e186"
            ],
            [
             0.8,
             "#7fbc41"
            ],
            [
             0.9,
             "#4d9221"
            ],
            [
             1,
             "#276419"
            ]
           ],
           "sequential": [
            [
             0,
             "#0d0887"
            ],
            [
             0.1111111111111111,
             "#46039f"
            ],
            [
             0.2222222222222222,
             "#7201a8"
            ],
            [
             0.3333333333333333,
             "#9c179e"
            ],
            [
             0.4444444444444444,
             "#bd3786"
            ],
            [
             0.5555555555555556,
             "#d8576b"
            ],
            [
             0.6666666666666666,
             "#ed7953"
            ],
            [
             0.7777777777777778,
             "#fb9f3a"
            ],
            [
             0.8888888888888888,
             "#fdca26"
            ],
            [
             1,
             "#f0f921"
            ]
           ],
           "sequentialminus": [
            [
             0,
             "#0d0887"
            ],
            [
             0.1111111111111111,
             "#46039f"
            ],
            [
             0.2222222222222222,
             "#7201a8"
            ],
            [
             0.3333333333333333,
             "#9c179e"
            ],
            [
             0.4444444444444444,
             "#bd3786"
            ],
            [
             0.5555555555555556,
             "#d8576b"
            ],
            [
             0.6666666666666666,
             "#ed7953"
            ],
            [
             0.7777777777777778,
             "#fb9f3a"
            ],
            [
             0.8888888888888888,
             "#fdca26"
            ],
            [
             1,
             "#f0f921"
            ]
           ]
          },
          "colorway": [
           "#636efa",
           "#EF553B",
           "#00cc96",
           "#ab63fa",
           "#FFA15A",
           "#19d3f3",
           "#FF6692",
           "#B6E880",
           "#FF97FF",
           "#FECB52"
          ],
          "font": {
           "color": "#2a3f5f"
          },
          "geo": {
           "bgcolor": "white",
           "lakecolor": "white",
           "landcolor": "#E5ECF6",
           "showlakes": true,
           "showland": true,
           "subunitcolor": "white"
          },
          "hoverlabel": {
           "align": "left"
          },
          "hovermode": "closest",
          "mapbox": {
           "style": "light"
          },
          "paper_bgcolor": "white",
          "plot_bgcolor": "#E5ECF6",
          "polar": {
           "angularaxis": {
            "gridcolor": "white",
            "linecolor": "white",
            "ticks": ""
           },
           "bgcolor": "#E5ECF6",
           "radialaxis": {
            "gridcolor": "white",
            "linecolor": "white",
            "ticks": ""
           }
          },
          "scene": {
           "xaxis": {
            "backgroundcolor": "#E5ECF6",
            "gridcolor": "white",
            "gridwidth": 2,
            "linecolor": "white",
            "showbackground": true,
            "ticks": "",
            "zerolinecolor": "white"
           },
           "yaxis": {
            "backgroundcolor": "#E5ECF6",
            "gridcolor": "white",
            "gridwidth": 2,
            "linecolor": "white",
            "showbackground": true,
            "ticks": "",
            "zerolinecolor": "white"
           },
           "zaxis": {
            "backgroundcolor": "#E5ECF6",
            "gridcolor": "white",
            "gridwidth": 2,
            "linecolor": "white",
            "showbackground": true,
            "ticks": "",
            "zerolinecolor": "white"
           }
          },
          "shapedefaults": {
           "line": {
            "color": "#2a3f5f"
           }
          },
          "ternary": {
           "aaxis": {
            "gridcolor": "white",
            "linecolor": "white",
            "ticks": ""
           },
           "baxis": {
            "gridcolor": "white",
            "linecolor": "white",
            "ticks": ""
           },
           "bgcolor": "#E5ECF6",
           "caxis": {
            "gridcolor": "white",
            "linecolor": "white",
            "ticks": ""
           }
          },
          "title": {
           "x": 0.05
          },
          "xaxis": {
           "automargin": true,
           "gridcolor": "white",
           "linecolor": "white",
           "ticks": "",
           "title": {
            "standoff": 15
           },
           "zerolinecolor": "white",
           "zerolinewidth": 2
          },
          "yaxis": {
           "automargin": true,
           "gridcolor": "white",
           "linecolor": "white",
           "ticks": "",
           "title": {
            "standoff": 15
           },
           "zerolinecolor": "white",
           "zerolinewidth": 2
          }
         }
        },
        "title": {
         "text": "Velikost zprávy"
        },
        "xaxis": {
         "anchor": "y",
         "domain": [
          0,
          1
         ],
         "title": {
          "text": "index"
         }
        },
        "yaxis": {
         "anchor": "x",
         "domain": [
          0,
          1
         ],
         "title": {
          "text": "MessageSize"
         }
        }
       }
      }
     },
     "metadata": {},
     "output_type": "display_data"
    }
   ],
   "source": [
    "fig = px.line(df, x=df.index, y=df.MessageSize, text=df.MessageSize, title='Velikost zprávy')\n",
    "fig.show()\n",
    "fig.write_image(\"test.png\")"
   ]
  },
  {
   "cell_type": "code",
   "execution_count": 51,
   "metadata": {},
   "outputs": [
    {
     "data": {
      "application/vnd.plotly.v1+json": {
       "config": {
        "plotlyServerURL": "https://plot.ly"
       },
       "data": [
        {
         "hovertemplate": "variable=MessageSize<br>index=%{x}<br>value=%{y}<extra></extra>",
         "legendgroup": "MessageSize",
         "line": {
          "color": "#636efa",
          "dash": "solid"
         },
         "marker": {
          "symbol": "circle"
         },
         "mode": "lines",
         "name": "MessageSize",
         "orientation": "v",
         "showlegend": true,
         "type": "scatter",
         "x": [
          0,
          2,
          3,
          4,
          5,
          6,
          7,
          8,
          9,
          10,
          11,
          12,
          13,
          14,
          15,
          16,
          17,
          18,
          19,
          20
         ],
         "xaxis": "x",
         "y": [
          10000,
          9134,
          8713,
          8305,
          8032,
          7703,
          7344,
          7178,
          6929,
          6689,
          6546,
          6460,
          6392,
          6327,
          6272,
          6221,
          6161,
          6043,
          6007,
          5963
         ],
         "yaxis": "y"
        },
        {
         "hovertemplate": "variable=EntropySize<br>index=%{x}<br>value=%{y}<extra></extra>",
         "legendgroup": "EntropySize",
         "line": {
          "color": "#EF553B",
          "dash": "solid"
         },
         "marker": {
          "symbol": "circle"
         },
         "mode": "lines",
         "name": "EntropySize",
         "orientation": "v",
         "showlegend": true,
         "type": "scatter",
         "x": [
          0,
          2,
          3,
          4,
          5,
          6,
          7,
          8,
          9,
          10,
          11,
          12,
          13,
          14,
          15,
          16,
          17,
          18,
          19,
          20
         ],
         "xaxis": "x",
         "y": [
          19776.47927850481,
          20679.078425743784,
          21243.289881447523,
          21817.57419972848,
          22212.778472043145,
          22516.746063277144,
          22806.05628084375,
          22992.352983053966,
          23186.986358160968,
          23323.132039250293,
          23446.960230378754,
          23543.0887140462,
          23619.55361947696,
          23693.8132177049,
          23767.195290035983,
          23826.439302894545,
          23885.13830532348,
          23944.22526790315,
          23997.83061604136,
          24047.47721651926
         ],
         "yaxis": "y"
        }
       ],
       "layout": {
        "legend": {
         "title": {
          "text": "variable"
         },
         "tracegroupgap": 0
        },
        "template": {
         "data": {
          "bar": [
           {
            "error_x": {
             "color": "#2a3f5f"
            },
            "error_y": {
             "color": "#2a3f5f"
            },
            "marker": {
             "line": {
              "color": "#E5ECF6",
              "width": 0.5
             },
             "pattern": {
              "fillmode": "overlay",
              "size": 10,
              "solidity": 0.2
             }
            },
            "type": "bar"
           }
          ],
          "barpolar": [
           {
            "marker": {
             "line": {
              "color": "#E5ECF6",
              "width": 0.5
             },
             "pattern": {
              "fillmode": "overlay",
              "size": 10,
              "solidity": 0.2
             }
            },
            "type": "barpolar"
           }
          ],
          "carpet": [
           {
            "aaxis": {
             "endlinecolor": "#2a3f5f",
             "gridcolor": "white",
             "linecolor": "white",
             "minorgridcolor": "white",
             "startlinecolor": "#2a3f5f"
            },
            "baxis": {
             "endlinecolor": "#2a3f5f",
             "gridcolor": "white",
             "linecolor": "white",
             "minorgridcolor": "white",
             "startlinecolor": "#2a3f5f"
            },
            "type": "carpet"
           }
          ],
          "choropleth": [
           {
            "colorbar": {
             "outlinewidth": 0,
             "ticks": ""
            },
            "type": "choropleth"
           }
          ],
          "contour": [
           {
            "colorbar": {
             "outlinewidth": 0,
             "ticks": ""
            },
            "colorscale": [
             [
              0,
              "#0d0887"
             ],
             [
              0.1111111111111111,
              "#46039f"
             ],
             [
              0.2222222222222222,
              "#7201a8"
             ],
             [
              0.3333333333333333,
              "#9c179e"
             ],
             [
              0.4444444444444444,
              "#bd3786"
             ],
             [
              0.5555555555555556,
              "#d8576b"
             ],
             [
              0.6666666666666666,
              "#ed7953"
             ],
             [
              0.7777777777777778,
              "#fb9f3a"
             ],
             [
              0.8888888888888888,
              "#fdca26"
             ],
             [
              1,
              "#f0f921"
             ]
            ],
            "type": "contour"
           }
          ],
          "contourcarpet": [
           {
            "colorbar": {
             "outlinewidth": 0,
             "ticks": ""
            },
            "type": "contourcarpet"
           }
          ],
          "heatmap": [
           {
            "colorbar": {
             "outlinewidth": 0,
             "ticks": ""
            },
            "colorscale": [
             [
              0,
              "#0d0887"
             ],
             [
              0.1111111111111111,
              "#46039f"
             ],
             [
              0.2222222222222222,
              "#7201a8"
             ],
             [
              0.3333333333333333,
              "#9c179e"
             ],
             [
              0.4444444444444444,
              "#bd3786"
             ],
             [
              0.5555555555555556,
              "#d8576b"
             ],
             [
              0.6666666666666666,
              "#ed7953"
             ],
             [
              0.7777777777777778,
              "#fb9f3a"
             ],
             [
              0.8888888888888888,
              "#fdca26"
             ],
             [
              1,
              "#f0f921"
             ]
            ],
            "type": "heatmap"
           }
          ],
          "heatmapgl": [
           {
            "colorbar": {
             "outlinewidth": 0,
             "ticks": ""
            },
            "colorscale": [
             [
              0,
              "#0d0887"
             ],
             [
              0.1111111111111111,
              "#46039f"
             ],
             [
              0.2222222222222222,
              "#7201a8"
             ],
             [
              0.3333333333333333,
              "#9c179e"
             ],
             [
              0.4444444444444444,
              "#bd3786"
             ],
             [
              0.5555555555555556,
              "#d8576b"
             ],
             [
              0.6666666666666666,
              "#ed7953"
             ],
             [
              0.7777777777777778,
              "#fb9f3a"
             ],
             [
              0.8888888888888888,
              "#fdca26"
             ],
             [
              1,
              "#f0f921"
             ]
            ],
            "type": "heatmapgl"
           }
          ],
          "histogram": [
           {
            "marker": {
             "pattern": {
              "fillmode": "overlay",
              "size": 10,
              "solidity": 0.2
             }
            },
            "type": "histogram"
           }
          ],
          "histogram2d": [
           {
            "colorbar": {
             "outlinewidth": 0,
             "ticks": ""
            },
            "colorscale": [
             [
              0,
              "#0d0887"
             ],
             [
              0.1111111111111111,
              "#46039f"
             ],
             [
              0.2222222222222222,
              "#7201a8"
             ],
             [
              0.3333333333333333,
              "#9c179e"
             ],
             [
              0.4444444444444444,
              "#bd3786"
             ],
             [
              0.5555555555555556,
              "#d8576b"
             ],
             [
              0.6666666666666666,
              "#ed7953"
             ],
             [
              0.7777777777777778,
              "#fb9f3a"
             ],
             [
              0.8888888888888888,
              "#fdca26"
             ],
             [
              1,
              "#f0f921"
             ]
            ],
            "type": "histogram2d"
           }
          ],
          "histogram2dcontour": [
           {
            "colorbar": {
             "outlinewidth": 0,
             "ticks": ""
            },
            "colorscale": [
             [
              0,
              "#0d0887"
             ],
             [
              0.1111111111111111,
              "#46039f"
             ],
             [
              0.2222222222222222,
              "#7201a8"
             ],
             [
              0.3333333333333333,
              "#9c179e"
             ],
             [
              0.4444444444444444,
              "#bd3786"
             ],
             [
              0.5555555555555556,
              "#d8576b"
             ],
             [
              0.6666666666666666,
              "#ed7953"
             ],
             [
              0.7777777777777778,
              "#fb9f3a"
             ],
             [
              0.8888888888888888,
              "#fdca26"
             ],
             [
              1,
              "#f0f921"
             ]
            ],
            "type": "histogram2dcontour"
           }
          ],
          "mesh3d": [
           {
            "colorbar": {
             "outlinewidth": 0,
             "ticks": ""
            },
            "type": "mesh3d"
           }
          ],
          "parcoords": [
           {
            "line": {
             "colorbar": {
              "outlinewidth": 0,
              "ticks": ""
             }
            },
            "type": "parcoords"
           }
          ],
          "pie": [
           {
            "automargin": true,
            "type": "pie"
           }
          ],
          "scatter": [
           {
            "marker": {
             "colorbar": {
              "outlinewidth": 0,
              "ticks": ""
             }
            },
            "type": "scatter"
           }
          ],
          "scatter3d": [
           {
            "line": {
             "colorbar": {
              "outlinewidth": 0,
              "ticks": ""
             }
            },
            "marker": {
             "colorbar": {
              "outlinewidth": 0,
              "ticks": ""
             }
            },
            "type": "scatter3d"
           }
          ],
          "scattercarpet": [
           {
            "marker": {
             "colorbar": {
              "outlinewidth": 0,
              "ticks": ""
             }
            },
            "type": "scattercarpet"
           }
          ],
          "scattergeo": [
           {
            "marker": {
             "colorbar": {
              "outlinewidth": 0,
              "ticks": ""
             }
            },
            "type": "scattergeo"
           }
          ],
          "scattergl": [
           {
            "marker": {
             "colorbar": {
              "outlinewidth": 0,
              "ticks": ""
             }
            },
            "type": "scattergl"
           }
          ],
          "scattermapbox": [
           {
            "marker": {
             "colorbar": {
              "outlinewidth": 0,
              "ticks": ""
             }
            },
            "type": "scattermapbox"
           }
          ],
          "scatterpolar": [
           {
            "marker": {
             "colorbar": {
              "outlinewidth": 0,
              "ticks": ""
             }
            },
            "type": "scatterpolar"
           }
          ],
          "scatterpolargl": [
           {
            "marker": {
             "colorbar": {
              "outlinewidth": 0,
              "ticks": ""
             }
            },
            "type": "scatterpolargl"
           }
          ],
          "scatterternary": [
           {
            "marker": {
             "colorbar": {
              "outlinewidth": 0,
              "ticks": ""
             }
            },
            "type": "scatterternary"
           }
          ],
          "surface": [
           {
            "colorbar": {
             "outlinewidth": 0,
             "ticks": ""
            },
            "colorscale": [
             [
              0,
              "#0d0887"
             ],
             [
              0.1111111111111111,
              "#46039f"
             ],
             [
              0.2222222222222222,
              "#7201a8"
             ],
             [
              0.3333333333333333,
              "#9c179e"
             ],
             [
              0.4444444444444444,
              "#bd3786"
             ],
             [
              0.5555555555555556,
              "#d8576b"
             ],
             [
              0.6666666666666666,
              "#ed7953"
             ],
             [
              0.7777777777777778,
              "#fb9f3a"
             ],
             [
              0.8888888888888888,
              "#fdca26"
             ],
             [
              1,
              "#f0f921"
             ]
            ],
            "type": "surface"
           }
          ],
          "table": [
           {
            "cells": {
             "fill": {
              "color": "#EBF0F8"
             },
             "line": {
              "color": "white"
             }
            },
            "header": {
             "fill": {
              "color": "#C8D4E3"
             },
             "line": {
              "color": "white"
             }
            },
            "type": "table"
           }
          ]
         },
         "layout": {
          "annotationdefaults": {
           "arrowcolor": "#2a3f5f",
           "arrowhead": 0,
           "arrowwidth": 1
          },
          "autotypenumbers": "strict",
          "coloraxis": {
           "colorbar": {
            "outlinewidth": 0,
            "ticks": ""
           }
          },
          "colorscale": {
           "diverging": [
            [
             0,
             "#8e0152"
            ],
            [
             0.1,
             "#c51b7d"
            ],
            [
             0.2,
             "#de77ae"
            ],
            [
             0.3,
             "#f1b6da"
            ],
            [
             0.4,
             "#fde0ef"
            ],
            [
             0.5,
             "#f7f7f7"
            ],
            [
             0.6,
             "#e6f5d0"
            ],
            [
             0.7,
             "#b8e186"
            ],
            [
             0.8,
             "#7fbc41"
            ],
            [
             0.9,
             "#4d9221"
            ],
            [
             1,
             "#276419"
            ]
           ],
           "sequential": [
            [
             0,
             "#0d0887"
            ],
            [
             0.1111111111111111,
             "#46039f"
            ],
            [
             0.2222222222222222,
             "#7201a8"
            ],
            [
             0.3333333333333333,
             "#9c179e"
            ],
            [
             0.4444444444444444,
             "#bd3786"
            ],
            [
             0.5555555555555556,
             "#d8576b"
            ],
            [
             0.6666666666666666,
             "#ed7953"
            ],
            [
             0.7777777777777778,
             "#fb9f3a"
            ],
            [
             0.8888888888888888,
             "#fdca26"
            ],
            [
             1,
             "#f0f921"
            ]
           ],
           "sequentialminus": [
            [
             0,
             "#0d0887"
            ],
            [
             0.1111111111111111,
             "#46039f"
            ],
            [
             0.2222222222222222,
             "#7201a8"
            ],
            [
             0.3333333333333333,
             "#9c179e"
            ],
            [
             0.4444444444444444,
             "#bd3786"
            ],
            [
             0.5555555555555556,
             "#d8576b"
            ],
            [
             0.6666666666666666,
             "#ed7953"
            ],
            [
             0.7777777777777778,
             "#fb9f3a"
            ],
            [
             0.8888888888888888,
             "#fdca26"
            ],
            [
             1,
             "#f0f921"
            ]
           ]
          },
          "colorway": [
           "#636efa",
           "#EF553B",
           "#00cc96",
           "#ab63fa",
           "#FFA15A",
           "#19d3f3",
           "#FF6692",
           "#B6E880",
           "#FF97FF",
           "#FECB52"
          ],
          "font": {
           "color": "#2a3f5f"
          },
          "geo": {
           "bgcolor": "white",
           "lakecolor": "white",
           "landcolor": "#E5ECF6",
           "showlakes": true,
           "showland": true,
           "subunitcolor": "white"
          },
          "hoverlabel": {
           "align": "left"
          },
          "hovermode": "closest",
          "mapbox": {
           "style": "light"
          },
          "paper_bgcolor": "white",
          "plot_bgcolor": "#E5ECF6",
          "polar": {
           "angularaxis": {
            "gridcolor": "white",
            "linecolor": "white",
            "ticks": ""
           },
           "bgcolor": "#E5ECF6",
           "radialaxis": {
            "gridcolor": "white",
            "linecolor": "white",
            "ticks": ""
           }
          },
          "scene": {
           "xaxis": {
            "backgroundcolor": "#E5ECF6",
            "gridcolor": "white",
            "gridwidth": 2,
            "linecolor": "white",
            "showbackground": true,
            "ticks": "",
            "zerolinecolor": "white"
           },
           "yaxis": {
            "backgroundcolor": "#E5ECF6",
            "gridcolor": "white",
            "gridwidth": 2,
            "linecolor": "white",
            "showbackground": true,
            "ticks": "",
            "zerolinecolor": "white"
           },
           "zaxis": {
            "backgroundcolor": "#E5ECF6",
            "gridcolor": "white",
            "gridwidth": 2,
            "linecolor": "white",
            "showbackground": true,
            "ticks": "",
            "zerolinecolor": "white"
           }
          },
          "shapedefaults": {
           "line": {
            "color": "#2a3f5f"
           }
          },
          "ternary": {
           "aaxis": {
            "gridcolor": "white",
            "linecolor": "white",
            "ticks": ""
           },
           "baxis": {
            "gridcolor": "white",
            "linecolor": "white",
            "ticks": ""
           },
           "bgcolor": "#E5ECF6",
           "caxis": {
            "gridcolor": "white",
            "linecolor": "white",
            "ticks": ""
           }
          },
          "title": {
           "x": 0.05
          },
          "xaxis": {
           "automargin": true,
           "gridcolor": "white",
           "linecolor": "white",
           "ticks": "",
           "title": {
            "standoff": 15
           },
           "zerolinecolor": "white",
           "zerolinewidth": 2
          },
          "yaxis": {
           "automargin": true,
           "gridcolor": "white",
           "linecolor": "white",
           "ticks": "",
           "title": {
            "standoff": 15
           },
           "zerolinecolor": "white",
           "zerolinewidth": 2
          }
         }
        },
        "title": {
         "text": "Velikost zprávy proti aktuální entropii"
        },
        "xaxis": {
         "anchor": "y",
         "domain": [
          0,
          1
         ],
         "title": {
          "text": "index"
         }
        },
        "yaxis": {
         "anchor": "x",
         "domain": [
          0,
          1
         ],
         "title": {
          "text": "value"
         }
        }
       }
      }
     },
     "metadata": {},
     "output_type": "display_data"
    }
   ],
   "source": [
    "fig = px.line(df, x=df.index, y=[df.MessageSize, df.EntropySize], title='Velikost zprávy proti aktuální entropii')\n",
    "fig.show()"
   ]
  },
  {
   "cell_type": "code",
   "execution_count": 52,
   "metadata": {},
   "outputs": [
    {
     "data": {
      "application/vnd.plotly.v1+json": {
       "config": {
        "plotlyServerURL": "https://plot.ly"
       },
       "data": [
        {
         "hovertemplate": "index=%{x}<br>EntropySize=%{y}<br>text=%{text}<extra></extra>",
         "legendgroup": "",
         "line": {
          "color": "#636efa",
          "dash": "solid"
         },
         "marker": {
          "symbol": "circle"
         },
         "mode": "text+lines+markers",
         "name": "",
         "orientation": "v",
         "showlegend": false,
         "text": [
          "19776",
          "20679",
          "21243",
          "21818",
          "22213",
          "22517",
          "22806",
          "22992",
          "23187",
          "23323",
          "23447",
          "23543",
          "23620",
          "23694",
          "23767",
          "23826",
          "23885",
          "23944",
          "23998",
          "24047"
         ],
         "textposition": "top center",
         "type": "scatter",
         "x": [
          0,
          2,
          3,
          4,
          5,
          6,
          7,
          8,
          9,
          10,
          11,
          12,
          13,
          14,
          15,
          16,
          17,
          18,
          19,
          20
         ],
         "xaxis": "x",
         "y": [
          19776.47927850481,
          20679.078425743784,
          21243.289881447523,
          21817.57419972848,
          22212.778472043145,
          22516.746063277144,
          22806.05628084375,
          22992.352983053966,
          23186.986358160968,
          23323.132039250293,
          23446.960230378754,
          23543.0887140462,
          23619.55361947696,
          23693.8132177049,
          23767.195290035983,
          23826.439302894545,
          23885.13830532348,
          23944.22526790315,
          23997.83061604136,
          24047.47721651926
         ],
         "yaxis": "y"
        }
       ],
       "layout": {
        "legend": {
         "tracegroupgap": 0
        },
        "template": {
         "data": {
          "bar": [
           {
            "error_x": {
             "color": "#2a3f5f"
            },
            "error_y": {
             "color": "#2a3f5f"
            },
            "marker": {
             "line": {
              "color": "#E5ECF6",
              "width": 0.5
             },
             "pattern": {
              "fillmode": "overlay",
              "size": 10,
              "solidity": 0.2
             }
            },
            "type": "bar"
           }
          ],
          "barpolar": [
           {
            "marker": {
             "line": {
              "color": "#E5ECF6",
              "width": 0.5
             },
             "pattern": {
              "fillmode": "overlay",
              "size": 10,
              "solidity": 0.2
             }
            },
            "type": "barpolar"
           }
          ],
          "carpet": [
           {
            "aaxis": {
             "endlinecolor": "#2a3f5f",
             "gridcolor": "white",
             "linecolor": "white",
             "minorgridcolor": "white",
             "startlinecolor": "#2a3f5f"
            },
            "baxis": {
             "endlinecolor": "#2a3f5f",
             "gridcolor": "white",
             "linecolor": "white",
             "minorgridcolor": "white",
             "startlinecolor": "#2a3f5f"
            },
            "type": "carpet"
           }
          ],
          "choropleth": [
           {
            "colorbar": {
             "outlinewidth": 0,
             "ticks": ""
            },
            "type": "choropleth"
           }
          ],
          "contour": [
           {
            "colorbar": {
             "outlinewidth": 0,
             "ticks": ""
            },
            "colorscale": [
             [
              0,
              "#0d0887"
             ],
             [
              0.1111111111111111,
              "#46039f"
             ],
             [
              0.2222222222222222,
              "#7201a8"
             ],
             [
              0.3333333333333333,
              "#9c179e"
             ],
             [
              0.4444444444444444,
              "#bd3786"
             ],
             [
              0.5555555555555556,
              "#d8576b"
             ],
             [
              0.6666666666666666,
              "#ed7953"
             ],
             [
              0.7777777777777778,
              "#fb9f3a"
             ],
             [
              0.8888888888888888,
              "#fdca26"
             ],
             [
              1,
              "#f0f921"
             ]
            ],
            "type": "contour"
           }
          ],
          "contourcarpet": [
           {
            "colorbar": {
             "outlinewidth": 0,
             "ticks": ""
            },
            "type": "contourcarpet"
           }
          ],
          "heatmap": [
           {
            "colorbar": {
             "outlinewidth": 0,
             "ticks": ""
            },
            "colorscale": [
             [
              0,
              "#0d0887"
             ],
             [
              0.1111111111111111,
              "#46039f"
             ],
             [
              0.2222222222222222,
              "#7201a8"
             ],
             [
              0.3333333333333333,
              "#9c179e"
             ],
             [
              0.4444444444444444,
              "#bd3786"
             ],
             [
              0.5555555555555556,
              "#d8576b"
             ],
             [
              0.6666666666666666,
              "#ed7953"
             ],
             [
              0.7777777777777778,
              "#fb9f3a"
             ],
             [
              0.8888888888888888,
              "#fdca26"
             ],
             [
              1,
              "#f0f921"
             ]
            ],
            "type": "heatmap"
           }
          ],
          "heatmapgl": [
           {
            "colorbar": {
             "outlinewidth": 0,
             "ticks": ""
            },
            "colorscale": [
             [
              0,
              "#0d0887"
             ],
             [
              0.1111111111111111,
              "#46039f"
             ],
             [
              0.2222222222222222,
              "#7201a8"
             ],
             [
              0.3333333333333333,
              "#9c179e"
             ],
             [
              0.4444444444444444,
              "#bd3786"
             ],
             [
              0.5555555555555556,
              "#d8576b"
             ],
             [
              0.6666666666666666,
              "#ed7953"
             ],
             [
              0.7777777777777778,
              "#fb9f3a"
             ],
             [
              0.8888888888888888,
              "#fdca26"
             ],
             [
              1,
              "#f0f921"
             ]
            ],
            "type": "heatmapgl"
           }
          ],
          "histogram": [
           {
            "marker": {
             "pattern": {
              "fillmode": "overlay",
              "size": 10,
              "solidity": 0.2
             }
            },
            "type": "histogram"
           }
          ],
          "histogram2d": [
           {
            "colorbar": {
             "outlinewidth": 0,
             "ticks": ""
            },
            "colorscale": [
             [
              0,
              "#0d0887"
             ],
             [
              0.1111111111111111,
              "#46039f"
             ],
             [
              0.2222222222222222,
              "#7201a8"
             ],
             [
              0.3333333333333333,
              "#9c179e"
             ],
             [
              0.4444444444444444,
              "#bd3786"
             ],
             [
              0.5555555555555556,
              "#d8576b"
             ],
             [
              0.6666666666666666,
              "#ed7953"
             ],
             [
              0.7777777777777778,
              "#fb9f3a"
             ],
             [
              0.8888888888888888,
              "#fdca26"
             ],
             [
              1,
              "#f0f921"
             ]
            ],
            "type": "histogram2d"
           }
          ],
          "histogram2dcontour": [
           {
            "colorbar": {
             "outlinewidth": 0,
             "ticks": ""
            },
            "colorscale": [
             [
              0,
              "#0d0887"
             ],
             [
              0.1111111111111111,
              "#46039f"
             ],
             [
              0.2222222222222222,
              "#7201a8"
             ],
             [
              0.3333333333333333,
              "#9c179e"
             ],
             [
              0.4444444444444444,
              "#bd3786"
             ],
             [
              0.5555555555555556,
              "#d8576b"
             ],
             [
              0.6666666666666666,
              "#ed7953"
             ],
             [
              0.7777777777777778,
              "#fb9f3a"
             ],
             [
              0.8888888888888888,
              "#fdca26"
             ],
             [
              1,
              "#f0f921"
             ]
            ],
            "type": "histogram2dcontour"
           }
          ],
          "mesh3d": [
           {
            "colorbar": {
             "outlinewidth": 0,
             "ticks": ""
            },
            "type": "mesh3d"
           }
          ],
          "parcoords": [
           {
            "line": {
             "colorbar": {
              "outlinewidth": 0,
              "ticks": ""
             }
            },
            "type": "parcoords"
           }
          ],
          "pie": [
           {
            "automargin": true,
            "type": "pie"
           }
          ],
          "scatter": [
           {
            "marker": {
             "colorbar": {
              "outlinewidth": 0,
              "ticks": ""
             }
            },
            "type": "scatter"
           }
          ],
          "scatter3d": [
           {
            "line": {
             "colorbar": {
              "outlinewidth": 0,
              "ticks": ""
             }
            },
            "marker": {
             "colorbar": {
              "outlinewidth": 0,
              "ticks": ""
             }
            },
            "type": "scatter3d"
           }
          ],
          "scattercarpet": [
           {
            "marker": {
             "colorbar": {
              "outlinewidth": 0,
              "ticks": ""
             }
            },
            "type": "scattercarpet"
           }
          ],
          "scattergeo": [
           {
            "marker": {
             "colorbar": {
              "outlinewidth": 0,
              "ticks": ""
             }
            },
            "type": "scattergeo"
           }
          ],
          "scattergl": [
           {
            "marker": {
             "colorbar": {
              "outlinewidth": 0,
              "ticks": ""
             }
            },
            "type": "scattergl"
           }
          ],
          "scattermapbox": [
           {
            "marker": {
             "colorbar": {
              "outlinewidth": 0,
              "ticks": ""
             }
            },
            "type": "scattermapbox"
           }
          ],
          "scatterpolar": [
           {
            "marker": {
             "colorbar": {
              "outlinewidth": 0,
              "ticks": ""
             }
            },
            "type": "scatterpolar"
           }
          ],
          "scatterpolargl": [
           {
            "marker": {
             "colorbar": {
              "outlinewidth": 0,
              "ticks": ""
             }
            },
            "type": "scatterpolargl"
           }
          ],
          "scatterternary": [
           {
            "marker": {
             "colorbar": {
              "outlinewidth": 0,
              "ticks": ""
             }
            },
            "type": "scatterternary"
           }
          ],
          "surface": [
           {
            "colorbar": {
             "outlinewidth": 0,
             "ticks": ""
            },
            "colorscale": [
             [
              0,
              "#0d0887"
             ],
             [
              0.1111111111111111,
              "#46039f"
             ],
             [
              0.2222222222222222,
              "#7201a8"
             ],
             [
              0.3333333333333333,
              "#9c179e"
             ],
             [
              0.4444444444444444,
              "#bd3786"
             ],
             [
              0.5555555555555556,
              "#d8576b"
             ],
             [
              0.6666666666666666,
              "#ed7953"
             ],
             [
              0.7777777777777778,
              "#fb9f3a"
             ],
             [
              0.8888888888888888,
              "#fdca26"
             ],
             [
              1,
              "#f0f921"
             ]
            ],
            "type": "surface"
           }
          ],
          "table": [
           {
            "cells": {
             "fill": {
              "color": "#EBF0F8"
             },
             "line": {
              "color": "white"
             }
            },
            "header": {
             "fill": {
              "color": "#C8D4E3"
             },
             "line": {
              "color": "white"
             }
            },
            "type": "table"
           }
          ]
         },
         "layout": {
          "annotationdefaults": {
           "arrowcolor": "#2a3f5f",
           "arrowhead": 0,
           "arrowwidth": 1
          },
          "autotypenumbers": "strict",
          "coloraxis": {
           "colorbar": {
            "outlinewidth": 0,
            "ticks": ""
           }
          },
          "colorscale": {
           "diverging": [
            [
             0,
             "#8e0152"
            ],
            [
             0.1,
             "#c51b7d"
            ],
            [
             0.2,
             "#de77ae"
            ],
            [
             0.3,
             "#f1b6da"
            ],
            [
             0.4,
             "#fde0ef"
            ],
            [
             0.5,
             "#f7f7f7"
            ],
            [
             0.6,
             "#e6f5d0"
            ],
            [
             0.7,
             "#b8e186"
            ],
            [
             0.8,
             "#7fbc41"
            ],
            [
             0.9,
             "#4d9221"
            ],
            [
             1,
             "#276419"
            ]
           ],
           "sequential": [
            [
             0,
             "#0d0887"
            ],
            [
             0.1111111111111111,
             "#46039f"
            ],
            [
             0.2222222222222222,
             "#7201a8"
            ],
            [
             0.3333333333333333,
             "#9c179e"
            ],
            [
             0.4444444444444444,
             "#bd3786"
            ],
            [
             0.5555555555555556,
             "#d8576b"
            ],
            [
             0.6666666666666666,
             "#ed7953"
            ],
            [
             0.7777777777777778,
             "#fb9f3a"
            ],
            [
             0.8888888888888888,
             "#fdca26"
            ],
            [
             1,
             "#f0f921"
            ]
           ],
           "sequentialminus": [
            [
             0,
             "#0d0887"
            ],
            [
             0.1111111111111111,
             "#46039f"
            ],
            [
             0.2222222222222222,
             "#7201a8"
            ],
            [
             0.3333333333333333,
             "#9c179e"
            ],
            [
             0.4444444444444444,
             "#bd3786"
            ],
            [
             0.5555555555555556,
             "#d8576b"
            ],
            [
             0.6666666666666666,
             "#ed7953"
            ],
            [
             0.7777777777777778,
             "#fb9f3a"
            ],
            [
             0.8888888888888888,
             "#fdca26"
            ],
            [
             1,
             "#f0f921"
            ]
           ]
          },
          "colorway": [
           "#636efa",
           "#EF553B",
           "#00cc96",
           "#ab63fa",
           "#FFA15A",
           "#19d3f3",
           "#FF6692",
           "#B6E880",
           "#FF97FF",
           "#FECB52"
          ],
          "font": {
           "color": "#2a3f5f"
          },
          "geo": {
           "bgcolor": "white",
           "lakecolor": "white",
           "landcolor": "#E5ECF6",
           "showlakes": true,
           "showland": true,
           "subunitcolor": "white"
          },
          "hoverlabel": {
           "align": "left"
          },
          "hovermode": "closest",
          "mapbox": {
           "style": "light"
          },
          "paper_bgcolor": "white",
          "plot_bgcolor": "#E5ECF6",
          "polar": {
           "angularaxis": {
            "gridcolor": "white",
            "linecolor": "white",
            "ticks": ""
           },
           "bgcolor": "#E5ECF6",
           "radialaxis": {
            "gridcolor": "white",
            "linecolor": "white",
            "ticks": ""
           }
          },
          "scene": {
           "xaxis": {
            "backgroundcolor": "#E5ECF6",
            "gridcolor": "white",
            "gridwidth": 2,
            "linecolor": "white",
            "showbackground": true,
            "ticks": "",
            "zerolinecolor": "white"
           },
           "yaxis": {
            "backgroundcolor": "#E5ECF6",
            "gridcolor": "white",
            "gridwidth": 2,
            "linecolor": "white",
            "showbackground": true,
            "ticks": "",
            "zerolinecolor": "white"
           },
           "zaxis": {
            "backgroundcolor": "#E5ECF6",
            "gridcolor": "white",
            "gridwidth": 2,
            "linecolor": "white",
            "showbackground": true,
            "ticks": "",
            "zerolinecolor": "white"
           }
          },
          "shapedefaults": {
           "line": {
            "color": "#2a3f5f"
           }
          },
          "ternary": {
           "aaxis": {
            "gridcolor": "white",
            "linecolor": "white",
            "ticks": ""
           },
           "baxis": {
            "gridcolor": "white",
            "linecolor": "white",
            "ticks": ""
           },
           "bgcolor": "#E5ECF6",
           "caxis": {
            "gridcolor": "white",
            "linecolor": "white",
            "ticks": ""
           }
          },
          "title": {
           "x": 0.05
          },
          "xaxis": {
           "automargin": true,
           "gridcolor": "white",
           "linecolor": "white",
           "ticks": "",
           "title": {
            "standoff": 15
           },
           "zerolinecolor": "white",
           "zerolinewidth": 2
          },
          "yaxis": {
           "automargin": true,
           "gridcolor": "white",
           "linecolor": "white",
           "ticks": "",
           "title": {
            "standoff": 15
           },
           "zerolinecolor": "white",
           "zerolinewidth": 2
          }
         }
        },
        "title": {
         "text": "H*len(m)"
        },
        "xaxis": {
         "anchor": "y",
         "domain": [
          0,
          1
         ],
         "title": {
          "text": "index"
         }
        },
        "yaxis": {
         "anchor": "x",
         "domain": [
          0,
          1
         ],
         "title": {
          "text": "EntropySize"
         }
        }
       }
      }
     },
     "metadata": {},
     "output_type": "display_data"
    }
   ],
   "source": [
    "fig = px.line(df, x=df.index, y=df.EntropySize, title='H*len(m)', text=[(\"%.0f\" % x) for x in df.EntropySize.values])\n",
    "fig.update_traces(textposition='top center')\n",
    "fig.show()"
   ]
  },
  {
   "cell_type": "markdown",
   "metadata": {},
   "source": [
    "# Real experiment data"
   ]
  },
  {
   "cell_type": "code",
   "execution_count": 53,
   "metadata": {},
   "outputs": [],
   "source": [
    "def get_datasets(normalization=None):\n",
    "    return [\n",
    "        #(*load_dataset(DataSets.english, normalization), DataSets.english), \n",
    "        (*load_dataset(DataSets.dna, normalization), DataSets.dna),\n",
    "        #(*load_dataset(DataSets.proteins, normalization), DataSets.proteins),\n",
    "        #(*load_dataset(DataSets.sources, normalization), DataSets.sources),\n",
    "    ]"
   ]
  },
  {
   "cell_type": "code",
   "execution_count": 38,
   "metadata": {},
   "outputs": [],
   "source": [
    "NORM_VALUES = [10000]\n",
    "CSV_NAME = \"steps.csv\"\n",
    "ENTROPY_GRAPH = \"entropy_paradox.png\"\n",
    "MESSAGE_GRAPH = \"message_size.png\"\n",
    "MESSAGE_SIZE_ENTROPY_GRAPH = \"message_entropy_size.png\"\n",
    "MESSAGE_ENTROPY = \"message_entropy.png\""
   ]
  },
  {
   "cell_type": "code",
   "execution_count": 32,
   "metadata": {},
   "outputs": [],
   "source": [
    "def write_images(df, path):\n",
    "    fig = px.line(df, x=df.index, y=df.EntropyMove, text=[(\"%.1f\" % x) for x in df.EntropyMove.values], title='Pohyb entropie')\n",
    "    fig.update_traces(textposition='top center')\n",
    "    fig.write_image(os.path.sep.join([path, ENTROPY_GRAPH]))\n",
    "    \n",
    "    fig = px.line(df, x=df.index, y=df.MessageSize, text=df.MessageSize, title='Velikost zprávy')\n",
    "    fig.update_traces(textposition='top center')\n",
    "    fig.write_image(os.path.sep.join([path, MESSAGE_GRAPH]))    \n",
    "\n",
    "    fig = px.line(df, x=df.index, y=[df.MessageSize, df.EntropySize], title='Velikost zprávy proti aktuální entropii')\n",
    "    fig.update_traces(textposition='top center')\n",
    "    fig.write_image(os.path.sep.join([path, MESSAGE_SIZE_ENTROPY_GRAPH]))\n",
    "\n",
    "    fig = px.line(df, x=df.index, y=df.EntropySize, title='H*len(m)', text=[(\"%.0f\" % x) for x in df.EntropySize.values])\n",
    "    fig.update_traces(textposition='top center')   \n",
    "    fig.write_image(os.path.sep.join([path, MESSAGE_ENTROPY]))"
   ]
  },
  {
   "cell_type": "code",
   "execution_count": 33,
   "metadata": {},
   "outputs": [],
   "source": [
    "def save_dataframe(df, path):\n",
    "    path = os.path.sep.join([path, CSV_NAME])\n",
    "    df.to_csv(path, index=False)"
   ]
  },
  {
   "cell_type": "code",
   "execution_count": 34,
   "metadata": {},
   "outputs": [],
   "source": [
    "def run_algorithm_for_datasets(normalization_values=NORM_VALUES, largest=True, limit_steps=None, optimized=False):\n",
    "    for n_v in normalization_values:\n",
    "\n",
    "        datasets = get_datasets(n_v)\n",
    "\n",
    "        for data, data_path, data_type in datasets:\n",
    "            data_type_string = data_type.value\n",
    "            current_path = os.path.sep.join([data_type_string, str(n_v)])\n",
    "\n",
    "\n",
    "            limit_steps_str = \"None\" if limit_steps is None else str(limit_steps)\n",
    "            optimized_string = \"optimized\" if optimized else \"bruto\"\n",
    "\n",
    "            steps_path = os.path.sep.join([current_path, limit_steps_str, str(largest), optimized_string])\n",
    "\n",
    "            if not os.path.isdir(steps_path):\n",
    "                os.makedirs(steps_path)\n",
    "\n",
    "            heurestic_method = pick_largest if largest else pick_random\n",
    "\n",
    "            res = algorithm(data, data_type_string, \"\", limit_step=limit_steps, heuristic_method=heurestic_method, optimized=optimized)\n",
    "            df = pd.DataFrame.from_dict(res, orient=\"index\")\n",
    "\n",
    "\n",
    "\n",
    "\n",
    "            save_dataframe(df, steps_path)\n",
    "            write_images(df, steps_path)"
   ]
  },
  {
   "cell_type": "code",
   "execution_count": 35,
   "metadata": {},
   "outputs": [],
   "source": [
    "LIMIT_STEPS = [None]\n",
    "LARGEST_METHOD = [True] #largest || random\n",
    "OPTIMIZED = [False] #not optimized (bruto) || optimized"
   ]
  },
  {
   "cell_type": "code",
   "execution_count": 36,
   "metadata": {},
   "outputs": [],
   "source": [
    "import itertools"
   ]
  },
  {
   "cell_type": "code",
   "execution_count": 37,
   "metadata": {},
   "outputs": [
    {
     "data": {
      "text/plain": [
       "[(None, True, False)]"
      ]
     },
     "execution_count": 37,
     "metadata": {},
     "output_type": "execute_result"
    }
   ],
   "source": [
    "exps = list(itertools.product(LIMIT_STEPS, LARGEST_METHOD, OPTIMIZED))\n",
    "exps"
   ]
  },
  {
   "cell_type": "code",
   "execution_count": 39,
   "metadata": {},
   "outputs": [
    {
     "name": "stdout",
     "output_type": "stream",
     "text": [
      "Loading C://Users//proko//Desktop//University//iv//aks//datasets\\dna\\dna.50MB\n"
     ]
    },
    {
     "ename": "KeyboardInterrupt",
     "evalue": "",
     "output_type": "error",
     "traceback": [
      "\u001b[1;31m---------------------------------------------------------------------------\u001b[0m",
      "\u001b[1;31mKeyboardInterrupt\u001b[0m                         Traceback (most recent call last)",
      "\u001b[1;32mc:\\Users\\proko\\Desktop\\University\\iv\\aks\\project\\project.ipynb Cell 49'\u001b[0m in \u001b[0;36m<module>\u001b[1;34m\u001b[0m\n\u001b[0;32m      <a href='vscode-notebook-cell:/c%3A/Users/proko/Desktop/University/iv/aks/project/project.ipynb#ch0000048?line=0'>1</a>\u001b[0m \u001b[39mfor\u001b[39;00m limit_steps, largest_method, optimized \u001b[39min\u001b[39;00m exps:\n\u001b[1;32m----> <a href='vscode-notebook-cell:/c%3A/Users/proko/Desktop/University/iv/aks/project/project.ipynb#ch0000048?line=1'>2</a>\u001b[0m     run_algorithm_for_datasets(NORM_VALUES, largest_method, limit_steps, optimized)\n",
      "\u001b[1;32mc:\\Users\\proko\\Desktop\\University\\iv\\aks\\project\\project.ipynb Cell 45'\u001b[0m in \u001b[0;36mrun_algorithm_for_datasets\u001b[1;34m(normalization_values, largest, limit_steps, optimized)\u001b[0m\n\u001b[0;32m      <a href='vscode-notebook-cell:/c%3A/Users/proko/Desktop/University/iv/aks/project/project.ipynb#ch0000044?line=0'>1</a>\u001b[0m \u001b[39mdef\u001b[39;00m \u001b[39mrun_algorithm_for_datasets\u001b[39m(normalization_values\u001b[39m=\u001b[39mNORM_VALUES, largest\u001b[39m=\u001b[39m\u001b[39mTrue\u001b[39;00m, limit_steps\u001b[39m=\u001b[39m\u001b[39mNone\u001b[39;00m, optimized\u001b[39m=\u001b[39m\u001b[39mFalse\u001b[39;00m):\n\u001b[0;32m      <a href='vscode-notebook-cell:/c%3A/Users/proko/Desktop/University/iv/aks/project/project.ipynb#ch0000044?line=1'>2</a>\u001b[0m     \u001b[39mfor\u001b[39;00m n_v \u001b[39min\u001b[39;00m normalization_values:\n\u001b[1;32m----> <a href='vscode-notebook-cell:/c%3A/Users/proko/Desktop/University/iv/aks/project/project.ipynb#ch0000044?line=3'>4</a>\u001b[0m         datasets \u001b[39m=\u001b[39m get_datasets(n_v)\n\u001b[0;32m      <a href='vscode-notebook-cell:/c%3A/Users/proko/Desktop/University/iv/aks/project/project.ipynb#ch0000044?line=5'>6</a>\u001b[0m         \u001b[39mfor\u001b[39;00m data, data_path, data_type \u001b[39min\u001b[39;00m datasets:\n\u001b[0;32m      <a href='vscode-notebook-cell:/c%3A/Users/proko/Desktop/University/iv/aks/project/project.ipynb#ch0000044?line=6'>7</a>\u001b[0m             data_type_string \u001b[39m=\u001b[39m data_type\u001b[39m.\u001b[39mvalue\n",
      "\u001b[1;32mc:\\Users\\proko\\Desktop\\University\\iv\\aks\\project\\project.ipynb Cell 7'\u001b[0m in \u001b[0;36mget_datasets\u001b[1;34m(normalization)\u001b[0m\n\u001b[0;32m      <a href='vscode-notebook-cell:/c%3A/Users/proko/Desktop/University/iv/aks/project/project.ipynb#ch0000006?line=0'>1</a>\u001b[0m \u001b[39mdef\u001b[39;00m \u001b[39mget_datasets\u001b[39m(normalization\u001b[39m=\u001b[39m\u001b[39mNone\u001b[39;00m):\n\u001b[0;32m      <a href='vscode-notebook-cell:/c%3A/Users/proko/Desktop/University/iv/aks/project/project.ipynb#ch0000006?line=1'>2</a>\u001b[0m     \u001b[39mreturn\u001b[39;00m [\n\u001b[0;32m      <a href='vscode-notebook-cell:/c%3A/Users/proko/Desktop/University/iv/aks/project/project.ipynb#ch0000006?line=2'>3</a>\u001b[0m         \u001b[39m#(*get_dataset(DataSets.english, normalization), DataSets.english), \u001b[39;00m\n\u001b[1;32m----> <a href='vscode-notebook-cell:/c%3A/Users/proko/Desktop/University/iv/aks/project/project.ipynb#ch0000006?line=3'>4</a>\u001b[0m         (\u001b[39m*\u001b[39mload_dataset(DataSets\u001b[39m.\u001b[39;49mdna, normalization), DataSets\u001b[39m.\u001b[39mdna),\n\u001b[0;32m      <a href='vscode-notebook-cell:/c%3A/Users/proko/Desktop/University/iv/aks/project/project.ipynb#ch0000006?line=4'>5</a>\u001b[0m         \u001b[39m#(*load_dataset(DataSets.proteins, normalization), DataSets.proteins),\u001b[39;00m\n\u001b[0;32m      <a href='vscode-notebook-cell:/c%3A/Users/proko/Desktop/University/iv/aks/project/project.ipynb#ch0000006?line=5'>6</a>\u001b[0m         \u001b[39m#(*load_dataset(DataSets.sources, normalization), DataSets.sources),\u001b[39;00m\n\u001b[0;32m      <a href='vscode-notebook-cell:/c%3A/Users/proko/Desktop/University/iv/aks/project/project.ipynb#ch0000006?line=6'>7</a>\u001b[0m     ]\n",
      "\u001b[1;32mc:\\Users\\proko\\Desktop\\University\\iv\\aks\\project\\project.ipynb Cell 6'\u001b[0m in \u001b[0;36mload_dataset\u001b[1;34m(type, normalization)\u001b[0m\n\u001b[0;32m      <a href='vscode-notebook-cell:/c%3A/Users/proko/Desktop/University/iv/aks/project/project.ipynb#ch0000005?line=2'>3</a>\u001b[0m \u001b[39mif\u001b[39;00m normalization \u001b[39mis\u001b[39;00m \u001b[39mNone\u001b[39;00m:\n\u001b[0;32m      <a href='vscode-notebook-cell:/c%3A/Users/proko/Desktop/University/iv/aks/project/project.ipynb#ch0000005?line=3'>4</a>\u001b[0m     \u001b[39mreturn\u001b[39;00m data_dna, path_dna\n\u001b[1;32m----> <a href='vscode-notebook-cell:/c%3A/Users/proko/Desktop/University/iv/aks/project/project.ipynb#ch0000005?line=4'>5</a>\u001b[0m \u001b[39mreturn\u001b[39;00m \u001b[39m\"\u001b[39m\u001b[39m\"\u001b[39m\u001b[39m.\u001b[39mjoin(np\u001b[39m.\u001b[39;49mrandom\u001b[39m.\u001b[39;49mchoice(\u001b[39mlist\u001b[39;49m(data_dna), normalization)), path_dna\n",
      "File \u001b[1;32mmtrand.pyx:946\u001b[0m, in \u001b[0;36mnumpy.random.mtrand.RandomState.choice\u001b[1;34m()\u001b[0m\n",
      "File \u001b[1;32m<__array_function__ internals>:179\u001b[0m, in \u001b[0;36mprod\u001b[1;34m(*args, **kwargs)\u001b[0m\n",
      "\u001b[1;31mKeyboardInterrupt\u001b[0m: "
     ]
    }
   ],
   "source": [
    "for limit_steps, largest_method, optimized in exps:\n",
    "    run_algorithm_for_datasets(NORM_VALUES, largest_method, limit_steps, optimized)"
   ]
  },
  {
   "cell_type": "code",
   "execution_count": null,
   "metadata": {},
   "outputs": [],
   "source": []
  }
 ],
 "metadata": {
  "interpreter": {
   "hash": "97e6c85832baaca9363ab02f06d99864db3184f5c282967bd7ef920b2fe63dcd"
  },
  "kernelspec": {
   "display_name": "Python 3.8.1 ('venv': venv)",
   "language": "python",
   "name": "python3"
  },
  "language_info": {
   "codemirror_mode": {
    "name": "ipython",
    "version": 3
   },
   "file_extension": ".py",
   "mimetype": "text/x-python",
   "name": "python",
   "nbconvert_exporter": "python",
   "pygments_lexer": "ipython3",
   "version": "3.8.6rc1"
  },
  "orig_nbformat": 4
 },
 "nbformat": 4,
 "nbformat_minor": 2
}
