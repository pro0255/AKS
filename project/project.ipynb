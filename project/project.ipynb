{
 "cells": [
  {
   "cell_type": "markdown",
   "metadata": {},
   "source": [
    "# Project to AKS"
   ]
  },
  {
   "cell_type": "markdown",
   "metadata": {},
   "source": [
    "## Reference \n",
    "\n",
    "- https://homel.vsb.cz/~vas218/pdf/acs/grammar.pdf\n",
    "- https://homel.vsb.cz/~vas218/pdf/acs/vasinek-thesis.pdf\n",
    "- https://homel.vsb.cz/~vas218/acs.html\n",
    "\n",
    "## Choosen task\n",
    "\n",
    "- Reduction paradox\n",
    "\n",
    "## Description\n",
    "\n",
    "- Try to reduce message and with every step maximaze entropy\n",
    "\n",
    "## Official description \n",
    "\n",
    "- **RePair - maximal anticompression - reduction paradox**\n",
    "    - Find the smallest possible representation(measured in the number of symbols) of file using the reduction paradox which leads to the largest increase of zero order entropy representation.\n",
    "    - Heuristics - largest first, random\n",
    "    - Describe the algorithm and summarize results to a .doc(x) or .pdf report.\n",
    "    - Prepare a presentation for 10 minutes about your method.\n",
    "    - Literature: Vasinek, Dissertation thesis (Chapter 5)\n",
    "\n",
    "## Steps\n",
    "\n",
    "- Load dataset\n",
    "- Can pick a subset for faster running (sample it)\n",
    "- Find every bigram and try to create rule\n",
    "- Calculate Entropy for new message\n",
    "- Need to find rule which reduces size of message but increases entropy (harder to compress)\n",
    "- Find extremes for every file\n",
    "- Show graphs"
   ]
  },
  {
   "cell_type": "code",
   "execution_count": 1,
   "metadata": {},
   "outputs": [],
   "source": [
    "import os\n",
    "import sys\n",
    "\n",
    "def adding_module_path():\n",
    "    module_path = os.path.abspath(os.path.sep.join([\"..\"]*1))\n",
    "\n",
    "    if module_path not in sys.path:\n",
    "        sys.path.append(module_path)\n",
    "\n",
    "adding_module_path()"
   ]
  },
  {
   "cell_type": "code",
   "execution_count": 2,
   "metadata": {},
   "outputs": [],
   "source": [
    "from src.load_data import get_dataset\n",
    "from src.load_data import DataSets\n",
    "from src.get_probs import get_sorted_probs_as_df\n",
    "import numpy as np\n",
    "import pandas as pd\n",
    "import time\n",
    "from src.save import save_both\n",
    "from enum import Enum\n",
    "import re\n",
    "from ast import literal_eval\n",
    "import random\n",
    "import plotly.express as px"
   ]
  },
  {
   "cell_type": "code",
   "execution_count": 3,
   "metadata": {},
   "outputs": [],
   "source": [
    "TEST_NORMALIZATION_SIZE = 10000"
   ]
  },
  {
   "cell_type": "code",
   "execution_count": 4,
   "metadata": {},
   "outputs": [],
   "source": [
    "def load_dataset(type, normalization=None, random_pick=False):\n",
    "    data_dna, path_dna = get_dataset(type)\n",
    "    if normalization is None:\n",
    "        return data_dna, path_dna\n",
    "    if random_pick:\n",
    "        return \"\".join(np.random.choice(list(data_dna), normalization)), path_dna\n",
    "    return data_dna[0:normalization], path_dna "
   ]
  },
  {
   "cell_type": "code",
   "execution_count": 5,
   "metadata": {},
   "outputs": [],
   "source": [
    "def get_datasets(normalization=None):\n",
    "    return [\n",
    "        #(*get_dataset(DataSets.english, normalization), DataSets.english), \n",
    "        (*load_dataset(DataSets.dna, normalization), DataSets.dna),\n",
    "        #(*load_dataset(DataSets.proteins, normalization), DataSets.proteins),\n",
    "        #(*load_dataset(DataSets.sources, normalization), DataSets.sources),\n",
    "    ]\n"
   ]
  },
  {
   "cell_type": "code",
   "execution_count": 6,
   "metadata": {},
   "outputs": [
    {
     "name": "stdout",
     "output_type": "stream",
     "text": [
      "Loading C://Users//proko//Desktop//University//iv//aks//datasets\\dna\\dna.50MB\n"
     ]
    }
   ],
   "source": [
    "test_datasets = get_datasets(TEST_NORMALIZATION_SIZE)"
   ]
  },
  {
   "cell_type": "code",
   "execution_count": 7,
   "metadata": {},
   "outputs": [
    {
     "data": {
      "text/plain": [
       "[('GATCAATGAGGTGGACACCAGAGGCGGGGACTTGTAAATAACACTGGGCTGTAGGAGTGATGGGGTTCACCTCTAATTCTAAGATGGCTAGATAATGCATCTTTCAGGGTTGTGCTTCTATCTAGAAGGTAGAGCTGTGGTCGTTCAATAAAAGTCCTCAAGAGGTTGGTTAATACGCATGTTTAATAGTACAGTATGGTGACTATAGTCAACAATAATTTATTGTACATTTTTAAATAGCTAGAAGAAAAGCATTGGGAAGTTTCCAACATGAAGAAAAGATAAATGGTCAAGGGAATGGATATCCTAATTACCCTGATTTGATCATTATGCATTATATACATGAATCAAAATATCACACATACCTTCAAACTATGTACAAATATTATATACCAATAAAAAATCATCATCATCATCTCCATCATCACCACCCTCCTCCTCATCACCACCAGCATCACCACCATCATCACCACCACCATCATCACCACCACCACTGCCATCATCATCACCACCACTGTGCCATCATCATCACCACCACTGTCATTATCACCACCACCATCATCACCAACACCACTGCCATCGTCATCACCACCACTGTCATTATCACCACCACCATCACCAACATCACCACCACCATTATCACCACCATCAACACCACCACCCCCATCATCATCATCACTACTACCATCATTACCAGCACCACCACCACTATCACCACCACCACCACAATCACCATCACCACTATCATCAACATCATCACTACCACCATCACCAACACCACCATCATTATCACCACCACCACCATCACCAACATCACCACCATCATCATCACCACCATCACCAAGACCATCATCATCACCATCACCACCAACATCACCACCATCACCAACACCACCATCACCACCACCACCACCATCATCACCACCACCACCATCATCATCACCACCACCGCCATCATCATCGCCACCACCATGACCACCACCATCACAACCATCACCACCATCACAACCACCATCATCACTATCGCTATCACCACCATCACCATTACCACCACCATTACTACAACCATGACCATCACCACCATCACCACCACCATCACAACGATCACCATCACAGCCACCATCATCACCACCACCACCACCACCATCACCATCAAACCATCGGCATTATTATTTTTTTAGAATTTTGTTGGGATTCAGTATCTGCCAAGATACCCATTCTTAAAACATGAAAAAGCAGCTGACCCTCCTGTGGCCCCCTTTTTGGGCAGTCATTGCAGGACCTCATCCCCAAGCAGCAGCTCTGGTGGCATACAGGCAACCCACCACCAAGGTAGAGGGTAATTGAGCAGAAAAGCCACTTCCTCCAGCAGTTCCCTGTCTGAGCTGCTGTCCTTGGACTTGAAGAAGCTTCTGGAACATGCTGGGGAGGAAGGAAGACATTTCACTTATTGAGTGGCCTGATGCAGAACAGAGACCCAGCTGGTTCACTCTAGTTCGGACTAAAACTCACCCCTGTCTATAAGCATCAGCCTCGGCAGGATGCATTTCACATTTGTGATCTCATTTAACCTCCACAAAGACCCAGAAGGGTTGGTAACATTATCATACCTAGGCCTACTATTTTAAAAATCTAACACCCATGCAGCCCGGGCACTGAAGTGGAGGCTGGCCACGGAGAGAGCCAGGCAATCACTGGCTTTTCCTTAGACAGAGAGCTGGTTCCTAGGAGAAGAAGCTCCAGGCTGGGGTCCAGGCTATGACCCAACTGTTCAGTTTTGCAACATCCAGCATGGCTGCCTGATCAGGGGTGCATATGTCAGAGGAGCCTTCAGCTGGGAAGTGCTGACAAATGACCCAGACCTGACCTGCCCGATGCCAAGGCCTCCTTTAGTACATCCCATGGAGGACACTTGAGACAAAGTCACAGCTCAGCCCGTTGATTTCCCATGCTCTGACTGTGCGGTGCAGCAGGACCCCTAGCAGGCAGCATGTGTTCAAGGCAGCGATATCCAAATGCTATGAATTGCTGTCCTGATGGTTATTTTCCTGCATACAGTAGAGCTGATCCCTGTACAATGCTGGTCCTAAATCTCACCTTTGACAGTGCGCTGATGTGCAATGTTTGCTTTTGTTTTATTTGATGGAACATGGCTAATTGCTAAGAAGGTGACATGCTGCCCACTGACCACCCAATGTTCATTCTCCTCTTCTTCCTTACTAACAAAACTGCGGTGGTGGTGGTGAGGAGAGGGAGGGGGTATAACAAATGTGCCAAGCCAAGAGTTTATATTTGCAAGCCTCTCTTATACCTAGAGTTGATCGTGACACAGCTCTGGCCAATGATGTGTAAGCAGAAGTTGCTTGATGTGACTTCTGGCAAAGCTCTTAAGGAGAGGACTGACCTGTTTCCACATATCTTTTTCCTTTCCGTGTCCTTAGTCCTGGCTGGGATGCAGATGAGATGCAAAAGGTGGAGCAGCCATGTTGTCATCAGGCAGTAACAGGTCTGAGGGTAGAAGCTGCATTCTGATAATACCAGGGAAAAATAATACAAGTAGTCTAGGGCCCAGAGATATCACAGATGTCCATTTGAACCCCAAATTACCTGTCTCCAGATTTGCTATCAGGCAAGAAAAGGAAATCTTTCATTAGTTTAAGCTGTAGTTTACTCCAGTTTTCTATAACTTTCGGCCAGATATAACCCTAAATTGACAAAGGGGGCAAGTGCTTAACTGCAAAGCAGTTAAAACTCAAACACAGGCCTTCATTTCTTCAGGGTTTTAGTTTTTTCTAGGGAAGAATCTTAACTACTGCTACTAAAAGTTATAGTAGGCCAGGGATGGTGACTCACGCCTGTAATCTCAGCACTTTGGAAGCCCAGGCAGGTGGATCACCTGAGGTCAGGAGTTCAAGACCAGCCTGGCCAACGTGGTGAAACCCCATCTCTACTAAAAATACAAAAATTAGCCAGGCATGATGGTGCATGCCTGTAGTCACACCTACTCAGGAGGCTGAGTCAGGAGAATAGCTTGACCCAGGAGGCAGAGGTGGCAGTGAGCCAAGATCGCACCACTGCACTCCAGCCTGGGCGACAGAGCAAGACTCTGTCTCAAAAAAAAAAAAGTCATAATCAAAGAGGAAGACTGAGATAAATGTAGAGTCAAAGGGCTAAACAGAAACATAACACATGGGTTTTAAGCTAAGCCTTCACATTATCCCTTATACAATTTTATCTACACCGATTTCACCAAAGCTCAAAGTTATATTATTGGCTGAGATTGGCATTGGGATGGAGTGGTGAAGCTAAGAAATTCGTTATCCCTTTGTTCCAGTGCTGCTGGACTTTTCACTAAGTGAAGAGGTAAATGCTGAGTCTCCCAGGAGGCTGACTCCTCCTGGCTCTGGGTGTGCATTCTGATGAAGGTTCTTTATTGTAGGCACCAACAGAAGGCTCATGAGAGGGCAACATGGATCTCCATTTCTGAGCAGATGTTTAAACGCTGAATCAGGTCCAAGGCTTCCCAAATGAACTCAAGGAGTTTCTTTTTCCCAAGCCATAGAAAGTGGCGATAGCAATCCAGGGTCTGCACTGGGAAGGAGCACTGCCAGGACACGTCCCTCCCTGCCATTCCCCCACCCTCGCCCAGGAGACGTCCCTCCCTGCCACCACACAGGACACATCCCTCCTTGCCATCCCACCCCCCTTCCCAGGACACGTCCCTCCCTGCCATCCCATCCCATTCCCCCACAAGGACACGTCCCTCCCTGTCATCCCACCCCCCTTCTCAGGACACATCCTTCCCTGCCATCCCACACCCCCCCCAGGACACGTCCCTCCCTGCCATCCCACGCCTCCCCCCAGGACACATCCCTCCCTGCCATCCCACCCCGCCCCCCAGGACACACAGGTCCGTGAAATCAGTATAGACACTTGTATCAAGCAAGAAGAAGCATGTTACTCAGAAGAACACAATTTTGTTGTTTTGTTTTTGTTTCTGGGTTTTGGTTGTTTTTTTTGTTTTTTTTTTTGGGGAATTAAACAAATAATTTCAAGTTCTACCTCCACCACCTACCAGCTGCATGATCTTAGACCATTGACATCACCTCCCTGACCGTGATTTTCACATCTAGAGAATGGGAGGGGAAGAACCATGCCTTGGGGGCCAGGCTGAGGATGAACTATGAAAACCCGTCCTATTGGGCACTCTCGAACAGTCACCATTGTTGGTATGAGGCCCACTATCAGTGAAACTGATTGAAATTGGTGTACATCTGAGACCTGAGGACAGCCATCAAGTGTCTATTAACTTAAGCTTTATGTAGCAAGCATTTATTGCACATGATCCTAGGTCCCAAGTATGCTTCGGTAAATTAAACACCCTTGGTCCCTGCCCTCACAAGCCGTTCATAATCTAGACAGATACATAAGATATAAATGCACAATTGTTCATTGAAAATCTCCGAAGTCACTGGCTATTTTCTGTGGTTCTCGGCACCATCACCACCCTTCCAAATTCTCTCCTGTTCTCAGGGGTTAGAAACCTGCAAACTACATTCCCTAGACTTCCTTGCCTGTAGGAGCAAAATGATCCCATGTATTACTGCGAAATGGTAGTGTCTGGGTCCCAGAAGACAGTTAGTAGAATCAGAATGTAGGAAAGTGTGTGCCACAGCCACACATGTTCATGATAGTCATAACTTGTTCAGTAGGAATTTAGAGAAGACTGACTGTACACAAGGTATTGCTAAATGCTATGCGGGATACAGAGATGCCTGTGCCTCTAAGAAACTTGGTAGAAAAATAATAACCCACACATATTTGGCTTACCTTCTCTTTGAATAGAGCAATTGGCAGTTTAGATTCAGTCATTCTTCAATTCATTTAGCCAAAATTTATTCTGTGATGGCTGAATCCAACAAATGAAGTCTCTACTCTCATATTATTTTCCATTTTGTTCCACTGAATTTCAGCAAACATAGACCAGACAAGCATCCCTTTGAAACCTGGACTTGGGATGAGGGTCTGCTGAGATTGGGTTTTCTCCATGCCCAGATGCCTCTGATCAAATATCAAGTCCCAAAGATACAGATGAGAAAGTTATTAAGTGTTCTGGGATTGGGACATCGGAGATATTAATTAACCCTGGCTTGAGATGGGAAGAGGGGGCAGGTAGCTTTCTTTGTGTAGTGTTTAGGAAGGTGATTGCCAATCTAGGAGAAGTGAGTTCCCCAGAGGGAGGGGGGCTCTTGGCCAGCAGGGTGACCCATATGTTCTGGTCTGCCTGGAGCTGTGGTCCTTGGGTTCACAGCGGCCCCTTTGCACTCAAAGCACCCTAGCTTGGACAATAAATTCTACAGTCAGTTCTGCAGTGACGATCTTCAATTCCTAGGGCTGCCATAAGAGAAGATCATAGACTAGGGGTGGTACACGACAGAAATTCATCTTCTCCCAGTTCTGGAGCCTGAAAATCCAAAACAAGGTGCTGTCAGGGTTGGATTCTCCTTGGGCCTCTCTTCTTGGCTTGCAGGTGGCTGTCTTCTGGCTGTGTCCTCGTGTGTCCCCAACATCCCCCTGTGTGTGTGTGCAACCCTTATGTCTCTTCCTCTGCTCATAAGAAAACAGTCCTATAGGACTAGGACCACATTCTTATGGCCTCATTTAACCTTAATTACCTCCTTTAGGGCCCTGTCTCCAAATATGTTCAGTGGAGGTTTGGGGCTTTGGCATATGAGTCTTTGGAGGCCACAGTTCTGTCCAGAACACACTGACCCTATCCACCAGGTACTGCCACACCAATGGCTTTCAGCATTAGACAGAGCCCCCCTGGGCTCTGTAACCCCACCCAGGGTGTTAAGAATGAGGAGTGAAAGTCCACACATGTACACACATGTTAATAGCAGCATTATGCGCAACAGTCAAACAGTGGACACACCCAAATGCCCATCAGTGGATGATGGATACATGCAAGGTGATTTATCCAGACAGTGGCATCATATTCTGTGGCCGGAAACAGGAGGGGAACGCTGACACTTGGCACAACACGGAAGACCTTTGAAAACATATTGCAGCAGATTGAATGAAAAAACAGAGAGAAGAATCCAGCCGCCTCATATAATTTCTTTTTAACTTGCAAATGTTATTTTTAATCAAAATGTTATTTACATGGCACTGAGTGTACGGACAACCTTTGAAAACATGGTGCTGAGTGTAAGAACCAAACAGGAAAGGCCACGTGTTGTTCATTGATAGGAAATGTCCAGAATAGGATGTTCTAAAGAGACTGAGAATGGATAAGTGGCTGCTTAAGTGGGGGGGTGGAAGGAGGATAGAAGAGTGATAGCTAAAGGGCACAGTTTCTTTCTGAGGTGATGGTATGTTCCAAAATTGACATTGGTGATGGTTGCACACACTGCAGATACACCAAAATCCACCAAGTTAAATTGAAATGCACACTTTACACTATTGAATTATATACTTTAAGTGGCTGAATTGTATAGCATATGAATTACATTTCAATAAAGCCTTTTAAATAAATCATGCATGGGTAAAATGTCCACTCAAAGTAAGATAAACCAGCGCATTGTAATGTAATAGAGTACAAAATGCATGGGTATGGAATTCCACTTACAACCCATCATTAATCAACCACTACTTATCAAAGAAACCCCAACTTGTCAAATTTCAGTGTGATGTCAAACAAGATACCCAGTGTTACCTGAGAAGGCTAGTAAGACACTCATCTCTTTTCAAACTACTTGGAAGTATGAGGCCAGGTTCTTTTCCTATTCTTCAACCAAAACAATGTATTGCAACAGATTGAATGAAAAAAACAGAGAGAAGAATCCAGCTGCCTCATGTAATTTCTTTTTAATTTGGAAATGGTATTTTTAATCAAAATGTTATTTACATTAGCAATAATAATTTTTTTTAAAAAAGAATGAGGCTTGAGACGGAGACTCAGTGGCTGTGTCTACCGGCCTCAGTTGTAAAACAAGCACTGTTCATCCCGAGCCGACATAGCTGCTCATTCACTCATTCAAAAATAATCTTTGAACACCCGCTCTGTGATGAGGTGATGATGATGATGACGATGATGATGGTATCAGTACTGGCTAATATAATAAACTAGCTACTATGTGCCAAATGGTTTCTCAATCTGAGCCATTTAACCCCCACAGCAGCCCTGGAAAGTAAGAATCGTTACTAGCTCTAGGAGGCAGCCCCAGGGATAGGTCTGCGGTGCGTGTTCCAGAGTCGGGAGCCCTGGCCGAGGTCTGCGCTGGCTTTTTCCTCCCTGGGTGACCTGCACAAGAGGCAGGAGGTTAGCTGTCTGCTGCTACGGCTAACACACAGGCTCTCCTCATGGGGCTTGGGGAGGTGGATAAATTACTGTTCCTAATGTTTTTAGTGTGACTGAAGTGCTGGCCACTCAGTCACTCGTTTGCCCTTTCACTCATTCATTCATTCCTTCATTCAGTGATATATGAAGTGCCCACCGTGAGCCAGAGTGAGACGCTTTCCTGAGATCCCAGGATTTCTTAAACAAAATACACAAAGCACTTACGTAAAAGATCGATACACTGATTGCATTAAAATTAAGAACTTCTGTTTATCAAAAATTCCTTCAAGAAAATGAAGACAAGCTACAAACTGGGAGAAGATATTTCCAACATGTGTAATTGAAAAAACATTAATATTAATTATATATATATATGTGTACGTATATAATGTGTATATATGTGTGTGTGTGTATGTATATTTTCATATTTAAAACCAGACATCATTAATGCAAAGATAAATGCACCAATCAGAAAGTGAACAAAAATATAGAAACAGACATTTCACAAGAGAGAAAATATAGCTGGCCAATAAACATTTGAAGAAAAACCCAACTTAATTAGTAATTAGGTTAAGTGAAAAAAAGCAAGTACCGGAAGACTACATGCAGCATGATATTCTTTCTCAAAATAAAGGCTAGAAAATCAGATAAGATAAATAATATGCTCTGAGGCATCCATGTAGATATAACACAGCTATTTTCAGAGAAGGAATGATCAGCACTAACTTCTGTAGAAGTTTATAGGCACATGCAAGTTAGTTTGCTAGTTCCTGGGTGGCATGGTGGATTCATGGGAGTGCCTTGTGTTGTTAAAAATAAAGAAACTAGGCCTGGTTTGGTGGCTCATGCCTGAATCCCAACATTTTGGGAGGCTGAGAAGGAGGATTGCTTGAGCCCAGAAGTTTGAGACCAGCCTGGACAACGTGGTGAAACCCGTCTCTACAAAAATACAAAAATTAGCTGGGTGTGGTGGTGCACACCTGTGGTCCCAGCTACTTGGCAGCCTGAGGTGGGAGGTACACTTGAGGCCAGGAGGTCAAAGCTGCAATAAGCCGAGATCACCCCACTGTACTCCAGTCTTGGTGATAGAGTGAGACCCTGTCTCAAAAAAATAAATAAATAAAATAAAGAAACTAAAAATAACAACAATGATGATAATAATAATAATAGACTAGGCACAGTGGTTTACACCTGTATTCCCAGCACTTTGGGAGGCCGAGGCAGGCAGATCACTTGAGGTCAGGAGTTGAAGATCAGCCTGGCCAACATGGCGAAACCTCGCCTCTACTAAAAATACAAAATTAGGCCCGGTGCGGTGGCTCACACCTGTAATCCCTGCACTTTGGGAGGCGAGGTGGGTGGATCACCTGAGGTCAGGAGTTCGAGGCCAGCCTGGCCAACATGGCGAAACCCTGTCTCTACTAAAAAAAAAAGAAAAAGAAAAAATTAGCCAGACGTGGTGGCGGGTGCCAGTAATCCCAGCTACTTGGGAGGCTGAGGGAGGAGAATTGCTTAAACCCCGGTAGGCAGAAGTTGCAGCGAGCCGAGATCACACCACTGCACTCCAGCCTGGGTGAAACGCTCTCTCAAAAAAAAAAAAAAAAAAAAAAAAAAAAAAAAGTCAGGAATGGTGGCATGCGCCTGTAATCCCAGCTACTTAGGAGGATGAGAATCACTTGAACCTGGGAGGCAGAGGCTGCAGTGAGCCAAGATAGTGCTACTGCACTCCAGCCTGGGCAACAGAGCTAGACTCTGTCTCAAAAAAATAGTAATAATAATAGCAAAAGAGGGCCAGGCATGGCTGGCGAGTCATGAACCCAGGCGTGGCATTCCTCAAATTATGTGCACCTAAAGTCTGCGAAGGGAAACAAACAAGAATTCAAAAAGCAAGACACCCCGGGGGTTCTCTGTCCTTCCTTCCCTGCACTCAGTCTGCGTCCTGAGCAGCAACAGTGCTGACCCCATAAGCCTCGGCCAGCAGGTAAGGGTCACCTTCTCTTCCCTGCACTGAGGTTCCCAATGGAGACCAGGAAGTGAAGTGATTTCTAAGGGTTTCCTGTGAGGTCAGGAATCAAGATGGAATCATTGCCTCATCCTCTGTTAACCAGAAAATTCTCTAAGCCAAACCCTCCCATAGCCTCTGGTCTCTTCACTCAGCCGAGGGTTCCCTTGTGTTTAGAGGGCAAGGTGGGCTCTGTTTCCTCCCACTGGGATGGAGGAGTCAGAAAACTCACCTTACCCCGTTTGCCCCCGACAGTGCCACGTTACAAAAGTTGCCCAACTTCCTTAAATAATCCTGTCACTTCCTCCTCATTTGCCTCTGACGCATGAGAGCCTGGGAAACCCCAAGTCGCTTGCTGTAGGGCCTGCAGGAGGGCCTCCACCCCGACCCTGCACAGGACAGGGGAAGGGAGAACACCCAGGGAACTGAATCTTGAAACGCACAAAGGGAACACCGTACGGCCGTCTTTTCAAGGCCATTTCCCACAGAGAGCGTGCAAAAATAAGTGTCCTGGCTGGAGAGCACATTCCAGCTCCAAAGGCTCTGTTCCTTTTACTTTCTCCCGCGATTACTCTTATTTTTCTGCAGCTCAACAAGGACGGTCCGCTGATGTGAGCATCTTGTGATTTCTCCCCCAGCGCAGCCTGCCTGGCAGC',\n",
       "  'C://Users//proko//Desktop//University//iv//aks//datasets\\\\dna\\\\dna.50MB',\n",
       "  <DataSets.dna: 'dna'>)]"
      ]
     },
     "execution_count": 7,
     "metadata": {},
     "output_type": "execute_result"
    }
   ],
   "source": [
    "test_datasets"
   ]
  },
  {
   "cell_type": "code",
   "execution_count": 8,
   "metadata": {},
   "outputs": [],
   "source": [
    "data_test, data_path, data_type = test_datasets[0]"
   ]
  },
  {
   "cell_type": "code",
   "execution_count": 9,
   "metadata": {},
   "outputs": [],
   "source": [
    "def filter_func(dic):\n",
    "    items = list(filter(lambda x: x[1] > 1, dic.items()))\n",
    "    res = dict(items)\n",
    "    return res"
   ]
  },
  {
   "cell_type": "code",
   "execution_count": 10,
   "metadata": {},
   "outputs": [],
   "source": [
    "def find_k_grams_freq(data, max_size_k=2, filter_func=filter_func):\n",
    "    \n",
    "    kgrams_dic = {}\n",
    "\n",
    "    for k in range(2, max_size_k+1):\n",
    "\n",
    "        for i in range(len(data) - k):\n",
    "\n",
    "            n_gram = data[i:i+k]\n",
    "            \n",
    "            kgrams_dic[n_gram] = kgrams_dic.get(n_gram, 0) + 1\n",
    "    \n",
    "    return filter_func(kgrams_dic)"
   ]
  },
  {
   "cell_type": "code",
   "execution_count": 11,
   "metadata": {},
   "outputs": [
    {
     "data": {
      "text/plain": [
       "{'GA': 586,\n",
       " 'AT': 716,\n",
       " 'TC': 616,\n",
       " 'CA': 968,\n",
       " 'AA': 879,\n",
       " 'TG': 705,\n",
       " 'AG': 702,\n",
       " 'GG': 558,\n",
       " 'GT': 475,\n",
       " 'AC': 640,\n",
       " 'CC': 751,\n",
       " 'GC': 468,\n",
       " 'CG': 122,\n",
       " 'CT': 634,\n",
       " 'TT': 674,\n",
       " 'TA': 504}"
      ]
     },
     "execution_count": 11,
     "metadata": {},
     "output_type": "execute_result"
    }
   ],
   "source": [
    "find_k_grams_freq(data_test)"
   ]
  },
  {
   "cell_type": "code",
   "execution_count": 12,
   "metadata": {},
   "outputs": [],
   "source": [
    "import math\n",
    "from collections import Counter\n",
    "\n",
    "def calc_freq(content):\n",
    "    c = Counter(list(content))\n",
    "    return c\n",
    "\n",
    "def calc_p(counter, n):\n",
    "    counter = dict(counter)\n",
    "    res = {}\n",
    "    for k, v in counter.items():\n",
    "        res[k] = v / n  \n",
    "    return res\n",
    "\n",
    "def get_n(counter):\n",
    "    counter = dict(counter)\n",
    "    return np.sum(list(counter.values()))\n",
    "\n",
    "def calc_H(p):\n",
    "    H = 0\n",
    "    for k, v in p.items():\n",
    "        #Shannon equation!\n",
    "        H += p[k] * math.log2(p[k])\n",
    "    return -H\n",
    "\n",
    "def calc_entropy_for_message(message):\n",
    "    counter = calc_freq(message)\n",
    "    n = get_n(counter)\n",
    "    p = calc_p(counter, n)\n",
    "    H = calc_H(p)\n",
    "    return H"
   ]
  },
  {
   "cell_type": "code",
   "execution_count": 13,
   "metadata": {},
   "outputs": [
    {
     "data": {
      "text/plain": [
       "1.9895772725667296"
      ]
     },
     "execution_count": 13,
     "metadata": {},
     "output_type": "execute_result"
    }
   ],
   "source": [
    "calc_entropy_for_message(data_test)"
   ]
  },
  {
   "cell_type": "code",
   "execution_count": 14,
   "metadata": {},
   "outputs": [],
   "source": [
    "def diff_entropy(message1, message2):\n",
    "    message1_entropy = calc_entropy_for_message(message1)\n",
    "    message2_entropy = calc_entropy_for_message(message2)\n",
    "    message_1_entropy_size = message1_entropy * len(message1)\n",
    "    message_2_entropy_size = message2_entropy * len(message2)\n",
    "\n",
    "\n",
    "    diff = message_1_entropy_size - message_2_entropy_size\n",
    "    #print(f'{round(message1_entropy, 2)} * {len(message1)} < {round(message2_entropy, 2)} * {len(message2)} ... {diff}')\n",
    "    return diff"
   ]
  },
  {
   "cell_type": "code",
   "execution_count": 15,
   "metadata": {},
   "outputs": [
    {
     "data": {
      "text/plain": [
       "0.0"
      ]
     },
     "execution_count": 15,
     "metadata": {},
     "output_type": "execute_result"
    }
   ],
   "source": [
    "diff_entropy(data_test, data_test)"
   ]
  },
  {
   "cell_type": "code",
   "execution_count": 16,
   "metadata": {},
   "outputs": [],
   "source": [
    "all_chars_uni = tuple(chr(i) for i in range(32, 0x110000) if chr(i).isprintable())"
   ]
  },
  {
   "cell_type": "code",
   "execution_count": 17,
   "metadata": {},
   "outputs": [],
   "source": [
    "all_chars_ascii = list(range(0, 256))\n",
    "all_chars_ascii = [chr(ascii_char) for ascii_char in all_chars_ascii]"
   ]
  },
  {
   "cell_type": "code",
   "execution_count": 18,
   "metadata": {},
   "outputs": [],
   "source": [
    "def find_not_existing_character(current_alpahbet, gen_chars=all_chars_uni):\n",
    "    can_use = set(gen_chars).difference(set(current_alpahbet))\n",
    "    ascii_picked_char = random.choice(list(can_use))\n",
    "    return ascii_picked_char"
   ]
  },
  {
   "cell_type": "code",
   "execution_count": 19,
   "metadata": {},
   "outputs": [
    {
     "data": {
      "text/plain": [
       "'𫜊'"
      ]
     },
     "execution_count": 19,
     "metadata": {},
     "output_type": "execute_result"
    }
   ],
   "source": [
    "find_not_existing_character(['A', 'C', 'G', 'T'])"
   ]
  },
  {
   "cell_type": "code",
   "execution_count": 20,
   "metadata": {},
   "outputs": [],
   "source": [
    "def transform_message(message, ngram_for_replace):\n",
    "    current_alphabet_size = np.unique(list(message))\n",
    "\n",
    "    #print('Alphabet size', len(current_alphabet_size))\n",
    "\n",
    "    replace_character = find_not_existing_character(current_alphabet_size)\n",
    "    \n",
    "    return message.replace(ngram_for_replace, replace_character), replace_character"
   ]
  },
  {
   "cell_type": "code",
   "execution_count": 21,
   "metadata": {},
   "outputs": [],
   "source": [
    "def calculate_for_ngrams_diff(ngrams, message, method_entropy=diff_entropy, init_message=None):\n",
    "    res = {}\n",
    "    \n",
    "    for k, v in ngrams.items():\n",
    "        res[k] = {\n",
    "            \"Counter\": v,\n",
    "            #message - current\n",
    "            #message - next message\n",
    "            #\"Diff\": method_entropy(init_message, transform_message(message, k)[0])\n",
    "            \"Diff\": method_entropy(message, transform_message(message, k)[0])\n",
    "        }\n",
    "    return res"
   ]
  },
  {
   "cell_type": "code",
   "execution_count": 22,
   "metadata": {},
   "outputs": [
    {
     "data": {
      "text/html": [
       "<div>\n",
       "<style scoped>\n",
       "    .dataframe tbody tr th:only-of-type {\n",
       "        vertical-align: middle;\n",
       "    }\n",
       "\n",
       "    .dataframe tbody tr th {\n",
       "        vertical-align: top;\n",
       "    }\n",
       "\n",
       "    .dataframe thead th {\n",
       "        text-align: right;\n",
       "    }\n",
       "</style>\n",
       "<table border=\"1\" class=\"dataframe\">\n",
       "  <thead>\n",
       "    <tr style=\"text-align: right;\">\n",
       "      <th></th>\n",
       "      <th>Counter</th>\n",
       "      <th>Diff</th>\n",
       "    </tr>\n",
       "  </thead>\n",
       "  <tbody>\n",
       "    <tr>\n",
       "      <th>GA</th>\n",
       "      <td>586</td>\n",
       "      <td>-686.909129</td>\n",
       "    </tr>\n",
       "    <tr>\n",
       "      <th>AT</th>\n",
       "      <td>716</td>\n",
       "      <td>-794.272380</td>\n",
       "    </tr>\n",
       "    <tr>\n",
       "      <th>TC</th>\n",
       "      <td>616</td>\n",
       "      <td>-679.714642</td>\n",
       "    </tr>\n",
       "    <tr>\n",
       "      <th>CA</th>\n",
       "      <td>968</td>\n",
       "      <td>-488.571041</td>\n",
       "    </tr>\n",
       "    <tr>\n",
       "      <th>AA</th>\n",
       "      <td>879</td>\n",
       "      <td>-753.006409</td>\n",
       "    </tr>\n",
       "    <tr>\n",
       "      <th>TG</th>\n",
       "      <td>705</td>\n",
       "      <td>-393.334248</td>\n",
       "    </tr>\n",
       "    <tr>\n",
       "      <th>AG</th>\n",
       "      <td>702</td>\n",
       "      <td>-586.882909</td>\n",
       "    </tr>\n",
       "    <tr>\n",
       "      <th>GG</th>\n",
       "      <td>558</td>\n",
       "      <td>-314.800226</td>\n",
       "    </tr>\n",
       "    <tr>\n",
       "      <th>GT</th>\n",
       "      <td>475</td>\n",
       "      <td>-611.867113</td>\n",
       "    </tr>\n",
       "    <tr>\n",
       "      <th>AC</th>\n",
       "      <td>640</td>\n",
       "      <td>-831.446036</td>\n",
       "    </tr>\n",
       "    <tr>\n",
       "      <th>CC</th>\n",
       "      <td>751</td>\n",
       "      <td>-415.725768</td>\n",
       "    </tr>\n",
       "    <tr>\n",
       "      <th>GC</th>\n",
       "      <td>468</td>\n",
       "      <td>-607.678057</td>\n",
       "    </tr>\n",
       "    <tr>\n",
       "      <th>CG</th>\n",
       "      <td>122</td>\n",
       "      <td>-421.589100</td>\n",
       "    </tr>\n",
       "    <tr>\n",
       "      <th>CT</th>\n",
       "      <td>634</td>\n",
       "      <td>-666.101564</td>\n",
       "    </tr>\n",
       "    <tr>\n",
       "      <th>TT</th>\n",
       "      <td>674</td>\n",
       "      <td>-552.683862</td>\n",
       "    </tr>\n",
       "    <tr>\n",
       "      <th>TA</th>\n",
       "      <td>504</td>\n",
       "      <td>-873.944409</td>\n",
       "    </tr>\n",
       "  </tbody>\n",
       "</table>\n",
       "</div>"
      ],
      "text/plain": [
       "    Counter        Diff\n",
       "GA      586 -686.909129\n",
       "AT      716 -794.272380\n",
       "TC      616 -679.714642\n",
       "CA      968 -488.571041\n",
       "AA      879 -753.006409\n",
       "TG      705 -393.334248\n",
       "AG      702 -586.882909\n",
       "GG      558 -314.800226\n",
       "GT      475 -611.867113\n",
       "AC      640 -831.446036\n",
       "CC      751 -415.725768\n",
       "GC      468 -607.678057\n",
       "CG      122 -421.589100\n",
       "CT      634 -666.101564\n",
       "TT      674 -552.683862\n",
       "TA      504 -873.944409"
      ]
     },
     "execution_count": 22,
     "metadata": {},
     "output_type": "execute_result"
    }
   ],
   "source": [
    "r = calculate_for_ngrams_diff(\n",
    "        find_k_grams_freq(data_test),\n",
    "        data_test,\n",
    "        diff_entropy,\n",
    "        data_test\n",
    "    )\n",
    "\n",
    "pd.DataFrame.from_dict(\n",
    "    r, \n",
    "    orient=\"index\"\n",
    ")"
   ]
  },
  {
   "cell_type": "code",
   "execution_count": 23,
   "metadata": {},
   "outputs": [
    {
     "data": {
      "text/plain": [
       "{'GA': {'Counter': 586, 'Diff': -686.9091292880221},\n",
       " 'AT': {'Counter': 716, 'Diff': -794.2723799380256},\n",
       " 'TC': {'Counter': 616, 'Diff': -679.7146417421354},\n",
       " 'CA': {'Counter': 968, 'Diff': -488.5710412647459},\n",
       " 'AA': {'Counter': 879, 'Diff': -753.0064090554151},\n",
       " 'TG': {'Counter': 705, 'Diff': -393.33424757568355},\n",
       " 'AG': {'Counter': 702, 'Diff': -586.882908578893},\n",
       " 'GG': {'Counter': 558, 'Diff': -314.80022619213923},\n",
       " 'GT': {'Counter': 475, 'Diff': -611.8671131922092},\n",
       " 'AC': {'Counter': 640, 'Diff': -831.4460359297373},\n",
       " 'CC': {'Counter': 751, 'Diff': -415.72576803416814},\n",
       " 'GC': {'Counter': 468, 'Diff': -607.6780573412434},\n",
       " 'CG': {'Counter': 122, 'Diff': -421.589100361467},\n",
       " 'CT': {'Counter': 634, 'Diff': -666.1015642405691},\n",
       " 'TT': {'Counter': 674, 'Diff': -552.6838623637159},\n",
       " 'TA': {'Counter': 504, 'Diff': -873.9444092367921}}"
      ]
     },
     "execution_count": 23,
     "metadata": {},
     "output_type": "execute_result"
    }
   ],
   "source": [
    "r"
   ]
  },
  {
   "cell_type": "code",
   "execution_count": 24,
   "metadata": {},
   "outputs": [
    {
     "data": {
      "text/plain": [
       "dict_items([('GA', {'Counter': 586, 'Diff': -686.9091292880221}), ('AT', {'Counter': 716, 'Diff': -794.2723799380256}), ('TC', {'Counter': 616, 'Diff': -679.7146417421354}), ('CA', {'Counter': 968, 'Diff': -488.5710412647459}), ('AA', {'Counter': 879, 'Diff': -753.0064090554151}), ('TG', {'Counter': 705, 'Diff': -393.33424757568355}), ('AG', {'Counter': 702, 'Diff': -586.882908578893}), ('GG', {'Counter': 558, 'Diff': -314.80022619213923}), ('GT', {'Counter': 475, 'Diff': -611.8671131922092}), ('AC', {'Counter': 640, 'Diff': -831.4460359297373}), ('CC', {'Counter': 751, 'Diff': -415.72576803416814}), ('GC', {'Counter': 468, 'Diff': -607.6780573412434}), ('CG', {'Counter': 122, 'Diff': -421.589100361467}), ('CT', {'Counter': 634, 'Diff': -666.1015642405691}), ('TT', {'Counter': 674, 'Diff': -552.6838623637159}), ('TA', {'Counter': 504, 'Diff': -873.9444092367921})])"
      ]
     },
     "execution_count": 24,
     "metadata": {},
     "output_type": "execute_result"
    }
   ],
   "source": [
    "r.items()"
   ]
  },
  {
   "cell_type": "code",
   "execution_count": 25,
   "metadata": {},
   "outputs": [],
   "source": [
    "def pick_largest(items):\n",
    "    return list(sorted(items, key=lambda x: x[1]['Diff']))[0]\n",
    "\n",
    "def pick_random(items):\n",
    "    return random.choice(items)\n",
    "\n",
    "def pick_only_decreasing(dic, pick_method=pick_largest):\n",
    "    items = dic.items()\n",
    "\n",
    "    decreasing_items = list(filter(lambda x: x[1]['Diff'] < 0, items))\n",
    "\n",
    "    if len(decreasing_items) == 0:\n",
    "        return None\n",
    "\n",
    "    return pick_method(decreasing_items)    "
   ]
  },
  {
   "cell_type": "code",
   "execution_count": 26,
   "metadata": {},
   "outputs": [
    {
     "data": {
      "text/plain": [
       "('TA', {'Counter': 504, 'Diff': -873.9444092367921})"
      ]
     },
     "execution_count": 26,
     "metadata": {},
     "output_type": "execute_result"
    }
   ],
   "source": [
    "pick_only_decreasing(r, pick_largest)"
   ]
  },
  {
   "cell_type": "markdown",
   "metadata": {},
   "source": [
    "# Algorithm implementation - Reduction paradox"
   ]
  },
  {
   "cell_type": "code",
   "execution_count": 27,
   "metadata": {},
   "outputs": [],
   "source": [
    "class TableFields(Enum):\n",
    "    Rule = \"Rule\"\n",
    "    EntropyMove = \"EntropyMove\"\n",
    "    CurrentEntropy = \"CurrentEntropy\"\n",
    "    EntropySize = \"EntropySize\"\n",
    "    DataType = \"DataType\"\n",
    "    DescriptionData = \"DescriptionData\"\n",
    "    MessageSize = \"MessageSize\"\n",
    "    AlphabetSize = \"AlphabetSize\"\n",
    "    GrammaticSize = \"GrammaticSize\"\n",
    "    CalcTime = \"CalcTime\"\n"
   ]
  },
  {
   "cell_type": "code",
   "execution_count": 28,
   "metadata": {},
   "outputs": [],
   "source": [
    "def create_value(message_0, message_1, diff, replace_character, n_gram, grammatic, tic, type_data=None, description_data=None):\n",
    "    new_message_alphabet_size = len(np.unique(list(message_1)))\n",
    "    new_message_size = len(message_1)\n",
    "    new_message_entropy = calc_entropy_for_message(message_1)\n",
    "\n",
    "    new_rule = f\"{n_gram} -> {replace_character}\"\n",
    "    grammatic[n_gram] = replace_character\n",
    "\n",
    "    tac = time.time()\n",
    "    \n",
    "    return {\n",
    "        TableFields.Rule.value: new_rule,\n",
    "        TableFields.EntropyMove.value: diff,\n",
    "        TableFields.CurrentEntropy.value: new_message_entropy,\n",
    "        TableFields.EntropySize.value: new_message_entropy * new_message_size,\n",
    "        TableFields.DataType.value: type_data,\n",
    "        TableFields.DescriptionData.value: description_data,\n",
    "        TableFields.MessageSize.value: new_message_size,\n",
    "        TableFields.AlphabetSize.value: new_message_alphabet_size,\n",
    "        TableFields.GrammaticSize.value: len(list(grammatic.keys())),\n",
    "        TableFields.CalcTime.value: tac - tic,\n",
    "    }\n"
   ]
  },
  {
   "cell_type": "code",
   "execution_count": 29,
   "metadata": {},
   "outputs": [],
   "source": [
    "def algorithm_step(init_message, message, grammatic, type_data=None, description_data=None, tic=None, heuristics_method=pick_largest, optimized=False):\n",
    "    #Find ngrams\n",
    "    n_grams = find_k_grams_freq(message)\n",
    "    \n",
    "    #optimized = diff_entropy change pls use formula\n",
    "\n",
    "    diff_table = calculate_for_ngrams_diff(\n",
    "        n_grams,\n",
    "        message,\n",
    "        diff_entropy,\n",
    "        init_message\n",
    "    )\n",
    "\n",
    "    picked = pick_only_decreasing(diff_table, heuristics_method)\n",
    "    print(picked)\n",
    "\n",
    "    if picked is None:\n",
    "        return None\n",
    "\n",
    "    #('AT', {'Counter': 867, 'Diff': -0.2814694848677286})\n",
    "    n_gram, dic_values = picked\n",
    "    transformed_message, replace_character = transform_message(message, n_gram)\n",
    "    \n",
    "    return transformed_message, create_value(message, transformed_message, dic_values['Diff'], replace_character, n_gram, grammatic, tic, type_data, description_data)\n"
   ]
  },
  {
   "cell_type": "code",
   "execution_count": 30,
   "metadata": {},
   "outputs": [],
   "source": [
    "def algorithm(message, type_data=None, description_data=None, limit_step=None, heuristic_method=pick_largest, optimized=False):\n",
    "    init_message = message\n",
    "\n",
    "    res = {}\n",
    "    grammatic = {}\n",
    "    step = 0\n",
    "#message_0, message_1, diff, replace_character, n_gram, grammatic, tic, type_data=None, description_data=None\n",
    "    step_value = create_value(init_message, init_message, 0, \"\", \"\", grammatic, time.time(), type_data)\n",
    "\n",
    "    res[step] = step_value\n",
    "    step += 1\n",
    "\n",
    "    while True:\n",
    "        tic = time.time()\n",
    "        if limit_step is not None and limit_step == step:\n",
    "            break\n",
    "        step_value = algorithm_step(init_message, message, grammatic, type_data, description_data, tic, heuristic_method, optimized)\n",
    "        print(step, len(message))\n",
    "        print('\\n')\n",
    "        if step_value is None:\n",
    "            break\n",
    "\n",
    "        else:\n",
    "            transformed_message, value = step_value\n",
    "            message = transformed_message\n",
    "\n",
    "            step += 1\n",
    "            res[step] = value\n",
    "\n",
    "    return res"
   ]
  },
  {
   "cell_type": "markdown",
   "metadata": {},
   "source": [
    "## Testing data"
   ]
  },
  {
   "cell_type": "code",
   "execution_count": 31,
   "metadata": {},
   "outputs": [
    {
     "name": "stdout",
     "output_type": "stream",
     "text": [
      "('TA', {'Counter': 504, 'Diff': -873.9444092367921})\n",
      "1 10000\n",
      "\n",
      "\n",
      "('AC', {'Counter': 544, 'Diff': -739.9214842923175})\n",
      "2 9496\n",
      "\n",
      "\n",
      "('GT', {'Counter': 386, 'Diff': -560.4334175307667})\n",
      "3 8952\n",
      "\n",
      "\n",
      "('CA', {'Counter': 542, 'Diff': -372.54555005118164})\n",
      "4 8566\n",
      "\n",
      "\n",
      "('AT', {'Counter': 274, 'Diff': -317.46880517862155})\n",
      "5 8024\n",
      "\n",
      "\n",
      "('GC', {'Counter': 344, 'Diff': -326.1923034041829})\n",
      "6 7750\n",
      "\n",
      "\n",
      "('TG', {'Counter': 280, 'Diff': -266.60311892627215})\n",
      "7 7405\n",
      "\n",
      "\n",
      "('CG', {'Counter': 38, 'Diff': -131.08959485316518})\n",
      "8 7125\n",
      "\n",
      "\n",
      "('𗝸T', {'Counter': 66, 'Diff': -106.07417463021557})\n",
      "9 7087\n",
      "\n",
      "\n",
      "('G𐋥', {'Counter': 59, 'Diff': -97.77619238536136})\n",
      "10 7021\n",
      "\n",
      "\n",
      "('𭛿A', {'Counter': 106, 'Diff': -93.8192535860253})\n",
      "11 6962\n",
      "\n",
      "\n",
      "('A𗝸', {'Counter': 65, 'Diff': -87.73675945264404})\n",
      "12 6856\n",
      "\n",
      "\n",
      "('𐋥C', {'Counter': 54, 'Diff': -86.7758646814109})\n",
      "13 6791\n",
      "\n",
      "\n",
      "('CT', {'Counter': 231, 'Diff': -85.43774104089971})\n",
      "14 6737\n",
      "\n",
      "\n",
      "('G𭛿', {'Counter': 81, 'Diff': -76.51381828860758})\n",
      "15 6506\n",
      "\n",
      "\n",
      "('𗝸A', {'Counter': 64, 'Diff': -72.762703708755})\n",
      "16 6425\n",
      "\n",
      "\n",
      "('𐋥G', {'Counter': 58, 'Diff': -70.71230447693961})\n",
      "17 6361\n",
      "\n",
      "\n",
      "('A𘥗', {'Counter': 60, 'Diff': -63.16633408465714})\n",
      "18 6303\n",
      "\n",
      "\n",
      "('G𗝸', {'Counter': 53, 'Diff': -59.03865809130366})\n",
      "19 6243\n",
      "\n",
      "\n"
     ]
    }
   ],
   "source": [
    "test_result = algorithm(data_test, limit_step=20)"
   ]
  },
  {
   "cell_type": "code",
   "execution_count": 32,
   "metadata": {},
   "outputs": [
    {
     "data": {
      "text/html": [
       "<div>\n",
       "<style scoped>\n",
       "    .dataframe tbody tr th:only-of-type {\n",
       "        vertical-align: middle;\n",
       "    }\n",
       "\n",
       "    .dataframe tbody tr th {\n",
       "        vertical-align: top;\n",
       "    }\n",
       "\n",
       "    .dataframe thead th {\n",
       "        text-align: right;\n",
       "    }\n",
       "</style>\n",
       "<table border=\"1\" class=\"dataframe\">\n",
       "  <thead>\n",
       "    <tr style=\"text-align: right;\">\n",
       "      <th></th>\n",
       "      <th>Rule</th>\n",
       "      <th>EntropyMove</th>\n",
       "      <th>CurrentEntropy</th>\n",
       "      <th>EntropySize</th>\n",
       "      <th>DataType</th>\n",
       "      <th>DescriptionData</th>\n",
       "      <th>MessageSize</th>\n",
       "      <th>AlphabetSize</th>\n",
       "      <th>GrammaticSize</th>\n",
       "      <th>CalcTime</th>\n",
       "    </tr>\n",
       "  </thead>\n",
       "  <tbody>\n",
       "    <tr>\n",
       "      <th>0</th>\n",
       "      <td>-&gt;</td>\n",
       "      <td>0.000000</td>\n",
       "      <td>1.989577</td>\n",
       "      <td>19895.772726</td>\n",
       "      <td>None</td>\n",
       "      <td>None</td>\n",
       "      <td>10000</td>\n",
       "      <td>4</td>\n",
       "      <td>1</td>\n",
       "      <td>0.007998</td>\n",
       "    </tr>\n",
       "    <tr>\n",
       "      <th>2</th>\n",
       "      <td>TA -&gt; 𐋥</td>\n",
       "      <td>-873.944409</td>\n",
       "      <td>2.187207</td>\n",
       "      <td>20769.717135</td>\n",
       "      <td>None</td>\n",
       "      <td>None</td>\n",
       "      <td>9496</td>\n",
       "      <td>5</td>\n",
       "      <td>2</td>\n",
       "      <td>0.445476</td>\n",
       "    </tr>\n",
       "    <tr>\n",
       "      <th>3</th>\n",
       "      <td>AC -&gt; 𗝸</td>\n",
       "      <td>-739.921484</td>\n",
       "      <td>2.402775</td>\n",
       "      <td>21509.638619</td>\n",
       "      <td>None</td>\n",
       "      <td>None</td>\n",
       "      <td>8952</td>\n",
       "      <td>6</td>\n",
       "      <td>3</td>\n",
       "      <td>0.607649</td>\n",
       "    </tr>\n",
       "    <tr>\n",
       "      <th>4</th>\n",
       "      <td>GT -&gt; 𘥗</td>\n",
       "      <td>-560.433418</td>\n",
       "      <td>2.576474</td>\n",
       "      <td>22070.072037</td>\n",
       "      <td>None</td>\n",
       "      <td>None</td>\n",
       "      <td>8566</td>\n",
       "      <td>7</td>\n",
       "      <td>4</td>\n",
       "      <td>0.891332</td>\n",
       "    </tr>\n",
       "    <tr>\n",
       "      <th>5</th>\n",
       "      <td>CA -&gt; 𭛿</td>\n",
       "      <td>-372.545550</td>\n",
       "      <td>2.796936</td>\n",
       "      <td>22442.617587</td>\n",
       "      <td>None</td>\n",
       "      <td>None</td>\n",
       "      <td>8024</td>\n",
       "      <td>8</td>\n",
       "      <td>5</td>\n",
       "      <td>1.008617</td>\n",
       "    </tr>\n",
       "    <tr>\n",
       "      <th>6</th>\n",
       "      <td>AT -&gt; 𐫅</td>\n",
       "      <td>-317.468805</td>\n",
       "      <td>2.936785</td>\n",
       "      <td>22760.086392</td>\n",
       "      <td>None</td>\n",
       "      <td>None</td>\n",
       "      <td>7750</td>\n",
       "      <td>9</td>\n",
       "      <td>6</td>\n",
       "      <td>1.427192</td>\n",
       "    </tr>\n",
       "    <tr>\n",
       "      <th>7</th>\n",
       "      <td>GC -&gt; 𐚣</td>\n",
       "      <td>-326.192303</td>\n",
       "      <td>3.117661</td>\n",
       "      <td>23086.278695</td>\n",
       "      <td>None</td>\n",
       "      <td>None</td>\n",
       "      <td>7405</td>\n",
       "      <td>10</td>\n",
       "      <td>7</td>\n",
       "      <td>1.715136</td>\n",
       "    </tr>\n",
       "    <tr>\n",
       "      <th>8</th>\n",
       "      <td>TG -&gt; 𐠞</td>\n",
       "      <td>-266.603119</td>\n",
       "      <td>3.277597</td>\n",
       "      <td>23352.881814</td>\n",
       "      <td>None</td>\n",
       "      <td>None</td>\n",
       "      <td>7125</td>\n",
       "      <td>11</td>\n",
       "      <td>8</td>\n",
       "      <td>1.948813</td>\n",
       "    </tr>\n",
       "    <tr>\n",
       "      <th>9</th>\n",
       "      <td>CG -&gt; 𒈡</td>\n",
       "      <td>-131.089595</td>\n",
       "      <td>3.313669</td>\n",
       "      <td>23483.971409</td>\n",
       "      <td>None</td>\n",
       "      <td>None</td>\n",
       "      <td>7087</td>\n",
       "      <td>12</td>\n",
       "      <td>9</td>\n",
       "      <td>2.283151</td>\n",
       "    </tr>\n",
       "    <tr>\n",
       "      <th>10</th>\n",
       "      <td>𗝸T -&gt; 疢</td>\n",
       "      <td>-106.074175</td>\n",
       "      <td>3.359927</td>\n",
       "      <td>23590.045584</td>\n",
       "      <td>None</td>\n",
       "      <td>None</td>\n",
       "      <td>7021</td>\n",
       "      <td>13</td>\n",
       "      <td>10</td>\n",
       "      <td>2.516385</td>\n",
       "    </tr>\n",
       "    <tr>\n",
       "      <th>11</th>\n",
       "      <td>G𐋥 -&gt; 𗛔</td>\n",
       "      <td>-97.776192</td>\n",
       "      <td>3.402445</td>\n",
       "      <td>23687.821776</td>\n",
       "      <td>None</td>\n",
       "      <td>None</td>\n",
       "      <td>6962</td>\n",
       "      <td>14</td>\n",
       "      <td>11</td>\n",
       "      <td>2.956849</td>\n",
       "    </tr>\n",
       "    <tr>\n",
       "      <th>12</th>\n",
       "      <td>𭛿A -&gt; 𣱈</td>\n",
       "      <td>-93.819254</td>\n",
       "      <td>3.468734</td>\n",
       "      <td>23781.641030</td>\n",
       "      <td>None</td>\n",
       "      <td>None</td>\n",
       "      <td>6856</td>\n",
       "      <td>15</td>\n",
       "      <td>12</td>\n",
       "      <td>3.609007</td>\n",
       "    </tr>\n",
       "    <tr>\n",
       "      <th>13</th>\n",
       "      <td>A𗝸 -&gt; 鴐</td>\n",
       "      <td>-87.736759</td>\n",
       "      <td>3.514855</td>\n",
       "      <td>23869.377789</td>\n",
       "      <td>None</td>\n",
       "      <td>None</td>\n",
       "      <td>6791</td>\n",
       "      <td>16</td>\n",
       "      <td>13</td>\n",
       "      <td>3.599214</td>\n",
       "    </tr>\n",
       "    <tr>\n",
       "      <th>14</th>\n",
       "      <td>𐋥C -&gt; 𡯨</td>\n",
       "      <td>-86.775865</td>\n",
       "      <td>3.555908</td>\n",
       "      <td>23956.153654</td>\n",
       "      <td>None</td>\n",
       "      <td>None</td>\n",
       "      <td>6737</td>\n",
       "      <td>17</td>\n",
       "      <td>14</td>\n",
       "      <td>4.041777</td>\n",
       "    </tr>\n",
       "    <tr>\n",
       "      <th>15</th>\n",
       "      <td>CT -&gt; 𦅎</td>\n",
       "      <td>-85.437741</td>\n",
       "      <td>3.695295</td>\n",
       "      <td>24041.591395</td>\n",
       "      <td>None</td>\n",
       "      <td>None</td>\n",
       "      <td>6506</td>\n",
       "      <td>18</td>\n",
       "      <td>15</td>\n",
       "      <td>4.131982</td>\n",
       "    </tr>\n",
       "    <tr>\n",
       "      <th>16</th>\n",
       "      <td>G𭛿 -&gt; 籣</td>\n",
       "      <td>-76.513818</td>\n",
       "      <td>3.753791</td>\n",
       "      <td>24118.105213</td>\n",
       "      <td>None</td>\n",
       "      <td>None</td>\n",
       "      <td>6425</td>\n",
       "      <td>19</td>\n",
       "      <td>16</td>\n",
       "      <td>4.632703</td>\n",
       "    </tr>\n",
       "    <tr>\n",
       "      <th>17</th>\n",
       "      <td>𗝸A -&gt; Ȳ</td>\n",
       "      <td>-72.762704</td>\n",
       "      <td>3.802998</td>\n",
       "      <td>24190.867917</td>\n",
       "      <td>None</td>\n",
       "      <td>None</td>\n",
       "      <td>6361</td>\n",
       "      <td>20</td>\n",
       "      <td>17</td>\n",
       "      <td>4.991392</td>\n",
       "    </tr>\n",
       "    <tr>\n",
       "      <th>18</th>\n",
       "      <td>𐋥G -&gt; 𭞉</td>\n",
       "      <td>-70.712304</td>\n",
       "      <td>3.849212</td>\n",
       "      <td>24261.580221</td>\n",
       "      <td>None</td>\n",
       "      <td>None</td>\n",
       "      <td>6303</td>\n",
       "      <td>21</td>\n",
       "      <td>18</td>\n",
       "      <td>5.507484</td>\n",
       "    </tr>\n",
       "    <tr>\n",
       "      <th>19</th>\n",
       "      <td>A𘥗 -&gt; 碟</td>\n",
       "      <td>-63.166334</td>\n",
       "      <td>3.896323</td>\n",
       "      <td>24324.746555</td>\n",
       "      <td>None</td>\n",
       "      <td>None</td>\n",
       "      <td>6243</td>\n",
       "      <td>22</td>\n",
       "      <td>19</td>\n",
       "      <td>5.757760</td>\n",
       "    </tr>\n",
       "    <tr>\n",
       "      <th>20</th>\n",
       "      <td>G𗝸 -&gt; ަ</td>\n",
       "      <td>-59.038658</td>\n",
       "      <td>3.939222</td>\n",
       "      <td>24383.785214</td>\n",
       "      <td>None</td>\n",
       "      <td>None</td>\n",
       "      <td>6190</td>\n",
       "      <td>23</td>\n",
       "      <td>20</td>\n",
       "      <td>5.998480</td>\n",
       "    </tr>\n",
       "  </tbody>\n",
       "</table>\n",
       "</div>"
      ],
      "text/plain": [
       "       Rule  EntropyMove  CurrentEntropy   EntropySize DataType  \\\n",
       "0       ->      0.000000        1.989577  19895.772726     None   \n",
       "2   TA -> 𐋥  -873.944409        2.187207  20769.717135     None   \n",
       "3   AC -> 𗝸  -739.921484        2.402775  21509.638619     None   \n",
       "4   GT -> 𘥗  -560.433418        2.576474  22070.072037     None   \n",
       "5   CA -> 𭛿  -372.545550        2.796936  22442.617587     None   \n",
       "6   AT -> 𐫅  -317.468805        2.936785  22760.086392     None   \n",
       "7   GC -> 𐚣  -326.192303        3.117661  23086.278695     None   \n",
       "8   TG -> 𐠞  -266.603119        3.277597  23352.881814     None   \n",
       "9   CG -> 𒈡  -131.089595        3.313669  23483.971409     None   \n",
       "10  𗝸T -> 疢  -106.074175        3.359927  23590.045584     None   \n",
       "11  G𐋥 -> 𗛔   -97.776192        3.402445  23687.821776     None   \n",
       "12  𭛿A -> 𣱈   -93.819254        3.468734  23781.641030     None   \n",
       "13  A𗝸 -> 鴐   -87.736759        3.514855  23869.377789     None   \n",
       "14  𐋥C -> 𡯨   -86.775865        3.555908  23956.153654     None   \n",
       "15  CT -> 𦅎   -85.437741        3.695295  24041.591395     None   \n",
       "16  G𭛿 -> 籣   -76.513818        3.753791  24118.105213     None   \n",
       "17  𗝸A -> Ȳ   -72.762704        3.802998  24190.867917     None   \n",
       "18  𐋥G -> 𭞉   -70.712304        3.849212  24261.580221     None   \n",
       "19  A𘥗 -> 碟   -63.166334        3.896323  24324.746555     None   \n",
       "20  G𗝸 -> ަ   -59.038658        3.939222  24383.785214     None   \n",
       "\n",
       "   DescriptionData  MessageSize  AlphabetSize  GrammaticSize  CalcTime  \n",
       "0             None        10000             4              1  0.007998  \n",
       "2             None         9496             5              2  0.445476  \n",
       "3             None         8952             6              3  0.607649  \n",
       "4             None         8566             7              4  0.891332  \n",
       "5             None         8024             8              5  1.008617  \n",
       "6             None         7750             9              6  1.427192  \n",
       "7             None         7405            10              7  1.715136  \n",
       "8             None         7125            11              8  1.948813  \n",
       "9             None         7087            12              9  2.283151  \n",
       "10            None         7021            13             10  2.516385  \n",
       "11            None         6962            14             11  2.956849  \n",
       "12            None         6856            15             12  3.609007  \n",
       "13            None         6791            16             13  3.599214  \n",
       "14            None         6737            17             14  4.041777  \n",
       "15            None         6506            18             15  4.131982  \n",
       "16            None         6425            19             16  4.632703  \n",
       "17            None         6361            20             17  4.991392  \n",
       "18            None         6303            21             18  5.507484  \n",
       "19            None         6243            22             19  5.757760  \n",
       "20            None         6190            23             20  5.998480  "
      ]
     },
     "execution_count": 32,
     "metadata": {},
     "output_type": "execute_result"
    }
   ],
   "source": [
    "df = pd.DataFrame.from_dict(test_result, orient=\"index\")\n",
    "df"
   ]
  },
  {
   "cell_type": "code",
   "execution_count": 33,
   "metadata": {},
   "outputs": [
    {
     "data": {
      "application/vnd.plotly.v1+json": {
       "config": {
        "plotlyServerURL": "https://plot.ly"
       },
       "data": [
        {
         "hovertemplate": "index=%{x}<br>EntropyMove=%{y}<br>text=%{text}<extra></extra>",
         "legendgroup": "",
         "line": {
          "color": "#636efa",
          "dash": "solid"
         },
         "marker": {
          "symbol": "circle"
         },
         "mode": "markers+text+lines",
         "name": "",
         "orientation": "v",
         "showlegend": false,
         "text": [
          "0.0",
          "-873.9",
          "-739.9",
          "-560.4",
          "-372.5",
          "-317.5",
          "-326.2",
          "-266.6",
          "-131.1",
          "-106.1",
          "-97.8",
          "-93.8",
          "-87.7",
          "-86.8",
          "-85.4",
          "-76.5",
          "-72.8",
          "-70.7",
          "-63.2",
          "-59.0"
         ],
         "type": "scatter",
         "x": [
          0,
          2,
          3,
          4,
          5,
          6,
          7,
          8,
          9,
          10,
          11,
          12,
          13,
          14,
          15,
          16,
          17,
          18,
          19,
          20
         ],
         "xaxis": "x",
         "y": [
          0,
          -873.9444092367921,
          -739.9214842923175,
          -560.4334175307667,
          -372.54555005118164,
          -317.46880517862155,
          -326.1923034041829,
          -266.60311892627215,
          -131.08959485316518,
          -106.07417463021557,
          -97.77619238536136,
          -93.8192535860253,
          -87.73675945264404,
          -86.7758646814109,
          -85.43774104089971,
          -76.51381828860758,
          -72.762703708755,
          -70.71230447693961,
          -63.16633408465714,
          -59.03865809130366
         ],
         "yaxis": "y"
        }
       ],
       "layout": {
        "legend": {
         "tracegroupgap": 0
        },
        "template": {
         "data": {
          "bar": [
           {
            "error_x": {
             "color": "#2a3f5f"
            },
            "error_y": {
             "color": "#2a3f5f"
            },
            "marker": {
             "line": {
              "color": "#E5ECF6",
              "width": 0.5
             },
             "pattern": {
              "fillmode": "overlay",
              "size": 10,
              "solidity": 0.2
             }
            },
            "type": "bar"
           }
          ],
          "barpolar": [
           {
            "marker": {
             "line": {
              "color": "#E5ECF6",
              "width": 0.5
             },
             "pattern": {
              "fillmode": "overlay",
              "size": 10,
              "solidity": 0.2
             }
            },
            "type": "barpolar"
           }
          ],
          "carpet": [
           {
            "aaxis": {
             "endlinecolor": "#2a3f5f",
             "gridcolor": "white",
             "linecolor": "white",
             "minorgridcolor": "white",
             "startlinecolor": "#2a3f5f"
            },
            "baxis": {
             "endlinecolor": "#2a3f5f",
             "gridcolor": "white",
             "linecolor": "white",
             "minorgridcolor": "white",
             "startlinecolor": "#2a3f5f"
            },
            "type": "carpet"
           }
          ],
          "choropleth": [
           {
            "colorbar": {
             "outlinewidth": 0,
             "ticks": ""
            },
            "type": "choropleth"
           }
          ],
          "contour": [
           {
            "colorbar": {
             "outlinewidth": 0,
             "ticks": ""
            },
            "colorscale": [
             [
              0,
              "#0d0887"
             ],
             [
              0.1111111111111111,
              "#46039f"
             ],
             [
              0.2222222222222222,
              "#7201a8"
             ],
             [
              0.3333333333333333,
              "#9c179e"
             ],
             [
              0.4444444444444444,
              "#bd3786"
             ],
             [
              0.5555555555555556,
              "#d8576b"
             ],
             [
              0.6666666666666666,
              "#ed7953"
             ],
             [
              0.7777777777777778,
              "#fb9f3a"
             ],
             [
              0.8888888888888888,
              "#fdca26"
             ],
             [
              1,
              "#f0f921"
             ]
            ],
            "type": "contour"
           }
          ],
          "contourcarpet": [
           {
            "colorbar": {
             "outlinewidth": 0,
             "ticks": ""
            },
            "type": "contourcarpet"
           }
          ],
          "heatmap": [
           {
            "colorbar": {
             "outlinewidth": 0,
             "ticks": ""
            },
            "colorscale": [
             [
              0,
              "#0d0887"
             ],
             [
              0.1111111111111111,
              "#46039f"
             ],
             [
              0.2222222222222222,
              "#7201a8"
             ],
             [
              0.3333333333333333,
              "#9c179e"
             ],
             [
              0.4444444444444444,
              "#bd3786"
             ],
             [
              0.5555555555555556,
              "#d8576b"
             ],
             [
              0.6666666666666666,
              "#ed7953"
             ],
             [
              0.7777777777777778,
              "#fb9f3a"
             ],
             [
              0.8888888888888888,
              "#fdca26"
             ],
             [
              1,
              "#f0f921"
             ]
            ],
            "type": "heatmap"
           }
          ],
          "heatmapgl": [
           {
            "colorbar": {
             "outlinewidth": 0,
             "ticks": ""
            },
            "colorscale": [
             [
              0,
              "#0d0887"
             ],
             [
              0.1111111111111111,
              "#46039f"
             ],
             [
              0.2222222222222222,
              "#7201a8"
             ],
             [
              0.3333333333333333,
              "#9c179e"
             ],
             [
              0.4444444444444444,
              "#bd3786"
             ],
             [
              0.5555555555555556,
              "#d8576b"
             ],
             [
              0.6666666666666666,
              "#ed7953"
             ],
             [
              0.7777777777777778,
              "#fb9f3a"
             ],
             [
              0.8888888888888888,
              "#fdca26"
             ],
             [
              1,
              "#f0f921"
             ]
            ],
            "type": "heatmapgl"
           }
          ],
          "histogram": [
           {
            "marker": {
             "pattern": {
              "fillmode": "overlay",
              "size": 10,
              "solidity": 0.2
             }
            },
            "type": "histogram"
           }
          ],
          "histogram2d": [
           {
            "colorbar": {
             "outlinewidth": 0,
             "ticks": ""
            },
            "colorscale": [
             [
              0,
              "#0d0887"
             ],
             [
              0.1111111111111111,
              "#46039f"
             ],
             [
              0.2222222222222222,
              "#7201a8"
             ],
             [
              0.3333333333333333,
              "#9c179e"
             ],
             [
              0.4444444444444444,
              "#bd3786"
             ],
             [
              0.5555555555555556,
              "#d8576b"
             ],
             [
              0.6666666666666666,
              "#ed7953"
             ],
             [
              0.7777777777777778,
              "#fb9f3a"
             ],
             [
              0.8888888888888888,
              "#fdca26"
             ],
             [
              1,
              "#f0f921"
             ]
            ],
            "type": "histogram2d"
           }
          ],
          "histogram2dcontour": [
           {
            "colorbar": {
             "outlinewidth": 0,
             "ticks": ""
            },
            "colorscale": [
             [
              0,
              "#0d0887"
             ],
             [
              0.1111111111111111,
              "#46039f"
             ],
             [
              0.2222222222222222,
              "#7201a8"
             ],
             [
              0.3333333333333333,
              "#9c179e"
             ],
             [
              0.4444444444444444,
              "#bd3786"
             ],
             [
              0.5555555555555556,
              "#d8576b"
             ],
             [
              0.6666666666666666,
              "#ed7953"
             ],
             [
              0.7777777777777778,
              "#fb9f3a"
             ],
             [
              0.8888888888888888,
              "#fdca26"
             ],
             [
              1,
              "#f0f921"
             ]
            ],
            "type": "histogram2dcontour"
           }
          ],
          "mesh3d": [
           {
            "colorbar": {
             "outlinewidth": 0,
             "ticks": ""
            },
            "type": "mesh3d"
           }
          ],
          "parcoords": [
           {
            "line": {
             "colorbar": {
              "outlinewidth": 0,
              "ticks": ""
             }
            },
            "type": "parcoords"
           }
          ],
          "pie": [
           {
            "automargin": true,
            "type": "pie"
           }
          ],
          "scatter": [
           {
            "marker": {
             "colorbar": {
              "outlinewidth": 0,
              "ticks": ""
             }
            },
            "type": "scatter"
           }
          ],
          "scatter3d": [
           {
            "line": {
             "colorbar": {
              "outlinewidth": 0,
              "ticks": ""
             }
            },
            "marker": {
             "colorbar": {
              "outlinewidth": 0,
              "ticks": ""
             }
            },
            "type": "scatter3d"
           }
          ],
          "scattercarpet": [
           {
            "marker": {
             "colorbar": {
              "outlinewidth": 0,
              "ticks": ""
             }
            },
            "type": "scattercarpet"
           }
          ],
          "scattergeo": [
           {
            "marker": {
             "colorbar": {
              "outlinewidth": 0,
              "ticks": ""
             }
            },
            "type": "scattergeo"
           }
          ],
          "scattergl": [
           {
            "marker": {
             "colorbar": {
              "outlinewidth": 0,
              "ticks": ""
             }
            },
            "type": "scattergl"
           }
          ],
          "scattermapbox": [
           {
            "marker": {
             "colorbar": {
              "outlinewidth": 0,
              "ticks": ""
             }
            },
            "type": "scattermapbox"
           }
          ],
          "scatterpolar": [
           {
            "marker": {
             "colorbar": {
              "outlinewidth": 0,
              "ticks": ""
             }
            },
            "type": "scatterpolar"
           }
          ],
          "scatterpolargl": [
           {
            "marker": {
             "colorbar": {
              "outlinewidth": 0,
              "ticks": ""
             }
            },
            "type": "scatterpolargl"
           }
          ],
          "scatterternary": [
           {
            "marker": {
             "colorbar": {
              "outlinewidth": 0,
              "ticks": ""
             }
            },
            "type": "scatterternary"
           }
          ],
          "surface": [
           {
            "colorbar": {
             "outlinewidth": 0,
             "ticks": ""
            },
            "colorscale": [
             [
              0,
              "#0d0887"
             ],
             [
              0.1111111111111111,
              "#46039f"
             ],
             [
              0.2222222222222222,
              "#7201a8"
             ],
             [
              0.3333333333333333,
              "#9c179e"
             ],
             [
              0.4444444444444444,
              "#bd3786"
             ],
             [
              0.5555555555555556,
              "#d8576b"
             ],
             [
              0.6666666666666666,
              "#ed7953"
             ],
             [
              0.7777777777777778,
              "#fb9f3a"
             ],
             [
              0.8888888888888888,
              "#fdca26"
             ],
             [
              1,
              "#f0f921"
             ]
            ],
            "type": "surface"
           }
          ],
          "table": [
           {
            "cells": {
             "fill": {
              "color": "#EBF0F8"
             },
             "line": {
              "color": "white"
             }
            },
            "header": {
             "fill": {
              "color": "#C8D4E3"
             },
             "line": {
              "color": "white"
             }
            },
            "type": "table"
           }
          ]
         },
         "layout": {
          "annotationdefaults": {
           "arrowcolor": "#2a3f5f",
           "arrowhead": 0,
           "arrowwidth": 1
          },
          "autotypenumbers": "strict",
          "coloraxis": {
           "colorbar": {
            "outlinewidth": 0,
            "ticks": ""
           }
          },
          "colorscale": {
           "diverging": [
            [
             0,
             "#8e0152"
            ],
            [
             0.1,
             "#c51b7d"
            ],
            [
             0.2,
             "#de77ae"
            ],
            [
             0.3,
             "#f1b6da"
            ],
            [
             0.4,
             "#fde0ef"
            ],
            [
             0.5,
             "#f7f7f7"
            ],
            [
             0.6,
             "#e6f5d0"
            ],
            [
             0.7,
             "#b8e186"
            ],
            [
             0.8,
             "#7fbc41"
            ],
            [
             0.9,
             "#4d9221"
            ],
            [
             1,
             "#276419"
            ]
           ],
           "sequential": [
            [
             0,
             "#0d0887"
            ],
            [
             0.1111111111111111,
             "#46039f"
            ],
            [
             0.2222222222222222,
             "#7201a8"
            ],
            [
             0.3333333333333333,
             "#9c179e"
            ],
            [
             0.4444444444444444,
             "#bd3786"
            ],
            [
             0.5555555555555556,
             "#d8576b"
            ],
            [
             0.6666666666666666,
             "#ed7953"
            ],
            [
             0.7777777777777778,
             "#fb9f3a"
            ],
            [
             0.8888888888888888,
             "#fdca26"
            ],
            [
             1,
             "#f0f921"
            ]
           ],
           "sequentialminus": [
            [
             0,
             "#0d0887"
            ],
            [
             0.1111111111111111,
             "#46039f"
            ],
            [
             0.2222222222222222,
             "#7201a8"
            ],
            [
             0.3333333333333333,
             "#9c179e"
            ],
            [
             0.4444444444444444,
             "#bd3786"
            ],
            [
             0.5555555555555556,
             "#d8576b"
            ],
            [
             0.6666666666666666,
             "#ed7953"
            ],
            [
             0.7777777777777778,
             "#fb9f3a"
            ],
            [
             0.8888888888888888,
             "#fdca26"
            ],
            [
             1,
             "#f0f921"
            ]
           ]
          },
          "colorway": [
           "#636efa",
           "#EF553B",
           "#00cc96",
           "#ab63fa",
           "#FFA15A",
           "#19d3f3",
           "#FF6692",
           "#B6E880",
           "#FF97FF",
           "#FECB52"
          ],
          "font": {
           "color": "#2a3f5f"
          },
          "geo": {
           "bgcolor": "white",
           "lakecolor": "white",
           "landcolor": "#E5ECF6",
           "showlakes": true,
           "showland": true,
           "subunitcolor": "white"
          },
          "hoverlabel": {
           "align": "left"
          },
          "hovermode": "closest",
          "mapbox": {
           "style": "light"
          },
          "paper_bgcolor": "white",
          "plot_bgcolor": "#E5ECF6",
          "polar": {
           "angularaxis": {
            "gridcolor": "white",
            "linecolor": "white",
            "ticks": ""
           },
           "bgcolor": "#E5ECF6",
           "radialaxis": {
            "gridcolor": "white",
            "linecolor": "white",
            "ticks": ""
           }
          },
          "scene": {
           "xaxis": {
            "backgroundcolor": "#E5ECF6",
            "gridcolor": "white",
            "gridwidth": 2,
            "linecolor": "white",
            "showbackground": true,
            "ticks": "",
            "zerolinecolor": "white"
           },
           "yaxis": {
            "backgroundcolor": "#E5ECF6",
            "gridcolor": "white",
            "gridwidth": 2,
            "linecolor": "white",
            "showbackground": true,
            "ticks": "",
            "zerolinecolor": "white"
           },
           "zaxis": {
            "backgroundcolor": "#E5ECF6",
            "gridcolor": "white",
            "gridwidth": 2,
            "linecolor": "white",
            "showbackground": true,
            "ticks": "",
            "zerolinecolor": "white"
           }
          },
          "shapedefaults": {
           "line": {
            "color": "#2a3f5f"
           }
          },
          "ternary": {
           "aaxis": {
            "gridcolor": "white",
            "linecolor": "white",
            "ticks": ""
           },
           "baxis": {
            "gridcolor": "white",
            "linecolor": "white",
            "ticks": ""
           },
           "bgcolor": "#E5ECF6",
           "caxis": {
            "gridcolor": "white",
            "linecolor": "white",
            "ticks": ""
           }
          },
          "title": {
           "x": 0.05
          },
          "xaxis": {
           "automargin": true,
           "gridcolor": "white",
           "linecolor": "white",
           "ticks": "",
           "title": {
            "standoff": 15
           },
           "zerolinecolor": "white",
           "zerolinewidth": 2
          },
          "yaxis": {
           "automargin": true,
           "gridcolor": "white",
           "linecolor": "white",
           "ticks": "",
           "title": {
            "standoff": 15
           },
           "zerolinecolor": "white",
           "zerolinewidth": 2
          }
         }
        },
        "title": {
         "text": "Pohyb entropie"
        },
        "xaxis": {
         "anchor": "y",
         "domain": [
          0,
          1
         ],
         "title": {
          "text": "index"
         }
        },
        "yaxis": {
         "anchor": "x",
         "domain": [
          0,
          1
         ],
         "title": {
          "text": "EntropyMove"
         }
        }
       }
      }
     },
     "metadata": {},
     "output_type": "display_data"
    }
   ],
   "source": [
    "fig = px.line(df, x=df.index, y=df.EntropyMove, text=[(\"%.1f\" % x) for x in df.EntropyMove.values], title='Pohyb entropie')\n",
    "fig.show()"
   ]
  },
  {
   "cell_type": "code",
   "execution_count": 34,
   "metadata": {},
   "outputs": [
    {
     "data": {
      "application/vnd.plotly.v1+json": {
       "config": {
        "plotlyServerURL": "https://plot.ly"
       },
       "data": [
        {
         "hovertemplate": "index=%{x}<br>MessageSize=%{text}<extra></extra>",
         "legendgroup": "",
         "line": {
          "color": "#636efa",
          "dash": "solid"
         },
         "marker": {
          "symbol": "circle"
         },
         "mode": "markers+text+lines",
         "name": "",
         "orientation": "v",
         "showlegend": false,
         "text": [
          10000,
          9496,
          8952,
          8566,
          8024,
          7750,
          7405,
          7125,
          7087,
          7021,
          6962,
          6856,
          6791,
          6737,
          6506,
          6425,
          6361,
          6303,
          6243,
          6190
         ],
         "type": "scatter",
         "x": [
          0,
          2,
          3,
          4,
          5,
          6,
          7,
          8,
          9,
          10,
          11,
          12,
          13,
          14,
          15,
          16,
          17,
          18,
          19,
          20
         ],
         "xaxis": "x",
         "y": [
          10000,
          9496,
          8952,
          8566,
          8024,
          7750,
          7405,
          7125,
          7087,
          7021,
          6962,
          6856,
          6791,
          6737,
          6506,
          6425,
          6361,
          6303,
          6243,
          6190
         ],
         "yaxis": "y"
        }
       ],
       "layout": {
        "legend": {
         "tracegroupgap": 0
        },
        "template": {
         "data": {
          "bar": [
           {
            "error_x": {
             "color": "#2a3f5f"
            },
            "error_y": {
             "color": "#2a3f5f"
            },
            "marker": {
             "line": {
              "color": "#E5ECF6",
              "width": 0.5
             },
             "pattern": {
              "fillmode": "overlay",
              "size": 10,
              "solidity": 0.2
             }
            },
            "type": "bar"
           }
          ],
          "barpolar": [
           {
            "marker": {
             "line": {
              "color": "#E5ECF6",
              "width": 0.5
             },
             "pattern": {
              "fillmode": "overlay",
              "size": 10,
              "solidity": 0.2
             }
            },
            "type": "barpolar"
           }
          ],
          "carpet": [
           {
            "aaxis": {
             "endlinecolor": "#2a3f5f",
             "gridcolor": "white",
             "linecolor": "white",
             "minorgridcolor": "white",
             "startlinecolor": "#2a3f5f"
            },
            "baxis": {
             "endlinecolor": "#2a3f5f",
             "gridcolor": "white",
             "linecolor": "white",
             "minorgridcolor": "white",
             "startlinecolor": "#2a3f5f"
            },
            "type": "carpet"
           }
          ],
          "choropleth": [
           {
            "colorbar": {
             "outlinewidth": 0,
             "ticks": ""
            },
            "type": "choropleth"
           }
          ],
          "contour": [
           {
            "colorbar": {
             "outlinewidth": 0,
             "ticks": ""
            },
            "colorscale": [
             [
              0,
              "#0d0887"
             ],
             [
              0.1111111111111111,
              "#46039f"
             ],
             [
              0.2222222222222222,
              "#7201a8"
             ],
             [
              0.3333333333333333,
              "#9c179e"
             ],
             [
              0.4444444444444444,
              "#bd3786"
             ],
             [
              0.5555555555555556,
              "#d8576b"
             ],
             [
              0.6666666666666666,
              "#ed7953"
             ],
             [
              0.7777777777777778,
              "#fb9f3a"
             ],
             [
              0.8888888888888888,
              "#fdca26"
             ],
             [
              1,
              "#f0f921"
             ]
            ],
            "type": "contour"
           }
          ],
          "contourcarpet": [
           {
            "colorbar": {
             "outlinewidth": 0,
             "ticks": ""
            },
            "type": "contourcarpet"
           }
          ],
          "heatmap": [
           {
            "colorbar": {
             "outlinewidth": 0,
             "ticks": ""
            },
            "colorscale": [
             [
              0,
              "#0d0887"
             ],
             [
              0.1111111111111111,
              "#46039f"
             ],
             [
              0.2222222222222222,
              "#7201a8"
             ],
             [
              0.3333333333333333,
              "#9c179e"
             ],
             [
              0.4444444444444444,
              "#bd3786"
             ],
             [
              0.5555555555555556,
              "#d8576b"
             ],
             [
              0.6666666666666666,
              "#ed7953"
             ],
             [
              0.7777777777777778,
              "#fb9f3a"
             ],
             [
              0.8888888888888888,
              "#fdca26"
             ],
             [
              1,
              "#f0f921"
             ]
            ],
            "type": "heatmap"
           }
          ],
          "heatmapgl": [
           {
            "colorbar": {
             "outlinewidth": 0,
             "ticks": ""
            },
            "colorscale": [
             [
              0,
              "#0d0887"
             ],
             [
              0.1111111111111111,
              "#46039f"
             ],
             [
              0.2222222222222222,
              "#7201a8"
             ],
             [
              0.3333333333333333,
              "#9c179e"
             ],
             [
              0.4444444444444444,
              "#bd3786"
             ],
             [
              0.5555555555555556,
              "#d8576b"
             ],
             [
              0.6666666666666666,
              "#ed7953"
             ],
             [
              0.7777777777777778,
              "#fb9f3a"
             ],
             [
              0.8888888888888888,
              "#fdca26"
             ],
             [
              1,
              "#f0f921"
             ]
            ],
            "type": "heatmapgl"
           }
          ],
          "histogram": [
           {
            "marker": {
             "pattern": {
              "fillmode": "overlay",
              "size": 10,
              "solidity": 0.2
             }
            },
            "type": "histogram"
           }
          ],
          "histogram2d": [
           {
            "colorbar": {
             "outlinewidth": 0,
             "ticks": ""
            },
            "colorscale": [
             [
              0,
              "#0d0887"
             ],
             [
              0.1111111111111111,
              "#46039f"
             ],
             [
              0.2222222222222222,
              "#7201a8"
             ],
             [
              0.3333333333333333,
              "#9c179e"
             ],
             [
              0.4444444444444444,
              "#bd3786"
             ],
             [
              0.5555555555555556,
              "#d8576b"
             ],
             [
              0.6666666666666666,
              "#ed7953"
             ],
             [
              0.7777777777777778,
              "#fb9f3a"
             ],
             [
              0.8888888888888888,
              "#fdca26"
             ],
             [
              1,
              "#f0f921"
             ]
            ],
            "type": "histogram2d"
           }
          ],
          "histogram2dcontour": [
           {
            "colorbar": {
             "outlinewidth": 0,
             "ticks": ""
            },
            "colorscale": [
             [
              0,
              "#0d0887"
             ],
             [
              0.1111111111111111,
              "#46039f"
             ],
             [
              0.2222222222222222,
              "#7201a8"
             ],
             [
              0.3333333333333333,
              "#9c179e"
             ],
             [
              0.4444444444444444,
              "#bd3786"
             ],
             [
              0.5555555555555556,
              "#d8576b"
             ],
             [
              0.6666666666666666,
              "#ed7953"
             ],
             [
              0.7777777777777778,
              "#fb9f3a"
             ],
             [
              0.8888888888888888,
              "#fdca26"
             ],
             [
              1,
              "#f0f921"
             ]
            ],
            "type": "histogram2dcontour"
           }
          ],
          "mesh3d": [
           {
            "colorbar": {
             "outlinewidth": 0,
             "ticks": ""
            },
            "type": "mesh3d"
           }
          ],
          "parcoords": [
           {
            "line": {
             "colorbar": {
              "outlinewidth": 0,
              "ticks": ""
             }
            },
            "type": "parcoords"
           }
          ],
          "pie": [
           {
            "automargin": true,
            "type": "pie"
           }
          ],
          "scatter": [
           {
            "marker": {
             "colorbar": {
              "outlinewidth": 0,
              "ticks": ""
             }
            },
            "type": "scatter"
           }
          ],
          "scatter3d": [
           {
            "line": {
             "colorbar": {
              "outlinewidth": 0,
              "ticks": ""
             }
            },
            "marker": {
             "colorbar": {
              "outlinewidth": 0,
              "ticks": ""
             }
            },
            "type": "scatter3d"
           }
          ],
          "scattercarpet": [
           {
            "marker": {
             "colorbar": {
              "outlinewidth": 0,
              "ticks": ""
             }
            },
            "type": "scattercarpet"
           }
          ],
          "scattergeo": [
           {
            "marker": {
             "colorbar": {
              "outlinewidth": 0,
              "ticks": ""
             }
            },
            "type": "scattergeo"
           }
          ],
          "scattergl": [
           {
            "marker": {
             "colorbar": {
              "outlinewidth": 0,
              "ticks": ""
             }
            },
            "type": "scattergl"
           }
          ],
          "scattermapbox": [
           {
            "marker": {
             "colorbar": {
              "outlinewidth": 0,
              "ticks": ""
             }
            },
            "type": "scattermapbox"
           }
          ],
          "scatterpolar": [
           {
            "marker": {
             "colorbar": {
              "outlinewidth": 0,
              "ticks": ""
             }
            },
            "type": "scatterpolar"
           }
          ],
          "scatterpolargl": [
           {
            "marker": {
             "colorbar": {
              "outlinewidth": 0,
              "ticks": ""
             }
            },
            "type": "scatterpolargl"
           }
          ],
          "scatterternary": [
           {
            "marker": {
             "colorbar": {
              "outlinewidth": 0,
              "ticks": ""
             }
            },
            "type": "scatterternary"
           }
          ],
          "surface": [
           {
            "colorbar": {
             "outlinewidth": 0,
             "ticks": ""
            },
            "colorscale": [
             [
              0,
              "#0d0887"
             ],
             [
              0.1111111111111111,
              "#46039f"
             ],
             [
              0.2222222222222222,
              "#7201a8"
             ],
             [
              0.3333333333333333,
              "#9c179e"
             ],
             [
              0.4444444444444444,
              "#bd3786"
             ],
             [
              0.5555555555555556,
              "#d8576b"
             ],
             [
              0.6666666666666666,
              "#ed7953"
             ],
             [
              0.7777777777777778,
              "#fb9f3a"
             ],
             [
              0.8888888888888888,
              "#fdca26"
             ],
             [
              1,
              "#f0f921"
             ]
            ],
            "type": "surface"
           }
          ],
          "table": [
           {
            "cells": {
             "fill": {
              "color": "#EBF0F8"
             },
             "line": {
              "color": "white"
             }
            },
            "header": {
             "fill": {
              "color": "#C8D4E3"
             },
             "line": {
              "color": "white"
             }
            },
            "type": "table"
           }
          ]
         },
         "layout": {
          "annotationdefaults": {
           "arrowcolor": "#2a3f5f",
           "arrowhead": 0,
           "arrowwidth": 1
          },
          "autotypenumbers": "strict",
          "coloraxis": {
           "colorbar": {
            "outlinewidth": 0,
            "ticks": ""
           }
          },
          "colorscale": {
           "diverging": [
            [
             0,
             "#8e0152"
            ],
            [
             0.1,
             "#c51b7d"
            ],
            [
             0.2,
             "#de77ae"
            ],
            [
             0.3,
             "#f1b6da"
            ],
            [
             0.4,
             "#fde0ef"
            ],
            [
             0.5,
             "#f7f7f7"
            ],
            [
             0.6,
             "#e6f5d0"
            ],
            [
             0.7,
             "#b8e186"
            ],
            [
             0.8,
             "#7fbc41"
            ],
            [
             0.9,
             "#4d9221"
            ],
            [
             1,
             "#276419"
            ]
           ],
           "sequential": [
            [
             0,
             "#0d0887"
            ],
            [
             0.1111111111111111,
             "#46039f"
            ],
            [
             0.2222222222222222,
             "#7201a8"
            ],
            [
             0.3333333333333333,
             "#9c179e"
            ],
            [
             0.4444444444444444,
             "#bd3786"
            ],
            [
             0.5555555555555556,
             "#d8576b"
            ],
            [
             0.6666666666666666,
             "#ed7953"
            ],
            [
             0.7777777777777778,
             "#fb9f3a"
            ],
            [
             0.8888888888888888,
             "#fdca26"
            ],
            [
             1,
             "#f0f921"
            ]
           ],
           "sequentialminus": [
            [
             0,
             "#0d0887"
            ],
            [
             0.1111111111111111,
             "#46039f"
            ],
            [
             0.2222222222222222,
             "#7201a8"
            ],
            [
             0.3333333333333333,
             "#9c179e"
            ],
            [
             0.4444444444444444,
             "#bd3786"
            ],
            [
             0.5555555555555556,
             "#d8576b"
            ],
            [
             0.6666666666666666,
             "#ed7953"
            ],
            [
             0.7777777777777778,
             "#fb9f3a"
            ],
            [
             0.8888888888888888,
             "#fdca26"
            ],
            [
             1,
             "#f0f921"
            ]
           ]
          },
          "colorway": [
           "#636efa",
           "#EF553B",
           "#00cc96",
           "#ab63fa",
           "#FFA15A",
           "#19d3f3",
           "#FF6692",
           "#B6E880",
           "#FF97FF",
           "#FECB52"
          ],
          "font": {
           "color": "#2a3f5f"
          },
          "geo": {
           "bgcolor": "white",
           "lakecolor": "white",
           "landcolor": "#E5ECF6",
           "showlakes": true,
           "showland": true,
           "subunitcolor": "white"
          },
          "hoverlabel": {
           "align": "left"
          },
          "hovermode": "closest",
          "mapbox": {
           "style": "light"
          },
          "paper_bgcolor": "white",
          "plot_bgcolor": "#E5ECF6",
          "polar": {
           "angularaxis": {
            "gridcolor": "white",
            "linecolor": "white",
            "ticks": ""
           },
           "bgcolor": "#E5ECF6",
           "radialaxis": {
            "gridcolor": "white",
            "linecolor": "white",
            "ticks": ""
           }
          },
          "scene": {
           "xaxis": {
            "backgroundcolor": "#E5ECF6",
            "gridcolor": "white",
            "gridwidth": 2,
            "linecolor": "white",
            "showbackground": true,
            "ticks": "",
            "zerolinecolor": "white"
           },
           "yaxis": {
            "backgroundcolor": "#E5ECF6",
            "gridcolor": "white",
            "gridwidth": 2,
            "linecolor": "white",
            "showbackground": true,
            "ticks": "",
            "zerolinecolor": "white"
           },
           "zaxis": {
            "backgroundcolor": "#E5ECF6",
            "gridcolor": "white",
            "gridwidth": 2,
            "linecolor": "white",
            "showbackground": true,
            "ticks": "",
            "zerolinecolor": "white"
           }
          },
          "shapedefaults": {
           "line": {
            "color": "#2a3f5f"
           }
          },
          "ternary": {
           "aaxis": {
            "gridcolor": "white",
            "linecolor": "white",
            "ticks": ""
           },
           "baxis": {
            "gridcolor": "white",
            "linecolor": "white",
            "ticks": ""
           },
           "bgcolor": "#E5ECF6",
           "caxis": {
            "gridcolor": "white",
            "linecolor": "white",
            "ticks": ""
           }
          },
          "title": {
           "x": 0.05
          },
          "xaxis": {
           "automargin": true,
           "gridcolor": "white",
           "linecolor": "white",
           "ticks": "",
           "title": {
            "standoff": 15
           },
           "zerolinecolor": "white",
           "zerolinewidth": 2
          },
          "yaxis": {
           "automargin": true,
           "gridcolor": "white",
           "linecolor": "white",
           "ticks": "",
           "title": {
            "standoff": 15
           },
           "zerolinecolor": "white",
           "zerolinewidth": 2
          }
         }
        },
        "title": {
         "text": "Velikost zprávy"
        },
        "xaxis": {
         "anchor": "y",
         "domain": [
          0,
          1
         ],
         "title": {
          "text": "index"
         }
        },
        "yaxis": {
         "anchor": "x",
         "domain": [
          0,
          1
         ],
         "title": {
          "text": "MessageSize"
         }
        }
       }
      }
     },
     "metadata": {},
     "output_type": "display_data"
    }
   ],
   "source": [
    "fig = px.line(df, x=df.index, y=df.MessageSize, text=df.MessageSize, title='Velikost zprávy')\n",
    "fig.show()\n",
    "fig.write_image(\"test.png\")"
   ]
  },
  {
   "cell_type": "code",
   "execution_count": 35,
   "metadata": {},
   "outputs": [
    {
     "data": {
      "application/vnd.plotly.v1+json": {
       "config": {
        "plotlyServerURL": "https://plot.ly"
       },
       "data": [
        {
         "hovertemplate": "variable=MessageSize<br>index=%{x}<br>value=%{y}<extra></extra>",
         "legendgroup": "MessageSize",
         "line": {
          "color": "#636efa",
          "dash": "solid"
         },
         "marker": {
          "symbol": "circle"
         },
         "mode": "lines",
         "name": "MessageSize",
         "orientation": "v",
         "showlegend": true,
         "type": "scatter",
         "x": [
          0,
          2,
          3,
          4,
          5,
          6,
          7,
          8,
          9,
          10,
          11,
          12,
          13,
          14,
          15,
          16,
          17,
          18,
          19,
          20
         ],
         "xaxis": "x",
         "y": [
          10000,
          9496,
          8952,
          8566,
          8024,
          7750,
          7405,
          7125,
          7087,
          7021,
          6962,
          6856,
          6791,
          6737,
          6506,
          6425,
          6361,
          6303,
          6243,
          6190
         ],
         "yaxis": "y"
        },
        {
         "hovertemplate": "variable=EntropySize<br>index=%{x}<br>value=%{y}<extra></extra>",
         "legendgroup": "EntropySize",
         "line": {
          "color": "#EF553B",
          "dash": "solid"
         },
         "marker": {
          "symbol": "circle"
         },
         "mode": "lines",
         "name": "EntropySize",
         "orientation": "v",
         "showlegend": true,
         "type": "scatter",
         "x": [
          0,
          2,
          3,
          4,
          5,
          6,
          7,
          8,
          9,
          10,
          11,
          12,
          13,
          14,
          15,
          16,
          17,
          18,
          19,
          20
         ],
         "xaxis": "x",
         "y": [
          19895.772725667295,
          20769.717134904087,
          21509.638619196405,
          22070.07203672717,
          22442.617586778353,
          22760.086391956975,
          23086.278695361158,
          23352.88181428743,
          23483.971409140595,
          23590.04558377081,
          23687.821776156172,
          23781.641029742197,
          23869.37778919484,
          23956.153653876252,
          24041.59139491715,
          24118.10521320576,
          24190.867916914514,
          24261.580221391454,
          24324.74655547611,
          24383.785213567415
         ],
         "yaxis": "y"
        }
       ],
       "layout": {
        "legend": {
         "title": {
          "text": "variable"
         },
         "tracegroupgap": 0
        },
        "template": {
         "data": {
          "bar": [
           {
            "error_x": {
             "color": "#2a3f5f"
            },
            "error_y": {
             "color": "#2a3f5f"
            },
            "marker": {
             "line": {
              "color": "#E5ECF6",
              "width": 0.5
             },
             "pattern": {
              "fillmode": "overlay",
              "size": 10,
              "solidity": 0.2
             }
            },
            "type": "bar"
           }
          ],
          "barpolar": [
           {
            "marker": {
             "line": {
              "color": "#E5ECF6",
              "width": 0.5
             },
             "pattern": {
              "fillmode": "overlay",
              "size": 10,
              "solidity": 0.2
             }
            },
            "type": "barpolar"
           }
          ],
          "carpet": [
           {
            "aaxis": {
             "endlinecolor": "#2a3f5f",
             "gridcolor": "white",
             "linecolor": "white",
             "minorgridcolor": "white",
             "startlinecolor": "#2a3f5f"
            },
            "baxis": {
             "endlinecolor": "#2a3f5f",
             "gridcolor": "white",
             "linecolor": "white",
             "minorgridcolor": "white",
             "startlinecolor": "#2a3f5f"
            },
            "type": "carpet"
           }
          ],
          "choropleth": [
           {
            "colorbar": {
             "outlinewidth": 0,
             "ticks": ""
            },
            "type": "choropleth"
           }
          ],
          "contour": [
           {
            "colorbar": {
             "outlinewidth": 0,
             "ticks": ""
            },
            "colorscale": [
             [
              0,
              "#0d0887"
             ],
             [
              0.1111111111111111,
              "#46039f"
             ],
             [
              0.2222222222222222,
              "#7201a8"
             ],
             [
              0.3333333333333333,
              "#9c179e"
             ],
             [
              0.4444444444444444,
              "#bd3786"
             ],
             [
              0.5555555555555556,
              "#d8576b"
             ],
             [
              0.6666666666666666,
              "#ed7953"
             ],
             [
              0.7777777777777778,
              "#fb9f3a"
             ],
             [
              0.8888888888888888,
              "#fdca26"
             ],
             [
              1,
              "#f0f921"
             ]
            ],
            "type": "contour"
           }
          ],
          "contourcarpet": [
           {
            "colorbar": {
             "outlinewidth": 0,
             "ticks": ""
            },
            "type": "contourcarpet"
           }
          ],
          "heatmap": [
           {
            "colorbar": {
             "outlinewidth": 0,
             "ticks": ""
            },
            "colorscale": [
             [
              0,
              "#0d0887"
             ],
             [
              0.1111111111111111,
              "#46039f"
             ],
             [
              0.2222222222222222,
              "#7201a8"
             ],
             [
              0.3333333333333333,
              "#9c179e"
             ],
             [
              0.4444444444444444,
              "#bd3786"
             ],
             [
              0.5555555555555556,
              "#d8576b"
             ],
             [
              0.6666666666666666,
              "#ed7953"
             ],
             [
              0.7777777777777778,
              "#fb9f3a"
             ],
             [
              0.8888888888888888,
              "#fdca26"
             ],
             [
              1,
              "#f0f921"
             ]
            ],
            "type": "heatmap"
           }
          ],
          "heatmapgl": [
           {
            "colorbar": {
             "outlinewidth": 0,
             "ticks": ""
            },
            "colorscale": [
             [
              0,
              "#0d0887"
             ],
             [
              0.1111111111111111,
              "#46039f"
             ],
             [
              0.2222222222222222,
              "#7201a8"
             ],
             [
              0.3333333333333333,
              "#9c179e"
             ],
             [
              0.4444444444444444,
              "#bd3786"
             ],
             [
              0.5555555555555556,
              "#d8576b"
             ],
             [
              0.6666666666666666,
              "#ed7953"
             ],
             [
              0.7777777777777778,
              "#fb9f3a"
             ],
             [
              0.8888888888888888,
              "#fdca26"
             ],
             [
              1,
              "#f0f921"
             ]
            ],
            "type": "heatmapgl"
           }
          ],
          "histogram": [
           {
            "marker": {
             "pattern": {
              "fillmode": "overlay",
              "size": 10,
              "solidity": 0.2
             }
            },
            "type": "histogram"
           }
          ],
          "histogram2d": [
           {
            "colorbar": {
             "outlinewidth": 0,
             "ticks": ""
            },
            "colorscale": [
             [
              0,
              "#0d0887"
             ],
             [
              0.1111111111111111,
              "#46039f"
             ],
             [
              0.2222222222222222,
              "#7201a8"
             ],
             [
              0.3333333333333333,
              "#9c179e"
             ],
             [
              0.4444444444444444,
              "#bd3786"
             ],
             [
              0.5555555555555556,
              "#d8576b"
             ],
             [
              0.6666666666666666,
              "#ed7953"
             ],
             [
              0.7777777777777778,
              "#fb9f3a"
             ],
             [
              0.8888888888888888,
              "#fdca26"
             ],
             [
              1,
              "#f0f921"
             ]
            ],
            "type": "histogram2d"
           }
          ],
          "histogram2dcontour": [
           {
            "colorbar": {
             "outlinewidth": 0,
             "ticks": ""
            },
            "colorscale": [
             [
              0,
              "#0d0887"
             ],
             [
              0.1111111111111111,
              "#46039f"
             ],
             [
              0.2222222222222222,
              "#7201a8"
             ],
             [
              0.3333333333333333,
              "#9c179e"
             ],
             [
              0.4444444444444444,
              "#bd3786"
             ],
             [
              0.5555555555555556,
              "#d8576b"
             ],
             [
              0.6666666666666666,
              "#ed7953"
             ],
             [
              0.7777777777777778,
              "#fb9f3a"
             ],
             [
              0.8888888888888888,
              "#fdca26"
             ],
             [
              1,
              "#f0f921"
             ]
            ],
            "type": "histogram2dcontour"
           }
          ],
          "mesh3d": [
           {
            "colorbar": {
             "outlinewidth": 0,
             "ticks": ""
            },
            "type": "mesh3d"
           }
          ],
          "parcoords": [
           {
            "line": {
             "colorbar": {
              "outlinewidth": 0,
              "ticks": ""
             }
            },
            "type": "parcoords"
           }
          ],
          "pie": [
           {
            "automargin": true,
            "type": "pie"
           }
          ],
          "scatter": [
           {
            "marker": {
             "colorbar": {
              "outlinewidth": 0,
              "ticks": ""
             }
            },
            "type": "scatter"
           }
          ],
          "scatter3d": [
           {
            "line": {
             "colorbar": {
              "outlinewidth": 0,
              "ticks": ""
             }
            },
            "marker": {
             "colorbar": {
              "outlinewidth": 0,
              "ticks": ""
             }
            },
            "type": "scatter3d"
           }
          ],
          "scattercarpet": [
           {
            "marker": {
             "colorbar": {
              "outlinewidth": 0,
              "ticks": ""
             }
            },
            "type": "scattercarpet"
           }
          ],
          "scattergeo": [
           {
            "marker": {
             "colorbar": {
              "outlinewidth": 0,
              "ticks": ""
             }
            },
            "type": "scattergeo"
           }
          ],
          "scattergl": [
           {
            "marker": {
             "colorbar": {
              "outlinewidth": 0,
              "ticks": ""
             }
            },
            "type": "scattergl"
           }
          ],
          "scattermapbox": [
           {
            "marker": {
             "colorbar": {
              "outlinewidth": 0,
              "ticks": ""
             }
            },
            "type": "scattermapbox"
           }
          ],
          "scatterpolar": [
           {
            "marker": {
             "colorbar": {
              "outlinewidth": 0,
              "ticks": ""
             }
            },
            "type": "scatterpolar"
           }
          ],
          "scatterpolargl": [
           {
            "marker": {
             "colorbar": {
              "outlinewidth": 0,
              "ticks": ""
             }
            },
            "type": "scatterpolargl"
           }
          ],
          "scatterternary": [
           {
            "marker": {
             "colorbar": {
              "outlinewidth": 0,
              "ticks": ""
             }
            },
            "type": "scatterternary"
           }
          ],
          "surface": [
           {
            "colorbar": {
             "outlinewidth": 0,
             "ticks": ""
            },
            "colorscale": [
             [
              0,
              "#0d0887"
             ],
             [
              0.1111111111111111,
              "#46039f"
             ],
             [
              0.2222222222222222,
              "#7201a8"
             ],
             [
              0.3333333333333333,
              "#9c179e"
             ],
             [
              0.4444444444444444,
              "#bd3786"
             ],
             [
              0.5555555555555556,
              "#d8576b"
             ],
             [
              0.6666666666666666,
              "#ed7953"
             ],
             [
              0.7777777777777778,
              "#fb9f3a"
             ],
             [
              0.8888888888888888,
              "#fdca26"
             ],
             [
              1,
              "#f0f921"
             ]
            ],
            "type": "surface"
           }
          ],
          "table": [
           {
            "cells": {
             "fill": {
              "color": "#EBF0F8"
             },
             "line": {
              "color": "white"
             }
            },
            "header": {
             "fill": {
              "color": "#C8D4E3"
             },
             "line": {
              "color": "white"
             }
            },
            "type": "table"
           }
          ]
         },
         "layout": {
          "annotationdefaults": {
           "arrowcolor": "#2a3f5f",
           "arrowhead": 0,
           "arrowwidth": 1
          },
          "autotypenumbers": "strict",
          "coloraxis": {
           "colorbar": {
            "outlinewidth": 0,
            "ticks": ""
           }
          },
          "colorscale": {
           "diverging": [
            [
             0,
             "#8e0152"
            ],
            [
             0.1,
             "#c51b7d"
            ],
            [
             0.2,
             "#de77ae"
            ],
            [
             0.3,
             "#f1b6da"
            ],
            [
             0.4,
             "#fde0ef"
            ],
            [
             0.5,
             "#f7f7f7"
            ],
            [
             0.6,
             "#e6f5d0"
            ],
            [
             0.7,
             "#b8e186"
            ],
            [
             0.8,
             "#7fbc41"
            ],
            [
             0.9,
             "#4d9221"
            ],
            [
             1,
             "#276419"
            ]
           ],
           "sequential": [
            [
             0,
             "#0d0887"
            ],
            [
             0.1111111111111111,
             "#46039f"
            ],
            [
             0.2222222222222222,
             "#7201a8"
            ],
            [
             0.3333333333333333,
             "#9c179e"
            ],
            [
             0.4444444444444444,
             "#bd3786"
            ],
            [
             0.5555555555555556,
             "#d8576b"
            ],
            [
             0.6666666666666666,
             "#ed7953"
            ],
            [
             0.7777777777777778,
             "#fb9f3a"
            ],
            [
             0.8888888888888888,
             "#fdca26"
            ],
            [
             1,
             "#f0f921"
            ]
           ],
           "sequentialminus": [
            [
             0,
             "#0d0887"
            ],
            [
             0.1111111111111111,
             "#46039f"
            ],
            [
             0.2222222222222222,
             "#7201a8"
            ],
            [
             0.3333333333333333,
             "#9c179e"
            ],
            [
             0.4444444444444444,
             "#bd3786"
            ],
            [
             0.5555555555555556,
             "#d8576b"
            ],
            [
             0.6666666666666666,
             "#ed7953"
            ],
            [
             0.7777777777777778,
             "#fb9f3a"
            ],
            [
             0.8888888888888888,
             "#fdca26"
            ],
            [
             1,
             "#f0f921"
            ]
           ]
          },
          "colorway": [
           "#636efa",
           "#EF553B",
           "#00cc96",
           "#ab63fa",
           "#FFA15A",
           "#19d3f3",
           "#FF6692",
           "#B6E880",
           "#FF97FF",
           "#FECB52"
          ],
          "font": {
           "color": "#2a3f5f"
          },
          "geo": {
           "bgcolor": "white",
           "lakecolor": "white",
           "landcolor": "#E5ECF6",
           "showlakes": true,
           "showland": true,
           "subunitcolor": "white"
          },
          "hoverlabel": {
           "align": "left"
          },
          "hovermode": "closest",
          "mapbox": {
           "style": "light"
          },
          "paper_bgcolor": "white",
          "plot_bgcolor": "#E5ECF6",
          "polar": {
           "angularaxis": {
            "gridcolor": "white",
            "linecolor": "white",
            "ticks": ""
           },
           "bgcolor": "#E5ECF6",
           "radialaxis": {
            "gridcolor": "white",
            "linecolor": "white",
            "ticks": ""
           }
          },
          "scene": {
           "xaxis": {
            "backgroundcolor": "#E5ECF6",
            "gridcolor": "white",
            "gridwidth": 2,
            "linecolor": "white",
            "showbackground": true,
            "ticks": "",
            "zerolinecolor": "white"
           },
           "yaxis": {
            "backgroundcolor": "#E5ECF6",
            "gridcolor": "white",
            "gridwidth": 2,
            "linecolor": "white",
            "showbackground": true,
            "ticks": "",
            "zerolinecolor": "white"
           },
           "zaxis": {
            "backgroundcolor": "#E5ECF6",
            "gridcolor": "white",
            "gridwidth": 2,
            "linecolor": "white",
            "showbackground": true,
            "ticks": "",
            "zerolinecolor": "white"
           }
          },
          "shapedefaults": {
           "line": {
            "color": "#2a3f5f"
           }
          },
          "ternary": {
           "aaxis": {
            "gridcolor": "white",
            "linecolor": "white",
            "ticks": ""
           },
           "baxis": {
            "gridcolor": "white",
            "linecolor": "white",
            "ticks": ""
           },
           "bgcolor": "#E5ECF6",
           "caxis": {
            "gridcolor": "white",
            "linecolor": "white",
            "ticks": ""
           }
          },
          "title": {
           "x": 0.05
          },
          "xaxis": {
           "automargin": true,
           "gridcolor": "white",
           "linecolor": "white",
           "ticks": "",
           "title": {
            "standoff": 15
           },
           "zerolinecolor": "white",
           "zerolinewidth": 2
          },
          "yaxis": {
           "automargin": true,
           "gridcolor": "white",
           "linecolor": "white",
           "ticks": "",
           "title": {
            "standoff": 15
           },
           "zerolinecolor": "white",
           "zerolinewidth": 2
          }
         }
        },
        "title": {
         "text": "Velikost zprávy proti aktuální entropii"
        },
        "xaxis": {
         "anchor": "y",
         "domain": [
          0,
          1
         ],
         "title": {
          "text": "index"
         }
        },
        "yaxis": {
         "anchor": "x",
         "domain": [
          0,
          1
         ],
         "title": {
          "text": "value"
         }
        }
       }
      }
     },
     "metadata": {},
     "output_type": "display_data"
    }
   ],
   "source": [
    "fig = px.line(df, x=df.index, y=[df.MessageSize, df.EntropySize], title='Velikost zprávy proti aktuální entropii')\n",
    "fig.show()"
   ]
  },
  {
   "cell_type": "code",
   "execution_count": 36,
   "metadata": {},
   "outputs": [
    {
     "data": {
      "application/vnd.plotly.v1+json": {
       "config": {
        "plotlyServerURL": "https://plot.ly"
       },
       "data": [
        {
         "hovertemplate": "index=%{x}<br>EntropySize=%{y}<br>text=%{text}<extra></extra>",
         "legendgroup": "",
         "line": {
          "color": "#636efa",
          "dash": "solid"
         },
         "marker": {
          "symbol": "circle"
         },
         "mode": "markers+text+lines",
         "name": "",
         "orientation": "v",
         "showlegend": false,
         "text": [
          "19896",
          "20770",
          "21510",
          "22070",
          "22443",
          "22760",
          "23086",
          "23353",
          "23484",
          "23590",
          "23688",
          "23782",
          "23869",
          "23956",
          "24042",
          "24118",
          "24191",
          "24262",
          "24325",
          "24384"
         ],
         "textposition": "top center",
         "type": "scatter",
         "x": [
          0,
          2,
          3,
          4,
          5,
          6,
          7,
          8,
          9,
          10,
          11,
          12,
          13,
          14,
          15,
          16,
          17,
          18,
          19,
          20
         ],
         "xaxis": "x",
         "y": [
          19895.772725667295,
          20769.717134904087,
          21509.638619196405,
          22070.07203672717,
          22442.617586778353,
          22760.086391956975,
          23086.278695361158,
          23352.88181428743,
          23483.971409140595,
          23590.04558377081,
          23687.821776156172,
          23781.641029742197,
          23869.37778919484,
          23956.153653876252,
          24041.59139491715,
          24118.10521320576,
          24190.867916914514,
          24261.580221391454,
          24324.74655547611,
          24383.785213567415
         ],
         "yaxis": "y"
        }
       ],
       "layout": {
        "legend": {
         "tracegroupgap": 0
        },
        "template": {
         "data": {
          "bar": [
           {
            "error_x": {
             "color": "#2a3f5f"
            },
            "error_y": {
             "color": "#2a3f5f"
            },
            "marker": {
             "line": {
              "color": "#E5ECF6",
              "width": 0.5
             },
             "pattern": {
              "fillmode": "overlay",
              "size": 10,
              "solidity": 0.2
             }
            },
            "type": "bar"
           }
          ],
          "barpolar": [
           {
            "marker": {
             "line": {
              "color": "#E5ECF6",
              "width": 0.5
             },
             "pattern": {
              "fillmode": "overlay",
              "size": 10,
              "solidity": 0.2
             }
            },
            "type": "barpolar"
           }
          ],
          "carpet": [
           {
            "aaxis": {
             "endlinecolor": "#2a3f5f",
             "gridcolor": "white",
             "linecolor": "white",
             "minorgridcolor": "white",
             "startlinecolor": "#2a3f5f"
            },
            "baxis": {
             "endlinecolor": "#2a3f5f",
             "gridcolor": "white",
             "linecolor": "white",
             "minorgridcolor": "white",
             "startlinecolor": "#2a3f5f"
            },
            "type": "carpet"
           }
          ],
          "choropleth": [
           {
            "colorbar": {
             "outlinewidth": 0,
             "ticks": ""
            },
            "type": "choropleth"
           }
          ],
          "contour": [
           {
            "colorbar": {
             "outlinewidth": 0,
             "ticks": ""
            },
            "colorscale": [
             [
              0,
              "#0d0887"
             ],
             [
              0.1111111111111111,
              "#46039f"
             ],
             [
              0.2222222222222222,
              "#7201a8"
             ],
             [
              0.3333333333333333,
              "#9c179e"
             ],
             [
              0.4444444444444444,
              "#bd3786"
             ],
             [
              0.5555555555555556,
              "#d8576b"
             ],
             [
              0.6666666666666666,
              "#ed7953"
             ],
             [
              0.7777777777777778,
              "#fb9f3a"
             ],
             [
              0.8888888888888888,
              "#fdca26"
             ],
             [
              1,
              "#f0f921"
             ]
            ],
            "type": "contour"
           }
          ],
          "contourcarpet": [
           {
            "colorbar": {
             "outlinewidth": 0,
             "ticks": ""
            },
            "type": "contourcarpet"
           }
          ],
          "heatmap": [
           {
            "colorbar": {
             "outlinewidth": 0,
             "ticks": ""
            },
            "colorscale": [
             [
              0,
              "#0d0887"
             ],
             [
              0.1111111111111111,
              "#46039f"
             ],
             [
              0.2222222222222222,
              "#7201a8"
             ],
             [
              0.3333333333333333,
              "#9c179e"
             ],
             [
              0.4444444444444444,
              "#bd3786"
             ],
             [
              0.5555555555555556,
              "#d8576b"
             ],
             [
              0.6666666666666666,
              "#ed7953"
             ],
             [
              0.7777777777777778,
              "#fb9f3a"
             ],
             [
              0.8888888888888888,
              "#fdca26"
             ],
             [
              1,
              "#f0f921"
             ]
            ],
            "type": "heatmap"
           }
          ],
          "heatmapgl": [
           {
            "colorbar": {
             "outlinewidth": 0,
             "ticks": ""
            },
            "colorscale": [
             [
              0,
              "#0d0887"
             ],
             [
              0.1111111111111111,
              "#46039f"
             ],
             [
              0.2222222222222222,
              "#7201a8"
             ],
             [
              0.3333333333333333,
              "#9c179e"
             ],
             [
              0.4444444444444444,
              "#bd3786"
             ],
             [
              0.5555555555555556,
              "#d8576b"
             ],
             [
              0.6666666666666666,
              "#ed7953"
             ],
             [
              0.7777777777777778,
              "#fb9f3a"
             ],
             [
              0.8888888888888888,
              "#fdca26"
             ],
             [
              1,
              "#f0f921"
             ]
            ],
            "type": "heatmapgl"
           }
          ],
          "histogram": [
           {
            "marker": {
             "pattern": {
              "fillmode": "overlay",
              "size": 10,
              "solidity": 0.2
             }
            },
            "type": "histogram"
           }
          ],
          "histogram2d": [
           {
            "colorbar": {
             "outlinewidth": 0,
             "ticks": ""
            },
            "colorscale": [
             [
              0,
              "#0d0887"
             ],
             [
              0.1111111111111111,
              "#46039f"
             ],
             [
              0.2222222222222222,
              "#7201a8"
             ],
             [
              0.3333333333333333,
              "#9c179e"
             ],
             [
              0.4444444444444444,
              "#bd3786"
             ],
             [
              0.5555555555555556,
              "#d8576b"
             ],
             [
              0.6666666666666666,
              "#ed7953"
             ],
             [
              0.7777777777777778,
              "#fb9f3a"
             ],
             [
              0.8888888888888888,
              "#fdca26"
             ],
             [
              1,
              "#f0f921"
             ]
            ],
            "type": "histogram2d"
           }
          ],
          "histogram2dcontour": [
           {
            "colorbar": {
             "outlinewidth": 0,
             "ticks": ""
            },
            "colorscale": [
             [
              0,
              "#0d0887"
             ],
             [
              0.1111111111111111,
              "#46039f"
             ],
             [
              0.2222222222222222,
              "#7201a8"
             ],
             [
              0.3333333333333333,
              "#9c179e"
             ],
             [
              0.4444444444444444,
              "#bd3786"
             ],
             [
              0.5555555555555556,
              "#d8576b"
             ],
             [
              0.6666666666666666,
              "#ed7953"
             ],
             [
              0.7777777777777778,
              "#fb9f3a"
             ],
             [
              0.8888888888888888,
              "#fdca26"
             ],
             [
              1,
              "#f0f921"
             ]
            ],
            "type": "histogram2dcontour"
           }
          ],
          "mesh3d": [
           {
            "colorbar": {
             "outlinewidth": 0,
             "ticks": ""
            },
            "type": "mesh3d"
           }
          ],
          "parcoords": [
           {
            "line": {
             "colorbar": {
              "outlinewidth": 0,
              "ticks": ""
             }
            },
            "type": "parcoords"
           }
          ],
          "pie": [
           {
            "automargin": true,
            "type": "pie"
           }
          ],
          "scatter": [
           {
            "marker": {
             "colorbar": {
              "outlinewidth": 0,
              "ticks": ""
             }
            },
            "type": "scatter"
           }
          ],
          "scatter3d": [
           {
            "line": {
             "colorbar": {
              "outlinewidth": 0,
              "ticks": ""
             }
            },
            "marker": {
             "colorbar": {
              "outlinewidth": 0,
              "ticks": ""
             }
            },
            "type": "scatter3d"
           }
          ],
          "scattercarpet": [
           {
            "marker": {
             "colorbar": {
              "outlinewidth": 0,
              "ticks": ""
             }
            },
            "type": "scattercarpet"
           }
          ],
          "scattergeo": [
           {
            "marker": {
             "colorbar": {
              "outlinewidth": 0,
              "ticks": ""
             }
            },
            "type": "scattergeo"
           }
          ],
          "scattergl": [
           {
            "marker": {
             "colorbar": {
              "outlinewidth": 0,
              "ticks": ""
             }
            },
            "type": "scattergl"
           }
          ],
          "scattermapbox": [
           {
            "marker": {
             "colorbar": {
              "outlinewidth": 0,
              "ticks": ""
             }
            },
            "type": "scattermapbox"
           }
          ],
          "scatterpolar": [
           {
            "marker": {
             "colorbar": {
              "outlinewidth": 0,
              "ticks": ""
             }
            },
            "type": "scatterpolar"
           }
          ],
          "scatterpolargl": [
           {
            "marker": {
             "colorbar": {
              "outlinewidth": 0,
              "ticks": ""
             }
            },
            "type": "scatterpolargl"
           }
          ],
          "scatterternary": [
           {
            "marker": {
             "colorbar": {
              "outlinewidth": 0,
              "ticks": ""
             }
            },
            "type": "scatterternary"
           }
          ],
          "surface": [
           {
            "colorbar": {
             "outlinewidth": 0,
             "ticks": ""
            },
            "colorscale": [
             [
              0,
              "#0d0887"
             ],
             [
              0.1111111111111111,
              "#46039f"
             ],
             [
              0.2222222222222222,
              "#7201a8"
             ],
             [
              0.3333333333333333,
              "#9c179e"
             ],
             [
              0.4444444444444444,
              "#bd3786"
             ],
             [
              0.5555555555555556,
              "#d8576b"
             ],
             [
              0.6666666666666666,
              "#ed7953"
             ],
             [
              0.7777777777777778,
              "#fb9f3a"
             ],
             [
              0.8888888888888888,
              "#fdca26"
             ],
             [
              1,
              "#f0f921"
             ]
            ],
            "type": "surface"
           }
          ],
          "table": [
           {
            "cells": {
             "fill": {
              "color": "#EBF0F8"
             },
             "line": {
              "color": "white"
             }
            },
            "header": {
             "fill": {
              "color": "#C8D4E3"
             },
             "line": {
              "color": "white"
             }
            },
            "type": "table"
           }
          ]
         },
         "layout": {
          "annotationdefaults": {
           "arrowcolor": "#2a3f5f",
           "arrowhead": 0,
           "arrowwidth": 1
          },
          "autotypenumbers": "strict",
          "coloraxis": {
           "colorbar": {
            "outlinewidth": 0,
            "ticks": ""
           }
          },
          "colorscale": {
           "diverging": [
            [
             0,
             "#8e0152"
            ],
            [
             0.1,
             "#c51b7d"
            ],
            [
             0.2,
             "#de77ae"
            ],
            [
             0.3,
             "#f1b6da"
            ],
            [
             0.4,
             "#fde0ef"
            ],
            [
             0.5,
             "#f7f7f7"
            ],
            [
             0.6,
             "#e6f5d0"
            ],
            [
             0.7,
             "#b8e186"
            ],
            [
             0.8,
             "#7fbc41"
            ],
            [
             0.9,
             "#4d9221"
            ],
            [
             1,
             "#276419"
            ]
           ],
           "sequential": [
            [
             0,
             "#0d0887"
            ],
            [
             0.1111111111111111,
             "#46039f"
            ],
            [
             0.2222222222222222,
             "#7201a8"
            ],
            [
             0.3333333333333333,
             "#9c179e"
            ],
            [
             0.4444444444444444,
             "#bd3786"
            ],
            [
             0.5555555555555556,
             "#d8576b"
            ],
            [
             0.6666666666666666,
             "#ed7953"
            ],
            [
             0.7777777777777778,
             "#fb9f3a"
            ],
            [
             0.8888888888888888,
             "#fdca26"
            ],
            [
             1,
             "#f0f921"
            ]
           ],
           "sequentialminus": [
            [
             0,
             "#0d0887"
            ],
            [
             0.1111111111111111,
             "#46039f"
            ],
            [
             0.2222222222222222,
             "#7201a8"
            ],
            [
             0.3333333333333333,
             "#9c179e"
            ],
            [
             0.4444444444444444,
             "#bd3786"
            ],
            [
             0.5555555555555556,
             "#d8576b"
            ],
            [
             0.6666666666666666,
             "#ed7953"
            ],
            [
             0.7777777777777778,
             "#fb9f3a"
            ],
            [
             0.8888888888888888,
             "#fdca26"
            ],
            [
             1,
             "#f0f921"
            ]
           ]
          },
          "colorway": [
           "#636efa",
           "#EF553B",
           "#00cc96",
           "#ab63fa",
           "#FFA15A",
           "#19d3f3",
           "#FF6692",
           "#B6E880",
           "#FF97FF",
           "#FECB52"
          ],
          "font": {
           "color": "#2a3f5f"
          },
          "geo": {
           "bgcolor": "white",
           "lakecolor": "white",
           "landcolor": "#E5ECF6",
           "showlakes": true,
           "showland": true,
           "subunitcolor": "white"
          },
          "hoverlabel": {
           "align": "left"
          },
          "hovermode": "closest",
          "mapbox": {
           "style": "light"
          },
          "paper_bgcolor": "white",
          "plot_bgcolor": "#E5ECF6",
          "polar": {
           "angularaxis": {
            "gridcolor": "white",
            "linecolor": "white",
            "ticks": ""
           },
           "bgcolor": "#E5ECF6",
           "radialaxis": {
            "gridcolor": "white",
            "linecolor": "white",
            "ticks": ""
           }
          },
          "scene": {
           "xaxis": {
            "backgroundcolor": "#E5ECF6",
            "gridcolor": "white",
            "gridwidth": 2,
            "linecolor": "white",
            "showbackground": true,
            "ticks": "",
            "zerolinecolor": "white"
           },
           "yaxis": {
            "backgroundcolor": "#E5ECF6",
            "gridcolor": "white",
            "gridwidth": 2,
            "linecolor": "white",
            "showbackground": true,
            "ticks": "",
            "zerolinecolor": "white"
           },
           "zaxis": {
            "backgroundcolor": "#E5ECF6",
            "gridcolor": "white",
            "gridwidth": 2,
            "linecolor": "white",
            "showbackground": true,
            "ticks": "",
            "zerolinecolor": "white"
           }
          },
          "shapedefaults": {
           "line": {
            "color": "#2a3f5f"
           }
          },
          "ternary": {
           "aaxis": {
            "gridcolor": "white",
            "linecolor": "white",
            "ticks": ""
           },
           "baxis": {
            "gridcolor": "white",
            "linecolor": "white",
            "ticks": ""
           },
           "bgcolor": "#E5ECF6",
           "caxis": {
            "gridcolor": "white",
            "linecolor": "white",
            "ticks": ""
           }
          },
          "title": {
           "x": 0.05
          },
          "xaxis": {
           "automargin": true,
           "gridcolor": "white",
           "linecolor": "white",
           "ticks": "",
           "title": {
            "standoff": 15
           },
           "zerolinecolor": "white",
           "zerolinewidth": 2
          },
          "yaxis": {
           "automargin": true,
           "gridcolor": "white",
           "linecolor": "white",
           "ticks": "",
           "title": {
            "standoff": 15
           },
           "zerolinecolor": "white",
           "zerolinewidth": 2
          }
         }
        },
        "title": {
         "text": "H*len(m)"
        },
        "xaxis": {
         "anchor": "y",
         "domain": [
          0,
          1
         ],
         "title": {
          "text": "index"
         }
        },
        "yaxis": {
         "anchor": "x",
         "domain": [
          0,
          1
         ],
         "title": {
          "text": "EntropySize"
         }
        }
       }
      }
     },
     "metadata": {},
     "output_type": "display_data"
    }
   ],
   "source": [
    "fig = px.line(df, x=df.index, y=df.EntropySize, title='H*len(m)', text=[(\"%.0f\" % x) for x in df.EntropySize.values])\n",
    "fig.update_traces(textposition='top center')\n",
    "fig.show()"
   ]
  },
  {
   "cell_type": "markdown",
   "metadata": {},
   "source": [
    "# Real experiment data"
   ]
  },
  {
   "cell_type": "code",
   "execution_count": 46,
   "metadata": {},
   "outputs": [],
   "source": [
    "def get_datasets(normalization=None):\n",
    "    return [\n",
    "        #(*load_dataset(DataSets.english, normalization), DataSets.english),  done\n",
    "        #(*load_dataset(DataSets.dna, normalization), DataSets.dna),\n",
    "        #(*load_dataset(DataSets.proteins, normalization), DataSets.proteins),\n",
    "        (*load_dataset(DataSets.sources, normalization), DataSets.sources),\n",
    "    ]"
   ]
  },
  {
   "cell_type": "code",
   "execution_count": 47,
   "metadata": {},
   "outputs": [],
   "source": [
    "NORM_VALUES = [10000]\n",
    "CSV_NAME = \"steps.csv\"\n",
    "ENTROPY_GRAPH = \"entropy_paradox.png\"\n",
    "MESSAGE_GRAPH = \"message_size.png\"\n",
    "MESSAGE_SIZE_ENTROPY_GRAPH = \"message_entropy_size.png\"\n",
    "MESSAGE_ENTROPY = \"message_entropy.png\""
   ]
  },
  {
   "cell_type": "code",
   "execution_count": 48,
   "metadata": {},
   "outputs": [],
   "source": [
    "def write_images(df, path):\n",
    "    fig = px.line(df, x=df.index, y=df.EntropyMove, text=[(\"%.1f\" % x) for x in df.EntropyMove.values], title='Pohyb entropie')\n",
    "    fig.update_traces(textposition='top center')\n",
    "    fig.write_image(os.path.sep.join([path, ENTROPY_GRAPH]))\n",
    "    \n",
    "    fig = px.line(df, x=df.index, y=df.MessageSize, text=df.MessageSize, title='Velikost zprávy')\n",
    "    fig.update_traces(textposition='top center')\n",
    "    fig.write_image(os.path.sep.join([path, MESSAGE_GRAPH]))    \n",
    "\n",
    "    fig = px.line(df, x=df.index, y=[df.MessageSize, df.EntropySize], title='Velikost zprávy proti aktuální entropii')\n",
    "    fig.update_traces(textposition='top center')\n",
    "    fig.write_image(os.path.sep.join([path, MESSAGE_SIZE_ENTROPY_GRAPH]))\n",
    "\n",
    "    fig = px.line(df, x=df.index, y=df.EntropySize, title='H*len(m)', text=[(\"%.0f\" % x) for x in df.EntropySize.values])\n",
    "    fig.update_traces(textposition='top center')   \n",
    "    fig.write_image(os.path.sep.join([path, MESSAGE_ENTROPY]))"
   ]
  },
  {
   "cell_type": "code",
   "execution_count": 49,
   "metadata": {},
   "outputs": [],
   "source": [
    "def save_dataframe(df, path):\n",
    "    path = os.path.sep.join([path, CSV_NAME])\n",
    "    df.to_csv(path, index=False)"
   ]
  },
  {
   "cell_type": "code",
   "execution_count": 50,
   "metadata": {},
   "outputs": [],
   "source": [
    "def run_algorithm_for_datasets(normalization_values=NORM_VALUES, largest=True, limit_steps=None, optimized=False):\n",
    "    for n_v in normalization_values:\n",
    "\n",
    "        datasets = get_datasets(n_v)\n",
    "\n",
    "        for data, data_path, data_type in datasets:\n",
    "            data_type_string = data_type.value\n",
    "            current_path = os.path.sep.join([data_type_string, str(n_v)])\n",
    "\n",
    "\n",
    "            limit_steps_str = \"None\" if limit_steps is None else str(limit_steps)\n",
    "            optimized_string = \"optimized\" if optimized else \"bruto\"\n",
    "\n",
    "            steps_path = os.path.sep.join([current_path, limit_steps_str, str(largest), optimized_string])\n",
    "\n",
    "            if not os.path.isdir(steps_path):\n",
    "                os.makedirs(steps_path)\n",
    "\n",
    "            heurestic_method = pick_largest if largest else pick_random\n",
    "\n",
    "            res = algorithm(data, data_type_string, \"\", limit_step=limit_steps, heuristic_method=heurestic_method, optimized=optimized)\n",
    "            df = pd.DataFrame.from_dict(res, orient=\"index\")\n",
    "\n",
    "\n",
    "\n",
    "\n",
    "            save_dataframe(df, steps_path)\n",
    "            write_images(df, steps_path)"
   ]
  },
  {
   "cell_type": "code",
   "execution_count": 51,
   "metadata": {},
   "outputs": [],
   "source": [
    "LIMIT_STEPS = [None]\n",
    "LARGEST_METHOD = [True] #largest || random\n",
    "OPTIMIZED = [False] #not optimized (bruto) || optimized"
   ]
  },
  {
   "cell_type": "code",
   "execution_count": 52,
   "metadata": {},
   "outputs": [],
   "source": [
    "import itertools"
   ]
  },
  {
   "cell_type": "code",
   "execution_count": 53,
   "metadata": {},
   "outputs": [
    {
     "data": {
      "text/plain": [
       "[(None, True, False)]"
      ]
     },
     "execution_count": 53,
     "metadata": {},
     "output_type": "execute_result"
    }
   ],
   "source": [
    "exps = list(itertools.product(LIMIT_STEPS, LARGEST_METHOD, OPTIMIZED))\n",
    "exps"
   ]
  },
  {
   "cell_type": "code",
   "execution_count": 54,
   "metadata": {},
   "outputs": [
    {
     "name": "stdout",
     "output_type": "stream",
     "text": [
      "Loading C://Users//proko//Desktop//University//iv//aks//datasets\\sources\\sources.50MB\n",
      "('  ', {'Counter': 113, 'Diff': -142.9876062815747})\n",
      "1 10000\n",
      "\n",
      "\n",
      "('r ', {'Counter': 36, 'Diff': -62.80239439949219})\n",
      "2 9934\n",
      "\n",
      "\n",
      "(' t', {'Counter': 38, 'Diff': -58.552960385182814})\n",
      "3 9898\n",
      "\n",
      "\n",
      "('e ', {'Counter': 73, 'Diff': -57.76897615909547})\n",
      "4 9860\n",
      "\n",
      "\n",
      "('n ', {'Counter': 29, 'Diff': -45.28772176144412})\n",
      "5 9787\n",
      "\n",
      "\n",
      "('\\n ', {'Counter': 45, 'Diff': -38.43491557033849})\n",
      "6 9758\n",
      "\n",
      "\n",
      "(' e', {'Counter': 11, 'Diff': -35.34708525164751})\n",
      "7 9713\n",
      "\n",
      "\n",
      "('it', {'Counter': 21, 'Diff': -34.93004967402521})\n",
      "8 9702\n",
      "\n",
      "\n",
      "(' d', {'Counter': 21, 'Diff': -32.6101054637038})\n",
      "9 9681\n",
      "\n",
      "\n",
      "(' n', {'Counter': 13, 'Diff': -32.108864506975806})\n",
      "10 9660\n",
      "\n",
      "\n",
      "('ri', {'Counter': 36, 'Diff': -31.671712671901332})\n",
      "11 9647\n",
      "\n",
      "\n",
      "('i ', {'Counter': 8, 'Diff': -29.890893589348707})\n",
      "12 9611\n",
      "\n",
      "\n",
      "(' a', {'Counter': 14, 'Diff': -28.066010088507028})\n",
      "13 9603\n",
      "\n",
      "\n",
      "('te', {'Counter': 16, 'Diff': -27.18590813089395})\n",
      "14 9589\n",
      "\n",
      "\n",
      "(' r', {'Counter': 8, 'Diff': -26.28743290069542})\n",
      "15 9573\n",
      "\n",
      "\n",
      "('ee', {'Counter': 10, 'Diff': -25.508357350998267})\n",
      "16 9565\n",
      "\n",
      "\n",
      "(' _', {'Counter': 11, 'Diff': -24.476578043169866})\n",
      "17 9555\n",
      "\n",
      "\n",
      "(' s', {'Counter': 26, 'Diff': -22.512295707361773})\n",
      "18 9544\n",
      "\n",
      "\n",
      "('\\tr', {'Counter': 18, 'Diff': -22.56363864323066})\n",
      "19 9518\n",
      "\n",
      "\n",
      "('di', {'Counter': 14, 'Diff': -22.1876440258784})\n",
      "20 9500\n",
      "\n",
      "\n",
      "('en', {'Counter': 12, 'Diff': -22.175937933840032})\n",
      "21 9486\n",
      "\n",
      "\n",
      "('rt', {'Counter': 15, 'Diff': -21.07963056004519})\n",
      "22 9474\n",
      "\n",
      "\n",
      "(' o', {'Counter': 10, 'Diff': -20.017730792686052})\n",
      "23 9459\n",
      "\n",
      "\n",
      "('ai', {'Counter': 9, 'Diff': -19.42732601881289})\n",
      "24 9449\n",
      "\n",
      "\n",
      "('rr', {'Counter': 13, 'Diff': -18.8327427129625})\n",
      "25 9440\n",
      "\n",
      "\n",
      "('\\ni', {'Counter': 6, 'Diff': -18.46248141588876})\n",
      "26 9427\n",
      "\n",
      "\n",
      "('c ', {'Counter': 14, 'Diff': -17.613075717097672})\n",
      "27 9421\n",
      "\n",
      "\n",
      "('\\tn', {'Counter': 8, 'Diff': -17.394611527124653})\n",
      "28 9407\n",
      "\n",
      "\n",
      "('ea', {'Counter': 12, 'Diff': -17.205817051457416})\n",
      "29 9399\n",
      "\n",
      "\n",
      "('o ', {'Counter': 7, 'Diff': -16.92682864722883})\n",
      "30 9387\n",
      "\n",
      "\n",
      "('ia', {'Counter': 7, 'Diff': -16.67358295259328})\n",
      "31 9380\n",
      "\n",
      "\n",
      "('ti', {'Counter': 31, 'Diff': -19.9754974395546})\n",
      "32 9373\n",
      "\n",
      "\n",
      "(' l', {'Counter': 11, 'Diff': -16.369788307027193})\n",
      "33 9342\n",
      "\n",
      "\n",
      "('l ', {'Counter': 8, 'Diff': -14.765355819115939})\n",
      "34 9331\n",
      "\n",
      "\n",
      "('m ', {'Counter': 10, 'Diff': -14.222240291623166})\n",
      "35 9323\n",
      "\n",
      "\n",
      "('es', {'Counter': 15, 'Diff': -13.51416120826616})\n",
      "36 9313\n",
      "\n",
      "\n",
      "('rn', {'Counter': 19, 'Diff': -13.244054644004791})\n",
      "37 9298\n",
      "\n",
      "\n",
      "('e_', {'Counter': 5, 'Diff': -13.069031018698297})\n",
      "38 9279\n",
      "\n",
      "\n",
      "('\\tt', {'Counter': 4, 'Diff': -12.65046304155112})\n",
      "39 9274\n",
      "\n",
      "\n",
      "('ic', {'Counter': 9, 'Diff': -12.342165458409})\n",
      "40 9270\n",
      "\n",
      "\n",
      "('at', {'Counter': 7, 'Diff': -12.28668092085718})\n",
      "41 9261\n",
      "\n",
      "\n",
      "('ne', {'Counter': 24, 'Diff': -12.1689729840582})\n",
      "42 9254\n",
      "\n",
      "\n",
      "('ed', {'Counter': 7, 'Diff': -14.590046137411264})\n",
      "43 9230\n",
      "\n",
      "\n",
      "('q ', {'Counter': 10, 'Diff': -12.150682787163532})\n",
      "44 9223\n",
      "\n",
      "\n",
      "('\\ns', {'Counter': 8, 'Diff': -11.836077613734233})\n",
      "45 9213\n",
      "\n",
      "\n",
      "('ra', {'Counter': 10, 'Diff': -11.426202734350227})\n",
      "46 9205\n",
      "\n",
      "\n",
      "('tr', {'Counter': 18, 'Diff': -11.350342669633392})\n",
      "47 9195\n",
      "\n",
      "\n",
      "('d\\t', {'Counter': 4, 'Diff': -11.347299376204319})\n",
      "48 9177\n",
      "\n",
      "\n",
      "('; ', {'Counter': 8, 'Diff': -11.203925289708422})\n",
      "49 9173\n",
      "\n",
      "\n",
      "('il', {'Counter': 8, 'Diff': -11.091383229351777})\n",
      "50 9165\n",
      "\n",
      "\n",
      "('a ', {'Counter': 3, 'Diff': -11.078987839617184})\n",
      "51 9157\n",
      "\n",
      "\n",
      "('se', {'Counter': 12, 'Diff': -11.077880956734589})\n",
      "52 9154\n",
      "\n",
      "\n",
      "('rd', {'Counter': 4, 'Diff': -9.950090586222359})\n",
      "53 9142\n",
      "\n",
      "\n",
      "('ar', {'Counter': 7, 'Diff': -10.140957429990522})\n",
      "54 9138\n",
      "\n",
      "\n",
      "('\\t ', {'Counter': 2, 'Diff': -9.833149279329518})\n",
      "55 9131\n",
      "\n",
      "\n",
      "('ii', {'Counter': 2, 'Diff': -9.73785588551982})\n",
      "56 9129\n",
      "\n",
      "\n",
      "('to', {'Counter': 6, 'Diff': -9.635677475227567})\n",
      "57 9127\n",
      "\n",
      "\n",
      "(' u', {'Counter': 3, 'Diff': -9.604961346158234})\n",
      "58 9121\n",
      "\n",
      "\n",
      "('\\td', {'Counter': 3, 'Diff': -9.593141314995592})\n",
      "59 9118\n",
      "\n",
      "\n",
      "('ei', {'Counter': 2, 'Diff': -9.091832787562453})\n",
      "60 9115\n",
      "\n",
      "\n",
      "('ie', {'Counter': 2, 'Diff': -9.063064899353776})\n",
      "61 9113\n",
      "\n",
      "\n",
      "('. ', {'Counter': 4, 'Diff': -8.811575380095746})\n",
      "62 9111\n",
      "\n",
      "\n",
      "('rs', {'Counter': 7, 'Diff': -8.741566162512754})\n",
      "63 9107\n",
      "\n",
      "\n",
      "('st', {'Counter': 8, 'Diff': -8.768128725481802})\n",
      "64 9100\n",
      "\n",
      "\n",
      "('__', {'Counter': 10, 'Diff': -8.67124488898844})\n",
      "65 9092\n",
      "\n",
      "\n",
      "('er', {'Counter': 20, 'Diff': -8.679877232279978})\n",
      "66 9082\n",
      "\n",
      "\n",
      "(' h', {'Counter': 8, 'Diff': -8.69704866164102})\n",
      "67 9062\n",
      "\n",
      "\n",
      "('vi', {'Counter': 3, 'Diff': -8.578550692975114})\n",
      "68 9054\n",
      "\n",
      "\n",
      "('is', {'Counter': 16, 'Diff': -8.673025359246822})\n",
      "69 9051\n",
      "\n",
      "\n",
      "('\\tu', {'Counter': 4, 'Diff': -8.452745978909661})\n",
      "70 9035\n",
      "\n",
      "\n",
      "('no', {'Counter': 4, 'Diff': -8.345931639945775})\n",
      "71 9031\n",
      "\n",
      "\n",
      "('ni', {'Counter': 2, 'Diff': -8.292549000238068})\n",
      "72 9027\n",
      "\n",
      "\n",
      "('ce', {'Counter': 4, 'Diff': -8.230608058955113})\n",
      "73 9025\n",
      "\n",
      "\n",
      "('ot', {'Counter': 9, 'Diff': -7.9003627665297245})\n",
      "74 9021\n",
      "\n",
      "\n",
      "('t\\t', {'Counter': 2, 'Diff': -7.798152987154026})\n",
      "75 9012\n",
      "\n",
      "\n",
      "('d_', {'Counter': 3, 'Diff': -7.775245038654248})\n",
      "76 9010\n",
      "\n",
      "\n",
      "('em', {'Counter': 6, 'Diff': -7.676667440457095})\n",
      "77 9007\n",
      "\n",
      "\n",
      "('\\nv', {'Counter': 9, 'Diff': -7.608254112754366})\n",
      "78 9001\n",
      "\n",
      "\n",
      "('i;', {'Counter': 4, 'Diff': -7.58728334850457})\n",
      "79 8992\n",
      "\n",
      "\n",
      "('\\tv', {'Counter': 3, 'Diff': -7.334320520734764})\n",
      "80 8988\n",
      "\n",
      "\n",
      "('el', {'Counter': 7, 'Diff': -7.322788133278664})\n",
      "81 8985\n",
      "\n",
      "\n",
      "('h ', {'Counter': 3, 'Diff': -7.2655651112800115})\n",
      "82 8978\n",
      "\n",
      "\n",
      "('od', {'Counter': 3, 'Diff': -6.707829458478955})\n",
      "83 8975\n",
      "\n",
      "\n",
      "('rc', {'Counter': 5, 'Diff': -6.514184755942551})\n",
      "84 8972\n",
      "\n",
      "\n",
      "('iv', {'Counter': 2, 'Diff': -6.486713052203413})\n",
      "85 8967\n",
      "\n",
      "\n",
      "('eq', {'Counter': 4, 'Diff': -6.474838079411711})\n",
      "86 8965\n",
      "\n",
      "\n",
      "('x ', {'Counter': 4, 'Diff': -6.40932898480969})\n",
      "87 8961\n",
      "\n",
      "\n",
      "('s_', {'Counter': 4, 'Diff': -6.393650816520676})\n",
      "88 8957\n",
      "\n",
      "\n",
      "('ep', {'Counter': 4, 'Diff': -6.363670356127841})\n",
      "89 8953\n",
      "\n",
      "\n",
      "('\\tf', {'Counter': 7, 'Diff': -6.35659919144382})\n",
      "90 8949\n",
      "\n",
      "\n",
      "('mi', {'Counter': 2, 'Diff': -6.324687125299533})\n",
      "91 8942\n",
      "\n",
      "\n",
      "('\\ts', {'Counter': 2, 'Diff': -6.2541143714261125})\n",
      "92 8940\n",
      "\n",
      "\n",
      "('dd', {'Counter': 12, 'Diff': -6.256526032448164})\n",
      "93 8938\n",
      "\n",
      "\n",
      "('hi', {'Counter': 4, 'Diff': -6.15612129640067})\n",
      "94 8926\n",
      "\n",
      "\n",
      "('s\\n', {'Counter': 2, 'Diff': -6.121901522841654})\n",
      "95 8922\n",
      "\n",
      "\n",
      "('\\tc', {'Counter': 2, 'Diff': -6.0675591418767})\n",
      "96 8920\n",
      "\n",
      "\n",
      "('\\t*', {'Counter': 4, 'Diff': -6.011442655668361})\n",
      "97 8918\n",
      "\n",
      "\n",
      "('or', {'Counter': 8, 'Diff': -5.951139393568155})\n",
      "98 8914\n",
      "\n",
      "\n",
      "('e;', {'Counter': 4, 'Diff': -5.701008261130482})\n",
      "99 8906\n",
      "\n",
      "\n",
      "(' 1', {'Counter': 12, 'Diff': -5.6201436156989075})\n",
      "100 8902\n",
      "\n",
      "\n",
      "('ac', {'Counter': 4, 'Diff': -5.59319005409634})\n",
      "101 8890\n",
      "\n",
      "\n",
      "('.\\n', {'Counter': 3, 'Diff': -5.505937001405982})\n",
      "102 8886\n",
      "\n",
      "\n",
      "('] ', {'Counter': 4, 'Diff': -5.357585125377227})\n",
      "103 8883\n",
      "\n",
      "\n",
      "('nl', {'Counter': 2, 'Diff': -5.271707308151235})\n",
      "104 8879\n",
      "\n",
      "\n",
      "('_o', {'Counter': 2, 'Diff': -5.23480711018783})\n",
      "105 8877\n",
      "\n",
      "\n",
      "('_m', {'Counter': 3, 'Diff': -5.131298745232925})\n",
      "106 8875\n",
      "\n",
      "\n",
      "('𑙐 ', {'Counter': 5, 'Diff': -5.090952625971113})\n",
      "107 8872\n",
      "\n",
      "\n",
      "('e.', {'Counter': 3, 'Diff': -5.07552381039568})\n",
      "108 8867\n",
      "\n",
      "\n",
      "('t)', {'Counter': 3, 'Diff': -4.960857993573882})\n",
      "109 8864\n",
      "\n",
      "\n",
      "('sa', {'Counter': 2, 'Diff': -4.928193415842543})\n",
      "110 8861\n",
      "\n",
      "\n",
      "('2 ', {'Counter': 5, 'Diff': -4.917341755288362})\n",
      "111 8859\n",
      "\n",
      "\n",
      "('tf', {'Counter': 2, 'Diff': -4.716224904084811})\n",
      "112 8854\n",
      "\n",
      "\n",
      "('4 ', {'Counter': 3, 'Diff': -4.694361340392788})\n",
      "113 8852\n",
      "\n",
      "\n",
      "(' [', {'Counter': 2, 'Diff': -4.646043168169854})\n",
      "114 8849\n",
      "\n",
      "\n",
      "('t;', {'Counter': 2, 'Diff': -4.474500300835643})\n",
      "115 8847\n",
      "\n",
      "\n",
      "('ma', {'Counter': 2, 'Diff': -4.412045420365757})\n",
      "116 8845\n",
      "\n",
      "\n",
      "(' b', {'Counter': 11, 'Diff': -4.321388400858268})\n",
      "117 8843\n",
      "\n",
      "\n",
      "('ca', {'Counter': 6, 'Diff': -4.295282161554496})\n",
      "118 8832\n",
      "\n",
      "\n",
      "(' c', {'Counter': 16, 'Diff': -6.377326047462702})\n",
      "119 8826\n",
      "\n",
      "\n",
      "('al', {'Counter': 3, 'Diff': -4.8143949762306875})\n",
      "120 8810\n",
      "\n",
      "\n",
      "('ld', {'Counter': 5, 'Diff': -4.6725317684031324})\n",
      "121 8807\n",
      "\n",
      "\n",
      "('n.', {'Counter': 2, 'Diff': -4.261166987736942})\n",
      "122 8802\n",
      "\n",
      "\n",
      "('us', {'Counter': 3, 'Diff': -4.221850762456597})\n",
      "123 8800\n",
      "\n",
      "\n",
      "('ꄙi', {'Counter': 5, 'Diff': -4.034384279962978})\n",
      "124 8797\n",
      "\n",
      "\n",
      "('{ ', {'Counter': 3, 'Diff': -3.958160919646616})\n",
      "125 8792\n",
      "\n",
      "\n",
      "(' }', {'Counter': 3, 'Diff': -3.932474357483443})\n",
      "126 8789\n",
      "\n",
      "\n",
      "('/i', {'Counter': 2, 'Diff': -3.818328577071952})\n",
      "127 8786\n",
      "\n",
      "\n",
      "('tp', {'Counter': 7, 'Diff': -3.820567021124589})\n",
      "128 8784\n",
      "\n",
      "\n",
      "('om', {'Counter': 2, 'Diff': -3.751973397891561})\n",
      "129 8777\n",
      "\n",
      "\n",
      "('- ', {'Counter': 2, 'Diff': -3.752356460543524})\n",
      "130 8775\n",
      "\n",
      "\n",
      "('mo', {'Counter': 2, 'Diff': -3.677303285061498})\n",
      "131 8773\n",
      "\n",
      "\n",
      "('he', {'Counter': 5, 'Diff': -3.6392549603115185})\n",
      "132 8771\n",
      "\n",
      "\n",
      "('} ', {'Counter': 2, 'Diff': -3.6253135279766866})\n",
      "133 8766\n",
      "\n",
      "\n",
      "(' 6', {'Counter': 5, 'Diff': -3.5770555224225973})\n",
      "134 8764\n",
      "\n",
      "\n",
      "('d.', {'Counter': 3, 'Diff': -3.528195152110129})\n",
      "135 8759\n",
      "\n",
      "\n",
      "('sl', {'Counter': 2, 'Diff': -3.4910493727220455})\n",
      "136 8756\n",
      "\n",
      "\n",
      "('𑙐i', {'Counter': 4, 'Diff': -3.4214694576076})\n",
      "137 8754\n",
      "\n",
      "\n",
      "('ms', {'Counter': 2, 'Diff': -3.4136651791486656})\n",
      "138 8750\n",
      "\n",
      "\n",
      "(' k', {'Counter': 2, 'Diff': -3.4018851957735023})\n",
      "139 8748\n",
      "\n",
      "\n",
      "('of', {'Counter': 2, 'Diff': -3.288248351906077})\n",
      "140 8746\n",
      "\n",
      "\n",
      "('s,', {'Counter': 3, 'Diff': -3.048479910758033})\n",
      "141 8744\n",
      "\n",
      "\n",
      "('fu', {'Counter': 2, 'Diff': -3.0100339440905373})\n",
      "142 8741\n",
      "\n",
      "\n",
      "('sp', {'Counter': 2, 'Diff': -2.9792220097078825})\n",
      "143 8739\n",
      "\n",
      "\n",
      "('/e', {'Counter': 2, 'Diff': -2.874160506107728})\n",
      "144 8737\n",
      "\n",
      "\n",
      "(' L', {'Counter': 2, 'Diff': -2.828826356722857})\n",
      "145 8735\n",
      "\n",
      "\n",
      "('Re', {'Counter': 2, 'Diff': -2.8065243882956565})\n",
      "146 8733\n",
      "\n",
      "\n",
      "(' R', {'Counter': 5, 'Diff': -3.204204599307559})\n",
      "147 8731\n",
      "\n",
      "\n",
      "('ik', {'Counter': 2, 'Diff': -2.7851971961936215})\n",
      "148 8726\n",
      "\n",
      "\n",
      "('\\tN', {'Counter': 4, 'Diff': -2.707505726022646})\n",
      "149 8724\n",
      "\n",
      "\n",
      "('\\n𑙐', {'Counter': 3, 'Diff': -2.6857759705744684})\n",
      "150 8720\n",
      "\n",
      "\n",
      "('e[', {'Counter': 3, 'Diff': -2.679372638624045})\n",
      "151 8717\n",
      "\n",
      "\n",
      "('*v', {'Counter': 2, 'Diff': -2.6748322139610536})\n",
      "152 8714\n",
      "\n",
      "\n",
      "('o.', {'Counter': 2, 'Diff': -2.6753107404365437})\n",
      "153 8712\n",
      "\n",
      "\n",
      "('d,', {'Counter': 6, 'Diff': -2.61980397078878})\n",
      "154 8710\n",
      "\n",
      "\n",
      "('ts', {'Counter': 10, 'Diff': -2.6134498630126473})\n",
      "155 8704\n",
      "\n",
      "\n",
      "('{\\t', {'Counter': 2, 'Diff': -2.5989290199649986})\n",
      "156 8694\n",
      "\n",
      "\n",
      "('n/', {'Counter': 2, 'Diff': -2.5974517489084974})\n",
      "157 8692\n",
      "\n",
      "\n",
      "('\"\\n', {'Counter': 2, 'Diff': -2.5885120854291017})\n",
      "158 8690\n",
      "\n",
      "\n",
      "(' \"', {'Counter': 4, 'Diff': -2.8441762727379682})\n",
      "159 8688\n",
      "\n",
      "\n",
      "('_r', {'Counter': 14, 'Diff': -2.579710762882314})\n",
      "160 8684\n",
      "\n",
      "\n",
      "('t_', {'Counter': 10, 'Diff': -6.975899679302529})\n",
      "161 8670\n",
      "\n",
      "\n",
      "('re', {'Counter': 15, 'Diff': -5.473946546750085})\n",
      "162 8660\n",
      "\n",
      "\n",
      "('t2', {'Counter': 2, 'Diff': -2.3688391780669917})\n",
      "163 8645\n",
      "\n",
      "\n",
      "('c)', {'Counter': 2, 'Diff': -2.3076428110871348})\n",
      "164 8643\n",
      "\n",
      "\n",
      "('ꄙd', {'Counter': 2, 'Diff': -2.3060177152437973})\n",
      "165 8641\n",
      "\n",
      "\n",
      "('op', {'Counter': 4, 'Diff': -2.2772561654273886})\n",
      "166 8639\n",
      "\n",
      "\n",
      "('0*', {'Counter': 2, 'Diff': -2.1895320894254837})\n",
      "167 8635\n",
      "\n",
      "\n",
      "(' >', {'Counter': 5, 'Diff': -2.150517096677504})\n",
      "168 8633\n",
      "\n",
      "\n",
      "('g ', {'Counter': 10, 'Diff': -2.6337628047403996})\n",
      "169 8628\n",
      "\n",
      "\n",
      "('t/', {'Counter': 2, 'Diff': -2.1516274508394417})\n",
      "170 8618\n",
      "\n",
      "\n",
      "('(s', {'Counter': 3, 'Diff': -2.122315086722665})\n",
      "171 8616\n",
      "\n",
      "\n",
      "('ff', {'Counter': 2, 'Diff': -2.0723888807406183})\n",
      "172 8613\n",
      "\n",
      "\n",
      "(' p', {'Counter': 13, 'Diff': -2.05861421845475})\n",
      "173 8611\n",
      "\n",
      "\n",
      "('.l', {'Counter': 2, 'Diff': -1.9963505204432295})\n",
      "174 8598\n",
      "\n",
      "\n",
      "('),', {'Counter': 2, 'Diff': -1.9433186559326714})\n",
      "175 8596\n",
      "\n",
      "\n",
      "('m.', {'Counter': 2, 'Diff': -1.8925777273689164})\n",
      "176 8594\n",
      "\n",
      "\n",
      "('(f', {'Counter': 2, 'Diff': -1.8466958499120665})\n",
      "177 8592\n",
      "\n",
      "\n",
      "('10', {'Counter': 2, 'Diff': -1.8430286619186518})\n",
      "178 8590\n",
      "\n",
      "\n",
      "('0m', {'Counter': 3, 'Diff': -2.231404862803174})\n",
      "179 8588\n",
      "\n",
      "\n",
      "('ht', {'Counter': 5, 'Diff': -1.7905464305877103})\n",
      "180 8585\n",
      "\n",
      "\n",
      "('u1', {'Counter': 3, 'Diff': -1.7538388983302866})\n",
      "181 8580\n",
      "\n",
      "\n",
      "('q.', {'Counter': 2, 'Diff': -1.7232724686036818})\n",
      "182 8577\n",
      "\n",
      "\n",
      "('eb', {'Counter': 6, 'Diff': -1.7011638690892141})\n",
      "183 8575\n",
      "\n",
      "\n",
      "('ke', {'Counter': 2, 'Diff': -1.5921075555525022})\n",
      "184 8569\n",
      "\n",
      "\n",
      "('싅i', {'Counter': 2, 'Diff': -1.585331848837086})\n",
      "185 8567\n",
      "\n",
      "\n",
      "('pt', {'Counter': 6, 'Diff': -1.5840505479936837})\n",
      "186 8565\n",
      "\n",
      "\n",
      "('(c', {'Counter': 3, 'Diff': -1.564203713212919})\n",
      "187 8559\n",
      "\n",
      "\n",
      "('Li', {'Counter': 3, 'Diff': -1.5041498705686536})\n",
      "188 8556\n",
      "\n",
      "\n",
      "(' <', {'Counter': 2, 'Diff': -1.5040786193712847})\n",
      "189 8553\n",
      "\n",
      "\n",
      "('ga', {'Counter': 4, 'Diff': -1.4287357393550337})\n",
      "190 8551\n",
      "\n",
      "\n",
      "('_R', {'Counter': 2, 'Diff': -1.3956890148401726})\n",
      "191 8547\n",
      "\n",
      "\n",
      "('e瞊', {'Counter': 2, 'Diff': -1.2822438530783984})\n",
      "192 8545\n",
      "\n",
      "\n",
      "('< ', {'Counter': 2, 'Diff': -1.253083725401666})\n",
      "193 8543\n",
      "\n",
      "\n",
      "('*p', {'Counter': 2, 'Diff': -1.244446371383674})\n",
      "194 8541\n",
      "\n",
      "\n",
      "('p,', {'Counter': 2, 'Diff': -1.4725001378174056})\n",
      "195 8539\n",
      "\n",
      "\n",
      "('ꄙv', {'Counter': 2, 'Diff': -1.2302077386411838})\n",
      "196 8537\n",
      "\n",
      "\n",
      "('0)', {'Counter': 3, 'Diff': -1.2152976213474176})\n",
      "197 8535\n",
      "\n",
      "\n",
      "('In', {'Counter': 4, 'Diff': -1.1366294914696482})\n",
      "198 8532\n",
      "\n",
      "\n",
      "('[d', {'Counter': 3, 'Diff': -1.1222770050444524})\n",
      "199 8528\n",
      "\n",
      "\n",
      "('s;', {'Counter': 4, 'Diff': -1.006534548199852})\n",
      "200 8525\n",
      "\n",
      "\n",
      "('_f', {'Counter': 6, 'Diff': -0.9441899383455166})\n",
      "201 8521\n",
      "\n",
      "\n",
      "('U ', {'Counter': 3, 'Diff': -0.8860905433466542})\n",
      "202 8515\n",
      "\n",
      "\n",
      "('(d', {'Counter': 6, 'Diff': -0.7999879055350902})\n",
      "203 8512\n",
      "\n",
      "\n",
      "('𗇷t', {'Counter': 2, 'Diff': -0.7263434258347843})\n",
      "204 8506\n",
      "\n",
      "\n",
      "('x,', {'Counter': 2, 'Diff': -0.7175967416333151})\n",
      "205 8504\n",
      "\n",
      "\n",
      "('𑙐u', {'Counter': 2, 'Diff': -0.711014478103607})\n",
      "206 8502\n",
      "\n",
      "\n",
      "('eᨒ', {'Counter': 2, 'Diff': -0.6703130217429134})\n",
      "207 8500\n",
      "\n",
      "\n",
      "('粰i', {'Counter': 2, 'Diff': -0.5999934572319034})\n",
      "208 8498\n",
      "\n",
      "\n",
      "('c,', {'Counter': 4, 'Diff': -0.5498784165683901})\n",
      "209 8496\n",
      "\n",
      "\n",
      "(' D', {'Counter': 2, 'Diff': -0.5281213279813528})\n",
      "210 8492\n",
      "\n",
      "\n",
      "('y ', {'Counter': 3, 'Diff': -1.1510539841256104})\n",
      "211 8490\n",
      "\n",
      "\n",
      "(' w', {'Counter': 2, 'Diff': -1.5568181150738383})\n",
      "212 8487\n",
      "\n",
      "\n",
      "('\\t/', {'Counter': 5, 'Diff': -0.4924353176174918})\n",
      "213 8485\n",
      "\n",
      "\n",
      "('*)', {'Counter': 3, 'Diff': -0.3732622139068553})\n",
      "214 8480\n",
      "\n",
      "\n",
      "('Il', {'Counter': 2, 'Diff': -0.3095420154277235})\n",
      "215 8477\n",
      "\n",
      "\n",
      "('Un', {'Counter': 2, 'Diff': -0.228302431445627})\n",
      "216 8475\n",
      "\n",
      "\n",
      "('m6', {'Counter': 2, 'Diff': -0.19861558802222135})\n",
      "217 8473\n",
      "\n",
      "\n",
      "('ch', {'Counter': 3, 'Diff': -0.19584209407912567})\n",
      "218 8471\n",
      "\n",
      "\n",
      "('a𗇷', {'Counter': 2, 'Diff': -0.18055774061213015})\n",
      "219 8468\n",
      "\n",
      "\n",
      "('ob', {'Counter': 4, 'Diff': -0.15695780457463115})\n",
      "220 8466\n",
      "\n",
      "\n",
      "('ba', {'Counter': 3, 'Diff': -2.10444657055632})\n",
      "221 8462\n",
      "\n",
      "\n",
      "('ꄙf', {'Counter': 2, 'Diff': -0.12058279621123802})\n",
      "222 8459\n",
      "\n",
      "\n",
      "('nw', {'Counter': 2, 'Diff': -0.0951321244938299})\n",
      "223 8457\n",
      "\n",
      "\n",
      "('];', {'Counter': 2, 'Diff': -0.06399900001269998})\n",
      "224 8455\n",
      "\n",
      "\n",
      "('ll', {'Counter': 5, 'Diff': -0.03372369663702557})\n",
      "225 8453\n",
      "\n",
      "\n",
      "None\n",
      "226 8448\n",
      "\n",
      "\n"
     ]
    }
   ],
   "source": [
    "for limit_steps, largest_method, optimized in exps:\n",
    "    run_algorithm_for_datasets(NORM_VALUES, largest_method, limit_steps, optimized)"
   ]
  },
  {
   "cell_type": "code",
   "execution_count": null,
   "metadata": {},
   "outputs": [],
   "source": []
  }
 ],
 "metadata": {
  "interpreter": {
   "hash": "97e6c85832baaca9363ab02f06d99864db3184f5c282967bd7ef920b2fe63dcd"
  },
  "kernelspec": {
   "display_name": "Python 3.8.1 ('venv': venv)",
   "language": "python",
   "name": "python3"
  },
  "language_info": {
   "codemirror_mode": {
    "name": "ipython",
    "version": 3
   },
   "file_extension": ".py",
   "mimetype": "text/x-python",
   "name": "python",
   "nbconvert_exporter": "python",
   "pygments_lexer": "ipython3",
   "version": "3.8.6rc1"
  },
  "orig_nbformat": 4
 },
 "nbformat": 4,
 "nbformat_minor": 2
}
