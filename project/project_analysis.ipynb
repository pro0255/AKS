{
 "cells": [
  {
   "cell_type": "code",
   "execution_count": 1,
   "metadata": {},
   "outputs": [],
   "source": [
    "import itertools\n",
    "import os\n",
    "import pandas as pd\n",
    "from enum import Enum\n",
    "import numpy as np\n",
    "import plotly.express as px\n",
    "import math"
   ]
  },
  {
   "cell_type": "code",
   "execution_count": 2,
   "metadata": {},
   "outputs": [],
   "source": [
    "class TableFields(Enum):\n",
    "    Rule = \"Rule\"\n",
    "    EntropyMove = \"EntropyMove\"\n",
    "    CurrentEntropy = \"CurrentEntropy\"\n",
    "    EntropySize = \"EntropySize\"\n",
    "    DataType = \"DataType\"\n",
    "    DescriptionData = \"DescriptionData\"\n",
    "    MessageSize = \"MessageSize\"\n",
    "    AlphabetSize = \"AlphabetSize\"\n",
    "    GrammaticSize = \"GrammaticSize\"\n",
    "    CalcTime = \"CalcTime\"\n"
   ]
  },
  {
   "cell_type": "code",
   "execution_count": 6,
   "metadata": {},
   "outputs": [],
   "source": [
    "datasets = ['dna', 'english', 'proteins', 'sources']\n",
    "pick_size = [10000]\n",
    "limit_steps = [15, None]\n",
    "is_largest = [True, False]\n",
    "optimized = [\"bruto\"]\n",
    "filename = \"steps.csv\""
   ]
  },
  {
   "cell_type": "code",
   "execution_count": 7,
   "metadata": {},
   "outputs": [],
   "source": [
    "loads = list(itertools.product(datasets, pick_size, limit_steps, is_largest, optimized))"
   ]
  },
  {
   "cell_type": "code",
   "execution_count": 8,
   "metadata": {},
   "outputs": [
    {
     "data": {
      "text/plain": [
       "[('dna', 10000, 15, True, 'bruto'),\n",
       " ('dna', 10000, 15, False, 'bruto'),\n",
       " ('dna', 10000, None, True, 'bruto'),\n",
       " ('dna', 10000, None, False, 'bruto'),\n",
       " ('english', 10000, 15, True, 'bruto'),\n",
       " ('english', 10000, 15, False, 'bruto'),\n",
       " ('english', 10000, None, True, 'bruto'),\n",
       " ('english', 10000, None, False, 'bruto'),\n",
       " ('proteins', 10000, 15, True, 'bruto'),\n",
       " ('proteins', 10000, 15, False, 'bruto'),\n",
       " ('proteins', 10000, None, True, 'bruto'),\n",
       " ('proteins', 10000, None, False, 'bruto'),\n",
       " ('sources', 10000, 15, True, 'bruto'),\n",
       " ('sources', 10000, 15, False, 'bruto'),\n",
       " ('sources', 10000, None, True, 'bruto'),\n",
       " ('sources', 10000, None, False, 'bruto')]"
      ]
     },
     "execution_count": 8,
     "metadata": {},
     "output_type": "execute_result"
    }
   ],
   "source": [
    "loads"
   ]
  },
  {
   "cell_type": "code",
   "execution_count": 11,
   "metadata": {},
   "outputs": [],
   "source": [
    "def load_experiment_results(loads):\n",
    "    res = {}\n",
    "    counter = 0\n",
    "    for directory, pick_size, limit_steps, is_largest, optimized in loads:\n",
    "        try:\n",
    "            arguments = [directory, pick_size, limit_steps, is_largest, optimized, filename]\n",
    "            arguments = [str(arg) for arg in arguments]\n",
    "            path = os.path.sep.join(arguments)\n",
    "            data = pd.read_csv(path, sep=',')\n",
    "            res[path] = data\n",
    "            counter += 1\n",
    "        except:\n",
    "            print(\"Error\")\n",
    "    return res"
   ]
  },
  {
   "cell_type": "code",
   "execution_count": 12,
   "metadata": {},
   "outputs": [
    {
     "name": "stdout",
     "output_type": "stream",
     "text": [
      "Error\n",
      "Error\n",
      "Error\n",
      "Error\n"
     ]
    }
   ],
   "source": [
    "res = load_experiment_results(loads)"
   ]
  },
  {
   "cell_type": "code",
   "execution_count": 13,
   "metadata": {},
   "outputs": [
    {
     "data": {
      "text/plain": [
       "['dna\\\\10000\\\\15\\\\True\\\\bruto\\\\steps.csv',\n",
       " 'dna\\\\10000\\\\15\\\\False\\\\bruto\\\\steps.csv',\n",
       " 'dna\\\\10000\\\\None\\\\True\\\\bruto\\\\steps.csv',\n",
       " 'english\\\\10000\\\\15\\\\True\\\\bruto\\\\steps.csv',\n",
       " 'english\\\\10000\\\\15\\\\False\\\\bruto\\\\steps.csv',\n",
       " 'english\\\\10000\\\\None\\\\True\\\\bruto\\\\steps.csv',\n",
       " 'proteins\\\\10000\\\\15\\\\True\\\\bruto\\\\steps.csv',\n",
       " 'proteins\\\\10000\\\\15\\\\False\\\\bruto\\\\steps.csv',\n",
       " 'proteins\\\\10000\\\\None\\\\True\\\\bruto\\\\steps.csv',\n",
       " 'sources\\\\10000\\\\15\\\\True\\\\bruto\\\\steps.csv',\n",
       " 'sources\\\\10000\\\\15\\\\False\\\\bruto\\\\steps.csv',\n",
       " 'sources\\\\10000\\\\None\\\\True\\\\bruto\\\\steps.csv']"
      ]
     },
     "execution_count": 13,
     "metadata": {},
     "output_type": "execute_result"
    }
   ],
   "source": [
    "current_keys = list(res.keys())\n",
    "current_keys"
   ]
  },
  {
   "cell_type": "code",
   "execution_count": 62,
   "metadata": {},
   "outputs": [],
   "source": [
    "class NewTable(Enum):\n",
    "    StartedEntropy =  \"StartedEntropy\"\n",
    "    EndedEntropy = \"EndedEntropy\"\n",
    "    DiffEntropy = \"DiffEntropy\"\n",
    "    \n",
    "    StartedSizeEntropy =  \"StartedSizeEntropy\"\n",
    "    EndedSizeEntropy = \"EndedSizeEntropy\"\n",
    "    DiffSizeEntropy = \"DiffSizeEntropy\"\n",
    "    \n",
    "    CalculationTime = \"CalculationTime\"\n",
    "\n",
    "    StartedMessageSize = \"StartedMessageSize\"\n",
    "    EndedMessageSize = \"EndedMessageSize\"\n",
    "    DiffMessageSize = \"DiffMessageSize\"\n",
    "\n",
    "    LimitSteps = \"LimitSteps\"\n",
    "    PickMethod = \"PickMethod\"\n",
    "    NormalizationValue = \"NormalizationValue\"\n",
    "\n",
    "    NumberOfSteps = \"NumberOfSteps\"\n",
    "\n",
    "    Optimized = \"Optimized\""
   ]
  },
  {
   "cell_type": "code",
   "execution_count": 63,
   "metadata": {},
   "outputs": [],
   "source": [
    "def process_table(table, arguments=None):\n",
    "    res = {}\n",
    "\n",
    "    if arguments is not None:\n",
    "        directory, pick_size, limit_steps, is_largest, optimized, filename = arguments\n",
    "        res[NewTable.LimitSteps.value] = limit_steps \n",
    "        res[NewTable.PickMethod.value] = \"Largest\" if is_largest else \"Random\"\n",
    "        res[NewTable.NormalizationValue.value] = pick_size \n",
    "        res[NewTable.Optimized.value] = optimized\n",
    "\n",
    "    res[NewTable.StartedEntropy.value] = table.iloc[0][TableFields.CurrentEntropy.value]\n",
    "    res[NewTable.EndedEntropy.value] = table.iloc[len(table) - 1][TableFields.CurrentEntropy.value]\n",
    "    res[NewTable.DiffEntropy.value] = res[NewTable.EndedEntropy.value] - res[NewTable.StartedEntropy.value]\n",
    "\n",
    "    res[NewTable.StartedSizeEntropy.value] = table.iloc[0][TableFields.EntropySize.value]\n",
    "    res[NewTable.EndedSizeEntropy.value] = table.iloc[len(table) - 1][TableFields.EntropySize.value]\n",
    "    res[NewTable.DiffSizeEntropy.value] = res[NewTable.EndedSizeEntropy.value] - res[NewTable.StartedSizeEntropy.value]\n",
    "\n",
    "    res[NewTable.StartedMessageSize.value] = table.iloc[0][TableFields.MessageSize.value]\n",
    "    res[NewTable.EndedMessageSize.value] = table.iloc[len(table) - 1][TableFields.MessageSize.value]\n",
    "    res[NewTable.DiffMessageSize.value] = res[NewTable.StartedMessageSize.value] - res[NewTable.EndedMessageSize.value]\n",
    "\n",
    "    res[NewTable.CalculationTime.value] = np.sum(table[TableFields.CalcTime.value].values)\n",
    "\n",
    "    res[NewTable.NumberOfSteps.value] = len(table)\n",
    "\n",
    "    return res"
   ]
  },
  {
   "cell_type": "code",
   "execution_count": 64,
   "metadata": {},
   "outputs": [],
   "source": [
    "def process_loads(res):\n",
    "    res = {}\n",
    "    for directory, pick_size, limit_steps, is_largest, optimized in loads:\n",
    "        try:\n",
    "            arguments_raw = [directory, pick_size, limit_steps, is_largest, optimized, filename]\n",
    "            arguments_str = [str(arg) for arg in arguments_raw]\n",
    "            path = os.path.sep.join(arguments_str)\n",
    "            data = pd.read_csv(path, sep=',')\n",
    "            res[path] = process_table(data ,arguments_raw)\n",
    "        except:\n",
    "            print(\"Missing!\")\n",
    "    return res"
   ]
  },
  {
   "cell_type": "code",
   "execution_count": 91,
   "metadata": {},
   "outputs": [
    {
     "name": "stdout",
     "output_type": "stream",
     "text": [
      "Missing!\n",
      "Missing!\n",
      "Missing!\n",
      "Missing!\n"
     ]
    }
   ],
   "source": [
    "results = pd.DataFrame.from_dict(process_loads(loads), orient=\"index\")"
   ]
  },
  {
   "cell_type": "code",
   "execution_count": 92,
   "metadata": {},
   "outputs": [
    {
     "data": {
      "text/html": [
       "<div>\n",
       "<style scoped>\n",
       "    .dataframe tbody tr th:only-of-type {\n",
       "        vertical-align: middle;\n",
       "    }\n",
       "\n",
       "    .dataframe tbody tr th {\n",
       "        vertical-align: top;\n",
       "    }\n",
       "\n",
       "    .dataframe thead th {\n",
       "        text-align: right;\n",
       "    }\n",
       "</style>\n",
       "<table border=\"1\" class=\"dataframe\">\n",
       "  <thead>\n",
       "    <tr style=\"text-align: right;\">\n",
       "      <th></th>\n",
       "      <th>LimitSteps</th>\n",
       "      <th>PickMethod</th>\n",
       "      <th>NormalizationValue</th>\n",
       "      <th>Optimized</th>\n",
       "      <th>StartedEntropy</th>\n",
       "      <th>EndedEntropy</th>\n",
       "      <th>DiffEntropy</th>\n",
       "      <th>StartedSizeEntropy</th>\n",
       "      <th>EndedSizeEntropy</th>\n",
       "      <th>DiffSizeEntropy</th>\n",
       "      <th>StartedMessageSize</th>\n",
       "      <th>EndedMessageSize</th>\n",
       "      <th>DiffMessageSize</th>\n",
       "      <th>CalculationTime</th>\n",
       "      <th>NumberOfSteps</th>\n",
       "    </tr>\n",
       "  </thead>\n",
       "  <tbody>\n",
       "    <tr>\n",
       "      <th>dna\\10000\\15\\True\\bruto\\steps.csv</th>\n",
       "      <td>15.0</td>\n",
       "      <td>Largest</td>\n",
       "      <td>10000</td>\n",
       "      <td>bruto</td>\n",
       "      <td>1.979908</td>\n",
       "      <td>3.835928</td>\n",
       "      <td>1.856019</td>\n",
       "      <td>19799.081694</td>\n",
       "      <td>23851.797223</td>\n",
       "      <td>4052.715529</td>\n",
       "      <td>10000</td>\n",
       "      <td>6218</td>\n",
       "      <td>3782</td>\n",
       "      <td>37.995292</td>\n",
       "      <td>15</td>\n",
       "    </tr>\n",
       "    <tr>\n",
       "      <th>dna\\10000\\15\\False\\bruto\\steps.csv</th>\n",
       "      <td>15.0</td>\n",
       "      <td>Random</td>\n",
       "      <td>10000</td>\n",
       "      <td>bruto</td>\n",
       "      <td>1.981966</td>\n",
       "      <td>2.852455</td>\n",
       "      <td>0.870489</td>\n",
       "      <td>19819.657628</td>\n",
       "      <td>22106.523997</td>\n",
       "      <td>2286.866369</td>\n",
       "      <td>10000</td>\n",
       "      <td>7750</td>\n",
       "      <td>2250</td>\n",
       "      <td>32.605225</td>\n",
       "      <td>15</td>\n",
       "    </tr>\n",
       "    <tr>\n",
       "      <th>dna\\10000\\None\\True\\bruto\\steps.csv</th>\n",
       "      <td>NaN</td>\n",
       "      <td>Largest</td>\n",
       "      <td>10000</td>\n",
       "      <td>bruto</td>\n",
       "      <td>1.989577</td>\n",
       "      <td>6.007436</td>\n",
       "      <td>4.017859</td>\n",
       "      <td>19895.772726</td>\n",
       "      <td>25783.915322</td>\n",
       "      <td>5888.142596</td>\n",
       "      <td>10000</td>\n",
       "      <td>4292</td>\n",
       "      <td>5708</td>\n",
       "      <td>3126.732789</td>\n",
       "      <td>228</td>\n",
       "    </tr>\n",
       "    <tr>\n",
       "      <th>english\\10000\\15\\True\\bruto\\steps.csv</th>\n",
       "      <td>15.0</td>\n",
       "      <td>Largest</td>\n",
       "      <td>10000</td>\n",
       "      <td>bruto</td>\n",
       "      <td>4.509031</td>\n",
       "      <td>5.156275</td>\n",
       "      <td>0.647244</td>\n",
       "      <td>45090.307640</td>\n",
       "      <td>46236.316575</td>\n",
       "      <td>1146.008935</td>\n",
       "      <td>10000</td>\n",
       "      <td>8967</td>\n",
       "      <td>1033</td>\n",
       "      <td>564.606717</td>\n",
       "      <td>15</td>\n",
       "    </tr>\n",
       "    <tr>\n",
       "      <th>english\\10000\\15\\False\\bruto\\steps.csv</th>\n",
       "      <td>15.0</td>\n",
       "      <td>Random</td>\n",
       "      <td>10000</td>\n",
       "      <td>bruto</td>\n",
       "      <td>4.530381</td>\n",
       "      <td>4.584766</td>\n",
       "      <td>0.054385</td>\n",
       "      <td>45303.812800</td>\n",
       "      <td>45421.276767</td>\n",
       "      <td>117.463967</td>\n",
       "      <td>10000</td>\n",
       "      <td>9907</td>\n",
       "      <td>93</td>\n",
       "      <td>489.965724</td>\n",
       "      <td>15</td>\n",
       "    </tr>\n",
       "    <tr>\n",
       "      <th>english\\10000\\None\\True\\bruto\\steps.csv</th>\n",
       "      <td>NaN</td>\n",
       "      <td>Largest</td>\n",
       "      <td>10000</td>\n",
       "      <td>bruto</td>\n",
       "      <td>4.512730</td>\n",
       "      <td>6.661476</td>\n",
       "      <td>2.148746</td>\n",
       "      <td>45127.300249</td>\n",
       "      <td>48615.449340</td>\n",
       "      <td>3488.149091</td>\n",
       "      <td>10000</td>\n",
       "      <td>7298</td>\n",
       "      <td>2702</td>\n",
       "      <td>6035.128097</td>\n",
       "      <td>273</td>\n",
       "    </tr>\n",
       "    <tr>\n",
       "      <th>proteins\\10000\\15\\True\\bruto\\steps.csv</th>\n",
       "      <td>15.0</td>\n",
       "      <td>Largest</td>\n",
       "      <td>10000</td>\n",
       "      <td>bruto</td>\n",
       "      <td>4.202970</td>\n",
       "      <td>4.603190</td>\n",
       "      <td>0.400220</td>\n",
       "      <td>42029.704002</td>\n",
       "      <td>42920.146612</td>\n",
       "      <td>890.442610</td>\n",
       "      <td>10000</td>\n",
       "      <td>9324</td>\n",
       "      <td>676</td>\n",
       "      <td>256.088325</td>\n",
       "      <td>15</td>\n",
       "    </tr>\n",
       "    <tr>\n",
       "      <th>proteins\\10000\\15\\False\\bruto\\steps.csv</th>\n",
       "      <td>15.0</td>\n",
       "      <td>Random</td>\n",
       "      <td>10000</td>\n",
       "      <td>bruto</td>\n",
       "      <td>4.195328</td>\n",
       "      <td>4.353783</td>\n",
       "      <td>0.158455</td>\n",
       "      <td>41953.284477</td>\n",
       "      <td>42314.418041</td>\n",
       "      <td>361.133565</td>\n",
       "      <td>10000</td>\n",
       "      <td>9719</td>\n",
       "      <td>281</td>\n",
       "      <td>227.854186</td>\n",
       "      <td>15</td>\n",
       "    </tr>\n",
       "    <tr>\n",
       "      <th>proteins\\10000\\None\\True\\bruto\\steps.csv</th>\n",
       "      <td>NaN</td>\n",
       "      <td>Largest</td>\n",
       "      <td>10000</td>\n",
       "      <td>bruto</td>\n",
       "      <td>4.146463</td>\n",
       "      <td>7.269899</td>\n",
       "      <td>3.123436</td>\n",
       "      <td>41464.634868</td>\n",
       "      <td>46054.811671</td>\n",
       "      <td>4590.176802</td>\n",
       "      <td>10000</td>\n",
       "      <td>6335</td>\n",
       "      <td>3665</td>\n",
       "      <td>9675.256349</td>\n",
       "      <td>367</td>\n",
       "    </tr>\n",
       "    <tr>\n",
       "      <th>sources\\10000\\15\\True\\bruto\\steps.csv</th>\n",
       "      <td>15.0</td>\n",
       "      <td>Largest</td>\n",
       "      <td>10000</td>\n",
       "      <td>bruto</td>\n",
       "      <td>5.551879</td>\n",
       "      <td>5.921528</td>\n",
       "      <td>0.369649</td>\n",
       "      <td>55518.786326</td>\n",
       "      <td>56147.928961</td>\n",
       "      <td>629.142635</td>\n",
       "      <td>10000</td>\n",
       "      <td>9482</td>\n",
       "      <td>518</td>\n",
       "      <td>1683.338367</td>\n",
       "      <td>15</td>\n",
       "    </tr>\n",
       "    <tr>\n",
       "      <th>sources\\10000\\15\\False\\bruto\\steps.csv</th>\n",
       "      <td>15.0</td>\n",
       "      <td>Random</td>\n",
       "      <td>10000</td>\n",
       "      <td>bruto</td>\n",
       "      <td>5.528133</td>\n",
       "      <td>5.574542</td>\n",
       "      <td>0.046409</td>\n",
       "      <td>55281.326239</td>\n",
       "      <td>55371.922378</td>\n",
       "      <td>90.596139</td>\n",
       "      <td>10000</td>\n",
       "      <td>9933</td>\n",
       "      <td>67</td>\n",
       "      <td>1269.716560</td>\n",
       "      <td>15</td>\n",
       "    </tr>\n",
       "    <tr>\n",
       "      <th>sources\\10000\\None\\True\\bruto\\steps.csv</th>\n",
       "      <td>NaN</td>\n",
       "      <td>Largest</td>\n",
       "      <td>10000</td>\n",
       "      <td>bruto</td>\n",
       "      <td>5.457019</td>\n",
       "      <td>6.693041</td>\n",
       "      <td>1.236022</td>\n",
       "      <td>54570.188721</td>\n",
       "      <td>56542.809159</td>\n",
       "      <td>1972.620438</td>\n",
       "      <td>10000</td>\n",
       "      <td>8448</td>\n",
       "      <td>1552</td>\n",
       "      <td>5123.487468</td>\n",
       "      <td>226</td>\n",
       "    </tr>\n",
       "  </tbody>\n",
       "</table>\n",
       "</div>"
      ],
      "text/plain": [
       "                                          LimitSteps PickMethod  \\\n",
       "dna\\10000\\15\\True\\bruto\\steps.csv               15.0    Largest   \n",
       "dna\\10000\\15\\False\\bruto\\steps.csv              15.0     Random   \n",
       "dna\\10000\\None\\True\\bruto\\steps.csv              NaN    Largest   \n",
       "english\\10000\\15\\True\\bruto\\steps.csv           15.0    Largest   \n",
       "english\\10000\\15\\False\\bruto\\steps.csv          15.0     Random   \n",
       "english\\10000\\None\\True\\bruto\\steps.csv          NaN    Largest   \n",
       "proteins\\10000\\15\\True\\bruto\\steps.csv          15.0    Largest   \n",
       "proteins\\10000\\15\\False\\bruto\\steps.csv         15.0     Random   \n",
       "proteins\\10000\\None\\True\\bruto\\steps.csv         NaN    Largest   \n",
       "sources\\10000\\15\\True\\bruto\\steps.csv           15.0    Largest   \n",
       "sources\\10000\\15\\False\\bruto\\steps.csv          15.0     Random   \n",
       "sources\\10000\\None\\True\\bruto\\steps.csv          NaN    Largest   \n",
       "\n",
       "                                          NormalizationValue Optimized  \\\n",
       "dna\\10000\\15\\True\\bruto\\steps.csv                      10000     bruto   \n",
       "dna\\10000\\15\\False\\bruto\\steps.csv                     10000     bruto   \n",
       "dna\\10000\\None\\True\\bruto\\steps.csv                    10000     bruto   \n",
       "english\\10000\\15\\True\\bruto\\steps.csv                  10000     bruto   \n",
       "english\\10000\\15\\False\\bruto\\steps.csv                 10000     bruto   \n",
       "english\\10000\\None\\True\\bruto\\steps.csv                10000     bruto   \n",
       "proteins\\10000\\15\\True\\bruto\\steps.csv                 10000     bruto   \n",
       "proteins\\10000\\15\\False\\bruto\\steps.csv                10000     bruto   \n",
       "proteins\\10000\\None\\True\\bruto\\steps.csv               10000     bruto   \n",
       "sources\\10000\\15\\True\\bruto\\steps.csv                  10000     bruto   \n",
       "sources\\10000\\15\\False\\bruto\\steps.csv                 10000     bruto   \n",
       "sources\\10000\\None\\True\\bruto\\steps.csv                10000     bruto   \n",
       "\n",
       "                                          StartedEntropy  EndedEntropy  \\\n",
       "dna\\10000\\15\\True\\bruto\\steps.csv               1.979908      3.835928   \n",
       "dna\\10000\\15\\False\\bruto\\steps.csv              1.981966      2.852455   \n",
       "dna\\10000\\None\\True\\bruto\\steps.csv             1.989577      6.007436   \n",
       "english\\10000\\15\\True\\bruto\\steps.csv           4.509031      5.156275   \n",
       "english\\10000\\15\\False\\bruto\\steps.csv          4.530381      4.584766   \n",
       "english\\10000\\None\\True\\bruto\\steps.csv         4.512730      6.661476   \n",
       "proteins\\10000\\15\\True\\bruto\\steps.csv          4.202970      4.603190   \n",
       "proteins\\10000\\15\\False\\bruto\\steps.csv         4.195328      4.353783   \n",
       "proteins\\10000\\None\\True\\bruto\\steps.csv        4.146463      7.269899   \n",
       "sources\\10000\\15\\True\\bruto\\steps.csv           5.551879      5.921528   \n",
       "sources\\10000\\15\\False\\bruto\\steps.csv          5.528133      5.574542   \n",
       "sources\\10000\\None\\True\\bruto\\steps.csv         5.457019      6.693041   \n",
       "\n",
       "                                          DiffEntropy  StartedSizeEntropy  \\\n",
       "dna\\10000\\15\\True\\bruto\\steps.csv            1.856019        19799.081694   \n",
       "dna\\10000\\15\\False\\bruto\\steps.csv           0.870489        19819.657628   \n",
       "dna\\10000\\None\\True\\bruto\\steps.csv          4.017859        19895.772726   \n",
       "english\\10000\\15\\True\\bruto\\steps.csv        0.647244        45090.307640   \n",
       "english\\10000\\15\\False\\bruto\\steps.csv       0.054385        45303.812800   \n",
       "english\\10000\\None\\True\\bruto\\steps.csv      2.148746        45127.300249   \n",
       "proteins\\10000\\15\\True\\bruto\\steps.csv       0.400220        42029.704002   \n",
       "proteins\\10000\\15\\False\\bruto\\steps.csv      0.158455        41953.284477   \n",
       "proteins\\10000\\None\\True\\bruto\\steps.csv     3.123436        41464.634868   \n",
       "sources\\10000\\15\\True\\bruto\\steps.csv        0.369649        55518.786326   \n",
       "sources\\10000\\15\\False\\bruto\\steps.csv       0.046409        55281.326239   \n",
       "sources\\10000\\None\\True\\bruto\\steps.csv      1.236022        54570.188721   \n",
       "\n",
       "                                          EndedSizeEntropy  DiffSizeEntropy  \\\n",
       "dna\\10000\\15\\True\\bruto\\steps.csv             23851.797223      4052.715529   \n",
       "dna\\10000\\15\\False\\bruto\\steps.csv            22106.523997      2286.866369   \n",
       "dna\\10000\\None\\True\\bruto\\steps.csv           25783.915322      5888.142596   \n",
       "english\\10000\\15\\True\\bruto\\steps.csv         46236.316575      1146.008935   \n",
       "english\\10000\\15\\False\\bruto\\steps.csv        45421.276767       117.463967   \n",
       "english\\10000\\None\\True\\bruto\\steps.csv       48615.449340      3488.149091   \n",
       "proteins\\10000\\15\\True\\bruto\\steps.csv        42920.146612       890.442610   \n",
       "proteins\\10000\\15\\False\\bruto\\steps.csv       42314.418041       361.133565   \n",
       "proteins\\10000\\None\\True\\bruto\\steps.csv      46054.811671      4590.176802   \n",
       "sources\\10000\\15\\True\\bruto\\steps.csv         56147.928961       629.142635   \n",
       "sources\\10000\\15\\False\\bruto\\steps.csv        55371.922378        90.596139   \n",
       "sources\\10000\\None\\True\\bruto\\steps.csv       56542.809159      1972.620438   \n",
       "\n",
       "                                          StartedMessageSize  \\\n",
       "dna\\10000\\15\\True\\bruto\\steps.csv                      10000   \n",
       "dna\\10000\\15\\False\\bruto\\steps.csv                     10000   \n",
       "dna\\10000\\None\\True\\bruto\\steps.csv                    10000   \n",
       "english\\10000\\15\\True\\bruto\\steps.csv                  10000   \n",
       "english\\10000\\15\\False\\bruto\\steps.csv                 10000   \n",
       "english\\10000\\None\\True\\bruto\\steps.csv                10000   \n",
       "proteins\\10000\\15\\True\\bruto\\steps.csv                 10000   \n",
       "proteins\\10000\\15\\False\\bruto\\steps.csv                10000   \n",
       "proteins\\10000\\None\\True\\bruto\\steps.csv               10000   \n",
       "sources\\10000\\15\\True\\bruto\\steps.csv                  10000   \n",
       "sources\\10000\\15\\False\\bruto\\steps.csv                 10000   \n",
       "sources\\10000\\None\\True\\bruto\\steps.csv                10000   \n",
       "\n",
       "                                          EndedMessageSize  DiffMessageSize  \\\n",
       "dna\\10000\\15\\True\\bruto\\steps.csv                     6218             3782   \n",
       "dna\\10000\\15\\False\\bruto\\steps.csv                    7750             2250   \n",
       "dna\\10000\\None\\True\\bruto\\steps.csv                   4292             5708   \n",
       "english\\10000\\15\\True\\bruto\\steps.csv                 8967             1033   \n",
       "english\\10000\\15\\False\\bruto\\steps.csv                9907               93   \n",
       "english\\10000\\None\\True\\bruto\\steps.csv               7298             2702   \n",
       "proteins\\10000\\15\\True\\bruto\\steps.csv                9324              676   \n",
       "proteins\\10000\\15\\False\\bruto\\steps.csv               9719              281   \n",
       "proteins\\10000\\None\\True\\bruto\\steps.csv              6335             3665   \n",
       "sources\\10000\\15\\True\\bruto\\steps.csv                 9482              518   \n",
       "sources\\10000\\15\\False\\bruto\\steps.csv                9933               67   \n",
       "sources\\10000\\None\\True\\bruto\\steps.csv               8448             1552   \n",
       "\n",
       "                                          CalculationTime  NumberOfSteps  \n",
       "dna\\10000\\15\\True\\bruto\\steps.csv               37.995292             15  \n",
       "dna\\10000\\15\\False\\bruto\\steps.csv              32.605225             15  \n",
       "dna\\10000\\None\\True\\bruto\\steps.csv           3126.732789            228  \n",
       "english\\10000\\15\\True\\bruto\\steps.csv          564.606717             15  \n",
       "english\\10000\\15\\False\\bruto\\steps.csv         489.965724             15  \n",
       "english\\10000\\None\\True\\bruto\\steps.csv       6035.128097            273  \n",
       "proteins\\10000\\15\\True\\bruto\\steps.csv         256.088325             15  \n",
       "proteins\\10000\\15\\False\\bruto\\steps.csv        227.854186             15  \n",
       "proteins\\10000\\None\\True\\bruto\\steps.csv      9675.256349            367  \n",
       "sources\\10000\\15\\True\\bruto\\steps.csv         1683.338367             15  \n",
       "sources\\10000\\15\\False\\bruto\\steps.csv        1269.716560             15  \n",
       "sources\\10000\\None\\True\\bruto\\steps.csv       5123.487468            226  "
      ]
     },
     "execution_count": 92,
     "metadata": {},
     "output_type": "execute_result"
    }
   ],
   "source": [
    "results"
   ]
  },
  {
   "cell_type": "markdown",
   "metadata": {},
   "source": [
    "- Vizualizace času\n",
    "    - Porovnání jednotlivých souborů\n",
    "    - Srovnání proti optimalizované metodě\n",
    "\n",
    "- Srovnání random/largest\n",
    "    - Po n krocích jak se změnilo\n",
    "    - Tabulka hlavní proměnné\n",
    "\n",
    "- Pozorování pohybu po určitém počtu kroků (size, entropy)\n",
    "    - Srovnání napříč více souborů\n",
    "\n",
    "- Finální tabulka výsledků\n",
    "    - Komplet všechny důležité výsledky a jejich srovnání\n",
    "    - Napříč\n",
    "    - Nejlépe hlavní "
   ]
  },
  {
   "cell_type": "markdown",
   "metadata": {},
   "source": [
    "- Vizualizace času\n",
    "    - Porovnání jednotlivých souborů\n",
    "    - Srovnání proti optimalizované metodě"
   ]
  },
  {
   "cell_type": "code",
   "execution_count": 93,
   "metadata": {},
   "outputs": [
    {
     "data": {
      "text/html": [
       "<div>\n",
       "<style scoped>\n",
       "    .dataframe tbody tr th:only-of-type {\n",
       "        vertical-align: middle;\n",
       "    }\n",
       "\n",
       "    .dataframe tbody tr th {\n",
       "        vertical-align: top;\n",
       "    }\n",
       "\n",
       "    .dataframe thead th {\n",
       "        text-align: right;\n",
       "    }\n",
       "</style>\n",
       "<table border=\"1\" class=\"dataframe\">\n",
       "  <thead>\n",
       "    <tr style=\"text-align: right;\">\n",
       "      <th></th>\n",
       "      <th>LimitSteps</th>\n",
       "      <th>PickMethod</th>\n",
       "      <th>NormalizationValue</th>\n",
       "      <th>Optimized</th>\n",
       "      <th>StartedEntropy</th>\n",
       "      <th>EndedEntropy</th>\n",
       "      <th>DiffEntropy</th>\n",
       "      <th>StartedSizeEntropy</th>\n",
       "      <th>EndedSizeEntropy</th>\n",
       "      <th>DiffSizeEntropy</th>\n",
       "      <th>StartedMessageSize</th>\n",
       "      <th>EndedMessageSize</th>\n",
       "      <th>DiffMessageSize</th>\n",
       "      <th>CalculationTime</th>\n",
       "      <th>NumberOfSteps</th>\n",
       "    </tr>\n",
       "  </thead>\n",
       "  <tbody>\n",
       "    <tr>\n",
       "      <th>dna\\10000\\15\\True\\bruto\\steps.csv</th>\n",
       "      <td>15.0</td>\n",
       "      <td>Largest</td>\n",
       "      <td>10000</td>\n",
       "      <td>bruto</td>\n",
       "      <td>1.979908</td>\n",
       "      <td>3.835928</td>\n",
       "      <td>1.856019</td>\n",
       "      <td>19799.081694</td>\n",
       "      <td>23851.797223</td>\n",
       "      <td>4052.715529</td>\n",
       "      <td>10000</td>\n",
       "      <td>6218</td>\n",
       "      <td>3782</td>\n",
       "      <td>37.995292</td>\n",
       "      <td>15</td>\n",
       "    </tr>\n",
       "    <tr>\n",
       "      <th>dna\\10000\\None\\True\\bruto\\steps.csv</th>\n",
       "      <td>NaN</td>\n",
       "      <td>Largest</td>\n",
       "      <td>10000</td>\n",
       "      <td>bruto</td>\n",
       "      <td>1.989577</td>\n",
       "      <td>6.007436</td>\n",
       "      <td>4.017859</td>\n",
       "      <td>19895.772726</td>\n",
       "      <td>25783.915322</td>\n",
       "      <td>5888.142596</td>\n",
       "      <td>10000</td>\n",
       "      <td>4292</td>\n",
       "      <td>5708</td>\n",
       "      <td>3126.732789</td>\n",
       "      <td>228</td>\n",
       "    </tr>\n",
       "    <tr>\n",
       "      <th>english\\10000\\15\\True\\bruto\\steps.csv</th>\n",
       "      <td>15.0</td>\n",
       "      <td>Largest</td>\n",
       "      <td>10000</td>\n",
       "      <td>bruto</td>\n",
       "      <td>4.509031</td>\n",
       "      <td>5.156275</td>\n",
       "      <td>0.647244</td>\n",
       "      <td>45090.307640</td>\n",
       "      <td>46236.316575</td>\n",
       "      <td>1146.008935</td>\n",
       "      <td>10000</td>\n",
       "      <td>8967</td>\n",
       "      <td>1033</td>\n",
       "      <td>564.606717</td>\n",
       "      <td>15</td>\n",
       "    </tr>\n",
       "    <tr>\n",
       "      <th>english\\10000\\None\\True\\bruto\\steps.csv</th>\n",
       "      <td>NaN</td>\n",
       "      <td>Largest</td>\n",
       "      <td>10000</td>\n",
       "      <td>bruto</td>\n",
       "      <td>4.512730</td>\n",
       "      <td>6.661476</td>\n",
       "      <td>2.148746</td>\n",
       "      <td>45127.300249</td>\n",
       "      <td>48615.449340</td>\n",
       "      <td>3488.149091</td>\n",
       "      <td>10000</td>\n",
       "      <td>7298</td>\n",
       "      <td>2702</td>\n",
       "      <td>6035.128097</td>\n",
       "      <td>273</td>\n",
       "    </tr>\n",
       "    <tr>\n",
       "      <th>proteins\\10000\\15\\True\\bruto\\steps.csv</th>\n",
       "      <td>15.0</td>\n",
       "      <td>Largest</td>\n",
       "      <td>10000</td>\n",
       "      <td>bruto</td>\n",
       "      <td>4.202970</td>\n",
       "      <td>4.603190</td>\n",
       "      <td>0.400220</td>\n",
       "      <td>42029.704002</td>\n",
       "      <td>42920.146612</td>\n",
       "      <td>890.442610</td>\n",
       "      <td>10000</td>\n",
       "      <td>9324</td>\n",
       "      <td>676</td>\n",
       "      <td>256.088325</td>\n",
       "      <td>15</td>\n",
       "    </tr>\n",
       "    <tr>\n",
       "      <th>proteins\\10000\\None\\True\\bruto\\steps.csv</th>\n",
       "      <td>NaN</td>\n",
       "      <td>Largest</td>\n",
       "      <td>10000</td>\n",
       "      <td>bruto</td>\n",
       "      <td>4.146463</td>\n",
       "      <td>7.269899</td>\n",
       "      <td>3.123436</td>\n",
       "      <td>41464.634868</td>\n",
       "      <td>46054.811671</td>\n",
       "      <td>4590.176802</td>\n",
       "      <td>10000</td>\n",
       "      <td>6335</td>\n",
       "      <td>3665</td>\n",
       "      <td>9675.256349</td>\n",
       "      <td>367</td>\n",
       "    </tr>\n",
       "    <tr>\n",
       "      <th>sources\\10000\\15\\True\\bruto\\steps.csv</th>\n",
       "      <td>15.0</td>\n",
       "      <td>Largest</td>\n",
       "      <td>10000</td>\n",
       "      <td>bruto</td>\n",
       "      <td>5.551879</td>\n",
       "      <td>5.921528</td>\n",
       "      <td>0.369649</td>\n",
       "      <td>55518.786326</td>\n",
       "      <td>56147.928961</td>\n",
       "      <td>629.142635</td>\n",
       "      <td>10000</td>\n",
       "      <td>9482</td>\n",
       "      <td>518</td>\n",
       "      <td>1683.338367</td>\n",
       "      <td>15</td>\n",
       "    </tr>\n",
       "    <tr>\n",
       "      <th>sources\\10000\\None\\True\\bruto\\steps.csv</th>\n",
       "      <td>NaN</td>\n",
       "      <td>Largest</td>\n",
       "      <td>10000</td>\n",
       "      <td>bruto</td>\n",
       "      <td>5.457019</td>\n",
       "      <td>6.693041</td>\n",
       "      <td>1.236022</td>\n",
       "      <td>54570.188721</td>\n",
       "      <td>56542.809159</td>\n",
       "      <td>1972.620438</td>\n",
       "      <td>10000</td>\n",
       "      <td>8448</td>\n",
       "      <td>1552</td>\n",
       "      <td>5123.487468</td>\n",
       "      <td>226</td>\n",
       "    </tr>\n",
       "  </tbody>\n",
       "</table>\n",
       "</div>"
      ],
      "text/plain": [
       "                                          LimitSteps PickMethod  \\\n",
       "dna\\10000\\15\\True\\bruto\\steps.csv               15.0    Largest   \n",
       "dna\\10000\\None\\True\\bruto\\steps.csv              NaN    Largest   \n",
       "english\\10000\\15\\True\\bruto\\steps.csv           15.0    Largest   \n",
       "english\\10000\\None\\True\\bruto\\steps.csv          NaN    Largest   \n",
       "proteins\\10000\\15\\True\\bruto\\steps.csv          15.0    Largest   \n",
       "proteins\\10000\\None\\True\\bruto\\steps.csv         NaN    Largest   \n",
       "sources\\10000\\15\\True\\bruto\\steps.csv           15.0    Largest   \n",
       "sources\\10000\\None\\True\\bruto\\steps.csv          NaN    Largest   \n",
       "\n",
       "                                          NormalizationValue Optimized  \\\n",
       "dna\\10000\\15\\True\\bruto\\steps.csv                      10000     bruto   \n",
       "dna\\10000\\None\\True\\bruto\\steps.csv                    10000     bruto   \n",
       "english\\10000\\15\\True\\bruto\\steps.csv                  10000     bruto   \n",
       "english\\10000\\None\\True\\bruto\\steps.csv                10000     bruto   \n",
       "proteins\\10000\\15\\True\\bruto\\steps.csv                 10000     bruto   \n",
       "proteins\\10000\\None\\True\\bruto\\steps.csv               10000     bruto   \n",
       "sources\\10000\\15\\True\\bruto\\steps.csv                  10000     bruto   \n",
       "sources\\10000\\None\\True\\bruto\\steps.csv                10000     bruto   \n",
       "\n",
       "                                          StartedEntropy  EndedEntropy  \\\n",
       "dna\\10000\\15\\True\\bruto\\steps.csv               1.979908      3.835928   \n",
       "dna\\10000\\None\\True\\bruto\\steps.csv             1.989577      6.007436   \n",
       "english\\10000\\15\\True\\bruto\\steps.csv           4.509031      5.156275   \n",
       "english\\10000\\None\\True\\bruto\\steps.csv         4.512730      6.661476   \n",
       "proteins\\10000\\15\\True\\bruto\\steps.csv          4.202970      4.603190   \n",
       "proteins\\10000\\None\\True\\bruto\\steps.csv        4.146463      7.269899   \n",
       "sources\\10000\\15\\True\\bruto\\steps.csv           5.551879      5.921528   \n",
       "sources\\10000\\None\\True\\bruto\\steps.csv         5.457019      6.693041   \n",
       "\n",
       "                                          DiffEntropy  StartedSizeEntropy  \\\n",
       "dna\\10000\\15\\True\\bruto\\steps.csv            1.856019        19799.081694   \n",
       "dna\\10000\\None\\True\\bruto\\steps.csv          4.017859        19895.772726   \n",
       "english\\10000\\15\\True\\bruto\\steps.csv        0.647244        45090.307640   \n",
       "english\\10000\\None\\True\\bruto\\steps.csv      2.148746        45127.300249   \n",
       "proteins\\10000\\15\\True\\bruto\\steps.csv       0.400220        42029.704002   \n",
       "proteins\\10000\\None\\True\\bruto\\steps.csv     3.123436        41464.634868   \n",
       "sources\\10000\\15\\True\\bruto\\steps.csv        0.369649        55518.786326   \n",
       "sources\\10000\\None\\True\\bruto\\steps.csv      1.236022        54570.188721   \n",
       "\n",
       "                                          EndedSizeEntropy  DiffSizeEntropy  \\\n",
       "dna\\10000\\15\\True\\bruto\\steps.csv             23851.797223      4052.715529   \n",
       "dna\\10000\\None\\True\\bruto\\steps.csv           25783.915322      5888.142596   \n",
       "english\\10000\\15\\True\\bruto\\steps.csv         46236.316575      1146.008935   \n",
       "english\\10000\\None\\True\\bruto\\steps.csv       48615.449340      3488.149091   \n",
       "proteins\\10000\\15\\True\\bruto\\steps.csv        42920.146612       890.442610   \n",
       "proteins\\10000\\None\\True\\bruto\\steps.csv      46054.811671      4590.176802   \n",
       "sources\\10000\\15\\True\\bruto\\steps.csv         56147.928961       629.142635   \n",
       "sources\\10000\\None\\True\\bruto\\steps.csv       56542.809159      1972.620438   \n",
       "\n",
       "                                          StartedMessageSize  \\\n",
       "dna\\10000\\15\\True\\bruto\\steps.csv                      10000   \n",
       "dna\\10000\\None\\True\\bruto\\steps.csv                    10000   \n",
       "english\\10000\\15\\True\\bruto\\steps.csv                  10000   \n",
       "english\\10000\\None\\True\\bruto\\steps.csv                10000   \n",
       "proteins\\10000\\15\\True\\bruto\\steps.csv                 10000   \n",
       "proteins\\10000\\None\\True\\bruto\\steps.csv               10000   \n",
       "sources\\10000\\15\\True\\bruto\\steps.csv                  10000   \n",
       "sources\\10000\\None\\True\\bruto\\steps.csv                10000   \n",
       "\n",
       "                                          EndedMessageSize  DiffMessageSize  \\\n",
       "dna\\10000\\15\\True\\bruto\\steps.csv                     6218             3782   \n",
       "dna\\10000\\None\\True\\bruto\\steps.csv                   4292             5708   \n",
       "english\\10000\\15\\True\\bruto\\steps.csv                 8967             1033   \n",
       "english\\10000\\None\\True\\bruto\\steps.csv               7298             2702   \n",
       "proteins\\10000\\15\\True\\bruto\\steps.csv                9324              676   \n",
       "proteins\\10000\\None\\True\\bruto\\steps.csv              6335             3665   \n",
       "sources\\10000\\15\\True\\bruto\\steps.csv                 9482              518   \n",
       "sources\\10000\\None\\True\\bruto\\steps.csv               8448             1552   \n",
       "\n",
       "                                          CalculationTime  NumberOfSteps  \n",
       "dna\\10000\\15\\True\\bruto\\steps.csv               37.995292             15  \n",
       "dna\\10000\\None\\True\\bruto\\steps.csv           3126.732789            228  \n",
       "english\\10000\\15\\True\\bruto\\steps.csv          564.606717             15  \n",
       "english\\10000\\None\\True\\bruto\\steps.csv       6035.128097            273  \n",
       "proteins\\10000\\15\\True\\bruto\\steps.csv         256.088325             15  \n",
       "proteins\\10000\\None\\True\\bruto\\steps.csv      9675.256349            367  \n",
       "sources\\10000\\15\\True\\bruto\\steps.csv         1683.338367             15  \n",
       "sources\\10000\\None\\True\\bruto\\steps.csv       5123.487468            226  "
      ]
     },
     "execution_count": 93,
     "metadata": {},
     "output_type": "execute_result"
    }
   ],
   "source": [
    "largest_only = results[results.PickMethod == 'Largest']\n",
    "largest_only"
   ]
  },
  {
   "cell_type": "code",
   "execution_count": 73,
   "metadata": {},
   "outputs": [
    {
     "data": {
      "application/vnd.plotly.v1+json": {
       "config": {
        "plotlyServerURL": "https://plot.ly"
       },
       "data": [
        {
         "alignmentgroup": "True",
         "hovertemplate": "Typ=%{x}<br>Doba zpracování=%{y}<br>text=%{text}<extra></extra>",
         "legendgroup": "",
         "marker": {
          "color": "#636efa",
          "pattern": {
           "shape": ""
          }
         },
         "name": "",
         "offsetgroup": "",
         "orientation": "v",
         "showlegend": false,
         "text": [
          "3126.73",
          "6035.13",
          "9675.26",
          "5123.49"
         ],
         "textposition": "auto",
         "type": "bar",
         "x": [
          "Dna",
          "English",
          "Proteins",
          "Sources"
         ],
         "xaxis": "x",
         "y": [
          3126.7327885627747,
          6035.1280970573425,
          9675.25634932518,
          5123.487468004227
         ],
         "yaxis": "y"
        }
       ],
       "layout": {
        "barmode": "relative",
        "legend": {
         "tracegroupgap": 0
        },
        "template": {
         "data": {
          "bar": [
           {
            "error_x": {
             "color": "#2a3f5f"
            },
            "error_y": {
             "color": "#2a3f5f"
            },
            "marker": {
             "line": {
              "color": "#E5ECF6",
              "width": 0.5
             },
             "pattern": {
              "fillmode": "overlay",
              "size": 10,
              "solidity": 0.2
             }
            },
            "type": "bar"
           }
          ],
          "barpolar": [
           {
            "marker": {
             "line": {
              "color": "#E5ECF6",
              "width": 0.5
             },
             "pattern": {
              "fillmode": "overlay",
              "size": 10,
              "solidity": 0.2
             }
            },
            "type": "barpolar"
           }
          ],
          "carpet": [
           {
            "aaxis": {
             "endlinecolor": "#2a3f5f",
             "gridcolor": "white",
             "linecolor": "white",
             "minorgridcolor": "white",
             "startlinecolor": "#2a3f5f"
            },
            "baxis": {
             "endlinecolor": "#2a3f5f",
             "gridcolor": "white",
             "linecolor": "white",
             "minorgridcolor": "white",
             "startlinecolor": "#2a3f5f"
            },
            "type": "carpet"
           }
          ],
          "choropleth": [
           {
            "colorbar": {
             "outlinewidth": 0,
             "ticks": ""
            },
            "type": "choropleth"
           }
          ],
          "contour": [
           {
            "colorbar": {
             "outlinewidth": 0,
             "ticks": ""
            },
            "colorscale": [
             [
              0,
              "#0d0887"
             ],
             [
              0.1111111111111111,
              "#46039f"
             ],
             [
              0.2222222222222222,
              "#7201a8"
             ],
             [
              0.3333333333333333,
              "#9c179e"
             ],
             [
              0.4444444444444444,
              "#bd3786"
             ],
             [
              0.5555555555555556,
              "#d8576b"
             ],
             [
              0.6666666666666666,
              "#ed7953"
             ],
             [
              0.7777777777777778,
              "#fb9f3a"
             ],
             [
              0.8888888888888888,
              "#fdca26"
             ],
             [
              1,
              "#f0f921"
             ]
            ],
            "type": "contour"
           }
          ],
          "contourcarpet": [
           {
            "colorbar": {
             "outlinewidth": 0,
             "ticks": ""
            },
            "type": "contourcarpet"
           }
          ],
          "heatmap": [
           {
            "colorbar": {
             "outlinewidth": 0,
             "ticks": ""
            },
            "colorscale": [
             [
              0,
              "#0d0887"
             ],
             [
              0.1111111111111111,
              "#46039f"
             ],
             [
              0.2222222222222222,
              "#7201a8"
             ],
             [
              0.3333333333333333,
              "#9c179e"
             ],
             [
              0.4444444444444444,
              "#bd3786"
             ],
             [
              0.5555555555555556,
              "#d8576b"
             ],
             [
              0.6666666666666666,
              "#ed7953"
             ],
             [
              0.7777777777777778,
              "#fb9f3a"
             ],
             [
              0.8888888888888888,
              "#fdca26"
             ],
             [
              1,
              "#f0f921"
             ]
            ],
            "type": "heatmap"
           }
          ],
          "heatmapgl": [
           {
            "colorbar": {
             "outlinewidth": 0,
             "ticks": ""
            },
            "colorscale": [
             [
              0,
              "#0d0887"
             ],
             [
              0.1111111111111111,
              "#46039f"
             ],
             [
              0.2222222222222222,
              "#7201a8"
             ],
             [
              0.3333333333333333,
              "#9c179e"
             ],
             [
              0.4444444444444444,
              "#bd3786"
             ],
             [
              0.5555555555555556,
              "#d8576b"
             ],
             [
              0.6666666666666666,
              "#ed7953"
             ],
             [
              0.7777777777777778,
              "#fb9f3a"
             ],
             [
              0.8888888888888888,
              "#fdca26"
             ],
             [
              1,
              "#f0f921"
             ]
            ],
            "type": "heatmapgl"
           }
          ],
          "histogram": [
           {
            "marker": {
             "pattern": {
              "fillmode": "overlay",
              "size": 10,
              "solidity": 0.2
             }
            },
            "type": "histogram"
           }
          ],
          "histogram2d": [
           {
            "colorbar": {
             "outlinewidth": 0,
             "ticks": ""
            },
            "colorscale": [
             [
              0,
              "#0d0887"
             ],
             [
              0.1111111111111111,
              "#46039f"
             ],
             [
              0.2222222222222222,
              "#7201a8"
             ],
             [
              0.3333333333333333,
              "#9c179e"
             ],
             [
              0.4444444444444444,
              "#bd3786"
             ],
             [
              0.5555555555555556,
              "#d8576b"
             ],
             [
              0.6666666666666666,
              "#ed7953"
             ],
             [
              0.7777777777777778,
              "#fb9f3a"
             ],
             [
              0.8888888888888888,
              "#fdca26"
             ],
             [
              1,
              "#f0f921"
             ]
            ],
            "type": "histogram2d"
           }
          ],
          "histogram2dcontour": [
           {
            "colorbar": {
             "outlinewidth": 0,
             "ticks": ""
            },
            "colorscale": [
             [
              0,
              "#0d0887"
             ],
             [
              0.1111111111111111,
              "#46039f"
             ],
             [
              0.2222222222222222,
              "#7201a8"
             ],
             [
              0.3333333333333333,
              "#9c179e"
             ],
             [
              0.4444444444444444,
              "#bd3786"
             ],
             [
              0.5555555555555556,
              "#d8576b"
             ],
             [
              0.6666666666666666,
              "#ed7953"
             ],
             [
              0.7777777777777778,
              "#fb9f3a"
             ],
             [
              0.8888888888888888,
              "#fdca26"
             ],
             [
              1,
              "#f0f921"
             ]
            ],
            "type": "histogram2dcontour"
           }
          ],
          "mesh3d": [
           {
            "colorbar": {
             "outlinewidth": 0,
             "ticks": ""
            },
            "type": "mesh3d"
           }
          ],
          "parcoords": [
           {
            "line": {
             "colorbar": {
              "outlinewidth": 0,
              "ticks": ""
             }
            },
            "type": "parcoords"
           }
          ],
          "pie": [
           {
            "automargin": true,
            "type": "pie"
           }
          ],
          "scatter": [
           {
            "marker": {
             "colorbar": {
              "outlinewidth": 0,
              "ticks": ""
             }
            },
            "type": "scatter"
           }
          ],
          "scatter3d": [
           {
            "line": {
             "colorbar": {
              "outlinewidth": 0,
              "ticks": ""
             }
            },
            "marker": {
             "colorbar": {
              "outlinewidth": 0,
              "ticks": ""
             }
            },
            "type": "scatter3d"
           }
          ],
          "scattercarpet": [
           {
            "marker": {
             "colorbar": {
              "outlinewidth": 0,
              "ticks": ""
             }
            },
            "type": "scattercarpet"
           }
          ],
          "scattergeo": [
           {
            "marker": {
             "colorbar": {
              "outlinewidth": 0,
              "ticks": ""
             }
            },
            "type": "scattergeo"
           }
          ],
          "scattergl": [
           {
            "marker": {
             "colorbar": {
              "outlinewidth": 0,
              "ticks": ""
             }
            },
            "type": "scattergl"
           }
          ],
          "scattermapbox": [
           {
            "marker": {
             "colorbar": {
              "outlinewidth": 0,
              "ticks": ""
             }
            },
            "type": "scattermapbox"
           }
          ],
          "scatterpolar": [
           {
            "marker": {
             "colorbar": {
              "outlinewidth": 0,
              "ticks": ""
             }
            },
            "type": "scatterpolar"
           }
          ],
          "scatterpolargl": [
           {
            "marker": {
             "colorbar": {
              "outlinewidth": 0,
              "ticks": ""
             }
            },
            "type": "scatterpolargl"
           }
          ],
          "scatterternary": [
           {
            "marker": {
             "colorbar": {
              "outlinewidth": 0,
              "ticks": ""
             }
            },
            "type": "scatterternary"
           }
          ],
          "surface": [
           {
            "colorbar": {
             "outlinewidth": 0,
             "ticks": ""
            },
            "colorscale": [
             [
              0,
              "#0d0887"
             ],
             [
              0.1111111111111111,
              "#46039f"
             ],
             [
              0.2222222222222222,
              "#7201a8"
             ],
             [
              0.3333333333333333,
              "#9c179e"
             ],
             [
              0.4444444444444444,
              "#bd3786"
             ],
             [
              0.5555555555555556,
              "#d8576b"
             ],
             [
              0.6666666666666666,
              "#ed7953"
             ],
             [
              0.7777777777777778,
              "#fb9f3a"
             ],
             [
              0.8888888888888888,
              "#fdca26"
             ],
             [
              1,
              "#f0f921"
             ]
            ],
            "type": "surface"
           }
          ],
          "table": [
           {
            "cells": {
             "fill": {
              "color": "#EBF0F8"
             },
             "line": {
              "color": "white"
             }
            },
            "header": {
             "fill": {
              "color": "#C8D4E3"
             },
             "line": {
              "color": "white"
             }
            },
            "type": "table"
           }
          ]
         },
         "layout": {
          "annotationdefaults": {
           "arrowcolor": "#2a3f5f",
           "arrowhead": 0,
           "arrowwidth": 1
          },
          "autotypenumbers": "strict",
          "coloraxis": {
           "colorbar": {
            "outlinewidth": 0,
            "ticks": ""
           }
          },
          "colorscale": {
           "diverging": [
            [
             0,
             "#8e0152"
            ],
            [
             0.1,
             "#c51b7d"
            ],
            [
             0.2,
             "#de77ae"
            ],
            [
             0.3,
             "#f1b6da"
            ],
            [
             0.4,
             "#fde0ef"
            ],
            [
             0.5,
             "#f7f7f7"
            ],
            [
             0.6,
             "#e6f5d0"
            ],
            [
             0.7,
             "#b8e186"
            ],
            [
             0.8,
             "#7fbc41"
            ],
            [
             0.9,
             "#4d9221"
            ],
            [
             1,
             "#276419"
            ]
           ],
           "sequential": [
            [
             0,
             "#0d0887"
            ],
            [
             0.1111111111111111,
             "#46039f"
            ],
            [
             0.2222222222222222,
             "#7201a8"
            ],
            [
             0.3333333333333333,
             "#9c179e"
            ],
            [
             0.4444444444444444,
             "#bd3786"
            ],
            [
             0.5555555555555556,
             "#d8576b"
            ],
            [
             0.6666666666666666,
             "#ed7953"
            ],
            [
             0.7777777777777778,
             "#fb9f3a"
            ],
            [
             0.8888888888888888,
             "#fdca26"
            ],
            [
             1,
             "#f0f921"
            ]
           ],
           "sequentialminus": [
            [
             0,
             "#0d0887"
            ],
            [
             0.1111111111111111,
             "#46039f"
            ],
            [
             0.2222222222222222,
             "#7201a8"
            ],
            [
             0.3333333333333333,
             "#9c179e"
            ],
            [
             0.4444444444444444,
             "#bd3786"
            ],
            [
             0.5555555555555556,
             "#d8576b"
            ],
            [
             0.6666666666666666,
             "#ed7953"
            ],
            [
             0.7777777777777778,
             "#fb9f3a"
            ],
            [
             0.8888888888888888,
             "#fdca26"
            ],
            [
             1,
             "#f0f921"
            ]
           ]
          },
          "colorway": [
           "#636efa",
           "#EF553B",
           "#00cc96",
           "#ab63fa",
           "#FFA15A",
           "#19d3f3",
           "#FF6692",
           "#B6E880",
           "#FF97FF",
           "#FECB52"
          ],
          "font": {
           "color": "#2a3f5f"
          },
          "geo": {
           "bgcolor": "white",
           "lakecolor": "white",
           "landcolor": "#E5ECF6",
           "showlakes": true,
           "showland": true,
           "subunitcolor": "white"
          },
          "hoverlabel": {
           "align": "left"
          },
          "hovermode": "closest",
          "mapbox": {
           "style": "light"
          },
          "paper_bgcolor": "white",
          "plot_bgcolor": "#E5ECF6",
          "polar": {
           "angularaxis": {
            "gridcolor": "white",
            "linecolor": "white",
            "ticks": ""
           },
           "bgcolor": "#E5ECF6",
           "radialaxis": {
            "gridcolor": "white",
            "linecolor": "white",
            "ticks": ""
           }
          },
          "scene": {
           "xaxis": {
            "backgroundcolor": "#E5ECF6",
            "gridcolor": "white",
            "gridwidth": 2,
            "linecolor": "white",
            "showbackground": true,
            "ticks": "",
            "zerolinecolor": "white"
           },
           "yaxis": {
            "backgroundcolor": "#E5ECF6",
            "gridcolor": "white",
            "gridwidth": 2,
            "linecolor": "white",
            "showbackground": true,
            "ticks": "",
            "zerolinecolor": "white"
           },
           "zaxis": {
            "backgroundcolor": "#E5ECF6",
            "gridcolor": "white",
            "gridwidth": 2,
            "linecolor": "white",
            "showbackground": true,
            "ticks": "",
            "zerolinecolor": "white"
           }
          },
          "shapedefaults": {
           "line": {
            "color": "#2a3f5f"
           }
          },
          "ternary": {
           "aaxis": {
            "gridcolor": "white",
            "linecolor": "white",
            "ticks": ""
           },
           "baxis": {
            "gridcolor": "white",
            "linecolor": "white",
            "ticks": ""
           },
           "bgcolor": "#E5ECF6",
           "caxis": {
            "gridcolor": "white",
            "linecolor": "white",
            "ticks": ""
           }
          },
          "title": {
           "x": 0.05
          },
          "xaxis": {
           "automargin": true,
           "gridcolor": "white",
           "linecolor": "white",
           "ticks": "",
           "title": {
            "standoff": 15
           },
           "zerolinecolor": "white",
           "zerolinewidth": 2
          },
          "yaxis": {
           "automargin": true,
           "gridcolor": "white",
           "linecolor": "white",
           "ticks": "",
           "title": {
            "standoff": 15
           },
           "zerolinecolor": "white",
           "zerolinewidth": 2
          }
         }
        },
        "title": {
         "text": "Čas zpracování"
        },
        "xaxis": {
         "anchor": "y",
         "domain": [
          0,
          1
         ],
         "title": {
          "text": "Typ"
         }
        },
        "yaxis": {
         "anchor": "x",
         "domain": [
          0,
          1
         ],
         "title": {
          "text": "Doba zpracování"
         }
        }
       }
      }
     },
     "metadata": {},
     "output_type": "display_data"
    }
   ],
   "source": [
    "fig = px.bar(\n",
    "    largest_only,\n",
    "    title=\"Čas zpracování\",\n",
    "    x=['Dna', 'English', 'Proteins', 'Sources'],\n",
    "    y='CalculationTime', \n",
    "    text=[(\"%.2f\" % x) for x in largest_only.CalculationTime.values],\n",
    "    labels=dict(x=\"Typ\", CalculationTime=\"Doba zpracování\")\n",
    ")\n",
    "\n",
    "fig.show()"
   ]
  },
  {
   "cell_type": "code",
   "execution_count": 74,
   "metadata": {},
   "outputs": [
    {
     "data": {
      "application/vnd.plotly.v1+json": {
       "config": {
        "plotlyServerURL": "https://plot.ly"
       },
       "data": [
        {
         "alignmentgroup": "True",
         "hovertemplate": "Typ=%{x}<br>Doba zpracování=%{y}<br>text=%{text}<extra></extra>",
         "legendgroup": "",
         "marker": {
          "color": "#636efa",
          "pattern": {
           "shape": ""
          }
         },
         "name": "",
         "offsetgroup": "",
         "orientation": "v",
         "showlegend": false,
         "text": [
          "3126.73",
          "6035.13",
          "9675.26",
          "5123.49"
         ],
         "textposition": "auto",
         "type": "bar",
         "x": [
          "Dna",
          "English",
          "Proteins",
          "Sources"
         ],
         "xaxis": "x",
         "y": [
          3126.7327885627747,
          6035.1280970573425,
          9675.25634932518,
          5123.487468004227
         ],
         "yaxis": "y"
        }
       ],
       "layout": {
        "barmode": "relative",
        "legend": {
         "tracegroupgap": 0
        },
        "template": {
         "data": {
          "bar": [
           {
            "error_x": {
             "color": "#2a3f5f"
            },
            "error_y": {
             "color": "#2a3f5f"
            },
            "marker": {
             "line": {
              "color": "#E5ECF6",
              "width": 0.5
             },
             "pattern": {
              "fillmode": "overlay",
              "size": 10,
              "solidity": 0.2
             }
            },
            "type": "bar"
           }
          ],
          "barpolar": [
           {
            "marker": {
             "line": {
              "color": "#E5ECF6",
              "width": 0.5
             },
             "pattern": {
              "fillmode": "overlay",
              "size": 10,
              "solidity": 0.2
             }
            },
            "type": "barpolar"
           }
          ],
          "carpet": [
           {
            "aaxis": {
             "endlinecolor": "#2a3f5f",
             "gridcolor": "white",
             "linecolor": "white",
             "minorgridcolor": "white",
             "startlinecolor": "#2a3f5f"
            },
            "baxis": {
             "endlinecolor": "#2a3f5f",
             "gridcolor": "white",
             "linecolor": "white",
             "minorgridcolor": "white",
             "startlinecolor": "#2a3f5f"
            },
            "type": "carpet"
           }
          ],
          "choropleth": [
           {
            "colorbar": {
             "outlinewidth": 0,
             "ticks": ""
            },
            "type": "choropleth"
           }
          ],
          "contour": [
           {
            "colorbar": {
             "outlinewidth": 0,
             "ticks": ""
            },
            "colorscale": [
             [
              0,
              "#0d0887"
             ],
             [
              0.1111111111111111,
              "#46039f"
             ],
             [
              0.2222222222222222,
              "#7201a8"
             ],
             [
              0.3333333333333333,
              "#9c179e"
             ],
             [
              0.4444444444444444,
              "#bd3786"
             ],
             [
              0.5555555555555556,
              "#d8576b"
             ],
             [
              0.6666666666666666,
              "#ed7953"
             ],
             [
              0.7777777777777778,
              "#fb9f3a"
             ],
             [
              0.8888888888888888,
              "#fdca26"
             ],
             [
              1,
              "#f0f921"
             ]
            ],
            "type": "contour"
           }
          ],
          "contourcarpet": [
           {
            "colorbar": {
             "outlinewidth": 0,
             "ticks": ""
            },
            "type": "contourcarpet"
           }
          ],
          "heatmap": [
           {
            "colorbar": {
             "outlinewidth": 0,
             "ticks": ""
            },
            "colorscale": [
             [
              0,
              "#0d0887"
             ],
             [
              0.1111111111111111,
              "#46039f"
             ],
             [
              0.2222222222222222,
              "#7201a8"
             ],
             [
              0.3333333333333333,
              "#9c179e"
             ],
             [
              0.4444444444444444,
              "#bd3786"
             ],
             [
              0.5555555555555556,
              "#d8576b"
             ],
             [
              0.6666666666666666,
              "#ed7953"
             ],
             [
              0.7777777777777778,
              "#fb9f3a"
             ],
             [
              0.8888888888888888,
              "#fdca26"
             ],
             [
              1,
              "#f0f921"
             ]
            ],
            "type": "heatmap"
           }
          ],
          "heatmapgl": [
           {
            "colorbar": {
             "outlinewidth": 0,
             "ticks": ""
            },
            "colorscale": [
             [
              0,
              "#0d0887"
             ],
             [
              0.1111111111111111,
              "#46039f"
             ],
             [
              0.2222222222222222,
              "#7201a8"
             ],
             [
              0.3333333333333333,
              "#9c179e"
             ],
             [
              0.4444444444444444,
              "#bd3786"
             ],
             [
              0.5555555555555556,
              "#d8576b"
             ],
             [
              0.6666666666666666,
              "#ed7953"
             ],
             [
              0.7777777777777778,
              "#fb9f3a"
             ],
             [
              0.8888888888888888,
              "#fdca26"
             ],
             [
              1,
              "#f0f921"
             ]
            ],
            "type": "heatmapgl"
           }
          ],
          "histogram": [
           {
            "marker": {
             "pattern": {
              "fillmode": "overlay",
              "size": 10,
              "solidity": 0.2
             }
            },
            "type": "histogram"
           }
          ],
          "histogram2d": [
           {
            "colorbar": {
             "outlinewidth": 0,
             "ticks": ""
            },
            "colorscale": [
             [
              0,
              "#0d0887"
             ],
             [
              0.1111111111111111,
              "#46039f"
             ],
             [
              0.2222222222222222,
              "#7201a8"
             ],
             [
              0.3333333333333333,
              "#9c179e"
             ],
             [
              0.4444444444444444,
              "#bd3786"
             ],
             [
              0.5555555555555556,
              "#d8576b"
             ],
             [
              0.6666666666666666,
              "#ed7953"
             ],
             [
              0.7777777777777778,
              "#fb9f3a"
             ],
             [
              0.8888888888888888,
              "#fdca26"
             ],
             [
              1,
              "#f0f921"
             ]
            ],
            "type": "histogram2d"
           }
          ],
          "histogram2dcontour": [
           {
            "colorbar": {
             "outlinewidth": 0,
             "ticks": ""
            },
            "colorscale": [
             [
              0,
              "#0d0887"
             ],
             [
              0.1111111111111111,
              "#46039f"
             ],
             [
              0.2222222222222222,
              "#7201a8"
             ],
             [
              0.3333333333333333,
              "#9c179e"
             ],
             [
              0.4444444444444444,
              "#bd3786"
             ],
             [
              0.5555555555555556,
              "#d8576b"
             ],
             [
              0.6666666666666666,
              "#ed7953"
             ],
             [
              0.7777777777777778,
              "#fb9f3a"
             ],
             [
              0.8888888888888888,
              "#fdca26"
             ],
             [
              1,
              "#f0f921"
             ]
            ],
            "type": "histogram2dcontour"
           }
          ],
          "mesh3d": [
           {
            "colorbar": {
             "outlinewidth": 0,
             "ticks": ""
            },
            "type": "mesh3d"
           }
          ],
          "parcoords": [
           {
            "line": {
             "colorbar": {
              "outlinewidth": 0,
              "ticks": ""
             }
            },
            "type": "parcoords"
           }
          ],
          "pie": [
           {
            "automargin": true,
            "type": "pie"
           }
          ],
          "scatter": [
           {
            "marker": {
             "colorbar": {
              "outlinewidth": 0,
              "ticks": ""
             }
            },
            "type": "scatter"
           }
          ],
          "scatter3d": [
           {
            "line": {
             "colorbar": {
              "outlinewidth": 0,
              "ticks": ""
             }
            },
            "marker": {
             "colorbar": {
              "outlinewidth": 0,
              "ticks": ""
             }
            },
            "type": "scatter3d"
           }
          ],
          "scattercarpet": [
           {
            "marker": {
             "colorbar": {
              "outlinewidth": 0,
              "ticks": ""
             }
            },
            "type": "scattercarpet"
           }
          ],
          "scattergeo": [
           {
            "marker": {
             "colorbar": {
              "outlinewidth": 0,
              "ticks": ""
             }
            },
            "type": "scattergeo"
           }
          ],
          "scattergl": [
           {
            "marker": {
             "colorbar": {
              "outlinewidth": 0,
              "ticks": ""
             }
            },
            "type": "scattergl"
           }
          ],
          "scattermapbox": [
           {
            "marker": {
             "colorbar": {
              "outlinewidth": 0,
              "ticks": ""
             }
            },
            "type": "scattermapbox"
           }
          ],
          "scatterpolar": [
           {
            "marker": {
             "colorbar": {
              "outlinewidth": 0,
              "ticks": ""
             }
            },
            "type": "scatterpolar"
           }
          ],
          "scatterpolargl": [
           {
            "marker": {
             "colorbar": {
              "outlinewidth": 0,
              "ticks": ""
             }
            },
            "type": "scatterpolargl"
           }
          ],
          "scatterternary": [
           {
            "marker": {
             "colorbar": {
              "outlinewidth": 0,
              "ticks": ""
             }
            },
            "type": "scatterternary"
           }
          ],
          "surface": [
           {
            "colorbar": {
             "outlinewidth": 0,
             "ticks": ""
            },
            "colorscale": [
             [
              0,
              "#0d0887"
             ],
             [
              0.1111111111111111,
              "#46039f"
             ],
             [
              0.2222222222222222,
              "#7201a8"
             ],
             [
              0.3333333333333333,
              "#9c179e"
             ],
             [
              0.4444444444444444,
              "#bd3786"
             ],
             [
              0.5555555555555556,
              "#d8576b"
             ],
             [
              0.6666666666666666,
              "#ed7953"
             ],
             [
              0.7777777777777778,
              "#fb9f3a"
             ],
             [
              0.8888888888888888,
              "#fdca26"
             ],
             [
              1,
              "#f0f921"
             ]
            ],
            "type": "surface"
           }
          ],
          "table": [
           {
            "cells": {
             "fill": {
              "color": "#EBF0F8"
             },
             "line": {
              "color": "white"
             }
            },
            "header": {
             "fill": {
              "color": "#C8D4E3"
             },
             "line": {
              "color": "white"
             }
            },
            "type": "table"
           }
          ]
         },
         "layout": {
          "annotationdefaults": {
           "arrowcolor": "#2a3f5f",
           "arrowhead": 0,
           "arrowwidth": 1
          },
          "autotypenumbers": "strict",
          "coloraxis": {
           "colorbar": {
            "outlinewidth": 0,
            "ticks": ""
           }
          },
          "colorscale": {
           "diverging": [
            [
             0,
             "#8e0152"
            ],
            [
             0.1,
             "#c51b7d"
            ],
            [
             0.2,
             "#de77ae"
            ],
            [
             0.3,
             "#f1b6da"
            ],
            [
             0.4,
             "#fde0ef"
            ],
            [
             0.5,
             "#f7f7f7"
            ],
            [
             0.6,
             "#e6f5d0"
            ],
            [
             0.7,
             "#b8e186"
            ],
            [
             0.8,
             "#7fbc41"
            ],
            [
             0.9,
             "#4d9221"
            ],
            [
             1,
             "#276419"
            ]
           ],
           "sequential": [
            [
             0,
             "#0d0887"
            ],
            [
             0.1111111111111111,
             "#46039f"
            ],
            [
             0.2222222222222222,
             "#7201a8"
            ],
            [
             0.3333333333333333,
             "#9c179e"
            ],
            [
             0.4444444444444444,
             "#bd3786"
            ],
            [
             0.5555555555555556,
             "#d8576b"
            ],
            [
             0.6666666666666666,
             "#ed7953"
            ],
            [
             0.7777777777777778,
             "#fb9f3a"
            ],
            [
             0.8888888888888888,
             "#fdca26"
            ],
            [
             1,
             "#f0f921"
            ]
           ],
           "sequentialminus": [
            [
             0,
             "#0d0887"
            ],
            [
             0.1111111111111111,
             "#46039f"
            ],
            [
             0.2222222222222222,
             "#7201a8"
            ],
            [
             0.3333333333333333,
             "#9c179e"
            ],
            [
             0.4444444444444444,
             "#bd3786"
            ],
            [
             0.5555555555555556,
             "#d8576b"
            ],
            [
             0.6666666666666666,
             "#ed7953"
            ],
            [
             0.7777777777777778,
             "#fb9f3a"
            ],
            [
             0.8888888888888888,
             "#fdca26"
            ],
            [
             1,
             "#f0f921"
            ]
           ]
          },
          "colorway": [
           "#636efa",
           "#EF553B",
           "#00cc96",
           "#ab63fa",
           "#FFA15A",
           "#19d3f3",
           "#FF6692",
           "#B6E880",
           "#FF97FF",
           "#FECB52"
          ],
          "font": {
           "color": "#2a3f5f"
          },
          "geo": {
           "bgcolor": "white",
           "lakecolor": "white",
           "landcolor": "#E5ECF6",
           "showlakes": true,
           "showland": true,
           "subunitcolor": "white"
          },
          "hoverlabel": {
           "align": "left"
          },
          "hovermode": "closest",
          "mapbox": {
           "style": "light"
          },
          "paper_bgcolor": "white",
          "plot_bgcolor": "#E5ECF6",
          "polar": {
           "angularaxis": {
            "gridcolor": "white",
            "linecolor": "white",
            "ticks": ""
           },
           "bgcolor": "#E5ECF6",
           "radialaxis": {
            "gridcolor": "white",
            "linecolor": "white",
            "ticks": ""
           }
          },
          "scene": {
           "xaxis": {
            "backgroundcolor": "#E5ECF6",
            "gridcolor": "white",
            "gridwidth": 2,
            "linecolor": "white",
            "showbackground": true,
            "ticks": "",
            "zerolinecolor": "white"
           },
           "yaxis": {
            "backgroundcolor": "#E5ECF6",
            "gridcolor": "white",
            "gridwidth": 2,
            "linecolor": "white",
            "showbackground": true,
            "ticks": "",
            "zerolinecolor": "white"
           },
           "zaxis": {
            "backgroundcolor": "#E5ECF6",
            "gridcolor": "white",
            "gridwidth": 2,
            "linecolor": "white",
            "showbackground": true,
            "ticks": "",
            "zerolinecolor": "white"
           }
          },
          "shapedefaults": {
           "line": {
            "color": "#2a3f5f"
           }
          },
          "ternary": {
           "aaxis": {
            "gridcolor": "white",
            "linecolor": "white",
            "ticks": ""
           },
           "baxis": {
            "gridcolor": "white",
            "linecolor": "white",
            "ticks": ""
           },
           "bgcolor": "#E5ECF6",
           "caxis": {
            "gridcolor": "white",
            "linecolor": "white",
            "ticks": ""
           }
          },
          "title": {
           "x": 0.05
          },
          "xaxis": {
           "automargin": true,
           "gridcolor": "white",
           "linecolor": "white",
           "ticks": "",
           "title": {
            "standoff": 15
           },
           "zerolinecolor": "white",
           "zerolinewidth": 2
          },
          "yaxis": {
           "automargin": true,
           "gridcolor": "white",
           "linecolor": "white",
           "ticks": "",
           "title": {
            "standoff": 15
           },
           "zerolinecolor": "white",
           "zerolinewidth": 2
          }
         }
        },
        "title": {
         "text": "Čas zpracování"
        },
        "xaxis": {
         "anchor": "y",
         "domain": [
          0,
          1
         ],
         "title": {
          "text": "Typ"
         }
        },
        "yaxis": {
         "anchor": "x",
         "domain": [
          0,
          1
         ],
         "title": {
          "text": "Doba zpracování"
         }
        }
       }
      }
     },
     "metadata": {},
     "output_type": "display_data"
    }
   ],
   "source": [
    "fig = px.bar(\n",
    "    largest_only,\n",
    "    title=\"Čas zpracování\",\n",
    "    x=['Dna', 'English', 'Proteins', 'Sources'],\n",
    "    y='CalculationTime', \n",
    "    text=[(\"%.2f\" % x) for x in largest_only.CalculationTime.values],\n",
    "    labels=dict(x=\"Typ\", CalculationTime=\"Doba zpracování\")\n",
    ")\n",
    "\n",
    "fig.show()"
   ]
  },
  {
   "cell_type": "markdown",
   "metadata": {},
   "source": [
    "- Srovnání random/largest\n",
    "    - Po n krocích jak se změnilo\n",
    "    - Tabulka hlavní proměnné"
   ]
  },
  {
   "cell_type": "code",
   "execution_count": 75,
   "metadata": {},
   "outputs": [],
   "source": [
    "def create_df_largest_random(input_df, started_column, ended_column):\n",
    "    largest_only = input_df[input_df.PickMethod == 'Largest']\n",
    "    random_only = input_df[input_df.PickMethod == 'Random']\n",
    "\n",
    "    started = largest_only[started_column].values\n",
    "\n",
    "    ended_largest = largest_only[ended_column].values\n",
    "    ended_random = random_only[ended_column].values\n",
    "\n",
    "\n",
    "\n",
    "    ended_df_largest = pd.DataFrame()\n",
    "    ended_df_largest[\"Value\"] = ended_largest\n",
    "    ended_df_largest['Type'] = 'Ended_Largest'\n",
    "    ended_df_largest['Path'] = largest_only.index\n",
    "\n",
    "    started_df = pd.DataFrame()\n",
    "    started_df[\"Value\"] = started\n",
    "    started_df['Type'] = 'Started'\n",
    "    started_df['Path'] = largest_only.index\n",
    "\n",
    "\n",
    "    ended_df_random = pd.DataFrame()\n",
    "    ended_df_random[\"Value\"] = ended_random\n",
    "    ended_df_random['Type'] = 'Ended_Random'\n",
    "    ended_df_random['Path'] = largest_only.index\n",
    "\n",
    "\n",
    "    res = pd.concat([started_df, ended_df_largest, ended_df_random])\n",
    "\n",
    "    return res"
   ]
  },
  {
   "cell_type": "code",
   "execution_count": 76,
   "metadata": {},
   "outputs": [
    {
     "ename": "KeyError",
     "evalue": "(nan, '', '', '', '')",
     "output_type": "error",
     "traceback": [
      "\u001b[1;31m---------------------------------------------------------------------------\u001b[0m",
      "\u001b[1;31mKeyError\u001b[0m                                  Traceback (most recent call last)",
      "\u001b[1;32mc:\\Users\\proko\\Desktop\\University\\iv\\aks\\project\\project_analysis.ipynb Cell 21'\u001b[0m in \u001b[0;36m<module>\u001b[1;34m\u001b[0m\n\u001b[0;32m      <a href='vscode-notebook-cell:/c%3A/Users/proko/Desktop/University/iv/aks/project/project_analysis.ipynb#ch0000019?line=0'>1</a>\u001b[0m msg_size \u001b[39m=\u001b[39m create_df_largest_random(results, NewTable\u001b[39m.\u001b[39mStartedMessageSize\u001b[39m.\u001b[39mvalue, NewTable\u001b[39m.\u001b[39mEndedMessageSize\u001b[39m.\u001b[39mvalue)\n\u001b[1;32m----> <a href='vscode-notebook-cell:/c%3A/Users/proko/Desktop/University/iv/aks/project/project_analysis.ipynb#ch0000019?line=2'>3</a>\u001b[0m fig \u001b[39m=\u001b[39m px\u001b[39m.\u001b[39;49mbar(\n\u001b[0;32m      <a href='vscode-notebook-cell:/c%3A/Users/proko/Desktop/University/iv/aks/project/project_analysis.ipynb#ch0000019?line=3'>4</a>\u001b[0m     msg_size, \n\u001b[0;32m      <a href='vscode-notebook-cell:/c%3A/Users/proko/Desktop/University/iv/aks/project/project_analysis.ipynb#ch0000019?line=4'>5</a>\u001b[0m     x\u001b[39m=\u001b[39;49m[\u001b[39m'\u001b[39;49m\u001b[39mDna\u001b[39;49m\u001b[39m'\u001b[39;49m, \u001b[39m'\u001b[39;49m\u001b[39mEnglish\u001b[39;49m\u001b[39m'\u001b[39;49m, \u001b[39m'\u001b[39;49m\u001b[39mProteins\u001b[39;49m\u001b[39m'\u001b[39;49m, \u001b[39m'\u001b[39;49m\u001b[39mSources\u001b[39;49m\u001b[39m'\u001b[39;49m]\u001b[39m*\u001b[39;49m\u001b[39m3\u001b[39;49m, \n\u001b[0;32m      <a href='vscode-notebook-cell:/c%3A/Users/proko/Desktop/University/iv/aks/project/project_analysis.ipynb#ch0000019?line=5'>6</a>\u001b[0m     y\u001b[39m=\u001b[39;49m\u001b[39m\"\u001b[39;49m\u001b[39mValue\u001b[39;49m\u001b[39m\"\u001b[39;49m,\n\u001b[0;32m      <a href='vscode-notebook-cell:/c%3A/Users/proko/Desktop/University/iv/aks/project/project_analysis.ipynb#ch0000019?line=6'>7</a>\u001b[0m     color\u001b[39m=\u001b[39;49m\u001b[39m'\u001b[39;49m\u001b[39mType\u001b[39;49m\u001b[39m'\u001b[39;49m, \n\u001b[0;32m      <a href='vscode-notebook-cell:/c%3A/Users/proko/Desktop/University/iv/aks/project/project_analysis.ipynb#ch0000019?line=7'>8</a>\u001b[0m     barmode\u001b[39m=\u001b[39;49m\u001b[39m'\u001b[39;49m\u001b[39mgroup\u001b[39;49m\u001b[39m'\u001b[39;49m,\n\u001b[0;32m      <a href='vscode-notebook-cell:/c%3A/Users/proko/Desktop/University/iv/aks/project/project_analysis.ipynb#ch0000019?line=8'>9</a>\u001b[0m     text\u001b[39m=\u001b[39;49m[(\u001b[39m\"\u001b[39;49m\u001b[39m%.2f\u001b[39;49;00m\u001b[39m\"\u001b[39;49m \u001b[39m%\u001b[39;49m x) \u001b[39mfor\u001b[39;49;00m x \u001b[39min\u001b[39;49;00m msg_size\u001b[39m.\u001b[39;49mValue\u001b[39m.\u001b[39;49mvalues],\n\u001b[0;32m     <a href='vscode-notebook-cell:/c%3A/Users/proko/Desktop/University/iv/aks/project/project_analysis.ipynb#ch0000019?line=9'>10</a>\u001b[0m     title\u001b[39m=\u001b[39;49m\u001b[39m\"\u001b[39;49m\u001b[39mZměna velikost zprávy po 15 krocích\u001b[39;49m\u001b[39m\"\u001b[39;49m,\n\u001b[0;32m     <a href='vscode-notebook-cell:/c%3A/Users/proko/Desktop/University/iv/aks/project/project_analysis.ipynb#ch0000019?line=10'>11</a>\u001b[0m     labels\u001b[39m=\u001b[39;49m\u001b[39mdict\u001b[39;49m(x\u001b[39m=\u001b[39;49m\u001b[39m\"\u001b[39;49m\u001b[39mTyp\u001b[39;49m\u001b[39m\"\u001b[39;49m, Value\u001b[39m=\u001b[39;49m\u001b[39m\"\u001b[39;49m\u001b[39mVelikost zprávy\u001b[39;49m\u001b[39m\"\u001b[39;49m)\n\u001b[0;32m     <a href='vscode-notebook-cell:/c%3A/Users/proko/Desktop/University/iv/aks/project/project_analysis.ipynb#ch0000019?line=11'>12</a>\u001b[0m )\n\u001b[0;32m     <a href='vscode-notebook-cell:/c%3A/Users/proko/Desktop/University/iv/aks/project/project_analysis.ipynb#ch0000019?line=13'>14</a>\u001b[0m fig\u001b[39m.\u001b[39mshow()\n",
      "File \u001b[1;32mc:\\Users\\proko\\Desktop\\University\\iv\\aks\\venv\\lib\\site-packages\\plotly\\express\\_chart_types.py:368\u001b[0m, in \u001b[0;36mbar\u001b[1;34m(data_frame, x, y, color, pattern_shape, facet_row, facet_col, facet_col_wrap, facet_row_spacing, facet_col_spacing, hover_name, hover_data, custom_data, text, base, error_x, error_x_minus, error_y, error_y_minus, animation_frame, animation_group, category_orders, labels, color_discrete_sequence, color_discrete_map, color_continuous_scale, pattern_shape_sequence, pattern_shape_map, range_color, color_continuous_midpoint, opacity, orientation, barmode, log_x, log_y, range_x, range_y, text_auto, title, template, width, height)\u001b[0m\n\u001b[0;32m    <a href='file:///c%3A/Users/proko/Desktop/University/iv/aks/venv/lib/site-packages/plotly/express/_chart_types.py?line=319'>320</a>\u001b[0m \u001b[39mdef\u001b[39;00m \u001b[39mbar\u001b[39m(\n\u001b[0;32m    <a href='file:///c%3A/Users/proko/Desktop/University/iv/aks/venv/lib/site-packages/plotly/express/_chart_types.py?line=320'>321</a>\u001b[0m     data_frame\u001b[39m=\u001b[39m\u001b[39mNone\u001b[39;00m,\n\u001b[0;32m    <a href='file:///c%3A/Users/proko/Desktop/University/iv/aks/venv/lib/site-packages/plotly/express/_chart_types.py?line=321'>322</a>\u001b[0m     x\u001b[39m=\u001b[39m\u001b[39mNone\u001b[39;00m,\n\u001b[1;32m   (...)\u001b[0m\n\u001b[0;32m    <a href='file:///c%3A/Users/proko/Desktop/University/iv/aks/venv/lib/site-packages/plotly/express/_chart_types.py?line=361'>362</a>\u001b[0m     height\u001b[39m=\u001b[39m\u001b[39mNone\u001b[39;00m,\n\u001b[0;32m    <a href='file:///c%3A/Users/proko/Desktop/University/iv/aks/venv/lib/site-packages/plotly/express/_chart_types.py?line=362'>363</a>\u001b[0m ):\n\u001b[0;32m    <a href='file:///c%3A/Users/proko/Desktop/University/iv/aks/venv/lib/site-packages/plotly/express/_chart_types.py?line=363'>364</a>\u001b[0m     \u001b[39m\"\"\"\u001b[39;00m\n\u001b[0;32m    <a href='file:///c%3A/Users/proko/Desktop/University/iv/aks/venv/lib/site-packages/plotly/express/_chart_types.py?line=364'>365</a>\u001b[0m \u001b[39m    In a bar plot, each row of `data_frame` is represented as a rectangular\u001b[39;00m\n\u001b[0;32m    <a href='file:///c%3A/Users/proko/Desktop/University/iv/aks/venv/lib/site-packages/plotly/express/_chart_types.py?line=365'>366</a>\u001b[0m \u001b[39m    mark.\u001b[39;00m\n\u001b[0;32m    <a href='file:///c%3A/Users/proko/Desktop/University/iv/aks/venv/lib/site-packages/plotly/express/_chart_types.py?line=366'>367</a>\u001b[0m \u001b[39m    \"\"\"\u001b[39;00m\n\u001b[1;32m--> <a href='file:///c%3A/Users/proko/Desktop/University/iv/aks/venv/lib/site-packages/plotly/express/_chart_types.py?line=367'>368</a>\u001b[0m     \u001b[39mreturn\u001b[39;00m make_figure(\n\u001b[0;32m    <a href='file:///c%3A/Users/proko/Desktop/University/iv/aks/venv/lib/site-packages/plotly/express/_chart_types.py?line=368'>369</a>\u001b[0m         args\u001b[39m=\u001b[39;49m\u001b[39mlocals\u001b[39;49m(),\n\u001b[0;32m    <a href='file:///c%3A/Users/proko/Desktop/University/iv/aks/venv/lib/site-packages/plotly/express/_chart_types.py?line=369'>370</a>\u001b[0m         constructor\u001b[39m=\u001b[39;49mgo\u001b[39m.\u001b[39;49mBar,\n\u001b[0;32m    <a href='file:///c%3A/Users/proko/Desktop/University/iv/aks/venv/lib/site-packages/plotly/express/_chart_types.py?line=370'>371</a>\u001b[0m         trace_patch\u001b[39m=\u001b[39;49m\u001b[39mdict\u001b[39;49m(textposition\u001b[39m=\u001b[39;49m\u001b[39m\"\u001b[39;49m\u001b[39mauto\u001b[39;49m\u001b[39m\"\u001b[39;49m),\n\u001b[0;32m    <a href='file:///c%3A/Users/proko/Desktop/University/iv/aks/venv/lib/site-packages/plotly/express/_chart_types.py?line=371'>372</a>\u001b[0m         layout_patch\u001b[39m=\u001b[39;49m\u001b[39mdict\u001b[39;49m(barmode\u001b[39m=\u001b[39;49mbarmode),\n\u001b[0;32m    <a href='file:///c%3A/Users/proko/Desktop/University/iv/aks/venv/lib/site-packages/plotly/express/_chart_types.py?line=372'>373</a>\u001b[0m     )\n",
      "File \u001b[1;32mc:\\Users\\proko\\Desktop\\University\\iv\\aks\\venv\\lib\\site-packages\\plotly\\express\\_core.py:1988\u001b[0m, in \u001b[0;36mmake_figure\u001b[1;34m(args, constructor, trace_patch, layout_patch)\u001b[0m\n\u001b[0;32m   <a href='file:///c%3A/Users/proko/Desktop/University/iv/aks/venv/lib/site-packages/plotly/express/_core.py?line=1985'>1986</a>\u001b[0m facet_col_wrap \u001b[39m=\u001b[39m args\u001b[39m.\u001b[39mget(\u001b[39m\"\u001b[39m\u001b[39mfacet_col_wrap\u001b[39m\u001b[39m\"\u001b[39m, \u001b[39m0\u001b[39m)\n\u001b[0;32m   <a href='file:///c%3A/Users/proko/Desktop/University/iv/aks/venv/lib/site-packages/plotly/express/_core.py?line=1986'>1987</a>\u001b[0m \u001b[39mfor\u001b[39;00m group_name \u001b[39min\u001b[39;00m sorted_group_names:\n\u001b[1;32m-> <a href='file:///c%3A/Users/proko/Desktop/University/iv/aks/venv/lib/site-packages/plotly/express/_core.py?line=1987'>1988</a>\u001b[0m     group \u001b[39m=\u001b[39m grouped\u001b[39m.\u001b[39;49mget_group(group_name \u001b[39mif\u001b[39;49;00m \u001b[39mlen\u001b[39;49m(group_name) \u001b[39m>\u001b[39;49m \u001b[39m1\u001b[39;49m \u001b[39melse\u001b[39;49;00m group_name[\u001b[39m0\u001b[39;49m])\n\u001b[0;32m   <a href='file:///c%3A/Users/proko/Desktop/University/iv/aks/venv/lib/site-packages/plotly/express/_core.py?line=1988'>1989</a>\u001b[0m     mapping_labels \u001b[39m=\u001b[39m OrderedDict()\n\u001b[0;32m   <a href='file:///c%3A/Users/proko/Desktop/University/iv/aks/venv/lib/site-packages/plotly/express/_core.py?line=1989'>1990</a>\u001b[0m     trace_name_labels \u001b[39m=\u001b[39m OrderedDict()\n",
      "File \u001b[1;32mc:\\Users\\proko\\Desktop\\University\\iv\\aks\\venv\\lib\\site-packages\\pandas\\core\\groupby\\groupby.py:747\u001b[0m, in \u001b[0;36mBaseGroupBy.get_group\u001b[1;34m(self, name, obj)\u001b[0m\n\u001b[0;32m    <a href='file:///c%3A/Users/proko/Desktop/University/iv/aks/venv/lib/site-packages/pandas/core/groupby/groupby.py?line=744'>745</a>\u001b[0m inds \u001b[39m=\u001b[39m \u001b[39mself\u001b[39m\u001b[39m.\u001b[39m_get_index(name)\n\u001b[0;32m    <a href='file:///c%3A/Users/proko/Desktop/University/iv/aks/venv/lib/site-packages/pandas/core/groupby/groupby.py?line=745'>746</a>\u001b[0m \u001b[39mif\u001b[39;00m \u001b[39mnot\u001b[39;00m \u001b[39mlen\u001b[39m(inds):\n\u001b[1;32m--> <a href='file:///c%3A/Users/proko/Desktop/University/iv/aks/venv/lib/site-packages/pandas/core/groupby/groupby.py?line=746'>747</a>\u001b[0m     \u001b[39mraise\u001b[39;00m \u001b[39mKeyError\u001b[39;00m(name)\n\u001b[0;32m    <a href='file:///c%3A/Users/proko/Desktop/University/iv/aks/venv/lib/site-packages/pandas/core/groupby/groupby.py?line=748'>749</a>\u001b[0m \u001b[39mreturn\u001b[39;00m obj\u001b[39m.\u001b[39m_take_with_is_copy(inds, axis\u001b[39m=\u001b[39m\u001b[39mself\u001b[39m\u001b[39m.\u001b[39maxis)\n",
      "\u001b[1;31mKeyError\u001b[0m: (nan, '', '', '', '')"
     ]
    }
   ],
   "source": [
    "msg_size = create_df_largest_random(results, NewTable.StartedMessageSize.value, NewTable.EndedMessageSize.value)\n",
    "\n",
    "fig = px.bar(\n",
    "    msg_size, \n",
    "    x=['Dna', 'English', 'Proteins', 'Sources']*3, \n",
    "    y=\"Value\",\n",
    "    color='Type', \n",
    "    barmode='group',\n",
    "    text=[(\"%.2f\" % x) for x in msg_size.Value.values],\n",
    "    title=\"Změna velikost zprávy po 15 krocích\",\n",
    "    labels=dict(x=\"Typ\", Value=\"Velikost zprávy\")\n",
    ")\n",
    "\n",
    "fig.show()"
   ]
  },
  {
   "cell_type": "code",
   "execution_count": 77,
   "metadata": {},
   "outputs": [
    {
     "ename": "KeyError",
     "evalue": "(nan, '', '', '', '')",
     "output_type": "error",
     "traceback": [
      "\u001b[1;31m---------------------------------------------------------------------------\u001b[0m",
      "\u001b[1;31mKeyError\u001b[0m                                  Traceback (most recent call last)",
      "\u001b[1;32mc:\\Users\\proko\\Desktop\\University\\iv\\aks\\project\\project_analysis.ipynb Cell 22'\u001b[0m in \u001b[0;36m<module>\u001b[1;34m\u001b[0m\n\u001b[0;32m      <a href='vscode-notebook-cell:/c%3A/Users/proko/Desktop/University/iv/aks/project/project_analysis.ipynb#ch0000020?line=0'>1</a>\u001b[0m entropy \u001b[39m=\u001b[39m create_df_largest_random(results, NewTable\u001b[39m.\u001b[39mStartedSizeEntropy\u001b[39m.\u001b[39mvalue, NewTable\u001b[39m.\u001b[39mEndedSizeEntropy\u001b[39m.\u001b[39mvalue)\n\u001b[1;32m----> <a href='vscode-notebook-cell:/c%3A/Users/proko/Desktop/University/iv/aks/project/project_analysis.ipynb#ch0000020?line=2'>3</a>\u001b[0m fig \u001b[39m=\u001b[39m px\u001b[39m.\u001b[39;49mbar(\n\u001b[0;32m      <a href='vscode-notebook-cell:/c%3A/Users/proko/Desktop/University/iv/aks/project/project_analysis.ipynb#ch0000020?line=3'>4</a>\u001b[0m     entropy, \n\u001b[0;32m      <a href='vscode-notebook-cell:/c%3A/Users/proko/Desktop/University/iv/aks/project/project_analysis.ipynb#ch0000020?line=4'>5</a>\u001b[0m     x\u001b[39m=\u001b[39;49m[\u001b[39m'\u001b[39;49m\u001b[39mDna\u001b[39;49m\u001b[39m'\u001b[39;49m, \u001b[39m'\u001b[39;49m\u001b[39mEnglish\u001b[39;49m\u001b[39m'\u001b[39;49m, \u001b[39m'\u001b[39;49m\u001b[39mProteins\u001b[39;49m\u001b[39m'\u001b[39;49m, \u001b[39m'\u001b[39;49m\u001b[39mSources\u001b[39;49m\u001b[39m'\u001b[39;49m]\u001b[39m*\u001b[39;49m\u001b[39m3\u001b[39;49m, \n\u001b[0;32m      <a href='vscode-notebook-cell:/c%3A/Users/proko/Desktop/University/iv/aks/project/project_analysis.ipynb#ch0000020?line=5'>6</a>\u001b[0m     y\u001b[39m=\u001b[39;49m\u001b[39m\"\u001b[39;49m\u001b[39mValue\u001b[39;49m\u001b[39m\"\u001b[39;49m,\n\u001b[0;32m      <a href='vscode-notebook-cell:/c%3A/Users/proko/Desktop/University/iv/aks/project/project_analysis.ipynb#ch0000020?line=6'>7</a>\u001b[0m     color\u001b[39m=\u001b[39;49m\u001b[39m'\u001b[39;49m\u001b[39mType\u001b[39;49m\u001b[39m'\u001b[39;49m, \n\u001b[0;32m      <a href='vscode-notebook-cell:/c%3A/Users/proko/Desktop/University/iv/aks/project/project_analysis.ipynb#ch0000020?line=7'>8</a>\u001b[0m     barmode\u001b[39m=\u001b[39;49m\u001b[39m'\u001b[39;49m\u001b[39mgroup\u001b[39;49m\u001b[39m'\u001b[39;49m,\n\u001b[0;32m      <a href='vscode-notebook-cell:/c%3A/Users/proko/Desktop/University/iv/aks/project/project_analysis.ipynb#ch0000020?line=8'>9</a>\u001b[0m     text\u001b[39m=\u001b[39;49m[(\u001b[39m\"\u001b[39;49m\u001b[39m%.2f\u001b[39;49;00m\u001b[39m\"\u001b[39;49m \u001b[39m%\u001b[39;49m x) \u001b[39mfor\u001b[39;49;00m x \u001b[39min\u001b[39;49;00m entropy\u001b[39m.\u001b[39;49mValue\u001b[39m.\u001b[39;49mvalues],\n\u001b[0;32m     <a href='vscode-notebook-cell:/c%3A/Users/proko/Desktop/University/iv/aks/project/project_analysis.ipynb#ch0000020?line=9'>10</a>\u001b[0m     title\u001b[39m=\u001b[39;49m\u001b[39m\"\u001b[39;49m\u001b[39mZměna entropie zprávy po 15 krocích\u001b[39;49m\u001b[39m\"\u001b[39;49m,\n\u001b[0;32m     <a href='vscode-notebook-cell:/c%3A/Users/proko/Desktop/University/iv/aks/project/project_analysis.ipynb#ch0000020?line=10'>11</a>\u001b[0m     labels\u001b[39m=\u001b[39;49m\u001b[39mdict\u001b[39;49m(x\u001b[39m=\u001b[39;49m\u001b[39m\"\u001b[39;49m\u001b[39mTyp\u001b[39;49m\u001b[39m\"\u001b[39;49m, Value\u001b[39m=\u001b[39;49m\u001b[39m\"\u001b[39;49m\u001b[39mEntropie zprávy\u001b[39;49m\u001b[39m\"\u001b[39;49m)\n\u001b[0;32m     <a href='vscode-notebook-cell:/c%3A/Users/proko/Desktop/University/iv/aks/project/project_analysis.ipynb#ch0000020?line=11'>12</a>\u001b[0m )\n\u001b[0;32m     <a href='vscode-notebook-cell:/c%3A/Users/proko/Desktop/University/iv/aks/project/project_analysis.ipynb#ch0000020?line=13'>14</a>\u001b[0m fig\u001b[39m.\u001b[39mshow()\n",
      "File \u001b[1;32mc:\\Users\\proko\\Desktop\\University\\iv\\aks\\venv\\lib\\site-packages\\plotly\\express\\_chart_types.py:368\u001b[0m, in \u001b[0;36mbar\u001b[1;34m(data_frame, x, y, color, pattern_shape, facet_row, facet_col, facet_col_wrap, facet_row_spacing, facet_col_spacing, hover_name, hover_data, custom_data, text, base, error_x, error_x_minus, error_y, error_y_minus, animation_frame, animation_group, category_orders, labels, color_discrete_sequence, color_discrete_map, color_continuous_scale, pattern_shape_sequence, pattern_shape_map, range_color, color_continuous_midpoint, opacity, orientation, barmode, log_x, log_y, range_x, range_y, text_auto, title, template, width, height)\u001b[0m\n\u001b[0;32m    <a href='file:///c%3A/Users/proko/Desktop/University/iv/aks/venv/lib/site-packages/plotly/express/_chart_types.py?line=319'>320</a>\u001b[0m \u001b[39mdef\u001b[39;00m \u001b[39mbar\u001b[39m(\n\u001b[0;32m    <a href='file:///c%3A/Users/proko/Desktop/University/iv/aks/venv/lib/site-packages/plotly/express/_chart_types.py?line=320'>321</a>\u001b[0m     data_frame\u001b[39m=\u001b[39m\u001b[39mNone\u001b[39;00m,\n\u001b[0;32m    <a href='file:///c%3A/Users/proko/Desktop/University/iv/aks/venv/lib/site-packages/plotly/express/_chart_types.py?line=321'>322</a>\u001b[0m     x\u001b[39m=\u001b[39m\u001b[39mNone\u001b[39;00m,\n\u001b[1;32m   (...)\u001b[0m\n\u001b[0;32m    <a href='file:///c%3A/Users/proko/Desktop/University/iv/aks/venv/lib/site-packages/plotly/express/_chart_types.py?line=361'>362</a>\u001b[0m     height\u001b[39m=\u001b[39m\u001b[39mNone\u001b[39;00m,\n\u001b[0;32m    <a href='file:///c%3A/Users/proko/Desktop/University/iv/aks/venv/lib/site-packages/plotly/express/_chart_types.py?line=362'>363</a>\u001b[0m ):\n\u001b[0;32m    <a href='file:///c%3A/Users/proko/Desktop/University/iv/aks/venv/lib/site-packages/plotly/express/_chart_types.py?line=363'>364</a>\u001b[0m     \u001b[39m\"\"\"\u001b[39;00m\n\u001b[0;32m    <a href='file:///c%3A/Users/proko/Desktop/University/iv/aks/venv/lib/site-packages/plotly/express/_chart_types.py?line=364'>365</a>\u001b[0m \u001b[39m    In a bar plot, each row of `data_frame` is represented as a rectangular\u001b[39;00m\n\u001b[0;32m    <a href='file:///c%3A/Users/proko/Desktop/University/iv/aks/venv/lib/site-packages/plotly/express/_chart_types.py?line=365'>366</a>\u001b[0m \u001b[39m    mark.\u001b[39;00m\n\u001b[0;32m    <a href='file:///c%3A/Users/proko/Desktop/University/iv/aks/venv/lib/site-packages/plotly/express/_chart_types.py?line=366'>367</a>\u001b[0m \u001b[39m    \"\"\"\u001b[39;00m\n\u001b[1;32m--> <a href='file:///c%3A/Users/proko/Desktop/University/iv/aks/venv/lib/site-packages/plotly/express/_chart_types.py?line=367'>368</a>\u001b[0m     \u001b[39mreturn\u001b[39;00m make_figure(\n\u001b[0;32m    <a href='file:///c%3A/Users/proko/Desktop/University/iv/aks/venv/lib/site-packages/plotly/express/_chart_types.py?line=368'>369</a>\u001b[0m         args\u001b[39m=\u001b[39;49m\u001b[39mlocals\u001b[39;49m(),\n\u001b[0;32m    <a href='file:///c%3A/Users/proko/Desktop/University/iv/aks/venv/lib/site-packages/plotly/express/_chart_types.py?line=369'>370</a>\u001b[0m         constructor\u001b[39m=\u001b[39;49mgo\u001b[39m.\u001b[39;49mBar,\n\u001b[0;32m    <a href='file:///c%3A/Users/proko/Desktop/University/iv/aks/venv/lib/site-packages/plotly/express/_chart_types.py?line=370'>371</a>\u001b[0m         trace_patch\u001b[39m=\u001b[39;49m\u001b[39mdict\u001b[39;49m(textposition\u001b[39m=\u001b[39;49m\u001b[39m\"\u001b[39;49m\u001b[39mauto\u001b[39;49m\u001b[39m\"\u001b[39;49m),\n\u001b[0;32m    <a href='file:///c%3A/Users/proko/Desktop/University/iv/aks/venv/lib/site-packages/plotly/express/_chart_types.py?line=371'>372</a>\u001b[0m         layout_patch\u001b[39m=\u001b[39;49m\u001b[39mdict\u001b[39;49m(barmode\u001b[39m=\u001b[39;49mbarmode),\n\u001b[0;32m    <a href='file:///c%3A/Users/proko/Desktop/University/iv/aks/venv/lib/site-packages/plotly/express/_chart_types.py?line=372'>373</a>\u001b[0m     )\n",
      "File \u001b[1;32mc:\\Users\\proko\\Desktop\\University\\iv\\aks\\venv\\lib\\site-packages\\plotly\\express\\_core.py:1988\u001b[0m, in \u001b[0;36mmake_figure\u001b[1;34m(args, constructor, trace_patch, layout_patch)\u001b[0m\n\u001b[0;32m   <a href='file:///c%3A/Users/proko/Desktop/University/iv/aks/venv/lib/site-packages/plotly/express/_core.py?line=1985'>1986</a>\u001b[0m facet_col_wrap \u001b[39m=\u001b[39m args\u001b[39m.\u001b[39mget(\u001b[39m\"\u001b[39m\u001b[39mfacet_col_wrap\u001b[39m\u001b[39m\"\u001b[39m, \u001b[39m0\u001b[39m)\n\u001b[0;32m   <a href='file:///c%3A/Users/proko/Desktop/University/iv/aks/venv/lib/site-packages/plotly/express/_core.py?line=1986'>1987</a>\u001b[0m \u001b[39mfor\u001b[39;00m group_name \u001b[39min\u001b[39;00m sorted_group_names:\n\u001b[1;32m-> <a href='file:///c%3A/Users/proko/Desktop/University/iv/aks/venv/lib/site-packages/plotly/express/_core.py?line=1987'>1988</a>\u001b[0m     group \u001b[39m=\u001b[39m grouped\u001b[39m.\u001b[39;49mget_group(group_name \u001b[39mif\u001b[39;49;00m \u001b[39mlen\u001b[39;49m(group_name) \u001b[39m>\u001b[39;49m \u001b[39m1\u001b[39;49m \u001b[39melse\u001b[39;49;00m group_name[\u001b[39m0\u001b[39;49m])\n\u001b[0;32m   <a href='file:///c%3A/Users/proko/Desktop/University/iv/aks/venv/lib/site-packages/plotly/express/_core.py?line=1988'>1989</a>\u001b[0m     mapping_labels \u001b[39m=\u001b[39m OrderedDict()\n\u001b[0;32m   <a href='file:///c%3A/Users/proko/Desktop/University/iv/aks/venv/lib/site-packages/plotly/express/_core.py?line=1989'>1990</a>\u001b[0m     trace_name_labels \u001b[39m=\u001b[39m OrderedDict()\n",
      "File \u001b[1;32mc:\\Users\\proko\\Desktop\\University\\iv\\aks\\venv\\lib\\site-packages\\pandas\\core\\groupby\\groupby.py:747\u001b[0m, in \u001b[0;36mBaseGroupBy.get_group\u001b[1;34m(self, name, obj)\u001b[0m\n\u001b[0;32m    <a href='file:///c%3A/Users/proko/Desktop/University/iv/aks/venv/lib/site-packages/pandas/core/groupby/groupby.py?line=744'>745</a>\u001b[0m inds \u001b[39m=\u001b[39m \u001b[39mself\u001b[39m\u001b[39m.\u001b[39m_get_index(name)\n\u001b[0;32m    <a href='file:///c%3A/Users/proko/Desktop/University/iv/aks/venv/lib/site-packages/pandas/core/groupby/groupby.py?line=745'>746</a>\u001b[0m \u001b[39mif\u001b[39;00m \u001b[39mnot\u001b[39;00m \u001b[39mlen\u001b[39m(inds):\n\u001b[1;32m--> <a href='file:///c%3A/Users/proko/Desktop/University/iv/aks/venv/lib/site-packages/pandas/core/groupby/groupby.py?line=746'>747</a>\u001b[0m     \u001b[39mraise\u001b[39;00m \u001b[39mKeyError\u001b[39;00m(name)\n\u001b[0;32m    <a href='file:///c%3A/Users/proko/Desktop/University/iv/aks/venv/lib/site-packages/pandas/core/groupby/groupby.py?line=748'>749</a>\u001b[0m \u001b[39mreturn\u001b[39;00m obj\u001b[39m.\u001b[39m_take_with_is_copy(inds, axis\u001b[39m=\u001b[39m\u001b[39mself\u001b[39m\u001b[39m.\u001b[39maxis)\n",
      "\u001b[1;31mKeyError\u001b[0m: (nan, '', '', '', '')"
     ]
    }
   ],
   "source": [
    "entropy = create_df_largest_random(results, NewTable.StartedSizeEntropy.value, NewTable.EndedSizeEntropy.value)\n",
    "\n",
    "fig = px.bar(\n",
    "    entropy, \n",
    "    x=['Dna', 'English', 'Proteins', 'Sources']*3, \n",
    "    y=\"Value\",\n",
    "    color='Type', \n",
    "    barmode='group',\n",
    "    text=[(\"%.2f\" % x) for x in entropy.Value.values],\n",
    "    title=\"Změna entropie zprávy po 15 krocích\",\n",
    "    labels=dict(x=\"Typ\", Value=\"Entropie zprávy\")\n",
    ")\n",
    "\n",
    "fig.show()\n"
   ]
  },
  {
   "cell_type": "markdown",
   "metadata": {},
   "source": [
    "- Pozorování pohybu po určitém počtu kroků (size, entropy)\n",
    "    - Srovnání napříč více souborů"
   ]
  },
  {
   "cell_type": "code",
   "execution_count": 104,
   "metadata": {},
   "outputs": [],
   "source": [
    "def create_df(input_df, started_column, ended_column):\n",
    "    largest_only = input_df[input_df.PickMethod == 'Largest']\n",
    "\n",
    "    index = largest_only[largest_only.NumberOfSteps == 15].index\n",
    "\n",
    "    started = largest_only[largest_only.NumberOfSteps == 15]\n",
    "    started = started[started_column].values\n",
    "\n",
    "    ended_15 = largest_only[largest_only.NumberOfSteps == 15]\n",
    "    ended_15 = ended_15[ended_column].values\n",
    "\n",
    "    ended_None = largest_only[largest_only.NumberOfSteps != 15]\n",
    "    ended_None = ended_None[ended_column].values\n",
    "\n",
    "    started_df = pd.DataFrame()\n",
    "    started_df[\"Value\"] = started\n",
    "    started_df['Type'] = 'Started'\n",
    "    started_df['Path'] = index\n",
    "\n",
    "    ended_df = pd.DataFrame()\n",
    "    ended_df[\"Value\"] = ended_15\n",
    "    ended_df['Type'] = 'Ended 15'\n",
    "    ended_df['Path'] = index\n",
    "\n",
    "\n",
    "    ended_df_none = pd.DataFrame()\n",
    "    ended_df_none[\"Value\"] = ended_None\n",
    "    ended_df_none['Type'] = 'Ended All'\n",
    "    ended_df_none['Path'] = index\n",
    "\n",
    "    res = pd.concat([started_df, ended_df, ended_df_none])\n",
    "\n",
    "    return res"
   ]
  },
  {
   "cell_type": "code",
   "execution_count": 107,
   "metadata": {},
   "outputs": [
    {
     "data": {
      "text/html": [
       "<div>\n",
       "<style scoped>\n",
       "    .dataframe tbody tr th:only-of-type {\n",
       "        vertical-align: middle;\n",
       "    }\n",
       "\n",
       "    .dataframe tbody tr th {\n",
       "        vertical-align: top;\n",
       "    }\n",
       "\n",
       "    .dataframe thead th {\n",
       "        text-align: right;\n",
       "    }\n",
       "</style>\n",
       "<table border=\"1\" class=\"dataframe\">\n",
       "  <thead>\n",
       "    <tr style=\"text-align: right;\">\n",
       "      <th></th>\n",
       "      <th>Value</th>\n",
       "      <th>Type</th>\n",
       "      <th>Path</th>\n",
       "    </tr>\n",
       "  </thead>\n",
       "  <tbody>\n",
       "    <tr>\n",
       "      <th>0</th>\n",
       "      <td>10000</td>\n",
       "      <td>Started</td>\n",
       "      <td>dna\\10000\\15\\True\\bruto\\steps.csv</td>\n",
       "    </tr>\n",
       "    <tr>\n",
       "      <th>1</th>\n",
       "      <td>10000</td>\n",
       "      <td>Started</td>\n",
       "      <td>english\\10000\\15\\True\\bruto\\steps.csv</td>\n",
       "    </tr>\n",
       "    <tr>\n",
       "      <th>2</th>\n",
       "      <td>10000</td>\n",
       "      <td>Started</td>\n",
       "      <td>proteins\\10000\\15\\True\\bruto\\steps.csv</td>\n",
       "    </tr>\n",
       "    <tr>\n",
       "      <th>3</th>\n",
       "      <td>10000</td>\n",
       "      <td>Started</td>\n",
       "      <td>sources\\10000\\15\\True\\bruto\\steps.csv</td>\n",
       "    </tr>\n",
       "    <tr>\n",
       "      <th>0</th>\n",
       "      <td>6218</td>\n",
       "      <td>Ended 15</td>\n",
       "      <td>dna\\10000\\15\\True\\bruto\\steps.csv</td>\n",
       "    </tr>\n",
       "    <tr>\n",
       "      <th>1</th>\n",
       "      <td>8967</td>\n",
       "      <td>Ended 15</td>\n",
       "      <td>english\\10000\\15\\True\\bruto\\steps.csv</td>\n",
       "    </tr>\n",
       "    <tr>\n",
       "      <th>2</th>\n",
       "      <td>9324</td>\n",
       "      <td>Ended 15</td>\n",
       "      <td>proteins\\10000\\15\\True\\bruto\\steps.csv</td>\n",
       "    </tr>\n",
       "    <tr>\n",
       "      <th>3</th>\n",
       "      <td>9482</td>\n",
       "      <td>Ended 15</td>\n",
       "      <td>sources\\10000\\15\\True\\bruto\\steps.csv</td>\n",
       "    </tr>\n",
       "    <tr>\n",
       "      <th>0</th>\n",
       "      <td>4292</td>\n",
       "      <td>Ended All</td>\n",
       "      <td>dna\\10000\\15\\True\\bruto\\steps.csv</td>\n",
       "    </tr>\n",
       "    <tr>\n",
       "      <th>1</th>\n",
       "      <td>7298</td>\n",
       "      <td>Ended All</td>\n",
       "      <td>english\\10000\\15\\True\\bruto\\steps.csv</td>\n",
       "    </tr>\n",
       "    <tr>\n",
       "      <th>2</th>\n",
       "      <td>6335</td>\n",
       "      <td>Ended All</td>\n",
       "      <td>proteins\\10000\\15\\True\\bruto\\steps.csv</td>\n",
       "    </tr>\n",
       "    <tr>\n",
       "      <th>3</th>\n",
       "      <td>8448</td>\n",
       "      <td>Ended All</td>\n",
       "      <td>sources\\10000\\15\\True\\bruto\\steps.csv</td>\n",
       "    </tr>\n",
       "  </tbody>\n",
       "</table>\n",
       "</div>"
      ],
      "text/plain": [
       "   Value       Type                                    Path\n",
       "0  10000    Started       dna\\10000\\15\\True\\bruto\\steps.csv\n",
       "1  10000    Started   english\\10000\\15\\True\\bruto\\steps.csv\n",
       "2  10000    Started  proteins\\10000\\15\\True\\bruto\\steps.csv\n",
       "3  10000    Started   sources\\10000\\15\\True\\bruto\\steps.csv\n",
       "0   6218   Ended 15       dna\\10000\\15\\True\\bruto\\steps.csv\n",
       "1   8967   Ended 15   english\\10000\\15\\True\\bruto\\steps.csv\n",
       "2   9324   Ended 15  proteins\\10000\\15\\True\\bruto\\steps.csv\n",
       "3   9482   Ended 15   sources\\10000\\15\\True\\bruto\\steps.csv\n",
       "0   4292  Ended All       dna\\10000\\15\\True\\bruto\\steps.csv\n",
       "1   7298  Ended All   english\\10000\\15\\True\\bruto\\steps.csv\n",
       "2   6335  Ended All  proteins\\10000\\15\\True\\bruto\\steps.csv\n",
       "3   8448  Ended All   sources\\10000\\15\\True\\bruto\\steps.csv"
      ]
     },
     "execution_count": 107,
     "metadata": {},
     "output_type": "execute_result"
    }
   ],
   "source": [
    "msg_size = create_df(results, NewTable.StartedMessageSize.value, NewTable.EndedMessageSize.value)\n",
    "msg_size"
   ]
  },
  {
   "cell_type": "code",
   "execution_count": 108,
   "metadata": {},
   "outputs": [
    {
     "data": {
      "application/vnd.plotly.v1+json": {
       "config": {
        "plotlyServerURL": "https://plot.ly"
       },
       "data": [
        {
         "alignmentgroup": "True",
         "hovertemplate": "Type=Started<br>Typ=%{x}<br>Velikost zprávy=%{y}<br>text=%{text}<extra></extra>",
         "legendgroup": "Started",
         "marker": {
          "color": "#636efa",
          "pattern": {
           "shape": ""
          }
         },
         "name": "Started",
         "offsetgroup": "Started",
         "orientation": "v",
         "showlegend": true,
         "text": [
          "10000.00",
          "10000.00",
          "10000.00",
          "10000.00"
         ],
         "textposition": "auto",
         "type": "bar",
         "x": [
          "Dna",
          "English",
          "Proteins",
          "Sources"
         ],
         "xaxis": "x",
         "y": [
          10000,
          10000,
          10000,
          10000
         ],
         "yaxis": "y"
        },
        {
         "alignmentgroup": "True",
         "hovertemplate": "Type=Ended 15<br>Typ=%{x}<br>Velikost zprávy=%{y}<br>text=%{text}<extra></extra>",
         "legendgroup": "Ended 15",
         "marker": {
          "color": "#EF553B",
          "pattern": {
           "shape": ""
          }
         },
         "name": "Ended 15",
         "offsetgroup": "Ended 15",
         "orientation": "v",
         "showlegend": true,
         "text": [
          "6218.00",
          "8967.00",
          "9324.00",
          "9482.00"
         ],
         "textposition": "auto",
         "type": "bar",
         "x": [
          "Dna",
          "English",
          "Proteins",
          "Sources"
         ],
         "xaxis": "x",
         "y": [
          6218,
          8967,
          9324,
          9482
         ],
         "yaxis": "y"
        },
        {
         "alignmentgroup": "True",
         "hovertemplate": "Type=Ended All<br>Typ=%{x}<br>Velikost zprávy=%{y}<br>text=%{text}<extra></extra>",
         "legendgroup": "Ended All",
         "marker": {
          "color": "#00cc96",
          "pattern": {
           "shape": ""
          }
         },
         "name": "Ended All",
         "offsetgroup": "Ended All",
         "orientation": "v",
         "showlegend": true,
         "text": [
          "4292.00",
          "7298.00",
          "6335.00",
          "8448.00"
         ],
         "textposition": "auto",
         "type": "bar",
         "x": [
          "Dna",
          "English",
          "Proteins",
          "Sources"
         ],
         "xaxis": "x",
         "y": [
          4292,
          7298,
          6335,
          8448
         ],
         "yaxis": "y"
        }
       ],
       "layout": {
        "barmode": "group",
        "legend": {
         "title": {
          "text": "Type"
         },
         "tracegroupgap": 0
        },
        "template": {
         "data": {
          "bar": [
           {
            "error_x": {
             "color": "#2a3f5f"
            },
            "error_y": {
             "color": "#2a3f5f"
            },
            "marker": {
             "line": {
              "color": "#E5ECF6",
              "width": 0.5
             },
             "pattern": {
              "fillmode": "overlay",
              "size": 10,
              "solidity": 0.2
             }
            },
            "type": "bar"
           }
          ],
          "barpolar": [
           {
            "marker": {
             "line": {
              "color": "#E5ECF6",
              "width": 0.5
             },
             "pattern": {
              "fillmode": "overlay",
              "size": 10,
              "solidity": 0.2
             }
            },
            "type": "barpolar"
           }
          ],
          "carpet": [
           {
            "aaxis": {
             "endlinecolor": "#2a3f5f",
             "gridcolor": "white",
             "linecolor": "white",
             "minorgridcolor": "white",
             "startlinecolor": "#2a3f5f"
            },
            "baxis": {
             "endlinecolor": "#2a3f5f",
             "gridcolor": "white",
             "linecolor": "white",
             "minorgridcolor": "white",
             "startlinecolor": "#2a3f5f"
            },
            "type": "carpet"
           }
          ],
          "choropleth": [
           {
            "colorbar": {
             "outlinewidth": 0,
             "ticks": ""
            },
            "type": "choropleth"
           }
          ],
          "contour": [
           {
            "colorbar": {
             "outlinewidth": 0,
             "ticks": ""
            },
            "colorscale": [
             [
              0,
              "#0d0887"
             ],
             [
              0.1111111111111111,
              "#46039f"
             ],
             [
              0.2222222222222222,
              "#7201a8"
             ],
             [
              0.3333333333333333,
              "#9c179e"
             ],
             [
              0.4444444444444444,
              "#bd3786"
             ],
             [
              0.5555555555555556,
              "#d8576b"
             ],
             [
              0.6666666666666666,
              "#ed7953"
             ],
             [
              0.7777777777777778,
              "#fb9f3a"
             ],
             [
              0.8888888888888888,
              "#fdca26"
             ],
             [
              1,
              "#f0f921"
             ]
            ],
            "type": "contour"
           }
          ],
          "contourcarpet": [
           {
            "colorbar": {
             "outlinewidth": 0,
             "ticks": ""
            },
            "type": "contourcarpet"
           }
          ],
          "heatmap": [
           {
            "colorbar": {
             "outlinewidth": 0,
             "ticks": ""
            },
            "colorscale": [
             [
              0,
              "#0d0887"
             ],
             [
              0.1111111111111111,
              "#46039f"
             ],
             [
              0.2222222222222222,
              "#7201a8"
             ],
             [
              0.3333333333333333,
              "#9c179e"
             ],
             [
              0.4444444444444444,
              "#bd3786"
             ],
             [
              0.5555555555555556,
              "#d8576b"
             ],
             [
              0.6666666666666666,
              "#ed7953"
             ],
             [
              0.7777777777777778,
              "#fb9f3a"
             ],
             [
              0.8888888888888888,
              "#fdca26"
             ],
             [
              1,
              "#f0f921"
             ]
            ],
            "type": "heatmap"
           }
          ],
          "heatmapgl": [
           {
            "colorbar": {
             "outlinewidth": 0,
             "ticks": ""
            },
            "colorscale": [
             [
              0,
              "#0d0887"
             ],
             [
              0.1111111111111111,
              "#46039f"
             ],
             [
              0.2222222222222222,
              "#7201a8"
             ],
             [
              0.3333333333333333,
              "#9c179e"
             ],
             [
              0.4444444444444444,
              "#bd3786"
             ],
             [
              0.5555555555555556,
              "#d8576b"
             ],
             [
              0.6666666666666666,
              "#ed7953"
             ],
             [
              0.7777777777777778,
              "#fb9f3a"
             ],
             [
              0.8888888888888888,
              "#fdca26"
             ],
             [
              1,
              "#f0f921"
             ]
            ],
            "type": "heatmapgl"
           }
          ],
          "histogram": [
           {
            "marker": {
             "pattern": {
              "fillmode": "overlay",
              "size": 10,
              "solidity": 0.2
             }
            },
            "type": "histogram"
           }
          ],
          "histogram2d": [
           {
            "colorbar": {
             "outlinewidth": 0,
             "ticks": ""
            },
            "colorscale": [
             [
              0,
              "#0d0887"
             ],
             [
              0.1111111111111111,
              "#46039f"
             ],
             [
              0.2222222222222222,
              "#7201a8"
             ],
             [
              0.3333333333333333,
              "#9c179e"
             ],
             [
              0.4444444444444444,
              "#bd3786"
             ],
             [
              0.5555555555555556,
              "#d8576b"
             ],
             [
              0.6666666666666666,
              "#ed7953"
             ],
             [
              0.7777777777777778,
              "#fb9f3a"
             ],
             [
              0.8888888888888888,
              "#fdca26"
             ],
             [
              1,
              "#f0f921"
             ]
            ],
            "type": "histogram2d"
           }
          ],
          "histogram2dcontour": [
           {
            "colorbar": {
             "outlinewidth": 0,
             "ticks": ""
            },
            "colorscale": [
             [
              0,
              "#0d0887"
             ],
             [
              0.1111111111111111,
              "#46039f"
             ],
             [
              0.2222222222222222,
              "#7201a8"
             ],
             [
              0.3333333333333333,
              "#9c179e"
             ],
             [
              0.4444444444444444,
              "#bd3786"
             ],
             [
              0.5555555555555556,
              "#d8576b"
             ],
             [
              0.6666666666666666,
              "#ed7953"
             ],
             [
              0.7777777777777778,
              "#fb9f3a"
             ],
             [
              0.8888888888888888,
              "#fdca26"
             ],
             [
              1,
              "#f0f921"
             ]
            ],
            "type": "histogram2dcontour"
           }
          ],
          "mesh3d": [
           {
            "colorbar": {
             "outlinewidth": 0,
             "ticks": ""
            },
            "type": "mesh3d"
           }
          ],
          "parcoords": [
           {
            "line": {
             "colorbar": {
              "outlinewidth": 0,
              "ticks": ""
             }
            },
            "type": "parcoords"
           }
          ],
          "pie": [
           {
            "automargin": true,
            "type": "pie"
           }
          ],
          "scatter": [
           {
            "marker": {
             "colorbar": {
              "outlinewidth": 0,
              "ticks": ""
             }
            },
            "type": "scatter"
           }
          ],
          "scatter3d": [
           {
            "line": {
             "colorbar": {
              "outlinewidth": 0,
              "ticks": ""
             }
            },
            "marker": {
             "colorbar": {
              "outlinewidth": 0,
              "ticks": ""
             }
            },
            "type": "scatter3d"
           }
          ],
          "scattercarpet": [
           {
            "marker": {
             "colorbar": {
              "outlinewidth": 0,
              "ticks": ""
             }
            },
            "type": "scattercarpet"
           }
          ],
          "scattergeo": [
           {
            "marker": {
             "colorbar": {
              "outlinewidth": 0,
              "ticks": ""
             }
            },
            "type": "scattergeo"
           }
          ],
          "scattergl": [
           {
            "marker": {
             "colorbar": {
              "outlinewidth": 0,
              "ticks": ""
             }
            },
            "type": "scattergl"
           }
          ],
          "scattermapbox": [
           {
            "marker": {
             "colorbar": {
              "outlinewidth": 0,
              "ticks": ""
             }
            },
            "type": "scattermapbox"
           }
          ],
          "scatterpolar": [
           {
            "marker": {
             "colorbar": {
              "outlinewidth": 0,
              "ticks": ""
             }
            },
            "type": "scatterpolar"
           }
          ],
          "scatterpolargl": [
           {
            "marker": {
             "colorbar": {
              "outlinewidth": 0,
              "ticks": ""
             }
            },
            "type": "scatterpolargl"
           }
          ],
          "scatterternary": [
           {
            "marker": {
             "colorbar": {
              "outlinewidth": 0,
              "ticks": ""
             }
            },
            "type": "scatterternary"
           }
          ],
          "surface": [
           {
            "colorbar": {
             "outlinewidth": 0,
             "ticks": ""
            },
            "colorscale": [
             [
              0,
              "#0d0887"
             ],
             [
              0.1111111111111111,
              "#46039f"
             ],
             [
              0.2222222222222222,
              "#7201a8"
             ],
             [
              0.3333333333333333,
              "#9c179e"
             ],
             [
              0.4444444444444444,
              "#bd3786"
             ],
             [
              0.5555555555555556,
              "#d8576b"
             ],
             [
              0.6666666666666666,
              "#ed7953"
             ],
             [
              0.7777777777777778,
              "#fb9f3a"
             ],
             [
              0.8888888888888888,
              "#fdca26"
             ],
             [
              1,
              "#f0f921"
             ]
            ],
            "type": "surface"
           }
          ],
          "table": [
           {
            "cells": {
             "fill": {
              "color": "#EBF0F8"
             },
             "line": {
              "color": "white"
             }
            },
            "header": {
             "fill": {
              "color": "#C8D4E3"
             },
             "line": {
              "color": "white"
             }
            },
            "type": "table"
           }
          ]
         },
         "layout": {
          "annotationdefaults": {
           "arrowcolor": "#2a3f5f",
           "arrowhead": 0,
           "arrowwidth": 1
          },
          "autotypenumbers": "strict",
          "coloraxis": {
           "colorbar": {
            "outlinewidth": 0,
            "ticks": ""
           }
          },
          "colorscale": {
           "diverging": [
            [
             0,
             "#8e0152"
            ],
            [
             0.1,
             "#c51b7d"
            ],
            [
             0.2,
             "#de77ae"
            ],
            [
             0.3,
             "#f1b6da"
            ],
            [
             0.4,
             "#fde0ef"
            ],
            [
             0.5,
             "#f7f7f7"
            ],
            [
             0.6,
             "#e6f5d0"
            ],
            [
             0.7,
             "#b8e186"
            ],
            [
             0.8,
             "#7fbc41"
            ],
            [
             0.9,
             "#4d9221"
            ],
            [
             1,
             "#276419"
            ]
           ],
           "sequential": [
            [
             0,
             "#0d0887"
            ],
            [
             0.1111111111111111,
             "#46039f"
            ],
            [
             0.2222222222222222,
             "#7201a8"
            ],
            [
             0.3333333333333333,
             "#9c179e"
            ],
            [
             0.4444444444444444,
             "#bd3786"
            ],
            [
             0.5555555555555556,
             "#d8576b"
            ],
            [
             0.6666666666666666,
             "#ed7953"
            ],
            [
             0.7777777777777778,
             "#fb9f3a"
            ],
            [
             0.8888888888888888,
             "#fdca26"
            ],
            [
             1,
             "#f0f921"
            ]
           ],
           "sequentialminus": [
            [
             0,
             "#0d0887"
            ],
            [
             0.1111111111111111,
             "#46039f"
            ],
            [
             0.2222222222222222,
             "#7201a8"
            ],
            [
             0.3333333333333333,
             "#9c179e"
            ],
            [
             0.4444444444444444,
             "#bd3786"
            ],
            [
             0.5555555555555556,
             "#d8576b"
            ],
            [
             0.6666666666666666,
             "#ed7953"
            ],
            [
             0.7777777777777778,
             "#fb9f3a"
            ],
            [
             0.8888888888888888,
             "#fdca26"
            ],
            [
             1,
             "#f0f921"
            ]
           ]
          },
          "colorway": [
           "#636efa",
           "#EF553B",
           "#00cc96",
           "#ab63fa",
           "#FFA15A",
           "#19d3f3",
           "#FF6692",
           "#B6E880",
           "#FF97FF",
           "#FECB52"
          ],
          "font": {
           "color": "#2a3f5f"
          },
          "geo": {
           "bgcolor": "white",
           "lakecolor": "white",
           "landcolor": "#E5ECF6",
           "showlakes": true,
           "showland": true,
           "subunitcolor": "white"
          },
          "hoverlabel": {
           "align": "left"
          },
          "hovermode": "closest",
          "mapbox": {
           "style": "light"
          },
          "paper_bgcolor": "white",
          "plot_bgcolor": "#E5ECF6",
          "polar": {
           "angularaxis": {
            "gridcolor": "white",
            "linecolor": "white",
            "ticks": ""
           },
           "bgcolor": "#E5ECF6",
           "radialaxis": {
            "gridcolor": "white",
            "linecolor": "white",
            "ticks": ""
           }
          },
          "scene": {
           "xaxis": {
            "backgroundcolor": "#E5ECF6",
            "gridcolor": "white",
            "gridwidth": 2,
            "linecolor": "white",
            "showbackground": true,
            "ticks": "",
            "zerolinecolor": "white"
           },
           "yaxis": {
            "backgroundcolor": "#E5ECF6",
            "gridcolor": "white",
            "gridwidth": 2,
            "linecolor": "white",
            "showbackground": true,
            "ticks": "",
            "zerolinecolor": "white"
           },
           "zaxis": {
            "backgroundcolor": "#E5ECF6",
            "gridcolor": "white",
            "gridwidth": 2,
            "linecolor": "white",
            "showbackground": true,
            "ticks": "",
            "zerolinecolor": "white"
           }
          },
          "shapedefaults": {
           "line": {
            "color": "#2a3f5f"
           }
          },
          "ternary": {
           "aaxis": {
            "gridcolor": "white",
            "linecolor": "white",
            "ticks": ""
           },
           "baxis": {
            "gridcolor": "white",
            "linecolor": "white",
            "ticks": ""
           },
           "bgcolor": "#E5ECF6",
           "caxis": {
            "gridcolor": "white",
            "linecolor": "white",
            "ticks": ""
           }
          },
          "title": {
           "x": 0.05
          },
          "xaxis": {
           "automargin": true,
           "gridcolor": "white",
           "linecolor": "white",
           "ticks": "",
           "title": {
            "standoff": 15
           },
           "zerolinecolor": "white",
           "zerolinewidth": 2
          },
          "yaxis": {
           "automargin": true,
           "gridcolor": "white",
           "linecolor": "white",
           "ticks": "",
           "title": {
            "standoff": 15
           },
           "zerolinecolor": "white",
           "zerolinewidth": 2
          }
         }
        },
        "title": {
         "text": "Změna velikost zprávy po 15 krocích"
        },
        "xaxis": {
         "anchor": "y",
         "domain": [
          0,
          1
         ],
         "title": {
          "text": "Typ"
         }
        },
        "yaxis": {
         "anchor": "x",
         "domain": [
          0,
          1
         ],
         "title": {
          "text": "Velikost zprávy"
         }
        }
       }
      }
     },
     "metadata": {},
     "output_type": "display_data"
    }
   ],
   "source": [
    "fig = px.bar(\n",
    "    msg_size, \n",
    "    x=['Dna', 'English', 'Proteins', 'Sources']*3, \n",
    "    y=\"Value\",\n",
    "    color='Type', \n",
    "    barmode='group',\n",
    "    text=[(\"%.2f\" % x) for x in msg_size.Value.values],\n",
    "    title=\"Změna velikost zprávy po 15 krocích\",\n",
    "    labels=dict(x=\"Typ\", Value=\"Velikost zprávy\")\n",
    ")\n",
    "\n",
    "fig.show()"
   ]
  },
  {
   "cell_type": "code",
   "execution_count": 109,
   "metadata": {},
   "outputs": [
    {
     "data": {
      "text/html": [
       "<div>\n",
       "<style scoped>\n",
       "    .dataframe tbody tr th:only-of-type {\n",
       "        vertical-align: middle;\n",
       "    }\n",
       "\n",
       "    .dataframe tbody tr th {\n",
       "        vertical-align: top;\n",
       "    }\n",
       "\n",
       "    .dataframe thead th {\n",
       "        text-align: right;\n",
       "    }\n",
       "</style>\n",
       "<table border=\"1\" class=\"dataframe\">\n",
       "  <thead>\n",
       "    <tr style=\"text-align: right;\">\n",
       "      <th></th>\n",
       "      <th>Value</th>\n",
       "      <th>Type</th>\n",
       "      <th>Path</th>\n",
       "    </tr>\n",
       "  </thead>\n",
       "  <tbody>\n",
       "    <tr>\n",
       "      <th>0</th>\n",
       "      <td>19799.081694</td>\n",
       "      <td>Started</td>\n",
       "      <td>dna\\10000\\15\\True\\bruto\\steps.csv</td>\n",
       "    </tr>\n",
       "    <tr>\n",
       "      <th>1</th>\n",
       "      <td>45090.307640</td>\n",
       "      <td>Started</td>\n",
       "      <td>english\\10000\\15\\True\\bruto\\steps.csv</td>\n",
       "    </tr>\n",
       "    <tr>\n",
       "      <th>2</th>\n",
       "      <td>42029.704002</td>\n",
       "      <td>Started</td>\n",
       "      <td>proteins\\10000\\15\\True\\bruto\\steps.csv</td>\n",
       "    </tr>\n",
       "    <tr>\n",
       "      <th>3</th>\n",
       "      <td>55518.786326</td>\n",
       "      <td>Started</td>\n",
       "      <td>sources\\10000\\15\\True\\bruto\\steps.csv</td>\n",
       "    </tr>\n",
       "    <tr>\n",
       "      <th>0</th>\n",
       "      <td>23851.797223</td>\n",
       "      <td>Ended 15</td>\n",
       "      <td>dna\\10000\\15\\True\\bruto\\steps.csv</td>\n",
       "    </tr>\n",
       "    <tr>\n",
       "      <th>1</th>\n",
       "      <td>46236.316575</td>\n",
       "      <td>Ended 15</td>\n",
       "      <td>english\\10000\\15\\True\\bruto\\steps.csv</td>\n",
       "    </tr>\n",
       "    <tr>\n",
       "      <th>2</th>\n",
       "      <td>42920.146612</td>\n",
       "      <td>Ended 15</td>\n",
       "      <td>proteins\\10000\\15\\True\\bruto\\steps.csv</td>\n",
       "    </tr>\n",
       "    <tr>\n",
       "      <th>3</th>\n",
       "      <td>56147.928961</td>\n",
       "      <td>Ended 15</td>\n",
       "      <td>sources\\10000\\15\\True\\bruto\\steps.csv</td>\n",
       "    </tr>\n",
       "    <tr>\n",
       "      <th>0</th>\n",
       "      <td>25783.915322</td>\n",
       "      <td>Ended All</td>\n",
       "      <td>dna\\10000\\15\\True\\bruto\\steps.csv</td>\n",
       "    </tr>\n",
       "    <tr>\n",
       "      <th>1</th>\n",
       "      <td>48615.449340</td>\n",
       "      <td>Ended All</td>\n",
       "      <td>english\\10000\\15\\True\\bruto\\steps.csv</td>\n",
       "    </tr>\n",
       "    <tr>\n",
       "      <th>2</th>\n",
       "      <td>46054.811671</td>\n",
       "      <td>Ended All</td>\n",
       "      <td>proteins\\10000\\15\\True\\bruto\\steps.csv</td>\n",
       "    </tr>\n",
       "    <tr>\n",
       "      <th>3</th>\n",
       "      <td>56542.809159</td>\n",
       "      <td>Ended All</td>\n",
       "      <td>sources\\10000\\15\\True\\bruto\\steps.csv</td>\n",
       "    </tr>\n",
       "  </tbody>\n",
       "</table>\n",
       "</div>"
      ],
      "text/plain": [
       "          Value       Type                                    Path\n",
       "0  19799.081694    Started       dna\\10000\\15\\True\\bruto\\steps.csv\n",
       "1  45090.307640    Started   english\\10000\\15\\True\\bruto\\steps.csv\n",
       "2  42029.704002    Started  proteins\\10000\\15\\True\\bruto\\steps.csv\n",
       "3  55518.786326    Started   sources\\10000\\15\\True\\bruto\\steps.csv\n",
       "0  23851.797223   Ended 15       dna\\10000\\15\\True\\bruto\\steps.csv\n",
       "1  46236.316575   Ended 15   english\\10000\\15\\True\\bruto\\steps.csv\n",
       "2  42920.146612   Ended 15  proteins\\10000\\15\\True\\bruto\\steps.csv\n",
       "3  56147.928961   Ended 15   sources\\10000\\15\\True\\bruto\\steps.csv\n",
       "0  25783.915322  Ended All       dna\\10000\\15\\True\\bruto\\steps.csv\n",
       "1  48615.449340  Ended All   english\\10000\\15\\True\\bruto\\steps.csv\n",
       "2  46054.811671  Ended All  proteins\\10000\\15\\True\\bruto\\steps.csv\n",
       "3  56542.809159  Ended All   sources\\10000\\15\\True\\bruto\\steps.csv"
      ]
     },
     "execution_count": 109,
     "metadata": {},
     "output_type": "execute_result"
    }
   ],
   "source": [
    "entropy = create_df(results, NewTable.StartedSizeEntropy.value, NewTable.EndedSizeEntropy.value)\n",
    "entropy"
   ]
  },
  {
   "cell_type": "code",
   "execution_count": 111,
   "metadata": {},
   "outputs": [
    {
     "data": {
      "application/vnd.plotly.v1+json": {
       "config": {
        "plotlyServerURL": "https://plot.ly"
       },
       "data": [
        {
         "alignmentgroup": "True",
         "hovertemplate": "Type=Started<br>Typ=%{x}<br>Entropie zprávy=%{y}<br>text=%{text}<extra></extra>",
         "legendgroup": "Started",
         "marker": {
          "color": "#636efa",
          "pattern": {
           "shape": ""
          }
         },
         "name": "Started",
         "offsetgroup": "Started",
         "orientation": "v",
         "showlegend": true,
         "text": [
          "19799.08",
          "45090.31",
          "42029.70",
          "55518.79"
         ],
         "textposition": "auto",
         "type": "bar",
         "x": [
          "Dna",
          "English",
          "Proteins",
          "Sources"
         ],
         "xaxis": "x",
         "y": [
          19799.081693757944,
          45090.3076399286,
          42029.704001999264,
          55518.78632597914
         ],
         "yaxis": "y"
        },
        {
         "alignmentgroup": "True",
         "hovertemplate": "Type=Ended 15<br>Typ=%{x}<br>Entropie zprávy=%{y}<br>text=%{text}<extra></extra>",
         "legendgroup": "Ended 15",
         "marker": {
          "color": "#EF553B",
          "pattern": {
           "shape": ""
          }
         },
         "name": "Ended 15",
         "offsetgroup": "Ended 15",
         "orientation": "v",
         "showlegend": true,
         "text": [
          "23851.80",
          "46236.32",
          "42920.15",
          "56147.93"
         ],
         "textposition": "auto",
         "type": "bar",
         "x": [
          "Dna",
          "English",
          "Proteins",
          "Sources"
         ],
         "xaxis": "x",
         "y": [
          23851.797223207497,
          46236.31657462371,
          42920.14661230744,
          56147.92896117684
         ],
         "yaxis": "y"
        },
        {
         "alignmentgroup": "True",
         "hovertemplate": "Type=Ended All<br>Typ=%{x}<br>Entropie zprávy=%{y}<br>text=%{text}<extra></extra>",
         "legendgroup": "Ended All",
         "marker": {
          "color": "#00cc96",
          "pattern": {
           "shape": ""
          }
         },
         "name": "Ended All",
         "offsetgroup": "Ended All",
         "orientation": "v",
         "showlegend": true,
         "text": [
          "25783.92",
          "48615.45",
          "46054.81",
          "56542.81"
         ],
         "textposition": "auto",
         "type": "bar",
         "x": [
          "Dna",
          "English",
          "Proteins",
          "Sources"
         ],
         "xaxis": "x",
         "y": [
          25783.9153215083,
          48615.44934043771,
          46054.811670506,
          56542.80915908605
         ],
         "yaxis": "y"
        }
       ],
       "layout": {
        "barmode": "group",
        "legend": {
         "title": {
          "text": "Type"
         },
         "tracegroupgap": 0
        },
        "template": {
         "data": {
          "bar": [
           {
            "error_x": {
             "color": "#2a3f5f"
            },
            "error_y": {
             "color": "#2a3f5f"
            },
            "marker": {
             "line": {
              "color": "#E5ECF6",
              "width": 0.5
             },
             "pattern": {
              "fillmode": "overlay",
              "size": 10,
              "solidity": 0.2
             }
            },
            "type": "bar"
           }
          ],
          "barpolar": [
           {
            "marker": {
             "line": {
              "color": "#E5ECF6",
              "width": 0.5
             },
             "pattern": {
              "fillmode": "overlay",
              "size": 10,
              "solidity": 0.2
             }
            },
            "type": "barpolar"
           }
          ],
          "carpet": [
           {
            "aaxis": {
             "endlinecolor": "#2a3f5f",
             "gridcolor": "white",
             "linecolor": "white",
             "minorgridcolor": "white",
             "startlinecolor": "#2a3f5f"
            },
            "baxis": {
             "endlinecolor": "#2a3f5f",
             "gridcolor": "white",
             "linecolor": "white",
             "minorgridcolor": "white",
             "startlinecolor": "#2a3f5f"
            },
            "type": "carpet"
           }
          ],
          "choropleth": [
           {
            "colorbar": {
             "outlinewidth": 0,
             "ticks": ""
            },
            "type": "choropleth"
           }
          ],
          "contour": [
           {
            "colorbar": {
             "outlinewidth": 0,
             "ticks": ""
            },
            "colorscale": [
             [
              0,
              "#0d0887"
             ],
             [
              0.1111111111111111,
              "#46039f"
             ],
             [
              0.2222222222222222,
              "#7201a8"
             ],
             [
              0.3333333333333333,
              "#9c179e"
             ],
             [
              0.4444444444444444,
              "#bd3786"
             ],
             [
              0.5555555555555556,
              "#d8576b"
             ],
             [
              0.6666666666666666,
              "#ed7953"
             ],
             [
              0.7777777777777778,
              "#fb9f3a"
             ],
             [
              0.8888888888888888,
              "#fdca26"
             ],
             [
              1,
              "#f0f921"
             ]
            ],
            "type": "contour"
           }
          ],
          "contourcarpet": [
           {
            "colorbar": {
             "outlinewidth": 0,
             "ticks": ""
            },
            "type": "contourcarpet"
           }
          ],
          "heatmap": [
           {
            "colorbar": {
             "outlinewidth": 0,
             "ticks": ""
            },
            "colorscale": [
             [
              0,
              "#0d0887"
             ],
             [
              0.1111111111111111,
              "#46039f"
             ],
             [
              0.2222222222222222,
              "#7201a8"
             ],
             [
              0.3333333333333333,
              "#9c179e"
             ],
             [
              0.4444444444444444,
              "#bd3786"
             ],
             [
              0.5555555555555556,
              "#d8576b"
             ],
             [
              0.6666666666666666,
              "#ed7953"
             ],
             [
              0.7777777777777778,
              "#fb9f3a"
             ],
             [
              0.8888888888888888,
              "#fdca26"
             ],
             [
              1,
              "#f0f921"
             ]
            ],
            "type": "heatmap"
           }
          ],
          "heatmapgl": [
           {
            "colorbar": {
             "outlinewidth": 0,
             "ticks": ""
            },
            "colorscale": [
             [
              0,
              "#0d0887"
             ],
             [
              0.1111111111111111,
              "#46039f"
             ],
             [
              0.2222222222222222,
              "#7201a8"
             ],
             [
              0.3333333333333333,
              "#9c179e"
             ],
             [
              0.4444444444444444,
              "#bd3786"
             ],
             [
              0.5555555555555556,
              "#d8576b"
             ],
             [
              0.6666666666666666,
              "#ed7953"
             ],
             [
              0.7777777777777778,
              "#fb9f3a"
             ],
             [
              0.8888888888888888,
              "#fdca26"
             ],
             [
              1,
              "#f0f921"
             ]
            ],
            "type": "heatmapgl"
           }
          ],
          "histogram": [
           {
            "marker": {
             "pattern": {
              "fillmode": "overlay",
              "size": 10,
              "solidity": 0.2
             }
            },
            "type": "histogram"
           }
          ],
          "histogram2d": [
           {
            "colorbar": {
             "outlinewidth": 0,
             "ticks": ""
            },
            "colorscale": [
             [
              0,
              "#0d0887"
             ],
             [
              0.1111111111111111,
              "#46039f"
             ],
             [
              0.2222222222222222,
              "#7201a8"
             ],
             [
              0.3333333333333333,
              "#9c179e"
             ],
             [
              0.4444444444444444,
              "#bd3786"
             ],
             [
              0.5555555555555556,
              "#d8576b"
             ],
             [
              0.6666666666666666,
              "#ed7953"
             ],
             [
              0.7777777777777778,
              "#fb9f3a"
             ],
             [
              0.8888888888888888,
              "#fdca26"
             ],
             [
              1,
              "#f0f921"
             ]
            ],
            "type": "histogram2d"
           }
          ],
          "histogram2dcontour": [
           {
            "colorbar": {
             "outlinewidth": 0,
             "ticks": ""
            },
            "colorscale": [
             [
              0,
              "#0d0887"
             ],
             [
              0.1111111111111111,
              "#46039f"
             ],
             [
              0.2222222222222222,
              "#7201a8"
             ],
             [
              0.3333333333333333,
              "#9c179e"
             ],
             [
              0.4444444444444444,
              "#bd3786"
             ],
             [
              0.5555555555555556,
              "#d8576b"
             ],
             [
              0.6666666666666666,
              "#ed7953"
             ],
             [
              0.7777777777777778,
              "#fb9f3a"
             ],
             [
              0.8888888888888888,
              "#fdca26"
             ],
             [
              1,
              "#f0f921"
             ]
            ],
            "type": "histogram2dcontour"
           }
          ],
          "mesh3d": [
           {
            "colorbar": {
             "outlinewidth": 0,
             "ticks": ""
            },
            "type": "mesh3d"
           }
          ],
          "parcoords": [
           {
            "line": {
             "colorbar": {
              "outlinewidth": 0,
              "ticks": ""
             }
            },
            "type": "parcoords"
           }
          ],
          "pie": [
           {
            "automargin": true,
            "type": "pie"
           }
          ],
          "scatter": [
           {
            "marker": {
             "colorbar": {
              "outlinewidth": 0,
              "ticks": ""
             }
            },
            "type": "scatter"
           }
          ],
          "scatter3d": [
           {
            "line": {
             "colorbar": {
              "outlinewidth": 0,
              "ticks": ""
             }
            },
            "marker": {
             "colorbar": {
              "outlinewidth": 0,
              "ticks": ""
             }
            },
            "type": "scatter3d"
           }
          ],
          "scattercarpet": [
           {
            "marker": {
             "colorbar": {
              "outlinewidth": 0,
              "ticks": ""
             }
            },
            "type": "scattercarpet"
           }
          ],
          "scattergeo": [
           {
            "marker": {
             "colorbar": {
              "outlinewidth": 0,
              "ticks": ""
             }
            },
            "type": "scattergeo"
           }
          ],
          "scattergl": [
           {
            "marker": {
             "colorbar": {
              "outlinewidth": 0,
              "ticks": ""
             }
            },
            "type": "scattergl"
           }
          ],
          "scattermapbox": [
           {
            "marker": {
             "colorbar": {
              "outlinewidth": 0,
              "ticks": ""
             }
            },
            "type": "scattermapbox"
           }
          ],
          "scatterpolar": [
           {
            "marker": {
             "colorbar": {
              "outlinewidth": 0,
              "ticks": ""
             }
            },
            "type": "scatterpolar"
           }
          ],
          "scatterpolargl": [
           {
            "marker": {
             "colorbar": {
              "outlinewidth": 0,
              "ticks": ""
             }
            },
            "type": "scatterpolargl"
           }
          ],
          "scatterternary": [
           {
            "marker": {
             "colorbar": {
              "outlinewidth": 0,
              "ticks": ""
             }
            },
            "type": "scatterternary"
           }
          ],
          "surface": [
           {
            "colorbar": {
             "outlinewidth": 0,
             "ticks": ""
            },
            "colorscale": [
             [
              0,
              "#0d0887"
             ],
             [
              0.1111111111111111,
              "#46039f"
             ],
             [
              0.2222222222222222,
              "#7201a8"
             ],
             [
              0.3333333333333333,
              "#9c179e"
             ],
             [
              0.4444444444444444,
              "#bd3786"
             ],
             [
              0.5555555555555556,
              "#d8576b"
             ],
             [
              0.6666666666666666,
              "#ed7953"
             ],
             [
              0.7777777777777778,
              "#fb9f3a"
             ],
             [
              0.8888888888888888,
              "#fdca26"
             ],
             [
              1,
              "#f0f921"
             ]
            ],
            "type": "surface"
           }
          ],
          "table": [
           {
            "cells": {
             "fill": {
              "color": "#EBF0F8"
             },
             "line": {
              "color": "white"
             }
            },
            "header": {
             "fill": {
              "color": "#C8D4E3"
             },
             "line": {
              "color": "white"
             }
            },
            "type": "table"
           }
          ]
         },
         "layout": {
          "annotationdefaults": {
           "arrowcolor": "#2a3f5f",
           "arrowhead": 0,
           "arrowwidth": 1
          },
          "autotypenumbers": "strict",
          "coloraxis": {
           "colorbar": {
            "outlinewidth": 0,
            "ticks": ""
           }
          },
          "colorscale": {
           "diverging": [
            [
             0,
             "#8e0152"
            ],
            [
             0.1,
             "#c51b7d"
            ],
            [
             0.2,
             "#de77ae"
            ],
            [
             0.3,
             "#f1b6da"
            ],
            [
             0.4,
             "#fde0ef"
            ],
            [
             0.5,
             "#f7f7f7"
            ],
            [
             0.6,
             "#e6f5d0"
            ],
            [
             0.7,
             "#b8e186"
            ],
            [
             0.8,
             "#7fbc41"
            ],
            [
             0.9,
             "#4d9221"
            ],
            [
             1,
             "#276419"
            ]
           ],
           "sequential": [
            [
             0,
             "#0d0887"
            ],
            [
             0.1111111111111111,
             "#46039f"
            ],
            [
             0.2222222222222222,
             "#7201a8"
            ],
            [
             0.3333333333333333,
             "#9c179e"
            ],
            [
             0.4444444444444444,
             "#bd3786"
            ],
            [
             0.5555555555555556,
             "#d8576b"
            ],
            [
             0.6666666666666666,
             "#ed7953"
            ],
            [
             0.7777777777777778,
             "#fb9f3a"
            ],
            [
             0.8888888888888888,
             "#fdca26"
            ],
            [
             1,
             "#f0f921"
            ]
           ],
           "sequentialminus": [
            [
             0,
             "#0d0887"
            ],
            [
             0.1111111111111111,
             "#46039f"
            ],
            [
             0.2222222222222222,
             "#7201a8"
            ],
            [
             0.3333333333333333,
             "#9c179e"
            ],
            [
             0.4444444444444444,
             "#bd3786"
            ],
            [
             0.5555555555555556,
             "#d8576b"
            ],
            [
             0.6666666666666666,
             "#ed7953"
            ],
            [
             0.7777777777777778,
             "#fb9f3a"
            ],
            [
             0.8888888888888888,
             "#fdca26"
            ],
            [
             1,
             "#f0f921"
            ]
           ]
          },
          "colorway": [
           "#636efa",
           "#EF553B",
           "#00cc96",
           "#ab63fa",
           "#FFA15A",
           "#19d3f3",
           "#FF6692",
           "#B6E880",
           "#FF97FF",
           "#FECB52"
          ],
          "font": {
           "color": "#2a3f5f"
          },
          "geo": {
           "bgcolor": "white",
           "lakecolor": "white",
           "landcolor": "#E5ECF6",
           "showlakes": true,
           "showland": true,
           "subunitcolor": "white"
          },
          "hoverlabel": {
           "align": "left"
          },
          "hovermode": "closest",
          "mapbox": {
           "style": "light"
          },
          "paper_bgcolor": "white",
          "plot_bgcolor": "#E5ECF6",
          "polar": {
           "angularaxis": {
            "gridcolor": "white",
            "linecolor": "white",
            "ticks": ""
           },
           "bgcolor": "#E5ECF6",
           "radialaxis": {
            "gridcolor": "white",
            "linecolor": "white",
            "ticks": ""
           }
          },
          "scene": {
           "xaxis": {
            "backgroundcolor": "#E5ECF6",
            "gridcolor": "white",
            "gridwidth": 2,
            "linecolor": "white",
            "showbackground": true,
            "ticks": "",
            "zerolinecolor": "white"
           },
           "yaxis": {
            "backgroundcolor": "#E5ECF6",
            "gridcolor": "white",
            "gridwidth": 2,
            "linecolor": "white",
            "showbackground": true,
            "ticks": "",
            "zerolinecolor": "white"
           },
           "zaxis": {
            "backgroundcolor": "#E5ECF6",
            "gridcolor": "white",
            "gridwidth": 2,
            "linecolor": "white",
            "showbackground": true,
            "ticks": "",
            "zerolinecolor": "white"
           }
          },
          "shapedefaults": {
           "line": {
            "color": "#2a3f5f"
           }
          },
          "ternary": {
           "aaxis": {
            "gridcolor": "white",
            "linecolor": "white",
            "ticks": ""
           },
           "baxis": {
            "gridcolor": "white",
            "linecolor": "white",
            "ticks": ""
           },
           "bgcolor": "#E5ECF6",
           "caxis": {
            "gridcolor": "white",
            "linecolor": "white",
            "ticks": ""
           }
          },
          "title": {
           "x": 0.05
          },
          "xaxis": {
           "automargin": true,
           "gridcolor": "white",
           "linecolor": "white",
           "ticks": "",
           "title": {
            "standoff": 15
           },
           "zerolinecolor": "white",
           "zerolinewidth": 2
          },
          "yaxis": {
           "automargin": true,
           "gridcolor": "white",
           "linecolor": "white",
           "ticks": "",
           "title": {
            "standoff": 15
           },
           "zerolinecolor": "white",
           "zerolinewidth": 2
          }
         }
        },
        "title": {
         "text": "Změna entropie zprávy po 15 krocích"
        },
        "xaxis": {
         "anchor": "y",
         "domain": [
          0,
          1
         ],
         "title": {
          "text": "Typ"
         }
        },
        "yaxis": {
         "anchor": "x",
         "domain": [
          0,
          1
         ],
         "title": {
          "text": "Entropie zprávy"
         }
        }
       }
      }
     },
     "metadata": {},
     "output_type": "display_data"
    }
   ],
   "source": [
    "fig = px.bar(\n",
    "    entropy, \n",
    "    x=['Dna', 'English', 'Proteins', 'Sources']*3, \n",
    "    y=\"Value\",\n",
    "    color='Type', \n",
    "    barmode='group',\n",
    "    text=[(\"%.2f\" % x) for x in entropy.Value.values],\n",
    "    title=\"Změna entropie zprávy po 15 krocích\",\n",
    "    labels=dict(x=\"Typ\", Value=\"Entropie zprávy\")\n",
    ")\n",
    "\n",
    "fig.show()\n"
   ]
  },
  {
   "cell_type": "code",
   "execution_count": 81,
   "metadata": {},
   "outputs": [
    {
     "data": {
      "text/html": [
       "<div>\n",
       "<style scoped>\n",
       "    .dataframe tbody tr th:only-of-type {\n",
       "        vertical-align: middle;\n",
       "    }\n",
       "\n",
       "    .dataframe tbody tr th {\n",
       "        vertical-align: top;\n",
       "    }\n",
       "\n",
       "    .dataframe thead th {\n",
       "        text-align: right;\n",
       "    }\n",
       "</style>\n",
       "<table border=\"1\" class=\"dataframe\">\n",
       "  <thead>\n",
       "    <tr style=\"text-align: right;\">\n",
       "      <th></th>\n",
       "      <th>Value</th>\n",
       "      <th>Type</th>\n",
       "      <th>Path</th>\n",
       "    </tr>\n",
       "  </thead>\n",
       "  <tbody>\n",
       "    <tr>\n",
       "      <th>0</th>\n",
       "      <td>10000</td>\n",
       "      <td>Started</td>\n",
       "      <td>dna\\10000\\None\\True\\bruto\\steps.csv</td>\n",
       "    </tr>\n",
       "    <tr>\n",
       "      <th>1</th>\n",
       "      <td>10000</td>\n",
       "      <td>Started</td>\n",
       "      <td>english\\10000\\None\\True\\bruto\\steps.csv</td>\n",
       "    </tr>\n",
       "    <tr>\n",
       "      <th>2</th>\n",
       "      <td>10000</td>\n",
       "      <td>Started</td>\n",
       "      <td>proteins\\10000\\None\\True\\bruto\\steps.csv</td>\n",
       "    </tr>\n",
       "    <tr>\n",
       "      <th>3</th>\n",
       "      <td>10000</td>\n",
       "      <td>Started</td>\n",
       "      <td>sources\\10000\\None\\True\\bruto\\steps.csv</td>\n",
       "    </tr>\n",
       "    <tr>\n",
       "      <th>0</th>\n",
       "      <td>4292</td>\n",
       "      <td>Ended</td>\n",
       "      <td>dna\\10000\\None\\True\\bruto\\steps.csv</td>\n",
       "    </tr>\n",
       "    <tr>\n",
       "      <th>1</th>\n",
       "      <td>7298</td>\n",
       "      <td>Ended</td>\n",
       "      <td>english\\10000\\None\\True\\bruto\\steps.csv</td>\n",
       "    </tr>\n",
       "    <tr>\n",
       "      <th>2</th>\n",
       "      <td>6335</td>\n",
       "      <td>Ended</td>\n",
       "      <td>proteins\\10000\\None\\True\\bruto\\steps.csv</td>\n",
       "    </tr>\n",
       "    <tr>\n",
       "      <th>3</th>\n",
       "      <td>8448</td>\n",
       "      <td>Ended</td>\n",
       "      <td>sources\\10000\\None\\True\\bruto\\steps.csv</td>\n",
       "    </tr>\n",
       "  </tbody>\n",
       "</table>\n",
       "</div>"
      ],
      "text/plain": [
       "   Value     Type                                      Path\n",
       "0  10000  Started       dna\\10000\\None\\True\\bruto\\steps.csv\n",
       "1  10000  Started   english\\10000\\None\\True\\bruto\\steps.csv\n",
       "2  10000  Started  proteins\\10000\\None\\True\\bruto\\steps.csv\n",
       "3  10000  Started   sources\\10000\\None\\True\\bruto\\steps.csv\n",
       "0   4292    Ended       dna\\10000\\None\\True\\bruto\\steps.csv\n",
       "1   7298    Ended   english\\10000\\None\\True\\bruto\\steps.csv\n",
       "2   6335    Ended  proteins\\10000\\None\\True\\bruto\\steps.csv\n",
       "3   8448    Ended   sources\\10000\\None\\True\\bruto\\steps.csv"
      ]
     },
     "execution_count": 81,
     "metadata": {},
     "output_type": "execute_result"
    }
   ],
   "source": [
    "msg_size"
   ]
  },
  {
   "cell_type": "code",
   "execution_count": 113,
   "metadata": {},
   "outputs": [],
   "source": [
    "df_steps = results[results.LimitSteps != 15]"
   ]
  },
  {
   "cell_type": "code",
   "execution_count": 114,
   "metadata": {},
   "outputs": [
    {
     "data": {
      "text/html": [
       "<div>\n",
       "<style scoped>\n",
       "    .dataframe tbody tr th:only-of-type {\n",
       "        vertical-align: middle;\n",
       "    }\n",
       "\n",
       "    .dataframe tbody tr th {\n",
       "        vertical-align: top;\n",
       "    }\n",
       "\n",
       "    .dataframe thead th {\n",
       "        text-align: right;\n",
       "    }\n",
       "</style>\n",
       "<table border=\"1\" class=\"dataframe\">\n",
       "  <thead>\n",
       "    <tr style=\"text-align: right;\">\n",
       "      <th></th>\n",
       "      <th>LimitSteps</th>\n",
       "      <th>PickMethod</th>\n",
       "      <th>NormalizationValue</th>\n",
       "      <th>Optimized</th>\n",
       "      <th>StartedEntropy</th>\n",
       "      <th>EndedEntropy</th>\n",
       "      <th>DiffEntropy</th>\n",
       "      <th>StartedSizeEntropy</th>\n",
       "      <th>EndedSizeEntropy</th>\n",
       "      <th>DiffSizeEntropy</th>\n",
       "      <th>StartedMessageSize</th>\n",
       "      <th>EndedMessageSize</th>\n",
       "      <th>DiffMessageSize</th>\n",
       "      <th>CalculationTime</th>\n",
       "      <th>NumberOfSteps</th>\n",
       "    </tr>\n",
       "  </thead>\n",
       "  <tbody>\n",
       "    <tr>\n",
       "      <th>dna\\10000\\None\\True\\bruto\\steps.csv</th>\n",
       "      <td>NaN</td>\n",
       "      <td>Largest</td>\n",
       "      <td>10000</td>\n",
       "      <td>bruto</td>\n",
       "      <td>1.989577</td>\n",
       "      <td>6.007436</td>\n",
       "      <td>4.017859</td>\n",
       "      <td>19895.772726</td>\n",
       "      <td>25783.915322</td>\n",
       "      <td>5888.142596</td>\n",
       "      <td>10000</td>\n",
       "      <td>4292</td>\n",
       "      <td>5708</td>\n",
       "      <td>3126.732789</td>\n",
       "      <td>228</td>\n",
       "    </tr>\n",
       "    <tr>\n",
       "      <th>english\\10000\\None\\True\\bruto\\steps.csv</th>\n",
       "      <td>NaN</td>\n",
       "      <td>Largest</td>\n",
       "      <td>10000</td>\n",
       "      <td>bruto</td>\n",
       "      <td>4.512730</td>\n",
       "      <td>6.661476</td>\n",
       "      <td>2.148746</td>\n",
       "      <td>45127.300249</td>\n",
       "      <td>48615.449340</td>\n",
       "      <td>3488.149091</td>\n",
       "      <td>10000</td>\n",
       "      <td>7298</td>\n",
       "      <td>2702</td>\n",
       "      <td>6035.128097</td>\n",
       "      <td>273</td>\n",
       "    </tr>\n",
       "    <tr>\n",
       "      <th>proteins\\10000\\None\\True\\bruto\\steps.csv</th>\n",
       "      <td>NaN</td>\n",
       "      <td>Largest</td>\n",
       "      <td>10000</td>\n",
       "      <td>bruto</td>\n",
       "      <td>4.146463</td>\n",
       "      <td>7.269899</td>\n",
       "      <td>3.123436</td>\n",
       "      <td>41464.634868</td>\n",
       "      <td>46054.811671</td>\n",
       "      <td>4590.176802</td>\n",
       "      <td>10000</td>\n",
       "      <td>6335</td>\n",
       "      <td>3665</td>\n",
       "      <td>9675.256349</td>\n",
       "      <td>367</td>\n",
       "    </tr>\n",
       "    <tr>\n",
       "      <th>sources\\10000\\None\\True\\bruto\\steps.csv</th>\n",
       "      <td>NaN</td>\n",
       "      <td>Largest</td>\n",
       "      <td>10000</td>\n",
       "      <td>bruto</td>\n",
       "      <td>5.457019</td>\n",
       "      <td>6.693041</td>\n",
       "      <td>1.236022</td>\n",
       "      <td>54570.188721</td>\n",
       "      <td>56542.809159</td>\n",
       "      <td>1972.620438</td>\n",
       "      <td>10000</td>\n",
       "      <td>8448</td>\n",
       "      <td>1552</td>\n",
       "      <td>5123.487468</td>\n",
       "      <td>226</td>\n",
       "    </tr>\n",
       "  </tbody>\n",
       "</table>\n",
       "</div>"
      ],
      "text/plain": [
       "                                          LimitSteps PickMethod  \\\n",
       "dna\\10000\\None\\True\\bruto\\steps.csv              NaN    Largest   \n",
       "english\\10000\\None\\True\\bruto\\steps.csv          NaN    Largest   \n",
       "proteins\\10000\\None\\True\\bruto\\steps.csv         NaN    Largest   \n",
       "sources\\10000\\None\\True\\bruto\\steps.csv          NaN    Largest   \n",
       "\n",
       "                                          NormalizationValue Optimized  \\\n",
       "dna\\10000\\None\\True\\bruto\\steps.csv                    10000     bruto   \n",
       "english\\10000\\None\\True\\bruto\\steps.csv                10000     bruto   \n",
       "proteins\\10000\\None\\True\\bruto\\steps.csv               10000     bruto   \n",
       "sources\\10000\\None\\True\\bruto\\steps.csv                10000     bruto   \n",
       "\n",
       "                                          StartedEntropy  EndedEntropy  \\\n",
       "dna\\10000\\None\\True\\bruto\\steps.csv             1.989577      6.007436   \n",
       "english\\10000\\None\\True\\bruto\\steps.csv         4.512730      6.661476   \n",
       "proteins\\10000\\None\\True\\bruto\\steps.csv        4.146463      7.269899   \n",
       "sources\\10000\\None\\True\\bruto\\steps.csv         5.457019      6.693041   \n",
       "\n",
       "                                          DiffEntropy  StartedSizeEntropy  \\\n",
       "dna\\10000\\None\\True\\bruto\\steps.csv          4.017859        19895.772726   \n",
       "english\\10000\\None\\True\\bruto\\steps.csv      2.148746        45127.300249   \n",
       "proteins\\10000\\None\\True\\bruto\\steps.csv     3.123436        41464.634868   \n",
       "sources\\10000\\None\\True\\bruto\\steps.csv      1.236022        54570.188721   \n",
       "\n",
       "                                          EndedSizeEntropy  DiffSizeEntropy  \\\n",
       "dna\\10000\\None\\True\\bruto\\steps.csv           25783.915322      5888.142596   \n",
       "english\\10000\\None\\True\\bruto\\steps.csv       48615.449340      3488.149091   \n",
       "proteins\\10000\\None\\True\\bruto\\steps.csv      46054.811671      4590.176802   \n",
       "sources\\10000\\None\\True\\bruto\\steps.csv       56542.809159      1972.620438   \n",
       "\n",
       "                                          StartedMessageSize  \\\n",
       "dna\\10000\\None\\True\\bruto\\steps.csv                    10000   \n",
       "english\\10000\\None\\True\\bruto\\steps.csv                10000   \n",
       "proteins\\10000\\None\\True\\bruto\\steps.csv               10000   \n",
       "sources\\10000\\None\\True\\bruto\\steps.csv                10000   \n",
       "\n",
       "                                          EndedMessageSize  DiffMessageSize  \\\n",
       "dna\\10000\\None\\True\\bruto\\steps.csv                   4292             5708   \n",
       "english\\10000\\None\\True\\bruto\\steps.csv               7298             2702   \n",
       "proteins\\10000\\None\\True\\bruto\\steps.csv              6335             3665   \n",
       "sources\\10000\\None\\True\\bruto\\steps.csv               8448             1552   \n",
       "\n",
       "                                          CalculationTime  NumberOfSteps  \n",
       "dna\\10000\\None\\True\\bruto\\steps.csv           3126.732789            228  \n",
       "english\\10000\\None\\True\\bruto\\steps.csv       6035.128097            273  \n",
       "proteins\\10000\\None\\True\\bruto\\steps.csv      9675.256349            367  \n",
       "sources\\10000\\None\\True\\bruto\\steps.csv       5123.487468            226  "
      ]
     },
     "execution_count": 114,
     "metadata": {},
     "output_type": "execute_result"
    }
   ],
   "source": [
    "df_steps"
   ]
  },
  {
   "cell_type": "code",
   "execution_count": 120,
   "metadata": {},
   "outputs": [
    {
     "data": {
      "application/vnd.plotly.v1+json": {
       "config": {
        "plotlyServerURL": "https://plot.ly"
       },
       "data": [
        {
         "alignmentgroup": "True",
         "hovertemplate": "index=dna\\10000\\None\\True\\bruto\\steps.csv<br>Typ=%{x}<br>Počet provedených iterací=%{y}<br>text=%{text}<extra></extra>",
         "legendgroup": "dna\\10000\\None\\True\\bruto\\steps.csv",
         "marker": {
          "color": "#636efa",
          "pattern": {
           "shape": ""
          }
         },
         "name": "dna\\10000\\None\\True\\bruto\\steps.csv",
         "offsetgroup": "dna\\10000\\None\\True\\bruto\\steps.csv",
         "orientation": "v",
         "showlegend": true,
         "text": [
          "228.00"
         ],
         "textposition": "auto",
         "type": "bar",
         "x": [
          "Dna"
         ],
         "xaxis": "x",
         "y": [
          228
         ],
         "yaxis": "y"
        },
        {
         "alignmentgroup": "True",
         "hovertemplate": "index=english\\10000\\None\\True\\bruto\\steps.csv<br>Typ=%{x}<br>Počet provedených iterací=%{y}<br>text=%{text}<extra></extra>",
         "legendgroup": "english\\10000\\None\\True\\bruto\\steps.csv",
         "marker": {
          "color": "#EF553B",
          "pattern": {
           "shape": ""
          }
         },
         "name": "english\\10000\\None\\True\\bruto\\steps.csv",
         "offsetgroup": "english\\10000\\None\\True\\bruto\\steps.csv",
         "orientation": "v",
         "showlegend": true,
         "text": [
          "273.00"
         ],
         "textposition": "auto",
         "type": "bar",
         "x": [
          "English"
         ],
         "xaxis": "x",
         "y": [
          273
         ],
         "yaxis": "y"
        },
        {
         "alignmentgroup": "True",
         "hovertemplate": "index=proteins\\10000\\None\\True\\bruto\\steps.csv<br>Typ=%{x}<br>Počet provedených iterací=%{y}<br>text=%{text}<extra></extra>",
         "legendgroup": "proteins\\10000\\None\\True\\bruto\\steps.csv",
         "marker": {
          "color": "#00cc96",
          "pattern": {
           "shape": ""
          }
         },
         "name": "proteins\\10000\\None\\True\\bruto\\steps.csv",
         "offsetgroup": "proteins\\10000\\None\\True\\bruto\\steps.csv",
         "orientation": "v",
         "showlegend": true,
         "text": [
          "367.00"
         ],
         "textposition": "auto",
         "type": "bar",
         "x": [
          "Proteins"
         ],
         "xaxis": "x",
         "y": [
          367
         ],
         "yaxis": "y"
        },
        {
         "alignmentgroup": "True",
         "hovertemplate": "index=sources\\10000\\None\\True\\bruto\\steps.csv<br>Typ=%{x}<br>Počet provedených iterací=%{y}<br>text=%{text}<extra></extra>",
         "legendgroup": "sources\\10000\\None\\True\\bruto\\steps.csv",
         "marker": {
          "color": "#ab63fa",
          "pattern": {
           "shape": ""
          }
         },
         "name": "sources\\10000\\None\\True\\bruto\\steps.csv",
         "offsetgroup": "sources\\10000\\None\\True\\bruto\\steps.csv",
         "orientation": "v",
         "showlegend": true,
         "text": [
          "226.00"
         ],
         "textposition": "auto",
         "type": "bar",
         "x": [
          "Sources"
         ],
         "xaxis": "x",
         "y": [
          226
         ],
         "yaxis": "y"
        }
       ],
       "layout": {
        "barmode": "group",
        "legend": {
         "title": {
          "text": "index"
         },
         "tracegroupgap": 0
        },
        "template": {
         "data": {
          "bar": [
           {
            "error_x": {
             "color": "#2a3f5f"
            },
            "error_y": {
             "color": "#2a3f5f"
            },
            "marker": {
             "line": {
              "color": "#E5ECF6",
              "width": 0.5
             },
             "pattern": {
              "fillmode": "overlay",
              "size": 10,
              "solidity": 0.2
             }
            },
            "type": "bar"
           }
          ],
          "barpolar": [
           {
            "marker": {
             "line": {
              "color": "#E5ECF6",
              "width": 0.5
             },
             "pattern": {
              "fillmode": "overlay",
              "size": 10,
              "solidity": 0.2
             }
            },
            "type": "barpolar"
           }
          ],
          "carpet": [
           {
            "aaxis": {
             "endlinecolor": "#2a3f5f",
             "gridcolor": "white",
             "linecolor": "white",
             "minorgridcolor": "white",
             "startlinecolor": "#2a3f5f"
            },
            "baxis": {
             "endlinecolor": "#2a3f5f",
             "gridcolor": "white",
             "linecolor": "white",
             "minorgridcolor": "white",
             "startlinecolor": "#2a3f5f"
            },
            "type": "carpet"
           }
          ],
          "choropleth": [
           {
            "colorbar": {
             "outlinewidth": 0,
             "ticks": ""
            },
            "type": "choropleth"
           }
          ],
          "contour": [
           {
            "colorbar": {
             "outlinewidth": 0,
             "ticks": ""
            },
            "colorscale": [
             [
              0,
              "#0d0887"
             ],
             [
              0.1111111111111111,
              "#46039f"
             ],
             [
              0.2222222222222222,
              "#7201a8"
             ],
             [
              0.3333333333333333,
              "#9c179e"
             ],
             [
              0.4444444444444444,
              "#bd3786"
             ],
             [
              0.5555555555555556,
              "#d8576b"
             ],
             [
              0.6666666666666666,
              "#ed7953"
             ],
             [
              0.7777777777777778,
              "#fb9f3a"
             ],
             [
              0.8888888888888888,
              "#fdca26"
             ],
             [
              1,
              "#f0f921"
             ]
            ],
            "type": "contour"
           }
          ],
          "contourcarpet": [
           {
            "colorbar": {
             "outlinewidth": 0,
             "ticks": ""
            },
            "type": "contourcarpet"
           }
          ],
          "heatmap": [
           {
            "colorbar": {
             "outlinewidth": 0,
             "ticks": ""
            },
            "colorscale": [
             [
              0,
              "#0d0887"
             ],
             [
              0.1111111111111111,
              "#46039f"
             ],
             [
              0.2222222222222222,
              "#7201a8"
             ],
             [
              0.3333333333333333,
              "#9c179e"
             ],
             [
              0.4444444444444444,
              "#bd3786"
             ],
             [
              0.5555555555555556,
              "#d8576b"
             ],
             [
              0.6666666666666666,
              "#ed7953"
             ],
             [
              0.7777777777777778,
              "#fb9f3a"
             ],
             [
              0.8888888888888888,
              "#fdca26"
             ],
             [
              1,
              "#f0f921"
             ]
            ],
            "type": "heatmap"
           }
          ],
          "heatmapgl": [
           {
            "colorbar": {
             "outlinewidth": 0,
             "ticks": ""
            },
            "colorscale": [
             [
              0,
              "#0d0887"
             ],
             [
              0.1111111111111111,
              "#46039f"
             ],
             [
              0.2222222222222222,
              "#7201a8"
             ],
             [
              0.3333333333333333,
              "#9c179e"
             ],
             [
              0.4444444444444444,
              "#bd3786"
             ],
             [
              0.5555555555555556,
              "#d8576b"
             ],
             [
              0.6666666666666666,
              "#ed7953"
             ],
             [
              0.7777777777777778,
              "#fb9f3a"
             ],
             [
              0.8888888888888888,
              "#fdca26"
             ],
             [
              1,
              "#f0f921"
             ]
            ],
            "type": "heatmapgl"
           }
          ],
          "histogram": [
           {
            "marker": {
             "pattern": {
              "fillmode": "overlay",
              "size": 10,
              "solidity": 0.2
             }
            },
            "type": "histogram"
           }
          ],
          "histogram2d": [
           {
            "colorbar": {
             "outlinewidth": 0,
             "ticks": ""
            },
            "colorscale": [
             [
              0,
              "#0d0887"
             ],
             [
              0.1111111111111111,
              "#46039f"
             ],
             [
              0.2222222222222222,
              "#7201a8"
             ],
             [
              0.3333333333333333,
              "#9c179e"
             ],
             [
              0.4444444444444444,
              "#bd3786"
             ],
             [
              0.5555555555555556,
              "#d8576b"
             ],
             [
              0.6666666666666666,
              "#ed7953"
             ],
             [
              0.7777777777777778,
              "#fb9f3a"
             ],
             [
              0.8888888888888888,
              "#fdca26"
             ],
             [
              1,
              "#f0f921"
             ]
            ],
            "type": "histogram2d"
           }
          ],
          "histogram2dcontour": [
           {
            "colorbar": {
             "outlinewidth": 0,
             "ticks": ""
            },
            "colorscale": [
             [
              0,
              "#0d0887"
             ],
             [
              0.1111111111111111,
              "#46039f"
             ],
             [
              0.2222222222222222,
              "#7201a8"
             ],
             [
              0.3333333333333333,
              "#9c179e"
             ],
             [
              0.4444444444444444,
              "#bd3786"
             ],
             [
              0.5555555555555556,
              "#d8576b"
             ],
             [
              0.6666666666666666,
              "#ed7953"
             ],
             [
              0.7777777777777778,
              "#fb9f3a"
             ],
             [
              0.8888888888888888,
              "#fdca26"
             ],
             [
              1,
              "#f0f921"
             ]
            ],
            "type": "histogram2dcontour"
           }
          ],
          "mesh3d": [
           {
            "colorbar": {
             "outlinewidth": 0,
             "ticks": ""
            },
            "type": "mesh3d"
           }
          ],
          "parcoords": [
           {
            "line": {
             "colorbar": {
              "outlinewidth": 0,
              "ticks": ""
             }
            },
            "type": "parcoords"
           }
          ],
          "pie": [
           {
            "automargin": true,
            "type": "pie"
           }
          ],
          "scatter": [
           {
            "marker": {
             "colorbar": {
              "outlinewidth": 0,
              "ticks": ""
             }
            },
            "type": "scatter"
           }
          ],
          "scatter3d": [
           {
            "line": {
             "colorbar": {
              "outlinewidth": 0,
              "ticks": ""
             }
            },
            "marker": {
             "colorbar": {
              "outlinewidth": 0,
              "ticks": ""
             }
            },
            "type": "scatter3d"
           }
          ],
          "scattercarpet": [
           {
            "marker": {
             "colorbar": {
              "outlinewidth": 0,
              "ticks": ""
             }
            },
            "type": "scattercarpet"
           }
          ],
          "scattergeo": [
           {
            "marker": {
             "colorbar": {
              "outlinewidth": 0,
              "ticks": ""
             }
            },
            "type": "scattergeo"
           }
          ],
          "scattergl": [
           {
            "marker": {
             "colorbar": {
              "outlinewidth": 0,
              "ticks": ""
             }
            },
            "type": "scattergl"
           }
          ],
          "scattermapbox": [
           {
            "marker": {
             "colorbar": {
              "outlinewidth": 0,
              "ticks": ""
             }
            },
            "type": "scattermapbox"
           }
          ],
          "scatterpolar": [
           {
            "marker": {
             "colorbar": {
              "outlinewidth": 0,
              "ticks": ""
             }
            },
            "type": "scatterpolar"
           }
          ],
          "scatterpolargl": [
           {
            "marker": {
             "colorbar": {
              "outlinewidth": 0,
              "ticks": ""
             }
            },
            "type": "scatterpolargl"
           }
          ],
          "scatterternary": [
           {
            "marker": {
             "colorbar": {
              "outlinewidth": 0,
              "ticks": ""
             }
            },
            "type": "scatterternary"
           }
          ],
          "surface": [
           {
            "colorbar": {
             "outlinewidth": 0,
             "ticks": ""
            },
            "colorscale": [
             [
              0,
              "#0d0887"
             ],
             [
              0.1111111111111111,
              "#46039f"
             ],
             [
              0.2222222222222222,
              "#7201a8"
             ],
             [
              0.3333333333333333,
              "#9c179e"
             ],
             [
              0.4444444444444444,
              "#bd3786"
             ],
             [
              0.5555555555555556,
              "#d8576b"
             ],
             [
              0.6666666666666666,
              "#ed7953"
             ],
             [
              0.7777777777777778,
              "#fb9f3a"
             ],
             [
              0.8888888888888888,
              "#fdca26"
             ],
             [
              1,
              "#f0f921"
             ]
            ],
            "type": "surface"
           }
          ],
          "table": [
           {
            "cells": {
             "fill": {
              "color": "#EBF0F8"
             },
             "line": {
              "color": "white"
             }
            },
            "header": {
             "fill": {
              "color": "#C8D4E3"
             },
             "line": {
              "color": "white"
             }
            },
            "type": "table"
           }
          ]
         },
         "layout": {
          "annotationdefaults": {
           "arrowcolor": "#2a3f5f",
           "arrowhead": 0,
           "arrowwidth": 1
          },
          "autotypenumbers": "strict",
          "coloraxis": {
           "colorbar": {
            "outlinewidth": 0,
            "ticks": ""
           }
          },
          "colorscale": {
           "diverging": [
            [
             0,
             "#8e0152"
            ],
            [
             0.1,
             "#c51b7d"
            ],
            [
             0.2,
             "#de77ae"
            ],
            [
             0.3,
             "#f1b6da"
            ],
            [
             0.4,
             "#fde0ef"
            ],
            [
             0.5,
             "#f7f7f7"
            ],
            [
             0.6,
             "#e6f5d0"
            ],
            [
             0.7,
             "#b8e186"
            ],
            [
             0.8,
             "#7fbc41"
            ],
            [
             0.9,
             "#4d9221"
            ],
            [
             1,
             "#276419"
            ]
           ],
           "sequential": [
            [
             0,
             "#0d0887"
            ],
            [
             0.1111111111111111,
             "#46039f"
            ],
            [
             0.2222222222222222,
             "#7201a8"
            ],
            [
             0.3333333333333333,
             "#9c179e"
            ],
            [
             0.4444444444444444,
             "#bd3786"
            ],
            [
             0.5555555555555556,
             "#d8576b"
            ],
            [
             0.6666666666666666,
             "#ed7953"
            ],
            [
             0.7777777777777778,
             "#fb9f3a"
            ],
            [
             0.8888888888888888,
             "#fdca26"
            ],
            [
             1,
             "#f0f921"
            ]
           ],
           "sequentialminus": [
            [
             0,
             "#0d0887"
            ],
            [
             0.1111111111111111,
             "#46039f"
            ],
            [
             0.2222222222222222,
             "#7201a8"
            ],
            [
             0.3333333333333333,
             "#9c179e"
            ],
            [
             0.4444444444444444,
             "#bd3786"
            ],
            [
             0.5555555555555556,
             "#d8576b"
            ],
            [
             0.6666666666666666,
             "#ed7953"
            ],
            [
             0.7777777777777778,
             "#fb9f3a"
            ],
            [
             0.8888888888888888,
             "#fdca26"
            ],
            [
             1,
             "#f0f921"
            ]
           ]
          },
          "colorway": [
           "#636efa",
           "#EF553B",
           "#00cc96",
           "#ab63fa",
           "#FFA15A",
           "#19d3f3",
           "#FF6692",
           "#B6E880",
           "#FF97FF",
           "#FECB52"
          ],
          "font": {
           "color": "#2a3f5f"
          },
          "geo": {
           "bgcolor": "white",
           "lakecolor": "white",
           "landcolor": "#E5ECF6",
           "showlakes": true,
           "showland": true,
           "subunitcolor": "white"
          },
          "hoverlabel": {
           "align": "left"
          },
          "hovermode": "closest",
          "mapbox": {
           "style": "light"
          },
          "paper_bgcolor": "white",
          "plot_bgcolor": "#E5ECF6",
          "polar": {
           "angularaxis": {
            "gridcolor": "white",
            "linecolor": "white",
            "ticks": ""
           },
           "bgcolor": "#E5ECF6",
           "radialaxis": {
            "gridcolor": "white",
            "linecolor": "white",
            "ticks": ""
           }
          },
          "scene": {
           "xaxis": {
            "backgroundcolor": "#E5ECF6",
            "gridcolor": "white",
            "gridwidth": 2,
            "linecolor": "white",
            "showbackground": true,
            "ticks": "",
            "zerolinecolor": "white"
           },
           "yaxis": {
            "backgroundcolor": "#E5ECF6",
            "gridcolor": "white",
            "gridwidth": 2,
            "linecolor": "white",
            "showbackground": true,
            "ticks": "",
            "zerolinecolor": "white"
           },
           "zaxis": {
            "backgroundcolor": "#E5ECF6",
            "gridcolor": "white",
            "gridwidth": 2,
            "linecolor": "white",
            "showbackground": true,
            "ticks": "",
            "zerolinecolor": "white"
           }
          },
          "shapedefaults": {
           "line": {
            "color": "#2a3f5f"
           }
          },
          "ternary": {
           "aaxis": {
            "gridcolor": "white",
            "linecolor": "white",
            "ticks": ""
           },
           "baxis": {
            "gridcolor": "white",
            "linecolor": "white",
            "ticks": ""
           },
           "bgcolor": "#E5ECF6",
           "caxis": {
            "gridcolor": "white",
            "linecolor": "white",
            "ticks": ""
           }
          },
          "title": {
           "x": 0.05
          },
          "xaxis": {
           "automargin": true,
           "gridcolor": "white",
           "linecolor": "white",
           "ticks": "",
           "title": {
            "standoff": 15
           },
           "zerolinecolor": "white",
           "zerolinewidth": 2
          },
          "yaxis": {
           "automargin": true,
           "gridcolor": "white",
           "linecolor": "white",
           "ticks": "",
           "title": {
            "standoff": 15
           },
           "zerolinecolor": "white",
           "zerolinewidth": 2
          }
         }
        },
        "title": {
         "text": "Počet kroků algoritmu"
        },
        "xaxis": {
         "anchor": "y",
         "domain": [
          0,
          1
         ],
         "title": {
          "text": "Typ"
         }
        },
        "yaxis": {
         "anchor": "x",
         "domain": [
          0,
          1
         ],
         "title": {
          "text": "Počet provedených iterací"
         }
        }
       }
      }
     },
     "metadata": {},
     "output_type": "display_data"
    }
   ],
   "source": [
    "fig = px.bar(\n",
    "    df_steps, \n",
    "    x=['Dna', 'English', 'Proteins', 'Sources']*1, \n",
    "    y=\"NumberOfSteps\",\n",
    "    color=df_steps.index, \n",
    "    barmode='group',\n",
    "    text=[(\"%.2f\" % x) for x in df_steps.NumberOfSteps.values],\n",
    "    title=\"Počet kroků algoritmu\",\n",
    "    labels=dict(x=\"Typ\", NumberOfSteps=\"Počet provedených iterací\")\n",
    ")\n",
    "\n",
    "fig.show()\n"
   ]
  },
  {
   "cell_type": "markdown",
   "metadata": {},
   "source": [
    "- Finální tabulka výsledků\n",
    "    - Komplet všechny důležité výsledky a jejich srovnání\n",
    "    - Napříč\n",
    "    - Nejlépe hlavní "
   ]
  },
  {
   "cell_type": "code",
   "execution_count": 82,
   "metadata": {},
   "outputs": [
    {
     "data": {
      "text/html": [
       "<div>\n",
       "<style scoped>\n",
       "    .dataframe tbody tr th:only-of-type {\n",
       "        vertical-align: middle;\n",
       "    }\n",
       "\n",
       "    .dataframe tbody tr th {\n",
       "        vertical-align: top;\n",
       "    }\n",
       "\n",
       "    .dataframe thead th {\n",
       "        text-align: right;\n",
       "    }\n",
       "</style>\n",
       "<table border=\"1\" class=\"dataframe\">\n",
       "  <thead>\n",
       "    <tr style=\"text-align: right;\">\n",
       "      <th></th>\n",
       "      <th>LimitSteps</th>\n",
       "      <th>PickMethod</th>\n",
       "      <th>NormalizationValue</th>\n",
       "      <th>Optimized</th>\n",
       "      <th>StartedEntropy</th>\n",
       "      <th>EndedEntropy</th>\n",
       "      <th>DiffEntropy</th>\n",
       "      <th>StartedSizeEntropy</th>\n",
       "      <th>EndedSizeEntropy</th>\n",
       "      <th>DiffSizeEntropy</th>\n",
       "      <th>StartedMessageSize</th>\n",
       "      <th>EndedMessageSize</th>\n",
       "      <th>DiffMessageSize</th>\n",
       "      <th>CalculationTime</th>\n",
       "      <th>NumberOfSteps</th>\n",
       "    </tr>\n",
       "  </thead>\n",
       "  <tbody>\n",
       "    <tr>\n",
       "      <th>dna\\10000\\None\\True\\bruto\\steps.csv</th>\n",
       "      <td>NaN</td>\n",
       "      <td>Largest</td>\n",
       "      <td>10000</td>\n",
       "      <td>bruto</td>\n",
       "      <td>1.989577</td>\n",
       "      <td>6.007436</td>\n",
       "      <td>4.017859</td>\n",
       "      <td>19895.772726</td>\n",
       "      <td>25783.915322</td>\n",
       "      <td>5888.142596</td>\n",
       "      <td>10000</td>\n",
       "      <td>4292</td>\n",
       "      <td>5708</td>\n",
       "      <td>3126.732789</td>\n",
       "      <td>228</td>\n",
       "    </tr>\n",
       "    <tr>\n",
       "      <th>english\\10000\\None\\True\\bruto\\steps.csv</th>\n",
       "      <td>NaN</td>\n",
       "      <td>Largest</td>\n",
       "      <td>10000</td>\n",
       "      <td>bruto</td>\n",
       "      <td>4.512730</td>\n",
       "      <td>6.661476</td>\n",
       "      <td>2.148746</td>\n",
       "      <td>45127.300249</td>\n",
       "      <td>48615.449340</td>\n",
       "      <td>3488.149091</td>\n",
       "      <td>10000</td>\n",
       "      <td>7298</td>\n",
       "      <td>2702</td>\n",
       "      <td>6035.128097</td>\n",
       "      <td>273</td>\n",
       "    </tr>\n",
       "    <tr>\n",
       "      <th>proteins\\10000\\None\\True\\bruto\\steps.csv</th>\n",
       "      <td>NaN</td>\n",
       "      <td>Largest</td>\n",
       "      <td>10000</td>\n",
       "      <td>bruto</td>\n",
       "      <td>4.146463</td>\n",
       "      <td>7.269899</td>\n",
       "      <td>3.123436</td>\n",
       "      <td>41464.634868</td>\n",
       "      <td>46054.811671</td>\n",
       "      <td>4590.176802</td>\n",
       "      <td>10000</td>\n",
       "      <td>6335</td>\n",
       "      <td>3665</td>\n",
       "      <td>9675.256349</td>\n",
       "      <td>367</td>\n",
       "    </tr>\n",
       "    <tr>\n",
       "      <th>sources\\10000\\None\\True\\bruto\\steps.csv</th>\n",
       "      <td>NaN</td>\n",
       "      <td>Largest</td>\n",
       "      <td>10000</td>\n",
       "      <td>bruto</td>\n",
       "      <td>5.457019</td>\n",
       "      <td>6.693041</td>\n",
       "      <td>1.236022</td>\n",
       "      <td>54570.188721</td>\n",
       "      <td>56542.809159</td>\n",
       "      <td>1972.620438</td>\n",
       "      <td>10000</td>\n",
       "      <td>8448</td>\n",
       "      <td>1552</td>\n",
       "      <td>5123.487468</td>\n",
       "      <td>226</td>\n",
       "    </tr>\n",
       "  </tbody>\n",
       "</table>\n",
       "</div>"
      ],
      "text/plain": [
       "                                          LimitSteps PickMethod  \\\n",
       "dna\\10000\\None\\True\\bruto\\steps.csv              NaN    Largest   \n",
       "english\\10000\\None\\True\\bruto\\steps.csv          NaN    Largest   \n",
       "proteins\\10000\\None\\True\\bruto\\steps.csv         NaN    Largest   \n",
       "sources\\10000\\None\\True\\bruto\\steps.csv          NaN    Largest   \n",
       "\n",
       "                                          NormalizationValue Optimized  \\\n",
       "dna\\10000\\None\\True\\bruto\\steps.csv                    10000     bruto   \n",
       "english\\10000\\None\\True\\bruto\\steps.csv                10000     bruto   \n",
       "proteins\\10000\\None\\True\\bruto\\steps.csv               10000     bruto   \n",
       "sources\\10000\\None\\True\\bruto\\steps.csv                10000     bruto   \n",
       "\n",
       "                                          StartedEntropy  EndedEntropy  \\\n",
       "dna\\10000\\None\\True\\bruto\\steps.csv             1.989577      6.007436   \n",
       "english\\10000\\None\\True\\bruto\\steps.csv         4.512730      6.661476   \n",
       "proteins\\10000\\None\\True\\bruto\\steps.csv        4.146463      7.269899   \n",
       "sources\\10000\\None\\True\\bruto\\steps.csv         5.457019      6.693041   \n",
       "\n",
       "                                          DiffEntropy  StartedSizeEntropy  \\\n",
       "dna\\10000\\None\\True\\bruto\\steps.csv          4.017859        19895.772726   \n",
       "english\\10000\\None\\True\\bruto\\steps.csv      2.148746        45127.300249   \n",
       "proteins\\10000\\None\\True\\bruto\\steps.csv     3.123436        41464.634868   \n",
       "sources\\10000\\None\\True\\bruto\\steps.csv      1.236022        54570.188721   \n",
       "\n",
       "                                          EndedSizeEntropy  DiffSizeEntropy  \\\n",
       "dna\\10000\\None\\True\\bruto\\steps.csv           25783.915322      5888.142596   \n",
       "english\\10000\\None\\True\\bruto\\steps.csv       48615.449340      3488.149091   \n",
       "proteins\\10000\\None\\True\\bruto\\steps.csv      46054.811671      4590.176802   \n",
       "sources\\10000\\None\\True\\bruto\\steps.csv       56542.809159      1972.620438   \n",
       "\n",
       "                                          StartedMessageSize  \\\n",
       "dna\\10000\\None\\True\\bruto\\steps.csv                    10000   \n",
       "english\\10000\\None\\True\\bruto\\steps.csv                10000   \n",
       "proteins\\10000\\None\\True\\bruto\\steps.csv               10000   \n",
       "sources\\10000\\None\\True\\bruto\\steps.csv                10000   \n",
       "\n",
       "                                          EndedMessageSize  DiffMessageSize  \\\n",
       "dna\\10000\\None\\True\\bruto\\steps.csv                   4292             5708   \n",
       "english\\10000\\None\\True\\bruto\\steps.csv               7298             2702   \n",
       "proteins\\10000\\None\\True\\bruto\\steps.csv              6335             3665   \n",
       "sources\\10000\\None\\True\\bruto\\steps.csv               8448             1552   \n",
       "\n",
       "                                          CalculationTime  NumberOfSteps  \n",
       "dna\\10000\\None\\True\\bruto\\steps.csv           3126.732789            228  \n",
       "english\\10000\\None\\True\\bruto\\steps.csv       6035.128097            273  \n",
       "proteins\\10000\\None\\True\\bruto\\steps.csv      9675.256349            367  \n",
       "sources\\10000\\None\\True\\bruto\\steps.csv       5123.487468            226  "
      ]
     },
     "execution_count": 82,
     "metadata": {},
     "output_type": "execute_result"
    }
   ],
   "source": [
    "results"
   ]
  },
  {
   "cell_type": "code",
   "execution_count": 83,
   "metadata": {},
   "outputs": [],
   "source": [
    "def create_final_df(input_df=results):\n",
    "    final_results = input_df.copy()\n",
    "\n",
    "    final_results['MessageSize Diff %'] = [(100 - (100 * (end/start))) for start, end in zip(final_results.StartedMessageSize.values, final_results.EndedMessageSize.values)]\n",
    "\n",
    "    final_results['Entropy Diff %'] = [round(abs(((100 * (start/end)) - 100)), 2) for start, end in zip(final_results.StartedEntropy.values, final_results.EndedEntropy.values)]\n",
    "\n",
    "    final_results['Type'] = list(map(lambda x: x.split(os.path.sep)[0], final_results.index)) \n",
    "\n",
    "    final_results = final_results.drop([\n",
    "        NewTable.EndedEntropy.value,\n",
    "        NewTable.StartedEntropy.value,\n",
    "        NewTable.StartedMessageSize.value,\n",
    "        NewTable.EndedMessageSize.value,\n",
    "        NewTable.StartedSizeEntropy.value,\n",
    "        NewTable.EndedSizeEntropy.value,\n",
    "        NewTable.NormalizationValue.value,\n",
    "        NewTable.Optimized.value,\n",
    "    ], axis=1)\n",
    "\n",
    "    final_results = final_results.set_index(\"Type\")\n",
    "\n",
    "    return final_results"
   ]
  },
  {
   "cell_type": "code",
   "execution_count": 84,
   "metadata": {},
   "outputs": [],
   "source": [
    "f_res = create_final_df()"
   ]
  },
  {
   "cell_type": "code",
   "execution_count": 85,
   "metadata": {},
   "outputs": [
    {
     "data": {
      "text/html": [
       "<div>\n",
       "<style scoped>\n",
       "    .dataframe tbody tr th:only-of-type {\n",
       "        vertical-align: middle;\n",
       "    }\n",
       "\n",
       "    .dataframe tbody tr th {\n",
       "        vertical-align: top;\n",
       "    }\n",
       "\n",
       "    .dataframe thead th {\n",
       "        text-align: right;\n",
       "    }\n",
       "</style>\n",
       "<table border=\"1\" class=\"dataframe\">\n",
       "  <thead>\n",
       "    <tr style=\"text-align: right;\">\n",
       "      <th></th>\n",
       "      <th>LimitSteps</th>\n",
       "      <th>PickMethod</th>\n",
       "      <th>DiffEntropy</th>\n",
       "      <th>DiffSizeEntropy</th>\n",
       "      <th>DiffMessageSize</th>\n",
       "      <th>CalculationTime</th>\n",
       "      <th>NumberOfSteps</th>\n",
       "      <th>MessageSize Diff %</th>\n",
       "      <th>Entropy Diff %</th>\n",
       "    </tr>\n",
       "    <tr>\n",
       "      <th>Type</th>\n",
       "      <th></th>\n",
       "      <th></th>\n",
       "      <th></th>\n",
       "      <th></th>\n",
       "      <th></th>\n",
       "      <th></th>\n",
       "      <th></th>\n",
       "      <th></th>\n",
       "      <th></th>\n",
       "    </tr>\n",
       "  </thead>\n",
       "  <tbody>\n",
       "    <tr>\n",
       "      <th>dna</th>\n",
       "      <td>NaN</td>\n",
       "      <td>Largest</td>\n",
       "      <td>4.017859</td>\n",
       "      <td>5888.142596</td>\n",
       "      <td>5708</td>\n",
       "      <td>3126.732789</td>\n",
       "      <td>228</td>\n",
       "      <td>57.08</td>\n",
       "      <td>66.88</td>\n",
       "    </tr>\n",
       "    <tr>\n",
       "      <th>english</th>\n",
       "      <td>NaN</td>\n",
       "      <td>Largest</td>\n",
       "      <td>2.148746</td>\n",
       "      <td>3488.149091</td>\n",
       "      <td>2702</td>\n",
       "      <td>6035.128097</td>\n",
       "      <td>273</td>\n",
       "      <td>27.02</td>\n",
       "      <td>32.26</td>\n",
       "    </tr>\n",
       "    <tr>\n",
       "      <th>proteins</th>\n",
       "      <td>NaN</td>\n",
       "      <td>Largest</td>\n",
       "      <td>3.123436</td>\n",
       "      <td>4590.176802</td>\n",
       "      <td>3665</td>\n",
       "      <td>9675.256349</td>\n",
       "      <td>367</td>\n",
       "      <td>36.65</td>\n",
       "      <td>42.96</td>\n",
       "    </tr>\n",
       "    <tr>\n",
       "      <th>sources</th>\n",
       "      <td>NaN</td>\n",
       "      <td>Largest</td>\n",
       "      <td>1.236022</td>\n",
       "      <td>1972.620438</td>\n",
       "      <td>1552</td>\n",
       "      <td>5123.487468</td>\n",
       "      <td>226</td>\n",
       "      <td>15.52</td>\n",
       "      <td>18.47</td>\n",
       "    </tr>\n",
       "  </tbody>\n",
       "</table>\n",
       "</div>"
      ],
      "text/plain": [
       "          LimitSteps PickMethod  DiffEntropy  DiffSizeEntropy  \\\n",
       "Type                                                            \n",
       "dna              NaN    Largest     4.017859      5888.142596   \n",
       "english          NaN    Largest     2.148746      3488.149091   \n",
       "proteins         NaN    Largest     3.123436      4590.176802   \n",
       "sources          NaN    Largest     1.236022      1972.620438   \n",
       "\n",
       "          DiffMessageSize  CalculationTime  NumberOfSteps  MessageSize Diff %  \\\n",
       "Type                                                                            \n",
       "dna                  5708      3126.732789            228               57.08   \n",
       "english              2702      6035.128097            273               27.02   \n",
       "proteins             3665      9675.256349            367               36.65   \n",
       "sources              1552      5123.487468            226               15.52   \n",
       "\n",
       "          Entropy Diff %  \n",
       "Type                      \n",
       "dna                66.88  \n",
       "english            32.26  \n",
       "proteins           42.96  \n",
       "sources            18.47  "
      ]
     },
     "execution_count": 85,
     "metadata": {},
     "output_type": "execute_result"
    }
   ],
   "source": [
    "f_res"
   ]
  },
  {
   "cell_type": "markdown",
   "metadata": {},
   "source": [
    "# Grafové srovnání metod"
   ]
  },
  {
   "cell_type": "code",
   "execution_count": 52,
   "metadata": {},
   "outputs": [
    {
     "data": {
      "text/plain": [
       "['dna\\\\10000\\\\15\\\\True\\\\bruto\\\\steps.csv',\n",
       " 'dna\\\\10000\\\\15\\\\False\\\\bruto\\\\steps.csv',\n",
       " 'dna\\\\10000\\\\None\\\\True\\\\bruto\\\\steps.csv',\n",
       " 'english\\\\10000\\\\15\\\\True\\\\bruto\\\\steps.csv',\n",
       " 'english\\\\10000\\\\15\\\\False\\\\bruto\\\\steps.csv',\n",
       " 'english\\\\10000\\\\None\\\\True\\\\bruto\\\\steps.csv',\n",
       " 'proteins\\\\10000\\\\15\\\\True\\\\bruto\\\\steps.csv',\n",
       " 'proteins\\\\10000\\\\15\\\\False\\\\bruto\\\\steps.csv',\n",
       " 'proteins\\\\10000\\\\None\\\\True\\\\bruto\\\\steps.csv',\n",
       " 'sources\\\\10000\\\\15\\\\True\\\\bruto\\\\steps.csv',\n",
       " 'sources\\\\10000\\\\15\\\\False\\\\bruto\\\\steps.csv',\n",
       " 'sources\\\\10000\\\\None\\\\True\\\\bruto\\\\steps.csv']"
      ]
     },
     "execution_count": 52,
     "metadata": {},
     "output_type": "execute_result"
    }
   ],
   "source": [
    "list(res.keys())"
   ]
  },
  {
   "cell_type": "code",
   "execution_count": 53,
   "metadata": {},
   "outputs": [],
   "source": [
    "def create_graphs_df(input_df, current_df, steps, table_value):\n",
    "    current_keys = list(input_df.keys())\n",
    "    keys = list(filter(lambda x: current_df in x, current_keys))\n",
    "    keys = list(filter(lambda x: str(steps) in x in x, keys))\n",
    "\n",
    "    largest_key = list(filter(lambda x: 'True' in x, keys))[0]\n",
    "    random_key = list(filter(lambda x: 'False' in x, keys))[0]\n",
    "    \n",
    "    \n",
    "    largest = largest_key\n",
    "    random = random_key\n",
    "\n",
    "    #TableFields.EntropySize.value\n",
    "    #TableFields.MessageSize.value\n",
    "\n",
    "    value_largest = input_df[largest][table_value]\n",
    "\n",
    "    value_random = input_df[random][table_value]\n",
    "\n",
    "\n",
    "    df_largest = pd.DataFrame()\n",
    "    df_largest['Value'] = value_largest\n",
    "    df_largest['Type'] = 'Largest'\n",
    "\n",
    "    df_random = pd.DataFrame()\n",
    "    df_random['Value'] = value_random\n",
    "    df_random['Type'] = 'Random'\n",
    "\n",
    "    return pd.concat([df_largest, df_random])\n"
   ]
  },
  {
   "cell_type": "markdown",
   "metadata": {},
   "source": [
    "## DNA"
   ]
  },
  {
   "cell_type": "code",
   "execution_count": 54,
   "metadata": {},
   "outputs": [],
   "source": [
    "t = 'dna' "
   ]
  },
  {
   "cell_type": "code",
   "execution_count": 55,
   "metadata": {},
   "outputs": [
    {
     "data": {
      "application/vnd.plotly.v1+json": {
       "config": {
        "plotlyServerURL": "https://plot.ly"
       },
       "data": [
        {
         "hovertemplate": "Type=Largest<br>Čas=%{x}<br>Velikost zprávy=%{y}<extra></extra>",
         "legendgroup": "Largest",
         "line": {
          "color": "#636efa",
          "dash": "solid"
         },
         "marker": {
          "symbol": "circle"
         },
         "mode": "lines",
         "name": "Largest",
         "orientation": "v",
         "showlegend": true,
         "type": "scatter",
         "x": [
          0,
          1,
          2,
          3,
          4,
          5,
          6,
          7,
          8,
          9,
          10,
          11,
          12,
          13,
          14
         ],
         "xaxis": "x",
         "y": [
          10000,
          9160,
          8741,
          8347,
          8051,
          7619,
          7325,
          7092,
          6858,
          6730,
          6614,
          6532,
          6449,
          6270,
          6218
         ],
         "yaxis": "y"
        },
        {
         "hovertemplate": "Type=Random<br>Čas=%{x}<br>Velikost zprávy=%{y}<extra></extra>",
         "legendgroup": "Random",
         "line": {
          "color": "#EF553B",
          "dash": "solid"
         },
         "marker": {
          "symbol": "circle"
         },
         "mode": "lines",
         "name": "Random",
         "orientation": "v",
         "showlegend": true,
         "type": "scatter",
         "x": [
          0,
          1,
          2,
          3,
          4,
          5,
          6,
          7,
          8,
          9,
          10,
          11,
          12,
          13,
          14
         ],
         "xaxis": "x",
         "y": [
          10000,
          9188,
          8754,
          8515,
          8348,
          8305,
          8283,
          8252,
          8109,
          8104,
          8074,
          8048,
          7755,
          7754,
          7750
         ],
         "yaxis": "y"
        }
       ],
       "layout": {
        "legend": {
         "title": {
          "text": "Type"
         },
         "tracegroupgap": 0
        },
        "template": {
         "data": {
          "bar": [
           {
            "error_x": {
             "color": "#2a3f5f"
            },
            "error_y": {
             "color": "#2a3f5f"
            },
            "marker": {
             "line": {
              "color": "#E5ECF6",
              "width": 0.5
             },
             "pattern": {
              "fillmode": "overlay",
              "size": 10,
              "solidity": 0.2
             }
            },
            "type": "bar"
           }
          ],
          "barpolar": [
           {
            "marker": {
             "line": {
              "color": "#E5ECF6",
              "width": 0.5
             },
             "pattern": {
              "fillmode": "overlay",
              "size": 10,
              "solidity": 0.2
             }
            },
            "type": "barpolar"
           }
          ],
          "carpet": [
           {
            "aaxis": {
             "endlinecolor": "#2a3f5f",
             "gridcolor": "white",
             "linecolor": "white",
             "minorgridcolor": "white",
             "startlinecolor": "#2a3f5f"
            },
            "baxis": {
             "endlinecolor": "#2a3f5f",
             "gridcolor": "white",
             "linecolor": "white",
             "minorgridcolor": "white",
             "startlinecolor": "#2a3f5f"
            },
            "type": "carpet"
           }
          ],
          "choropleth": [
           {
            "colorbar": {
             "outlinewidth": 0,
             "ticks": ""
            },
            "type": "choropleth"
           }
          ],
          "contour": [
           {
            "colorbar": {
             "outlinewidth": 0,
             "ticks": ""
            },
            "colorscale": [
             [
              0,
              "#0d0887"
             ],
             [
              0.1111111111111111,
              "#46039f"
             ],
             [
              0.2222222222222222,
              "#7201a8"
             ],
             [
              0.3333333333333333,
              "#9c179e"
             ],
             [
              0.4444444444444444,
              "#bd3786"
             ],
             [
              0.5555555555555556,
              "#d8576b"
             ],
             [
              0.6666666666666666,
              "#ed7953"
             ],
             [
              0.7777777777777778,
              "#fb9f3a"
             ],
             [
              0.8888888888888888,
              "#fdca26"
             ],
             [
              1,
              "#f0f921"
             ]
            ],
            "type": "contour"
           }
          ],
          "contourcarpet": [
           {
            "colorbar": {
             "outlinewidth": 0,
             "ticks": ""
            },
            "type": "contourcarpet"
           }
          ],
          "heatmap": [
           {
            "colorbar": {
             "outlinewidth": 0,
             "ticks": ""
            },
            "colorscale": [
             [
              0,
              "#0d0887"
             ],
             [
              0.1111111111111111,
              "#46039f"
             ],
             [
              0.2222222222222222,
              "#7201a8"
             ],
             [
              0.3333333333333333,
              "#9c179e"
             ],
             [
              0.4444444444444444,
              "#bd3786"
             ],
             [
              0.5555555555555556,
              "#d8576b"
             ],
             [
              0.6666666666666666,
              "#ed7953"
             ],
             [
              0.7777777777777778,
              "#fb9f3a"
             ],
             [
              0.8888888888888888,
              "#fdca26"
             ],
             [
              1,
              "#f0f921"
             ]
            ],
            "type": "heatmap"
           }
          ],
          "heatmapgl": [
           {
            "colorbar": {
             "outlinewidth": 0,
             "ticks": ""
            },
            "colorscale": [
             [
              0,
              "#0d0887"
             ],
             [
              0.1111111111111111,
              "#46039f"
             ],
             [
              0.2222222222222222,
              "#7201a8"
             ],
             [
              0.3333333333333333,
              "#9c179e"
             ],
             [
              0.4444444444444444,
              "#bd3786"
             ],
             [
              0.5555555555555556,
              "#d8576b"
             ],
             [
              0.6666666666666666,
              "#ed7953"
             ],
             [
              0.7777777777777778,
              "#fb9f3a"
             ],
             [
              0.8888888888888888,
              "#fdca26"
             ],
             [
              1,
              "#f0f921"
             ]
            ],
            "type": "heatmapgl"
           }
          ],
          "histogram": [
           {
            "marker": {
             "pattern": {
              "fillmode": "overlay",
              "size": 10,
              "solidity": 0.2
             }
            },
            "type": "histogram"
           }
          ],
          "histogram2d": [
           {
            "colorbar": {
             "outlinewidth": 0,
             "ticks": ""
            },
            "colorscale": [
             [
              0,
              "#0d0887"
             ],
             [
              0.1111111111111111,
              "#46039f"
             ],
             [
              0.2222222222222222,
              "#7201a8"
             ],
             [
              0.3333333333333333,
              "#9c179e"
             ],
             [
              0.4444444444444444,
              "#bd3786"
             ],
             [
              0.5555555555555556,
              "#d8576b"
             ],
             [
              0.6666666666666666,
              "#ed7953"
             ],
             [
              0.7777777777777778,
              "#fb9f3a"
             ],
             [
              0.8888888888888888,
              "#fdca26"
             ],
             [
              1,
              "#f0f921"
             ]
            ],
            "type": "histogram2d"
           }
          ],
          "histogram2dcontour": [
           {
            "colorbar": {
             "outlinewidth": 0,
             "ticks": ""
            },
            "colorscale": [
             [
              0,
              "#0d0887"
             ],
             [
              0.1111111111111111,
              "#46039f"
             ],
             [
              0.2222222222222222,
              "#7201a8"
             ],
             [
              0.3333333333333333,
              "#9c179e"
             ],
             [
              0.4444444444444444,
              "#bd3786"
             ],
             [
              0.5555555555555556,
              "#d8576b"
             ],
             [
              0.6666666666666666,
              "#ed7953"
             ],
             [
              0.7777777777777778,
              "#fb9f3a"
             ],
             [
              0.8888888888888888,
              "#fdca26"
             ],
             [
              1,
              "#f0f921"
             ]
            ],
            "type": "histogram2dcontour"
           }
          ],
          "mesh3d": [
           {
            "colorbar": {
             "outlinewidth": 0,
             "ticks": ""
            },
            "type": "mesh3d"
           }
          ],
          "parcoords": [
           {
            "line": {
             "colorbar": {
              "outlinewidth": 0,
              "ticks": ""
             }
            },
            "type": "parcoords"
           }
          ],
          "pie": [
           {
            "automargin": true,
            "type": "pie"
           }
          ],
          "scatter": [
           {
            "marker": {
             "colorbar": {
              "outlinewidth": 0,
              "ticks": ""
             }
            },
            "type": "scatter"
           }
          ],
          "scatter3d": [
           {
            "line": {
             "colorbar": {
              "outlinewidth": 0,
              "ticks": ""
             }
            },
            "marker": {
             "colorbar": {
              "outlinewidth": 0,
              "ticks": ""
             }
            },
            "type": "scatter3d"
           }
          ],
          "scattercarpet": [
           {
            "marker": {
             "colorbar": {
              "outlinewidth": 0,
              "ticks": ""
             }
            },
            "type": "scattercarpet"
           }
          ],
          "scattergeo": [
           {
            "marker": {
             "colorbar": {
              "outlinewidth": 0,
              "ticks": ""
             }
            },
            "type": "scattergeo"
           }
          ],
          "scattergl": [
           {
            "marker": {
             "colorbar": {
              "outlinewidth": 0,
              "ticks": ""
             }
            },
            "type": "scattergl"
           }
          ],
          "scattermapbox": [
           {
            "marker": {
             "colorbar": {
              "outlinewidth": 0,
              "ticks": ""
             }
            },
            "type": "scattermapbox"
           }
          ],
          "scatterpolar": [
           {
            "marker": {
             "colorbar": {
              "outlinewidth": 0,
              "ticks": ""
             }
            },
            "type": "scatterpolar"
           }
          ],
          "scatterpolargl": [
           {
            "marker": {
             "colorbar": {
              "outlinewidth": 0,
              "ticks": ""
             }
            },
            "type": "scatterpolargl"
           }
          ],
          "scatterternary": [
           {
            "marker": {
             "colorbar": {
              "outlinewidth": 0,
              "ticks": ""
             }
            },
            "type": "scatterternary"
           }
          ],
          "surface": [
           {
            "colorbar": {
             "outlinewidth": 0,
             "ticks": ""
            },
            "colorscale": [
             [
              0,
              "#0d0887"
             ],
             [
              0.1111111111111111,
              "#46039f"
             ],
             [
              0.2222222222222222,
              "#7201a8"
             ],
             [
              0.3333333333333333,
              "#9c179e"
             ],
             [
              0.4444444444444444,
              "#bd3786"
             ],
             [
              0.5555555555555556,
              "#d8576b"
             ],
             [
              0.6666666666666666,
              "#ed7953"
             ],
             [
              0.7777777777777778,
              "#fb9f3a"
             ],
             [
              0.8888888888888888,
              "#fdca26"
             ],
             [
              1,
              "#f0f921"
             ]
            ],
            "type": "surface"
           }
          ],
          "table": [
           {
            "cells": {
             "fill": {
              "color": "#EBF0F8"
             },
             "line": {
              "color": "white"
             }
            },
            "header": {
             "fill": {
              "color": "#C8D4E3"
             },
             "line": {
              "color": "white"
             }
            },
            "type": "table"
           }
          ]
         },
         "layout": {
          "annotationdefaults": {
           "arrowcolor": "#2a3f5f",
           "arrowhead": 0,
           "arrowwidth": 1
          },
          "autotypenumbers": "strict",
          "coloraxis": {
           "colorbar": {
            "outlinewidth": 0,
            "ticks": ""
           }
          },
          "colorscale": {
           "diverging": [
            [
             0,
             "#8e0152"
            ],
            [
             0.1,
             "#c51b7d"
            ],
            [
             0.2,
             "#de77ae"
            ],
            [
             0.3,
             "#f1b6da"
            ],
            [
             0.4,
             "#fde0ef"
            ],
            [
             0.5,
             "#f7f7f7"
            ],
            [
             0.6,
             "#e6f5d0"
            ],
            [
             0.7,
             "#b8e186"
            ],
            [
             0.8,
             "#7fbc41"
            ],
            [
             0.9,
             "#4d9221"
            ],
            [
             1,
             "#276419"
            ]
           ],
           "sequential": [
            [
             0,
             "#0d0887"
            ],
            [
             0.1111111111111111,
             "#46039f"
            ],
            [
             0.2222222222222222,
             "#7201a8"
            ],
            [
             0.3333333333333333,
             "#9c179e"
            ],
            [
             0.4444444444444444,
             "#bd3786"
            ],
            [
             0.5555555555555556,
             "#d8576b"
            ],
            [
             0.6666666666666666,
             "#ed7953"
            ],
            [
             0.7777777777777778,
             "#fb9f3a"
            ],
            [
             0.8888888888888888,
             "#fdca26"
            ],
            [
             1,
             "#f0f921"
            ]
           ],
           "sequentialminus": [
            [
             0,
             "#0d0887"
            ],
            [
             0.1111111111111111,
             "#46039f"
            ],
            [
             0.2222222222222222,
             "#7201a8"
            ],
            [
             0.3333333333333333,
             "#9c179e"
            ],
            [
             0.4444444444444444,
             "#bd3786"
            ],
            [
             0.5555555555555556,
             "#d8576b"
            ],
            [
             0.6666666666666666,
             "#ed7953"
            ],
            [
             0.7777777777777778,
             "#fb9f3a"
            ],
            [
             0.8888888888888888,
             "#fdca26"
            ],
            [
             1,
             "#f0f921"
            ]
           ]
          },
          "colorway": [
           "#636efa",
           "#EF553B",
           "#00cc96",
           "#ab63fa",
           "#FFA15A",
           "#19d3f3",
           "#FF6692",
           "#B6E880",
           "#FF97FF",
           "#FECB52"
          ],
          "font": {
           "color": "#2a3f5f"
          },
          "geo": {
           "bgcolor": "white",
           "lakecolor": "white",
           "landcolor": "#E5ECF6",
           "showlakes": true,
           "showland": true,
           "subunitcolor": "white"
          },
          "hoverlabel": {
           "align": "left"
          },
          "hovermode": "closest",
          "mapbox": {
           "style": "light"
          },
          "paper_bgcolor": "white",
          "plot_bgcolor": "#E5ECF6",
          "polar": {
           "angularaxis": {
            "gridcolor": "white",
            "linecolor": "white",
            "ticks": ""
           },
           "bgcolor": "#E5ECF6",
           "radialaxis": {
            "gridcolor": "white",
            "linecolor": "white",
            "ticks": ""
           }
          },
          "scene": {
           "xaxis": {
            "backgroundcolor": "#E5ECF6",
            "gridcolor": "white",
            "gridwidth": 2,
            "linecolor": "white",
            "showbackground": true,
            "ticks": "",
            "zerolinecolor": "white"
           },
           "yaxis": {
            "backgroundcolor": "#E5ECF6",
            "gridcolor": "white",
            "gridwidth": 2,
            "linecolor": "white",
            "showbackground": true,
            "ticks": "",
            "zerolinecolor": "white"
           },
           "zaxis": {
            "backgroundcolor": "#E5ECF6",
            "gridcolor": "white",
            "gridwidth": 2,
            "linecolor": "white",
            "showbackground": true,
            "ticks": "",
            "zerolinecolor": "white"
           }
          },
          "shapedefaults": {
           "line": {
            "color": "#2a3f5f"
           }
          },
          "ternary": {
           "aaxis": {
            "gridcolor": "white",
            "linecolor": "white",
            "ticks": ""
           },
           "baxis": {
            "gridcolor": "white",
            "linecolor": "white",
            "ticks": ""
           },
           "bgcolor": "#E5ECF6",
           "caxis": {
            "gridcolor": "white",
            "linecolor": "white",
            "ticks": ""
           }
          },
          "title": {
           "x": 0.05
          },
          "xaxis": {
           "automargin": true,
           "gridcolor": "white",
           "linecolor": "white",
           "ticks": "",
           "title": {
            "standoff": 15
           },
           "zerolinecolor": "white",
           "zerolinewidth": 2
          },
          "yaxis": {
           "automargin": true,
           "gridcolor": "white",
           "linecolor": "white",
           "ticks": "",
           "title": {
            "standoff": 15
           },
           "zerolinecolor": "white",
           "zerolinewidth": 2
          }
         }
        },
        "title": {
         "text": "Změna velikost zprávy po 15 krocích"
        },
        "xaxis": {
         "anchor": "y",
         "domain": [
          0,
          1
         ],
         "title": {
          "text": "Čas"
         }
        },
        "yaxis": {
         "anchor": "x",
         "domain": [
          0,
          1
         ],
         "title": {
          "text": "Velikost zprávy"
         }
        }
       }
      }
     },
     "metadata": {},
     "output_type": "display_data"
    },
    {
     "data": {
      "application/vnd.plotly.v1+json": {
       "config": {
        "plotlyServerURL": "https://plot.ly"
       },
       "data": [
        {
         "hovertemplate": "Type=Largest<br>Čas=%{x}<br>Entropie zprávy=%{y}<extra></extra>",
         "legendgroup": "Largest",
         "line": {
          "color": "#636efa",
          "dash": "solid"
         },
         "marker": {
          "symbol": "circle"
         },
         "mode": "lines",
         "name": "Largest",
         "orientation": "v",
         "showlegend": true,
         "type": "scatter",
         "x": [
          0,
          1,
          2,
          3,
          4,
          5,
          6,
          7,
          8,
          9,
          10,
          11,
          12,
          13,
          14
         ],
         "xaxis": "x",
         "y": [
          19799.081693757944,
          20688.64626385752,
          21262.13184496729,
          21845.18916781088,
          22255.626248627057,
          22579.670446997243,
          22847.188170874048,
          23042.48633257419,
          23234.91821261648,
          23384.194707627117,
          23515.68892000574,
          23617.235840474168,
          23697.527179621866,
          23779.354287497103,
          23851.797223207497
         ],
         "yaxis": "y"
        },
        {
         "hovertemplate": "Type=Random<br>Čas=%{x}<br>Entropie zprávy=%{y}<extra></extra>",
         "legendgroup": "Random",
         "line": {
          "color": "#EF553B",
          "dash": "solid"
         },
         "marker": {
          "symbol": "circle"
         },
         "mode": "lines",
         "name": "Random",
         "orientation": "v",
         "showlegend": true,
         "type": "scatter",
         "x": [
          0,
          1,
          2,
          3,
          4,
          5,
          6,
          7,
          8,
          9,
          10,
          11,
          12,
          13,
          14
         ],
         "xaxis": "x",
         "y": [
          19819.65762849931,
          20710.350342689373,
          21279.728450664694,
          21485.71611991305,
          21632.413988669738,
          21676.540364255245,
          21685.852167515677,
          21718.601230368982,
          21751.17212240508,
          21761.96346743885,
          21764.4737508432,
          21802.30958757308,
          22099.810802103057,
          22101.72823524959,
          22106.523997348588
         ],
         "yaxis": "y"
        }
       ],
       "layout": {
        "legend": {
         "title": {
          "text": "Type"
         },
         "tracegroupgap": 0
        },
        "template": {
         "data": {
          "bar": [
           {
            "error_x": {
             "color": "#2a3f5f"
            },
            "error_y": {
             "color": "#2a3f5f"
            },
            "marker": {
             "line": {
              "color": "#E5ECF6",
              "width": 0.5
             },
             "pattern": {
              "fillmode": "overlay",
              "size": 10,
              "solidity": 0.2
             }
            },
            "type": "bar"
           }
          ],
          "barpolar": [
           {
            "marker": {
             "line": {
              "color": "#E5ECF6",
              "width": 0.5
             },
             "pattern": {
              "fillmode": "overlay",
              "size": 10,
              "solidity": 0.2
             }
            },
            "type": "barpolar"
           }
          ],
          "carpet": [
           {
            "aaxis": {
             "endlinecolor": "#2a3f5f",
             "gridcolor": "white",
             "linecolor": "white",
             "minorgridcolor": "white",
             "startlinecolor": "#2a3f5f"
            },
            "baxis": {
             "endlinecolor": "#2a3f5f",
             "gridcolor": "white",
             "linecolor": "white",
             "minorgridcolor": "white",
             "startlinecolor": "#2a3f5f"
            },
            "type": "carpet"
           }
          ],
          "choropleth": [
           {
            "colorbar": {
             "outlinewidth": 0,
             "ticks": ""
            },
            "type": "choropleth"
           }
          ],
          "contour": [
           {
            "colorbar": {
             "outlinewidth": 0,
             "ticks": ""
            },
            "colorscale": [
             [
              0,
              "#0d0887"
             ],
             [
              0.1111111111111111,
              "#46039f"
             ],
             [
              0.2222222222222222,
              "#7201a8"
             ],
             [
              0.3333333333333333,
              "#9c179e"
             ],
             [
              0.4444444444444444,
              "#bd3786"
             ],
             [
              0.5555555555555556,
              "#d8576b"
             ],
             [
              0.6666666666666666,
              "#ed7953"
             ],
             [
              0.7777777777777778,
              "#fb9f3a"
             ],
             [
              0.8888888888888888,
              "#fdca26"
             ],
             [
              1,
              "#f0f921"
             ]
            ],
            "type": "contour"
           }
          ],
          "contourcarpet": [
           {
            "colorbar": {
             "outlinewidth": 0,
             "ticks": ""
            },
            "type": "contourcarpet"
           }
          ],
          "heatmap": [
           {
            "colorbar": {
             "outlinewidth": 0,
             "ticks": ""
            },
            "colorscale": [
             [
              0,
              "#0d0887"
             ],
             [
              0.1111111111111111,
              "#46039f"
             ],
             [
              0.2222222222222222,
              "#7201a8"
             ],
             [
              0.3333333333333333,
              "#9c179e"
             ],
             [
              0.4444444444444444,
              "#bd3786"
             ],
             [
              0.5555555555555556,
              "#d8576b"
             ],
             [
              0.6666666666666666,
              "#ed7953"
             ],
             [
              0.7777777777777778,
              "#fb9f3a"
             ],
             [
              0.8888888888888888,
              "#fdca26"
             ],
             [
              1,
              "#f0f921"
             ]
            ],
            "type": "heatmap"
           }
          ],
          "heatmapgl": [
           {
            "colorbar": {
             "outlinewidth": 0,
             "ticks": ""
            },
            "colorscale": [
             [
              0,
              "#0d0887"
             ],
             [
              0.1111111111111111,
              "#46039f"
             ],
             [
              0.2222222222222222,
              "#7201a8"
             ],
             [
              0.3333333333333333,
              "#9c179e"
             ],
             [
              0.4444444444444444,
              "#bd3786"
             ],
             [
              0.5555555555555556,
              "#d8576b"
             ],
             [
              0.6666666666666666,
              "#ed7953"
             ],
             [
              0.7777777777777778,
              "#fb9f3a"
             ],
             [
              0.8888888888888888,
              "#fdca26"
             ],
             [
              1,
              "#f0f921"
             ]
            ],
            "type": "heatmapgl"
           }
          ],
          "histogram": [
           {
            "marker": {
             "pattern": {
              "fillmode": "overlay",
              "size": 10,
              "solidity": 0.2
             }
            },
            "type": "histogram"
           }
          ],
          "histogram2d": [
           {
            "colorbar": {
             "outlinewidth": 0,
             "ticks": ""
            },
            "colorscale": [
             [
              0,
              "#0d0887"
             ],
             [
              0.1111111111111111,
              "#46039f"
             ],
             [
              0.2222222222222222,
              "#7201a8"
             ],
             [
              0.3333333333333333,
              "#9c179e"
             ],
             [
              0.4444444444444444,
              "#bd3786"
             ],
             [
              0.5555555555555556,
              "#d8576b"
             ],
             [
              0.6666666666666666,
              "#ed7953"
             ],
             [
              0.7777777777777778,
              "#fb9f3a"
             ],
             [
              0.8888888888888888,
              "#fdca26"
             ],
             [
              1,
              "#f0f921"
             ]
            ],
            "type": "histogram2d"
           }
          ],
          "histogram2dcontour": [
           {
            "colorbar": {
             "outlinewidth": 0,
             "ticks": ""
            },
            "colorscale": [
             [
              0,
              "#0d0887"
             ],
             [
              0.1111111111111111,
              "#46039f"
             ],
             [
              0.2222222222222222,
              "#7201a8"
             ],
             [
              0.3333333333333333,
              "#9c179e"
             ],
             [
              0.4444444444444444,
              "#bd3786"
             ],
             [
              0.5555555555555556,
              "#d8576b"
             ],
             [
              0.6666666666666666,
              "#ed7953"
             ],
             [
              0.7777777777777778,
              "#fb9f3a"
             ],
             [
              0.8888888888888888,
              "#fdca26"
             ],
             [
              1,
              "#f0f921"
             ]
            ],
            "type": "histogram2dcontour"
           }
          ],
          "mesh3d": [
           {
            "colorbar": {
             "outlinewidth": 0,
             "ticks": ""
            },
            "type": "mesh3d"
           }
          ],
          "parcoords": [
           {
            "line": {
             "colorbar": {
              "outlinewidth": 0,
              "ticks": ""
             }
            },
            "type": "parcoords"
           }
          ],
          "pie": [
           {
            "automargin": true,
            "type": "pie"
           }
          ],
          "scatter": [
           {
            "marker": {
             "colorbar": {
              "outlinewidth": 0,
              "ticks": ""
             }
            },
            "type": "scatter"
           }
          ],
          "scatter3d": [
           {
            "line": {
             "colorbar": {
              "outlinewidth": 0,
              "ticks": ""
             }
            },
            "marker": {
             "colorbar": {
              "outlinewidth": 0,
              "ticks": ""
             }
            },
            "type": "scatter3d"
           }
          ],
          "scattercarpet": [
           {
            "marker": {
             "colorbar": {
              "outlinewidth": 0,
              "ticks": ""
             }
            },
            "type": "scattercarpet"
           }
          ],
          "scattergeo": [
           {
            "marker": {
             "colorbar": {
              "outlinewidth": 0,
              "ticks": ""
             }
            },
            "type": "scattergeo"
           }
          ],
          "scattergl": [
           {
            "marker": {
             "colorbar": {
              "outlinewidth": 0,
              "ticks": ""
             }
            },
            "type": "scattergl"
           }
          ],
          "scattermapbox": [
           {
            "marker": {
             "colorbar": {
              "outlinewidth": 0,
              "ticks": ""
             }
            },
            "type": "scattermapbox"
           }
          ],
          "scatterpolar": [
           {
            "marker": {
             "colorbar": {
              "outlinewidth": 0,
              "ticks": ""
             }
            },
            "type": "scatterpolar"
           }
          ],
          "scatterpolargl": [
           {
            "marker": {
             "colorbar": {
              "outlinewidth": 0,
              "ticks": ""
             }
            },
            "type": "scatterpolargl"
           }
          ],
          "scatterternary": [
           {
            "marker": {
             "colorbar": {
              "outlinewidth": 0,
              "ticks": ""
             }
            },
            "type": "scatterternary"
           }
          ],
          "surface": [
           {
            "colorbar": {
             "outlinewidth": 0,
             "ticks": ""
            },
            "colorscale": [
             [
              0,
              "#0d0887"
             ],
             [
              0.1111111111111111,
              "#46039f"
             ],
             [
              0.2222222222222222,
              "#7201a8"
             ],
             [
              0.3333333333333333,
              "#9c179e"
             ],
             [
              0.4444444444444444,
              "#bd3786"
             ],
             [
              0.5555555555555556,
              "#d8576b"
             ],
             [
              0.6666666666666666,
              "#ed7953"
             ],
             [
              0.7777777777777778,
              "#fb9f3a"
             ],
             [
              0.8888888888888888,
              "#fdca26"
             ],
             [
              1,
              "#f0f921"
             ]
            ],
            "type": "surface"
           }
          ],
          "table": [
           {
            "cells": {
             "fill": {
              "color": "#EBF0F8"
             },
             "line": {
              "color": "white"
             }
            },
            "header": {
             "fill": {
              "color": "#C8D4E3"
             },
             "line": {
              "color": "white"
             }
            },
            "type": "table"
           }
          ]
         },
         "layout": {
          "annotationdefaults": {
           "arrowcolor": "#2a3f5f",
           "arrowhead": 0,
           "arrowwidth": 1
          },
          "autotypenumbers": "strict",
          "coloraxis": {
           "colorbar": {
            "outlinewidth": 0,
            "ticks": ""
           }
          },
          "colorscale": {
           "diverging": [
            [
             0,
             "#8e0152"
            ],
            [
             0.1,
             "#c51b7d"
            ],
            [
             0.2,
             "#de77ae"
            ],
            [
             0.3,
             "#f1b6da"
            ],
            [
             0.4,
             "#fde0ef"
            ],
            [
             0.5,
             "#f7f7f7"
            ],
            [
             0.6,
             "#e6f5d0"
            ],
            [
             0.7,
             "#b8e186"
            ],
            [
             0.8,
             "#7fbc41"
            ],
            [
             0.9,
             "#4d9221"
            ],
            [
             1,
             "#276419"
            ]
           ],
           "sequential": [
            [
             0,
             "#0d0887"
            ],
            [
             0.1111111111111111,
             "#46039f"
            ],
            [
             0.2222222222222222,
             "#7201a8"
            ],
            [
             0.3333333333333333,
             "#9c179e"
            ],
            [
             0.4444444444444444,
             "#bd3786"
            ],
            [
             0.5555555555555556,
             "#d8576b"
            ],
            [
             0.6666666666666666,
             "#ed7953"
            ],
            [
             0.7777777777777778,
             "#fb9f3a"
            ],
            [
             0.8888888888888888,
             "#fdca26"
            ],
            [
             1,
             "#f0f921"
            ]
           ],
           "sequentialminus": [
            [
             0,
             "#0d0887"
            ],
            [
             0.1111111111111111,
             "#46039f"
            ],
            [
             0.2222222222222222,
             "#7201a8"
            ],
            [
             0.3333333333333333,
             "#9c179e"
            ],
            [
             0.4444444444444444,
             "#bd3786"
            ],
            [
             0.5555555555555556,
             "#d8576b"
            ],
            [
             0.6666666666666666,
             "#ed7953"
            ],
            [
             0.7777777777777778,
             "#fb9f3a"
            ],
            [
             0.8888888888888888,
             "#fdca26"
            ],
            [
             1,
             "#f0f921"
            ]
           ]
          },
          "colorway": [
           "#636efa",
           "#EF553B",
           "#00cc96",
           "#ab63fa",
           "#FFA15A",
           "#19d3f3",
           "#FF6692",
           "#B6E880",
           "#FF97FF",
           "#FECB52"
          ],
          "font": {
           "color": "#2a3f5f"
          },
          "geo": {
           "bgcolor": "white",
           "lakecolor": "white",
           "landcolor": "#E5ECF6",
           "showlakes": true,
           "showland": true,
           "subunitcolor": "white"
          },
          "hoverlabel": {
           "align": "left"
          },
          "hovermode": "closest",
          "mapbox": {
           "style": "light"
          },
          "paper_bgcolor": "white",
          "plot_bgcolor": "#E5ECF6",
          "polar": {
           "angularaxis": {
            "gridcolor": "white",
            "linecolor": "white",
            "ticks": ""
           },
           "bgcolor": "#E5ECF6",
           "radialaxis": {
            "gridcolor": "white",
            "linecolor": "white",
            "ticks": ""
           }
          },
          "scene": {
           "xaxis": {
            "backgroundcolor": "#E5ECF6",
            "gridcolor": "white",
            "gridwidth": 2,
            "linecolor": "white",
            "showbackground": true,
            "ticks": "",
            "zerolinecolor": "white"
           },
           "yaxis": {
            "backgroundcolor": "#E5ECF6",
            "gridcolor": "white",
            "gridwidth": 2,
            "linecolor": "white",
            "showbackground": true,
            "ticks": "",
            "zerolinecolor": "white"
           },
           "zaxis": {
            "backgroundcolor": "#E5ECF6",
            "gridcolor": "white",
            "gridwidth": 2,
            "linecolor": "white",
            "showbackground": true,
            "ticks": "",
            "zerolinecolor": "white"
           }
          },
          "shapedefaults": {
           "line": {
            "color": "#2a3f5f"
           }
          },
          "ternary": {
           "aaxis": {
            "gridcolor": "white",
            "linecolor": "white",
            "ticks": ""
           },
           "baxis": {
            "gridcolor": "white",
            "linecolor": "white",
            "ticks": ""
           },
           "bgcolor": "#E5ECF6",
           "caxis": {
            "gridcolor": "white",
            "linecolor": "white",
            "ticks": ""
           }
          },
          "title": {
           "x": 0.05
          },
          "xaxis": {
           "automargin": true,
           "gridcolor": "white",
           "linecolor": "white",
           "ticks": "",
           "title": {
            "standoff": 15
           },
           "zerolinecolor": "white",
           "zerolinewidth": 2
          },
          "yaxis": {
           "automargin": true,
           "gridcolor": "white",
           "linecolor": "white",
           "ticks": "",
           "title": {
            "standoff": 15
           },
           "zerolinecolor": "white",
           "zerolinewidth": 2
          }
         }
        },
        "title": {
         "text": "Změna entropie zprávy po 15 krocích"
        },
        "xaxis": {
         "anchor": "y",
         "domain": [
          0,
          1
         ],
         "title": {
          "text": "Čas"
         }
        },
        "yaxis": {
         "anchor": "x",
         "domain": [
          0,
          1
         ],
         "title": {
          "text": "Entropie zprávy"
         }
        }
       }
      }
     },
     "metadata": {},
     "output_type": "display_data"
    }
   ],
   "source": [
    "df_message_size = create_graphs_df(res, t, 15, TableFields.MessageSize.value)\n",
    "fig = px.line(df_message_size, y=\"Value\", color='Type',\n",
    "    title=\"Změna velikost zprávy po 15 krocích\",\n",
    "    labels=dict(index=\"Čas\", Value=\"Velikost zprávy\")\n",
    ")\n",
    "fig.show()\n",
    "\n",
    "df_entropy = create_graphs_df(res, t, 15, TableFields.EntropySize.value)\n",
    "fig = px.line(df_entropy, y=\"Value\", color='Type',\n",
    "    title=\"Změna entropie zprávy po 15 krocích\",\n",
    "    labels=dict(index=\"Čas\", Value=\"Entropie zprávy\")\n",
    ")\n",
    "fig.show()"
   ]
  },
  {
   "cell_type": "markdown",
   "metadata": {},
   "source": [
    "## Proteins"
   ]
  },
  {
   "cell_type": "code",
   "execution_count": 56,
   "metadata": {},
   "outputs": [],
   "source": [
    "t = 'proteins'"
   ]
  },
  {
   "cell_type": "code",
   "execution_count": 57,
   "metadata": {},
   "outputs": [
    {
     "data": {
      "application/vnd.plotly.v1+json": {
       "config": {
        "plotlyServerURL": "https://plot.ly"
       },
       "data": [
        {
         "hovertemplate": "Type=Largest<br>Čas=%{x}<br>Velikost zprávy=%{y}<extra></extra>",
         "legendgroup": "Largest",
         "line": {
          "color": "#636efa",
          "dash": "solid"
         },
         "marker": {
          "symbol": "circle"
         },
         "mode": "lines",
         "name": "Largest",
         "orientation": "v",
         "showlegend": true,
         "type": "scatter",
         "x": [
          0,
          1,
          2,
          3,
          4,
          5,
          6,
          7,
          8,
          9,
          10,
          11,
          12,
          13,
          14
         ],
         "xaxis": "x",
         "y": [
          10000,
          9883,
          9805,
          9748,
          9696,
          9649,
          9601,
          9565,
          9526,
          9488,
          9455,
          9414,
          9386,
          9353,
          9324
         ],
         "yaxis": "y"
        },
        {
         "hovertemplate": "Type=Random<br>Čas=%{x}<br>Velikost zprávy=%{y}<extra></extra>",
         "legendgroup": "Random",
         "line": {
          "color": "#EF553B",
          "dash": "solid"
         },
         "marker": {
          "symbol": "circle"
         },
         "mode": "lines",
         "name": "Random",
         "orientation": "v",
         "showlegend": true,
         "type": "scatter",
         "x": [
          0,
          1,
          2,
          3,
          4,
          5,
          6,
          7,
          8,
          9,
          10,
          11,
          12,
          13,
          14
         ],
         "xaxis": "x",
         "y": [
          10000,
          9978,
          9953,
          9925,
          9853,
          9813,
          9812,
          9796,
          9791,
          9787,
          9748,
          9745,
          9731,
          9723,
          9719
         ],
         "yaxis": "y"
        }
       ],
       "layout": {
        "legend": {
         "title": {
          "text": "Type"
         },
         "tracegroupgap": 0
        },
        "template": {
         "data": {
          "bar": [
           {
            "error_x": {
             "color": "#2a3f5f"
            },
            "error_y": {
             "color": "#2a3f5f"
            },
            "marker": {
             "line": {
              "color": "#E5ECF6",
              "width": 0.5
             },
             "pattern": {
              "fillmode": "overlay",
              "size": 10,
              "solidity": 0.2
             }
            },
            "type": "bar"
           }
          ],
          "barpolar": [
           {
            "marker": {
             "line": {
              "color": "#E5ECF6",
              "width": 0.5
             },
             "pattern": {
              "fillmode": "overlay",
              "size": 10,
              "solidity": 0.2
             }
            },
            "type": "barpolar"
           }
          ],
          "carpet": [
           {
            "aaxis": {
             "endlinecolor": "#2a3f5f",
             "gridcolor": "white",
             "linecolor": "white",
             "minorgridcolor": "white",
             "startlinecolor": "#2a3f5f"
            },
            "baxis": {
             "endlinecolor": "#2a3f5f",
             "gridcolor": "white",
             "linecolor": "white",
             "minorgridcolor": "white",
             "startlinecolor": "#2a3f5f"
            },
            "type": "carpet"
           }
          ],
          "choropleth": [
           {
            "colorbar": {
             "outlinewidth": 0,
             "ticks": ""
            },
            "type": "choropleth"
           }
          ],
          "contour": [
           {
            "colorbar": {
             "outlinewidth": 0,
             "ticks": ""
            },
            "colorscale": [
             [
              0,
              "#0d0887"
             ],
             [
              0.1111111111111111,
              "#46039f"
             ],
             [
              0.2222222222222222,
              "#7201a8"
             ],
             [
              0.3333333333333333,
              "#9c179e"
             ],
             [
              0.4444444444444444,
              "#bd3786"
             ],
             [
              0.5555555555555556,
              "#d8576b"
             ],
             [
              0.6666666666666666,
              "#ed7953"
             ],
             [
              0.7777777777777778,
              "#fb9f3a"
             ],
             [
              0.8888888888888888,
              "#fdca26"
             ],
             [
              1,
              "#f0f921"
             ]
            ],
            "type": "contour"
           }
          ],
          "contourcarpet": [
           {
            "colorbar": {
             "outlinewidth": 0,
             "ticks": ""
            },
            "type": "contourcarpet"
           }
          ],
          "heatmap": [
           {
            "colorbar": {
             "outlinewidth": 0,
             "ticks": ""
            },
            "colorscale": [
             [
              0,
              "#0d0887"
             ],
             [
              0.1111111111111111,
              "#46039f"
             ],
             [
              0.2222222222222222,
              "#7201a8"
             ],
             [
              0.3333333333333333,
              "#9c179e"
             ],
             [
              0.4444444444444444,
              "#bd3786"
             ],
             [
              0.5555555555555556,
              "#d8576b"
             ],
             [
              0.6666666666666666,
              "#ed7953"
             ],
             [
              0.7777777777777778,
              "#fb9f3a"
             ],
             [
              0.8888888888888888,
              "#fdca26"
             ],
             [
              1,
              "#f0f921"
             ]
            ],
            "type": "heatmap"
           }
          ],
          "heatmapgl": [
           {
            "colorbar": {
             "outlinewidth": 0,
             "ticks": ""
            },
            "colorscale": [
             [
              0,
              "#0d0887"
             ],
             [
              0.1111111111111111,
              "#46039f"
             ],
             [
              0.2222222222222222,
              "#7201a8"
             ],
             [
              0.3333333333333333,
              "#9c179e"
             ],
             [
              0.4444444444444444,
              "#bd3786"
             ],
             [
              0.5555555555555556,
              "#d8576b"
             ],
             [
              0.6666666666666666,
              "#ed7953"
             ],
             [
              0.7777777777777778,
              "#fb9f3a"
             ],
             [
              0.8888888888888888,
              "#fdca26"
             ],
             [
              1,
              "#f0f921"
             ]
            ],
            "type": "heatmapgl"
           }
          ],
          "histogram": [
           {
            "marker": {
             "pattern": {
              "fillmode": "overlay",
              "size": 10,
              "solidity": 0.2
             }
            },
            "type": "histogram"
           }
          ],
          "histogram2d": [
           {
            "colorbar": {
             "outlinewidth": 0,
             "ticks": ""
            },
            "colorscale": [
             [
              0,
              "#0d0887"
             ],
             [
              0.1111111111111111,
              "#46039f"
             ],
             [
              0.2222222222222222,
              "#7201a8"
             ],
             [
              0.3333333333333333,
              "#9c179e"
             ],
             [
              0.4444444444444444,
              "#bd3786"
             ],
             [
              0.5555555555555556,
              "#d8576b"
             ],
             [
              0.6666666666666666,
              "#ed7953"
             ],
             [
              0.7777777777777778,
              "#fb9f3a"
             ],
             [
              0.8888888888888888,
              "#fdca26"
             ],
             [
              1,
              "#f0f921"
             ]
            ],
            "type": "histogram2d"
           }
          ],
          "histogram2dcontour": [
           {
            "colorbar": {
             "outlinewidth": 0,
             "ticks": ""
            },
            "colorscale": [
             [
              0,
              "#0d0887"
             ],
             [
              0.1111111111111111,
              "#46039f"
             ],
             [
              0.2222222222222222,
              "#7201a8"
             ],
             [
              0.3333333333333333,
              "#9c179e"
             ],
             [
              0.4444444444444444,
              "#bd3786"
             ],
             [
              0.5555555555555556,
              "#d8576b"
             ],
             [
              0.6666666666666666,
              "#ed7953"
             ],
             [
              0.7777777777777778,
              "#fb9f3a"
             ],
             [
              0.8888888888888888,
              "#fdca26"
             ],
             [
              1,
              "#f0f921"
             ]
            ],
            "type": "histogram2dcontour"
           }
          ],
          "mesh3d": [
           {
            "colorbar": {
             "outlinewidth": 0,
             "ticks": ""
            },
            "type": "mesh3d"
           }
          ],
          "parcoords": [
           {
            "line": {
             "colorbar": {
              "outlinewidth": 0,
              "ticks": ""
             }
            },
            "type": "parcoords"
           }
          ],
          "pie": [
           {
            "automargin": true,
            "type": "pie"
           }
          ],
          "scatter": [
           {
            "marker": {
             "colorbar": {
              "outlinewidth": 0,
              "ticks": ""
             }
            },
            "type": "scatter"
           }
          ],
          "scatter3d": [
           {
            "line": {
             "colorbar": {
              "outlinewidth": 0,
              "ticks": ""
             }
            },
            "marker": {
             "colorbar": {
              "outlinewidth": 0,
              "ticks": ""
             }
            },
            "type": "scatter3d"
           }
          ],
          "scattercarpet": [
           {
            "marker": {
             "colorbar": {
              "outlinewidth": 0,
              "ticks": ""
             }
            },
            "type": "scattercarpet"
           }
          ],
          "scattergeo": [
           {
            "marker": {
             "colorbar": {
              "outlinewidth": 0,
              "ticks": ""
             }
            },
            "type": "scattergeo"
           }
          ],
          "scattergl": [
           {
            "marker": {
             "colorbar": {
              "outlinewidth": 0,
              "ticks": ""
             }
            },
            "type": "scattergl"
           }
          ],
          "scattermapbox": [
           {
            "marker": {
             "colorbar": {
              "outlinewidth": 0,
              "ticks": ""
             }
            },
            "type": "scattermapbox"
           }
          ],
          "scatterpolar": [
           {
            "marker": {
             "colorbar": {
              "outlinewidth": 0,
              "ticks": ""
             }
            },
            "type": "scatterpolar"
           }
          ],
          "scatterpolargl": [
           {
            "marker": {
             "colorbar": {
              "outlinewidth": 0,
              "ticks": ""
             }
            },
            "type": "scatterpolargl"
           }
          ],
          "scatterternary": [
           {
            "marker": {
             "colorbar": {
              "outlinewidth": 0,
              "ticks": ""
             }
            },
            "type": "scatterternary"
           }
          ],
          "surface": [
           {
            "colorbar": {
             "outlinewidth": 0,
             "ticks": ""
            },
            "colorscale": [
             [
              0,
              "#0d0887"
             ],
             [
              0.1111111111111111,
              "#46039f"
             ],
             [
              0.2222222222222222,
              "#7201a8"
             ],
             [
              0.3333333333333333,
              "#9c179e"
             ],
             [
              0.4444444444444444,
              "#bd3786"
             ],
             [
              0.5555555555555556,
              "#d8576b"
             ],
             [
              0.6666666666666666,
              "#ed7953"
             ],
             [
              0.7777777777777778,
              "#fb9f3a"
             ],
             [
              0.8888888888888888,
              "#fdca26"
             ],
             [
              1,
              "#f0f921"
             ]
            ],
            "type": "surface"
           }
          ],
          "table": [
           {
            "cells": {
             "fill": {
              "color": "#EBF0F8"
             },
             "line": {
              "color": "white"
             }
            },
            "header": {
             "fill": {
              "color": "#C8D4E3"
             },
             "line": {
              "color": "white"
             }
            },
            "type": "table"
           }
          ]
         },
         "layout": {
          "annotationdefaults": {
           "arrowcolor": "#2a3f5f",
           "arrowhead": 0,
           "arrowwidth": 1
          },
          "autotypenumbers": "strict",
          "coloraxis": {
           "colorbar": {
            "outlinewidth": 0,
            "ticks": ""
           }
          },
          "colorscale": {
           "diverging": [
            [
             0,
             "#8e0152"
            ],
            [
             0.1,
             "#c51b7d"
            ],
            [
             0.2,
             "#de77ae"
            ],
            [
             0.3,
             "#f1b6da"
            ],
            [
             0.4,
             "#fde0ef"
            ],
            [
             0.5,
             "#f7f7f7"
            ],
            [
             0.6,
             "#e6f5d0"
            ],
            [
             0.7,
             "#b8e186"
            ],
            [
             0.8,
             "#7fbc41"
            ],
            [
             0.9,
             "#4d9221"
            ],
            [
             1,
             "#276419"
            ]
           ],
           "sequential": [
            [
             0,
             "#0d0887"
            ],
            [
             0.1111111111111111,
             "#46039f"
            ],
            [
             0.2222222222222222,
             "#7201a8"
            ],
            [
             0.3333333333333333,
             "#9c179e"
            ],
            [
             0.4444444444444444,
             "#bd3786"
            ],
            [
             0.5555555555555556,
             "#d8576b"
            ],
            [
             0.6666666666666666,
             "#ed7953"
            ],
            [
             0.7777777777777778,
             "#fb9f3a"
            ],
            [
             0.8888888888888888,
             "#fdca26"
            ],
            [
             1,
             "#f0f921"
            ]
           ],
           "sequentialminus": [
            [
             0,
             "#0d0887"
            ],
            [
             0.1111111111111111,
             "#46039f"
            ],
            [
             0.2222222222222222,
             "#7201a8"
            ],
            [
             0.3333333333333333,
             "#9c179e"
            ],
            [
             0.4444444444444444,
             "#bd3786"
            ],
            [
             0.5555555555555556,
             "#d8576b"
            ],
            [
             0.6666666666666666,
             "#ed7953"
            ],
            [
             0.7777777777777778,
             "#fb9f3a"
            ],
            [
             0.8888888888888888,
             "#fdca26"
            ],
            [
             1,
             "#f0f921"
            ]
           ]
          },
          "colorway": [
           "#636efa",
           "#EF553B",
           "#00cc96",
           "#ab63fa",
           "#FFA15A",
           "#19d3f3",
           "#FF6692",
           "#B6E880",
           "#FF97FF",
           "#FECB52"
          ],
          "font": {
           "color": "#2a3f5f"
          },
          "geo": {
           "bgcolor": "white",
           "lakecolor": "white",
           "landcolor": "#E5ECF6",
           "showlakes": true,
           "showland": true,
           "subunitcolor": "white"
          },
          "hoverlabel": {
           "align": "left"
          },
          "hovermode": "closest",
          "mapbox": {
           "style": "light"
          },
          "paper_bgcolor": "white",
          "plot_bgcolor": "#E5ECF6",
          "polar": {
           "angularaxis": {
            "gridcolor": "white",
            "linecolor": "white",
            "ticks": ""
           },
           "bgcolor": "#E5ECF6",
           "radialaxis": {
            "gridcolor": "white",
            "linecolor": "white",
            "ticks": ""
           }
          },
          "scene": {
           "xaxis": {
            "backgroundcolor": "#E5ECF6",
            "gridcolor": "white",
            "gridwidth": 2,
            "linecolor": "white",
            "showbackground": true,
            "ticks": "",
            "zerolinecolor": "white"
           },
           "yaxis": {
            "backgroundcolor": "#E5ECF6",
            "gridcolor": "white",
            "gridwidth": 2,
            "linecolor": "white",
            "showbackground": true,
            "ticks": "",
            "zerolinecolor": "white"
           },
           "zaxis": {
            "backgroundcolor": "#E5ECF6",
            "gridcolor": "white",
            "gridwidth": 2,
            "linecolor": "white",
            "showbackground": true,
            "ticks": "",
            "zerolinecolor": "white"
           }
          },
          "shapedefaults": {
           "line": {
            "color": "#2a3f5f"
           }
          },
          "ternary": {
           "aaxis": {
            "gridcolor": "white",
            "linecolor": "white",
            "ticks": ""
           },
           "baxis": {
            "gridcolor": "white",
            "linecolor": "white",
            "ticks": ""
           },
           "bgcolor": "#E5ECF6",
           "caxis": {
            "gridcolor": "white",
            "linecolor": "white",
            "ticks": ""
           }
          },
          "title": {
           "x": 0.05
          },
          "xaxis": {
           "automargin": true,
           "gridcolor": "white",
           "linecolor": "white",
           "ticks": "",
           "title": {
            "standoff": 15
           },
           "zerolinecolor": "white",
           "zerolinewidth": 2
          },
          "yaxis": {
           "automargin": true,
           "gridcolor": "white",
           "linecolor": "white",
           "ticks": "",
           "title": {
            "standoff": 15
           },
           "zerolinecolor": "white",
           "zerolinewidth": 2
          }
         }
        },
        "title": {
         "text": "Změna velikost zprávy po 15 krocích"
        },
        "xaxis": {
         "anchor": "y",
         "domain": [
          0,
          1
         ],
         "title": {
          "text": "Čas"
         }
        },
        "yaxis": {
         "anchor": "x",
         "domain": [
          0,
          1
         ],
         "title": {
          "text": "Velikost zprávy"
         }
        }
       }
      }
     },
     "metadata": {},
     "output_type": "display_data"
    },
    {
     "data": {
      "application/vnd.plotly.v1+json": {
       "config": {
        "plotlyServerURL": "https://plot.ly"
       },
       "data": [
        {
         "hovertemplate": "Type=Largest<br>Čas=%{x}<br>Entropie zprávy=%{y}<extra></extra>",
         "legendgroup": "Largest",
         "line": {
          "color": "#636efa",
          "dash": "solid"
         },
         "marker": {
          "symbol": "circle"
         },
         "mode": "lines",
         "name": "Largest",
         "orientation": "v",
         "showlegend": true,
         "type": "scatter",
         "x": [
          0,
          1,
          2,
          3,
          4,
          5,
          6,
          7,
          8,
          9,
          10,
          11,
          12,
          13,
          14
         ],
         "xaxis": "x",
         "y": [
          42029.704001999264,
          42171.19677840589,
          42259.84163701344,
          42335.260867834826,
          42405.04107975891,
          42468.3885117231,
          42528.55712163145,
          42584.65926980768,
          42638.62164876864,
          42690.17281796949,
          42739.35971763894,
          42786.1705430999,
          42832.25080605304,
          42876.52480936574,
          42920.14661230744
         ],
         "yaxis": "y"
        },
        {
         "hovertemplate": "Type=Random<br>Čas=%{x}<br>Entropie zprávy=%{y}<extra></extra>",
         "legendgroup": "Random",
         "line": {
          "color": "#EF553B",
          "dash": "solid"
         },
         "marker": {
          "symbol": "circle"
         },
         "mode": "lines",
         "name": "Random",
         "orientation": "v",
         "showlegend": true,
         "type": "scatter",
         "x": [
          0,
          1,
          2,
          3,
          4,
          5,
          6,
          7,
          8,
          9,
          10,
          11,
          12,
          13,
          14
         ],
         "xaxis": "x",
         "y": [
          41953.284476533474,
          41980.514812564536,
          42015.66244951416,
          42049.38420054942,
          42143.26700477493,
          42197.410854220085,
          42199.32215917273,
          42217.146645623485,
          42228.86050314315,
          42230.6163242737,
          42277.5813621626,
          42279.7188830938,
          42296.73809608744,
          42306.38893034933,
          42314.418041096345
         ],
         "yaxis": "y"
        }
       ],
       "layout": {
        "legend": {
         "title": {
          "text": "Type"
         },
         "tracegroupgap": 0
        },
        "template": {
         "data": {
          "bar": [
           {
            "error_x": {
             "color": "#2a3f5f"
            },
            "error_y": {
             "color": "#2a3f5f"
            },
            "marker": {
             "line": {
              "color": "#E5ECF6",
              "width": 0.5
             },
             "pattern": {
              "fillmode": "overlay",
              "size": 10,
              "solidity": 0.2
             }
            },
            "type": "bar"
           }
          ],
          "barpolar": [
           {
            "marker": {
             "line": {
              "color": "#E5ECF6",
              "width": 0.5
             },
             "pattern": {
              "fillmode": "overlay",
              "size": 10,
              "solidity": 0.2
             }
            },
            "type": "barpolar"
           }
          ],
          "carpet": [
           {
            "aaxis": {
             "endlinecolor": "#2a3f5f",
             "gridcolor": "white",
             "linecolor": "white",
             "minorgridcolor": "white",
             "startlinecolor": "#2a3f5f"
            },
            "baxis": {
             "endlinecolor": "#2a3f5f",
             "gridcolor": "white",
             "linecolor": "white",
             "minorgridcolor": "white",
             "startlinecolor": "#2a3f5f"
            },
            "type": "carpet"
           }
          ],
          "choropleth": [
           {
            "colorbar": {
             "outlinewidth": 0,
             "ticks": ""
            },
            "type": "choropleth"
           }
          ],
          "contour": [
           {
            "colorbar": {
             "outlinewidth": 0,
             "ticks": ""
            },
            "colorscale": [
             [
              0,
              "#0d0887"
             ],
             [
              0.1111111111111111,
              "#46039f"
             ],
             [
              0.2222222222222222,
              "#7201a8"
             ],
             [
              0.3333333333333333,
              "#9c179e"
             ],
             [
              0.4444444444444444,
              "#bd3786"
             ],
             [
              0.5555555555555556,
              "#d8576b"
             ],
             [
              0.6666666666666666,
              "#ed7953"
             ],
             [
              0.7777777777777778,
              "#fb9f3a"
             ],
             [
              0.8888888888888888,
              "#fdca26"
             ],
             [
              1,
              "#f0f921"
             ]
            ],
            "type": "contour"
           }
          ],
          "contourcarpet": [
           {
            "colorbar": {
             "outlinewidth": 0,
             "ticks": ""
            },
            "type": "contourcarpet"
           }
          ],
          "heatmap": [
           {
            "colorbar": {
             "outlinewidth": 0,
             "ticks": ""
            },
            "colorscale": [
             [
              0,
              "#0d0887"
             ],
             [
              0.1111111111111111,
              "#46039f"
             ],
             [
              0.2222222222222222,
              "#7201a8"
             ],
             [
              0.3333333333333333,
              "#9c179e"
             ],
             [
              0.4444444444444444,
              "#bd3786"
             ],
             [
              0.5555555555555556,
              "#d8576b"
             ],
             [
              0.6666666666666666,
              "#ed7953"
             ],
             [
              0.7777777777777778,
              "#fb9f3a"
             ],
             [
              0.8888888888888888,
              "#fdca26"
             ],
             [
              1,
              "#f0f921"
             ]
            ],
            "type": "heatmap"
           }
          ],
          "heatmapgl": [
           {
            "colorbar": {
             "outlinewidth": 0,
             "ticks": ""
            },
            "colorscale": [
             [
              0,
              "#0d0887"
             ],
             [
              0.1111111111111111,
              "#46039f"
             ],
             [
              0.2222222222222222,
              "#7201a8"
             ],
             [
              0.3333333333333333,
              "#9c179e"
             ],
             [
              0.4444444444444444,
              "#bd3786"
             ],
             [
              0.5555555555555556,
              "#d8576b"
             ],
             [
              0.6666666666666666,
              "#ed7953"
             ],
             [
              0.7777777777777778,
              "#fb9f3a"
             ],
             [
              0.8888888888888888,
              "#fdca26"
             ],
             [
              1,
              "#f0f921"
             ]
            ],
            "type": "heatmapgl"
           }
          ],
          "histogram": [
           {
            "marker": {
             "pattern": {
              "fillmode": "overlay",
              "size": 10,
              "solidity": 0.2
             }
            },
            "type": "histogram"
           }
          ],
          "histogram2d": [
           {
            "colorbar": {
             "outlinewidth": 0,
             "ticks": ""
            },
            "colorscale": [
             [
              0,
              "#0d0887"
             ],
             [
              0.1111111111111111,
              "#46039f"
             ],
             [
              0.2222222222222222,
              "#7201a8"
             ],
             [
              0.3333333333333333,
              "#9c179e"
             ],
             [
              0.4444444444444444,
              "#bd3786"
             ],
             [
              0.5555555555555556,
              "#d8576b"
             ],
             [
              0.6666666666666666,
              "#ed7953"
             ],
             [
              0.7777777777777778,
              "#fb9f3a"
             ],
             [
              0.8888888888888888,
              "#fdca26"
             ],
             [
              1,
              "#f0f921"
             ]
            ],
            "type": "histogram2d"
           }
          ],
          "histogram2dcontour": [
           {
            "colorbar": {
             "outlinewidth": 0,
             "ticks": ""
            },
            "colorscale": [
             [
              0,
              "#0d0887"
             ],
             [
              0.1111111111111111,
              "#46039f"
             ],
             [
              0.2222222222222222,
              "#7201a8"
             ],
             [
              0.3333333333333333,
              "#9c179e"
             ],
             [
              0.4444444444444444,
              "#bd3786"
             ],
             [
              0.5555555555555556,
              "#d8576b"
             ],
             [
              0.6666666666666666,
              "#ed7953"
             ],
             [
              0.7777777777777778,
              "#fb9f3a"
             ],
             [
              0.8888888888888888,
              "#fdca26"
             ],
             [
              1,
              "#f0f921"
             ]
            ],
            "type": "histogram2dcontour"
           }
          ],
          "mesh3d": [
           {
            "colorbar": {
             "outlinewidth": 0,
             "ticks": ""
            },
            "type": "mesh3d"
           }
          ],
          "parcoords": [
           {
            "line": {
             "colorbar": {
              "outlinewidth": 0,
              "ticks": ""
             }
            },
            "type": "parcoords"
           }
          ],
          "pie": [
           {
            "automargin": true,
            "type": "pie"
           }
          ],
          "scatter": [
           {
            "marker": {
             "colorbar": {
              "outlinewidth": 0,
              "ticks": ""
             }
            },
            "type": "scatter"
           }
          ],
          "scatter3d": [
           {
            "line": {
             "colorbar": {
              "outlinewidth": 0,
              "ticks": ""
             }
            },
            "marker": {
             "colorbar": {
              "outlinewidth": 0,
              "ticks": ""
             }
            },
            "type": "scatter3d"
           }
          ],
          "scattercarpet": [
           {
            "marker": {
             "colorbar": {
              "outlinewidth": 0,
              "ticks": ""
             }
            },
            "type": "scattercarpet"
           }
          ],
          "scattergeo": [
           {
            "marker": {
             "colorbar": {
              "outlinewidth": 0,
              "ticks": ""
             }
            },
            "type": "scattergeo"
           }
          ],
          "scattergl": [
           {
            "marker": {
             "colorbar": {
              "outlinewidth": 0,
              "ticks": ""
             }
            },
            "type": "scattergl"
           }
          ],
          "scattermapbox": [
           {
            "marker": {
             "colorbar": {
              "outlinewidth": 0,
              "ticks": ""
             }
            },
            "type": "scattermapbox"
           }
          ],
          "scatterpolar": [
           {
            "marker": {
             "colorbar": {
              "outlinewidth": 0,
              "ticks": ""
             }
            },
            "type": "scatterpolar"
           }
          ],
          "scatterpolargl": [
           {
            "marker": {
             "colorbar": {
              "outlinewidth": 0,
              "ticks": ""
             }
            },
            "type": "scatterpolargl"
           }
          ],
          "scatterternary": [
           {
            "marker": {
             "colorbar": {
              "outlinewidth": 0,
              "ticks": ""
             }
            },
            "type": "scatterternary"
           }
          ],
          "surface": [
           {
            "colorbar": {
             "outlinewidth": 0,
             "ticks": ""
            },
            "colorscale": [
             [
              0,
              "#0d0887"
             ],
             [
              0.1111111111111111,
              "#46039f"
             ],
             [
              0.2222222222222222,
              "#7201a8"
             ],
             [
              0.3333333333333333,
              "#9c179e"
             ],
             [
              0.4444444444444444,
              "#bd3786"
             ],
             [
              0.5555555555555556,
              "#d8576b"
             ],
             [
              0.6666666666666666,
              "#ed7953"
             ],
             [
              0.7777777777777778,
              "#fb9f3a"
             ],
             [
              0.8888888888888888,
              "#fdca26"
             ],
             [
              1,
              "#f0f921"
             ]
            ],
            "type": "surface"
           }
          ],
          "table": [
           {
            "cells": {
             "fill": {
              "color": "#EBF0F8"
             },
             "line": {
              "color": "white"
             }
            },
            "header": {
             "fill": {
              "color": "#C8D4E3"
             },
             "line": {
              "color": "white"
             }
            },
            "type": "table"
           }
          ]
         },
         "layout": {
          "annotationdefaults": {
           "arrowcolor": "#2a3f5f",
           "arrowhead": 0,
           "arrowwidth": 1
          },
          "autotypenumbers": "strict",
          "coloraxis": {
           "colorbar": {
            "outlinewidth": 0,
            "ticks": ""
           }
          },
          "colorscale": {
           "diverging": [
            [
             0,
             "#8e0152"
            ],
            [
             0.1,
             "#c51b7d"
            ],
            [
             0.2,
             "#de77ae"
            ],
            [
             0.3,
             "#f1b6da"
            ],
            [
             0.4,
             "#fde0ef"
            ],
            [
             0.5,
             "#f7f7f7"
            ],
            [
             0.6,
             "#e6f5d0"
            ],
            [
             0.7,
             "#b8e186"
            ],
            [
             0.8,
             "#7fbc41"
            ],
            [
             0.9,
             "#4d9221"
            ],
            [
             1,
             "#276419"
            ]
           ],
           "sequential": [
            [
             0,
             "#0d0887"
            ],
            [
             0.1111111111111111,
             "#46039f"
            ],
            [
             0.2222222222222222,
             "#7201a8"
            ],
            [
             0.3333333333333333,
             "#9c179e"
            ],
            [
             0.4444444444444444,
             "#bd3786"
            ],
            [
             0.5555555555555556,
             "#d8576b"
            ],
            [
             0.6666666666666666,
             "#ed7953"
            ],
            [
             0.7777777777777778,
             "#fb9f3a"
            ],
            [
             0.8888888888888888,
             "#fdca26"
            ],
            [
             1,
             "#f0f921"
            ]
           ],
           "sequentialminus": [
            [
             0,
             "#0d0887"
            ],
            [
             0.1111111111111111,
             "#46039f"
            ],
            [
             0.2222222222222222,
             "#7201a8"
            ],
            [
             0.3333333333333333,
             "#9c179e"
            ],
            [
             0.4444444444444444,
             "#bd3786"
            ],
            [
             0.5555555555555556,
             "#d8576b"
            ],
            [
             0.6666666666666666,
             "#ed7953"
            ],
            [
             0.7777777777777778,
             "#fb9f3a"
            ],
            [
             0.8888888888888888,
             "#fdca26"
            ],
            [
             1,
             "#f0f921"
            ]
           ]
          },
          "colorway": [
           "#636efa",
           "#EF553B",
           "#00cc96",
           "#ab63fa",
           "#FFA15A",
           "#19d3f3",
           "#FF6692",
           "#B6E880",
           "#FF97FF",
           "#FECB52"
          ],
          "font": {
           "color": "#2a3f5f"
          },
          "geo": {
           "bgcolor": "white",
           "lakecolor": "white",
           "landcolor": "#E5ECF6",
           "showlakes": true,
           "showland": true,
           "subunitcolor": "white"
          },
          "hoverlabel": {
           "align": "left"
          },
          "hovermode": "closest",
          "mapbox": {
           "style": "light"
          },
          "paper_bgcolor": "white",
          "plot_bgcolor": "#E5ECF6",
          "polar": {
           "angularaxis": {
            "gridcolor": "white",
            "linecolor": "white",
            "ticks": ""
           },
           "bgcolor": "#E5ECF6",
           "radialaxis": {
            "gridcolor": "white",
            "linecolor": "white",
            "ticks": ""
           }
          },
          "scene": {
           "xaxis": {
            "backgroundcolor": "#E5ECF6",
            "gridcolor": "white",
            "gridwidth": 2,
            "linecolor": "white",
            "showbackground": true,
            "ticks": "",
            "zerolinecolor": "white"
           },
           "yaxis": {
            "backgroundcolor": "#E5ECF6",
            "gridcolor": "white",
            "gridwidth": 2,
            "linecolor": "white",
            "showbackground": true,
            "ticks": "",
            "zerolinecolor": "white"
           },
           "zaxis": {
            "backgroundcolor": "#E5ECF6",
            "gridcolor": "white",
            "gridwidth": 2,
            "linecolor": "white",
            "showbackground": true,
            "ticks": "",
            "zerolinecolor": "white"
           }
          },
          "shapedefaults": {
           "line": {
            "color": "#2a3f5f"
           }
          },
          "ternary": {
           "aaxis": {
            "gridcolor": "white",
            "linecolor": "white",
            "ticks": ""
           },
           "baxis": {
            "gridcolor": "white",
            "linecolor": "white",
            "ticks": ""
           },
           "bgcolor": "#E5ECF6",
           "caxis": {
            "gridcolor": "white",
            "linecolor": "white",
            "ticks": ""
           }
          },
          "title": {
           "x": 0.05
          },
          "xaxis": {
           "automargin": true,
           "gridcolor": "white",
           "linecolor": "white",
           "ticks": "",
           "title": {
            "standoff": 15
           },
           "zerolinecolor": "white",
           "zerolinewidth": 2
          },
          "yaxis": {
           "automargin": true,
           "gridcolor": "white",
           "linecolor": "white",
           "ticks": "",
           "title": {
            "standoff": 15
           },
           "zerolinecolor": "white",
           "zerolinewidth": 2
          }
         }
        },
        "title": {
         "text": "Změna entropie zprávy po 15 krocích"
        },
        "xaxis": {
         "anchor": "y",
         "domain": [
          0,
          1
         ],
         "title": {
          "text": "Čas"
         }
        },
        "yaxis": {
         "anchor": "x",
         "domain": [
          0,
          1
         ],
         "title": {
          "text": "Entropie zprávy"
         }
        }
       }
      }
     },
     "metadata": {},
     "output_type": "display_data"
    }
   ],
   "source": [
    "df_message_size = create_graphs_df(res, t, 15, TableFields.MessageSize.value)\n",
    "fig = px.line(df_message_size, y=\"Value\", color='Type',\n",
    "    title=\"Změna velikost zprávy po 15 krocích\",\n",
    "    labels=dict(index=\"Čas\", Value=\"Velikost zprávy\")\n",
    ")\n",
    "fig.show()\n",
    "\n",
    "df_entropy = create_graphs_df(res, t, 15, TableFields.EntropySize.value)\n",
    "fig = px.line(df_entropy, y=\"Value\", color='Type',\n",
    "    title=\"Změna entropie zprávy po 15 krocích\",\n",
    "    labels=dict(index=\"Čas\", Value=\"Entropie zprávy\")\n",
    ")\n",
    "fig.show()"
   ]
  },
  {
   "cell_type": "markdown",
   "metadata": {},
   "source": [
    "## Sources"
   ]
  },
  {
   "cell_type": "code",
   "execution_count": 58,
   "metadata": {},
   "outputs": [],
   "source": [
    "t = 'sources'"
   ]
  },
  {
   "cell_type": "code",
   "execution_count": 59,
   "metadata": {},
   "outputs": [
    {
     "data": {
      "application/vnd.plotly.v1+json": {
       "config": {
        "plotlyServerURL": "https://plot.ly"
       },
       "data": [
        {
         "hovertemplate": "Type=Largest<br>Čas=%{x}<br>Velikost zprávy=%{y}<extra></extra>",
         "legendgroup": "Largest",
         "line": {
          "color": "#636efa",
          "dash": "solid"
         },
         "marker": {
          "symbol": "circle"
         },
         "mode": "lines",
         "name": "Largest",
         "orientation": "v",
         "showlegend": true,
         "type": "scatter",
         "x": [
          0,
          1,
          2,
          3,
          4,
          5,
          6,
          7,
          8,
          9,
          10,
          11,
          12,
          13,
          14
         ],
         "xaxis": "x",
         "y": [
          10000,
          9856,
          9816,
          9773,
          9737,
          9703,
          9667,
          9637,
          9613,
          9585,
          9560,
          9545,
          9524,
          9498,
          9482
         ],
         "yaxis": "y"
        },
        {
         "hovertemplate": "Type=Random<br>Čas=%{x}<br>Velikost zprávy=%{y}<extra></extra>",
         "legendgroup": "Random",
         "line": {
          "color": "#EF553B",
          "dash": "solid"
         },
         "marker": {
          "symbol": "circle"
         },
         "mode": "lines",
         "name": "Random",
         "orientation": "v",
         "showlegend": true,
         "type": "scatter",
         "x": [
          0,
          1,
          2,
          3,
          4,
          5,
          6,
          7,
          8,
          9,
          10,
          11,
          12,
          13,
          14
         ],
         "xaxis": "x",
         "y": [
          10000,
          9998,
          9997,
          9996,
          9985,
          9980,
          9977,
          9976,
          9971,
          9969,
          9967,
          9965,
          9936,
          9934,
          9933
         ],
         "yaxis": "y"
        }
       ],
       "layout": {
        "legend": {
         "title": {
          "text": "Type"
         },
         "tracegroupgap": 0
        },
        "template": {
         "data": {
          "bar": [
           {
            "error_x": {
             "color": "#2a3f5f"
            },
            "error_y": {
             "color": "#2a3f5f"
            },
            "marker": {
             "line": {
              "color": "#E5ECF6",
              "width": 0.5
             },
             "pattern": {
              "fillmode": "overlay",
              "size": 10,
              "solidity": 0.2
             }
            },
            "type": "bar"
           }
          ],
          "barpolar": [
           {
            "marker": {
             "line": {
              "color": "#E5ECF6",
              "width": 0.5
             },
             "pattern": {
              "fillmode": "overlay",
              "size": 10,
              "solidity": 0.2
             }
            },
            "type": "barpolar"
           }
          ],
          "carpet": [
           {
            "aaxis": {
             "endlinecolor": "#2a3f5f",
             "gridcolor": "white",
             "linecolor": "white",
             "minorgridcolor": "white",
             "startlinecolor": "#2a3f5f"
            },
            "baxis": {
             "endlinecolor": "#2a3f5f",
             "gridcolor": "white",
             "linecolor": "white",
             "minorgridcolor": "white",
             "startlinecolor": "#2a3f5f"
            },
            "type": "carpet"
           }
          ],
          "choropleth": [
           {
            "colorbar": {
             "outlinewidth": 0,
             "ticks": ""
            },
            "type": "choropleth"
           }
          ],
          "contour": [
           {
            "colorbar": {
             "outlinewidth": 0,
             "ticks": ""
            },
            "colorscale": [
             [
              0,
              "#0d0887"
             ],
             [
              0.1111111111111111,
              "#46039f"
             ],
             [
              0.2222222222222222,
              "#7201a8"
             ],
             [
              0.3333333333333333,
              "#9c179e"
             ],
             [
              0.4444444444444444,
              "#bd3786"
             ],
             [
              0.5555555555555556,
              "#d8576b"
             ],
             [
              0.6666666666666666,
              "#ed7953"
             ],
             [
              0.7777777777777778,
              "#fb9f3a"
             ],
             [
              0.8888888888888888,
              "#fdca26"
             ],
             [
              1,
              "#f0f921"
             ]
            ],
            "type": "contour"
           }
          ],
          "contourcarpet": [
           {
            "colorbar": {
             "outlinewidth": 0,
             "ticks": ""
            },
            "type": "contourcarpet"
           }
          ],
          "heatmap": [
           {
            "colorbar": {
             "outlinewidth": 0,
             "ticks": ""
            },
            "colorscale": [
             [
              0,
              "#0d0887"
             ],
             [
              0.1111111111111111,
              "#46039f"
             ],
             [
              0.2222222222222222,
              "#7201a8"
             ],
             [
              0.3333333333333333,
              "#9c179e"
             ],
             [
              0.4444444444444444,
              "#bd3786"
             ],
             [
              0.5555555555555556,
              "#d8576b"
             ],
             [
              0.6666666666666666,
              "#ed7953"
             ],
             [
              0.7777777777777778,
              "#fb9f3a"
             ],
             [
              0.8888888888888888,
              "#fdca26"
             ],
             [
              1,
              "#f0f921"
             ]
            ],
            "type": "heatmap"
           }
          ],
          "heatmapgl": [
           {
            "colorbar": {
             "outlinewidth": 0,
             "ticks": ""
            },
            "colorscale": [
             [
              0,
              "#0d0887"
             ],
             [
              0.1111111111111111,
              "#46039f"
             ],
             [
              0.2222222222222222,
              "#7201a8"
             ],
             [
              0.3333333333333333,
              "#9c179e"
             ],
             [
              0.4444444444444444,
              "#bd3786"
             ],
             [
              0.5555555555555556,
              "#d8576b"
             ],
             [
              0.6666666666666666,
              "#ed7953"
             ],
             [
              0.7777777777777778,
              "#fb9f3a"
             ],
             [
              0.8888888888888888,
              "#fdca26"
             ],
             [
              1,
              "#f0f921"
             ]
            ],
            "type": "heatmapgl"
           }
          ],
          "histogram": [
           {
            "marker": {
             "pattern": {
              "fillmode": "overlay",
              "size": 10,
              "solidity": 0.2
             }
            },
            "type": "histogram"
           }
          ],
          "histogram2d": [
           {
            "colorbar": {
             "outlinewidth": 0,
             "ticks": ""
            },
            "colorscale": [
             [
              0,
              "#0d0887"
             ],
             [
              0.1111111111111111,
              "#46039f"
             ],
             [
              0.2222222222222222,
              "#7201a8"
             ],
             [
              0.3333333333333333,
              "#9c179e"
             ],
             [
              0.4444444444444444,
              "#bd3786"
             ],
             [
              0.5555555555555556,
              "#d8576b"
             ],
             [
              0.6666666666666666,
              "#ed7953"
             ],
             [
              0.7777777777777778,
              "#fb9f3a"
             ],
             [
              0.8888888888888888,
              "#fdca26"
             ],
             [
              1,
              "#f0f921"
             ]
            ],
            "type": "histogram2d"
           }
          ],
          "histogram2dcontour": [
           {
            "colorbar": {
             "outlinewidth": 0,
             "ticks": ""
            },
            "colorscale": [
             [
              0,
              "#0d0887"
             ],
             [
              0.1111111111111111,
              "#46039f"
             ],
             [
              0.2222222222222222,
              "#7201a8"
             ],
             [
              0.3333333333333333,
              "#9c179e"
             ],
             [
              0.4444444444444444,
              "#bd3786"
             ],
             [
              0.5555555555555556,
              "#d8576b"
             ],
             [
              0.6666666666666666,
              "#ed7953"
             ],
             [
              0.7777777777777778,
              "#fb9f3a"
             ],
             [
              0.8888888888888888,
              "#fdca26"
             ],
             [
              1,
              "#f0f921"
             ]
            ],
            "type": "histogram2dcontour"
           }
          ],
          "mesh3d": [
           {
            "colorbar": {
             "outlinewidth": 0,
             "ticks": ""
            },
            "type": "mesh3d"
           }
          ],
          "parcoords": [
           {
            "line": {
             "colorbar": {
              "outlinewidth": 0,
              "ticks": ""
             }
            },
            "type": "parcoords"
           }
          ],
          "pie": [
           {
            "automargin": true,
            "type": "pie"
           }
          ],
          "scatter": [
           {
            "marker": {
             "colorbar": {
              "outlinewidth": 0,
              "ticks": ""
             }
            },
            "type": "scatter"
           }
          ],
          "scatter3d": [
           {
            "line": {
             "colorbar": {
              "outlinewidth": 0,
              "ticks": ""
             }
            },
            "marker": {
             "colorbar": {
              "outlinewidth": 0,
              "ticks": ""
             }
            },
            "type": "scatter3d"
           }
          ],
          "scattercarpet": [
           {
            "marker": {
             "colorbar": {
              "outlinewidth": 0,
              "ticks": ""
             }
            },
            "type": "scattercarpet"
           }
          ],
          "scattergeo": [
           {
            "marker": {
             "colorbar": {
              "outlinewidth": 0,
              "ticks": ""
             }
            },
            "type": "scattergeo"
           }
          ],
          "scattergl": [
           {
            "marker": {
             "colorbar": {
              "outlinewidth": 0,
              "ticks": ""
             }
            },
            "type": "scattergl"
           }
          ],
          "scattermapbox": [
           {
            "marker": {
             "colorbar": {
              "outlinewidth": 0,
              "ticks": ""
             }
            },
            "type": "scattermapbox"
           }
          ],
          "scatterpolar": [
           {
            "marker": {
             "colorbar": {
              "outlinewidth": 0,
              "ticks": ""
             }
            },
            "type": "scatterpolar"
           }
          ],
          "scatterpolargl": [
           {
            "marker": {
             "colorbar": {
              "outlinewidth": 0,
              "ticks": ""
             }
            },
            "type": "scatterpolargl"
           }
          ],
          "scatterternary": [
           {
            "marker": {
             "colorbar": {
              "outlinewidth": 0,
              "ticks": ""
             }
            },
            "type": "scatterternary"
           }
          ],
          "surface": [
           {
            "colorbar": {
             "outlinewidth": 0,
             "ticks": ""
            },
            "colorscale": [
             [
              0,
              "#0d0887"
             ],
             [
              0.1111111111111111,
              "#46039f"
             ],
             [
              0.2222222222222222,
              "#7201a8"
             ],
             [
              0.3333333333333333,
              "#9c179e"
             ],
             [
              0.4444444444444444,
              "#bd3786"
             ],
             [
              0.5555555555555556,
              "#d8576b"
             ],
             [
              0.6666666666666666,
              "#ed7953"
             ],
             [
              0.7777777777777778,
              "#fb9f3a"
             ],
             [
              0.8888888888888888,
              "#fdca26"
             ],
             [
              1,
              "#f0f921"
             ]
            ],
            "type": "surface"
           }
          ],
          "table": [
           {
            "cells": {
             "fill": {
              "color": "#EBF0F8"
             },
             "line": {
              "color": "white"
             }
            },
            "header": {
             "fill": {
              "color": "#C8D4E3"
             },
             "line": {
              "color": "white"
             }
            },
            "type": "table"
           }
          ]
         },
         "layout": {
          "annotationdefaults": {
           "arrowcolor": "#2a3f5f",
           "arrowhead": 0,
           "arrowwidth": 1
          },
          "autotypenumbers": "strict",
          "coloraxis": {
           "colorbar": {
            "outlinewidth": 0,
            "ticks": ""
           }
          },
          "colorscale": {
           "diverging": [
            [
             0,
             "#8e0152"
            ],
            [
             0.1,
             "#c51b7d"
            ],
            [
             0.2,
             "#de77ae"
            ],
            [
             0.3,
             "#f1b6da"
            ],
            [
             0.4,
             "#fde0ef"
            ],
            [
             0.5,
             "#f7f7f7"
            ],
            [
             0.6,
             "#e6f5d0"
            ],
            [
             0.7,
             "#b8e186"
            ],
            [
             0.8,
             "#7fbc41"
            ],
            [
             0.9,
             "#4d9221"
            ],
            [
             1,
             "#276419"
            ]
           ],
           "sequential": [
            [
             0,
             "#0d0887"
            ],
            [
             0.1111111111111111,
             "#46039f"
            ],
            [
             0.2222222222222222,
             "#7201a8"
            ],
            [
             0.3333333333333333,
             "#9c179e"
            ],
            [
             0.4444444444444444,
             "#bd3786"
            ],
            [
             0.5555555555555556,
             "#d8576b"
            ],
            [
             0.6666666666666666,
             "#ed7953"
            ],
            [
             0.7777777777777778,
             "#fb9f3a"
            ],
            [
             0.8888888888888888,
             "#fdca26"
            ],
            [
             1,
             "#f0f921"
            ]
           ],
           "sequentialminus": [
            [
             0,
             "#0d0887"
            ],
            [
             0.1111111111111111,
             "#46039f"
            ],
            [
             0.2222222222222222,
             "#7201a8"
            ],
            [
             0.3333333333333333,
             "#9c179e"
            ],
            [
             0.4444444444444444,
             "#bd3786"
            ],
            [
             0.5555555555555556,
             "#d8576b"
            ],
            [
             0.6666666666666666,
             "#ed7953"
            ],
            [
             0.7777777777777778,
             "#fb9f3a"
            ],
            [
             0.8888888888888888,
             "#fdca26"
            ],
            [
             1,
             "#f0f921"
            ]
           ]
          },
          "colorway": [
           "#636efa",
           "#EF553B",
           "#00cc96",
           "#ab63fa",
           "#FFA15A",
           "#19d3f3",
           "#FF6692",
           "#B6E880",
           "#FF97FF",
           "#FECB52"
          ],
          "font": {
           "color": "#2a3f5f"
          },
          "geo": {
           "bgcolor": "white",
           "lakecolor": "white",
           "landcolor": "#E5ECF6",
           "showlakes": true,
           "showland": true,
           "subunitcolor": "white"
          },
          "hoverlabel": {
           "align": "left"
          },
          "hovermode": "closest",
          "mapbox": {
           "style": "light"
          },
          "paper_bgcolor": "white",
          "plot_bgcolor": "#E5ECF6",
          "polar": {
           "angularaxis": {
            "gridcolor": "white",
            "linecolor": "white",
            "ticks": ""
           },
           "bgcolor": "#E5ECF6",
           "radialaxis": {
            "gridcolor": "white",
            "linecolor": "white",
            "ticks": ""
           }
          },
          "scene": {
           "xaxis": {
            "backgroundcolor": "#E5ECF6",
            "gridcolor": "white",
            "gridwidth": 2,
            "linecolor": "white",
            "showbackground": true,
            "ticks": "",
            "zerolinecolor": "white"
           },
           "yaxis": {
            "backgroundcolor": "#E5ECF6",
            "gridcolor": "white",
            "gridwidth": 2,
            "linecolor": "white",
            "showbackground": true,
            "ticks": "",
            "zerolinecolor": "white"
           },
           "zaxis": {
            "backgroundcolor": "#E5ECF6",
            "gridcolor": "white",
            "gridwidth": 2,
            "linecolor": "white",
            "showbackground": true,
            "ticks": "",
            "zerolinecolor": "white"
           }
          },
          "shapedefaults": {
           "line": {
            "color": "#2a3f5f"
           }
          },
          "ternary": {
           "aaxis": {
            "gridcolor": "white",
            "linecolor": "white",
            "ticks": ""
           },
           "baxis": {
            "gridcolor": "white",
            "linecolor": "white",
            "ticks": ""
           },
           "bgcolor": "#E5ECF6",
           "caxis": {
            "gridcolor": "white",
            "linecolor": "white",
            "ticks": ""
           }
          },
          "title": {
           "x": 0.05
          },
          "xaxis": {
           "automargin": true,
           "gridcolor": "white",
           "linecolor": "white",
           "ticks": "",
           "title": {
            "standoff": 15
           },
           "zerolinecolor": "white",
           "zerolinewidth": 2
          },
          "yaxis": {
           "automargin": true,
           "gridcolor": "white",
           "linecolor": "white",
           "ticks": "",
           "title": {
            "standoff": 15
           },
           "zerolinecolor": "white",
           "zerolinewidth": 2
          }
         }
        },
        "title": {
         "text": "Změna velikost zprávy po 15 krocích"
        },
        "xaxis": {
         "anchor": "y",
         "domain": [
          0,
          1
         ],
         "title": {
          "text": "Čas"
         }
        },
        "yaxis": {
         "anchor": "x",
         "domain": [
          0,
          1
         ],
         "title": {
          "text": "Velikost zprávy"
         }
        }
       }
      }
     },
     "metadata": {},
     "output_type": "display_data"
    },
    {
     "data": {
      "application/vnd.plotly.v1+json": {
       "config": {
        "plotlyServerURL": "https://plot.ly"
       },
       "data": [
        {
         "hovertemplate": "Type=Largest<br>Čas=%{x}<br>Entropie zprávy=%{y}<extra></extra>",
         "legendgroup": "Largest",
         "line": {
          "color": "#636efa",
          "dash": "solid"
         },
         "marker": {
          "symbol": "circle"
         },
         "mode": "lines",
         "name": "Largest",
         "orientation": "v",
         "showlegend": true,
         "type": "scatter",
         "x": [
          0,
          1,
          2,
          3,
          4,
          5,
          6,
          7,
          8,
          9,
          10,
          11,
          12,
          13,
          14
         ],
         "xaxis": "x",
         "y": [
          55518.78632597914,
          55675.99697554352,
          55738.345834060485,
          55792.531402595225,
          55839.92431863988,
          55885.51857069733,
          55923.79717026731,
          55959.17534682317,
          55992.8252162564,
          56024.64942683553,
          56053.68947236205,
          56078.3789617693,
          56102.238925492646,
          56125.335867847614,
          56147.92896117684
         ],
         "yaxis": "y"
        },
        {
         "hovertemplate": "Type=Random<br>Čas=%{x}<br>Entropie zprávy=%{y}<extra></extra>",
         "legendgroup": "Random",
         "line": {
          "color": "#EF553B",
          "dash": "solid"
         },
         "marker": {
          "symbol": "circle"
         },
         "mode": "lines",
         "name": "Random",
         "orientation": "v",
         "showlegend": true,
         "type": "scatter",
         "x": [
          0,
          1,
          2,
          3,
          4,
          5,
          6,
          7,
          8,
          9,
          10,
          11,
          12,
          13,
          14
         ],
         "xaxis": "x",
         "y": [
          55281.32623905755,
          55282.65533934748,
          55284.91372008846,
          55286.216085760105,
          55300.04829883024,
          55306.02332493161,
          55308.734992868085,
          55309.130025929706,
          55317.14602569071,
          55320.46423088774,
          55320.96833998432,
          55324.12175352765,
          55369.32282912327,
          55371.81230270671,
          55371.922378275565
         ],
         "yaxis": "y"
        }
       ],
       "layout": {
        "legend": {
         "title": {
          "text": "Type"
         },
         "tracegroupgap": 0
        },
        "template": {
         "data": {
          "bar": [
           {
            "error_x": {
             "color": "#2a3f5f"
            },
            "error_y": {
             "color": "#2a3f5f"
            },
            "marker": {
             "line": {
              "color": "#E5ECF6",
              "width": 0.5
             },
             "pattern": {
              "fillmode": "overlay",
              "size": 10,
              "solidity": 0.2
             }
            },
            "type": "bar"
           }
          ],
          "barpolar": [
           {
            "marker": {
             "line": {
              "color": "#E5ECF6",
              "width": 0.5
             },
             "pattern": {
              "fillmode": "overlay",
              "size": 10,
              "solidity": 0.2
             }
            },
            "type": "barpolar"
           }
          ],
          "carpet": [
           {
            "aaxis": {
             "endlinecolor": "#2a3f5f",
             "gridcolor": "white",
             "linecolor": "white",
             "minorgridcolor": "white",
             "startlinecolor": "#2a3f5f"
            },
            "baxis": {
             "endlinecolor": "#2a3f5f",
             "gridcolor": "white",
             "linecolor": "white",
             "minorgridcolor": "white",
             "startlinecolor": "#2a3f5f"
            },
            "type": "carpet"
           }
          ],
          "choropleth": [
           {
            "colorbar": {
             "outlinewidth": 0,
             "ticks": ""
            },
            "type": "choropleth"
           }
          ],
          "contour": [
           {
            "colorbar": {
             "outlinewidth": 0,
             "ticks": ""
            },
            "colorscale": [
             [
              0,
              "#0d0887"
             ],
             [
              0.1111111111111111,
              "#46039f"
             ],
             [
              0.2222222222222222,
              "#7201a8"
             ],
             [
              0.3333333333333333,
              "#9c179e"
             ],
             [
              0.4444444444444444,
              "#bd3786"
             ],
             [
              0.5555555555555556,
              "#d8576b"
             ],
             [
              0.6666666666666666,
              "#ed7953"
             ],
             [
              0.7777777777777778,
              "#fb9f3a"
             ],
             [
              0.8888888888888888,
              "#fdca26"
             ],
             [
              1,
              "#f0f921"
             ]
            ],
            "type": "contour"
           }
          ],
          "contourcarpet": [
           {
            "colorbar": {
             "outlinewidth": 0,
             "ticks": ""
            },
            "type": "contourcarpet"
           }
          ],
          "heatmap": [
           {
            "colorbar": {
             "outlinewidth": 0,
             "ticks": ""
            },
            "colorscale": [
             [
              0,
              "#0d0887"
             ],
             [
              0.1111111111111111,
              "#46039f"
             ],
             [
              0.2222222222222222,
              "#7201a8"
             ],
             [
              0.3333333333333333,
              "#9c179e"
             ],
             [
              0.4444444444444444,
              "#bd3786"
             ],
             [
              0.5555555555555556,
              "#d8576b"
             ],
             [
              0.6666666666666666,
              "#ed7953"
             ],
             [
              0.7777777777777778,
              "#fb9f3a"
             ],
             [
              0.8888888888888888,
              "#fdca26"
             ],
             [
              1,
              "#f0f921"
             ]
            ],
            "type": "heatmap"
           }
          ],
          "heatmapgl": [
           {
            "colorbar": {
             "outlinewidth": 0,
             "ticks": ""
            },
            "colorscale": [
             [
              0,
              "#0d0887"
             ],
             [
              0.1111111111111111,
              "#46039f"
             ],
             [
              0.2222222222222222,
              "#7201a8"
             ],
             [
              0.3333333333333333,
              "#9c179e"
             ],
             [
              0.4444444444444444,
              "#bd3786"
             ],
             [
              0.5555555555555556,
              "#d8576b"
             ],
             [
              0.6666666666666666,
              "#ed7953"
             ],
             [
              0.7777777777777778,
              "#fb9f3a"
             ],
             [
              0.8888888888888888,
              "#fdca26"
             ],
             [
              1,
              "#f0f921"
             ]
            ],
            "type": "heatmapgl"
           }
          ],
          "histogram": [
           {
            "marker": {
             "pattern": {
              "fillmode": "overlay",
              "size": 10,
              "solidity": 0.2
             }
            },
            "type": "histogram"
           }
          ],
          "histogram2d": [
           {
            "colorbar": {
             "outlinewidth": 0,
             "ticks": ""
            },
            "colorscale": [
             [
              0,
              "#0d0887"
             ],
             [
              0.1111111111111111,
              "#46039f"
             ],
             [
              0.2222222222222222,
              "#7201a8"
             ],
             [
              0.3333333333333333,
              "#9c179e"
             ],
             [
              0.4444444444444444,
              "#bd3786"
             ],
             [
              0.5555555555555556,
              "#d8576b"
             ],
             [
              0.6666666666666666,
              "#ed7953"
             ],
             [
              0.7777777777777778,
              "#fb9f3a"
             ],
             [
              0.8888888888888888,
              "#fdca26"
             ],
             [
              1,
              "#f0f921"
             ]
            ],
            "type": "histogram2d"
           }
          ],
          "histogram2dcontour": [
           {
            "colorbar": {
             "outlinewidth": 0,
             "ticks": ""
            },
            "colorscale": [
             [
              0,
              "#0d0887"
             ],
             [
              0.1111111111111111,
              "#46039f"
             ],
             [
              0.2222222222222222,
              "#7201a8"
             ],
             [
              0.3333333333333333,
              "#9c179e"
             ],
             [
              0.4444444444444444,
              "#bd3786"
             ],
             [
              0.5555555555555556,
              "#d8576b"
             ],
             [
              0.6666666666666666,
              "#ed7953"
             ],
             [
              0.7777777777777778,
              "#fb9f3a"
             ],
             [
              0.8888888888888888,
              "#fdca26"
             ],
             [
              1,
              "#f0f921"
             ]
            ],
            "type": "histogram2dcontour"
           }
          ],
          "mesh3d": [
           {
            "colorbar": {
             "outlinewidth": 0,
             "ticks": ""
            },
            "type": "mesh3d"
           }
          ],
          "parcoords": [
           {
            "line": {
             "colorbar": {
              "outlinewidth": 0,
              "ticks": ""
             }
            },
            "type": "parcoords"
           }
          ],
          "pie": [
           {
            "automargin": true,
            "type": "pie"
           }
          ],
          "scatter": [
           {
            "marker": {
             "colorbar": {
              "outlinewidth": 0,
              "ticks": ""
             }
            },
            "type": "scatter"
           }
          ],
          "scatter3d": [
           {
            "line": {
             "colorbar": {
              "outlinewidth": 0,
              "ticks": ""
             }
            },
            "marker": {
             "colorbar": {
              "outlinewidth": 0,
              "ticks": ""
             }
            },
            "type": "scatter3d"
           }
          ],
          "scattercarpet": [
           {
            "marker": {
             "colorbar": {
              "outlinewidth": 0,
              "ticks": ""
             }
            },
            "type": "scattercarpet"
           }
          ],
          "scattergeo": [
           {
            "marker": {
             "colorbar": {
              "outlinewidth": 0,
              "ticks": ""
             }
            },
            "type": "scattergeo"
           }
          ],
          "scattergl": [
           {
            "marker": {
             "colorbar": {
              "outlinewidth": 0,
              "ticks": ""
             }
            },
            "type": "scattergl"
           }
          ],
          "scattermapbox": [
           {
            "marker": {
             "colorbar": {
              "outlinewidth": 0,
              "ticks": ""
             }
            },
            "type": "scattermapbox"
           }
          ],
          "scatterpolar": [
           {
            "marker": {
             "colorbar": {
              "outlinewidth": 0,
              "ticks": ""
             }
            },
            "type": "scatterpolar"
           }
          ],
          "scatterpolargl": [
           {
            "marker": {
             "colorbar": {
              "outlinewidth": 0,
              "ticks": ""
             }
            },
            "type": "scatterpolargl"
           }
          ],
          "scatterternary": [
           {
            "marker": {
             "colorbar": {
              "outlinewidth": 0,
              "ticks": ""
             }
            },
            "type": "scatterternary"
           }
          ],
          "surface": [
           {
            "colorbar": {
             "outlinewidth": 0,
             "ticks": ""
            },
            "colorscale": [
             [
              0,
              "#0d0887"
             ],
             [
              0.1111111111111111,
              "#46039f"
             ],
             [
              0.2222222222222222,
              "#7201a8"
             ],
             [
              0.3333333333333333,
              "#9c179e"
             ],
             [
              0.4444444444444444,
              "#bd3786"
             ],
             [
              0.5555555555555556,
              "#d8576b"
             ],
             [
              0.6666666666666666,
              "#ed7953"
             ],
             [
              0.7777777777777778,
              "#fb9f3a"
             ],
             [
              0.8888888888888888,
              "#fdca26"
             ],
             [
              1,
              "#f0f921"
             ]
            ],
            "type": "surface"
           }
          ],
          "table": [
           {
            "cells": {
             "fill": {
              "color": "#EBF0F8"
             },
             "line": {
              "color": "white"
             }
            },
            "header": {
             "fill": {
              "color": "#C8D4E3"
             },
             "line": {
              "color": "white"
             }
            },
            "type": "table"
           }
          ]
         },
         "layout": {
          "annotationdefaults": {
           "arrowcolor": "#2a3f5f",
           "arrowhead": 0,
           "arrowwidth": 1
          },
          "autotypenumbers": "strict",
          "coloraxis": {
           "colorbar": {
            "outlinewidth": 0,
            "ticks": ""
           }
          },
          "colorscale": {
           "diverging": [
            [
             0,
             "#8e0152"
            ],
            [
             0.1,
             "#c51b7d"
            ],
            [
             0.2,
             "#de77ae"
            ],
            [
             0.3,
             "#f1b6da"
            ],
            [
             0.4,
             "#fde0ef"
            ],
            [
             0.5,
             "#f7f7f7"
            ],
            [
             0.6,
             "#e6f5d0"
            ],
            [
             0.7,
             "#b8e186"
            ],
            [
             0.8,
             "#7fbc41"
            ],
            [
             0.9,
             "#4d9221"
            ],
            [
             1,
             "#276419"
            ]
           ],
           "sequential": [
            [
             0,
             "#0d0887"
            ],
            [
             0.1111111111111111,
             "#46039f"
            ],
            [
             0.2222222222222222,
             "#7201a8"
            ],
            [
             0.3333333333333333,
             "#9c179e"
            ],
            [
             0.4444444444444444,
             "#bd3786"
            ],
            [
             0.5555555555555556,
             "#d8576b"
            ],
            [
             0.6666666666666666,
             "#ed7953"
            ],
            [
             0.7777777777777778,
             "#fb9f3a"
            ],
            [
             0.8888888888888888,
             "#fdca26"
            ],
            [
             1,
             "#f0f921"
            ]
           ],
           "sequentialminus": [
            [
             0,
             "#0d0887"
            ],
            [
             0.1111111111111111,
             "#46039f"
            ],
            [
             0.2222222222222222,
             "#7201a8"
            ],
            [
             0.3333333333333333,
             "#9c179e"
            ],
            [
             0.4444444444444444,
             "#bd3786"
            ],
            [
             0.5555555555555556,
             "#d8576b"
            ],
            [
             0.6666666666666666,
             "#ed7953"
            ],
            [
             0.7777777777777778,
             "#fb9f3a"
            ],
            [
             0.8888888888888888,
             "#fdca26"
            ],
            [
             1,
             "#f0f921"
            ]
           ]
          },
          "colorway": [
           "#636efa",
           "#EF553B",
           "#00cc96",
           "#ab63fa",
           "#FFA15A",
           "#19d3f3",
           "#FF6692",
           "#B6E880",
           "#FF97FF",
           "#FECB52"
          ],
          "font": {
           "color": "#2a3f5f"
          },
          "geo": {
           "bgcolor": "white",
           "lakecolor": "white",
           "landcolor": "#E5ECF6",
           "showlakes": true,
           "showland": true,
           "subunitcolor": "white"
          },
          "hoverlabel": {
           "align": "left"
          },
          "hovermode": "closest",
          "mapbox": {
           "style": "light"
          },
          "paper_bgcolor": "white",
          "plot_bgcolor": "#E5ECF6",
          "polar": {
           "angularaxis": {
            "gridcolor": "white",
            "linecolor": "white",
            "ticks": ""
           },
           "bgcolor": "#E5ECF6",
           "radialaxis": {
            "gridcolor": "white",
            "linecolor": "white",
            "ticks": ""
           }
          },
          "scene": {
           "xaxis": {
            "backgroundcolor": "#E5ECF6",
            "gridcolor": "white",
            "gridwidth": 2,
            "linecolor": "white",
            "showbackground": true,
            "ticks": "",
            "zerolinecolor": "white"
           },
           "yaxis": {
            "backgroundcolor": "#E5ECF6",
            "gridcolor": "white",
            "gridwidth": 2,
            "linecolor": "white",
            "showbackground": true,
            "ticks": "",
            "zerolinecolor": "white"
           },
           "zaxis": {
            "backgroundcolor": "#E5ECF6",
            "gridcolor": "white",
            "gridwidth": 2,
            "linecolor": "white",
            "showbackground": true,
            "ticks": "",
            "zerolinecolor": "white"
           }
          },
          "shapedefaults": {
           "line": {
            "color": "#2a3f5f"
           }
          },
          "ternary": {
           "aaxis": {
            "gridcolor": "white",
            "linecolor": "white",
            "ticks": ""
           },
           "baxis": {
            "gridcolor": "white",
            "linecolor": "white",
            "ticks": ""
           },
           "bgcolor": "#E5ECF6",
           "caxis": {
            "gridcolor": "white",
            "linecolor": "white",
            "ticks": ""
           }
          },
          "title": {
           "x": 0.05
          },
          "xaxis": {
           "automargin": true,
           "gridcolor": "white",
           "linecolor": "white",
           "ticks": "",
           "title": {
            "standoff": 15
           },
           "zerolinecolor": "white",
           "zerolinewidth": 2
          },
          "yaxis": {
           "automargin": true,
           "gridcolor": "white",
           "linecolor": "white",
           "ticks": "",
           "title": {
            "standoff": 15
           },
           "zerolinecolor": "white",
           "zerolinewidth": 2
          }
         }
        },
        "title": {
         "text": "Změna entropie zprávy po 15 krocích"
        },
        "xaxis": {
         "anchor": "y",
         "domain": [
          0,
          1
         ],
         "title": {
          "text": "Čas"
         }
        },
        "yaxis": {
         "anchor": "x",
         "domain": [
          0,
          1
         ],
         "title": {
          "text": "Entropie zprávy"
         }
        }
       }
      }
     },
     "metadata": {},
     "output_type": "display_data"
    }
   ],
   "source": [
    "df_message_size = create_graphs_df(res, t, 15, TableFields.MessageSize.value)\n",
    "fig = px.line(df_message_size, y=\"Value\", color='Type',\n",
    "    title=\"Změna velikost zprávy po 15 krocích\",\n",
    "    labels=dict(index=\"Čas\", Value=\"Velikost zprávy\")\n",
    ")\n",
    "fig.show()\n",
    "\n",
    "df_entropy = create_graphs_df(res, t, 15, TableFields.EntropySize.value)\n",
    "fig = px.line(df_entropy, y=\"Value\", color='Type',\n",
    "    title=\"Změna entropie zprávy po 15 krocích\",\n",
    "    labels=dict(index=\"Čas\", Value=\"Entropie zprávy\")\n",
    ")\n",
    "fig.show()"
   ]
  },
  {
   "cell_type": "markdown",
   "metadata": {},
   "source": [
    "## English"
   ]
  },
  {
   "cell_type": "code",
   "execution_count": 60,
   "metadata": {},
   "outputs": [],
   "source": [
    "t = 'english'"
   ]
  },
  {
   "cell_type": "code",
   "execution_count": 61,
   "metadata": {},
   "outputs": [
    {
     "data": {
      "application/vnd.plotly.v1+json": {
       "config": {
        "plotlyServerURL": "https://plot.ly"
       },
       "data": [
        {
         "hovertemplate": "Type=Largest<br>Čas=%{x}<br>Velikost zprávy=%{y}<extra></extra>",
         "legendgroup": "Largest",
         "line": {
          "color": "#636efa",
          "dash": "solid"
         },
         "marker": {
          "symbol": "circle"
         },
         "mode": "lines",
         "name": "Largest",
         "orientation": "v",
         "showlegend": true,
         "type": "scatter",
         "x": [
          0,
          1,
          2,
          3,
          4,
          5,
          6,
          7,
          8,
          9,
          10,
          11,
          12,
          13,
          14
         ],
         "xaxis": "x",
         "y": [
          10000,
          9735,
          9602,
          9496,
          9415,
          9354,
          9296,
          9251,
          9205,
          9162,
          9131,
          9098,
          9049,
          9002,
          8967
         ],
         "yaxis": "y"
        },
        {
         "hovertemplate": "Type=Random<br>Čas=%{x}<br>Velikost zprávy=%{y}<extra></extra>",
         "legendgroup": "Random",
         "line": {
          "color": "#EF553B",
          "dash": "solid"
         },
         "marker": {
          "symbol": "circle"
         },
         "mode": "lines",
         "name": "Random",
         "orientation": "v",
         "showlegend": true,
         "type": "scatter",
         "x": [
          0,
          1,
          2,
          3,
          4,
          5,
          6,
          7,
          8,
          9,
          10,
          11,
          12,
          13,
          14
         ],
         "xaxis": "x",
         "y": [
          10000,
          9997,
          9978,
          9977,
          9975,
          9954,
          9951,
          9947,
          9945,
          9944,
          9926,
          9915,
          9910,
          9909,
          9907
         ],
         "yaxis": "y"
        }
       ],
       "layout": {
        "legend": {
         "title": {
          "text": "Type"
         },
         "tracegroupgap": 0
        },
        "template": {
         "data": {
          "bar": [
           {
            "error_x": {
             "color": "#2a3f5f"
            },
            "error_y": {
             "color": "#2a3f5f"
            },
            "marker": {
             "line": {
              "color": "#E5ECF6",
              "width": 0.5
             },
             "pattern": {
              "fillmode": "overlay",
              "size": 10,
              "solidity": 0.2
             }
            },
            "type": "bar"
           }
          ],
          "barpolar": [
           {
            "marker": {
             "line": {
              "color": "#E5ECF6",
              "width": 0.5
             },
             "pattern": {
              "fillmode": "overlay",
              "size": 10,
              "solidity": 0.2
             }
            },
            "type": "barpolar"
           }
          ],
          "carpet": [
           {
            "aaxis": {
             "endlinecolor": "#2a3f5f",
             "gridcolor": "white",
             "linecolor": "white",
             "minorgridcolor": "white",
             "startlinecolor": "#2a3f5f"
            },
            "baxis": {
             "endlinecolor": "#2a3f5f",
             "gridcolor": "white",
             "linecolor": "white",
             "minorgridcolor": "white",
             "startlinecolor": "#2a3f5f"
            },
            "type": "carpet"
           }
          ],
          "choropleth": [
           {
            "colorbar": {
             "outlinewidth": 0,
             "ticks": ""
            },
            "type": "choropleth"
           }
          ],
          "contour": [
           {
            "colorbar": {
             "outlinewidth": 0,
             "ticks": ""
            },
            "colorscale": [
             [
              0,
              "#0d0887"
             ],
             [
              0.1111111111111111,
              "#46039f"
             ],
             [
              0.2222222222222222,
              "#7201a8"
             ],
             [
              0.3333333333333333,
              "#9c179e"
             ],
             [
              0.4444444444444444,
              "#bd3786"
             ],
             [
              0.5555555555555556,
              "#d8576b"
             ],
             [
              0.6666666666666666,
              "#ed7953"
             ],
             [
              0.7777777777777778,
              "#fb9f3a"
             ],
             [
              0.8888888888888888,
              "#fdca26"
             ],
             [
              1,
              "#f0f921"
             ]
            ],
            "type": "contour"
           }
          ],
          "contourcarpet": [
           {
            "colorbar": {
             "outlinewidth": 0,
             "ticks": ""
            },
            "type": "contourcarpet"
           }
          ],
          "heatmap": [
           {
            "colorbar": {
             "outlinewidth": 0,
             "ticks": ""
            },
            "colorscale": [
             [
              0,
              "#0d0887"
             ],
             [
              0.1111111111111111,
              "#46039f"
             ],
             [
              0.2222222222222222,
              "#7201a8"
             ],
             [
              0.3333333333333333,
              "#9c179e"
             ],
             [
              0.4444444444444444,
              "#bd3786"
             ],
             [
              0.5555555555555556,
              "#d8576b"
             ],
             [
              0.6666666666666666,
              "#ed7953"
             ],
             [
              0.7777777777777778,
              "#fb9f3a"
             ],
             [
              0.8888888888888888,
              "#fdca26"
             ],
             [
              1,
              "#f0f921"
             ]
            ],
            "type": "heatmap"
           }
          ],
          "heatmapgl": [
           {
            "colorbar": {
             "outlinewidth": 0,
             "ticks": ""
            },
            "colorscale": [
             [
              0,
              "#0d0887"
             ],
             [
              0.1111111111111111,
              "#46039f"
             ],
             [
              0.2222222222222222,
              "#7201a8"
             ],
             [
              0.3333333333333333,
              "#9c179e"
             ],
             [
              0.4444444444444444,
              "#bd3786"
             ],
             [
              0.5555555555555556,
              "#d8576b"
             ],
             [
              0.6666666666666666,
              "#ed7953"
             ],
             [
              0.7777777777777778,
              "#fb9f3a"
             ],
             [
              0.8888888888888888,
              "#fdca26"
             ],
             [
              1,
              "#f0f921"
             ]
            ],
            "type": "heatmapgl"
           }
          ],
          "histogram": [
           {
            "marker": {
             "pattern": {
              "fillmode": "overlay",
              "size": 10,
              "solidity": 0.2
             }
            },
            "type": "histogram"
           }
          ],
          "histogram2d": [
           {
            "colorbar": {
             "outlinewidth": 0,
             "ticks": ""
            },
            "colorscale": [
             [
              0,
              "#0d0887"
             ],
             [
              0.1111111111111111,
              "#46039f"
             ],
             [
              0.2222222222222222,
              "#7201a8"
             ],
             [
              0.3333333333333333,
              "#9c179e"
             ],
             [
              0.4444444444444444,
              "#bd3786"
             ],
             [
              0.5555555555555556,
              "#d8576b"
             ],
             [
              0.6666666666666666,
              "#ed7953"
             ],
             [
              0.7777777777777778,
              "#fb9f3a"
             ],
             [
              0.8888888888888888,
              "#fdca26"
             ],
             [
              1,
              "#f0f921"
             ]
            ],
            "type": "histogram2d"
           }
          ],
          "histogram2dcontour": [
           {
            "colorbar": {
             "outlinewidth": 0,
             "ticks": ""
            },
            "colorscale": [
             [
              0,
              "#0d0887"
             ],
             [
              0.1111111111111111,
              "#46039f"
             ],
             [
              0.2222222222222222,
              "#7201a8"
             ],
             [
              0.3333333333333333,
              "#9c179e"
             ],
             [
              0.4444444444444444,
              "#bd3786"
             ],
             [
              0.5555555555555556,
              "#d8576b"
             ],
             [
              0.6666666666666666,
              "#ed7953"
             ],
             [
              0.7777777777777778,
              "#fb9f3a"
             ],
             [
              0.8888888888888888,
              "#fdca26"
             ],
             [
              1,
              "#f0f921"
             ]
            ],
            "type": "histogram2dcontour"
           }
          ],
          "mesh3d": [
           {
            "colorbar": {
             "outlinewidth": 0,
             "ticks": ""
            },
            "type": "mesh3d"
           }
          ],
          "parcoords": [
           {
            "line": {
             "colorbar": {
              "outlinewidth": 0,
              "ticks": ""
             }
            },
            "type": "parcoords"
           }
          ],
          "pie": [
           {
            "automargin": true,
            "type": "pie"
           }
          ],
          "scatter": [
           {
            "marker": {
             "colorbar": {
              "outlinewidth": 0,
              "ticks": ""
             }
            },
            "type": "scatter"
           }
          ],
          "scatter3d": [
           {
            "line": {
             "colorbar": {
              "outlinewidth": 0,
              "ticks": ""
             }
            },
            "marker": {
             "colorbar": {
              "outlinewidth": 0,
              "ticks": ""
             }
            },
            "type": "scatter3d"
           }
          ],
          "scattercarpet": [
           {
            "marker": {
             "colorbar": {
              "outlinewidth": 0,
              "ticks": ""
             }
            },
            "type": "scattercarpet"
           }
          ],
          "scattergeo": [
           {
            "marker": {
             "colorbar": {
              "outlinewidth": 0,
              "ticks": ""
             }
            },
            "type": "scattergeo"
           }
          ],
          "scattergl": [
           {
            "marker": {
             "colorbar": {
              "outlinewidth": 0,
              "ticks": ""
             }
            },
            "type": "scattergl"
           }
          ],
          "scattermapbox": [
           {
            "marker": {
             "colorbar": {
              "outlinewidth": 0,
              "ticks": ""
             }
            },
            "type": "scattermapbox"
           }
          ],
          "scatterpolar": [
           {
            "marker": {
             "colorbar": {
              "outlinewidth": 0,
              "ticks": ""
             }
            },
            "type": "scatterpolar"
           }
          ],
          "scatterpolargl": [
           {
            "marker": {
             "colorbar": {
              "outlinewidth": 0,
              "ticks": ""
             }
            },
            "type": "scatterpolargl"
           }
          ],
          "scatterternary": [
           {
            "marker": {
             "colorbar": {
              "outlinewidth": 0,
              "ticks": ""
             }
            },
            "type": "scatterternary"
           }
          ],
          "surface": [
           {
            "colorbar": {
             "outlinewidth": 0,
             "ticks": ""
            },
            "colorscale": [
             [
              0,
              "#0d0887"
             ],
             [
              0.1111111111111111,
              "#46039f"
             ],
             [
              0.2222222222222222,
              "#7201a8"
             ],
             [
              0.3333333333333333,
              "#9c179e"
             ],
             [
              0.4444444444444444,
              "#bd3786"
             ],
             [
              0.5555555555555556,
              "#d8576b"
             ],
             [
              0.6666666666666666,
              "#ed7953"
             ],
             [
              0.7777777777777778,
              "#fb9f3a"
             ],
             [
              0.8888888888888888,
              "#fdca26"
             ],
             [
              1,
              "#f0f921"
             ]
            ],
            "type": "surface"
           }
          ],
          "table": [
           {
            "cells": {
             "fill": {
              "color": "#EBF0F8"
             },
             "line": {
              "color": "white"
             }
            },
            "header": {
             "fill": {
              "color": "#C8D4E3"
             },
             "line": {
              "color": "white"
             }
            },
            "type": "table"
           }
          ]
         },
         "layout": {
          "annotationdefaults": {
           "arrowcolor": "#2a3f5f",
           "arrowhead": 0,
           "arrowwidth": 1
          },
          "autotypenumbers": "strict",
          "coloraxis": {
           "colorbar": {
            "outlinewidth": 0,
            "ticks": ""
           }
          },
          "colorscale": {
           "diverging": [
            [
             0,
             "#8e0152"
            ],
            [
             0.1,
             "#c51b7d"
            ],
            [
             0.2,
             "#de77ae"
            ],
            [
             0.3,
             "#f1b6da"
            ],
            [
             0.4,
             "#fde0ef"
            ],
            [
             0.5,
             "#f7f7f7"
            ],
            [
             0.6,
             "#e6f5d0"
            ],
            [
             0.7,
             "#b8e186"
            ],
            [
             0.8,
             "#7fbc41"
            ],
            [
             0.9,
             "#4d9221"
            ],
            [
             1,
             "#276419"
            ]
           ],
           "sequential": [
            [
             0,
             "#0d0887"
            ],
            [
             0.1111111111111111,
             "#46039f"
            ],
            [
             0.2222222222222222,
             "#7201a8"
            ],
            [
             0.3333333333333333,
             "#9c179e"
            ],
            [
             0.4444444444444444,
             "#bd3786"
            ],
            [
             0.5555555555555556,
             "#d8576b"
            ],
            [
             0.6666666666666666,
             "#ed7953"
            ],
            [
             0.7777777777777778,
             "#fb9f3a"
            ],
            [
             0.8888888888888888,
             "#fdca26"
            ],
            [
             1,
             "#f0f921"
            ]
           ],
           "sequentialminus": [
            [
             0,
             "#0d0887"
            ],
            [
             0.1111111111111111,
             "#46039f"
            ],
            [
             0.2222222222222222,
             "#7201a8"
            ],
            [
             0.3333333333333333,
             "#9c179e"
            ],
            [
             0.4444444444444444,
             "#bd3786"
            ],
            [
             0.5555555555555556,
             "#d8576b"
            ],
            [
             0.6666666666666666,
             "#ed7953"
            ],
            [
             0.7777777777777778,
             "#fb9f3a"
            ],
            [
             0.8888888888888888,
             "#fdca26"
            ],
            [
             1,
             "#f0f921"
            ]
           ]
          },
          "colorway": [
           "#636efa",
           "#EF553B",
           "#00cc96",
           "#ab63fa",
           "#FFA15A",
           "#19d3f3",
           "#FF6692",
           "#B6E880",
           "#FF97FF",
           "#FECB52"
          ],
          "font": {
           "color": "#2a3f5f"
          },
          "geo": {
           "bgcolor": "white",
           "lakecolor": "white",
           "landcolor": "#E5ECF6",
           "showlakes": true,
           "showland": true,
           "subunitcolor": "white"
          },
          "hoverlabel": {
           "align": "left"
          },
          "hovermode": "closest",
          "mapbox": {
           "style": "light"
          },
          "paper_bgcolor": "white",
          "plot_bgcolor": "#E5ECF6",
          "polar": {
           "angularaxis": {
            "gridcolor": "white",
            "linecolor": "white",
            "ticks": ""
           },
           "bgcolor": "#E5ECF6",
           "radialaxis": {
            "gridcolor": "white",
            "linecolor": "white",
            "ticks": ""
           }
          },
          "scene": {
           "xaxis": {
            "backgroundcolor": "#E5ECF6",
            "gridcolor": "white",
            "gridwidth": 2,
            "linecolor": "white",
            "showbackground": true,
            "ticks": "",
            "zerolinecolor": "white"
           },
           "yaxis": {
            "backgroundcolor": "#E5ECF6",
            "gridcolor": "white",
            "gridwidth": 2,
            "linecolor": "white",
            "showbackground": true,
            "ticks": "",
            "zerolinecolor": "white"
           },
           "zaxis": {
            "backgroundcolor": "#E5ECF6",
            "gridcolor": "white",
            "gridwidth": 2,
            "linecolor": "white",
            "showbackground": true,
            "ticks": "",
            "zerolinecolor": "white"
           }
          },
          "shapedefaults": {
           "line": {
            "color": "#2a3f5f"
           }
          },
          "ternary": {
           "aaxis": {
            "gridcolor": "white",
            "linecolor": "white",
            "ticks": ""
           },
           "baxis": {
            "gridcolor": "white",
            "linecolor": "white",
            "ticks": ""
           },
           "bgcolor": "#E5ECF6",
           "caxis": {
            "gridcolor": "white",
            "linecolor": "white",
            "ticks": ""
           }
          },
          "title": {
           "x": 0.05
          },
          "xaxis": {
           "automargin": true,
           "gridcolor": "white",
           "linecolor": "white",
           "ticks": "",
           "title": {
            "standoff": 15
           },
           "zerolinecolor": "white",
           "zerolinewidth": 2
          },
          "yaxis": {
           "automargin": true,
           "gridcolor": "white",
           "linecolor": "white",
           "ticks": "",
           "title": {
            "standoff": 15
           },
           "zerolinecolor": "white",
           "zerolinewidth": 2
          }
         }
        },
        "title": {
         "text": "Změna velikost zprávy po 15 krocích"
        },
        "xaxis": {
         "anchor": "y",
         "domain": [
          0,
          1
         ],
         "title": {
          "text": "Čas"
         }
        },
        "yaxis": {
         "anchor": "x",
         "domain": [
          0,
          1
         ],
         "title": {
          "text": "Velikost zprávy"
         }
        }
       }
      }
     },
     "metadata": {},
     "output_type": "display_data"
    },
    {
     "data": {
      "application/vnd.plotly.v1+json": {
       "config": {
        "plotlyServerURL": "https://plot.ly"
       },
       "data": [
        {
         "hovertemplate": "Type=Largest<br>Čas=%{x}<br>Entropie zprávy=%{y}<extra></extra>",
         "legendgroup": "Largest",
         "line": {
          "color": "#636efa",
          "dash": "solid"
         },
         "marker": {
          "symbol": "circle"
         },
         "mode": "lines",
         "name": "Largest",
         "orientation": "v",
         "showlegend": true,
         "type": "scatter",
         "x": [
          0,
          1,
          2,
          3,
          4,
          5,
          6,
          7,
          8,
          9,
          10,
          11,
          12,
          13,
          14
         ],
         "xaxis": "x",
         "y": [
          45090.3076399286,
          45372.5860208731,
          45517.53625668949,
          45630.77394166825,
          45707.73340327698,
          45778.51952681522,
          45849.06455622405,
          45908.45568685135,
          45965.7001192404,
          46014.91059667978,
          46061.827792088814,
          46108.10900834549,
          46152.14932757874,
          46195.00801428175,
          46236.31657462371
         ],
         "yaxis": "y"
        },
        {
         "hovertemplate": "Type=Random<br>Čas=%{x}<br>Entropie zprávy=%{y}<extra></extra>",
         "legendgroup": "Random",
         "line": {
          "color": "#EF553B",
          "dash": "solid"
         },
         "marker": {
          "symbol": "circle"
         },
         "mode": "lines",
         "name": "Random",
         "orientation": "v",
         "showlegend": true,
         "type": "scatter",
         "x": [
          0,
          1,
          2,
          3,
          4,
          5,
          6,
          7,
          8,
          9,
          10,
          11,
          12,
          13,
          14
         ],
         "xaxis": "x",
         "y": [
          45303.81280004578,
          45304.10808078979,
          45329.22324185798,
          45330.81372438611,
          45335.12477563131,
          45359.59857304376,
          45361.906108247545,
          45367.86907563203,
          45371.15000657573,
          45371.791780616266,
          45394.74168632408,
          45411.480223127925,
          45417.423395200014,
          45418.62897273539,
          45421.276767372125
         ],
         "yaxis": "y"
        }
       ],
       "layout": {
        "legend": {
         "title": {
          "text": "Type"
         },
         "tracegroupgap": 0
        },
        "template": {
         "data": {
          "bar": [
           {
            "error_x": {
             "color": "#2a3f5f"
            },
            "error_y": {
             "color": "#2a3f5f"
            },
            "marker": {
             "line": {
              "color": "#E5ECF6",
              "width": 0.5
             },
             "pattern": {
              "fillmode": "overlay",
              "size": 10,
              "solidity": 0.2
             }
            },
            "type": "bar"
           }
          ],
          "barpolar": [
           {
            "marker": {
             "line": {
              "color": "#E5ECF6",
              "width": 0.5
             },
             "pattern": {
              "fillmode": "overlay",
              "size": 10,
              "solidity": 0.2
             }
            },
            "type": "barpolar"
           }
          ],
          "carpet": [
           {
            "aaxis": {
             "endlinecolor": "#2a3f5f",
             "gridcolor": "white",
             "linecolor": "white",
             "minorgridcolor": "white",
             "startlinecolor": "#2a3f5f"
            },
            "baxis": {
             "endlinecolor": "#2a3f5f",
             "gridcolor": "white",
             "linecolor": "white",
             "minorgridcolor": "white",
             "startlinecolor": "#2a3f5f"
            },
            "type": "carpet"
           }
          ],
          "choropleth": [
           {
            "colorbar": {
             "outlinewidth": 0,
             "ticks": ""
            },
            "type": "choropleth"
           }
          ],
          "contour": [
           {
            "colorbar": {
             "outlinewidth": 0,
             "ticks": ""
            },
            "colorscale": [
             [
              0,
              "#0d0887"
             ],
             [
              0.1111111111111111,
              "#46039f"
             ],
             [
              0.2222222222222222,
              "#7201a8"
             ],
             [
              0.3333333333333333,
              "#9c179e"
             ],
             [
              0.4444444444444444,
              "#bd3786"
             ],
             [
              0.5555555555555556,
              "#d8576b"
             ],
             [
              0.6666666666666666,
              "#ed7953"
             ],
             [
              0.7777777777777778,
              "#fb9f3a"
             ],
             [
              0.8888888888888888,
              "#fdca26"
             ],
             [
              1,
              "#f0f921"
             ]
            ],
            "type": "contour"
           }
          ],
          "contourcarpet": [
           {
            "colorbar": {
             "outlinewidth": 0,
             "ticks": ""
            },
            "type": "contourcarpet"
           }
          ],
          "heatmap": [
           {
            "colorbar": {
             "outlinewidth": 0,
             "ticks": ""
            },
            "colorscale": [
             [
              0,
              "#0d0887"
             ],
             [
              0.1111111111111111,
              "#46039f"
             ],
             [
              0.2222222222222222,
              "#7201a8"
             ],
             [
              0.3333333333333333,
              "#9c179e"
             ],
             [
              0.4444444444444444,
              "#bd3786"
             ],
             [
              0.5555555555555556,
              "#d8576b"
             ],
             [
              0.6666666666666666,
              "#ed7953"
             ],
             [
              0.7777777777777778,
              "#fb9f3a"
             ],
             [
              0.8888888888888888,
              "#fdca26"
             ],
             [
              1,
              "#f0f921"
             ]
            ],
            "type": "heatmap"
           }
          ],
          "heatmapgl": [
           {
            "colorbar": {
             "outlinewidth": 0,
             "ticks": ""
            },
            "colorscale": [
             [
              0,
              "#0d0887"
             ],
             [
              0.1111111111111111,
              "#46039f"
             ],
             [
              0.2222222222222222,
              "#7201a8"
             ],
             [
              0.3333333333333333,
              "#9c179e"
             ],
             [
              0.4444444444444444,
              "#bd3786"
             ],
             [
              0.5555555555555556,
              "#d8576b"
             ],
             [
              0.6666666666666666,
              "#ed7953"
             ],
             [
              0.7777777777777778,
              "#fb9f3a"
             ],
             [
              0.8888888888888888,
              "#fdca26"
             ],
             [
              1,
              "#f0f921"
             ]
            ],
            "type": "heatmapgl"
           }
          ],
          "histogram": [
           {
            "marker": {
             "pattern": {
              "fillmode": "overlay",
              "size": 10,
              "solidity": 0.2
             }
            },
            "type": "histogram"
           }
          ],
          "histogram2d": [
           {
            "colorbar": {
             "outlinewidth": 0,
             "ticks": ""
            },
            "colorscale": [
             [
              0,
              "#0d0887"
             ],
             [
              0.1111111111111111,
              "#46039f"
             ],
             [
              0.2222222222222222,
              "#7201a8"
             ],
             [
              0.3333333333333333,
              "#9c179e"
             ],
             [
              0.4444444444444444,
              "#bd3786"
             ],
             [
              0.5555555555555556,
              "#d8576b"
             ],
             [
              0.6666666666666666,
              "#ed7953"
             ],
             [
              0.7777777777777778,
              "#fb9f3a"
             ],
             [
              0.8888888888888888,
              "#fdca26"
             ],
             [
              1,
              "#f0f921"
             ]
            ],
            "type": "histogram2d"
           }
          ],
          "histogram2dcontour": [
           {
            "colorbar": {
             "outlinewidth": 0,
             "ticks": ""
            },
            "colorscale": [
             [
              0,
              "#0d0887"
             ],
             [
              0.1111111111111111,
              "#46039f"
             ],
             [
              0.2222222222222222,
              "#7201a8"
             ],
             [
              0.3333333333333333,
              "#9c179e"
             ],
             [
              0.4444444444444444,
              "#bd3786"
             ],
             [
              0.5555555555555556,
              "#d8576b"
             ],
             [
              0.6666666666666666,
              "#ed7953"
             ],
             [
              0.7777777777777778,
              "#fb9f3a"
             ],
             [
              0.8888888888888888,
              "#fdca26"
             ],
             [
              1,
              "#f0f921"
             ]
            ],
            "type": "histogram2dcontour"
           }
          ],
          "mesh3d": [
           {
            "colorbar": {
             "outlinewidth": 0,
             "ticks": ""
            },
            "type": "mesh3d"
           }
          ],
          "parcoords": [
           {
            "line": {
             "colorbar": {
              "outlinewidth": 0,
              "ticks": ""
             }
            },
            "type": "parcoords"
           }
          ],
          "pie": [
           {
            "automargin": true,
            "type": "pie"
           }
          ],
          "scatter": [
           {
            "marker": {
             "colorbar": {
              "outlinewidth": 0,
              "ticks": ""
             }
            },
            "type": "scatter"
           }
          ],
          "scatter3d": [
           {
            "line": {
             "colorbar": {
              "outlinewidth": 0,
              "ticks": ""
             }
            },
            "marker": {
             "colorbar": {
              "outlinewidth": 0,
              "ticks": ""
             }
            },
            "type": "scatter3d"
           }
          ],
          "scattercarpet": [
           {
            "marker": {
             "colorbar": {
              "outlinewidth": 0,
              "ticks": ""
             }
            },
            "type": "scattercarpet"
           }
          ],
          "scattergeo": [
           {
            "marker": {
             "colorbar": {
              "outlinewidth": 0,
              "ticks": ""
             }
            },
            "type": "scattergeo"
           }
          ],
          "scattergl": [
           {
            "marker": {
             "colorbar": {
              "outlinewidth": 0,
              "ticks": ""
             }
            },
            "type": "scattergl"
           }
          ],
          "scattermapbox": [
           {
            "marker": {
             "colorbar": {
              "outlinewidth": 0,
              "ticks": ""
             }
            },
            "type": "scattermapbox"
           }
          ],
          "scatterpolar": [
           {
            "marker": {
             "colorbar": {
              "outlinewidth": 0,
              "ticks": ""
             }
            },
            "type": "scatterpolar"
           }
          ],
          "scatterpolargl": [
           {
            "marker": {
             "colorbar": {
              "outlinewidth": 0,
              "ticks": ""
             }
            },
            "type": "scatterpolargl"
           }
          ],
          "scatterternary": [
           {
            "marker": {
             "colorbar": {
              "outlinewidth": 0,
              "ticks": ""
             }
            },
            "type": "scatterternary"
           }
          ],
          "surface": [
           {
            "colorbar": {
             "outlinewidth": 0,
             "ticks": ""
            },
            "colorscale": [
             [
              0,
              "#0d0887"
             ],
             [
              0.1111111111111111,
              "#46039f"
             ],
             [
              0.2222222222222222,
              "#7201a8"
             ],
             [
              0.3333333333333333,
              "#9c179e"
             ],
             [
              0.4444444444444444,
              "#bd3786"
             ],
             [
              0.5555555555555556,
              "#d8576b"
             ],
             [
              0.6666666666666666,
              "#ed7953"
             ],
             [
              0.7777777777777778,
              "#fb9f3a"
             ],
             [
              0.8888888888888888,
              "#fdca26"
             ],
             [
              1,
              "#f0f921"
             ]
            ],
            "type": "surface"
           }
          ],
          "table": [
           {
            "cells": {
             "fill": {
              "color": "#EBF0F8"
             },
             "line": {
              "color": "white"
             }
            },
            "header": {
             "fill": {
              "color": "#C8D4E3"
             },
             "line": {
              "color": "white"
             }
            },
            "type": "table"
           }
          ]
         },
         "layout": {
          "annotationdefaults": {
           "arrowcolor": "#2a3f5f",
           "arrowhead": 0,
           "arrowwidth": 1
          },
          "autotypenumbers": "strict",
          "coloraxis": {
           "colorbar": {
            "outlinewidth": 0,
            "ticks": ""
           }
          },
          "colorscale": {
           "diverging": [
            [
             0,
             "#8e0152"
            ],
            [
             0.1,
             "#c51b7d"
            ],
            [
             0.2,
             "#de77ae"
            ],
            [
             0.3,
             "#f1b6da"
            ],
            [
             0.4,
             "#fde0ef"
            ],
            [
             0.5,
             "#f7f7f7"
            ],
            [
             0.6,
             "#e6f5d0"
            ],
            [
             0.7,
             "#b8e186"
            ],
            [
             0.8,
             "#7fbc41"
            ],
            [
             0.9,
             "#4d9221"
            ],
            [
             1,
             "#276419"
            ]
           ],
           "sequential": [
            [
             0,
             "#0d0887"
            ],
            [
             0.1111111111111111,
             "#46039f"
            ],
            [
             0.2222222222222222,
             "#7201a8"
            ],
            [
             0.3333333333333333,
             "#9c179e"
            ],
            [
             0.4444444444444444,
             "#bd3786"
            ],
            [
             0.5555555555555556,
             "#d8576b"
            ],
            [
             0.6666666666666666,
             "#ed7953"
            ],
            [
             0.7777777777777778,
             "#fb9f3a"
            ],
            [
             0.8888888888888888,
             "#fdca26"
            ],
            [
             1,
             "#f0f921"
            ]
           ],
           "sequentialminus": [
            [
             0,
             "#0d0887"
            ],
            [
             0.1111111111111111,
             "#46039f"
            ],
            [
             0.2222222222222222,
             "#7201a8"
            ],
            [
             0.3333333333333333,
             "#9c179e"
            ],
            [
             0.4444444444444444,
             "#bd3786"
            ],
            [
             0.5555555555555556,
             "#d8576b"
            ],
            [
             0.6666666666666666,
             "#ed7953"
            ],
            [
             0.7777777777777778,
             "#fb9f3a"
            ],
            [
             0.8888888888888888,
             "#fdca26"
            ],
            [
             1,
             "#f0f921"
            ]
           ]
          },
          "colorway": [
           "#636efa",
           "#EF553B",
           "#00cc96",
           "#ab63fa",
           "#FFA15A",
           "#19d3f3",
           "#FF6692",
           "#B6E880",
           "#FF97FF",
           "#FECB52"
          ],
          "font": {
           "color": "#2a3f5f"
          },
          "geo": {
           "bgcolor": "white",
           "lakecolor": "white",
           "landcolor": "#E5ECF6",
           "showlakes": true,
           "showland": true,
           "subunitcolor": "white"
          },
          "hoverlabel": {
           "align": "left"
          },
          "hovermode": "closest",
          "mapbox": {
           "style": "light"
          },
          "paper_bgcolor": "white",
          "plot_bgcolor": "#E5ECF6",
          "polar": {
           "angularaxis": {
            "gridcolor": "white",
            "linecolor": "white",
            "ticks": ""
           },
           "bgcolor": "#E5ECF6",
           "radialaxis": {
            "gridcolor": "white",
            "linecolor": "white",
            "ticks": ""
           }
          },
          "scene": {
           "xaxis": {
            "backgroundcolor": "#E5ECF6",
            "gridcolor": "white",
            "gridwidth": 2,
            "linecolor": "white",
            "showbackground": true,
            "ticks": "",
            "zerolinecolor": "white"
           },
           "yaxis": {
            "backgroundcolor": "#E5ECF6",
            "gridcolor": "white",
            "gridwidth": 2,
            "linecolor": "white",
            "showbackground": true,
            "ticks": "",
            "zerolinecolor": "white"
           },
           "zaxis": {
            "backgroundcolor": "#E5ECF6",
            "gridcolor": "white",
            "gridwidth": 2,
            "linecolor": "white",
            "showbackground": true,
            "ticks": "",
            "zerolinecolor": "white"
           }
          },
          "shapedefaults": {
           "line": {
            "color": "#2a3f5f"
           }
          },
          "ternary": {
           "aaxis": {
            "gridcolor": "white",
            "linecolor": "white",
            "ticks": ""
           },
           "baxis": {
            "gridcolor": "white",
            "linecolor": "white",
            "ticks": ""
           },
           "bgcolor": "#E5ECF6",
           "caxis": {
            "gridcolor": "white",
            "linecolor": "white",
            "ticks": ""
           }
          },
          "title": {
           "x": 0.05
          },
          "xaxis": {
           "automargin": true,
           "gridcolor": "white",
           "linecolor": "white",
           "ticks": "",
           "title": {
            "standoff": 15
           },
           "zerolinecolor": "white",
           "zerolinewidth": 2
          },
          "yaxis": {
           "automargin": true,
           "gridcolor": "white",
           "linecolor": "white",
           "ticks": "",
           "title": {
            "standoff": 15
           },
           "zerolinecolor": "white",
           "zerolinewidth": 2
          }
         }
        },
        "title": {
         "text": "Změna entropie zprávy po 15 krocích"
        },
        "xaxis": {
         "anchor": "y",
         "domain": [
          0,
          1
         ],
         "title": {
          "text": "Čas"
         }
        },
        "yaxis": {
         "anchor": "x",
         "domain": [
          0,
          1
         ],
         "title": {
          "text": "Entropie zprávy"
         }
        }
       }
      }
     },
     "metadata": {},
     "output_type": "display_data"
    }
   ],
   "source": [
    "df_message_size = create_graphs_df(res, t, 15, TableFields.MessageSize.value)\n",
    "fig = px.line(df_message_size, y=\"Value\", color='Type',\n",
    "    title=\"Změna velikost zprávy po 15 krocích\",\n",
    "    labels=dict(index=\"Čas\", Value=\"Velikost zprávy\")\n",
    ")\n",
    "fig.show()\n",
    "\n",
    "df_entropy = create_graphs_df(res, t, 15, TableFields.EntropySize.value)\n",
    "fig = px.line(df_entropy, y=\"Value\", color='Type',\n",
    "    title=\"Změna entropie zprávy po 15 krocích\",\n",
    "    labels=dict(index=\"Čas\", Value=\"Entropie zprávy\")\n",
    ")\n",
    "fig.show()"
   ]
  }
 ],
 "metadata": {
  "interpreter": {
   "hash": "2a094b558792df53015a06eccbeeb156f6e89f526088fb771785a5b12806cace"
  },
  "kernelspec": {
   "display_name": "Python 3.8.6rc1 ('venv': venv)",
   "language": "python",
   "name": "python3"
  },
  "language_info": {
   "codemirror_mode": {
    "name": "ipython",
    "version": 3
   },
   "file_extension": ".py",
   "mimetype": "text/x-python",
   "name": "python",
   "nbconvert_exporter": "python",
   "pygments_lexer": "ipython3",
   "version": "3.8.6rc1"
  },
  "orig_nbformat": 4
 },
 "nbformat": 4,
 "nbformat_minor": 2
}
