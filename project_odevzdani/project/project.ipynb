{
 "cells": [
  {
   "cell_type": "markdown",
   "metadata": {},
   "source": [
    "# Project to AKS"
   ]
  },
  {
   "cell_type": "markdown",
   "metadata": {},
   "source": [
    "## Reference \n",
    "\n",
    "- https://homel.vsb.cz/~vas218/pdf/acs/grammar.pdf\n",
    "- https://homel.vsb.cz/~vas218/pdf/acs/vasinek-thesis.pdf\n",
    "- https://homel.vsb.cz/~vas218/acs.html\n",
    "\n",
    "## Choosen task\n",
    "\n",
    "- Reduction paradox\n",
    "\n",
    "## Description\n",
    "\n",
    "- Try to reduce message and with every step maximaze entropy\n",
    "\n",
    "## Official description \n",
    "\n",
    "- **RePair - maximal anticompression - reduction paradox**\n",
    "    - Find the smallest possible representation(measured in the number of symbols) of file using the reduction paradox which leads to the largest increase of zero order entropy representation.\n",
    "    - Heuristics - largest first, random\n",
    "    - Describe the algorithm and summarize results to a .doc(x) or .pdf report.\n",
    "    - Prepare a presentation for 10 minutes about your method.\n",
    "    - Literature: Vasinek, Dissertation thesis (Chapter 5)\n",
    "\n",
    "## Steps\n",
    "\n",
    "- Load dataset\n",
    "- Can pick a subset for faster running (sample it)\n",
    "- Find every bigram and try to create rule\n",
    "- Calculate Entropy for new message\n",
    "- Need to find rule which reduces size of message but increases entropy (harder to compress)\n",
    "- Find extremes for every file\n",
    "- Show graphs"
   ]
  },
  {
   "cell_type": "code",
   "execution_count": 1,
   "metadata": {},
   "outputs": [],
   "source": [
    "import os\n",
    "import sys\n",
    "\n",
    "def adding_module_path():\n",
    "    module_path = os.path.abspath(os.path.sep.join([\"..\"]*1))\n",
    "\n",
    "    if module_path not in sys.path:\n",
    "        sys.path.append(module_path)\n",
    "\n",
    "adding_module_path()"
   ]
  },
  {
   "cell_type": "code",
   "execution_count": 2,
   "metadata": {},
   "outputs": [],
   "source": [
    "from src.load_data import get_dataset\n",
    "from src.load_data import DataSets\n",
    "import numpy as np\n",
    "import pandas as pd\n",
    "import time\n",
    "from enum import Enum\n",
    "import random\n",
    "import plotly.express as px"
   ]
  },
  {
   "cell_type": "code",
   "execution_count": 3,
   "metadata": {},
   "outputs": [],
   "source": [
    "TEST_NORMALIZATION_SIZE = 10000"
   ]
  },
  {
   "cell_type": "code",
   "execution_count": 4,
   "metadata": {},
   "outputs": [],
   "source": [
    "def load_dataset(type, normalization=None, random_pick=False):\n",
    "    data_dna, path_dna = get_dataset(type)\n",
    "    if normalization is None:\n",
    "        return data_dna, path_dna\n",
    "    if random_pick:\n",
    "        return \"\".join(np.random.choice(list(data_dna), normalization)), path_dna\n",
    "    return data_dna[0:normalization], path_dna "
   ]
  },
  {
   "cell_type": "code",
   "execution_count": 5,
   "metadata": {},
   "outputs": [],
   "source": [
    "def get_datasets(normalization=None):\n",
    "    return [\n",
    "        #(*get_dataset(DataSets.english, normalization), DataSets.english), \n",
    "        (*load_dataset(DataSets.dna, normalization), DataSets.dna),\n",
    "        #(*load_dataset(DataSets.proteins, normalization), DataSets.proteins),\n",
    "        #(*load_dataset(DataSets.sources, normalization), DataSets.sources),\n",
    "    ]\n"
   ]
  },
  {
   "cell_type": "code",
   "execution_count": 6,
   "metadata": {},
   "outputs": [
    {
     "name": "stdout",
     "output_type": "stream",
     "text": [
      "Loading C://Users//proko//Desktop//University//iv//aks//datasets\\dna\\dna.50MB\n"
     ]
    }
   ],
   "source": [
    "test_datasets = get_datasets(TEST_NORMALIZATION_SIZE)"
   ]
  },
  {
   "cell_type": "code",
   "execution_count": 7,
   "metadata": {},
   "outputs": [
    {
     "data": {
      "text/plain": [
       "[('GATCAATGAGGTGGACACCAGAGGCGGGGACTTGTAAATAACACTGGGCTGTAGGAGTGATGGGGTTCACCTCTAATTCTAAGATGGCTAGATAATGCATCTTTCAGGGTTGTGCTTCTATCTAGAAGGTAGAGCTGTGGTCGTTCAATAAAAGTCCTCAAGAGGTTGGTTAATACGCATGTTTAATAGTACAGTATGGTGACTATAGTCAACAATAATTTATTGTACATTTTTAAATAGCTAGAAGAAAAGCATTGGGAAGTTTCCAACATGAAGAAAAGATAAATGGTCAAGGGAATGGATATCCTAATTACCCTGATTTGATCATTATGCATTATATACATGAATCAAAATATCACACATACCTTCAAACTATGTACAAATATTATATACCAATAAAAAATCATCATCATCATCTCCATCATCACCACCCTCCTCCTCATCACCACCAGCATCACCACCATCATCACCACCACCATCATCACCACCACCACTGCCATCATCATCACCACCACTGTGCCATCATCATCACCACCACTGTCATTATCACCACCACCATCATCACCAACACCACTGCCATCGTCATCACCACCACTGTCATTATCACCACCACCATCACCAACATCACCACCACCATTATCACCACCATCAACACCACCACCCCCATCATCATCATCACTACTACCATCATTACCAGCACCACCACCACTATCACCACCACCACCACAATCACCATCACCACTATCATCAACATCATCACTACCACCATCACCAACACCACCATCATTATCACCACCACCACCATCACCAACATCACCACCATCATCATCACCACCATCACCAAGACCATCATCATCACCATCACCACCAACATCACCACCATCACCAACACCACCATCACCACCACCACCACCATCATCACCACCACCACCATCATCATCACCACCACCGCCATCATCATCGCCACCACCATGACCACCACCATCACAACCATCACCACCATCACAACCACCATCATCACTATCGCTATCACCACCATCACCATTACCACCACCATTACTACAACCATGACCATCACCACCATCACCACCACCATCACAACGATCACCATCACAGCCACCATCATCACCACCACCACCACCACCATCACCATCAAACCATCGGCATTATTATTTTTTTAGAATTTTGTTGGGATTCAGTATCTGCCAAGATACCCATTCTTAAAACATGAAAAAGCAGCTGACCCTCCTGTGGCCCCCTTTTTGGGCAGTCATTGCAGGACCTCATCCCCAAGCAGCAGCTCTGGTGGCATACAGGCAACCCACCACCAAGGTAGAGGGTAATTGAGCAGAAAAGCCACTTCCTCCAGCAGTTCCCTGTCTGAGCTGCTGTCCTTGGACTTGAAGAAGCTTCTGGAACATGCTGGGGAGGAAGGAAGACATTTCACTTATTGAGTGGCCTGATGCAGAACAGAGACCCAGCTGGTTCACTCTAGTTCGGACTAAAACTCACCCCTGTCTATAAGCATCAGCCTCGGCAGGATGCATTTCACATTTGTGATCTCATTTAACCTCCACAAAGACCCAGAAGGGTTGGTAACATTATCATACCTAGGCCTACTATTTTAAAAATCTAACACCCATGCAGCCCGGGCACTGAAGTGGAGGCTGGCCACGGAGAGAGCCAGGCAATCACTGGCTTTTCCTTAGACAGAGAGCTGGTTCCTAGGAGAAGAAGCTCCAGGCTGGGGTCCAGGCTATGACCCAACTGTTCAGTTTTGCAACATCCAGCATGGCTGCCTGATCAGGGGTGCATATGTCAGAGGAGCCTTCAGCTGGGAAGTGCTGACAAATGACCCAGACCTGACCTGCCCGATGCCAAGGCCTCCTTTAGTACATCCCATGGAGGACACTTGAGACAAAGTCACAGCTCAGCCCGTTGATTTCCCATGCTCTGACTGTGCGGTGCAGCAGGACCCCTAGCAGGCAGCATGTGTTCAAGGCAGCGATATCCAAATGCTATGAATTGCTGTCCTGATGGTTATTTTCCTGCATACAGTAGAGCTGATCCCTGTACAATGCTGGTCCTAAATCTCACCTTTGACAGTGCGCTGATGTGCAATGTTTGCTTTTGTTTTATTTGATGGAACATGGCTAATTGCTAAGAAGGTGACATGCTGCCCACTGACCACCCAATGTTCATTCTCCTCTTCTTCCTTACTAACAAAACTGCGGTGGTGGTGGTGAGGAGAGGGAGGGGGTATAACAAATGTGCCAAGCCAAGAGTTTATATTTGCAAGCCTCTCTTATACCTAGAGTTGATCGTGACACAGCTCTGGCCAATGATGTGTAAGCAGAAGTTGCTTGATGTGACTTCTGGCAAAGCTCTTAAGGAGAGGACTGACCTGTTTCCACATATCTTTTTCCTTTCCGTGTCCTTAGTCCTGGCTGGGATGCAGATGAGATGCAAAAGGTGGAGCAGCCATGTTGTCATCAGGCAGTAACAGGTCTGAGGGTAGAAGCTGCATTCTGATAATACCAGGGAAAAATAATACAAGTAGTCTAGGGCCCAGAGATATCACAGATGTCCATTTGAACCCCAAATTACCTGTCTCCAGATTTGCTATCAGGCAAGAAAAGGAAATCTTTCATTAGTTTAAGCTGTAGTTTACTCCAGTTTTCTATAACTTTCGGCCAGATATAACCCTAAATTGACAAAGGGGGCAAGTGCTTAACTGCAAAGCAGTTAAAACTCAAACACAGGCCTTCATTTCTTCAGGGTTTTAGTTTTTTCTAGGGAAGAATCTTAACTACTGCTACTAAAAGTTATAGTAGGCCAGGGATGGTGACTCACGCCTGTAATCTCAGCACTTTGGAAGCCCAGGCAGGTGGATCACCTGAGGTCAGGAGTTCAAGACCAGCCTGGCCAACGTGGTGAAACCCCATCTCTACTAAAAATACAAAAATTAGCCAGGCATGATGGTGCATGCCTGTAGTCACACCTACTCAGGAGGCTGAGTCAGGAGAATAGCTTGACCCAGGAGGCAGAGGTGGCAGTGAGCCAAGATCGCACCACTGCACTCCAGCCTGGGCGACAGAGCAAGACTCTGTCTCAAAAAAAAAAAAGTCATAATCAAAGAGGAAGACTGAGATAAATGTAGAGTCAAAGGGCTAAACAGAAACATAACACATGGGTTTTAAGCTAAGCCTTCACATTATCCCTTATACAATTTTATCTACACCGATTTCACCAAAGCTCAAAGTTATATTATTGGCTGAGATTGGCATTGGGATGGAGTGGTGAAGCTAAGAAATTCGTTATCCCTTTGTTCCAGTGCTGCTGGACTTTTCACTAAGTGAAGAGGTAAATGCTGAGTCTCCCAGGAGGCTGACTCCTCCTGGCTCTGGGTGTGCATTCTGATGAAGGTTCTTTATTGTAGGCACCAACAGAAGGCTCATGAGAGGGCAACATGGATCTCCATTTCTGAGCAGATGTTTAAACGCTGAATCAGGTCCAAGGCTTCCCAAATGAACTCAAGGAGTTTCTTTTTCCCAAGCCATAGAAAGTGGCGATAGCAATCCAGGGTCTGCACTGGGAAGGAGCACTGCCAGGACACGTCCCTCCCTGCCATTCCCCCACCCTCGCCCAGGAGACGTCCCTCCCTGCCACCACACAGGACACATCCCTCCTTGCCATCCCACCCCCCTTCCCAGGACACGTCCCTCCCTGCCATCCCATCCCATTCCCCCACAAGGACACGTCCCTCCCTGTCATCCCACCCCCCTTCTCAGGACACATCCTTCCCTGCCATCCCACACCCCCCCCAGGACACGTCCCTCCCTGCCATCCCACGCCTCCCCCCAGGACACATCCCTCCCTGCCATCCCACCCCGCCCCCCAGGACACACAGGTCCGTGAAATCAGTATAGACACTTGTATCAAGCAAGAAGAAGCATGTTACTCAGAAGAACACAATTTTGTTGTTTTGTTTTTGTTTCTGGGTTTTGGTTGTTTTTTTTGTTTTTTTTTTTGGGGAATTAAACAAATAATTTCAAGTTCTACCTCCACCACCTACCAGCTGCATGATCTTAGACCATTGACATCACCTCCCTGACCGTGATTTTCACATCTAGAGAATGGGAGGGGAAGAACCATGCCTTGGGGGCCAGGCTGAGGATGAACTATGAAAACCCGTCCTATTGGGCACTCTCGAACAGTCACCATTGTTGGTATGAGGCCCACTATCAGTGAAACTGATTGAAATTGGTGTACATCTGAGACCTGAGGACAGCCATCAAGTGTCTATTAACTTAAGCTTTATGTAGCAAGCATTTATTGCACATGATCCTAGGTCCCAAGTATGCTTCGGTAAATTAAACACCCTTGGTCCCTGCCCTCACAAGCCGTTCATAATCTAGACAGATACATAAGATATAAATGCACAATTGTTCATTGAAAATCTCCGAAGTCACTGGCTATTTTCTGTGGTTCTCGGCACCATCACCACCCTTCCAAATTCTCTCCTGTTCTCAGGGGTTAGAAACCTGCAAACTACATTCCCTAGACTTCCTTGCCTGTAGGAGCAAAATGATCCCATGTATTACTGCGAAATGGTAGTGTCTGGGTCCCAGAAGACAGTTAGTAGAATCAGAATGTAGGAAAGTGTGTGCCACAGCCACACATGTTCATGATAGTCATAACTTGTTCAGTAGGAATTTAGAGAAGACTGACTGTACACAAGGTATTGCTAAATGCTATGCGGGATACAGAGATGCCTGTGCCTCTAAGAAACTTGGTAGAAAAATAATAACCCACACATATTTGGCTTACCTTCTCTTTGAATAGAGCAATTGGCAGTTTAGATTCAGTCATTCTTCAATTCATTTAGCCAAAATTTATTCTGTGATGGCTGAATCCAACAAATGAAGTCTCTACTCTCATATTATTTTCCATTTTGTTCCACTGAATTTCAGCAAACATAGACCAGACAAGCATCCCTTTGAAACCTGGACTTGGGATGAGGGTCTGCTGAGATTGGGTTTTCTCCATGCCCAGATGCCTCTGATCAAATATCAAGTCCCAAAGATACAGATGAGAAAGTTATTAAGTGTTCTGGGATTGGGACATCGGAGATATTAATTAACCCTGGCTTGAGATGGGAAGAGGGGGCAGGTAGCTTTCTTTGTGTAGTGTTTAGGAAGGTGATTGCCAATCTAGGAGAAGTGAGTTCCCCAGAGGGAGGGGGGCTCTTGGCCAGCAGGGTGACCCATATGTTCTGGTCTGCCTGGAGCTGTGGTCCTTGGGTTCACAGCGGCCCCTTTGCACTCAAAGCACCCTAGCTTGGACAATAAATTCTACAGTCAGTTCTGCAGTGACGATCTTCAATTCCTAGGGCTGCCATAAGAGAAGATCATAGACTAGGGGTGGTACACGACAGAAATTCATCTTCTCCCAGTTCTGGAGCCTGAAAATCCAAAACAAGGTGCTGTCAGGGTTGGATTCTCCTTGGGCCTCTCTTCTTGGCTTGCAGGTGGCTGTCTTCTGGCTGTGTCCTCGTGTGTCCCCAACATCCCCCTGTGTGTGTGTGCAACCCTTATGTCTCTTCCTCTGCTCATAAGAAAACAGTCCTATAGGACTAGGACCACATTCTTATGGCCTCATTTAACCTTAATTACCTCCTTTAGGGCCCTGTCTCCAAATATGTTCAGTGGAGGTTTGGGGCTTTGGCATATGAGTCTTTGGAGGCCACAGTTCTGTCCAGAACACACTGACCCTATCCACCAGGTACTGCCACACCAATGGCTTTCAGCATTAGACAGAGCCCCCCTGGGCTCTGTAACCCCACCCAGGGTGTTAAGAATGAGGAGTGAAAGTCCACACATGTACACACATGTTAATAGCAGCATTATGCGCAACAGTCAAACAGTGGACACACCCAAATGCCCATCAGTGGATGATGGATACATGCAAGGTGATTTATCCAGACAGTGGCATCATATTCTGTGGCCGGAAACAGGAGGGGAACGCTGACACTTGGCACAACACGGAAGACCTTTGAAAACATATTGCAGCAGATTGAATGAAAAAACAGAGAGAAGAATCCAGCCGCCTCATATAATTTCTTTTTAACTTGCAAATGTTATTTTTAATCAAAATGTTATTTACATGGCACTGAGTGTACGGACAACCTTTGAAAACATGGTGCTGAGTGTAAGAACCAAACAGGAAAGGCCACGTGTTGTTCATTGATAGGAAATGTCCAGAATAGGATGTTCTAAAGAGACTGAGAATGGATAAGTGGCTGCTTAAGTGGGGGGGTGGAAGGAGGATAGAAGAGTGATAGCTAAAGGGCACAGTTTCTTTCTGAGGTGATGGTATGTTCCAAAATTGACATTGGTGATGGTTGCACACACTGCAGATACACCAAAATCCACCAAGTTAAATTGAAATGCACACTTTACACTATTGAATTATATACTTTAAGTGGCTGAATTGTATAGCATATGAATTACATTTCAATAAAGCCTTTTAAATAAATCATGCATGGGTAAAATGTCCACTCAAAGTAAGATAAACCAGCGCATTGTAATGTAATAGAGTACAAAATGCATGGGTATGGAATTCCACTTACAACCCATCATTAATCAACCACTACTTATCAAAGAAACCCCAACTTGTCAAATTTCAGTGTGATGTCAAACAAGATACCCAGTGTTACCTGAGAAGGCTAGTAAGACACTCATCTCTTTTCAAACTACTTGGAAGTATGAGGCCAGGTTCTTTTCCTATTCTTCAACCAAAACAATGTATTGCAACAGATTGAATGAAAAAAACAGAGAGAAGAATCCAGCTGCCTCATGTAATTTCTTTTTAATTTGGAAATGGTATTTTTAATCAAAATGTTATTTACATTAGCAATAATAATTTTTTTTAAAAAAGAATGAGGCTTGAGACGGAGACTCAGTGGCTGTGTCTACCGGCCTCAGTTGTAAAACAAGCACTGTTCATCCCGAGCCGACATAGCTGCTCATTCACTCATTCAAAAATAATCTTTGAACACCCGCTCTGTGATGAGGTGATGATGATGATGACGATGATGATGGTATCAGTACTGGCTAATATAATAAACTAGCTACTATGTGCCAAATGGTTTCTCAATCTGAGCCATTTAACCCCCACAGCAGCCCTGGAAAGTAAGAATCGTTACTAGCTCTAGGAGGCAGCCCCAGGGATAGGTCTGCGGTGCGTGTTCCAGAGTCGGGAGCCCTGGCCGAGGTCTGCGCTGGCTTTTTCCTCCCTGGGTGACCTGCACAAGAGGCAGGAGGTTAGCTGTCTGCTGCTACGGCTAACACACAGGCTCTCCTCATGGGGCTTGGGGAGGTGGATAAATTACTGTTCCTAATGTTTTTAGTGTGACTGAAGTGCTGGCCACTCAGTCACTCGTTTGCCCTTTCACTCATTCATTCATTCCTTCATTCAGTGATATATGAAGTGCCCACCGTGAGCCAGAGTGAGACGCTTTCCTGAGATCCCAGGATTTCTTAAACAAAATACACAAAGCACTTACGTAAAAGATCGATACACTGATTGCATTAAAATTAAGAACTTCTGTTTATCAAAAATTCCTTCAAGAAAATGAAGACAAGCTACAAACTGGGAGAAGATATTTCCAACATGTGTAATTGAAAAAACATTAATATTAATTATATATATATATGTGTACGTATATAATGTGTATATATGTGTGTGTGTGTATGTATATTTTCATATTTAAAACCAGACATCATTAATGCAAAGATAAATGCACCAATCAGAAAGTGAACAAAAATATAGAAACAGACATTTCACAAGAGAGAAAATATAGCTGGCCAATAAACATTTGAAGAAAAACCCAACTTAATTAGTAATTAGGTTAAGTGAAAAAAAGCAAGTACCGGAAGACTACATGCAGCATGATATTCTTTCTCAAAATAAAGGCTAGAAAATCAGATAAGATAAATAATATGCTCTGAGGCATCCATGTAGATATAACACAGCTATTTTCAGAGAAGGAATGATCAGCACTAACTTCTGTAGAAGTTTATAGGCACATGCAAGTTAGTTTGCTAGTTCCTGGGTGGCATGGTGGATTCATGGGAGTGCCTTGTGTTGTTAAAAATAAAGAAACTAGGCCTGGTTTGGTGGCTCATGCCTGAATCCCAACATTTTGGGAGGCTGAGAAGGAGGATTGCTTGAGCCCAGAAGTTTGAGACCAGCCTGGACAACGTGGTGAAACCCGTCTCTACAAAAATACAAAAATTAGCTGGGTGTGGTGGTGCACACCTGTGGTCCCAGCTACTTGGCAGCCTGAGGTGGGAGGTACACTTGAGGCCAGGAGGTCAAAGCTGCAATAAGCCGAGATCACCCCACTGTACTCCAGTCTTGGTGATAGAGTGAGACCCTGTCTCAAAAAAATAAATAAATAAAATAAAGAAACTAAAAATAACAACAATGATGATAATAATAATAATAGACTAGGCACAGTGGTTTACACCTGTATTCCCAGCACTTTGGGAGGCCGAGGCAGGCAGATCACTTGAGGTCAGGAGTTGAAGATCAGCCTGGCCAACATGGCGAAACCTCGCCTCTACTAAAAATACAAAATTAGGCCCGGTGCGGTGGCTCACACCTGTAATCCCTGCACTTTGGGAGGCGAGGTGGGTGGATCACCTGAGGTCAGGAGTTCGAGGCCAGCCTGGCCAACATGGCGAAACCCTGTCTCTACTAAAAAAAAAAGAAAAAGAAAAAATTAGCCAGACGTGGTGGCGGGTGCCAGTAATCCCAGCTACTTGGGAGGCTGAGGGAGGAGAATTGCTTAAACCCCGGTAGGCAGAAGTTGCAGCGAGCCGAGATCACACCACTGCACTCCAGCCTGGGTGAAACGCTCTCTCAAAAAAAAAAAAAAAAAAAAAAAAAAAAAAAAGTCAGGAATGGTGGCATGCGCCTGTAATCCCAGCTACTTAGGAGGATGAGAATCACTTGAACCTGGGAGGCAGAGGCTGCAGTGAGCCAAGATAGTGCTACTGCACTCCAGCCTGGGCAACAGAGCTAGACTCTGTCTCAAAAAAATAGTAATAATAATAGCAAAAGAGGGCCAGGCATGGCTGGCGAGTCATGAACCCAGGCGTGGCATTCCTCAAATTATGTGCACCTAAAGTCTGCGAAGGGAAACAAACAAGAATTCAAAAAGCAAGACACCCCGGGGGTTCTCTGTCCTTCCTTCCCTGCACTCAGTCTGCGTCCTGAGCAGCAACAGTGCTGACCCCATAAGCCTCGGCCAGCAGGTAAGGGTCACCTTCTCTTCCCTGCACTGAGGTTCCCAATGGAGACCAGGAAGTGAAGTGATTTCTAAGGGTTTCCTGTGAGGTCAGGAATCAAGATGGAATCATTGCCTCATCCTCTGTTAACCAGAAAATTCTCTAAGCCAAACCCTCCCATAGCCTCTGGTCTCTTCACTCAGCCGAGGGTTCCCTTGTGTTTAGAGGGCAAGGTGGGCTCTGTTTCCTCCCACTGGGATGGAGGAGTCAGAAAACTCACCTTACCCCGTTTGCCCCCGACAGTGCCACGTTACAAAAGTTGCCCAACTTCCTTAAATAATCCTGTCACTTCCTCCTCATTTGCCTCTGACGCATGAGAGCCTGGGAAACCCCAAGTCGCTTGCTGTAGGGCCTGCAGGAGGGCCTCCACCCCGACCCTGCACAGGACAGGGGAAGGGAGAACACCCAGGGAACTGAATCTTGAAACGCACAAAGGGAACACCGTACGGCCGTCTTTTCAAGGCCATTTCCCACAGAGAGCGTGCAAAAATAAGTGTCCTGGCTGGAGAGCACATTCCAGCTCCAAAGGCTCTGTTCCTTTTACTTTCTCCCGCGATTACTCTTATTTTTCTGCAGCTCAACAAGGACGGTCCGCTGATGTGAGCATCTTGTGATTTCTCCCCCAGCGCAGCCTGCCTGGCAGC',\n",
       "  'C://Users//proko//Desktop//University//iv//aks//datasets\\\\dna\\\\dna.50MB',\n",
       "  <DataSets.dna: 'dna'>)]"
      ]
     },
     "execution_count": 7,
     "metadata": {},
     "output_type": "execute_result"
    }
   ],
   "source": [
    "test_datasets"
   ]
  },
  {
   "cell_type": "code",
   "execution_count": 8,
   "metadata": {},
   "outputs": [],
   "source": [
    "data_test, data_path, data_type = test_datasets[0]"
   ]
  },
  {
   "cell_type": "code",
   "execution_count": 9,
   "metadata": {},
   "outputs": [],
   "source": [
    "def filter_func(dic):\n",
    "    items = list(filter(lambda x: x[1] > 1, dic.items()))\n",
    "    res = dict(items)\n",
    "    return res"
   ]
  },
  {
   "cell_type": "code",
   "execution_count": 10,
   "metadata": {},
   "outputs": [],
   "source": [
    "def find_k_grams_freq(data, max_size_k=2, filter_func=filter_func):\n",
    "    \n",
    "    kgrams_dic = {}\n",
    "\n",
    "    for k in range(2, max_size_k+1):\n",
    "\n",
    "        for i in range(len(data) - k):\n",
    "\n",
    "            n_gram = data[i:i+k]\n",
    "            \n",
    "            kgrams_dic[n_gram] = kgrams_dic.get(n_gram, 0) + 1\n",
    "    \n",
    "    return filter_func(kgrams_dic)"
   ]
  },
  {
   "cell_type": "code",
   "execution_count": 11,
   "metadata": {},
   "outputs": [
    {
     "data": {
      "text/plain": [
       "{'GA': 586,\n",
       " 'AT': 716,\n",
       " 'TC': 616,\n",
       " 'CA': 968,\n",
       " 'AA': 879,\n",
       " 'TG': 705,\n",
       " 'AG': 702,\n",
       " 'GG': 558,\n",
       " 'GT': 475,\n",
       " 'AC': 640,\n",
       " 'CC': 751,\n",
       " 'GC': 468,\n",
       " 'CG': 122,\n",
       " 'CT': 634,\n",
       " 'TT': 674,\n",
       " 'TA': 504}"
      ]
     },
     "execution_count": 11,
     "metadata": {},
     "output_type": "execute_result"
    }
   ],
   "source": [
    "find_k_grams_freq(data_test)"
   ]
  },
  {
   "cell_type": "code",
   "execution_count": 12,
   "metadata": {},
   "outputs": [],
   "source": [
    "import math\n",
    "from collections import Counter\n",
    "\n",
    "def calc_freq(content):\n",
    "    c = Counter(list(content))\n",
    "    return c\n",
    "\n",
    "def calc_p(counter, n):\n",
    "    counter = dict(counter)\n",
    "    res = {}\n",
    "    for k, v in counter.items():\n",
    "        res[k] = v / n  \n",
    "    return res\n",
    "\n",
    "def get_n(counter):\n",
    "    counter = dict(counter)\n",
    "    return np.sum(list(counter.values()))\n",
    "\n",
    "def calc_H(p):\n",
    "    H = 0\n",
    "    for k, v in p.items():\n",
    "        #Shannon equation!\n",
    "        H += p[k] * math.log2(p[k])\n",
    "    return -H\n",
    "\n",
    "def calc_entropy_for_message(message):\n",
    "    counter = calc_freq(message)\n",
    "    n = get_n(counter)\n",
    "    p = calc_p(counter, n)\n",
    "    H = calc_H(p)\n",
    "    return H"
   ]
  },
  {
   "cell_type": "code",
   "execution_count": 13,
   "metadata": {},
   "outputs": [],
   "source": [
    "all_chars_uni = tuple(chr(i) for i in range(32, 0x110000) if chr(i).isprintable())\n",
    "all_chars_ascii = list(range(0, 256))\n",
    "all_chars_ascii = [chr(ascii_char) for ascii_char in all_chars_ascii]\n",
    "def find_not_existing_character(current_alpahbet, gen_chars=all_chars_uni):\n",
    "    can_use = set(gen_chars).difference(set(current_alpahbet))\n",
    "    ascii_picked_char = random.choice(list(can_use))\n",
    "    return ascii_picked_char"
   ]
  },
  {
   "cell_type": "code",
   "execution_count": 14,
   "metadata": {},
   "outputs": [
    {
     "data": {
      "text/plain": [
       "'쎪'"
      ]
     },
     "execution_count": 14,
     "metadata": {},
     "output_type": "execute_result"
    }
   ],
   "source": [
    "find_not_existing_character(['A', 'C', 'G', 'T'])"
   ]
  },
  {
   "cell_type": "code",
   "execution_count": 15,
   "metadata": {},
   "outputs": [
    {
     "data": {
      "text/plain": [
       "1.9895772725667296"
      ]
     },
     "execution_count": 15,
     "metadata": {},
     "output_type": "execute_result"
    }
   ],
   "source": [
    "calc_entropy_for_message(data_test)"
   ]
  },
  {
   "cell_type": "code",
   "execution_count": 16,
   "metadata": {},
   "outputs": [],
   "source": [
    "def diff_entropy(message1, message2):\n",
    "    message1_entropy = calc_entropy_for_message(message1)\n",
    "    message2_entropy = calc_entropy_for_message(message2)\n",
    "    message_1_entropy_size = message1_entropy * len(message1)\n",
    "    message_2_entropy_size = message2_entropy * len(message2)\n",
    "\n",
    "\n",
    "    diff = message_1_entropy_size - message_2_entropy_size\n",
    "    return diff"
   ]
  },
  {
   "cell_type": "code",
   "execution_count": 17,
   "metadata": {},
   "outputs": [
    {
     "data": {
      "text/plain": [
       "0.0"
      ]
     },
     "execution_count": 17,
     "metadata": {},
     "output_type": "execute_result"
    }
   ],
   "source": [
    "diff_entropy(data_test, data_test)"
   ]
  },
  {
   "cell_type": "code",
   "execution_count": 18,
   "metadata": {},
   "outputs": [],
   "source": [
    "def transform_message(message, ngram_for_replace):\n",
    "    current_alphabet_size = np.unique(list(message))\n",
    "\n",
    "    replace_character = find_not_existing_character(current_alphabet_size)\n",
    "    \n",
    "    return message.replace(ngram_for_replace, replace_character), replace_character"
   ]
  },
  {
   "cell_type": "code",
   "execution_count": 19,
   "metadata": {},
   "outputs": [],
   "source": [
    "def calculate_for_ngrams_diff(ngrams, message, method_entropy=diff_entropy, init_message=None):\n",
    "    res = {}\n",
    "    \n",
    "    for k, v in ngrams.items():\n",
    "        res[k] = {\n",
    "            \"Counter\": v,\n",
    "            \"Diff\": method_entropy(message, transform_message(message, k)[0])\n",
    "        }\n",
    "    return res"
   ]
  },
  {
   "cell_type": "code",
   "execution_count": 20,
   "metadata": {},
   "outputs": [
    {
     "data": {
      "text/html": [
       "<div>\n",
       "<style scoped>\n",
       "    .dataframe tbody tr th:only-of-type {\n",
       "        vertical-align: middle;\n",
       "    }\n",
       "\n",
       "    .dataframe tbody tr th {\n",
       "        vertical-align: top;\n",
       "    }\n",
       "\n",
       "    .dataframe thead th {\n",
       "        text-align: right;\n",
       "    }\n",
       "</style>\n",
       "<table border=\"1\" class=\"dataframe\">\n",
       "  <thead>\n",
       "    <tr style=\"text-align: right;\">\n",
       "      <th></th>\n",
       "      <th>Counter</th>\n",
       "      <th>Diff</th>\n",
       "    </tr>\n",
       "  </thead>\n",
       "  <tbody>\n",
       "    <tr>\n",
       "      <th>GA</th>\n",
       "      <td>586</td>\n",
       "      <td>-686.909129</td>\n",
       "    </tr>\n",
       "    <tr>\n",
       "      <th>AT</th>\n",
       "      <td>716</td>\n",
       "      <td>-794.272380</td>\n",
       "    </tr>\n",
       "    <tr>\n",
       "      <th>TC</th>\n",
       "      <td>616</td>\n",
       "      <td>-679.714642</td>\n",
       "    </tr>\n",
       "    <tr>\n",
       "      <th>CA</th>\n",
       "      <td>968</td>\n",
       "      <td>-488.571041</td>\n",
       "    </tr>\n",
       "    <tr>\n",
       "      <th>AA</th>\n",
       "      <td>879</td>\n",
       "      <td>-753.006409</td>\n",
       "    </tr>\n",
       "    <tr>\n",
       "      <th>TG</th>\n",
       "      <td>705</td>\n",
       "      <td>-393.334248</td>\n",
       "    </tr>\n",
       "    <tr>\n",
       "      <th>AG</th>\n",
       "      <td>702</td>\n",
       "      <td>-586.882909</td>\n",
       "    </tr>\n",
       "    <tr>\n",
       "      <th>GG</th>\n",
       "      <td>558</td>\n",
       "      <td>-314.800226</td>\n",
       "    </tr>\n",
       "    <tr>\n",
       "      <th>GT</th>\n",
       "      <td>475</td>\n",
       "      <td>-611.867113</td>\n",
       "    </tr>\n",
       "    <tr>\n",
       "      <th>AC</th>\n",
       "      <td>640</td>\n",
       "      <td>-831.446036</td>\n",
       "    </tr>\n",
       "    <tr>\n",
       "      <th>CC</th>\n",
       "      <td>751</td>\n",
       "      <td>-415.725768</td>\n",
       "    </tr>\n",
       "    <tr>\n",
       "      <th>GC</th>\n",
       "      <td>468</td>\n",
       "      <td>-607.678057</td>\n",
       "    </tr>\n",
       "    <tr>\n",
       "      <th>CG</th>\n",
       "      <td>122</td>\n",
       "      <td>-421.589100</td>\n",
       "    </tr>\n",
       "    <tr>\n",
       "      <th>CT</th>\n",
       "      <td>634</td>\n",
       "      <td>-666.101564</td>\n",
       "    </tr>\n",
       "    <tr>\n",
       "      <th>TT</th>\n",
       "      <td>674</td>\n",
       "      <td>-552.683862</td>\n",
       "    </tr>\n",
       "    <tr>\n",
       "      <th>TA</th>\n",
       "      <td>504</td>\n",
       "      <td>-873.944409</td>\n",
       "    </tr>\n",
       "  </tbody>\n",
       "</table>\n",
       "</div>"
      ],
      "text/plain": [
       "    Counter        Diff\n",
       "GA      586 -686.909129\n",
       "AT      716 -794.272380\n",
       "TC      616 -679.714642\n",
       "CA      968 -488.571041\n",
       "AA      879 -753.006409\n",
       "TG      705 -393.334248\n",
       "AG      702 -586.882909\n",
       "GG      558 -314.800226\n",
       "GT      475 -611.867113\n",
       "AC      640 -831.446036\n",
       "CC      751 -415.725768\n",
       "GC      468 -607.678057\n",
       "CG      122 -421.589100\n",
       "CT      634 -666.101564\n",
       "TT      674 -552.683862\n",
       "TA      504 -873.944409"
      ]
     },
     "execution_count": 20,
     "metadata": {},
     "output_type": "execute_result"
    }
   ],
   "source": [
    "r = calculate_for_ngrams_diff(\n",
    "        find_k_grams_freq(data_test),\n",
    "        data_test,\n",
    "        diff_entropy,\n",
    "        data_test\n",
    "    )\n",
    "\n",
    "pd.DataFrame.from_dict(\n",
    "    r, \n",
    "    orient=\"index\"\n",
    ")"
   ]
  },
  {
   "cell_type": "code",
   "execution_count": 21,
   "metadata": {},
   "outputs": [
    {
     "data": {
      "text/plain": [
       "{'GA': {'Counter': 586, 'Diff': -686.9091292880221},\n",
       " 'AT': {'Counter': 716, 'Diff': -794.2723799380256},\n",
       " 'TC': {'Counter': 616, 'Diff': -679.7146417421354},\n",
       " 'CA': {'Counter': 968, 'Diff': -488.5710412647459},\n",
       " 'AA': {'Counter': 879, 'Diff': -753.0064090554151},\n",
       " 'TG': {'Counter': 705, 'Diff': -393.33424757568355},\n",
       " 'AG': {'Counter': 702, 'Diff': -586.882908578893},\n",
       " 'GG': {'Counter': 558, 'Diff': -314.80022619213923},\n",
       " 'GT': {'Counter': 475, 'Diff': -611.8671131922092},\n",
       " 'AC': {'Counter': 640, 'Diff': -831.4460359297373},\n",
       " 'CC': {'Counter': 751, 'Diff': -415.72576803416814},\n",
       " 'GC': {'Counter': 468, 'Diff': -607.6780573412434},\n",
       " 'CG': {'Counter': 122, 'Diff': -421.589100361467},\n",
       " 'CT': {'Counter': 634, 'Diff': -666.1015642405691},\n",
       " 'TT': {'Counter': 674, 'Diff': -552.6838623637159},\n",
       " 'TA': {'Counter': 504, 'Diff': -873.9444092367921}}"
      ]
     },
     "execution_count": 21,
     "metadata": {},
     "output_type": "execute_result"
    }
   ],
   "source": [
    "r"
   ]
  },
  {
   "cell_type": "code",
   "execution_count": 22,
   "metadata": {},
   "outputs": [
    {
     "data": {
      "text/plain": [
       "dict_items([('GA', {'Counter': 586, 'Diff': -686.9091292880221}), ('AT', {'Counter': 716, 'Diff': -794.2723799380256}), ('TC', {'Counter': 616, 'Diff': -679.7146417421354}), ('CA', {'Counter': 968, 'Diff': -488.5710412647459}), ('AA', {'Counter': 879, 'Diff': -753.0064090554151}), ('TG', {'Counter': 705, 'Diff': -393.33424757568355}), ('AG', {'Counter': 702, 'Diff': -586.882908578893}), ('GG', {'Counter': 558, 'Diff': -314.80022619213923}), ('GT', {'Counter': 475, 'Diff': -611.8671131922092}), ('AC', {'Counter': 640, 'Diff': -831.4460359297373}), ('CC', {'Counter': 751, 'Diff': -415.72576803416814}), ('GC', {'Counter': 468, 'Diff': -607.6780573412434}), ('CG', {'Counter': 122, 'Diff': -421.589100361467}), ('CT', {'Counter': 634, 'Diff': -666.1015642405691}), ('TT', {'Counter': 674, 'Diff': -552.6838623637159}), ('TA', {'Counter': 504, 'Diff': -873.9444092367921})])"
      ]
     },
     "execution_count": 22,
     "metadata": {},
     "output_type": "execute_result"
    }
   ],
   "source": [
    "r.items()"
   ]
  },
  {
   "cell_type": "code",
   "execution_count": 23,
   "metadata": {},
   "outputs": [],
   "source": [
    "def pick_largest(items):\n",
    "    return list(sorted(items, key=lambda x: x[1]['Diff']))[0]\n",
    "\n",
    "def pick_random(items):\n",
    "    return random.choice(items)\n",
    "\n",
    "def pick_only_decreasing(dic, pick_method=pick_largest):\n",
    "    items = dic.items()\n",
    "\n",
    "    decreasing_items = list(filter(lambda x: x[1]['Diff'] < 0, items))\n",
    "\n",
    "    if len(decreasing_items) == 0:\n",
    "        return None\n",
    "\n",
    "    return pick_method(decreasing_items)    "
   ]
  },
  {
   "cell_type": "code",
   "execution_count": 24,
   "metadata": {},
   "outputs": [
    {
     "data": {
      "text/plain": [
       "('TA', {'Counter': 504, 'Diff': -873.9444092367921})"
      ]
     },
     "execution_count": 24,
     "metadata": {},
     "output_type": "execute_result"
    }
   ],
   "source": [
    "pick_only_decreasing(r, pick_largest)"
   ]
  },
  {
   "cell_type": "markdown",
   "metadata": {},
   "source": [
    "# Algorithm implementation - Reduction paradox"
   ]
  },
  {
   "cell_type": "code",
   "execution_count": 25,
   "metadata": {},
   "outputs": [],
   "source": [
    "class TableFields(Enum):\n",
    "    Rule = \"Rule\"\n",
    "    EntropyMove = \"EntropyMove\"\n",
    "    CurrentEntropy = \"CurrentEntropy\"\n",
    "    EntropySize = \"EntropySize\"\n",
    "    DataType = \"DataType\"\n",
    "    DescriptionData = \"DescriptionData\"\n",
    "    MessageSize = \"MessageSize\"\n",
    "    AlphabetSize = \"AlphabetSize\"\n",
    "    GrammaticSize = \"GrammaticSize\"\n",
    "    CalcTime = \"CalcTime\"\n"
   ]
  },
  {
   "cell_type": "code",
   "execution_count": 26,
   "metadata": {},
   "outputs": [],
   "source": [
    "def create_value(message_0, message_1, diff, replace_character, n_gram, grammatic, tic, type_data=None, description_data=None):\n",
    "    new_message_alphabet_size = len(np.unique(list(message_1)))\n",
    "    new_message_size = len(message_1)\n",
    "    new_message_entropy = calc_entropy_for_message(message_1)\n",
    "\n",
    "    new_rule = f\"{n_gram} -> {replace_character}\"\n",
    "    grammatic[n_gram] = replace_character\n",
    "\n",
    "    tac = time.time()\n",
    "    \n",
    "    return {\n",
    "        TableFields.Rule.value: new_rule,\n",
    "        TableFields.EntropyMove.value: diff,\n",
    "        TableFields.CurrentEntropy.value: new_message_entropy,\n",
    "        TableFields.EntropySize.value: new_message_entropy * new_message_size,\n",
    "        TableFields.DataType.value: type_data,\n",
    "        TableFields.DescriptionData.value: description_data,\n",
    "        TableFields.MessageSize.value: new_message_size,\n",
    "        TableFields.AlphabetSize.value: new_message_alphabet_size,\n",
    "        TableFields.GrammaticSize.value: len(list(grammatic.keys())),\n",
    "        TableFields.CalcTime.value: tac - tic,\n",
    "    }\n"
   ]
  },
  {
   "cell_type": "code",
   "execution_count": 27,
   "metadata": {},
   "outputs": [],
   "source": [
    "def algorithm_step(init_message, message, grammatic, type_data=None, description_data=None, tic=None, heuristics_method=pick_largest, optimized=False):\n",
    "    #Find ngrams\n",
    "    n_grams = find_k_grams_freq(message)\n",
    "    \n",
    "    #optimized = diff_entropy change pls use formula\n",
    "\n",
    "    diff_table = calculate_for_ngrams_diff(\n",
    "        n_grams,\n",
    "        message,\n",
    "        diff_entropy,\n",
    "        init_message\n",
    "    )\n",
    "\n",
    "    picked = pick_only_decreasing(diff_table, heuristics_method)\n",
    "\n",
    "    if picked is None:\n",
    "        return None\n",
    "\n",
    "    #('AT', {'Counter': 867, 'Diff': -0.2814694848677286})\n",
    "    n_gram, dic_values = picked\n",
    "    transformed_message, replace_character = transform_message(message, n_gram)\n",
    "    \n",
    "    return transformed_message, create_value(message, transformed_message, dic_values['Diff'], replace_character, n_gram, grammatic, tic, type_data, description_data)\n"
   ]
  },
  {
   "cell_type": "code",
   "execution_count": 28,
   "metadata": {},
   "outputs": [],
   "source": [
    "def algorithm(message, type_data=None, description_data=None, limit_step=None, heuristic_method=pick_largest, optimized=False):\n",
    "    init_message = message\n",
    "\n",
    "    res = {}\n",
    "    grammatic = {}\n",
    "    step = 0\n",
    "    step_value = create_value(init_message, init_message, 0, \"\", \"\", grammatic, time.time(), type_data)\n",
    "\n",
    "    res[step] = step_value\n",
    "    step += 1\n",
    "\n",
    "    while True:\n",
    "        tic = time.time()\n",
    "        if limit_step is not None and limit_step == step:\n",
    "            break\n",
    "        step_value = algorithm_step(init_message, message, grammatic, type_data, description_data, tic, heuristic_method, optimized)\n",
    "        if step_value is None:\n",
    "            break\n",
    "\n",
    "        else:\n",
    "            transformed_message, value = step_value\n",
    "            message = transformed_message\n",
    "\n",
    "            step += 1\n",
    "            res[step] = value\n",
    "\n",
    "    return res"
   ]
  },
  {
   "cell_type": "markdown",
   "metadata": {},
   "source": [
    "## Testing data"
   ]
  },
  {
   "cell_type": "code",
   "execution_count": 29,
   "metadata": {},
   "outputs": [],
   "source": [
    "test_result = algorithm(data_test, limit_step=20)"
   ]
  },
  {
   "cell_type": "code",
   "execution_count": 30,
   "metadata": {},
   "outputs": [
    {
     "data": {
      "text/html": [
       "<div>\n",
       "<style scoped>\n",
       "    .dataframe tbody tr th:only-of-type {\n",
       "        vertical-align: middle;\n",
       "    }\n",
       "\n",
       "    .dataframe tbody tr th {\n",
       "        vertical-align: top;\n",
       "    }\n",
       "\n",
       "    .dataframe thead th {\n",
       "        text-align: right;\n",
       "    }\n",
       "</style>\n",
       "<table border=\"1\" class=\"dataframe\">\n",
       "  <thead>\n",
       "    <tr style=\"text-align: right;\">\n",
       "      <th></th>\n",
       "      <th>Rule</th>\n",
       "      <th>EntropyMove</th>\n",
       "      <th>CurrentEntropy</th>\n",
       "      <th>EntropySize</th>\n",
       "      <th>DataType</th>\n",
       "      <th>DescriptionData</th>\n",
       "      <th>MessageSize</th>\n",
       "      <th>AlphabetSize</th>\n",
       "      <th>GrammaticSize</th>\n",
       "      <th>CalcTime</th>\n",
       "    </tr>\n",
       "  </thead>\n",
       "  <tbody>\n",
       "    <tr>\n",
       "      <th>0</th>\n",
       "      <td>-&gt;</td>\n",
       "      <td>0.000000</td>\n",
       "      <td>1.989577</td>\n",
       "      <td>19895.772726</td>\n",
       "      <td>None</td>\n",
       "      <td>None</td>\n",
       "      <td>10000</td>\n",
       "      <td>4</td>\n",
       "      <td>1</td>\n",
       "      <td>0.003999</td>\n",
       "    </tr>\n",
       "    <tr>\n",
       "      <th>2</th>\n",
       "      <td>TA -&gt; 𥄼</td>\n",
       "      <td>-873.944409</td>\n",
       "      <td>2.187207</td>\n",
       "      <td>20769.717135</td>\n",
       "      <td>None</td>\n",
       "      <td>None</td>\n",
       "      <td>9496</td>\n",
       "      <td>5</td>\n",
       "      <td>2</td>\n",
       "      <td>0.654996</td>\n",
       "    </tr>\n",
       "    <tr>\n",
       "      <th>3</th>\n",
       "      <td>AC -&gt; ằ</td>\n",
       "      <td>-739.921484</td>\n",
       "      <td>2.402775</td>\n",
       "      <td>21509.638619</td>\n",
       "      <td>None</td>\n",
       "      <td>None</td>\n",
       "      <td>8952</td>\n",
       "      <td>6</td>\n",
       "      <td>3</td>\n",
       "      <td>0.874931</td>\n",
       "    </tr>\n",
       "    <tr>\n",
       "      <th>4</th>\n",
       "      <td>GT -&gt; 𣱪</td>\n",
       "      <td>-560.433418</td>\n",
       "      <td>2.576474</td>\n",
       "      <td>22070.072037</td>\n",
       "      <td>None</td>\n",
       "      <td>None</td>\n",
       "      <td>8566</td>\n",
       "      <td>7</td>\n",
       "      <td>4</td>\n",
       "      <td>0.942739</td>\n",
       "    </tr>\n",
       "    <tr>\n",
       "      <th>5</th>\n",
       "      <td>CA -&gt; 㪖</td>\n",
       "      <td>-372.545550</td>\n",
       "      <td>2.796936</td>\n",
       "      <td>22442.617587</td>\n",
       "      <td>None</td>\n",
       "      <td>None</td>\n",
       "      <td>8024</td>\n",
       "      <td>8</td>\n",
       "      <td>5</td>\n",
       "      <td>1.207027</td>\n",
       "    </tr>\n",
       "    <tr>\n",
       "      <th>6</th>\n",
       "      <td>AT -&gt; 𦻉</td>\n",
       "      <td>-317.468805</td>\n",
       "      <td>2.936785</td>\n",
       "      <td>22760.086392</td>\n",
       "      <td>None</td>\n",
       "      <td>None</td>\n",
       "      <td>7750</td>\n",
       "      <td>9</td>\n",
       "      <td>6</td>\n",
       "      <td>1.581773</td>\n",
       "    </tr>\n",
       "    <tr>\n",
       "      <th>7</th>\n",
       "      <td>GC -&gt; 룩</td>\n",
       "      <td>-326.192303</td>\n",
       "      <td>3.117661</td>\n",
       "      <td>23086.278695</td>\n",
       "      <td>None</td>\n",
       "      <td>None</td>\n",
       "      <td>7405</td>\n",
       "      <td>10</td>\n",
       "      <td>7</td>\n",
       "      <td>1.814869</td>\n",
       "    </tr>\n",
       "    <tr>\n",
       "      <th>8</th>\n",
       "      <td>TG -&gt; 𫉠</td>\n",
       "      <td>-266.603119</td>\n",
       "      <td>3.277597</td>\n",
       "      <td>23352.881814</td>\n",
       "      <td>None</td>\n",
       "      <td>None</td>\n",
       "      <td>7125</td>\n",
       "      <td>11</td>\n",
       "      <td>8</td>\n",
       "      <td>2.198708</td>\n",
       "    </tr>\n",
       "    <tr>\n",
       "      <th>9</th>\n",
       "      <td>CG -&gt; 𭷞</td>\n",
       "      <td>-131.089595</td>\n",
       "      <td>3.313669</td>\n",
       "      <td>23483.971409</td>\n",
       "      <td>None</td>\n",
       "      <td>None</td>\n",
       "      <td>7087</td>\n",
       "      <td>12</td>\n",
       "      <td>9</td>\n",
       "      <td>2.636055</td>\n",
       "    </tr>\n",
       "    <tr>\n",
       "      <th>10</th>\n",
       "      <td>ằT -&gt; 𬚇</td>\n",
       "      <td>-106.074175</td>\n",
       "      <td>3.359927</td>\n",
       "      <td>23590.045584</td>\n",
       "      <td>None</td>\n",
       "      <td>None</td>\n",
       "      <td>7021</td>\n",
       "      <td>13</td>\n",
       "      <td>10</td>\n",
       "      <td>2.885350</td>\n",
       "    </tr>\n",
       "    <tr>\n",
       "      <th>11</th>\n",
       "      <td>G𥄼 -&gt; 𰙺</td>\n",
       "      <td>-97.776192</td>\n",
       "      <td>3.402445</td>\n",
       "      <td>23687.821776</td>\n",
       "      <td>None</td>\n",
       "      <td>None</td>\n",
       "      <td>6962</td>\n",
       "      <td>14</td>\n",
       "      <td>11</td>\n",
       "      <td>3.362929</td>\n",
       "    </tr>\n",
       "    <tr>\n",
       "      <th>12</th>\n",
       "      <td>㪖A -&gt; 𡩫</td>\n",
       "      <td>-93.819254</td>\n",
       "      <td>3.468734</td>\n",
       "      <td>23781.641030</td>\n",
       "      <td>None</td>\n",
       "      <td>None</td>\n",
       "      <td>6856</td>\n",
       "      <td>15</td>\n",
       "      <td>12</td>\n",
       "      <td>3.714957</td>\n",
       "    </tr>\n",
       "    <tr>\n",
       "      <th>13</th>\n",
       "      <td>Aằ -&gt; 𡚄</td>\n",
       "      <td>-87.736759</td>\n",
       "      <td>3.514855</td>\n",
       "      <td>23869.377789</td>\n",
       "      <td>None</td>\n",
       "      <td>None</td>\n",
       "      <td>6791</td>\n",
       "      <td>16</td>\n",
       "      <td>13</td>\n",
       "      <td>4.182230</td>\n",
       "    </tr>\n",
       "    <tr>\n",
       "      <th>14</th>\n",
       "      <td>𥄼C -&gt; 𑐃</td>\n",
       "      <td>-86.775865</td>\n",
       "      <td>3.555908</td>\n",
       "      <td>23956.153654</td>\n",
       "      <td>None</td>\n",
       "      <td>None</td>\n",
       "      <td>6737</td>\n",
       "      <td>17</td>\n",
       "      <td>14</td>\n",
       "      <td>4.583546</td>\n",
       "    </tr>\n",
       "    <tr>\n",
       "      <th>15</th>\n",
       "      <td>CT -&gt; 髪</td>\n",
       "      <td>-85.437741</td>\n",
       "      <td>3.695295</td>\n",
       "      <td>24041.591395</td>\n",
       "      <td>None</td>\n",
       "      <td>None</td>\n",
       "      <td>6506</td>\n",
       "      <td>18</td>\n",
       "      <td>15</td>\n",
       "      <td>5.376678</td>\n",
       "    </tr>\n",
       "    <tr>\n",
       "      <th>16</th>\n",
       "      <td>G㪖 -&gt; 㯻</td>\n",
       "      <td>-76.513818</td>\n",
       "      <td>3.753791</td>\n",
       "      <td>24118.105213</td>\n",
       "      <td>None</td>\n",
       "      <td>None</td>\n",
       "      <td>6425</td>\n",
       "      <td>19</td>\n",
       "      <td>16</td>\n",
       "      <td>5.861283</td>\n",
       "    </tr>\n",
       "    <tr>\n",
       "      <th>17</th>\n",
       "      <td>ằA -&gt; ꝧ</td>\n",
       "      <td>-72.762704</td>\n",
       "      <td>3.802998</td>\n",
       "      <td>24190.867917</td>\n",
       "      <td>None</td>\n",
       "      <td>None</td>\n",
       "      <td>6361</td>\n",
       "      <td>20</td>\n",
       "      <td>17</td>\n",
       "      <td>6.113569</td>\n",
       "    </tr>\n",
       "    <tr>\n",
       "      <th>18</th>\n",
       "      <td>𥄼G -&gt; ꉗ</td>\n",
       "      <td>-70.712304</td>\n",
       "      <td>3.849212</td>\n",
       "      <td>24261.580221</td>\n",
       "      <td>None</td>\n",
       "      <td>None</td>\n",
       "      <td>6303</td>\n",
       "      <td>21</td>\n",
       "      <td>18</td>\n",
       "      <td>6.664464</td>\n",
       "    </tr>\n",
       "    <tr>\n",
       "      <th>19</th>\n",
       "      <td>A𣱪 -&gt; ሓ</td>\n",
       "      <td>-63.166334</td>\n",
       "      <td>3.896323</td>\n",
       "      <td>24324.746555</td>\n",
       "      <td>None</td>\n",
       "      <td>None</td>\n",
       "      <td>6243</td>\n",
       "      <td>22</td>\n",
       "      <td>19</td>\n",
       "      <td>6.434237</td>\n",
       "    </tr>\n",
       "    <tr>\n",
       "      <th>20</th>\n",
       "      <td>Gằ -&gt; 襐</td>\n",
       "      <td>-59.038658</td>\n",
       "      <td>3.939222</td>\n",
       "      <td>24383.785214</td>\n",
       "      <td>None</td>\n",
       "      <td>None</td>\n",
       "      <td>6190</td>\n",
       "      <td>23</td>\n",
       "      <td>20</td>\n",
       "      <td>6.847818</td>\n",
       "    </tr>\n",
       "  </tbody>\n",
       "</table>\n",
       "</div>"
      ],
      "text/plain": [
       "       Rule  EntropyMove  CurrentEntropy   EntropySize DataType  \\\n",
       "0       ->      0.000000        1.989577  19895.772726     None   \n",
       "2   TA -> 𥄼  -873.944409        2.187207  20769.717135     None   \n",
       "3   AC -> ằ  -739.921484        2.402775  21509.638619     None   \n",
       "4   GT -> 𣱪  -560.433418        2.576474  22070.072037     None   \n",
       "5   CA -> 㪖  -372.545550        2.796936  22442.617587     None   \n",
       "6   AT -> 𦻉  -317.468805        2.936785  22760.086392     None   \n",
       "7   GC -> 룩  -326.192303        3.117661  23086.278695     None   \n",
       "8   TG -> 𫉠  -266.603119        3.277597  23352.881814     None   \n",
       "9   CG -> 𭷞  -131.089595        3.313669  23483.971409     None   \n",
       "10  ằT -> 𬚇  -106.074175        3.359927  23590.045584     None   \n",
       "11  G𥄼 -> 𰙺   -97.776192        3.402445  23687.821776     None   \n",
       "12  㪖A -> 𡩫   -93.819254        3.468734  23781.641030     None   \n",
       "13  Aằ -> 𡚄   -87.736759        3.514855  23869.377789     None   \n",
       "14  𥄼C -> 𑐃   -86.775865        3.555908  23956.153654     None   \n",
       "15  CT -> 髪   -85.437741        3.695295  24041.591395     None   \n",
       "16  G㪖 -> 㯻   -76.513818        3.753791  24118.105213     None   \n",
       "17  ằA -> ꝧ   -72.762704        3.802998  24190.867917     None   \n",
       "18  𥄼G -> ꉗ   -70.712304        3.849212  24261.580221     None   \n",
       "19  A𣱪 -> ሓ   -63.166334        3.896323  24324.746555     None   \n",
       "20  Gằ -> 襐   -59.038658        3.939222  24383.785214     None   \n",
       "\n",
       "   DescriptionData  MessageSize  AlphabetSize  GrammaticSize  CalcTime  \n",
       "0             None        10000             4              1  0.003999  \n",
       "2             None         9496             5              2  0.654996  \n",
       "3             None         8952             6              3  0.874931  \n",
       "4             None         8566             7              4  0.942739  \n",
       "5             None         8024             8              5  1.207027  \n",
       "6             None         7750             9              6  1.581773  \n",
       "7             None         7405            10              7  1.814869  \n",
       "8             None         7125            11              8  2.198708  \n",
       "9             None         7087            12              9  2.636055  \n",
       "10            None         7021            13             10  2.885350  \n",
       "11            None         6962            14             11  3.362929  \n",
       "12            None         6856            15             12  3.714957  \n",
       "13            None         6791            16             13  4.182230  \n",
       "14            None         6737            17             14  4.583546  \n",
       "15            None         6506            18             15  5.376678  \n",
       "16            None         6425            19             16  5.861283  \n",
       "17            None         6361            20             17  6.113569  \n",
       "18            None         6303            21             18  6.664464  \n",
       "19            None         6243            22             19  6.434237  \n",
       "20            None         6190            23             20  6.847818  "
      ]
     },
     "execution_count": 30,
     "metadata": {},
     "output_type": "execute_result"
    }
   ],
   "source": [
    "df = pd.DataFrame.from_dict(test_result, orient=\"index\")\n",
    "df"
   ]
  },
  {
   "cell_type": "code",
   "execution_count": 31,
   "metadata": {},
   "outputs": [
    {
     "data": {
      "application/vnd.plotly.v1+json": {
       "config": {
        "plotlyServerURL": "https://plot.ly"
       },
       "data": [
        {
         "hovertemplate": "index=%{x}<br>EntropyMove=%{y}<br>text=%{text}<extra></extra>",
         "legendgroup": "",
         "line": {
          "color": "#636efa",
          "dash": "solid"
         },
         "marker": {
          "symbol": "circle"
         },
         "mode": "lines+text+markers",
         "name": "",
         "orientation": "v",
         "showlegend": false,
         "text": [
          "0.0",
          "-873.9",
          "-739.9",
          "-560.4",
          "-372.5",
          "-317.5",
          "-326.2",
          "-266.6",
          "-131.1",
          "-106.1",
          "-97.8",
          "-93.8",
          "-87.7",
          "-86.8",
          "-85.4",
          "-76.5",
          "-72.8",
          "-70.7",
          "-63.2",
          "-59.0"
         ],
         "type": "scatter",
         "x": [
          0,
          2,
          3,
          4,
          5,
          6,
          7,
          8,
          9,
          10,
          11,
          12,
          13,
          14,
          15,
          16,
          17,
          18,
          19,
          20
         ],
         "xaxis": "x",
         "y": [
          0,
          -873.9444092367921,
          -739.9214842923175,
          -560.4334175307667,
          -372.54555005118164,
          -317.46880517862155,
          -326.1923034041829,
          -266.60311892627215,
          -131.08959485316518,
          -106.07417463021557,
          -97.77619238536136,
          -93.8192535860253,
          -87.73675945264404,
          -86.7758646814109,
          -85.43774104089971,
          -76.51381828860758,
          -72.762703708755,
          -70.71230447693961,
          -63.16633408465714,
          -59.03865809130366
         ],
         "yaxis": "y"
        }
       ],
       "layout": {
        "legend": {
         "tracegroupgap": 0
        },
        "template": {
         "data": {
          "bar": [
           {
            "error_x": {
             "color": "#2a3f5f"
            },
            "error_y": {
             "color": "#2a3f5f"
            },
            "marker": {
             "line": {
              "color": "#E5ECF6",
              "width": 0.5
             },
             "pattern": {
              "fillmode": "overlay",
              "size": 10,
              "solidity": 0.2
             }
            },
            "type": "bar"
           }
          ],
          "barpolar": [
           {
            "marker": {
             "line": {
              "color": "#E5ECF6",
              "width": 0.5
             },
             "pattern": {
              "fillmode": "overlay",
              "size": 10,
              "solidity": 0.2
             }
            },
            "type": "barpolar"
           }
          ],
          "carpet": [
           {
            "aaxis": {
             "endlinecolor": "#2a3f5f",
             "gridcolor": "white",
             "linecolor": "white",
             "minorgridcolor": "white",
             "startlinecolor": "#2a3f5f"
            },
            "baxis": {
             "endlinecolor": "#2a3f5f",
             "gridcolor": "white",
             "linecolor": "white",
             "minorgridcolor": "white",
             "startlinecolor": "#2a3f5f"
            },
            "type": "carpet"
           }
          ],
          "choropleth": [
           {
            "colorbar": {
             "outlinewidth": 0,
             "ticks": ""
            },
            "type": "choropleth"
           }
          ],
          "contour": [
           {
            "colorbar": {
             "outlinewidth": 0,
             "ticks": ""
            },
            "colorscale": [
             [
              0,
              "#0d0887"
             ],
             [
              0.1111111111111111,
              "#46039f"
             ],
             [
              0.2222222222222222,
              "#7201a8"
             ],
             [
              0.3333333333333333,
              "#9c179e"
             ],
             [
              0.4444444444444444,
              "#bd3786"
             ],
             [
              0.5555555555555556,
              "#d8576b"
             ],
             [
              0.6666666666666666,
              "#ed7953"
             ],
             [
              0.7777777777777778,
              "#fb9f3a"
             ],
             [
              0.8888888888888888,
              "#fdca26"
             ],
             [
              1,
              "#f0f921"
             ]
            ],
            "type": "contour"
           }
          ],
          "contourcarpet": [
           {
            "colorbar": {
             "outlinewidth": 0,
             "ticks": ""
            },
            "type": "contourcarpet"
           }
          ],
          "heatmap": [
           {
            "colorbar": {
             "outlinewidth": 0,
             "ticks": ""
            },
            "colorscale": [
             [
              0,
              "#0d0887"
             ],
             [
              0.1111111111111111,
              "#46039f"
             ],
             [
              0.2222222222222222,
              "#7201a8"
             ],
             [
              0.3333333333333333,
              "#9c179e"
             ],
             [
              0.4444444444444444,
              "#bd3786"
             ],
             [
              0.5555555555555556,
              "#d8576b"
             ],
             [
              0.6666666666666666,
              "#ed7953"
             ],
             [
              0.7777777777777778,
              "#fb9f3a"
             ],
             [
              0.8888888888888888,
              "#fdca26"
             ],
             [
              1,
              "#f0f921"
             ]
            ],
            "type": "heatmap"
           }
          ],
          "heatmapgl": [
           {
            "colorbar": {
             "outlinewidth": 0,
             "ticks": ""
            },
            "colorscale": [
             [
              0,
              "#0d0887"
             ],
             [
              0.1111111111111111,
              "#46039f"
             ],
             [
              0.2222222222222222,
              "#7201a8"
             ],
             [
              0.3333333333333333,
              "#9c179e"
             ],
             [
              0.4444444444444444,
              "#bd3786"
             ],
             [
              0.5555555555555556,
              "#d8576b"
             ],
             [
              0.6666666666666666,
              "#ed7953"
             ],
             [
              0.7777777777777778,
              "#fb9f3a"
             ],
             [
              0.8888888888888888,
              "#fdca26"
             ],
             [
              1,
              "#f0f921"
             ]
            ],
            "type": "heatmapgl"
           }
          ],
          "histogram": [
           {
            "marker": {
             "pattern": {
              "fillmode": "overlay",
              "size": 10,
              "solidity": 0.2
             }
            },
            "type": "histogram"
           }
          ],
          "histogram2d": [
           {
            "colorbar": {
             "outlinewidth": 0,
             "ticks": ""
            },
            "colorscale": [
             [
              0,
              "#0d0887"
             ],
             [
              0.1111111111111111,
              "#46039f"
             ],
             [
              0.2222222222222222,
              "#7201a8"
             ],
             [
              0.3333333333333333,
              "#9c179e"
             ],
             [
              0.4444444444444444,
              "#bd3786"
             ],
             [
              0.5555555555555556,
              "#d8576b"
             ],
             [
              0.6666666666666666,
              "#ed7953"
             ],
             [
              0.7777777777777778,
              "#fb9f3a"
             ],
             [
              0.8888888888888888,
              "#fdca26"
             ],
             [
              1,
              "#f0f921"
             ]
            ],
            "type": "histogram2d"
           }
          ],
          "histogram2dcontour": [
           {
            "colorbar": {
             "outlinewidth": 0,
             "ticks": ""
            },
            "colorscale": [
             [
              0,
              "#0d0887"
             ],
             [
              0.1111111111111111,
              "#46039f"
             ],
             [
              0.2222222222222222,
              "#7201a8"
             ],
             [
              0.3333333333333333,
              "#9c179e"
             ],
             [
              0.4444444444444444,
              "#bd3786"
             ],
             [
              0.5555555555555556,
              "#d8576b"
             ],
             [
              0.6666666666666666,
              "#ed7953"
             ],
             [
              0.7777777777777778,
              "#fb9f3a"
             ],
             [
              0.8888888888888888,
              "#fdca26"
             ],
             [
              1,
              "#f0f921"
             ]
            ],
            "type": "histogram2dcontour"
           }
          ],
          "mesh3d": [
           {
            "colorbar": {
             "outlinewidth": 0,
             "ticks": ""
            },
            "type": "mesh3d"
           }
          ],
          "parcoords": [
           {
            "line": {
             "colorbar": {
              "outlinewidth": 0,
              "ticks": ""
             }
            },
            "type": "parcoords"
           }
          ],
          "pie": [
           {
            "automargin": true,
            "type": "pie"
           }
          ],
          "scatter": [
           {
            "fillpattern": {
             "fillmode": "overlay",
             "size": 10,
             "solidity": 0.2
            },
            "type": "scatter"
           }
          ],
          "scatter3d": [
           {
            "line": {
             "colorbar": {
              "outlinewidth": 0,
              "ticks": ""
             }
            },
            "marker": {
             "colorbar": {
              "outlinewidth": 0,
              "ticks": ""
             }
            },
            "type": "scatter3d"
           }
          ],
          "scattercarpet": [
           {
            "marker": {
             "colorbar": {
              "outlinewidth": 0,
              "ticks": ""
             }
            },
            "type": "scattercarpet"
           }
          ],
          "scattergeo": [
           {
            "marker": {
             "colorbar": {
              "outlinewidth": 0,
              "ticks": ""
             }
            },
            "type": "scattergeo"
           }
          ],
          "scattergl": [
           {
            "marker": {
             "colorbar": {
              "outlinewidth": 0,
              "ticks": ""
             }
            },
            "type": "scattergl"
           }
          ],
          "scattermapbox": [
           {
            "marker": {
             "colorbar": {
              "outlinewidth": 0,
              "ticks": ""
             }
            },
            "type": "scattermapbox"
           }
          ],
          "scatterpolar": [
           {
            "marker": {
             "colorbar": {
              "outlinewidth": 0,
              "ticks": ""
             }
            },
            "type": "scatterpolar"
           }
          ],
          "scatterpolargl": [
           {
            "marker": {
             "colorbar": {
              "outlinewidth": 0,
              "ticks": ""
             }
            },
            "type": "scatterpolargl"
           }
          ],
          "scatterternary": [
           {
            "marker": {
             "colorbar": {
              "outlinewidth": 0,
              "ticks": ""
             }
            },
            "type": "scatterternary"
           }
          ],
          "surface": [
           {
            "colorbar": {
             "outlinewidth": 0,
             "ticks": ""
            },
            "colorscale": [
             [
              0,
              "#0d0887"
             ],
             [
              0.1111111111111111,
              "#46039f"
             ],
             [
              0.2222222222222222,
              "#7201a8"
             ],
             [
              0.3333333333333333,
              "#9c179e"
             ],
             [
              0.4444444444444444,
              "#bd3786"
             ],
             [
              0.5555555555555556,
              "#d8576b"
             ],
             [
              0.6666666666666666,
              "#ed7953"
             ],
             [
              0.7777777777777778,
              "#fb9f3a"
             ],
             [
              0.8888888888888888,
              "#fdca26"
             ],
             [
              1,
              "#f0f921"
             ]
            ],
            "type": "surface"
           }
          ],
          "table": [
           {
            "cells": {
             "fill": {
              "color": "#EBF0F8"
             },
             "line": {
              "color": "white"
             }
            },
            "header": {
             "fill": {
              "color": "#C8D4E3"
             },
             "line": {
              "color": "white"
             }
            },
            "type": "table"
           }
          ]
         },
         "layout": {
          "annotationdefaults": {
           "arrowcolor": "#2a3f5f",
           "arrowhead": 0,
           "arrowwidth": 1
          },
          "autotypenumbers": "strict",
          "coloraxis": {
           "colorbar": {
            "outlinewidth": 0,
            "ticks": ""
           }
          },
          "colorscale": {
           "diverging": [
            [
             0,
             "#8e0152"
            ],
            [
             0.1,
             "#c51b7d"
            ],
            [
             0.2,
             "#de77ae"
            ],
            [
             0.3,
             "#f1b6da"
            ],
            [
             0.4,
             "#fde0ef"
            ],
            [
             0.5,
             "#f7f7f7"
            ],
            [
             0.6,
             "#e6f5d0"
            ],
            [
             0.7,
             "#b8e186"
            ],
            [
             0.8,
             "#7fbc41"
            ],
            [
             0.9,
             "#4d9221"
            ],
            [
             1,
             "#276419"
            ]
           ],
           "sequential": [
            [
             0,
             "#0d0887"
            ],
            [
             0.1111111111111111,
             "#46039f"
            ],
            [
             0.2222222222222222,
             "#7201a8"
            ],
            [
             0.3333333333333333,
             "#9c179e"
            ],
            [
             0.4444444444444444,
             "#bd3786"
            ],
            [
             0.5555555555555556,
             "#d8576b"
            ],
            [
             0.6666666666666666,
             "#ed7953"
            ],
            [
             0.7777777777777778,
             "#fb9f3a"
            ],
            [
             0.8888888888888888,
             "#fdca26"
            ],
            [
             1,
             "#f0f921"
            ]
           ],
           "sequentialminus": [
            [
             0,
             "#0d0887"
            ],
            [
             0.1111111111111111,
             "#46039f"
            ],
            [
             0.2222222222222222,
             "#7201a8"
            ],
            [
             0.3333333333333333,
             "#9c179e"
            ],
            [
             0.4444444444444444,
             "#bd3786"
            ],
            [
             0.5555555555555556,
             "#d8576b"
            ],
            [
             0.6666666666666666,
             "#ed7953"
            ],
            [
             0.7777777777777778,
             "#fb9f3a"
            ],
            [
             0.8888888888888888,
             "#fdca26"
            ],
            [
             1,
             "#f0f921"
            ]
           ]
          },
          "colorway": [
           "#636efa",
           "#EF553B",
           "#00cc96",
           "#ab63fa",
           "#FFA15A",
           "#19d3f3",
           "#FF6692",
           "#B6E880",
           "#FF97FF",
           "#FECB52"
          ],
          "font": {
           "color": "#2a3f5f"
          },
          "geo": {
           "bgcolor": "white",
           "lakecolor": "white",
           "landcolor": "#E5ECF6",
           "showlakes": true,
           "showland": true,
           "subunitcolor": "white"
          },
          "hoverlabel": {
           "align": "left"
          },
          "hovermode": "closest",
          "mapbox": {
           "style": "light"
          },
          "paper_bgcolor": "white",
          "plot_bgcolor": "#E5ECF6",
          "polar": {
           "angularaxis": {
            "gridcolor": "white",
            "linecolor": "white",
            "ticks": ""
           },
           "bgcolor": "#E5ECF6",
           "radialaxis": {
            "gridcolor": "white",
            "linecolor": "white",
            "ticks": ""
           }
          },
          "scene": {
           "xaxis": {
            "backgroundcolor": "#E5ECF6",
            "gridcolor": "white",
            "gridwidth": 2,
            "linecolor": "white",
            "showbackground": true,
            "ticks": "",
            "zerolinecolor": "white"
           },
           "yaxis": {
            "backgroundcolor": "#E5ECF6",
            "gridcolor": "white",
            "gridwidth": 2,
            "linecolor": "white",
            "showbackground": true,
            "ticks": "",
            "zerolinecolor": "white"
           },
           "zaxis": {
            "backgroundcolor": "#E5ECF6",
            "gridcolor": "white",
            "gridwidth": 2,
            "linecolor": "white",
            "showbackground": true,
            "ticks": "",
            "zerolinecolor": "white"
           }
          },
          "shapedefaults": {
           "line": {
            "color": "#2a3f5f"
           }
          },
          "ternary": {
           "aaxis": {
            "gridcolor": "white",
            "linecolor": "white",
            "ticks": ""
           },
           "baxis": {
            "gridcolor": "white",
            "linecolor": "white",
            "ticks": ""
           },
           "bgcolor": "#E5ECF6",
           "caxis": {
            "gridcolor": "white",
            "linecolor": "white",
            "ticks": ""
           }
          },
          "title": {
           "x": 0.05
          },
          "xaxis": {
           "automargin": true,
           "gridcolor": "white",
           "linecolor": "white",
           "ticks": "",
           "title": {
            "standoff": 15
           },
           "zerolinecolor": "white",
           "zerolinewidth": 2
          },
          "yaxis": {
           "automargin": true,
           "gridcolor": "white",
           "linecolor": "white",
           "ticks": "",
           "title": {
            "standoff": 15
           },
           "zerolinecolor": "white",
           "zerolinewidth": 2
          }
         }
        },
        "title": {
         "text": "Pohyb entropie"
        },
        "xaxis": {
         "anchor": "y",
         "domain": [
          0,
          1
         ],
         "title": {
          "text": "index"
         }
        },
        "yaxis": {
         "anchor": "x",
         "domain": [
          0,
          1
         ],
         "title": {
          "text": "EntropyMove"
         }
        }
       }
      }
     },
     "metadata": {},
     "output_type": "display_data"
    }
   ],
   "source": [
    "fig = px.line(df, x=df.index, y=df.EntropyMove, text=[(\"%.1f\" % x) for x in df.EntropyMove.values], title='Pohyb entropie')\n",
    "fig.show()"
   ]
  },
  {
   "cell_type": "code",
   "execution_count": 32,
   "metadata": {},
   "outputs": [
    {
     "data": {
      "application/vnd.plotly.v1+json": {
       "config": {
        "plotlyServerURL": "https://plot.ly"
       },
       "data": [
        {
         "hovertemplate": "index=%{x}<br>MessageSize=%{text}<extra></extra>",
         "legendgroup": "",
         "line": {
          "color": "#636efa",
          "dash": "solid"
         },
         "marker": {
          "symbol": "circle"
         },
         "mode": "lines+text+markers",
         "name": "",
         "orientation": "v",
         "showlegend": false,
         "text": [
          10000,
          9496,
          8952,
          8566,
          8024,
          7750,
          7405,
          7125,
          7087,
          7021,
          6962,
          6856,
          6791,
          6737,
          6506,
          6425,
          6361,
          6303,
          6243,
          6190
         ],
         "type": "scatter",
         "x": [
          0,
          2,
          3,
          4,
          5,
          6,
          7,
          8,
          9,
          10,
          11,
          12,
          13,
          14,
          15,
          16,
          17,
          18,
          19,
          20
         ],
         "xaxis": "x",
         "y": [
          10000,
          9496,
          8952,
          8566,
          8024,
          7750,
          7405,
          7125,
          7087,
          7021,
          6962,
          6856,
          6791,
          6737,
          6506,
          6425,
          6361,
          6303,
          6243,
          6190
         ],
         "yaxis": "y"
        }
       ],
       "layout": {
        "legend": {
         "tracegroupgap": 0
        },
        "template": {
         "data": {
          "bar": [
           {
            "error_x": {
             "color": "#2a3f5f"
            },
            "error_y": {
             "color": "#2a3f5f"
            },
            "marker": {
             "line": {
              "color": "#E5ECF6",
              "width": 0.5
             },
             "pattern": {
              "fillmode": "overlay",
              "size": 10,
              "solidity": 0.2
             }
            },
            "type": "bar"
           }
          ],
          "barpolar": [
           {
            "marker": {
             "line": {
              "color": "#E5ECF6",
              "width": 0.5
             },
             "pattern": {
              "fillmode": "overlay",
              "size": 10,
              "solidity": 0.2
             }
            },
            "type": "barpolar"
           }
          ],
          "carpet": [
           {
            "aaxis": {
             "endlinecolor": "#2a3f5f",
             "gridcolor": "white",
             "linecolor": "white",
             "minorgridcolor": "white",
             "startlinecolor": "#2a3f5f"
            },
            "baxis": {
             "endlinecolor": "#2a3f5f",
             "gridcolor": "white",
             "linecolor": "white",
             "minorgridcolor": "white",
             "startlinecolor": "#2a3f5f"
            },
            "type": "carpet"
           }
          ],
          "choropleth": [
           {
            "colorbar": {
             "outlinewidth": 0,
             "ticks": ""
            },
            "type": "choropleth"
           }
          ],
          "contour": [
           {
            "colorbar": {
             "outlinewidth": 0,
             "ticks": ""
            },
            "colorscale": [
             [
              0,
              "#0d0887"
             ],
             [
              0.1111111111111111,
              "#46039f"
             ],
             [
              0.2222222222222222,
              "#7201a8"
             ],
             [
              0.3333333333333333,
              "#9c179e"
             ],
             [
              0.4444444444444444,
              "#bd3786"
             ],
             [
              0.5555555555555556,
              "#d8576b"
             ],
             [
              0.6666666666666666,
              "#ed7953"
             ],
             [
              0.7777777777777778,
              "#fb9f3a"
             ],
             [
              0.8888888888888888,
              "#fdca26"
             ],
             [
              1,
              "#f0f921"
             ]
            ],
            "type": "contour"
           }
          ],
          "contourcarpet": [
           {
            "colorbar": {
             "outlinewidth": 0,
             "ticks": ""
            },
            "type": "contourcarpet"
           }
          ],
          "heatmap": [
           {
            "colorbar": {
             "outlinewidth": 0,
             "ticks": ""
            },
            "colorscale": [
             [
              0,
              "#0d0887"
             ],
             [
              0.1111111111111111,
              "#46039f"
             ],
             [
              0.2222222222222222,
              "#7201a8"
             ],
             [
              0.3333333333333333,
              "#9c179e"
             ],
             [
              0.4444444444444444,
              "#bd3786"
             ],
             [
              0.5555555555555556,
              "#d8576b"
             ],
             [
              0.6666666666666666,
              "#ed7953"
             ],
             [
              0.7777777777777778,
              "#fb9f3a"
             ],
             [
              0.8888888888888888,
              "#fdca26"
             ],
             [
              1,
              "#f0f921"
             ]
            ],
            "type": "heatmap"
           }
          ],
          "heatmapgl": [
           {
            "colorbar": {
             "outlinewidth": 0,
             "ticks": ""
            },
            "colorscale": [
             [
              0,
              "#0d0887"
             ],
             [
              0.1111111111111111,
              "#46039f"
             ],
             [
              0.2222222222222222,
              "#7201a8"
             ],
             [
              0.3333333333333333,
              "#9c179e"
             ],
             [
              0.4444444444444444,
              "#bd3786"
             ],
             [
              0.5555555555555556,
              "#d8576b"
             ],
             [
              0.6666666666666666,
              "#ed7953"
             ],
             [
              0.7777777777777778,
              "#fb9f3a"
             ],
             [
              0.8888888888888888,
              "#fdca26"
             ],
             [
              1,
              "#f0f921"
             ]
            ],
            "type": "heatmapgl"
           }
          ],
          "histogram": [
           {
            "marker": {
             "pattern": {
              "fillmode": "overlay",
              "size": 10,
              "solidity": 0.2
             }
            },
            "type": "histogram"
           }
          ],
          "histogram2d": [
           {
            "colorbar": {
             "outlinewidth": 0,
             "ticks": ""
            },
            "colorscale": [
             [
              0,
              "#0d0887"
             ],
             [
              0.1111111111111111,
              "#46039f"
             ],
             [
              0.2222222222222222,
              "#7201a8"
             ],
             [
              0.3333333333333333,
              "#9c179e"
             ],
             [
              0.4444444444444444,
              "#bd3786"
             ],
             [
              0.5555555555555556,
              "#d8576b"
             ],
             [
              0.6666666666666666,
              "#ed7953"
             ],
             [
              0.7777777777777778,
              "#fb9f3a"
             ],
             [
              0.8888888888888888,
              "#fdca26"
             ],
             [
              1,
              "#f0f921"
             ]
            ],
            "type": "histogram2d"
           }
          ],
          "histogram2dcontour": [
           {
            "colorbar": {
             "outlinewidth": 0,
             "ticks": ""
            },
            "colorscale": [
             [
              0,
              "#0d0887"
             ],
             [
              0.1111111111111111,
              "#46039f"
             ],
             [
              0.2222222222222222,
              "#7201a8"
             ],
             [
              0.3333333333333333,
              "#9c179e"
             ],
             [
              0.4444444444444444,
              "#bd3786"
             ],
             [
              0.5555555555555556,
              "#d8576b"
             ],
             [
              0.6666666666666666,
              "#ed7953"
             ],
             [
              0.7777777777777778,
              "#fb9f3a"
             ],
             [
              0.8888888888888888,
              "#fdca26"
             ],
             [
              1,
              "#f0f921"
             ]
            ],
            "type": "histogram2dcontour"
           }
          ],
          "mesh3d": [
           {
            "colorbar": {
             "outlinewidth": 0,
             "ticks": ""
            },
            "type": "mesh3d"
           }
          ],
          "parcoords": [
           {
            "line": {
             "colorbar": {
              "outlinewidth": 0,
              "ticks": ""
             }
            },
            "type": "parcoords"
           }
          ],
          "pie": [
           {
            "automargin": true,
            "type": "pie"
           }
          ],
          "scatter": [
           {
            "fillpattern": {
             "fillmode": "overlay",
             "size": 10,
             "solidity": 0.2
            },
            "type": "scatter"
           }
          ],
          "scatter3d": [
           {
            "line": {
             "colorbar": {
              "outlinewidth": 0,
              "ticks": ""
             }
            },
            "marker": {
             "colorbar": {
              "outlinewidth": 0,
              "ticks": ""
             }
            },
            "type": "scatter3d"
           }
          ],
          "scattercarpet": [
           {
            "marker": {
             "colorbar": {
              "outlinewidth": 0,
              "ticks": ""
             }
            },
            "type": "scattercarpet"
           }
          ],
          "scattergeo": [
           {
            "marker": {
             "colorbar": {
              "outlinewidth": 0,
              "ticks": ""
             }
            },
            "type": "scattergeo"
           }
          ],
          "scattergl": [
           {
            "marker": {
             "colorbar": {
              "outlinewidth": 0,
              "ticks": ""
             }
            },
            "type": "scattergl"
           }
          ],
          "scattermapbox": [
           {
            "marker": {
             "colorbar": {
              "outlinewidth": 0,
              "ticks": ""
             }
            },
            "type": "scattermapbox"
           }
          ],
          "scatterpolar": [
           {
            "marker": {
             "colorbar": {
              "outlinewidth": 0,
              "ticks": ""
             }
            },
            "type": "scatterpolar"
           }
          ],
          "scatterpolargl": [
           {
            "marker": {
             "colorbar": {
              "outlinewidth": 0,
              "ticks": ""
             }
            },
            "type": "scatterpolargl"
           }
          ],
          "scatterternary": [
           {
            "marker": {
             "colorbar": {
              "outlinewidth": 0,
              "ticks": ""
             }
            },
            "type": "scatterternary"
           }
          ],
          "surface": [
           {
            "colorbar": {
             "outlinewidth": 0,
             "ticks": ""
            },
            "colorscale": [
             [
              0,
              "#0d0887"
             ],
             [
              0.1111111111111111,
              "#46039f"
             ],
             [
              0.2222222222222222,
              "#7201a8"
             ],
             [
              0.3333333333333333,
              "#9c179e"
             ],
             [
              0.4444444444444444,
              "#bd3786"
             ],
             [
              0.5555555555555556,
              "#d8576b"
             ],
             [
              0.6666666666666666,
              "#ed7953"
             ],
             [
              0.7777777777777778,
              "#fb9f3a"
             ],
             [
              0.8888888888888888,
              "#fdca26"
             ],
             [
              1,
              "#f0f921"
             ]
            ],
            "type": "surface"
           }
          ],
          "table": [
           {
            "cells": {
             "fill": {
              "color": "#EBF0F8"
             },
             "line": {
              "color": "white"
             }
            },
            "header": {
             "fill": {
              "color": "#C8D4E3"
             },
             "line": {
              "color": "white"
             }
            },
            "type": "table"
           }
          ]
         },
         "layout": {
          "annotationdefaults": {
           "arrowcolor": "#2a3f5f",
           "arrowhead": 0,
           "arrowwidth": 1
          },
          "autotypenumbers": "strict",
          "coloraxis": {
           "colorbar": {
            "outlinewidth": 0,
            "ticks": ""
           }
          },
          "colorscale": {
           "diverging": [
            [
             0,
             "#8e0152"
            ],
            [
             0.1,
             "#c51b7d"
            ],
            [
             0.2,
             "#de77ae"
            ],
            [
             0.3,
             "#f1b6da"
            ],
            [
             0.4,
             "#fde0ef"
            ],
            [
             0.5,
             "#f7f7f7"
            ],
            [
             0.6,
             "#e6f5d0"
            ],
            [
             0.7,
             "#b8e186"
            ],
            [
             0.8,
             "#7fbc41"
            ],
            [
             0.9,
             "#4d9221"
            ],
            [
             1,
             "#276419"
            ]
           ],
           "sequential": [
            [
             0,
             "#0d0887"
            ],
            [
             0.1111111111111111,
             "#46039f"
            ],
            [
             0.2222222222222222,
             "#7201a8"
            ],
            [
             0.3333333333333333,
             "#9c179e"
            ],
            [
             0.4444444444444444,
             "#bd3786"
            ],
            [
             0.5555555555555556,
             "#d8576b"
            ],
            [
             0.6666666666666666,
             "#ed7953"
            ],
            [
             0.7777777777777778,
             "#fb9f3a"
            ],
            [
             0.8888888888888888,
             "#fdca26"
            ],
            [
             1,
             "#f0f921"
            ]
           ],
           "sequentialminus": [
            [
             0,
             "#0d0887"
            ],
            [
             0.1111111111111111,
             "#46039f"
            ],
            [
             0.2222222222222222,
             "#7201a8"
            ],
            [
             0.3333333333333333,
             "#9c179e"
            ],
            [
             0.4444444444444444,
             "#bd3786"
            ],
            [
             0.5555555555555556,
             "#d8576b"
            ],
            [
             0.6666666666666666,
             "#ed7953"
            ],
            [
             0.7777777777777778,
             "#fb9f3a"
            ],
            [
             0.8888888888888888,
             "#fdca26"
            ],
            [
             1,
             "#f0f921"
            ]
           ]
          },
          "colorway": [
           "#636efa",
           "#EF553B",
           "#00cc96",
           "#ab63fa",
           "#FFA15A",
           "#19d3f3",
           "#FF6692",
           "#B6E880",
           "#FF97FF",
           "#FECB52"
          ],
          "font": {
           "color": "#2a3f5f"
          },
          "geo": {
           "bgcolor": "white",
           "lakecolor": "white",
           "landcolor": "#E5ECF6",
           "showlakes": true,
           "showland": true,
           "subunitcolor": "white"
          },
          "hoverlabel": {
           "align": "left"
          },
          "hovermode": "closest",
          "mapbox": {
           "style": "light"
          },
          "paper_bgcolor": "white",
          "plot_bgcolor": "#E5ECF6",
          "polar": {
           "angularaxis": {
            "gridcolor": "white",
            "linecolor": "white",
            "ticks": ""
           },
           "bgcolor": "#E5ECF6",
           "radialaxis": {
            "gridcolor": "white",
            "linecolor": "white",
            "ticks": ""
           }
          },
          "scene": {
           "xaxis": {
            "backgroundcolor": "#E5ECF6",
            "gridcolor": "white",
            "gridwidth": 2,
            "linecolor": "white",
            "showbackground": true,
            "ticks": "",
            "zerolinecolor": "white"
           },
           "yaxis": {
            "backgroundcolor": "#E5ECF6",
            "gridcolor": "white",
            "gridwidth": 2,
            "linecolor": "white",
            "showbackground": true,
            "ticks": "",
            "zerolinecolor": "white"
           },
           "zaxis": {
            "backgroundcolor": "#E5ECF6",
            "gridcolor": "white",
            "gridwidth": 2,
            "linecolor": "white",
            "showbackground": true,
            "ticks": "",
            "zerolinecolor": "white"
           }
          },
          "shapedefaults": {
           "line": {
            "color": "#2a3f5f"
           }
          },
          "ternary": {
           "aaxis": {
            "gridcolor": "white",
            "linecolor": "white",
            "ticks": ""
           },
           "baxis": {
            "gridcolor": "white",
            "linecolor": "white",
            "ticks": ""
           },
           "bgcolor": "#E5ECF6",
           "caxis": {
            "gridcolor": "white",
            "linecolor": "white",
            "ticks": ""
           }
          },
          "title": {
           "x": 0.05
          },
          "xaxis": {
           "automargin": true,
           "gridcolor": "white",
           "linecolor": "white",
           "ticks": "",
           "title": {
            "standoff": 15
           },
           "zerolinecolor": "white",
           "zerolinewidth": 2
          },
          "yaxis": {
           "automargin": true,
           "gridcolor": "white",
           "linecolor": "white",
           "ticks": "",
           "title": {
            "standoff": 15
           },
           "zerolinecolor": "white",
           "zerolinewidth": 2
          }
         }
        },
        "title": {
         "text": "Velikost zprávy"
        },
        "xaxis": {
         "anchor": "y",
         "domain": [
          0,
          1
         ],
         "title": {
          "text": "index"
         }
        },
        "yaxis": {
         "anchor": "x",
         "domain": [
          0,
          1
         ],
         "title": {
          "text": "MessageSize"
         }
        }
       }
      }
     },
     "metadata": {},
     "output_type": "display_data"
    }
   ],
   "source": [
    "fig = px.line(df, x=df.index, y=df.MessageSize, text=df.MessageSize, title='Velikost zprávy')\n",
    "fig.show()\n",
    "fig.write_image(\"test.png\")"
   ]
  },
  {
   "cell_type": "code",
   "execution_count": 33,
   "metadata": {},
   "outputs": [
    {
     "data": {
      "application/vnd.plotly.v1+json": {
       "config": {
        "plotlyServerURL": "https://plot.ly"
       },
       "data": [
        {
         "hovertemplate": "variable=MessageSize<br>index=%{x}<br>value=%{y}<extra></extra>",
         "legendgroup": "MessageSize",
         "line": {
          "color": "#636efa",
          "dash": "solid"
         },
         "marker": {
          "symbol": "circle"
         },
         "mode": "lines",
         "name": "MessageSize",
         "orientation": "v",
         "showlegend": true,
         "type": "scatter",
         "x": [
          0,
          2,
          3,
          4,
          5,
          6,
          7,
          8,
          9,
          10,
          11,
          12,
          13,
          14,
          15,
          16,
          17,
          18,
          19,
          20
         ],
         "xaxis": "x",
         "y": [
          10000,
          9496,
          8952,
          8566,
          8024,
          7750,
          7405,
          7125,
          7087,
          7021,
          6962,
          6856,
          6791,
          6737,
          6506,
          6425,
          6361,
          6303,
          6243,
          6190
         ],
         "yaxis": "y"
        },
        {
         "hovertemplate": "variable=EntropySize<br>index=%{x}<br>value=%{y}<extra></extra>",
         "legendgroup": "EntropySize",
         "line": {
          "color": "#EF553B",
          "dash": "solid"
         },
         "marker": {
          "symbol": "circle"
         },
         "mode": "lines",
         "name": "EntropySize",
         "orientation": "v",
         "showlegend": true,
         "type": "scatter",
         "x": [
          0,
          2,
          3,
          4,
          5,
          6,
          7,
          8,
          9,
          10,
          11,
          12,
          13,
          14,
          15,
          16,
          17,
          18,
          19,
          20
         ],
         "xaxis": "x",
         "y": [
          19895.772725667295,
          20769.717134904087,
          21509.638619196405,
          22070.07203672717,
          22442.617586778353,
          22760.086391956975,
          23086.278695361158,
          23352.88181428743,
          23483.971409140595,
          23590.04558377081,
          23687.821776156172,
          23781.641029742197,
          23869.37778919484,
          23956.153653876252,
          24041.59139491715,
          24118.10521320576,
          24190.867916914514,
          24261.580221391454,
          24324.74655547611,
          24383.785213567415
         ],
         "yaxis": "y"
        }
       ],
       "layout": {
        "legend": {
         "title": {
          "text": "variable"
         },
         "tracegroupgap": 0
        },
        "template": {
         "data": {
          "bar": [
           {
            "error_x": {
             "color": "#2a3f5f"
            },
            "error_y": {
             "color": "#2a3f5f"
            },
            "marker": {
             "line": {
              "color": "#E5ECF6",
              "width": 0.5
             },
             "pattern": {
              "fillmode": "overlay",
              "size": 10,
              "solidity": 0.2
             }
            },
            "type": "bar"
           }
          ],
          "barpolar": [
           {
            "marker": {
             "line": {
              "color": "#E5ECF6",
              "width": 0.5
             },
             "pattern": {
              "fillmode": "overlay",
              "size": 10,
              "solidity": 0.2
             }
            },
            "type": "barpolar"
           }
          ],
          "carpet": [
           {
            "aaxis": {
             "endlinecolor": "#2a3f5f",
             "gridcolor": "white",
             "linecolor": "white",
             "minorgridcolor": "white",
             "startlinecolor": "#2a3f5f"
            },
            "baxis": {
             "endlinecolor": "#2a3f5f",
             "gridcolor": "white",
             "linecolor": "white",
             "minorgridcolor": "white",
             "startlinecolor": "#2a3f5f"
            },
            "type": "carpet"
           }
          ],
          "choropleth": [
           {
            "colorbar": {
             "outlinewidth": 0,
             "ticks": ""
            },
            "type": "choropleth"
           }
          ],
          "contour": [
           {
            "colorbar": {
             "outlinewidth": 0,
             "ticks": ""
            },
            "colorscale": [
             [
              0,
              "#0d0887"
             ],
             [
              0.1111111111111111,
              "#46039f"
             ],
             [
              0.2222222222222222,
              "#7201a8"
             ],
             [
              0.3333333333333333,
              "#9c179e"
             ],
             [
              0.4444444444444444,
              "#bd3786"
             ],
             [
              0.5555555555555556,
              "#d8576b"
             ],
             [
              0.6666666666666666,
              "#ed7953"
             ],
             [
              0.7777777777777778,
              "#fb9f3a"
             ],
             [
              0.8888888888888888,
              "#fdca26"
             ],
             [
              1,
              "#f0f921"
             ]
            ],
            "type": "contour"
           }
          ],
          "contourcarpet": [
           {
            "colorbar": {
             "outlinewidth": 0,
             "ticks": ""
            },
            "type": "contourcarpet"
           }
          ],
          "heatmap": [
           {
            "colorbar": {
             "outlinewidth": 0,
             "ticks": ""
            },
            "colorscale": [
             [
              0,
              "#0d0887"
             ],
             [
              0.1111111111111111,
              "#46039f"
             ],
             [
              0.2222222222222222,
              "#7201a8"
             ],
             [
              0.3333333333333333,
              "#9c179e"
             ],
             [
              0.4444444444444444,
              "#bd3786"
             ],
             [
              0.5555555555555556,
              "#d8576b"
             ],
             [
              0.6666666666666666,
              "#ed7953"
             ],
             [
              0.7777777777777778,
              "#fb9f3a"
             ],
             [
              0.8888888888888888,
              "#fdca26"
             ],
             [
              1,
              "#f0f921"
             ]
            ],
            "type": "heatmap"
           }
          ],
          "heatmapgl": [
           {
            "colorbar": {
             "outlinewidth": 0,
             "ticks": ""
            },
            "colorscale": [
             [
              0,
              "#0d0887"
             ],
             [
              0.1111111111111111,
              "#46039f"
             ],
             [
              0.2222222222222222,
              "#7201a8"
             ],
             [
              0.3333333333333333,
              "#9c179e"
             ],
             [
              0.4444444444444444,
              "#bd3786"
             ],
             [
              0.5555555555555556,
              "#d8576b"
             ],
             [
              0.6666666666666666,
              "#ed7953"
             ],
             [
              0.7777777777777778,
              "#fb9f3a"
             ],
             [
              0.8888888888888888,
              "#fdca26"
             ],
             [
              1,
              "#f0f921"
             ]
            ],
            "type": "heatmapgl"
           }
          ],
          "histogram": [
           {
            "marker": {
             "pattern": {
              "fillmode": "overlay",
              "size": 10,
              "solidity": 0.2
             }
            },
            "type": "histogram"
           }
          ],
          "histogram2d": [
           {
            "colorbar": {
             "outlinewidth": 0,
             "ticks": ""
            },
            "colorscale": [
             [
              0,
              "#0d0887"
             ],
             [
              0.1111111111111111,
              "#46039f"
             ],
             [
              0.2222222222222222,
              "#7201a8"
             ],
             [
              0.3333333333333333,
              "#9c179e"
             ],
             [
              0.4444444444444444,
              "#bd3786"
             ],
             [
              0.5555555555555556,
              "#d8576b"
             ],
             [
              0.6666666666666666,
              "#ed7953"
             ],
             [
              0.7777777777777778,
              "#fb9f3a"
             ],
             [
              0.8888888888888888,
              "#fdca26"
             ],
             [
              1,
              "#f0f921"
             ]
            ],
            "type": "histogram2d"
           }
          ],
          "histogram2dcontour": [
           {
            "colorbar": {
             "outlinewidth": 0,
             "ticks": ""
            },
            "colorscale": [
             [
              0,
              "#0d0887"
             ],
             [
              0.1111111111111111,
              "#46039f"
             ],
             [
              0.2222222222222222,
              "#7201a8"
             ],
             [
              0.3333333333333333,
              "#9c179e"
             ],
             [
              0.4444444444444444,
              "#bd3786"
             ],
             [
              0.5555555555555556,
              "#d8576b"
             ],
             [
              0.6666666666666666,
              "#ed7953"
             ],
             [
              0.7777777777777778,
              "#fb9f3a"
             ],
             [
              0.8888888888888888,
              "#fdca26"
             ],
             [
              1,
              "#f0f921"
             ]
            ],
            "type": "histogram2dcontour"
           }
          ],
          "mesh3d": [
           {
            "colorbar": {
             "outlinewidth": 0,
             "ticks": ""
            },
            "type": "mesh3d"
           }
          ],
          "parcoords": [
           {
            "line": {
             "colorbar": {
              "outlinewidth": 0,
              "ticks": ""
             }
            },
            "type": "parcoords"
           }
          ],
          "pie": [
           {
            "automargin": true,
            "type": "pie"
           }
          ],
          "scatter": [
           {
            "fillpattern": {
             "fillmode": "overlay",
             "size": 10,
             "solidity": 0.2
            },
            "type": "scatter"
           }
          ],
          "scatter3d": [
           {
            "line": {
             "colorbar": {
              "outlinewidth": 0,
              "ticks": ""
             }
            },
            "marker": {
             "colorbar": {
              "outlinewidth": 0,
              "ticks": ""
             }
            },
            "type": "scatter3d"
           }
          ],
          "scattercarpet": [
           {
            "marker": {
             "colorbar": {
              "outlinewidth": 0,
              "ticks": ""
             }
            },
            "type": "scattercarpet"
           }
          ],
          "scattergeo": [
           {
            "marker": {
             "colorbar": {
              "outlinewidth": 0,
              "ticks": ""
             }
            },
            "type": "scattergeo"
           }
          ],
          "scattergl": [
           {
            "marker": {
             "colorbar": {
              "outlinewidth": 0,
              "ticks": ""
             }
            },
            "type": "scattergl"
           }
          ],
          "scattermapbox": [
           {
            "marker": {
             "colorbar": {
              "outlinewidth": 0,
              "ticks": ""
             }
            },
            "type": "scattermapbox"
           }
          ],
          "scatterpolar": [
           {
            "marker": {
             "colorbar": {
              "outlinewidth": 0,
              "ticks": ""
             }
            },
            "type": "scatterpolar"
           }
          ],
          "scatterpolargl": [
           {
            "marker": {
             "colorbar": {
              "outlinewidth": 0,
              "ticks": ""
             }
            },
            "type": "scatterpolargl"
           }
          ],
          "scatterternary": [
           {
            "marker": {
             "colorbar": {
              "outlinewidth": 0,
              "ticks": ""
             }
            },
            "type": "scatterternary"
           }
          ],
          "surface": [
           {
            "colorbar": {
             "outlinewidth": 0,
             "ticks": ""
            },
            "colorscale": [
             [
              0,
              "#0d0887"
             ],
             [
              0.1111111111111111,
              "#46039f"
             ],
             [
              0.2222222222222222,
              "#7201a8"
             ],
             [
              0.3333333333333333,
              "#9c179e"
             ],
             [
              0.4444444444444444,
              "#bd3786"
             ],
             [
              0.5555555555555556,
              "#d8576b"
             ],
             [
              0.6666666666666666,
              "#ed7953"
             ],
             [
              0.7777777777777778,
              "#fb9f3a"
             ],
             [
              0.8888888888888888,
              "#fdca26"
             ],
             [
              1,
              "#f0f921"
             ]
            ],
            "type": "surface"
           }
          ],
          "table": [
           {
            "cells": {
             "fill": {
              "color": "#EBF0F8"
             },
             "line": {
              "color": "white"
             }
            },
            "header": {
             "fill": {
              "color": "#C8D4E3"
             },
             "line": {
              "color": "white"
             }
            },
            "type": "table"
           }
          ]
         },
         "layout": {
          "annotationdefaults": {
           "arrowcolor": "#2a3f5f",
           "arrowhead": 0,
           "arrowwidth": 1
          },
          "autotypenumbers": "strict",
          "coloraxis": {
           "colorbar": {
            "outlinewidth": 0,
            "ticks": ""
           }
          },
          "colorscale": {
           "diverging": [
            [
             0,
             "#8e0152"
            ],
            [
             0.1,
             "#c51b7d"
            ],
            [
             0.2,
             "#de77ae"
            ],
            [
             0.3,
             "#f1b6da"
            ],
            [
             0.4,
             "#fde0ef"
            ],
            [
             0.5,
             "#f7f7f7"
            ],
            [
             0.6,
             "#e6f5d0"
            ],
            [
             0.7,
             "#b8e186"
            ],
            [
             0.8,
             "#7fbc41"
            ],
            [
             0.9,
             "#4d9221"
            ],
            [
             1,
             "#276419"
            ]
           ],
           "sequential": [
            [
             0,
             "#0d0887"
            ],
            [
             0.1111111111111111,
             "#46039f"
            ],
            [
             0.2222222222222222,
             "#7201a8"
            ],
            [
             0.3333333333333333,
             "#9c179e"
            ],
            [
             0.4444444444444444,
             "#bd3786"
            ],
            [
             0.5555555555555556,
             "#d8576b"
            ],
            [
             0.6666666666666666,
             "#ed7953"
            ],
            [
             0.7777777777777778,
             "#fb9f3a"
            ],
            [
             0.8888888888888888,
             "#fdca26"
            ],
            [
             1,
             "#f0f921"
            ]
           ],
           "sequentialminus": [
            [
             0,
             "#0d0887"
            ],
            [
             0.1111111111111111,
             "#46039f"
            ],
            [
             0.2222222222222222,
             "#7201a8"
            ],
            [
             0.3333333333333333,
             "#9c179e"
            ],
            [
             0.4444444444444444,
             "#bd3786"
            ],
            [
             0.5555555555555556,
             "#d8576b"
            ],
            [
             0.6666666666666666,
             "#ed7953"
            ],
            [
             0.7777777777777778,
             "#fb9f3a"
            ],
            [
             0.8888888888888888,
             "#fdca26"
            ],
            [
             1,
             "#f0f921"
            ]
           ]
          },
          "colorway": [
           "#636efa",
           "#EF553B",
           "#00cc96",
           "#ab63fa",
           "#FFA15A",
           "#19d3f3",
           "#FF6692",
           "#B6E880",
           "#FF97FF",
           "#FECB52"
          ],
          "font": {
           "color": "#2a3f5f"
          },
          "geo": {
           "bgcolor": "white",
           "lakecolor": "white",
           "landcolor": "#E5ECF6",
           "showlakes": true,
           "showland": true,
           "subunitcolor": "white"
          },
          "hoverlabel": {
           "align": "left"
          },
          "hovermode": "closest",
          "mapbox": {
           "style": "light"
          },
          "paper_bgcolor": "white",
          "plot_bgcolor": "#E5ECF6",
          "polar": {
           "angularaxis": {
            "gridcolor": "white",
            "linecolor": "white",
            "ticks": ""
           },
           "bgcolor": "#E5ECF6",
           "radialaxis": {
            "gridcolor": "white",
            "linecolor": "white",
            "ticks": ""
           }
          },
          "scene": {
           "xaxis": {
            "backgroundcolor": "#E5ECF6",
            "gridcolor": "white",
            "gridwidth": 2,
            "linecolor": "white",
            "showbackground": true,
            "ticks": "",
            "zerolinecolor": "white"
           },
           "yaxis": {
            "backgroundcolor": "#E5ECF6",
            "gridcolor": "white",
            "gridwidth": 2,
            "linecolor": "white",
            "showbackground": true,
            "ticks": "",
            "zerolinecolor": "white"
           },
           "zaxis": {
            "backgroundcolor": "#E5ECF6",
            "gridcolor": "white",
            "gridwidth": 2,
            "linecolor": "white",
            "showbackground": true,
            "ticks": "",
            "zerolinecolor": "white"
           }
          },
          "shapedefaults": {
           "line": {
            "color": "#2a3f5f"
           }
          },
          "ternary": {
           "aaxis": {
            "gridcolor": "white",
            "linecolor": "white",
            "ticks": ""
           },
           "baxis": {
            "gridcolor": "white",
            "linecolor": "white",
            "ticks": ""
           },
           "bgcolor": "#E5ECF6",
           "caxis": {
            "gridcolor": "white",
            "linecolor": "white",
            "ticks": ""
           }
          },
          "title": {
           "x": 0.05
          },
          "xaxis": {
           "automargin": true,
           "gridcolor": "white",
           "linecolor": "white",
           "ticks": "",
           "title": {
            "standoff": 15
           },
           "zerolinecolor": "white",
           "zerolinewidth": 2
          },
          "yaxis": {
           "automargin": true,
           "gridcolor": "white",
           "linecolor": "white",
           "ticks": "",
           "title": {
            "standoff": 15
           },
           "zerolinecolor": "white",
           "zerolinewidth": 2
          }
         }
        },
        "title": {
         "text": "Velikost zprávy proti aktuální entropii"
        },
        "xaxis": {
         "anchor": "y",
         "domain": [
          0,
          1
         ],
         "title": {
          "text": "index"
         }
        },
        "yaxis": {
         "anchor": "x",
         "domain": [
          0,
          1
         ],
         "title": {
          "text": "value"
         }
        }
       }
      }
     },
     "metadata": {},
     "output_type": "display_data"
    }
   ],
   "source": [
    "fig = px.line(df, x=df.index, y=[df.MessageSize, df.EntropySize], title='Velikost zprávy proti aktuální entropii')\n",
    "fig.show()"
   ]
  },
  {
   "cell_type": "code",
   "execution_count": 34,
   "metadata": {},
   "outputs": [
    {
     "data": {
      "application/vnd.plotly.v1+json": {
       "config": {
        "plotlyServerURL": "https://plot.ly"
       },
       "data": [
        {
         "hovertemplate": "index=%{x}<br>EntropySize=%{y}<br>text=%{text}<extra></extra>",
         "legendgroup": "",
         "line": {
          "color": "#636efa",
          "dash": "solid"
         },
         "marker": {
          "symbol": "circle"
         },
         "mode": "lines+text+markers",
         "name": "",
         "orientation": "v",
         "showlegend": false,
         "text": [
          "19896",
          "20770",
          "21510",
          "22070",
          "22443",
          "22760",
          "23086",
          "23353",
          "23484",
          "23590",
          "23688",
          "23782",
          "23869",
          "23956",
          "24042",
          "24118",
          "24191",
          "24262",
          "24325",
          "24384"
         ],
         "textposition": "top center",
         "type": "scatter",
         "x": [
          0,
          2,
          3,
          4,
          5,
          6,
          7,
          8,
          9,
          10,
          11,
          12,
          13,
          14,
          15,
          16,
          17,
          18,
          19,
          20
         ],
         "xaxis": "x",
         "y": [
          19895.772725667295,
          20769.717134904087,
          21509.638619196405,
          22070.07203672717,
          22442.617586778353,
          22760.086391956975,
          23086.278695361158,
          23352.88181428743,
          23483.971409140595,
          23590.04558377081,
          23687.821776156172,
          23781.641029742197,
          23869.37778919484,
          23956.153653876252,
          24041.59139491715,
          24118.10521320576,
          24190.867916914514,
          24261.580221391454,
          24324.74655547611,
          24383.785213567415
         ],
         "yaxis": "y"
        }
       ],
       "layout": {
        "legend": {
         "tracegroupgap": 0
        },
        "template": {
         "data": {
          "bar": [
           {
            "error_x": {
             "color": "#2a3f5f"
            },
            "error_y": {
             "color": "#2a3f5f"
            },
            "marker": {
             "line": {
              "color": "#E5ECF6",
              "width": 0.5
             },
             "pattern": {
              "fillmode": "overlay",
              "size": 10,
              "solidity": 0.2
             }
            },
            "type": "bar"
           }
          ],
          "barpolar": [
           {
            "marker": {
             "line": {
              "color": "#E5ECF6",
              "width": 0.5
             },
             "pattern": {
              "fillmode": "overlay",
              "size": 10,
              "solidity": 0.2
             }
            },
            "type": "barpolar"
           }
          ],
          "carpet": [
           {
            "aaxis": {
             "endlinecolor": "#2a3f5f",
             "gridcolor": "white",
             "linecolor": "white",
             "minorgridcolor": "white",
             "startlinecolor": "#2a3f5f"
            },
            "baxis": {
             "endlinecolor": "#2a3f5f",
             "gridcolor": "white",
             "linecolor": "white",
             "minorgridcolor": "white",
             "startlinecolor": "#2a3f5f"
            },
            "type": "carpet"
           }
          ],
          "choropleth": [
           {
            "colorbar": {
             "outlinewidth": 0,
             "ticks": ""
            },
            "type": "choropleth"
           }
          ],
          "contour": [
           {
            "colorbar": {
             "outlinewidth": 0,
             "ticks": ""
            },
            "colorscale": [
             [
              0,
              "#0d0887"
             ],
             [
              0.1111111111111111,
              "#46039f"
             ],
             [
              0.2222222222222222,
              "#7201a8"
             ],
             [
              0.3333333333333333,
              "#9c179e"
             ],
             [
              0.4444444444444444,
              "#bd3786"
             ],
             [
              0.5555555555555556,
              "#d8576b"
             ],
             [
              0.6666666666666666,
              "#ed7953"
             ],
             [
              0.7777777777777778,
              "#fb9f3a"
             ],
             [
              0.8888888888888888,
              "#fdca26"
             ],
             [
              1,
              "#f0f921"
             ]
            ],
            "type": "contour"
           }
          ],
          "contourcarpet": [
           {
            "colorbar": {
             "outlinewidth": 0,
             "ticks": ""
            },
            "type": "contourcarpet"
           }
          ],
          "heatmap": [
           {
            "colorbar": {
             "outlinewidth": 0,
             "ticks": ""
            },
            "colorscale": [
             [
              0,
              "#0d0887"
             ],
             [
              0.1111111111111111,
              "#46039f"
             ],
             [
              0.2222222222222222,
              "#7201a8"
             ],
             [
              0.3333333333333333,
              "#9c179e"
             ],
             [
              0.4444444444444444,
              "#bd3786"
             ],
             [
              0.5555555555555556,
              "#d8576b"
             ],
             [
              0.6666666666666666,
              "#ed7953"
             ],
             [
              0.7777777777777778,
              "#fb9f3a"
             ],
             [
              0.8888888888888888,
              "#fdca26"
             ],
             [
              1,
              "#f0f921"
             ]
            ],
            "type": "heatmap"
           }
          ],
          "heatmapgl": [
           {
            "colorbar": {
             "outlinewidth": 0,
             "ticks": ""
            },
            "colorscale": [
             [
              0,
              "#0d0887"
             ],
             [
              0.1111111111111111,
              "#46039f"
             ],
             [
              0.2222222222222222,
              "#7201a8"
             ],
             [
              0.3333333333333333,
              "#9c179e"
             ],
             [
              0.4444444444444444,
              "#bd3786"
             ],
             [
              0.5555555555555556,
              "#d8576b"
             ],
             [
              0.6666666666666666,
              "#ed7953"
             ],
             [
              0.7777777777777778,
              "#fb9f3a"
             ],
             [
              0.8888888888888888,
              "#fdca26"
             ],
             [
              1,
              "#f0f921"
             ]
            ],
            "type": "heatmapgl"
           }
          ],
          "histogram": [
           {
            "marker": {
             "pattern": {
              "fillmode": "overlay",
              "size": 10,
              "solidity": 0.2
             }
            },
            "type": "histogram"
           }
          ],
          "histogram2d": [
           {
            "colorbar": {
             "outlinewidth": 0,
             "ticks": ""
            },
            "colorscale": [
             [
              0,
              "#0d0887"
             ],
             [
              0.1111111111111111,
              "#46039f"
             ],
             [
              0.2222222222222222,
              "#7201a8"
             ],
             [
              0.3333333333333333,
              "#9c179e"
             ],
             [
              0.4444444444444444,
              "#bd3786"
             ],
             [
              0.5555555555555556,
              "#d8576b"
             ],
             [
              0.6666666666666666,
              "#ed7953"
             ],
             [
              0.7777777777777778,
              "#fb9f3a"
             ],
             [
              0.8888888888888888,
              "#fdca26"
             ],
             [
              1,
              "#f0f921"
             ]
            ],
            "type": "histogram2d"
           }
          ],
          "histogram2dcontour": [
           {
            "colorbar": {
             "outlinewidth": 0,
             "ticks": ""
            },
            "colorscale": [
             [
              0,
              "#0d0887"
             ],
             [
              0.1111111111111111,
              "#46039f"
             ],
             [
              0.2222222222222222,
              "#7201a8"
             ],
             [
              0.3333333333333333,
              "#9c179e"
             ],
             [
              0.4444444444444444,
              "#bd3786"
             ],
             [
              0.5555555555555556,
              "#d8576b"
             ],
             [
              0.6666666666666666,
              "#ed7953"
             ],
             [
              0.7777777777777778,
              "#fb9f3a"
             ],
             [
              0.8888888888888888,
              "#fdca26"
             ],
             [
              1,
              "#f0f921"
             ]
            ],
            "type": "histogram2dcontour"
           }
          ],
          "mesh3d": [
           {
            "colorbar": {
             "outlinewidth": 0,
             "ticks": ""
            },
            "type": "mesh3d"
           }
          ],
          "parcoords": [
           {
            "line": {
             "colorbar": {
              "outlinewidth": 0,
              "ticks": ""
             }
            },
            "type": "parcoords"
           }
          ],
          "pie": [
           {
            "automargin": true,
            "type": "pie"
           }
          ],
          "scatter": [
           {
            "fillpattern": {
             "fillmode": "overlay",
             "size": 10,
             "solidity": 0.2
            },
            "type": "scatter"
           }
          ],
          "scatter3d": [
           {
            "line": {
             "colorbar": {
              "outlinewidth": 0,
              "ticks": ""
             }
            },
            "marker": {
             "colorbar": {
              "outlinewidth": 0,
              "ticks": ""
             }
            },
            "type": "scatter3d"
           }
          ],
          "scattercarpet": [
           {
            "marker": {
             "colorbar": {
              "outlinewidth": 0,
              "ticks": ""
             }
            },
            "type": "scattercarpet"
           }
          ],
          "scattergeo": [
           {
            "marker": {
             "colorbar": {
              "outlinewidth": 0,
              "ticks": ""
             }
            },
            "type": "scattergeo"
           }
          ],
          "scattergl": [
           {
            "marker": {
             "colorbar": {
              "outlinewidth": 0,
              "ticks": ""
             }
            },
            "type": "scattergl"
           }
          ],
          "scattermapbox": [
           {
            "marker": {
             "colorbar": {
              "outlinewidth": 0,
              "ticks": ""
             }
            },
            "type": "scattermapbox"
           }
          ],
          "scatterpolar": [
           {
            "marker": {
             "colorbar": {
              "outlinewidth": 0,
              "ticks": ""
             }
            },
            "type": "scatterpolar"
           }
          ],
          "scatterpolargl": [
           {
            "marker": {
             "colorbar": {
              "outlinewidth": 0,
              "ticks": ""
             }
            },
            "type": "scatterpolargl"
           }
          ],
          "scatterternary": [
           {
            "marker": {
             "colorbar": {
              "outlinewidth": 0,
              "ticks": ""
             }
            },
            "type": "scatterternary"
           }
          ],
          "surface": [
           {
            "colorbar": {
             "outlinewidth": 0,
             "ticks": ""
            },
            "colorscale": [
             [
              0,
              "#0d0887"
             ],
             [
              0.1111111111111111,
              "#46039f"
             ],
             [
              0.2222222222222222,
              "#7201a8"
             ],
             [
              0.3333333333333333,
              "#9c179e"
             ],
             [
              0.4444444444444444,
              "#bd3786"
             ],
             [
              0.5555555555555556,
              "#d8576b"
             ],
             [
              0.6666666666666666,
              "#ed7953"
             ],
             [
              0.7777777777777778,
              "#fb9f3a"
             ],
             [
              0.8888888888888888,
              "#fdca26"
             ],
             [
              1,
              "#f0f921"
             ]
            ],
            "type": "surface"
           }
          ],
          "table": [
           {
            "cells": {
             "fill": {
              "color": "#EBF0F8"
             },
             "line": {
              "color": "white"
             }
            },
            "header": {
             "fill": {
              "color": "#C8D4E3"
             },
             "line": {
              "color": "white"
             }
            },
            "type": "table"
           }
          ]
         },
         "layout": {
          "annotationdefaults": {
           "arrowcolor": "#2a3f5f",
           "arrowhead": 0,
           "arrowwidth": 1
          },
          "autotypenumbers": "strict",
          "coloraxis": {
           "colorbar": {
            "outlinewidth": 0,
            "ticks": ""
           }
          },
          "colorscale": {
           "diverging": [
            [
             0,
             "#8e0152"
            ],
            [
             0.1,
             "#c51b7d"
            ],
            [
             0.2,
             "#de77ae"
            ],
            [
             0.3,
             "#f1b6da"
            ],
            [
             0.4,
             "#fde0ef"
            ],
            [
             0.5,
             "#f7f7f7"
            ],
            [
             0.6,
             "#e6f5d0"
            ],
            [
             0.7,
             "#b8e186"
            ],
            [
             0.8,
             "#7fbc41"
            ],
            [
             0.9,
             "#4d9221"
            ],
            [
             1,
             "#276419"
            ]
           ],
           "sequential": [
            [
             0,
             "#0d0887"
            ],
            [
             0.1111111111111111,
             "#46039f"
            ],
            [
             0.2222222222222222,
             "#7201a8"
            ],
            [
             0.3333333333333333,
             "#9c179e"
            ],
            [
             0.4444444444444444,
             "#bd3786"
            ],
            [
             0.5555555555555556,
             "#d8576b"
            ],
            [
             0.6666666666666666,
             "#ed7953"
            ],
            [
             0.7777777777777778,
             "#fb9f3a"
            ],
            [
             0.8888888888888888,
             "#fdca26"
            ],
            [
             1,
             "#f0f921"
            ]
           ],
           "sequentialminus": [
            [
             0,
             "#0d0887"
            ],
            [
             0.1111111111111111,
             "#46039f"
            ],
            [
             0.2222222222222222,
             "#7201a8"
            ],
            [
             0.3333333333333333,
             "#9c179e"
            ],
            [
             0.4444444444444444,
             "#bd3786"
            ],
            [
             0.5555555555555556,
             "#d8576b"
            ],
            [
             0.6666666666666666,
             "#ed7953"
            ],
            [
             0.7777777777777778,
             "#fb9f3a"
            ],
            [
             0.8888888888888888,
             "#fdca26"
            ],
            [
             1,
             "#f0f921"
            ]
           ]
          },
          "colorway": [
           "#636efa",
           "#EF553B",
           "#00cc96",
           "#ab63fa",
           "#FFA15A",
           "#19d3f3",
           "#FF6692",
           "#B6E880",
           "#FF97FF",
           "#FECB52"
          ],
          "font": {
           "color": "#2a3f5f"
          },
          "geo": {
           "bgcolor": "white",
           "lakecolor": "white",
           "landcolor": "#E5ECF6",
           "showlakes": true,
           "showland": true,
           "subunitcolor": "white"
          },
          "hoverlabel": {
           "align": "left"
          },
          "hovermode": "closest",
          "mapbox": {
           "style": "light"
          },
          "paper_bgcolor": "white",
          "plot_bgcolor": "#E5ECF6",
          "polar": {
           "angularaxis": {
            "gridcolor": "white",
            "linecolor": "white",
            "ticks": ""
           },
           "bgcolor": "#E5ECF6",
           "radialaxis": {
            "gridcolor": "white",
            "linecolor": "white",
            "ticks": ""
           }
          },
          "scene": {
           "xaxis": {
            "backgroundcolor": "#E5ECF6",
            "gridcolor": "white",
            "gridwidth": 2,
            "linecolor": "white",
            "showbackground": true,
            "ticks": "",
            "zerolinecolor": "white"
           },
           "yaxis": {
            "backgroundcolor": "#E5ECF6",
            "gridcolor": "white",
            "gridwidth": 2,
            "linecolor": "white",
            "showbackground": true,
            "ticks": "",
            "zerolinecolor": "white"
           },
           "zaxis": {
            "backgroundcolor": "#E5ECF6",
            "gridcolor": "white",
            "gridwidth": 2,
            "linecolor": "white",
            "showbackground": true,
            "ticks": "",
            "zerolinecolor": "white"
           }
          },
          "shapedefaults": {
           "line": {
            "color": "#2a3f5f"
           }
          },
          "ternary": {
           "aaxis": {
            "gridcolor": "white",
            "linecolor": "white",
            "ticks": ""
           },
           "baxis": {
            "gridcolor": "white",
            "linecolor": "white",
            "ticks": ""
           },
           "bgcolor": "#E5ECF6",
           "caxis": {
            "gridcolor": "white",
            "linecolor": "white",
            "ticks": ""
           }
          },
          "title": {
           "x": 0.05
          },
          "xaxis": {
           "automargin": true,
           "gridcolor": "white",
           "linecolor": "white",
           "ticks": "",
           "title": {
            "standoff": 15
           },
           "zerolinecolor": "white",
           "zerolinewidth": 2
          },
          "yaxis": {
           "automargin": true,
           "gridcolor": "white",
           "linecolor": "white",
           "ticks": "",
           "title": {
            "standoff": 15
           },
           "zerolinecolor": "white",
           "zerolinewidth": 2
          }
         }
        },
        "title": {
         "text": "H*len(m)"
        },
        "xaxis": {
         "anchor": "y",
         "domain": [
          0,
          1
         ],
         "title": {
          "text": "index"
         }
        },
        "yaxis": {
         "anchor": "x",
         "domain": [
          0,
          1
         ],
         "title": {
          "text": "EntropySize"
         }
        }
       }
      }
     },
     "metadata": {},
     "output_type": "display_data"
    }
   ],
   "source": [
    "fig = px.line(df, x=df.index, y=df.EntropySize, title='H*len(m)', text=[(\"%.0f\" % x) for x in df.EntropySize.values])\n",
    "fig.update_traces(textposition='top center')\n",
    "fig.show()"
   ]
  },
  {
   "cell_type": "markdown",
   "metadata": {},
   "source": [
    "# Real experiment data"
   ]
  },
  {
   "cell_type": "code",
   "execution_count": null,
   "metadata": {},
   "outputs": [],
   "source": [
    "def get_datasets(normalization=None):\n",
    "    return [\n",
    "        #(*load_dataset(DataSets.english, normalization), DataSets.english),  done\n",
    "        #(*load_dataset(DataSets.dna, normalization), DataSets.dna),\n",
    "        #(*load_dataset(DataSets.proteins, normalization), DataSets.proteins),\n",
    "        (*load_dataset(DataSets.sources, normalization), DataSets.sources),\n",
    "    ]"
   ]
  },
  {
   "cell_type": "code",
   "execution_count": null,
   "metadata": {},
   "outputs": [],
   "source": [
    "NORM_VALUES = [10000]\n",
    "CSV_NAME = \"steps.csv\"\n",
    "ENTROPY_GRAPH = \"entropy_paradox.png\"\n",
    "MESSAGE_GRAPH = \"message_size.png\"\n",
    "MESSAGE_SIZE_ENTROPY_GRAPH = \"message_entropy_size.png\"\n",
    "MESSAGE_ENTROPY = \"message_entropy.png\""
   ]
  },
  {
   "cell_type": "code",
   "execution_count": null,
   "metadata": {},
   "outputs": [],
   "source": [
    "def write_images(df, path):\n",
    "    fig = px.line(df, x=df.index, y=df.EntropyMove, text=[(\"%.1f\" % x) for x in df.EntropyMove.values], title='Pohyb entropie')\n",
    "    fig.update_traces(textposition='top center')\n",
    "    fig.write_image(os.path.sep.join([path, ENTROPY_GRAPH]))\n",
    "    \n",
    "    fig = px.line(df, x=df.index, y=df.MessageSize, text=df.MessageSize, title='Velikost zprávy')\n",
    "    fig.update_traces(textposition='top center')\n",
    "    fig.write_image(os.path.sep.join([path, MESSAGE_GRAPH]))    \n",
    "\n",
    "    fig = px.line(df, x=df.index, y=[df.MessageSize, df.EntropySize], title='Velikost zprávy proti aktuální entropii')\n",
    "    fig.update_traces(textposition='top center')\n",
    "    fig.write_image(os.path.sep.join([path, MESSAGE_SIZE_ENTROPY_GRAPH]))\n",
    "\n",
    "    fig = px.line(df, x=df.index, y=df.EntropySize, title='H*len(m)', text=[(\"%.0f\" % x) for x in df.EntropySize.values])\n",
    "    fig.update_traces(textposition='top center')   \n",
    "    fig.write_image(os.path.sep.join([path, MESSAGE_ENTROPY]))"
   ]
  },
  {
   "cell_type": "code",
   "execution_count": null,
   "metadata": {},
   "outputs": [],
   "source": [
    "def save_dataframe(df, path):\n",
    "    path = os.path.sep.join([path, CSV_NAME])\n",
    "    df.to_csv(path, index=False)"
   ]
  },
  {
   "cell_type": "code",
   "execution_count": null,
   "metadata": {},
   "outputs": [],
   "source": [
    "def run_algorithm_for_datasets(normalization_values=NORM_VALUES, largest=True, limit_steps=None, optimized=False):\n",
    "    for n_v in normalization_values:\n",
    "\n",
    "        datasets = get_datasets(n_v)\n",
    "\n",
    "        for data, data_path, data_type in datasets:\n",
    "            data_type_string = data_type.value\n",
    "            current_path = os.path.sep.join([data_type_string, str(n_v)])\n",
    "\n",
    "            limit_steps_str = \"None\" if limit_steps is None else str(limit_steps)\n",
    "            optimized_string = \"optimized\" if optimized else \"bruto\"\n",
    "\n",
    "            steps_path = os.path.sep.join([current_path, limit_steps_str, str(largest), optimized_string])\n",
    "\n",
    "            if not os.path.isdir(steps_path):\n",
    "                os.makedirs(steps_path)\n",
    "\n",
    "            heurestic_method = pick_largest if largest else pick_random\n",
    "\n",
    "            res = algorithm(data, data_type_string, \"\", limit_step=limit_steps, heuristic_method=heurestic_method, optimized=optimized)\n",
    "            df = pd.DataFrame.from_dict(res, orient=\"index\")\n",
    "\n",
    "\n",
    "            save_dataframe(df, steps_path)\n",
    "            write_images(df, steps_path)"
   ]
  },
  {
   "cell_type": "code",
   "execution_count": null,
   "metadata": {},
   "outputs": [],
   "source": [
    "LIMIT_STEPS = [None]\n",
    "LARGEST_METHOD = [True] #largest || random\n",
    "OPTIMIZED = [False] #not optimized (bruto) || optimized"
   ]
  },
  {
   "cell_type": "code",
   "execution_count": null,
   "metadata": {},
   "outputs": [],
   "source": [
    "import itertools"
   ]
  },
  {
   "cell_type": "code",
   "execution_count": null,
   "metadata": {},
   "outputs": [],
   "source": [
    "exps = list(itertools.product(LIMIT_STEPS, LARGEST_METHOD, OPTIMIZED))\n",
    "exps"
   ]
  },
  {
   "cell_type": "code",
   "execution_count": null,
   "metadata": {},
   "outputs": [],
   "source": [
    "for limit_steps, largest_method, optimized in exps:\n",
    "    run_algorithm_for_datasets(NORM_VALUES, largest_method, limit_steps, optimized)"
   ]
  }
 ],
 "metadata": {
  "interpreter": {
   "hash": "97e6c85832baaca9363ab02f06d99864db3184f5c282967bd7ef920b2fe63dcd"
  },
  "kernelspec": {
   "display_name": "Python 3.8.1 ('venv': venv)",
   "language": "python",
   "name": "python3"
  },
  "language_info": {
   "codemirror_mode": {
    "name": "ipython",
    "version": 3
   },
   "file_extension": ".py",
   "mimetype": "text/x-python",
   "name": "python",
   "nbconvert_exporter": "python",
   "pygments_lexer": "ipython3",
   "version": "3.9.10"
  },
  "orig_nbformat": 4
 },
 "nbformat": 4,
 "nbformat_minor": 2
}
