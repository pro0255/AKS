{
 "cells": [
  {
   "cell_type": "markdown",
   "metadata": {},
   "source": [
    "# 23.3. Dictionary coding I - 10 points\n",
    "\n",
    "- Compress and decompress files from Lab 1. using LZ77 or LZSS (7pts)\n",
    "- Try different sizes of the sliding window: 4kB, 16kB, 32kB and lengths of the uncompressed part. (1pt)\n",
    "- Try to compute zero order entropy of each field in a token and use it to compute approximate final compressed file size. (1pt)\n",
    "- Compute the length of the output file and prepare a report summarizing the results. (1pt)"
   ]
  },
  {
   "cell_type": "markdown",
   "metadata": {},
   "source": [
    "## Compress and decompress files from Lab 1. using LZ77 or LZSS (7pts)"
   ]
  },
  {
   "cell_type": "code",
   "execution_count": 2,
   "metadata": {},
   "outputs": [],
   "source": [
    "import os\n",
    "import sys\n",
    "\n",
    "def adding_module_path():\n",
    "    module_path = os.path.abspath(os.path.sep.join([\"..\"]*2))\n",
    "\n",
    "    if module_path not in sys.path:\n",
    "        sys.path.append(module_path)\n",
    "\n",
    "adding_module_path()"
   ]
  },
  {
   "cell_type": "code",
   "execution_count": 231,
   "metadata": {},
   "outputs": [],
   "source": [
    "from src.load_data import get_dataset\n",
    "from src.load_data import DataSets\n",
    "from src.get_probs import get_sorted_probs_as_df\n",
    "import numpy as np\n",
    "import pandas as pd\n",
    "import time\n",
    "from src.types.table_types import Fields\n",
    "from src.save import save_both\n",
    "from enum import Enum\n",
    "import re\n",
    "from ast import literal_eval\n"
   ]
  },
  {
   "cell_type": "code",
   "execution_count": 7,
   "metadata": {},
   "outputs": [],
   "source": [
    "class LZType(Enum):\n",
    "    LZ77 = \"LZ77\"\n",
    "    LZSS = \"LZSS\""
   ]
  },
  {
   "cell_type": "code",
   "execution_count": 9,
   "metadata": {},
   "outputs": [
    {
     "name": "stdout",
     "output_type": "stream",
     "text": [
      "Loading C://Users//Vojta//Desktop//iv//AKS//datasets\\dna\\dna.50MB\n"
     ]
    }
   ],
   "source": [
    "data_dna, path_dna = get_dataset(DataSets.dna)"
   ]
  },
  {
   "cell_type": "code",
   "execution_count": 10,
   "metadata": {},
   "outputs": [],
   "source": [
    "test_text = \"abbabbabbbaab\""
   ]
  },
  {
   "cell_type": "markdown",
   "metadata": {},
   "source": [
    "### LZ77"
   ]
  },
  {
   "cell_type": "code",
   "execution_count": 336,
   "metadata": {},
   "outputs": [],
   "source": [
    "class LZ77:\n",
    "    def __init__(self):\n",
    "        pass\n",
    "\n",
    "    def encode(self, text):\n",
    "        items = []\n",
    "        unprocessed = text\n",
    "        processed = \"\"\n",
    "        while True:\n",
    "            pointer, match_length = None, None\n",
    "\n",
    "            if len(unprocessed) == 0:\n",
    "                break\n",
    "\n",
    "            if len(unprocessed) == 1:\n",
    "                current_item = {\n",
    "                    \"Processed\": processed + unprocessed,\n",
    "                    \"Unprocessed\": \"\",\n",
    "                    \"P\": 0,\n",
    "                    \"L\": 0,\n",
    "                    \"N\": unprocessed\n",
    "                }\n",
    "                items.append(current_item)\n",
    "                break\n",
    "\n",
    "\n",
    "            if len(items) == 0:\n",
    "                pointer, match_length, match_text = self.find_longest_match(None, unprocessed)\n",
    "            else:\n",
    "                last_item = items[-1]\n",
    "                pointer, match_length, match_text = self.find_longest_match(last_item[\"Processed\"], last_item[\"Unprocessed\"])\n",
    "            \n",
    "\n",
    "            next_symbol = unprocessed[match_length]\n",
    "            processed +=  match_text + next_symbol\n",
    "            unprocessed = unprocessed[match_length+1:]\n",
    "            \n",
    "\n",
    "            current_item = {\n",
    "                \"Processed\": processed,\n",
    "                \"Unprocessed\": unprocessed,\n",
    "                \"P\": pointer,\n",
    "                \"L\": match_length,\n",
    "                \"N\": next_symbol\n",
    "            }\n",
    "\n",
    "            items.append(current_item)\n",
    "        return items\n",
    "\n",
    "    def find_longest_match(self, text_processed, text_unprocessed):\n",
    "        #start of match\n",
    "        pointer = 0\n",
    "\n",
    "        #match length\n",
    "        match_length = 0\n",
    "\n",
    "        #text which is matched without replication\n",
    "        match_text = \"\"\n",
    "\n",
    "        if text_processed is None:\n",
    "            return pointer, match_length, match_text\n",
    "\n",
    "        for i in range(len(text_processed)):\n",
    "            sub_sequence = text_unprocessed[:i+1]\n",
    "\n",
    "            matches = [(match.span(), match.string[match.span()[0]:match.span()[1]])for match in re.finditer(sub_sequence, text_processed)]\n",
    "            sorted_matches = list(sorted(matches, key=lambda x: x[0][0], reverse=True))\n",
    "\n",
    "\n",
    "            if len(sorted_matches) > 0:\n",
    "                last = sorted_matches[0]\n",
    "                span, text = last\n",
    "                start, end = span\n",
    "\n",
    "                if end == len(text_processed):\n",
    "                    #try replicate\n",
    "                    test_length = 0\n",
    "                    while True:\n",
    "                        current_char = text[test_length % len(text)]\n",
    "                        if current_char == text_unprocessed[test_length]:\n",
    "                            test_length += 1\n",
    "                        else:\n",
    "                            break\n",
    "\n",
    "                    #maybe equal?\n",
    "                    if test_length > match_length:\n",
    "                        match_length = test_length\n",
    "                        pointer = len(text_processed) - start\n",
    "                        match_text = text_unprocessed[0:test_length]\n",
    "                else:\n",
    "                    if len(text) > match_length:\n",
    "                        match_length = len(text)\n",
    "                        pointer = len(text_processed) - start\n",
    "                        match_text = text_unprocessed[0:len(text)]\n",
    "\n",
    "\n",
    "        return pointer, match_length, match_text\n",
    "\n",
    "    def create_from_triplets_code(self, triplets):\n",
    "        return \";\".join(str((x[\"P\"], x[\"L\"], x[\"N\"])) for x in triplets)\n",
    "\n",
    "    def create_from_code_triplets(self, code):\n",
    "        return code.split(';')\n",
    "\n",
    "    def tiplets_to_table(self, triplets):\n",
    "        return pd.DataFrame(triplets)\n",
    "    \n",
    "    def decode(self, triplets):\n",
    "        processed = \"\"\n",
    "\n",
    "        for triplet in triplets:\n",
    "            new_processed = processed\n",
    "            pointer, sequnce_length, next_symbol = literal_eval(triplet)\n",
    "\n",
    "            if pointer == 0 and sequnce_length == 0:\n",
    "                new_processed += next_symbol\n",
    "                processed = new_processed\n",
    "                continue\n",
    "            \n",
    "            i = pointer\n",
    "            counter = 0\n",
    "            while counter < sequnce_length:\n",
    "                new_processed += processed[-i]\n",
    "                counter += 1\n",
    "                i -= 1\n",
    "                if i == 0:\n",
    "                    i = pointer\n",
    "\n",
    "            new_processed += next_symbol\n",
    "            processed = new_processed\n",
    "\n",
    "\n",
    "        return processed"
   ]
  },
  {
   "cell_type": "code",
   "execution_count": 337,
   "metadata": {},
   "outputs": [],
   "source": [
    "instance = LZ77()"
   ]
  },
  {
   "cell_type": "code",
   "execution_count": 338,
   "metadata": {},
   "outputs": [
    {
     "data": {
      "text/plain": [
       "(3, 5, 'bbabb')"
      ]
     },
     "execution_count": 338,
     "metadata": {},
     "output_type": "execute_result"
    }
   ],
   "source": [
    "instance.find_longest_match(\"abba\", \"bbabbbaab\")"
   ]
  },
  {
   "cell_type": "code",
   "execution_count": 348,
   "metadata": {},
   "outputs": [],
   "source": [
    "triplets = instance.encode(test_text)"
   ]
  },
  {
   "cell_type": "code",
   "execution_count": 349,
   "metadata": {},
   "outputs": [
    {
     "data": {
      "text/html": [
       "<div>\n",
       "<style scoped>\n",
       "    .dataframe tbody tr th:only-of-type {\n",
       "        vertical-align: middle;\n",
       "    }\n",
       "\n",
       "    .dataframe tbody tr th {\n",
       "        vertical-align: top;\n",
       "    }\n",
       "\n",
       "    .dataframe thead th {\n",
       "        text-align: right;\n",
       "    }\n",
       "</style>\n",
       "<table border=\"1\" class=\"dataframe\">\n",
       "  <thead>\n",
       "    <tr style=\"text-align: right;\">\n",
       "      <th></th>\n",
       "      <th>Processed</th>\n",
       "      <th>Unprocessed</th>\n",
       "      <th>P</th>\n",
       "      <th>L</th>\n",
       "      <th>N</th>\n",
       "    </tr>\n",
       "  </thead>\n",
       "  <tbody>\n",
       "    <tr>\n",
       "      <th>0</th>\n",
       "      <td>a</td>\n",
       "      <td>bbabbabbbaab</td>\n",
       "      <td>0</td>\n",
       "      <td>0</td>\n",
       "      <td>a</td>\n",
       "    </tr>\n",
       "    <tr>\n",
       "      <th>1</th>\n",
       "      <td>ab</td>\n",
       "      <td>babbabbbaab</td>\n",
       "      <td>0</td>\n",
       "      <td>0</td>\n",
       "      <td>b</td>\n",
       "    </tr>\n",
       "    <tr>\n",
       "      <th>2</th>\n",
       "      <td>abba</td>\n",
       "      <td>bbabbbaab</td>\n",
       "      <td>1</td>\n",
       "      <td>1</td>\n",
       "      <td>a</td>\n",
       "    </tr>\n",
       "    <tr>\n",
       "      <th>3</th>\n",
       "      <td>abbabbabbb</td>\n",
       "      <td>aab</td>\n",
       "      <td>3</td>\n",
       "      <td>5</td>\n",
       "      <td>b</td>\n",
       "    </tr>\n",
       "    <tr>\n",
       "      <th>4</th>\n",
       "      <td>abbabbabbbaa</td>\n",
       "      <td>b</td>\n",
       "      <td>4</td>\n",
       "      <td>1</td>\n",
       "      <td>a</td>\n",
       "    </tr>\n",
       "    <tr>\n",
       "      <th>5</th>\n",
       "      <td>abbabbabbbaab</td>\n",
       "      <td></td>\n",
       "      <td>0</td>\n",
       "      <td>0</td>\n",
       "      <td>b</td>\n",
       "    </tr>\n",
       "  </tbody>\n",
       "</table>\n",
       "</div>"
      ],
      "text/plain": [
       "       Processed   Unprocessed  P  L  N\n",
       "0              a  bbabbabbbaab  0  0  a\n",
       "1             ab   babbabbbaab  0  0  b\n",
       "2           abba     bbabbbaab  1  1  a\n",
       "3     abbabbabbb           aab  3  5  b\n",
       "4   abbabbabbbaa             b  4  1  a\n",
       "5  abbabbabbbaab                0  0  b"
      ]
     },
     "execution_count": 349,
     "metadata": {},
     "output_type": "execute_result"
    }
   ],
   "source": [
    "instance.tiplets_to_table(triplets)"
   ]
  },
  {
   "cell_type": "code",
   "execution_count": 350,
   "metadata": {},
   "outputs": [],
   "source": [
    "code = instance.create_from_triplets_code(triplets)"
   ]
  },
  {
   "cell_type": "code",
   "execution_count": 351,
   "metadata": {},
   "outputs": [
    {
     "data": {
      "text/plain": [
       "\"(0, 0, 'a');(0, 0, 'b');(1, 1, 'a');(3, 5, 'b');(4, 1, 'a');(0, 0, 'b')\""
      ]
     },
     "execution_count": 351,
     "metadata": {},
     "output_type": "execute_result"
    }
   ],
   "source": [
    "code"
   ]
  },
  {
   "cell_type": "code",
   "execution_count": 352,
   "metadata": {},
   "outputs": [],
   "source": [
    "triplets = instance.create_from_code_triplets(code)"
   ]
  },
  {
   "cell_type": "code",
   "execution_count": 353,
   "metadata": {},
   "outputs": [],
   "source": [
    "decoded = instance.decode(triplets)"
   ]
  },
  {
   "cell_type": "markdown",
   "metadata": {},
   "source": [
    "#### Test if works correctly"
   ]
  },
  {
   "cell_type": "code",
   "execution_count": 354,
   "metadata": {},
   "outputs": [
    {
     "data": {
      "text/plain": [
       "True"
      ]
     },
     "execution_count": 354,
     "metadata": {},
     "output_type": "execute_result"
    }
   ],
   "source": [
    "decoded == test_text"
   ]
  },
  {
   "cell_type": "markdown",
   "metadata": {},
   "source": [
    "### LZSS"
   ]
  },
  {
   "cell_type": "code",
   "execution_count": 362,
   "metadata": {},
   "outputs": [],
   "source": [
    "test_text = \"abbabbabbbaab\""
   ]
  },
  {
   "cell_type": "code",
   "execution_count": 410,
   "metadata": {},
   "outputs": [],
   "source": [
    "class LZSS:\n",
    "    def __init__(self):\n",
    "        pass\n",
    "\n",
    "    def encode(self, text):\n",
    "        items = []\n",
    "        unprocessed = text\n",
    "        processed = \"\"\n",
    "        while True:\n",
    "            pointer, match_length = None, None\n",
    "\n",
    "            if len(unprocessed) == 0:\n",
    "                break\n",
    "\n",
    "            if len(unprocessed) == 1:\n",
    "                current_item = {\n",
    "                    \"Processed\": processed + unprocessed,\n",
    "                    \"Unprocessed\": \"\",\n",
    "                    \"Output\": (0, unprocessed)\n",
    "                }\n",
    "                items.append(current_item)\n",
    "                break\n",
    "\n",
    "\n",
    "            if len(items) == 0:\n",
    "                pointer, match_length, match_text = self.find_longest_match(None, unprocessed)\n",
    "            else:\n",
    "                last_item = items[-1]\n",
    "                pointer, match_length, match_text = self.find_longest_match(last_item[\"Processed\"], last_item[\"Unprocessed\"])\n",
    "            \n",
    "            if pointer == 0:\n",
    "                next_symbol = unprocessed[match_length]\n",
    "                processed += next_symbol\n",
    "                unprocessed = unprocessed[match_length+1:]\n",
    "                current_item = {\n",
    "                    \"Processed\": processed,\n",
    "                    \"Unprocessed\": unprocessed,\n",
    "                    \"Output\": (0, next_symbol)\n",
    "                }\n",
    "                items.append(current_item)\n",
    "\n",
    "            else:\n",
    "                processed +=  match_text\n",
    "                unprocessed = unprocessed[match_length:]\n",
    "                \n",
    "                current_item = {\n",
    "                    \"Processed\": processed,\n",
    "                    \"Unprocessed\": unprocessed,\n",
    "                    \"Output\": (1, pointer, match_length)\n",
    "                }\n",
    "                items.append(current_item)\n",
    "            \n",
    "        return items\n",
    "\n",
    "    def find_longest_match(self, text_processed, text_unprocessed):\n",
    "        #start of match\n",
    "        pointer = 0\n",
    "\n",
    "        #match length\n",
    "        match_length = 0\n",
    "\n",
    "        #text which is matched without replication\n",
    "        match_text = \"\"\n",
    "\n",
    "        if text_processed is None:\n",
    "            return pointer, match_length, match_text\n",
    "\n",
    "        for i in range(len(text_processed)):\n",
    "            sub_sequence = text_unprocessed[:i+1]\n",
    "\n",
    "            matches = [(match.span(), match.string[match.span()[0]:match.span()[1]])for match in re.finditer(sub_sequence, text_processed)]\n",
    "            sorted_matches = list(sorted(matches, key=lambda x: x[0][0], reverse=True))\n",
    "\n",
    "\n",
    "            if len(sorted_matches) > 0:\n",
    "                last = sorted_matches[0]\n",
    "                span, text = last\n",
    "                start, end = span\n",
    "\n",
    "                if end == len(text_processed):\n",
    "                    #try replicate\n",
    "                    test_length = 0\n",
    "                    while True:\n",
    "                        current_char = text[test_length % len(text)]\n",
    "                        if current_char == text_unprocessed[test_length]:\n",
    "                            test_length += 1\n",
    "                        else:\n",
    "                            break\n",
    "\n",
    "                    #maybe equal?\n",
    "                    if test_length > match_length:\n",
    "                        match_length = test_length\n",
    "                        pointer = len(text_processed) - start\n",
    "                        match_text = text_unprocessed[0:test_length]\n",
    "                else:\n",
    "                    if len(text) > match_length:\n",
    "                        match_length = len(text)\n",
    "                        pointer = len(text_processed) - start\n",
    "                        match_text = text_unprocessed[0:len(text)]\n",
    "\n",
    "\n",
    "        return pointer, match_length, match_text\n",
    "\n",
    "    def create_from_triplets_code(self, triplets):\n",
    "        return \";\".join(str((x[\"Output\"])) for x in triplets)\n",
    "\n",
    "    def create_from_code_triplets(self, code):\n",
    "        return code.split(';')\n",
    "\n",
    "    def tiplets_to_table(self, triplets):\n",
    "        return pd.DataFrame(triplets)\n",
    "    \n",
    "    def decode(self, triplets):\n",
    "        processed = \"\"\n",
    "\n",
    "        for triplet in triplets:\n",
    "            new_processed = processed\n",
    "            tup = literal_eval(triplet)\n",
    "\n",
    "            if tup[0] == 0:\n",
    "                flag, next = tup\n",
    "                new_processed += next\n",
    "                processed = new_processed\n",
    "                continue\n",
    "\n",
    "            else:\n",
    "                flag, pointer, sequnce_length = tup\n",
    "\n",
    "                i = pointer\n",
    "                counter = 0\n",
    "                while counter < sequnce_length:\n",
    "                    new_processed += processed[-i]\n",
    "                    counter += 1\n",
    "                    i -= 1\n",
    "                    if i == 0:\n",
    "                        i = pointer\n",
    "\n",
    "                processed = new_processed\n",
    "\n",
    "\n",
    "        return processed"
   ]
  },
  {
   "cell_type": "code",
   "execution_count": 411,
   "metadata": {},
   "outputs": [],
   "source": [
    "instance = LZSS()"
   ]
  },
  {
   "cell_type": "code",
   "execution_count": 412,
   "metadata": {},
   "outputs": [
    {
     "data": {
      "text/plain": [
       "(6, 2, 'ab')"
      ]
     },
     "execution_count": 412,
     "metadata": {},
     "output_type": "execute_result"
    }
   ],
   "source": [
    "instance.find_longest_match(\"abbabbabbbba\", \"ab\")"
   ]
  },
  {
   "cell_type": "code",
   "execution_count": 413,
   "metadata": {},
   "outputs": [],
   "source": [
    "triplets = instance.encode(test_text)"
   ]
  },
  {
   "cell_type": "code",
   "execution_count": 414,
   "metadata": {},
   "outputs": [
    {
     "data": {
      "text/html": [
       "<div>\n",
       "<style scoped>\n",
       "    .dataframe tbody tr th:only-of-type {\n",
       "        vertical-align: middle;\n",
       "    }\n",
       "\n",
       "    .dataframe tbody tr th {\n",
       "        vertical-align: top;\n",
       "    }\n",
       "\n",
       "    .dataframe thead th {\n",
       "        text-align: right;\n",
       "    }\n",
       "</style>\n",
       "<table border=\"1\" class=\"dataframe\">\n",
       "  <thead>\n",
       "    <tr style=\"text-align: right;\">\n",
       "      <th></th>\n",
       "      <th>Processed</th>\n",
       "      <th>Unprocessed</th>\n",
       "      <th>Output</th>\n",
       "    </tr>\n",
       "  </thead>\n",
       "  <tbody>\n",
       "    <tr>\n",
       "      <th>0</th>\n",
       "      <td>a</td>\n",
       "      <td>bbabbabbbaab</td>\n",
       "      <td>(0, a)</td>\n",
       "    </tr>\n",
       "    <tr>\n",
       "      <th>1</th>\n",
       "      <td>ab</td>\n",
       "      <td>babbabbbaab</td>\n",
       "      <td>(0, b)</td>\n",
       "    </tr>\n",
       "    <tr>\n",
       "      <th>2</th>\n",
       "      <td>abb</td>\n",
       "      <td>abbabbbaab</td>\n",
       "      <td>(1, 1, 1)</td>\n",
       "    </tr>\n",
       "    <tr>\n",
       "      <th>3</th>\n",
       "      <td>abbabbabb</td>\n",
       "      <td>baab</td>\n",
       "      <td>(1, 3, 6)</td>\n",
       "    </tr>\n",
       "    <tr>\n",
       "      <th>4</th>\n",
       "      <td>abbabbabbba</td>\n",
       "      <td>ab</td>\n",
       "      <td>(1, 4, 2)</td>\n",
       "    </tr>\n",
       "    <tr>\n",
       "      <th>5</th>\n",
       "      <td>abbabbabbbaab</td>\n",
       "      <td></td>\n",
       "      <td>(1, 5, 2)</td>\n",
       "    </tr>\n",
       "  </tbody>\n",
       "</table>\n",
       "</div>"
      ],
      "text/plain": [
       "       Processed   Unprocessed     Output\n",
       "0              a  bbabbabbbaab     (0, a)\n",
       "1             ab   babbabbbaab     (0, b)\n",
       "2            abb    abbabbbaab  (1, 1, 1)\n",
       "3      abbabbabb          baab  (1, 3, 6)\n",
       "4    abbabbabbba            ab  (1, 4, 2)\n",
       "5  abbabbabbbaab                (1, 5, 2)"
      ]
     },
     "execution_count": 414,
     "metadata": {},
     "output_type": "execute_result"
    }
   ],
   "source": [
    "#chyba v prezentaci v poslednim radku :((\n",
    "\n",
    "instance.tiplets_to_table(triplets)"
   ]
  },
  {
   "cell_type": "code",
   "execution_count": 415,
   "metadata": {},
   "outputs": [],
   "source": [
    "code = instance.create_from_triplets_code(triplets)"
   ]
  },
  {
   "cell_type": "code",
   "execution_count": 416,
   "metadata": {},
   "outputs": [
    {
     "data": {
      "text/plain": [
       "\"(0, 'a');(0, 'b');(1, 1, 1);(1, 3, 6);(1, 4, 2);(1, 5, 2)\""
      ]
     },
     "execution_count": 416,
     "metadata": {},
     "output_type": "execute_result"
    }
   ],
   "source": [
    "code"
   ]
  },
  {
   "cell_type": "code",
   "execution_count": 417,
   "metadata": {},
   "outputs": [],
   "source": [
    "triplets = instance.create_from_code_triplets(code)"
   ]
  },
  {
   "cell_type": "code",
   "execution_count": 418,
   "metadata": {},
   "outputs": [],
   "source": [
    "decoded = instance.decode(triplets)"
   ]
  },
  {
   "cell_type": "markdown",
   "metadata": {},
   "source": [
    "#### Test if works correctly"
   ]
  },
  {
   "cell_type": "code",
   "execution_count": 419,
   "metadata": {},
   "outputs": [
    {
     "data": {
      "text/plain": [
       "True"
      ]
     },
     "execution_count": 419,
     "metadata": {},
     "output_type": "execute_result"
    }
   ],
   "source": [
    "decoded == test_text"
   ]
  },
  {
   "cell_type": "markdown",
   "metadata": {},
   "source": [
    "## Try different sizes of the sliding window: 4kB, 16kB, 32kB and lengths of the uncompressed part. (1pt)"
   ]
  },
  {
   "cell_type": "markdown",
   "metadata": {},
   "source": [
    "Co je sliding window?"
   ]
  },
  {
   "cell_type": "markdown",
   "metadata": {},
   "source": [
    "## Try to compute zero order entropy of each field in a token and use it to compute approximate final compressed file size. (1pt)"
   ]
  },
  {
   "cell_type": "markdown",
   "metadata": {},
   "source": [
    "Vytvořit graf v kterém budou entropie pro každý column!"
   ]
  },
  {
   "cell_type": "markdown",
   "metadata": {},
   "source": [
    "## Compute the length of the output file and prepare a report summarizing the results. (1pt)"
   ]
  },
  {
   "cell_type": "markdown",
   "metadata": {},
   "source": [
    "Co uložit do souboru?\n"
   ]
  }
 ],
 "metadata": {
  "interpreter": {
   "hash": "97e6c85832baaca9363ab02f06d99864db3184f5c282967bd7ef920b2fe63dcd"
  },
  "kernelspec": {
   "display_name": "Python 3.8.1 ('venv': venv)",
   "language": "python",
   "name": "python3"
  },
  "language_info": {
   "codemirror_mode": {
    "name": "ipython",
    "version": 3
   },
   "file_extension": ".py",
   "mimetype": "text/x-python",
   "name": "python",
   "nbconvert_exporter": "python",
   "pygments_lexer": "ipython3",
   "version": "3.8.1"
  },
  "orig_nbformat": 4
 },
 "nbformat": 4,
 "nbformat_minor": 2
}
