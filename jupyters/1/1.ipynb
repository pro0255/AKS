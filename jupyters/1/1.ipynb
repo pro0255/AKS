{
 "cells": [
  {
   "cell_type": "markdown",
   "metadata": {},
   "source": [
    "https://homel.vsb.cz/~vas218/acs.html"
   ]
  },
  {
   "cell_type": "code",
   "execution_count": 11,
   "metadata": {},
   "outputs": [],
   "source": [
    "import os\n",
    "from collections import Counter\n",
    "import numpy as np\n",
    "import math\n",
    "import pandas as pd"
   ]
  },
  {
   "cell_type": "code",
   "execution_count": 12,
   "metadata": {},
   "outputs": [],
   "source": [
    "def load_data(path):\n",
    "    content = ''\n",
    "    with open(path, 'r', encoding='windows-1252', errors='replace') as f:\n",
    "        content = f.read()\n",
    "    return content"
   ]
  },
  {
   "cell_type": "code",
   "execution_count": 13,
   "metadata": {},
   "outputs": [],
   "source": [
    "def calc_freq(content):\n",
    "    c = Counter(list(content))\n",
    "    return c"
   ]
  },
  {
   "cell_type": "code",
   "execution_count": 14,
   "metadata": {},
   "outputs": [],
   "source": [
    "def calc_p(counter, n):\n",
    "    counter = dict(counter)\n",
    "    res = {}\n",
    "    for k, v in counter.items():\n",
    "        res[k] = v / n  \n",
    "    return res"
   ]
  },
  {
   "cell_type": "code",
   "execution_count": 15,
   "metadata": {},
   "outputs": [],
   "source": [
    "def get_n(counter):\n",
    "    counter = dict(counter)\n",
    "    return np.sum(list(counter.values()))"
   ]
  },
  {
   "cell_type": "code",
   "execution_count": 16,
   "metadata": {},
   "outputs": [],
   "source": [
    "def calc_H(p):\n",
    "    H = 0\n",
    "    for k, v in p.items():\n",
    "        #Shannon equation!\n",
    "        H += p[k] * math.log2(p[k])\n",
    "    return -H"
   ]
  },
  {
   "cell_type": "code",
   "execution_count": 22,
   "metadata": {},
   "outputs": [],
   "source": [
    "def run_with_data(data):\n",
    "    counter = calc_freq(data)\n",
    "    n = get_n(counter)\n",
    "    p = calc_p(counter, n)\n",
    "    H = calc_H(p)\n",
    "    _H = n * H\n",
    "    res = {\n",
    "        \"alphabet_size\": len(list(counter.keys())),\n",
    "        \"H\": H,\n",
    "        \"approximate_size\": (\"%.3f\" % _H),\n",
    "        \"chars\": n,\n",
    "        \"original_size\": n * 8,\n",
    "        \"ratio\": (n * 8) / _H,\n",
    "        \"frequencies_of_symbols\": dict(counter)\n",
    "    }\n",
    "    return res"
   ]
  },
  {
   "cell_type": "code",
   "execution_count": 23,
   "metadata": {},
   "outputs": [],
   "source": [
    "def run(path):\n",
    "    data = load_data(path)\n",
    "    return run_with_data(data)"
   ]
  },
  {
   "cell_type": "code",
   "execution_count": 24,
   "metadata": {},
   "outputs": [],
   "source": [
    "directory = f'..\\..\\datasets'"
   ]
  },
  {
   "cell_type": "code",
   "execution_count": 25,
   "metadata": {},
   "outputs": [],
   "source": [
    "res = {}\n",
    "\n",
    "for dir in os.listdir(directory):\n",
    "    for nested_dir in os.listdir(os.path.sep.join([directory, dir])):\n",
    "        full_path = os.path.sep.join([directory, dir, nested_dir])\n",
    "        H = run(full_path)\n",
    "        res[full_path] = H"
   ]
  },
  {
   "cell_type": "code",
   "execution_count": 26,
   "metadata": {},
   "outputs": [],
   "source": [
    "df = pd.DataFrame.from_dict(res, orient='index')"
   ]
  },
  {
   "cell_type": "code",
   "execution_count": 27,
   "metadata": {},
   "outputs": [
    {
     "data": {
      "text/html": [
       "<div>\n",
       "<style scoped>\n",
       "    .dataframe tbody tr th:only-of-type {\n",
       "        vertical-align: middle;\n",
       "    }\n",
       "\n",
       "    .dataframe tbody tr th {\n",
       "        vertical-align: top;\n",
       "    }\n",
       "\n",
       "    .dataframe thead th {\n",
       "        text-align: right;\n",
       "    }\n",
       "</style>\n",
       "<table border=\"1\" class=\"dataframe\">\n",
       "  <thead>\n",
       "    <tr style=\"text-align: right;\">\n",
       "      <th></th>\n",
       "      <th>alphabet_size</th>\n",
       "      <th>H</th>\n",
       "      <th>approximate_size</th>\n",
       "      <th>chars</th>\n",
       "      <th>original_size</th>\n",
       "      <th>ratio</th>\n",
       "      <th>frequencies_of_symbols</th>\n",
       "    </tr>\n",
       "  </thead>\n",
       "  <tbody>\n",
       "    <tr>\n",
       "      <th>..\\..\\datasets\\dna\\dna.50MB</th>\n",
       "      <td>16</td>\n",
       "      <td>1.981943</td>\n",
       "      <td>103910918.170</td>\n",
       "      <td>52428800</td>\n",
       "      <td>419430400</td>\n",
       "      <td>4.036442</td>\n",
       "      <td>{'G': 11008713, 'A': 15203237, 'T': 15190093, ...</td>\n",
       "    </tr>\n",
       "    <tr>\n",
       "      <th>..\\..\\datasets\\english\\english.50MB</th>\n",
       "      <td>175</td>\n",
       "      <td>4.528864</td>\n",
       "      <td>237442921.024</td>\n",
       "      <td>52428800</td>\n",
       "      <td>419430400</td>\n",
       "      <td>1.766447</td>\n",
       "      <td>{'\n",
       "': 1007651, 'T': 138587, 'h': 2750886, 'i':...</td>\n",
       "    </tr>\n",
       "    <tr>\n",
       "      <th>..\\..\\datasets\\proteins\\proteins.50MB</th>\n",
       "      <td>25</td>\n",
       "      <td>4.195469</td>\n",
       "      <td>219963384.304</td>\n",
       "      <td>52428800</td>\n",
       "      <td>419430400</td>\n",
       "      <td>1.906819</td>\n",
       "      <td>{'M': 1327185, 'G': 3614402, 'K': 2655712, 'S'...</td>\n",
       "    </tr>\n",
       "    <tr>\n",
       "      <th>..\\..\\datasets\\sources\\sources.50MB</th>\n",
       "      <td>223</td>\n",
       "      <td>5.536963</td>\n",
       "      <td>290296322.774</td>\n",
       "      <td>52428800</td>\n",
       "      <td>419430400</td>\n",
       "      <td>1.444835</td>\n",
       "      <td>{'/': 418112, '*': 875368, '\n",
       "': 1763309, ' ': ...</td>\n",
       "    </tr>\n",
       "  </tbody>\n",
       "</table>\n",
       "</div>"
      ],
      "text/plain": [
       "                                       alphabet_size         H  \\\n",
       "..\\..\\datasets\\dna\\dna.50MB                       16  1.981943   \n",
       "..\\..\\datasets\\english\\english.50MB              175  4.528864   \n",
       "..\\..\\datasets\\proteins\\proteins.50MB             25  4.195469   \n",
       "..\\..\\datasets\\sources\\sources.50MB              223  5.536963   \n",
       "\n",
       "                                      approximate_size     chars  \\\n",
       "..\\..\\datasets\\dna\\dna.50MB              103910918.170  52428800   \n",
       "..\\..\\datasets\\english\\english.50MB      237442921.024  52428800   \n",
       "..\\..\\datasets\\proteins\\proteins.50MB    219963384.304  52428800   \n",
       "..\\..\\datasets\\sources\\sources.50MB      290296322.774  52428800   \n",
       "\n",
       "                                       original_size     ratio  \\\n",
       "..\\..\\datasets\\dna\\dna.50MB                419430400  4.036442   \n",
       "..\\..\\datasets\\english\\english.50MB        419430400  1.766447   \n",
       "..\\..\\datasets\\proteins\\proteins.50MB      419430400  1.906819   \n",
       "..\\..\\datasets\\sources\\sources.50MB        419430400  1.444835   \n",
       "\n",
       "                                                                  frequencies_of_symbols  \n",
       "..\\..\\datasets\\dna\\dna.50MB            {'G': 11008713, 'A': 15203237, 'T': 15190093, ...  \n",
       "..\\..\\datasets\\english\\english.50MB    {'\n",
       "': 1007651, 'T': 138587, 'h': 2750886, 'i':...  \n",
       "..\\..\\datasets\\proteins\\proteins.50MB  {'M': 1327185, 'G': 3614402, 'K': 2655712, 'S'...  \n",
       "..\\..\\datasets\\sources\\sources.50MB    {'/': 418112, '*': 875368, '\n",
       "': 1763309, ' ': ...  "
      ]
     },
     "execution_count": 27,
     "metadata": {},
     "output_type": "execute_result"
    }
   ],
   "source": [
    "df.head()"
   ]
  },
  {
   "cell_type": "code",
   "execution_count": 40,
   "metadata": {},
   "outputs": [
    {
     "name": "stdout",
     "output_type": "stream",
     "text": [
      "72025559.9586011320352554\n",
      "164582891.2518661618232727\n",
      "152466999.6567884385585785\n",
      "201218077.6573725938796997\n"
     ]
    },
    {
     "data": {
      "text/plain": [
       "[None, None, None, None]"
      ]
     },
     "execution_count": 40,
     "metadata": {},
     "output_type": "execute_result"
    }
   ],
   "source": [
    "[print(\"%.16f\" % x) for x in df[\"approximate_size\"].values];"
   ]
  },
  {
   "cell_type": "code",
   "execution_count": 28,
   "metadata": {},
   "outputs": [
    {
     "data": {
      "text/plain": [
       "{'alphabet_size': 3,\n",
       " 'H': 1.584962500721156,\n",
       " 'approximate_size': '14.265',\n",
       " 'chars': 9,\n",
       " 'original_size': 72,\n",
       " 'ratio': 5.04743802857166,\n",
       " 'frequencies_of_symbols': {'a': 3, 'b': 3, 'c': 3}}"
      ]
     },
     "execution_count": 28,
     "metadata": {},
     "output_type": "execute_result"
    }
   ],
   "source": [
    "run_with_data(\"aaabbbccc\")"
   ]
  },
  {
   "cell_type": "code",
   "execution_count": null,
   "metadata": {},
   "outputs": [],
   "source": []
  }
 ],
 "metadata": {
  "interpreter": {
   "hash": "2a094b558792df53015a06eccbeeb156f6e89f526088fb771785a5b12806cace"
  },
  "kernelspec": {
   "display_name": "Python 3.8.6rc1 ('venv': venv)",
   "language": "python",
   "name": "python3"
  },
  "language_info": {
   "codemirror_mode": {
    "name": "ipython",
    "version": 3
   },
   "file_extension": ".py",
   "mimetype": "text/x-python",
   "name": "python",
   "nbconvert_exporter": "python",
   "pygments_lexer": "ipython3",
   "version": "3.8.6rc1"
  },
  "orig_nbformat": 4
 },
 "nbformat": 4,
 "nbformat_minor": 2
}
