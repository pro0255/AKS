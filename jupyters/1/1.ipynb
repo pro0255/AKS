{
 "cells": [
  {
   "cell_type": "markdown",
   "metadata": {},
   "source": [
    "https://homel.vsb.cz/~vas218/acs.html"
   ]
  },
  {
   "cell_type": "code",
   "execution_count": 112,
   "metadata": {},
   "outputs": [],
   "source": [
    "import os\n",
    "from collections import Counter\n",
    "import numpy as np\n",
    "import math\n",
    "import pandas as pd"
   ]
  },
  {
   "cell_type": "code",
   "execution_count": 101,
   "metadata": {},
   "outputs": [],
   "source": [
    "def load_data(path):\n",
    "    content = ''\n",
    "    with open(path, 'r', encoding='windows-1252', errors='replace') as f:\n",
    "        content = f.read()\n",
    "    return content"
   ]
  },
  {
   "cell_type": "code",
   "execution_count": 102,
   "metadata": {},
   "outputs": [],
   "source": [
    "def calc_freq(content):\n",
    "    c = Counter(list(content))\n",
    "    return c"
   ]
  },
  {
   "cell_type": "code",
   "execution_count": 103,
   "metadata": {},
   "outputs": [],
   "source": [
    "def calc_p(counter, n):\n",
    "    counter = dict(counter)\n",
    "    res = {}\n",
    "    for k, v in counter.items():\n",
    "        res[k] = v / n  \n",
    "    return res"
   ]
  },
  {
   "cell_type": "code",
   "execution_count": 104,
   "metadata": {},
   "outputs": [],
   "source": [
    "def get_n(counter):\n",
    "    counter = dict(counter)\n",
    "    return np.sum(list(counter.values()))"
   ]
  },
  {
   "cell_type": "code",
   "execution_count": 105,
   "metadata": {},
   "outputs": [],
   "source": [
    "def calc_H(p):\n",
    "    H = 0\n",
    "    for k, v in p.items():\n",
    "        H += p[k] * math.log(p[k])\n",
    "    return H"
   ]
  },
  {
   "cell_type": "code",
   "execution_count": 116,
   "metadata": {},
   "outputs": [],
   "source": [
    "def run(path):\n",
    "    data = load_data(path)\n",
    "    counter = calc_freq(data)\n",
    "    n = get_n(counter)\n",
    "    p = calc_p(counter, n)\n",
    "    H = calc_H(p)\n",
    "    _H = n * H\n",
    "    return _H"
   ]
  },
  {
   "cell_type": "code",
   "execution_count": 117,
   "metadata": {},
   "outputs": [],
   "source": [
    "directory = f'..\\..\\datasets'"
   ]
  },
  {
   "cell_type": "code",
   "execution_count": 118,
   "metadata": {},
   "outputs": [],
   "source": [
    "res = {}\n",
    "\n",
    "for dir in os.listdir(directory):\n",
    "    for nested_dir in os.listdir(os.path.sep.join([directory, dir])):\n",
    "        full_path = os.path.sep.join([directory, dir, nested_dir])\n",
    "        H = run(full_path)\n",
    "        res[full_path] = H"
   ]
  },
  {
   "cell_type": "code",
   "execution_count": 119,
   "metadata": {},
   "outputs": [
    {
     "data": {
      "text/plain": [
       "{'..\\\\..\\\\datasets\\\\dna\\\\dna.50MB': -72025559.95860113,\n",
       " '..\\\\..\\\\datasets\\\\english\\\\english.50MB': -164582891.25186616,\n",
       " '..\\\\..\\\\datasets\\\\proteins\\\\proteins.50MB': -152466999.65678844,\n",
       " '..\\\\..\\\\datasets\\\\sources\\\\sources.50MB': -201218077.6573726}"
      ]
     },
     "execution_count": 119,
     "metadata": {},
     "output_type": "execute_result"
    }
   ],
   "source": [
    "res"
   ]
  },
  {
   "cell_type": "code",
   "execution_count": 122,
   "metadata": {},
   "outputs": [],
   "source": [
    "df = pd.DataFrame.from_dict(res, orient='index')"
   ]
  },
  {
   "cell_type": "code",
   "execution_count": 123,
   "metadata": {},
   "outputs": [
    {
     "data": {
      "text/html": [
       "<div>\n",
       "<style scoped>\n",
       "    .dataframe tbody tr th:only-of-type {\n",
       "        vertical-align: middle;\n",
       "    }\n",
       "\n",
       "    .dataframe tbody tr th {\n",
       "        vertical-align: top;\n",
       "    }\n",
       "\n",
       "    .dataframe thead th {\n",
       "        text-align: right;\n",
       "    }\n",
       "</style>\n",
       "<table border=\"1\" class=\"dataframe\">\n",
       "  <thead>\n",
       "    <tr style=\"text-align: right;\">\n",
       "      <th></th>\n",
       "      <th>0</th>\n",
       "    </tr>\n",
       "  </thead>\n",
       "  <tbody>\n",
       "    <tr>\n",
       "      <th>..\\..\\datasets\\dna\\dna.50MB</th>\n",
       "      <td>-7.202556e+07</td>\n",
       "    </tr>\n",
       "    <tr>\n",
       "      <th>..\\..\\datasets\\english\\english.50MB</th>\n",
       "      <td>-1.645829e+08</td>\n",
       "    </tr>\n",
       "    <tr>\n",
       "      <th>..\\..\\datasets\\proteins\\proteins.50MB</th>\n",
       "      <td>-1.524670e+08</td>\n",
       "    </tr>\n",
       "    <tr>\n",
       "      <th>..\\..\\datasets\\sources\\sources.50MB</th>\n",
       "      <td>-2.012181e+08</td>\n",
       "    </tr>\n",
       "  </tbody>\n",
       "</table>\n",
       "</div>"
      ],
      "text/plain": [
       "                                                  0\n",
       "..\\..\\datasets\\dna\\dna.50MB           -7.202556e+07\n",
       "..\\..\\datasets\\english\\english.50MB   -1.645829e+08\n",
       "..\\..\\datasets\\proteins\\proteins.50MB -1.524670e+08\n",
       "..\\..\\datasets\\sources\\sources.50MB   -2.012181e+08"
      ]
     },
     "execution_count": 123,
     "metadata": {},
     "output_type": "execute_result"
    }
   ],
   "source": [
    "df.head()"
   ]
  },
  {
   "cell_type": "code",
   "execution_count": null,
   "metadata": {},
   "outputs": [],
   "source": []
  }
 ],
 "metadata": {
  "interpreter": {
   "hash": "2a094b558792df53015a06eccbeeb156f6e89f526088fb771785a5b12806cace"
  },
  "kernelspec": {
   "display_name": "Python 3.8.6rc1 ('venv': venv)",
   "language": "python",
   "name": "python3"
  },
  "language_info": {
   "codemirror_mode": {
    "name": "ipython",
    "version": 3
   },
   "file_extension": ".py",
   "mimetype": "text/x-python",
   "name": "python",
   "nbconvert_exporter": "python",
   "pygments_lexer": "ipython3",
   "version": "3.8.6rc1"
  },
  "orig_nbformat": 4
 },
 "nbformat": 4,
 "nbformat_minor": 2
}
