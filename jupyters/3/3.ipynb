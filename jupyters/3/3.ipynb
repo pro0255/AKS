{
 "cells": [
  {
   "cell_type": "markdown",
   "metadata": {},
   "source": [
    "# Poznamky\n",
    "\n",
    "- Singulární - jednoznačné\n",
    "- Nesingulární - více výsledků\n",
    "- Prefixové, okamžité kódy - kodová slova se sama oddělují\n",
    "\n",
    "Ne všechny kódy jsme schopní dekodovat v jasném místě.\n",
    "Není potřeba použít binárku, stačí text."
   ]
  },
  {
   "cell_type": "markdown",
   "metadata": {},
   "source": [
    "# Zadání"
   ]
  },
  {
   "cell_type": "markdown",
   "metadata": {},
   "source": [
    "## 2.3. Variable-Length Codes (10 points)"
   ]
  },
  {
   "cell_type": "markdown",
   "metadata": {},
   "source": [
    "- Implement Golomb coding/decoding algorithm.(7 pts)\n",
    "- You should encode symbols with high probability by shorter codes. First compute frequency of symbols, sort them by probability and assign them a Golomb-code.\n",
    "- You don't have to store bits in binary, it is sufficient to store them as textual values.\n",
    "- Find the optimal M for the selected file.(2 pts)\n",
    "- Compare your results with the entropy and compute redundancy of the code R = C - H, where C is an average number of bits per byte used in the compressed file for the original data: 8*|c(m)|/|m|(1 pt)"
   ]
  },
  {
   "cell_type": "code",
   "execution_count": 1,
   "metadata": {},
   "outputs": [],
   "source": [
    "import os\n",
    "import sys\n",
    "\n",
    "def adding_module_path():\n",
    "    module_path = os.path.abspath(os.path.sep.join([\"..\"]*2))\n",
    "\n",
    "    if module_path not in sys.path:\n",
    "        sys.path.append(module_path)\n",
    "\n",
    "adding_module_path()"
   ]
  },
  {
   "cell_type": "code",
   "execution_count": 2,
   "metadata": {},
   "outputs": [],
   "source": [
    "from src.load_data import get_dataset\n",
    "from src.load_data import DataSets\n",
    "import numpy as np\n",
    "import time\n",
    "import pandas as pd"
   ]
  },
  {
   "cell_type": "code",
   "execution_count": 3,
   "metadata": {},
   "outputs": [
    {
     "name": "stdout",
     "output_type": "stream",
     "text": [
      "Loading C://Users//Vojta//Desktop//iv//AKS//datasets\\dna\\dna.50MB\n"
     ]
    }
   ],
   "source": [
    "data_dna, path_dna = get_dataset(DataSets.dna)"
   ]
  },
  {
   "cell_type": "code",
   "execution_count": 139,
   "metadata": {},
   "outputs": [],
   "source": [
    "def calc_freq(data):\n",
    "    tic = time.time()\n",
    "    print('Calculating freqs')\n",
    "    res = {}\n",
    "    for c in data:\n",
    "        res[c] = res.get(c, 0) + 1\n",
    "    toc = time.time()\n",
    "    print(f'End of calculating {toc - tic}')\n",
    "    return res"
   ]
  },
  {
   "cell_type": "code",
   "execution_count": 149,
   "metadata": {},
   "outputs": [],
   "source": [
    "def calc_probs(freq):\n",
    "    res = {}    \n",
    "    tic = time.time()\n",
    "    print('Calculating probs')\n",
    "    n = np.sum(list(freq.values()))\n",
    "    for k, v in freq.items():\n",
    "        res[k] = (v/n, v)\n",
    "    toc = time.time()\n",
    "    print(f'End of calculating {toc - tic}')\n",
    "    return res"
   ]
  },
  {
   "cell_type": "code",
   "execution_count": 150,
   "metadata": {},
   "outputs": [],
   "source": [
    "def get_probs(data):\n",
    "    freq = calc_freq(data)\n",
    "    return calc_probs(freq)"
   ]
  },
  {
   "cell_type": "code",
   "execution_count": 151,
   "metadata": {},
   "outputs": [
    {
     "name": "stdout",
     "output_type": "stream",
     "text": [
      "Calculating freqs\n",
      "End of calculating 7.002310752868652\n",
      "Calculating probs\n",
      "End of calculating 0.0\n"
     ]
    }
   ],
   "source": [
    "p = get_probs(data_dna)"
   ]
  },
  {
   "cell_type": "code",
   "execution_count": 152,
   "metadata": {},
   "outputs": [
    {
     "data": {
      "text/plain": [
       "{'G': (0.20997453689575196, 11008713),\n",
       " 'A': (0.28997873306274413, 15203237),\n",
       " 'T': (0.28972803115844725, 15190093),\n",
       " 'C': (0.21029790878295898, 11025667),\n",
       " '\\n': (6.40869140625e-06, 336),\n",
       " 'N': (8.907318115234375e-06, 467),\n",
       " 'W': (8.58306884765625e-07, 45),\n",
       " 'S': (6.29425048828125e-07, 33),\n",
       " 'R': (1.2969970703125e-06, 68),\n",
       " 'K': (8.7738037109375e-07, 46),\n",
       " 'Y': (1.087188720703125e-06, 57),\n",
       " 'V': (5.7220458984375e-08, 3),\n",
       " 'D': (1.9073486328125e-08, 1),\n",
       " 'M': (5.91278076171875e-07, 31),\n",
       " 'H': (3.814697265625e-08, 2),\n",
       " 'B': (1.9073486328125e-08, 1)}"
      ]
     },
     "execution_count": 152,
     "metadata": {},
     "output_type": "execute_result"
    }
   ],
   "source": [
    "p"
   ]
  },
  {
   "cell_type": "code",
   "execution_count": 148,
   "metadata": {},
   "outputs": [
    {
     "data": {
      "text/plain": [
       "['A',\n",
       " 'T',\n",
       " 'C',\n",
       " 'G',\n",
       " 'N',\n",
       " '\\n',\n",
       " 'R',\n",
       " 'Y',\n",
       " 'K',\n",
       " 'W',\n",
       " 'S',\n",
       " 'M',\n",
       " 'V',\n",
       " 'H',\n",
       " 'D',\n",
       " 'B']"
      ]
     },
     "execution_count": 148,
     "metadata": {},
     "output_type": "execute_result"
    }
   ],
   "source": [
    "sorted(p, key=lambda x: p[x]['p'], reverse=True)"
   ]
  },
  {
   "cell_type": "code",
   "execution_count": 153,
   "metadata": {},
   "outputs": [],
   "source": [
    "def get_sorted_probs(data):\n",
    "    p = get_probs(data)\n",
    "    return dict(sorted(p.items(), key=lambda item: item[1][0], reverse=True))"
   ]
  },
  {
   "cell_type": "code",
   "execution_count": 154,
   "metadata": {},
   "outputs": [
    {
     "name": "stdout",
     "output_type": "stream",
     "text": [
      "Calculating freqs\n",
      "End of calculating 6.821624755859375\n",
      "Calculating probs\n",
      "End of calculating 0.0\n"
     ]
    },
    {
     "data": {
      "text/html": [
       "<div>\n",
       "<style scoped>\n",
       "    .dataframe tbody tr th:only-of-type {\n",
       "        vertical-align: middle;\n",
       "    }\n",
       "\n",
       "    .dataframe tbody tr th {\n",
       "        vertical-align: top;\n",
       "    }\n",
       "\n",
       "    .dataframe thead th {\n",
       "        text-align: right;\n",
       "    }\n",
       "</style>\n",
       "<table border=\"1\" class=\"dataframe\">\n",
       "  <thead>\n",
       "    <tr style=\"text-align: right;\">\n",
       "      <th></th>\n",
       "      <th>0</th>\n",
       "      <th>1</th>\n",
       "    </tr>\n",
       "  </thead>\n",
       "  <tbody>\n",
       "    <tr>\n",
       "      <th>A</th>\n",
       "      <td>2.899787e-01</td>\n",
       "      <td>15203237</td>\n",
       "    </tr>\n",
       "    <tr>\n",
       "      <th>T</th>\n",
       "      <td>2.897280e-01</td>\n",
       "      <td>15190093</td>\n",
       "    </tr>\n",
       "    <tr>\n",
       "      <th>C</th>\n",
       "      <td>2.102979e-01</td>\n",
       "      <td>11025667</td>\n",
       "    </tr>\n",
       "    <tr>\n",
       "      <th>G</th>\n",
       "      <td>2.099745e-01</td>\n",
       "      <td>11008713</td>\n",
       "    </tr>\n",
       "    <tr>\n",
       "      <th>N</th>\n",
       "      <td>8.907318e-06</td>\n",
       "      <td>467</td>\n",
       "    </tr>\n",
       "    <tr>\n",
       "      <th>\\n</th>\n",
       "      <td>6.408691e-06</td>\n",
       "      <td>336</td>\n",
       "    </tr>\n",
       "    <tr>\n",
       "      <th>R</th>\n",
       "      <td>1.296997e-06</td>\n",
       "      <td>68</td>\n",
       "    </tr>\n",
       "    <tr>\n",
       "      <th>Y</th>\n",
       "      <td>1.087189e-06</td>\n",
       "      <td>57</td>\n",
       "    </tr>\n",
       "    <tr>\n",
       "      <th>K</th>\n",
       "      <td>8.773804e-07</td>\n",
       "      <td>46</td>\n",
       "    </tr>\n",
       "    <tr>\n",
       "      <th>W</th>\n",
       "      <td>8.583069e-07</td>\n",
       "      <td>45</td>\n",
       "    </tr>\n",
       "    <tr>\n",
       "      <th>S</th>\n",
       "      <td>6.294250e-07</td>\n",
       "      <td>33</td>\n",
       "    </tr>\n",
       "    <tr>\n",
       "      <th>M</th>\n",
       "      <td>5.912781e-07</td>\n",
       "      <td>31</td>\n",
       "    </tr>\n",
       "    <tr>\n",
       "      <th>V</th>\n",
       "      <td>5.722046e-08</td>\n",
       "      <td>3</td>\n",
       "    </tr>\n",
       "    <tr>\n",
       "      <th>H</th>\n",
       "      <td>3.814697e-08</td>\n",
       "      <td>2</td>\n",
       "    </tr>\n",
       "    <tr>\n",
       "      <th>D</th>\n",
       "      <td>1.907349e-08</td>\n",
       "      <td>1</td>\n",
       "    </tr>\n",
       "    <tr>\n",
       "      <th>B</th>\n",
       "      <td>1.907349e-08</td>\n",
       "      <td>1</td>\n",
       "    </tr>\n",
       "  </tbody>\n",
       "</table>\n",
       "</div>"
      ],
      "text/plain": [
       "               0         1\n",
       "A   2.899787e-01  15203237\n",
       "T   2.897280e-01  15190093\n",
       "C   2.102979e-01  11025667\n",
       "G   2.099745e-01  11008713\n",
       "N   8.907318e-06       467\n",
       "\\n  6.408691e-06       336\n",
       "R   1.296997e-06        68\n",
       "Y   1.087189e-06        57\n",
       "K   8.773804e-07        46\n",
       "W   8.583069e-07        45\n",
       "S   6.294250e-07        33\n",
       "M   5.912781e-07        31\n",
       "V   5.722046e-08         3\n",
       "H   3.814697e-08         2\n",
       "D   1.907349e-08         1\n",
       "B   1.907349e-08         1"
      ]
     },
     "execution_count": 154,
     "metadata": {},
     "output_type": "execute_result"
    }
   ],
   "source": [
    "pd.DataFrame.from_dict(get_sorted_probs(data_dna), orient='index')"
   ]
  },
  {
   "cell_type": "code",
   "execution_count": 155,
   "metadata": {},
   "outputs": [],
   "source": [
    "import math\n",
    "import time"
   ]
  },
  {
   "cell_type": "code",
   "execution_count": 156,
   "metadata": {},
   "outputs": [],
   "source": [
    "def unary_func(n):\n",
    "    return n * '0' + '1'"
   ]
  },
  {
   "cell_type": "code",
   "execution_count": 157,
   "metadata": {},
   "outputs": [],
   "source": [
    "def truncated(r, M):\n",
    "    k = math.ceil(math.log2(M))\n",
    "\n",
    "    if(r < pow(2, k) - M):\n",
    "        code = bin(r)[2:]\n",
    "        ln = len(code)\n",
    "        if(ln < k):\n",
    "            code = '0' * (k - ln - 1) + code\n",
    "\n",
    "    else:\n",
    "        code = bin(r + k)[2:]\n",
    "        ln = len(code)\n",
    "        if(ln < k + 1):\n",
    "            code = '0' * (k - 1 - ln)  + code\n",
    "    return code"
   ]
  },
  {
   "cell_type": "code",
   "execution_count": 158,
   "metadata": {},
   "outputs": [],
   "source": [
    "def encode_number_func(number, M):\n",
    "    q = number // M\n",
    "    r = number % M\n",
    "    \n",
    "    quo_part = unary_func(q)\n",
    "    truncated_part = truncated(r, M)\n",
    "\n",
    "    return \"\".join([quo_part, truncated_part])\n"
   ]
  },
  {
   "cell_type": "code",
   "execution_count": 223,
   "metadata": {},
   "outputs": [],
   "source": [
    "def build_encoding_table(sorted_table, M):\n",
    "    res = {}\n",
    "    print(f\"Table for m = {M}\")\n",
    "\n",
    "    for i, value in enumerate(sorted_table.items()):\n",
    "        k, v = value\n",
    "        p, counter = v \n",
    "\n",
    "        res[i] = {\n",
    "            \"number\": i,\n",
    "            'char': k,\n",
    "            \"p\": p,\n",
    "            \"golomb\": encode_number_func(i, M),\n",
    "            \"counter\": counter\n",
    "        }\n",
    "\n",
    "    return res"
   ]
  },
  {
   "cell_type": "code",
   "execution_count": 224,
   "metadata": {},
   "outputs": [],
   "source": [
    "class Golomb:\n",
    "    def __init__(self, M, prob_table, verbose=False):\n",
    "        self.M = M\n",
    "        self.prob_table = prob_table\n",
    "        self.verbose = verbose\n",
    "\n",
    "    def from_numbers_data(self, numbers, prob_table):\n",
    "        keys = list(prob_table.keys())\n",
    "        res = \"\"\n",
    "        try:\n",
    "            for number in numbers:\n",
    "                res += keys[number]\n",
    "            return res\n",
    "        except Exception as e:\n",
    "            print(f\"Error occurred {str(e)}\")\n",
    "\n",
    "    def from_data_numbers(self, data, prob_table):\n",
    "        keys = list(prob_table.keys())\n",
    "        return [keys.index(c) for c in data]\n",
    "\n",
    "    def encode_number(self, number):\n",
    "        return encode_number_func(number, self.M)\n",
    "\n",
    "    def unary(self, n):\n",
    "        return unary_func(n)\n",
    "\n",
    "    def encode_with_table(self, c, prop_table):\n",
    "        keys = list(prop_table.keys())\n",
    "        char_index = keys.index(c)\n",
    "        return self.encode_number(char_index, len(keys))\n",
    "\n",
    "    def encode_indicies(self, indicies, precalculated_table=None):\n",
    "        encoded_string = \"\"\n",
    "        for index in indicies:\n",
    "            encoded_number = \"\"\n",
    "            if precalculated_table is not None:\n",
    "                encoded_number = precalculated_table[index]['golomb']\n",
    "            else:\n",
    "                encoded_number = self.encode_number(index)\n",
    "            if self.verbose:\n",
    "                print(encoded_number)\n",
    "            encoded_string += encoded_number\n",
    "        return encoded_string\n",
    "\n",
    "    def encode_stream(self, stream):\n",
    "        tic = time.time()\n",
    "        encoded_string = \"\"\n",
    "        for c in stream:\n",
    "            enc = self.encode_with_table(c, self.prob_table)\n",
    "            encoded_string += enc\n",
    "        toc = time.time()\n",
    "        return encoded_string, toc - tic\n",
    "\n",
    "    def decode_number(self, q, M, r):\n",
    "        return q * M + r\n",
    "\n",
    "    def decode_stream(self, stream):\n",
    "        res = []\n",
    "\n",
    "        i = 0\n",
    "\n",
    "        current_quotient = \"\"\n",
    "        k = math.ceil(math.log2(self.M))\n",
    "        c = math.ceil(math.log2(self.M)) - 1\n",
    "\n",
    "\n",
    "        try:\n",
    "            while i < len(stream) - c:\n",
    "                current_char = stream[i]\n",
    "                if current_char == '0':\n",
    "                    current_quotient += current_char\n",
    "                    i += 1\n",
    "\n",
    "                else:\n",
    "                    current_quotient += '1'\n",
    "                    next_bits = stream[(i+1):(i+1+c)]\n",
    "                    dec = int(next_bits, 2)\n",
    "\n",
    "                    value = dec\n",
    "                    right_side = math.pow(2, k) - self.M\n",
    "                    is_smaller = value < right_side\n",
    "\n",
    "                    q = current_quotient.count('0')\n",
    "                    remainder = 0\n",
    "\n",
    "                    if is_smaller:\n",
    "                        remainder = int(next_bits, 2)\n",
    "                        i += k\n",
    "                        res.append(self.decode_number(q, self.M, remainder))\n",
    "                        current_quotient = \"\"\n",
    "                        continue\n",
    "                    else:\n",
    "                        bits = stream[(i+1):(i+1+c+1)]\n",
    "                        remainder = int(bits, 2)\n",
    "                        remainder = remainder - k\n",
    "                        i += k + 1\n",
    "                        res.append(self.decode_number(q, self.M, remainder))\n",
    "                        current_quotient = \"\"\n",
    "                        continue\n",
    "        except Exception as e:\n",
    "            print(\"Error occurred\")\n",
    "            print(f\"{str(e)}\")\n",
    "            return None\n",
    "\n",
    "        return res\n",
    "\n",
    "    def decode_from_indicies(self, ints, keys):\n",
    "        res = \"\"\n",
    "        for index in ints:\n",
    "            res += keys[index]\n",
    "        return res"
   ]
  },
  {
   "cell_type": "code",
   "execution_count": 170,
   "metadata": {},
   "outputs": [
    {
     "data": {
      "text/plain": [
       "'GATCAATGAG'"
      ]
     },
     "execution_count": 170,
     "metadata": {},
     "output_type": "execute_result"
    }
   ],
   "source": [
    "test_data = data_dna[0:10]\n",
    "test_data"
   ]
  },
  {
   "cell_type": "markdown",
   "metadata": {},
   "source": [
    "# Tests"
   ]
  },
  {
   "cell_type": "markdown",
   "metadata": {},
   "source": [
    "### Test conversion"
   ]
  },
  {
   "cell_type": "code",
   "execution_count": 171,
   "metadata": {},
   "outputs": [
    {
     "name": "stdout",
     "output_type": "stream",
     "text": [
      "Calculating freqs\n",
      "End of calculating 0.0\n",
      "Calculating probs\n",
      "End of calculating 0.0\n",
      "GATCAATGAG\n",
      "True\n"
     ]
    }
   ],
   "source": [
    "sorted_table = get_sorted_probs(test_data)\n",
    "gol = Golomb(3, sorted_table)\n",
    "\n",
    "indicies = gol.from_data_numbers(test_data, sorted_table)\n",
    "current_data = gol.from_numbers_data(indicies, sorted_table)\n",
    "\n",
    "print(current_data)\n",
    "print(current_data == test_data)"
   ]
  },
  {
   "cell_type": "code",
   "execution_count": 172,
   "metadata": {},
   "outputs": [
    {
     "data": {
      "text/plain": [
       "{'A': (0.4, 4), 'G': (0.3, 3), 'T': (0.2, 2), 'C': (0.1, 1)}"
      ]
     },
     "execution_count": 172,
     "metadata": {},
     "output_type": "execute_result"
    }
   ],
   "source": [
    "sorted_table"
   ]
  },
  {
   "cell_type": "markdown",
   "metadata": {},
   "source": [
    "### Test of encoding"
   ]
  },
  {
   "cell_type": "code",
   "execution_count": 173,
   "metadata": {},
   "outputs": [
    {
     "name": "stdout",
     "output_type": "stream",
     "text": [
      "Calculating freqs\n",
      "End of calculating 0.0\n",
      "Calculating probs\n",
      "End of calculating 0.001001119613647461\n",
      "{'A': (0.4, 4), 'G': (0.3, 3), 'T': (0.2, 2), 'C': (0.1, 1)}\n"
     ]
    }
   ],
   "source": [
    "sorted_table = get_sorted_probs(test_data)\n",
    "\n",
    "print(sorted_table)\n",
    "gol = Golomb(17, sorted_table, True)\n",
    "\n",
    "indicies = gol.from_data_numbers(test_data, sorted_table)\n",
    "encoding_table = build_encoding_table(sorted_table, gol.M)\n"
   ]
  },
  {
   "cell_type": "code",
   "execution_count": 174,
   "metadata": {},
   "outputs": [
    {
     "data": {
      "text/html": [
       "<div>\n",
       "<style scoped>\n",
       "    .dataframe tbody tr th:only-of-type {\n",
       "        vertical-align: middle;\n",
       "    }\n",
       "\n",
       "    .dataframe tbody tr th {\n",
       "        vertical-align: top;\n",
       "    }\n",
       "\n",
       "    .dataframe thead th {\n",
       "        text-align: right;\n",
       "    }\n",
       "</style>\n",
       "<table border=\"1\" class=\"dataframe\">\n",
       "  <thead>\n",
       "    <tr style=\"text-align: right;\">\n",
       "      <th></th>\n",
       "      <th>number</th>\n",
       "      <th>char</th>\n",
       "      <th>p</th>\n",
       "      <th>golomb</th>\n",
       "      <th>counter</th>\n",
       "    </tr>\n",
       "  </thead>\n",
       "  <tbody>\n",
       "    <tr>\n",
       "      <th>0</th>\n",
       "      <td>0</td>\n",
       "      <td>A</td>\n",
       "      <td>0.4</td>\n",
       "      <td>10000</td>\n",
       "      <td>4</td>\n",
       "    </tr>\n",
       "    <tr>\n",
       "      <th>1</th>\n",
       "      <td>1</td>\n",
       "      <td>G</td>\n",
       "      <td>0.3</td>\n",
       "      <td>10001</td>\n",
       "      <td>3</td>\n",
       "    </tr>\n",
       "    <tr>\n",
       "      <th>2</th>\n",
       "      <td>2</td>\n",
       "      <td>T</td>\n",
       "      <td>0.2</td>\n",
       "      <td>10010</td>\n",
       "      <td>2</td>\n",
       "    </tr>\n",
       "    <tr>\n",
       "      <th>3</th>\n",
       "      <td>3</td>\n",
       "      <td>C</td>\n",
       "      <td>0.1</td>\n",
       "      <td>10011</td>\n",
       "      <td>1</td>\n",
       "    </tr>\n",
       "  </tbody>\n",
       "</table>\n",
       "</div>"
      ],
      "text/plain": [
       "   number char    p golomb  counter\n",
       "0       0    A  0.4  10000        4\n",
       "1       1    G  0.3  10001        3\n",
       "2       2    T  0.2  10010        2\n",
       "3       3    C  0.1  10011        1"
      ]
     },
     "execution_count": 174,
     "metadata": {},
     "output_type": "execute_result"
    }
   ],
   "source": [
    "pd.DataFrame.from_dict(encoding_table, orient=\"index\")"
   ]
  },
  {
   "cell_type": "code",
   "execution_count": 175,
   "metadata": {},
   "outputs": [
    {
     "name": "stdout",
     "output_type": "stream",
     "text": [
      "10001\n",
      "10000\n",
      "10010\n",
      "10011\n",
      "10000\n",
      "10000\n",
      "10010\n",
      "10001\n",
      "10000\n",
      "10001\n",
      "10001100001001010011100001000010010100011000010001\n",
      "[1, 0, 2, 3, 0, 0, 2, 1, 0, 1] GATCAATGAG\n",
      "[1, 0, 2, 3, 0, 0, 2, 1, 0, 1] GATCAATGAG\n",
      "True\n"
     ]
    }
   ],
   "source": [
    "encoded_string = gol.encode_indicies(indicies, encoding_table)\n",
    "print(encoded_string)\n",
    "\n",
    "\n",
    "decoded_numbers = gol.decode_stream(encoded_string)\n",
    "\n",
    "decoded_data = gol.from_numbers_data(decoded_numbers, sorted_table)\n",
    "\n",
    "print(decoded_numbers, decoded_data)\n",
    "print(indicies, test_data)\n",
    "print(decoded_data == test_data)"
   ]
  },
  {
   "cell_type": "markdown",
   "metadata": {},
   "source": [
    "### Test of specified number"
   ]
  },
  {
   "cell_type": "code",
   "execution_count": 176,
   "metadata": {},
   "outputs": [],
   "source": [
    "gol = Golomb(5, sorted_table, True)"
   ]
  },
  {
   "cell_type": "code",
   "execution_count": 177,
   "metadata": {},
   "outputs": [
    {
     "data": {
      "text/plain": [
       "[13]"
      ]
     },
     "execution_count": 177,
     "metadata": {},
     "output_type": "execute_result"
    }
   ],
   "source": [
    "gol.decode_stream(\"001110\")"
   ]
  },
  {
   "cell_type": "code",
   "execution_count": 178,
   "metadata": {},
   "outputs": [
    {
     "name": "stdout",
     "output_type": "stream",
     "text": [
      "Loading C://Users//Vojta//Desktop//iv//AKS//datasets\\english\\english.50MB\n"
     ]
    }
   ],
   "source": [
    "data_english, path_english = get_dataset(DataSets.english)"
   ]
  },
  {
   "cell_type": "markdown",
   "metadata": {},
   "source": [
    "### Encoding table for English"
   ]
  },
  {
   "cell_type": "code",
   "execution_count": 239,
   "metadata": {},
   "outputs": [
    {
     "name": "stdout",
     "output_type": "stream",
     "text": [
      "Calculating freqs\n",
      "End of calculating 6.918617248535156\n",
      "Calculating probs\n",
      "End of calculating 0.0\n"
     ]
    }
   ],
   "source": [
    "sorted_table = get_sorted_probs(data_english)\n",
    "gol = Golomb(50, sorted_table, True)"
   ]
  },
  {
   "cell_type": "code",
   "execution_count": 240,
   "metadata": {},
   "outputs": [
    {
     "name": "stdout",
     "output_type": "stream",
     "text": [
      "Table for m = 50\n"
     ]
    }
   ],
   "source": [
    "encoding_table = build_encoding_table(sorted_table, gol.M)"
   ]
  },
  {
   "cell_type": "code",
   "execution_count": 241,
   "metadata": {},
   "outputs": [],
   "source": [
    "eng = pd.DataFrame.from_dict(encoding_table, orient=\"index\")"
   ]
  },
  {
   "cell_type": "code",
   "execution_count": 242,
   "metadata": {},
   "outputs": [
    {
     "data": {
      "text/html": [
       "<div>\n",
       "<style scoped>\n",
       "    .dataframe tbody tr th:only-of-type {\n",
       "        vertical-align: middle;\n",
       "    }\n",
       "\n",
       "    .dataframe tbody tr th {\n",
       "        vertical-align: top;\n",
       "    }\n",
       "\n",
       "    .dataframe thead th {\n",
       "        text-align: right;\n",
       "    }\n",
       "</style>\n",
       "<table border=\"1\" class=\"dataframe\">\n",
       "  <thead>\n",
       "    <tr style=\"text-align: right;\">\n",
       "      <th></th>\n",
       "      <th>number</th>\n",
       "      <th>char</th>\n",
       "      <th>p</th>\n",
       "      <th>golomb</th>\n",
       "      <th>counter</th>\n",
       "    </tr>\n",
       "  </thead>\n",
       "  <tbody>\n",
       "    <tr>\n",
       "      <th>0</th>\n",
       "      <td>0</td>\n",
       "      <td></td>\n",
       "      <td>1.704416e-01</td>\n",
       "      <td>100000</td>\n",
       "      <td>8936048</td>\n",
       "    </tr>\n",
       "    <tr>\n",
       "      <th>1</th>\n",
       "      <td>1</td>\n",
       "      <td>e</td>\n",
       "      <td>9.593225e-02</td>\n",
       "      <td>100001</td>\n",
       "      <td>5029613</td>\n",
       "    </tr>\n",
       "    <tr>\n",
       "      <th>2</th>\n",
       "      <td>2</td>\n",
       "      <td>t</td>\n",
       "      <td>6.757509e-02</td>\n",
       "      <td>100010</td>\n",
       "      <td>3542881</td>\n",
       "    </tr>\n",
       "    <tr>\n",
       "      <th>3</th>\n",
       "      <td>3</td>\n",
       "      <td>a</td>\n",
       "      <td>6.149715e-02</td>\n",
       "      <td>100011</td>\n",
       "      <td>3224222</td>\n",
       "    </tr>\n",
       "    <tr>\n",
       "      <th>4</th>\n",
       "      <td>4</td>\n",
       "      <td>o</td>\n",
       "      <td>5.518679e-02</td>\n",
       "      <td>100100</td>\n",
       "      <td>2893377</td>\n",
       "    </tr>\n",
       "    <tr>\n",
       "      <th>...</th>\n",
       "      <td>...</td>\n",
       "      <td>...</td>\n",
       "      <td>...</td>\n",
       "      <td>...</td>\n",
       "      <td>...</td>\n",
       "    </tr>\n",
       "    <tr>\n",
       "      <th>170</th>\n",
       "      <td>170</td>\n",
       "      <td>\u0015</td>\n",
       "      <td>1.907349e-08</td>\n",
       "      <td>000111010</td>\n",
       "      <td>1</td>\n",
       "    </tr>\n",
       "    <tr>\n",
       "      <th>171</th>\n",
       "      <td>171</td>\n",
       "      <td>Ö</td>\n",
       "      <td>1.907349e-08</td>\n",
       "      <td>000111011</td>\n",
       "      <td>1</td>\n",
       "    </tr>\n",
       "    <tr>\n",
       "      <th>172</th>\n",
       "      <td>172</td>\n",
       "      <td>Î</td>\n",
       "      <td>1.907349e-08</td>\n",
       "      <td>000111100</td>\n",
       "      <td>1</td>\n",
       "    </tr>\n",
       "    <tr>\n",
       "      <th>173</th>\n",
       "      <td>173</td>\n",
       "      <td>¼</td>\n",
       "      <td>1.907349e-08</td>\n",
       "      <td>000111101</td>\n",
       "      <td>1</td>\n",
       "    </tr>\n",
       "    <tr>\n",
       "      <th>174</th>\n",
       "      <td>174</td>\n",
       "      <td>¹</td>\n",
       "      <td>1.907349e-08</td>\n",
       "      <td>000111110</td>\n",
       "      <td>1</td>\n",
       "    </tr>\n",
       "  </tbody>\n",
       "</table>\n",
       "<p>175 rows × 5 columns</p>\n",
       "</div>"
      ],
      "text/plain": [
       "     number char             p     golomb  counter\n",
       "0         0       1.704416e-01     100000  8936048\n",
       "1         1    e  9.593225e-02     100001  5029613\n",
       "2         2    t  6.757509e-02     100010  3542881\n",
       "3         3    a  6.149715e-02     100011  3224222\n",
       "4         4    o  5.518679e-02     100100  2893377\n",
       "..      ...  ...           ...        ...      ...\n",
       "170     170    \u0015  1.907349e-08  000111010        1\n",
       "171     171    Ö  1.907349e-08  000111011        1\n",
       "172     172    Î  1.907349e-08  000111100        1\n",
       "173     173    ¼  1.907349e-08  000111101        1\n",
       "174     174    ¹  1.907349e-08  000111110        1\n",
       "\n",
       "[175 rows x 5 columns]"
      ]
     },
     "execution_count": 242,
     "metadata": {},
     "output_type": "execute_result"
    }
   ],
   "source": [
    "eng.sort_index()"
   ]
  },
  {
   "cell_type": "code",
   "execution_count": 248,
   "metadata": {},
   "outputs": [],
   "source": [
    "eng['len'] =  list(map(lambda x: len(x), eng['golomb'].values))"
   ]
  },
  {
   "cell_type": "code",
   "execution_count": 249,
   "metadata": {},
   "outputs": [
    {
     "data": {
      "text/html": [
       "<div>\n",
       "<style scoped>\n",
       "    .dataframe tbody tr th:only-of-type {\n",
       "        vertical-align: middle;\n",
       "    }\n",
       "\n",
       "    .dataframe tbody tr th {\n",
       "        vertical-align: top;\n",
       "    }\n",
       "\n",
       "    .dataframe thead th {\n",
       "        text-align: right;\n",
       "    }\n",
       "</style>\n",
       "<table border=\"1\" class=\"dataframe\">\n",
       "  <thead>\n",
       "    <tr style=\"text-align: right;\">\n",
       "      <th></th>\n",
       "      <th>number</th>\n",
       "      <th>char</th>\n",
       "      <th>p</th>\n",
       "      <th>golomb</th>\n",
       "      <th>counter</th>\n",
       "      <th>len</th>\n",
       "    </tr>\n",
       "  </thead>\n",
       "  <tbody>\n",
       "    <tr>\n",
       "      <th>0</th>\n",
       "      <td>0</td>\n",
       "      <td></td>\n",
       "      <td>0.170442</td>\n",
       "      <td>100000</td>\n",
       "      <td>8936048</td>\n",
       "      <td>6</td>\n",
       "    </tr>\n",
       "    <tr>\n",
       "      <th>1</th>\n",
       "      <td>1</td>\n",
       "      <td>e</td>\n",
       "      <td>0.095932</td>\n",
       "      <td>100001</td>\n",
       "      <td>5029613</td>\n",
       "      <td>6</td>\n",
       "    </tr>\n",
       "    <tr>\n",
       "      <th>2</th>\n",
       "      <td>2</td>\n",
       "      <td>t</td>\n",
       "      <td>0.067575</td>\n",
       "      <td>100010</td>\n",
       "      <td>3542881</td>\n",
       "      <td>6</td>\n",
       "    </tr>\n",
       "    <tr>\n",
       "      <th>3</th>\n",
       "      <td>3</td>\n",
       "      <td>a</td>\n",
       "      <td>0.061497</td>\n",
       "      <td>100011</td>\n",
       "      <td>3224222</td>\n",
       "      <td>6</td>\n",
       "    </tr>\n",
       "    <tr>\n",
       "      <th>4</th>\n",
       "      <td>4</td>\n",
       "      <td>o</td>\n",
       "      <td>0.055187</td>\n",
       "      <td>100100</td>\n",
       "      <td>2893377</td>\n",
       "      <td>6</td>\n",
       "    </tr>\n",
       "  </tbody>\n",
       "</table>\n",
       "</div>"
      ],
      "text/plain": [
       "   number char         p  golomb  counter  len\n",
       "0       0       0.170442  100000  8936048    6\n",
       "1       1    e  0.095932  100001  5029613    6\n",
       "2       2    t  0.067575  100010  3542881    6\n",
       "3       3    a  0.061497  100011  3224222    6\n",
       "4       4    o  0.055187  100100  2893377    6"
      ]
     },
     "execution_count": 249,
     "metadata": {},
     "output_type": "execute_result"
    }
   ],
   "source": [
    "eng.head()"
   ]
  },
  {
   "cell_type": "code",
   "execution_count": 250,
   "metadata": {},
   "outputs": [],
   "source": [
    "size = eng['counter'] * eng['len']"
   ]
  },
  {
   "cell_type": "code",
   "execution_count": 251,
   "metadata": {},
   "outputs": [
    {
     "data": {
      "text/plain": [
       "317209747"
      ]
     },
     "execution_count": 251,
     "metadata": {},
     "output_type": "execute_result"
    }
   ],
   "source": [
    "np.sum(size.values)"
   ]
  },
  {
   "cell_type": "markdown",
   "metadata": {},
   "source": [
    "### Optimal M"
   ]
  },
  {
   "cell_type": "code",
   "execution_count": 252,
   "metadata": {},
   "outputs": [],
   "source": [
    "from src.types.table_types import Fields"
   ]
  },
  {
   "cell_type": "code",
   "execution_count": 253,
   "metadata": {},
   "outputs": [],
   "source": [
    "def from_table_size(encoding_table):\n",
    "    encoding_table['len'] =  list(map(lambda x: len(x), encoding_table['golomb'].values))\n",
    "    size = encoding_table['counter'] * encoding_table['len']\n",
    "    aprox = np.sum(size.values)\n",
    "    return aprox"
   ]
  },
  {
   "cell_type": "code",
   "execution_count": 254,
   "metadata": {},
   "outputs": [],
   "source": [
    "def run(ds, path, name, M, sorted_table):\n",
    "    gol = Golomb(M, sorted_table, False)\n",
    "\n",
    "    encoding_table = build_encoding_table(sorted_table, gol.M)\n",
    "    aprox = from_table_size(pd.DataFrame.from_dict(encoding_table, orient=\"index\"))\n",
    "\n",
    "\n",
    "\n",
    "    # tic = time.time()\n",
    "    # decoded_numbers = gol.decode_stream(encoded_string)\n",
    "    # toc = time.time()\n",
    "    # decoding_data = toc - tic\n",
    "\n",
    "    # decoded_data = gol.from_numbers_data(decoded_numbers, sorted_table)\n",
    "\n",
    "    # if not decoded_data == test_data:\n",
    "    #     return None\n",
    "\n",
    "    n = len(ds)\n",
    "\n",
    "    return {\n",
    "        #\"encoding_data\": encoding_data,\n",
    "        #\"decoding_data\": decoding_data,\n",
    "        Fields.Path.value: path,\n",
    "        Fields.Parameter.value: M,\n",
    "        Fields.Type.value: \"Golomb\",\n",
    "        Fields.Original.value: n * 8,\n",
    "        Fields.Aprox.value: aprox,\n",
    "        Fields.Calculation.value: \"\",\n",
    "        Fields.Name.value: name\n",
    "    }"
   ]
  },
  {
   "cell_type": "code",
   "execution_count": 255,
   "metadata": {},
   "outputs": [
    {
     "name": "stdout",
     "output_type": "stream",
     "text": [
      "Loading C://Users//Vojta//Desktop//iv//AKS//datasets\\dna\\dna.50MB\n",
      "Loading C://Users//Vojta//Desktop//iv//AKS//datasets\\english\\english.50MB\n"
     ]
    }
   ],
   "source": [
    "data_dna, path_dna = get_dataset(DataSets.dna)\n",
    "data_english, path_english = get_dataset(DataSets.english)"
   ]
  },
  {
   "cell_type": "code",
   "execution_count": 256,
   "metadata": {},
   "outputs": [],
   "source": [
    "datasets = [(data_dna, path_dna, DataSets.dna.value), (data_english, path_english, DataSets.english.value)]"
   ]
  },
  {
   "cell_type": "code",
   "execution_count": 257,
   "metadata": {},
   "outputs": [
    {
     "name": "stdout",
     "output_type": "stream",
     "text": [
      "Calculating freqs\n",
      "End of calculating 6.28487753868103\n",
      "Calculating probs\n",
      "End of calculating 0.0\n",
      "Current M = 3\n",
      "Table for m = 3\n",
      "Current M = 4\n",
      "Table for m = 4\n",
      "Current M = 5\n",
      "Table for m = 5\n",
      "Current M = 6\n",
      "Table for m = 6\n",
      "Current M = 7\n",
      "Table for m = 7\n",
      "Calculating freqs\n",
      "End of calculating 7.065019130706787\n",
      "Calculating probs\n",
      "End of calculating 0.0\n",
      "Current M = 3\n",
      "Table for m = 3\n",
      "Current M = 4\n",
      "Table for m = 4\n",
      "Current M = 5\n",
      "Table for m = 5\n",
      "Current M = 6\n",
      "Table for m = 6\n",
      "Current M = 7\n",
      "Table for m = 7\n",
      "Current M = 8\n",
      "Table for m = 8\n",
      "Current M = 9\n",
      "Table for m = 9\n",
      "Current M = 10\n",
      "Table for m = 10\n",
      "Current M = 11\n",
      "Table for m = 11\n",
      "Current M = 12\n",
      "Table for m = 12\n",
      "Current M = 13\n",
      "Table for m = 13\n",
      "Current M = 14\n",
      "Table for m = 14\n",
      "Current M = 15\n",
      "Table for m = 15\n",
      "Current M = 16\n",
      "Table for m = 16\n",
      "Current M = 17\n",
      "Table for m = 17\n",
      "Current M = 18\n",
      "Table for m = 18\n",
      "Current M = 19\n",
      "Table for m = 19\n",
      "Current M = 20\n",
      "Table for m = 20\n",
      "Current M = 21\n",
      "Table for m = 21\n",
      "Current M = 22\n",
      "Table for m = 22\n",
      "Current M = 23\n",
      "Table for m = 23\n",
      "Current M = 24\n",
      "Table for m = 24\n",
      "Current M = 25\n",
      "Table for m = 25\n",
      "Current M = 26\n",
      "Table for m = 26\n",
      "Current M = 27\n",
      "Table for m = 27\n",
      "Current M = 28\n",
      "Table for m = 28\n",
      "Current M = 29\n",
      "Table for m = 29\n",
      "Current M = 30\n",
      "Table for m = 30\n",
      "Current M = 31\n",
      "Table for m = 31\n",
      "Current M = 32\n",
      "Table for m = 32\n",
      "Current M = 33\n",
      "Table for m = 33\n",
      "Current M = 34\n",
      "Table for m = 34\n",
      "Current M = 35\n",
      "Table for m = 35\n",
      "Current M = 36\n",
      "Table for m = 36\n",
      "Current M = 37\n",
      "Table for m = 37\n",
      "Current M = 38\n",
      "Table for m = 38\n",
      "Current M = 39\n",
      "Table for m = 39\n",
      "Current M = 40\n",
      "Table for m = 40\n",
      "Current M = 41\n",
      "Table for m = 41\n",
      "Current M = 42\n",
      "Table for m = 42\n",
      "Current M = 43\n",
      "Table for m = 43\n",
      "Current M = 44\n",
      "Table for m = 44\n",
      "Current M = 45\n",
      "Table for m = 45\n",
      "Current M = 46\n",
      "Table for m = 46\n",
      "Current M = 47\n",
      "Table for m = 47\n",
      "Current M = 48\n",
      "Table for m = 48\n",
      "Current M = 49\n",
      "Table for m = 49\n",
      "Current M = 50\n",
      "Table for m = 50\n",
      "Current M = 51\n",
      "Table for m = 51\n",
      "Current M = 52\n",
      "Table for m = 52\n",
      "Current M = 53\n",
      "Table for m = 53\n",
      "Current M = 54\n",
      "Table for m = 54\n",
      "Current M = 55\n",
      "Table for m = 55\n",
      "Current M = 56\n",
      "Table for m = 56\n",
      "Current M = 57\n",
      "Table for m = 57\n",
      "Current M = 58\n",
      "Table for m = 58\n",
      "Current M = 59\n",
      "Table for m = 59\n",
      "Current M = 60\n",
      "Table for m = 60\n",
      "Current M = 61\n",
      "Table for m = 61\n",
      "Current M = 62\n",
      "Table for m = 62\n",
      "Current M = 63\n",
      "Table for m = 63\n",
      "Current M = 64\n",
      "Table for m = 64\n",
      "Current M = 65\n",
      "Table for m = 65\n",
      "Current M = 66\n",
      "Table for m = 66\n",
      "Current M = 67\n",
      "Table for m = 67\n",
      "Current M = 68\n",
      "Table for m = 68\n",
      "Current M = 69\n",
      "Table for m = 69\n",
      "Current M = 70\n",
      "Table for m = 70\n",
      "Current M = 71\n",
      "Table for m = 71\n",
      "Current M = 72\n",
      "Table for m = 72\n",
      "Current M = 73\n",
      "Table for m = 73\n",
      "Current M = 74\n",
      "Table for m = 74\n",
      "Current M = 75\n",
      "Table for m = 75\n",
      "Current M = 76\n",
      "Table for m = 76\n",
      "Current M = 77\n",
      "Table for m = 77\n",
      "Current M = 78\n",
      "Table for m = 78\n",
      "Current M = 79\n",
      "Table for m = 79\n",
      "Current M = 80\n",
      "Table for m = 80\n",
      "Current M = 81\n",
      "Table for m = 81\n",
      "Current M = 82\n",
      "Table for m = 82\n",
      "Current M = 83\n",
      "Table for m = 83\n",
      "Current M = 84\n",
      "Table for m = 84\n",
      "Current M = 85\n",
      "Table for m = 85\n",
      "Current M = 86\n",
      "Table for m = 86\n"
     ]
    }
   ],
   "source": [
    "res = {}\n",
    "counter = 0\n",
    "\n",
    "for data, path, name in datasets:\n",
    "    sorted_table = get_sorted_probs(data)\n",
    "    alphabet_size = len(list(sorted_table.keys()))\n",
    "\n",
    "    for M in range(3, int(alphabet_size / 2)):\n",
    "        print(f'Current M = {M}')\n",
    "        value = run(data, path, name, M, sorted_table)\n",
    "        if value is not None:\n",
    "            res[counter] = value\n",
    "            counter += 1"
   ]
  },
  {
   "cell_type": "code",
   "execution_count": 258,
   "metadata": {},
   "outputs": [],
   "source": [
    "result_dataframe = pd.DataFrame.from_dict(res, orient=\"index\")"
   ]
  },
  {
   "cell_type": "code",
   "execution_count": 259,
   "metadata": {},
   "outputs": [
    {
     "data": {
      "text/html": [
       "<div>\n",
       "<style scoped>\n",
       "    .dataframe tbody tr th:only-of-type {\n",
       "        vertical-align: middle;\n",
       "    }\n",
       "\n",
       "    .dataframe tbody tr th {\n",
       "        vertical-align: top;\n",
       "    }\n",
       "\n",
       "    .dataframe thead th {\n",
       "        text-align: right;\n",
       "    }\n",
       "</style>\n",
       "<table border=\"1\" class=\"dataframe\">\n",
       "  <thead>\n",
       "    <tr style=\"text-align: right;\">\n",
       "      <th></th>\n",
       "      <th>Path</th>\n",
       "      <th>Parameter</th>\n",
       "      <th>Type</th>\n",
       "      <th>Original</th>\n",
       "      <th>Aprox</th>\n",
       "      <th>Calculation</th>\n",
       "      <th>Name</th>\n",
       "    </tr>\n",
       "  </thead>\n",
       "  <tbody>\n",
       "    <tr>\n",
       "      <th>0</th>\n",
       "      <td>C://Users//Vojta//Desktop//iv//AKS//datasets\\d...</td>\n",
       "      <td>3</td>\n",
       "      <td>Golomb</td>\n",
       "      <td>419430400</td>\n",
       "      <td>153110628</td>\n",
       "      <td></td>\n",
       "      <td>dna</td>\n",
       "    </tr>\n",
       "    <tr>\n",
       "      <th>1</th>\n",
       "      <td>C://Users//Vojta//Desktop//iv//AKS//datasets\\d...</td>\n",
       "      <td>4</td>\n",
       "      <td>Golomb</td>\n",
       "      <td>419430400</td>\n",
       "      <td>179322230</td>\n",
       "      <td></td>\n",
       "      <td>dna</td>\n",
       "    </tr>\n",
       "    <tr>\n",
       "      <th>2</th>\n",
       "      <td>C://Users//Vojta//Desktop//iv//AKS//datasets\\d...</td>\n",
       "      <td>5</td>\n",
       "      <td>Golomb</td>\n",
       "      <td>419430400</td>\n",
       "      <td>168296369</td>\n",
       "      <td></td>\n",
       "      <td>dna</td>\n",
       "    </tr>\n",
       "    <tr>\n",
       "      <th>3</th>\n",
       "      <td>C://Users//Vojta//Desktop//iv//AKS//datasets\\d...</td>\n",
       "      <td>6</td>\n",
       "      <td>Golomb</td>\n",
       "      <td>419430400</td>\n",
       "      <td>179322401</td>\n",
       "      <td></td>\n",
       "      <td>dna</td>\n",
       "    </tr>\n",
       "    <tr>\n",
       "      <th>4</th>\n",
       "      <td>C://Users//Vojta//Desktop//iv//AKS//datasets\\d...</td>\n",
       "      <td>7</td>\n",
       "      <td>Golomb</td>\n",
       "      <td>419430400</td>\n",
       "      <td>194512535</td>\n",
       "      <td></td>\n",
       "      <td>dna</td>\n",
       "    </tr>\n",
       "    <tr>\n",
       "      <th>...</th>\n",
       "      <td>...</td>\n",
       "      <td>...</td>\n",
       "      <td>...</td>\n",
       "      <td>...</td>\n",
       "      <td>...</td>\n",
       "      <td>...</td>\n",
       "      <td>...</td>\n",
       "    </tr>\n",
       "    <tr>\n",
       "      <th>84</th>\n",
       "      <td>C://Users//Vojta//Desktop//iv//AKS//datasets\\e...</td>\n",
       "      <td>82</td>\n",
       "      <td>Golomb</td>\n",
       "      <td>419430400</td>\n",
       "      <td>367390716</td>\n",
       "      <td></td>\n",
       "      <td>english</td>\n",
       "    </tr>\n",
       "    <tr>\n",
       "      <th>85</th>\n",
       "      <td>C://Users//Vojta//Desktop//iv//AKS//datasets\\e...</td>\n",
       "      <td>83</td>\n",
       "      <td>Golomb</td>\n",
       "      <td>419430400</td>\n",
       "      <td>367390706</td>\n",
       "      <td></td>\n",
       "      <td>english</td>\n",
       "    </tr>\n",
       "    <tr>\n",
       "      <th>86</th>\n",
       "      <td>C://Users//Vojta//Desktop//iv//AKS//datasets\\e...</td>\n",
       "      <td>84</td>\n",
       "      <td>Golomb</td>\n",
       "      <td>419430400</td>\n",
       "      <td>367390696</td>\n",
       "      <td></td>\n",
       "      <td>english</td>\n",
       "    </tr>\n",
       "    <tr>\n",
       "      <th>87</th>\n",
       "      <td>C://Users//Vojta//Desktop//iv//AKS//datasets\\e...</td>\n",
       "      <td>85</td>\n",
       "      <td>Golomb</td>\n",
       "      <td>419430400</td>\n",
       "      <td>367390688</td>\n",
       "      <td></td>\n",
       "      <td>english</td>\n",
       "    </tr>\n",
       "    <tr>\n",
       "      <th>88</th>\n",
       "      <td>C://Users//Vojta//Desktop//iv//AKS//datasets\\e...</td>\n",
       "      <td>86</td>\n",
       "      <td>Golomb</td>\n",
       "      <td>419430400</td>\n",
       "      <td>367390681</td>\n",
       "      <td></td>\n",
       "      <td>english</td>\n",
       "    </tr>\n",
       "  </tbody>\n",
       "</table>\n",
       "<p>89 rows × 7 columns</p>\n",
       "</div>"
      ],
      "text/plain": [
       "                                                 Path  Parameter    Type  \\\n",
       "0   C://Users//Vojta//Desktop//iv//AKS//datasets\\d...          3  Golomb   \n",
       "1   C://Users//Vojta//Desktop//iv//AKS//datasets\\d...          4  Golomb   \n",
       "2   C://Users//Vojta//Desktop//iv//AKS//datasets\\d...          5  Golomb   \n",
       "3   C://Users//Vojta//Desktop//iv//AKS//datasets\\d...          6  Golomb   \n",
       "4   C://Users//Vojta//Desktop//iv//AKS//datasets\\d...          7  Golomb   \n",
       "..                                                ...        ...     ...   \n",
       "84  C://Users//Vojta//Desktop//iv//AKS//datasets\\e...         82  Golomb   \n",
       "85  C://Users//Vojta//Desktop//iv//AKS//datasets\\e...         83  Golomb   \n",
       "86  C://Users//Vojta//Desktop//iv//AKS//datasets\\e...         84  Golomb   \n",
       "87  C://Users//Vojta//Desktop//iv//AKS//datasets\\e...         85  Golomb   \n",
       "88  C://Users//Vojta//Desktop//iv//AKS//datasets\\e...         86  Golomb   \n",
       "\n",
       "     Original      Aprox Calculation     Name  \n",
       "0   419430400  153110628                  dna  \n",
       "1   419430400  179322230                  dna  \n",
       "2   419430400  168296369                  dna  \n",
       "3   419430400  179322401                  dna  \n",
       "4   419430400  194512535                  dna  \n",
       "..        ...        ...         ...      ...  \n",
       "84  419430400  367390716              english  \n",
       "85  419430400  367390706              english  \n",
       "86  419430400  367390696              english  \n",
       "87  419430400  367390688              english  \n",
       "88  419430400  367390681              english  \n",
       "\n",
       "[89 rows x 7 columns]"
      ]
     },
     "execution_count": 259,
     "metadata": {},
     "output_type": "execute_result"
    }
   ],
   "source": [
    "result_dataframe"
   ]
  },
  {
   "cell_type": "code",
   "execution_count": 261,
   "metadata": {},
   "outputs": [],
   "source": [
    "english = result_dataframe[result_dataframe.Name == 'english']"
   ]
  },
  {
   "cell_type": "code",
   "execution_count": 263,
   "metadata": {},
   "outputs": [
    {
     "data": {
      "text/html": [
       "<div>\n",
       "<style scoped>\n",
       "    .dataframe tbody tr th:only-of-type {\n",
       "        vertical-align: middle;\n",
       "    }\n",
       "\n",
       "    .dataframe tbody tr th {\n",
       "        vertical-align: top;\n",
       "    }\n",
       "\n",
       "    .dataframe thead th {\n",
       "        text-align: right;\n",
       "    }\n",
       "</style>\n",
       "<table border=\"1\" class=\"dataframe\">\n",
       "  <thead>\n",
       "    <tr style=\"text-align: right;\">\n",
       "      <th></th>\n",
       "      <th>Path</th>\n",
       "      <th>Parameter</th>\n",
       "      <th>Type</th>\n",
       "      <th>Original</th>\n",
       "      <th>Aprox</th>\n",
       "      <th>Calculation</th>\n",
       "      <th>Name</th>\n",
       "    </tr>\n",
       "  </thead>\n",
       "  <tbody>\n",
       "    <tr>\n",
       "      <th>7</th>\n",
       "      <td>C://Users//Vojta//Desktop//iv//AKS//datasets\\e...</td>\n",
       "      <td>5</td>\n",
       "      <td>Golomb</td>\n",
       "      <td>419430400</td>\n",
       "      <td>243175932</td>\n",
       "      <td></td>\n",
       "      <td>english</td>\n",
       "    </tr>\n",
       "    <tr>\n",
       "      <th>8</th>\n",
       "      <td>C://Users//Vojta//Desktop//iv//AKS//datasets\\e...</td>\n",
       "      <td>6</td>\n",
       "      <td>Golomb</td>\n",
       "      <td>419430400</td>\n",
       "      <td>246513444</td>\n",
       "      <td></td>\n",
       "      <td>english</td>\n",
       "    </tr>\n",
       "    <tr>\n",
       "      <th>10</th>\n",
       "      <td>C://Users//Vojta//Desktop//iv//AKS//datasets\\e...</td>\n",
       "      <td>8</td>\n",
       "      <td>Golomb</td>\n",
       "      <td>419430400</td>\n",
       "      <td>247197762</td>\n",
       "      <td></td>\n",
       "      <td>english</td>\n",
       "    </tr>\n",
       "    <tr>\n",
       "      <th>11</th>\n",
       "      <td>C://Users//Vojta//Desktop//iv//AKS//datasets\\e...</td>\n",
       "      <td>9</td>\n",
       "      <td>Golomb</td>\n",
       "      <td>419430400</td>\n",
       "      <td>247998064</td>\n",
       "      <td></td>\n",
       "      <td>english</td>\n",
       "    </tr>\n",
       "    <tr>\n",
       "      <th>12</th>\n",
       "      <td>C://Users//Vojta//Desktop//iv//AKS//datasets\\e...</td>\n",
       "      <td>10</td>\n",
       "      <td>Golomb</td>\n",
       "      <td>419430400</td>\n",
       "      <td>249845412</td>\n",
       "      <td></td>\n",
       "      <td>english</td>\n",
       "    </tr>\n",
       "    <tr>\n",
       "      <th>...</th>\n",
       "      <td>...</td>\n",
       "      <td>...</td>\n",
       "      <td>...</td>\n",
       "      <td>...</td>\n",
       "      <td>...</td>\n",
       "      <td>...</td>\n",
       "      <td>...</td>\n",
       "    </tr>\n",
       "    <tr>\n",
       "      <th>77</th>\n",
       "      <td>C://Users//Vojta//Desktop//iv//AKS//datasets\\e...</td>\n",
       "      <td>75</td>\n",
       "      <td>Golomb</td>\n",
       "      <td>419430400</td>\n",
       "      <td>367390822</td>\n",
       "      <td></td>\n",
       "      <td>english</td>\n",
       "    </tr>\n",
       "    <tr>\n",
       "      <th>76</th>\n",
       "      <td>C://Users//Vojta//Desktop//iv//AKS//datasets\\e...</td>\n",
       "      <td>74</td>\n",
       "      <td>Golomb</td>\n",
       "      <td>419430400</td>\n",
       "      <td>367390841</td>\n",
       "      <td></td>\n",
       "      <td>english</td>\n",
       "    </tr>\n",
       "    <tr>\n",
       "      <th>75</th>\n",
       "      <td>C://Users//Vojta//Desktop//iv//AKS//datasets\\e...</td>\n",
       "      <td>73</td>\n",
       "      <td>Golomb</td>\n",
       "      <td>419430400</td>\n",
       "      <td>367390861</td>\n",
       "      <td></td>\n",
       "      <td>english</td>\n",
       "    </tr>\n",
       "    <tr>\n",
       "      <th>74</th>\n",
       "      <td>C://Users//Vojta//Desktop//iv//AKS//datasets\\e...</td>\n",
       "      <td>72</td>\n",
       "      <td>Golomb</td>\n",
       "      <td>419430400</td>\n",
       "      <td>367390885</td>\n",
       "      <td></td>\n",
       "      <td>english</td>\n",
       "    </tr>\n",
       "    <tr>\n",
       "      <th>73</th>\n",
       "      <td>C://Users//Vojta//Desktop//iv//AKS//datasets\\e...</td>\n",
       "      <td>71</td>\n",
       "      <td>Golomb</td>\n",
       "      <td>419430400</td>\n",
       "      <td>367390912</td>\n",
       "      <td></td>\n",
       "      <td>english</td>\n",
       "    </tr>\n",
       "  </tbody>\n",
       "</table>\n",
       "<p>84 rows × 7 columns</p>\n",
       "</div>"
      ],
      "text/plain": [
       "                                                 Path  Parameter    Type  \\\n",
       "7   C://Users//Vojta//Desktop//iv//AKS//datasets\\e...          5  Golomb   \n",
       "8   C://Users//Vojta//Desktop//iv//AKS//datasets\\e...          6  Golomb   \n",
       "10  C://Users//Vojta//Desktop//iv//AKS//datasets\\e...          8  Golomb   \n",
       "11  C://Users//Vojta//Desktop//iv//AKS//datasets\\e...          9  Golomb   \n",
       "12  C://Users//Vojta//Desktop//iv//AKS//datasets\\e...         10  Golomb   \n",
       "..                                                ...        ...     ...   \n",
       "77  C://Users//Vojta//Desktop//iv//AKS//datasets\\e...         75  Golomb   \n",
       "76  C://Users//Vojta//Desktop//iv//AKS//datasets\\e...         74  Golomb   \n",
       "75  C://Users//Vojta//Desktop//iv//AKS//datasets\\e...         73  Golomb   \n",
       "74  C://Users//Vojta//Desktop//iv//AKS//datasets\\e...         72  Golomb   \n",
       "73  C://Users//Vojta//Desktop//iv//AKS//datasets\\e...         71  Golomb   \n",
       "\n",
       "     Original      Aprox Calculation     Name  \n",
       "7   419430400  243175932              english  \n",
       "8   419430400  246513444              english  \n",
       "10  419430400  247197762              english  \n",
       "11  419430400  247998064              english  \n",
       "12  419430400  249845412              english  \n",
       "..        ...        ...         ...      ...  \n",
       "77  419430400  367390822              english  \n",
       "76  419430400  367390841              english  \n",
       "75  419430400  367390861              english  \n",
       "74  419430400  367390885              english  \n",
       "73  419430400  367390912              english  \n",
       "\n",
       "[84 rows x 7 columns]"
      ]
     },
     "execution_count": 263,
     "metadata": {},
     "output_type": "execute_result"
    }
   ],
   "source": [
    "english.sort_values(by='Aprox')"
   ]
  },
  {
   "cell_type": "code",
   "execution_count": 264,
   "metadata": {},
   "outputs": [],
   "source": [
    "from src.save import save_both"
   ]
  },
  {
   "cell_type": "code",
   "execution_count": 265,
   "metadata": {},
   "outputs": [],
   "source": [
    "save_both(result_dataframe)"
   ]
  }
 ],
 "metadata": {
  "interpreter": {
   "hash": "2a094b558792df53015a06eccbeeb156f6e89f526088fb771785a5b12806cace"
  },
  "kernelspec": {
   "display_name": "Python 3.8.6rc1 ('venv': venv)",
   "language": "python",
   "name": "python3"
  },
  "language_info": {
   "codemirror_mode": {
    "name": "ipython",
    "version": 3
   },
   "file_extension": ".py",
   "mimetype": "text/x-python",
   "name": "python",
   "nbconvert_exporter": "python",
   "pygments_lexer": "ipython3",
   "version": "3.8.1"
  },
  "orig_nbformat": 4
 },
 "nbformat": 4,
 "nbformat_minor": 2
}
