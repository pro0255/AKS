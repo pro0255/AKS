{
 "cells": [
  {
   "cell_type": "markdown",
   "metadata": {},
   "source": [
    "# Poznamky\n",
    "\n",
    "- Singulární - jednoznačné\n",
    "- Nesingulární - více výsledků\n",
    "- Prefixové, okamžité kódy - kodová slova se sama oddělují\n",
    "\n",
    "Ne všechny kódy jsme schopní dekodovat v jasném místě.\n",
    "Není potřeba použít binárku, stačí text."
   ]
  },
  {
   "cell_type": "markdown",
   "metadata": {},
   "source": [
    "# Zadání"
   ]
  },
  {
   "cell_type": "markdown",
   "metadata": {},
   "source": [
    "## 2.3. Variable-Length Codes (10 points)"
   ]
  },
  {
   "cell_type": "markdown",
   "metadata": {},
   "source": [
    "- Implement Golomb coding/decoding algorithm.(7 pts)\n",
    "- You should encode symbols with high probability by shorter codes. First compute frequency of symbols, sort them by probability and assign them a Golomb-code.\n",
    "- You don't have to store bits in binary, it is sufficient to store them as textual values.\n",
    "- Find the optimal M for the selected file.(2 pts)\n",
    "- Compare your results with the entropy and compute redundancy of the code R = C - H, where C is an average number of bits per byte used in the compressed file for the original data: 8*|c(m)|/|m|(1 pt)"
   ]
  },
  {
   "cell_type": "code",
   "execution_count": null,
   "metadata": {},
   "outputs": [],
   "source": [
    "# Python programming for Golomb Encoding\n",
    "import math\n",
    "\n",
    "# taking input for N and M where\n",
    "# M == 2 ^ n or M != 2 ^ n\n",
    "N = 37\n",
    "M = 11\n",
    "\n",
    "# for finding the value of preceding\n",
    "# number of zeros by dividing N by M\n",
    "q = N//M\n",
    "# for computing the remainder of N by M\n",
    "r = N % M\n",
    "\n",
    "# appending that many numbers of zeros in\n",
    "# starting of the encoded code initially\n",
    "quo ='0'*q+'1'\n",
    "\n",
    "# for computing the value of b ie floor of\n",
    "# log(M) base 2 which will be used for computing value of k\n",
    "b = math.floor(math.log2(M))\n",
    "k = 2**(b + 1)-M\n",
    "# upon comparing the value of remainder with the\n",
    "# value of k if less we we convert remainder r to\n",
    "# binary and add the value from # index 2 because\n",
    "# at index 0, 1 \"0b\" is present\n",
    "if r < k:\n",
    "\trem = bin(r)[2:]\n",
    "\tl = len(rem)\n",
    "\t\n",
    "# upon the calculating value of rem if it is less than\n",
    "# computed value of b we add b-1 number of zeros in\n",
    "# preceding of the # remainder\n",
    "\tif l<b:\n",
    "\t\trem = '0'*(b-l)+rem\n",
    "else:\n",
    "# we convert remainder r to binary and add the\n",
    "# value from index 2 because at index 0, 1 \"0b\" is present\n",
    "\trem = bin(r + k)[2:]\n",
    "\tl = len(rem)\n",
    "# upon calculating value of rem if it is less than\n",
    "# computed value of b we add b-1 number of zeros in\n",
    "# preceding of the # remainder\n",
    "\tif l<b + 1:\n",
    "\t\trem = '0'*(b + 1-l)+rem\n",
    "golomb_code = quo + rem\n",
    "print(\"The golomb code encoding for x = {} and b = {} is {}\".\n",
    "\tformat(N, M, golomb_code))\n"
   ]
  }
 ],
 "metadata": {
  "interpreter": {
   "hash": "2a094b558792df53015a06eccbeeb156f6e89f526088fb771785a5b12806cace"
  },
  "kernelspec": {
   "display_name": "Python 3.8.6rc1 ('venv': venv)",
   "language": "python",
   "name": "python3"
  },
  "language_info": {
   "name": "python",
   "version": "3.8.6"
  },
  "orig_nbformat": 4
 },
 "nbformat": 4,
 "nbformat_minor": 2
}
