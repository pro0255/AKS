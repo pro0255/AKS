{
 "cells": [
  {
   "cell_type": "markdown",
   "metadata": {},
   "source": [
    "# Poznamky\n",
    "\n",
    "- Singulární - jednoznačné\n",
    "- Nesingulární - více výsledků\n",
    "- Prefixové, okamžité kódy - kodová slova se sama oddělují\n",
    "\n",
    "Ne všechny kódy jsme schopní dekodovat v jasném místě.\n",
    "Není potřeba použít binárku, stačí text."
   ]
  },
  {
   "cell_type": "markdown",
   "metadata": {},
   "source": [
    "# Zadání"
   ]
  },
  {
   "cell_type": "markdown",
   "metadata": {},
   "source": [
    "## 2.3. Variable-Length Codes (10 points)"
   ]
  },
  {
   "cell_type": "markdown",
   "metadata": {},
   "source": [
    "- Implement Golomb coding/decoding algorithm.(7 pts)\n",
    "- You should encode symbols with high probability by shorter codes. First compute frequency of symbols, sort them by probability and assign them a Golomb-code.\n",
    "- You don't have to store bits in binary, it is sufficient to store them as textual values.\n",
    "- Find the optimal M for the selected file.(2 pts)\n",
    "- Compare your results with the entropy and compute redundancy of the code R = C - H, where C is an average number of bits per byte used in the compressed file for the original data: 8*|c(m)|/|m|(1 pt)"
   ]
  },
  {
   "cell_type": "code",
   "execution_count": 1,
   "metadata": {},
   "outputs": [],
   "source": [
    "import os\n",
    "import sys\n",
    "\n",
    "def adding_module_path():\n",
    "    module_path = os.path.abspath(os.path.sep.join([\"..\"]*2))\n",
    "\n",
    "    if module_path not in sys.path:\n",
    "        sys.path.append(module_path)\n",
    "\n",
    "adding_module_path()"
   ]
  },
  {
   "cell_type": "code",
   "execution_count": 2,
   "metadata": {},
   "outputs": [],
   "source": [
    "from src.load_data import get_dataset\n",
    "from src.load_data import DataSets\n",
    "import numpy as np\n",
    "import time\n",
    "import pandas as pd"
   ]
  },
  {
   "cell_type": "code",
   "execution_count": 3,
   "metadata": {},
   "outputs": [
    {
     "name": "stdout",
     "output_type": "stream",
     "text": [
      "Loading C://Users//Vojta//Desktop//iv//AKS//datasets\\dna\\dna.50MB\n"
     ]
    }
   ],
   "source": [
    "data_dna, path_dna = get_dataset(DataSets.dna)"
   ]
  },
  {
   "cell_type": "code",
   "execution_count": 4,
   "metadata": {},
   "outputs": [],
   "source": [
    "def calc_freq(data):\n",
    "    tic = time.time()\n",
    "    print('Calculating freqs')\n",
    "    res = {}\n",
    "    for c in data:\n",
    "        res[c] = res.get(c, 0) + 1\n",
    "    toc = time.time()\n",
    "    print(f'End of calculating {toc - tic}')\n",
    "    return res"
   ]
  },
  {
   "cell_type": "code",
   "execution_count": 5,
   "metadata": {},
   "outputs": [],
   "source": [
    "def calc_probs(freq):\n",
    "    res = {}    \n",
    "    tic = time.time()\n",
    "    print('Calculating probs')\n",
    "    n = np.sum(list(freq.values()))\n",
    "    for k, v in freq.items():\n",
    "        res[k] = v / n\n",
    "\n",
    "    toc = time.time()\n",
    "    print(f'End of calculating {toc - tic}')\n",
    "    return res"
   ]
  },
  {
   "cell_type": "code",
   "execution_count": 6,
   "metadata": {},
   "outputs": [],
   "source": [
    "def get_probs(data):\n",
    "    freq = calc_freq(data)\n",
    "    return calc_probs(freq)"
   ]
  },
  {
   "cell_type": "code",
   "execution_count": 7,
   "metadata": {},
   "outputs": [
    {
     "name": "stdout",
     "output_type": "stream",
     "text": [
      "Calculating freqs\n",
      "End of calculating 6.977980852127075\n",
      "Calculating probs\n",
      "End of calculating 0.0\n"
     ]
    }
   ],
   "source": [
    "p = get_probs(data_dna)"
   ]
  },
  {
   "cell_type": "code",
   "execution_count": 8,
   "metadata": {},
   "outputs": [],
   "source": [
    "def get_sorted_probs(data):\n",
    "    p = get_probs(data)\n",
    "    return dict(sorted(p.items(), key=lambda item: item[1], reverse=True))"
   ]
  },
  {
   "cell_type": "code",
   "execution_count": 9,
   "metadata": {},
   "outputs": [
    {
     "name": "stdout",
     "output_type": "stream",
     "text": [
      "Calculating freqs\n",
      "End of calculating 7.106724500656128\n",
      "Calculating probs\n",
      "End of calculating 0.0\n"
     ]
    },
    {
     "data": {
      "text/html": [
       "<div>\n",
       "<style scoped>\n",
       "    .dataframe tbody tr th:only-of-type {\n",
       "        vertical-align: middle;\n",
       "    }\n",
       "\n",
       "    .dataframe tbody tr th {\n",
       "        vertical-align: top;\n",
       "    }\n",
       "\n",
       "    .dataframe thead th {\n",
       "        text-align: right;\n",
       "    }\n",
       "</style>\n",
       "<table border=\"1\" class=\"dataframe\">\n",
       "  <thead>\n",
       "    <tr style=\"text-align: right;\">\n",
       "      <th></th>\n",
       "      <th>0</th>\n",
       "    </tr>\n",
       "  </thead>\n",
       "  <tbody>\n",
       "    <tr>\n",
       "      <th>A</th>\n",
       "      <td>2.899787e-01</td>\n",
       "    </tr>\n",
       "    <tr>\n",
       "      <th>T</th>\n",
       "      <td>2.897280e-01</td>\n",
       "    </tr>\n",
       "    <tr>\n",
       "      <th>C</th>\n",
       "      <td>2.102979e-01</td>\n",
       "    </tr>\n",
       "    <tr>\n",
       "      <th>G</th>\n",
       "      <td>2.099745e-01</td>\n",
       "    </tr>\n",
       "    <tr>\n",
       "      <th>N</th>\n",
       "      <td>8.907318e-06</td>\n",
       "    </tr>\n",
       "    <tr>\n",
       "      <th>\\n</th>\n",
       "      <td>6.408691e-06</td>\n",
       "    </tr>\n",
       "    <tr>\n",
       "      <th>R</th>\n",
       "      <td>1.296997e-06</td>\n",
       "    </tr>\n",
       "    <tr>\n",
       "      <th>Y</th>\n",
       "      <td>1.087189e-06</td>\n",
       "    </tr>\n",
       "    <tr>\n",
       "      <th>K</th>\n",
       "      <td>8.773804e-07</td>\n",
       "    </tr>\n",
       "    <tr>\n",
       "      <th>W</th>\n",
       "      <td>8.583069e-07</td>\n",
       "    </tr>\n",
       "    <tr>\n",
       "      <th>S</th>\n",
       "      <td>6.294250e-07</td>\n",
       "    </tr>\n",
       "    <tr>\n",
       "      <th>M</th>\n",
       "      <td>5.912781e-07</td>\n",
       "    </tr>\n",
       "    <tr>\n",
       "      <th>V</th>\n",
       "      <td>5.722046e-08</td>\n",
       "    </tr>\n",
       "    <tr>\n",
       "      <th>H</th>\n",
       "      <td>3.814697e-08</td>\n",
       "    </tr>\n",
       "    <tr>\n",
       "      <th>D</th>\n",
       "      <td>1.907349e-08</td>\n",
       "    </tr>\n",
       "    <tr>\n",
       "      <th>B</th>\n",
       "      <td>1.907349e-08</td>\n",
       "    </tr>\n",
       "  </tbody>\n",
       "</table>\n",
       "</div>"
      ],
      "text/plain": [
       "               0\n",
       "A   2.899787e-01\n",
       "T   2.897280e-01\n",
       "C   2.102979e-01\n",
       "G   2.099745e-01\n",
       "N   8.907318e-06\n",
       "\\n  6.408691e-06\n",
       "R   1.296997e-06\n",
       "Y   1.087189e-06\n",
       "K   8.773804e-07\n",
       "W   8.583069e-07\n",
       "S   6.294250e-07\n",
       "M   5.912781e-07\n",
       "V   5.722046e-08\n",
       "H   3.814697e-08\n",
       "D   1.907349e-08\n",
       "B   1.907349e-08"
      ]
     },
     "execution_count": 9,
     "metadata": {},
     "output_type": "execute_result"
    }
   ],
   "source": [
    "pd.DataFrame.from_dict(get_sorted_probs(data_dna), orient='index')"
   ]
  },
  {
   "cell_type": "code",
   "execution_count": 50,
   "metadata": {},
   "outputs": [],
   "source": [
    "import math\n",
    "import time"
   ]
  },
  {
   "cell_type": "code",
   "execution_count": 58,
   "metadata": {},
   "outputs": [],
   "source": [
    "def unary_func(n):\n",
    "    return n * '0' + '1'"
   ]
  },
  {
   "cell_type": "code",
   "execution_count": 59,
   "metadata": {},
   "outputs": [],
   "source": [
    "def encode_number_func(number, M):\n",
    "    q = number // M\n",
    "    r = number % M\n",
    "    \n",
    "    k = math.ceil(math.log2(M))\n",
    "    quo_part = unary_func(q)\n",
    "\n",
    "    c = 2**(k) - M\n",
    "\n",
    "    truncated_part = None\n",
    "    if r < c:\n",
    "        b = c - 1\n",
    "        a = \"{0:0\" + str(b) + \"b}\"\n",
    "        truncated_part = a.format(r)\n",
    "    else:\n",
    "        b = c\n",
    "        a = \"{0:0\" + str(b) + \"b}\"\n",
    "        truncated_part = a.format(r+c)\n",
    "\n",
    "    return \"\".join([quo_part, truncated_part])\n"
   ]
  },
  {
   "cell_type": "code",
   "execution_count": 60,
   "metadata": {},
   "outputs": [],
   "source": [
    "def build_encoding_table(numbers, M):\n",
    "    res = {}\n",
    "\n",
    "    for current_number in numbers:\n",
    "\n",
    "        value = encode_number_func(current_number, M)\n",
    "        res[current_number] = value\n",
    "\n",
    "    return res"
   ]
  },
  {
   "cell_type": "code",
   "execution_count": 79,
   "metadata": {},
   "outputs": [],
   "source": [
    "class Golomb:\n",
    "    def __init__(self, M, prob_table, verbose=False):\n",
    "        self.M = M\n",
    "        self.prob_table = prob_table\n",
    "        self.verbose = verbose\n",
    "\n",
    "    def from_numbers_data(self, numbers, prob_table):\n",
    "        keys = list(prob_table.keys())\n",
    "        res = \"\"\n",
    "        try:\n",
    "            for number in numbers:\n",
    "                res += keys[number]\n",
    "            return res\n",
    "        except Exception as e:\n",
    "            print(f\"Error occurred {str(e)}\")\n",
    "\n",
    "    def from_data_numbers(self, data, prob_table):\n",
    "        keys = list(prob_table.keys())\n",
    "        return [keys.index(c) for c in data]\n",
    "\n",
    "    def encode_number(self, number):\n",
    "        return encode_number_func(number, self.M)\n",
    "\n",
    "    def unary(self, n):\n",
    "        return unary_func(n)\n",
    "\n",
    "    def encode_with_table(self, c, prop_table):\n",
    "        keys = list(prop_table.keys())\n",
    "        char_index = keys.index(c)\n",
    "        return self.encode_number(char_index, len(keys))\n",
    "\n",
    "    def encode_indicies(self, indicies, precalculated_table=None):\n",
    "        encoded_string = \"\"\n",
    "        size = len(np.unique(indicies))\n",
    "        for index in indicies:\n",
    "            encoded_number = \"\"\n",
    "            if precalculated_table is not None:\n",
    "                encoded_number = precalculated_table[index]\n",
    "            else:\n",
    "                encoded_number = self.encode_number(index)\n",
    "            if self.verbose:\n",
    "                print(encoded_number)\n",
    "            encoded_string += encoded_number\n",
    "        return encoded_string\n",
    "\n",
    "    def encode_stream(self, stream):\n",
    "        tic = time.time()\n",
    "        encoded_string = \"\"\n",
    "        for c in stream:\n",
    "            enc = self.encode_with_table(c, self.prob_table)\n",
    "            encoded_string += enc\n",
    "        toc = time.time()\n",
    "        return encoded_string, toc - tic\n",
    "\n",
    "    def decode_number(self, q, M, r):\n",
    "        print(q, M, r)\n",
    "        return q * M + r\n",
    "\n",
    "    def decode_stream(self, stream):\n",
    "        res = []\n",
    "\n",
    "        i = 0\n",
    "\n",
    "        current_quotient = \"\"\n",
    "        k = math.ceil(math.log2(self.M))\n",
    "        c = math.ceil(math.log2(self.M)) - 1\n",
    "\n",
    "        print('k', k)\n",
    "        print('c', c)\n",
    "    \n",
    "\n",
    "        try:\n",
    "            while i < len(stream) - c:\n",
    "                print('\\n')\n",
    "                current_char = stream[i]\n",
    "                if current_char == '0':\n",
    "                    current_quotient += current_char\n",
    "                    i += 1\n",
    "\n",
    "                else:\n",
    "                    current_quotient += '1'\n",
    "                    next_bits = stream[(i+1):(i+1+c)]\n",
    "                    dec = int(next_bits, 2)\n",
    "\n",
    "                    value = dec\n",
    "                    right_side = math.pow(2, k) - self.M\n",
    "                    is_smaller = value < right_side\n",
    "\n",
    "                    q = current_quotient.count('0')\n",
    "                    remainder = 0\n",
    "\n",
    "                    if is_smaller:\n",
    "                        if self.verbose:\n",
    "                            print('1.', current_quotient + next_bits)\n",
    "                        remainder = int(next_bits, 2)\n",
    "                        i += k\n",
    "                        res.append(self.decode_number(q, self.M, remainder))\n",
    "                        current_quotient = \"\"\n",
    "                        continue\n",
    "                    else:\n",
    "                        bits = stream[(i+1):(i+1+c+1)]\n",
    "                        if self.verbose:\n",
    "                            print('2.', current_quotient + bits, 'only_bits', bits)\n",
    "                        remainder = int(bits, 2)\n",
    "                        remainder = remainder - k\n",
    "                        i += k + 1\n",
    "                        res.append(self.decode_number(q, self.M, remainder))\n",
    "                        current_quotient = \"\"\n",
    "                        continue\n",
    "        except Exception as e:\n",
    "            print(\"Error occurred\")\n",
    "            print(f\"{str(e)}\")\n",
    "            return None\n",
    "\n",
    "        return res\n",
    "\n",
    "    def decode_from_indicies(self, ints, keys):\n",
    "        res = \"\"\n",
    "        for index in ints:\n",
    "            res += keys[index]\n",
    "        return res"
   ]
  },
  {
   "cell_type": "code",
   "execution_count": 80,
   "metadata": {},
   "outputs": [
    {
     "data": {
      "text/plain": [
       "'GATCAATGAG'"
      ]
     },
     "execution_count": 80,
     "metadata": {},
     "output_type": "execute_result"
    }
   ],
   "source": [
    "test_data = data_dna[0:10]\n",
    "test_data"
   ]
  },
  {
   "cell_type": "markdown",
   "metadata": {},
   "source": [
    "# Tests"
   ]
  },
  {
   "cell_type": "markdown",
   "metadata": {},
   "source": [
    "### Test conversion"
   ]
  },
  {
   "cell_type": "code",
   "execution_count": 81,
   "metadata": {},
   "outputs": [
    {
     "name": "stdout",
     "output_type": "stream",
     "text": [
      "Calculating freqs\n",
      "End of calculating 0.0009987354278564453\n",
      "Calculating probs\n",
      "End of calculating 0.0\n",
      "GATCAATGAG\n",
      "True\n"
     ]
    }
   ],
   "source": [
    "sorted_table = get_sorted_probs(test_data)\n",
    "gol = Golomb(10, sorted_table)\n",
    "\n",
    "indicies = gol.from_data_numbers(test_data, sorted_table)\n",
    "current_data = gol.from_numbers_data(indicies, sorted_table)\n",
    "\n",
    "print(current_data)\n",
    "print(current_data == test_data)"
   ]
  },
  {
   "cell_type": "markdown",
   "metadata": {},
   "source": [
    "### Test of encoding"
   ]
  },
  {
   "cell_type": "code",
   "execution_count": 82,
   "metadata": {},
   "outputs": [
    {
     "name": "stdout",
     "output_type": "stream",
     "text": [
      "Calculating freqs\n",
      "End of calculating 0.0\n",
      "Calculating probs\n",
      "End of calculating 0.001001596450805664\n",
      "{'A': 0.4, 'G': 0.3, 'T': 0.2, 'C': 0.1}\n"
     ]
    }
   ],
   "source": [
    "sorted_table = get_sorted_probs(test_data)\n",
    "\n",
    "print(sorted_table)\n",
    "gol = Golomb(4, sorted_table, True)\n",
    "\n",
    "indicies = gol.from_data_numbers(test_data, sorted_table)\n",
    "encoding_table = build_encoding_table(indicies, gol.M)"
   ]
  },
  {
   "cell_type": "code",
   "execution_count": 83,
   "metadata": {},
   "outputs": [
    {
     "data": {
      "text/html": [
       "<div>\n",
       "<style scoped>\n",
       "    .dataframe tbody tr th:only-of-type {\n",
       "        vertical-align: middle;\n",
       "    }\n",
       "\n",
       "    .dataframe tbody tr th {\n",
       "        vertical-align: top;\n",
       "    }\n",
       "\n",
       "    .dataframe thead th {\n",
       "        text-align: right;\n",
       "    }\n",
       "</style>\n",
       "<table border=\"1\" class=\"dataframe\">\n",
       "  <thead>\n",
       "    <tr style=\"text-align: right;\">\n",
       "      <th></th>\n",
       "      <th>0</th>\n",
       "    </tr>\n",
       "  </thead>\n",
       "  <tbody>\n",
       "    <tr>\n",
       "      <th>1</th>\n",
       "      <td>11</td>\n",
       "    </tr>\n",
       "    <tr>\n",
       "      <th>0</th>\n",
       "      <td>10</td>\n",
       "    </tr>\n",
       "    <tr>\n",
       "      <th>2</th>\n",
       "      <td>110</td>\n",
       "    </tr>\n",
       "    <tr>\n",
       "      <th>3</th>\n",
       "      <td>111</td>\n",
       "    </tr>\n",
       "  </tbody>\n",
       "</table>\n",
       "</div>"
      ],
      "text/plain": [
       "     0\n",
       "1   11\n",
       "0   10\n",
       "2  110\n",
       "3  111"
      ]
     },
     "execution_count": 83,
     "metadata": {},
     "output_type": "execute_result"
    }
   ],
   "source": [
    "pd.DataFrame.from_dict(encoding_table, orient=\"index\")"
   ]
  },
  {
   "cell_type": "code",
   "execution_count": 85,
   "metadata": {},
   "outputs": [
    {
     "name": "stdout",
     "output_type": "stream",
     "text": [
      "11\n",
      "10\n",
      "110\n",
      "111\n",
      "10\n",
      "10\n",
      "110\n",
      "11\n",
      "10\n",
      "11\n",
      "11101101111010110111011\n",
      "\n",
      "k 2\n",
      "c 1\n",
      "\n",
      "\n",
      "2. 111 only_bits 11\n",
      "0 4 1\n",
      "\n",
      "\n",
      "\n",
      "\n",
      "2. 0110 only_bits 10\n",
      "1 4 0\n",
      "\n",
      "\n",
      "2. 111 only_bits 11\n",
      "0 4 1\n",
      "\n",
      "\n",
      "2. 101 only_bits 01\n",
      "0 4 -1\n",
      "\n",
      "\n",
      "\n",
      "\n",
      "2. 0110 only_bits 10\n",
      "1 4 0\n",
      "\n",
      "\n",
      "2. 111 only_bits 11\n",
      "0 4 1\n",
      "\n",
      "\n",
      "\n",
      "\n",
      "2. 011 only_bits 1\n",
      "1 4 -1\n",
      "Error occurred list index out of range\n",
      "[1, 4, 1, -1, 4, 1, 3] None\n",
      "[1, 0, 2, 3, 0, 0, 2, 1, 0, 1] GATCAATGAG\n",
      "False\n"
     ]
    }
   ],
   "source": [
    "encoded_string = gol.encode_indicies(indicies, encoding_table)\n",
    "\n",
    "print(encoded_string)\n",
    "\n",
    "print()\n",
    "\n",
    "decoded_numbers = gol.decode_stream(encoded_string)\n",
    "\n",
    "decoded_data = gol.from_numbers_data(decoded_numbers, sorted_table)\n",
    "\n",
    "print(decoded_numbers, decoded_data)\n",
    "print(indicies, test_data)\n",
    "\n",
    "print(decoded_data == test_data)"
   ]
  },
  {
   "cell_type": "markdown",
   "metadata": {},
   "source": [
    "# Test of specified number"
   ]
  },
  {
   "cell_type": "code",
   "execution_count": 86,
   "metadata": {},
   "outputs": [],
   "source": [
    "gol = Golomb(5, sorted_table, True)"
   ]
  },
  {
   "cell_type": "code",
   "execution_count": 87,
   "metadata": {},
   "outputs": [
    {
     "name": "stdout",
     "output_type": "stream",
     "text": [
      "k 3\n",
      "c 2\n",
      "\n",
      "\n",
      "\n",
      "\n",
      "\n",
      "\n",
      "2. 001110 only_bits 110\n",
      "2 5 3\n"
     ]
    },
    {
     "data": {
      "text/plain": [
       "[13]"
      ]
     },
     "execution_count": 87,
     "metadata": {},
     "output_type": "execute_result"
    }
   ],
   "source": [
    "gol.decode_stream(\"001110\")"
   ]
  },
  {
   "cell_type": "markdown",
   "metadata": {},
   "source": [
    "https://homel.vsb.cz/~vas218/acs.html"
   ]
  }
 ],
 "metadata": {
  "interpreter": {
   "hash": "2a094b558792df53015a06eccbeeb156f6e89f526088fb771785a5b12806cace"
  },
  "kernelspec": {
   "display_name": "Python 3.8.6rc1 ('venv': venv)",
   "language": "python",
   "name": "python3"
  },
  "language_info": {
   "codemirror_mode": {
    "name": "ipython",
    "version": 3
   },
   "file_extension": ".py",
   "mimetype": "text/x-python",
   "name": "python",
   "nbconvert_exporter": "python",
   "pygments_lexer": "ipython3",
   "version": "3.8.1"
  },
  "orig_nbformat": 4
 },
 "nbformat": 4,
 "nbformat_minor": 2
}
