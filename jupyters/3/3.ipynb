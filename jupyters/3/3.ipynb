{
 "cells": [
  {
   "cell_type": "markdown",
   "metadata": {},
   "source": [
    "# Poznamky\n",
    "\n",
    "- Singulární - jednoznačné\n",
    "- Nesingulární - více výsledků\n",
    "- Prefixové, okamžité kódy - kodová slova se sama oddělují\n",
    "\n",
    "Ne všechny kódy jsme schopní dekodovat v jasném místě.\n",
    "Není potřeba použít binárku, stačí text."
   ]
  },
  {
   "cell_type": "markdown",
   "metadata": {},
   "source": [
    "# Zadání"
   ]
  },
  {
   "cell_type": "markdown",
   "metadata": {},
   "source": [
    "## 2.3. Variable-Length Codes (10 points)"
   ]
  },
  {
   "cell_type": "markdown",
   "metadata": {},
   "source": [
    "- Implement Golomb coding/decoding algorithm.(7 pts)\n",
    "- You should encode symbols with high probability by shorter codes. First compute frequency of symbols, sort them by probability and assign them a Golomb-code.\n",
    "- You don't have to store bits in binary, it is sufficient to store them as textual values.\n",
    "- Find the optimal M for the selected file.(2 pts)\n",
    "- Compare your results with the entropy and compute redundancy of the code R = C - H, where C is an average number of bits per byte used in the compressed file for the original data: 8*|c(m)|/|m|(1 pt)"
   ]
  },
  {
   "cell_type": "code",
   "execution_count": 31,
   "metadata": {},
   "outputs": [],
   "source": [
    "import os\n",
    "import sys\n",
    "\n",
    "def adding_module_path():\n",
    "    module_path = os.path.abspath(os.path.sep.join([\"..\"]*2))\n",
    "\n",
    "    if module_path not in sys.path:\n",
    "        sys.path.append(module_path)\n",
    "\n",
    "adding_module_path()"
   ]
  },
  {
   "cell_type": "code",
   "execution_count": 32,
   "metadata": {},
   "outputs": [],
   "source": [
    "from src.load_data import get_dataset\n",
    "from src.load_data import DataSets\n",
    "import numpy as np\n",
    "import time\n",
    "import pandas as pd"
   ]
  },
  {
   "cell_type": "code",
   "execution_count": 33,
   "metadata": {},
   "outputs": [
    {
     "name": "stdout",
     "output_type": "stream",
     "text": [
      "Loading C://Users//proko//Desktop//University//iv//aks//datasets\\dna\\dna.50MB\n"
     ]
    }
   ],
   "source": [
    "data = get_dataset(DataSets.dna)"
   ]
  },
  {
   "cell_type": "code",
   "execution_count": 34,
   "metadata": {},
   "outputs": [],
   "source": [
    "def calc_freq(data):\n",
    "    tic = time.time()\n",
    "    print('Calculating freqs')\n",
    "    res = {}\n",
    "    for c in data:\n",
    "        res[c] = res.get(c, 0) + 1\n",
    "    toc = time.time()\n",
    "    print(f'End of calculating {toc - tic}')\n",
    "    return res"
   ]
  },
  {
   "cell_type": "code",
   "execution_count": 35,
   "metadata": {},
   "outputs": [],
   "source": [
    "def calc_probs(freq):\n",
    "    res = {}    \n",
    "    tic = time.time()\n",
    "    print('Calculating probs')\n",
    "    n = np.sum(list(freq.values()))\n",
    "    for k, v in freq.items():\n",
    "        res[k] = v / n\n",
    "\n",
    "    toc = time.time()\n",
    "    print(f'End of calculating {toc - tic}')\n",
    "    return res"
   ]
  },
  {
   "cell_type": "code",
   "execution_count": 36,
   "metadata": {},
   "outputs": [],
   "source": [
    "def get_probs(data):\n",
    "    freq = calc_freq(data)\n",
    "    return calc_probs(freq)"
   ]
  },
  {
   "cell_type": "code",
   "execution_count": 37,
   "metadata": {},
   "outputs": [
    {
     "name": "stdout",
     "output_type": "stream",
     "text": [
      "Calculating freqs\n",
      "End of calculating 8.862469673156738\n",
      "Calculating probs\n",
      "End of calculating 0.0\n"
     ]
    }
   ],
   "source": [
    "p = get_probs(data)"
   ]
  },
  {
   "cell_type": "code",
   "execution_count": 38,
   "metadata": {},
   "outputs": [],
   "source": [
    "def get_sorted_probs(data):\n",
    "    p = get_probs(data)\n",
    "    return dict(sorted(p.items(), key=lambda item: item[1], reverse=True))"
   ]
  },
  {
   "cell_type": "code",
   "execution_count": 39,
   "metadata": {},
   "outputs": [
    {
     "name": "stdout",
     "output_type": "stream",
     "text": [
      "Calculating freqs\n",
      "End of calculating 9.398788213729858\n",
      "Calculating probs\n",
      "End of calculating 0.0010020732879638672\n"
     ]
    },
    {
     "data": {
      "text/html": [
       "<div>\n",
       "<style scoped>\n",
       "    .dataframe tbody tr th:only-of-type {\n",
       "        vertical-align: middle;\n",
       "    }\n",
       "\n",
       "    .dataframe tbody tr th {\n",
       "        vertical-align: top;\n",
       "    }\n",
       "\n",
       "    .dataframe thead th {\n",
       "        text-align: right;\n",
       "    }\n",
       "</style>\n",
       "<table border=\"1\" class=\"dataframe\">\n",
       "  <thead>\n",
       "    <tr style=\"text-align: right;\">\n",
       "      <th></th>\n",
       "      <th>0</th>\n",
       "    </tr>\n",
       "  </thead>\n",
       "  <tbody>\n",
       "    <tr>\n",
       "      <th>A</th>\n",
       "      <td>2.899787e-01</td>\n",
       "    </tr>\n",
       "    <tr>\n",
       "      <th>T</th>\n",
       "      <td>2.897280e-01</td>\n",
       "    </tr>\n",
       "    <tr>\n",
       "      <th>C</th>\n",
       "      <td>2.102979e-01</td>\n",
       "    </tr>\n",
       "    <tr>\n",
       "      <th>G</th>\n",
       "      <td>2.099745e-01</td>\n",
       "    </tr>\n",
       "    <tr>\n",
       "      <th>N</th>\n",
       "      <td>8.907318e-06</td>\n",
       "    </tr>\n",
       "    <tr>\n",
       "      <th>\\n</th>\n",
       "      <td>6.408691e-06</td>\n",
       "    </tr>\n",
       "    <tr>\n",
       "      <th>R</th>\n",
       "      <td>1.296997e-06</td>\n",
       "    </tr>\n",
       "    <tr>\n",
       "      <th>Y</th>\n",
       "      <td>1.087189e-06</td>\n",
       "    </tr>\n",
       "    <tr>\n",
       "      <th>K</th>\n",
       "      <td>8.773804e-07</td>\n",
       "    </tr>\n",
       "    <tr>\n",
       "      <th>W</th>\n",
       "      <td>8.583069e-07</td>\n",
       "    </tr>\n",
       "    <tr>\n",
       "      <th>S</th>\n",
       "      <td>6.294250e-07</td>\n",
       "    </tr>\n",
       "    <tr>\n",
       "      <th>M</th>\n",
       "      <td>5.912781e-07</td>\n",
       "    </tr>\n",
       "    <tr>\n",
       "      <th>V</th>\n",
       "      <td>5.722046e-08</td>\n",
       "    </tr>\n",
       "    <tr>\n",
       "      <th>H</th>\n",
       "      <td>3.814697e-08</td>\n",
       "    </tr>\n",
       "    <tr>\n",
       "      <th>D</th>\n",
       "      <td>1.907349e-08</td>\n",
       "    </tr>\n",
       "    <tr>\n",
       "      <th>B</th>\n",
       "      <td>1.907349e-08</td>\n",
       "    </tr>\n",
       "  </tbody>\n",
       "</table>\n",
       "</div>"
      ],
      "text/plain": [
       "               0\n",
       "A   2.899787e-01\n",
       "T   2.897280e-01\n",
       "C   2.102979e-01\n",
       "G   2.099745e-01\n",
       "N   8.907318e-06\n",
       "\\n  6.408691e-06\n",
       "R   1.296997e-06\n",
       "Y   1.087189e-06\n",
       "K   8.773804e-07\n",
       "W   8.583069e-07\n",
       "S   6.294250e-07\n",
       "M   5.912781e-07\n",
       "V   5.722046e-08\n",
       "H   3.814697e-08\n",
       "D   1.907349e-08\n",
       "B   1.907349e-08"
      ]
     },
     "execution_count": 39,
     "metadata": {},
     "output_type": "execute_result"
    }
   ],
   "source": [
    "pd.DataFrame.from_dict(get_sorted_probs(data), orient='index')"
   ]
  },
  {
   "cell_type": "code",
   "execution_count": 40,
   "metadata": {},
   "outputs": [],
   "source": [
    "import math\n",
    "import time"
   ]
  },
  {
   "cell_type": "code",
   "execution_count": 45,
   "metadata": {},
   "outputs": [],
   "source": [
    "class Golomb:\n",
    "    def __init__(self, M, prob_table, verbose=False):\n",
    "        self.M = M\n",
    "        self.prob_table = prob_table\n",
    "        self.verbose = verbose\n",
    "\n",
    "    def from_numbers_data(self, numbers, prob_table):\n",
    "        keys = list(prob_table.keys())\n",
    "        res = \"\"\n",
    "        try:\n",
    "            for number in numbers:\n",
    "                res += keys[number]\n",
    "            return res\n",
    "        except Exception as e:\n",
    "            print(f\"Error occurred {str(e)}\")\n",
    "\n",
    "    def from_data_numbers(self, data, prob_table):\n",
    "        keys = list(prob_table.keys())\n",
    "        return [keys.index(c) for c in data]\n",
    "\n",
    "    def encode_number(self, number, size_of_alphabet=0):\n",
    "        q = number // self.M\n",
    "        r = number % self.M\n",
    "        \n",
    "        k = math.ceil(math.log2(self.M))\n",
    "        quo_part = self.unary(q)\n",
    "\n",
    "        c = 2**(k) - self.M\n",
    "\n",
    "        truncated_part = None\n",
    "        if r < c:\n",
    "            b = c - 1\n",
    "            a = \"{0:0\" + str(b) + \"b}\"\n",
    "            truncated_part = a.format(r)\n",
    "        else:\n",
    "            b = c\n",
    "            a = \"{0:0\" + str(b) + \"b}\"\n",
    "            truncated_part = a.format(r+c)\n",
    "\n",
    "        return \"\".join([quo_part, truncated_part])\n",
    "\n",
    "    def unary(self, n):\n",
    "        return n * '0' + '1'\n",
    "\n",
    "    def encode_with_table(self, c, prop_table):\n",
    "        keys = list(prop_table.keys())\n",
    "        char_index = keys.index(c)\n",
    "        return self.encode_number(char_index, len(keys))\n",
    "\n",
    "    def encode_indicies(self, indicies):\n",
    "        encoded_string = \"\"\n",
    "        size = len(np.unique(indicies))\n",
    "        for index in indicies:\n",
    "            encoded_number = self.encode_number(index, size)\n",
    "            if self.verbose:\n",
    "                print(encoded_number)\n",
    "            encoded_string += encoded_number\n",
    "        return encoded_string\n",
    "\n",
    "    def encode_stream(self, stream):\n",
    "        tic = time.time()\n",
    "        encoded_string = \"\"\n",
    "        for c in stream:\n",
    "            enc = self.encode_with_table(c, self.prob_table)\n",
    "            encoded_string += enc\n",
    "        toc = time.time()\n",
    "        return encoded_string, toc - tic\n",
    "\n",
    "    def decode_number(self, q, M, r):\n",
    "        return q * M + r\n",
    "\n",
    "    def decode_stream(self, stream):\n",
    "        res = []\n",
    "\n",
    "        i = 0\n",
    "\n",
    "        current_quotient = \"\"\n",
    "\n",
    "        k = math.ceil(math.log2(self.M))\n",
    "\n",
    "        \n",
    "        move = k - 1\n",
    "\n",
    "\n",
    "        try:\n",
    "            while i < len(stream) - move:\n",
    "                current_char = stream[i]\n",
    "                if current_char == '0':\n",
    "                    current_quotient += current_char\n",
    "                    i += 1\n",
    "\n",
    "                else:\n",
    "                    current_quotient += '1'\n",
    "                    next_bits = stream[(i+1):(i+1+move)]\n",
    "                    dec = int(next_bits, 2)\n",
    "                    q = current_quotient.count('0')\n",
    "\n",
    "                    print(dec, next_bits, 2**(k - 1), k)\n",
    "                    remainder = 0\n",
    "\n",
    "                    if dec <= 2**(k - 2):\n",
    "                        if self.verbose:\n",
    "                            print('1.', current_quotient + next_bits)\n",
    "                        remainder = int(next_bits, 2)\n",
    "                        i += k\n",
    "                        res.append(self.decode_number(q, self.M, remainder))\n",
    "                        current_quotient = \"\"\n",
    "                        continue\n",
    "                    else:\n",
    "                        bits = stream[(i+1):(i+1+k)]\n",
    "                        if self.verbose:\n",
    "                            print('2.', current_quotient + bits)\n",
    "                        remainder = int(bits, 2)\n",
    "                        remainder = remainder - k\n",
    "                        i += k + 1\n",
    "                        res.append(self.decode_number(q, self.M, remainder))\n",
    "                        current_quotient = \"\"\n",
    "                        continue\n",
    "                #print(i)\n",
    "        except Exception as e:\n",
    "            print(\"Error occurred\")\n",
    "            print(f\"{str(e)}\")\n",
    "            return None\n",
    "\n",
    "        return res\n",
    "\n",
    "    def decode_from_indicies(self, ints, keys):\n",
    "        res = \"\"\n",
    "        for index in ints:\n",
    "            res += keys[index]\n",
    "        return res"
   ]
  },
  {
   "cell_type": "code",
   "execution_count": 46,
   "metadata": {},
   "outputs": [
    {
     "data": {
      "text/plain": [
       "'GATCAATGAG'"
      ]
     },
     "execution_count": 46,
     "metadata": {},
     "output_type": "execute_result"
    }
   ],
   "source": [
    "test_data = data[0:10]\n",
    "test_data"
   ]
  },
  {
   "cell_type": "markdown",
   "metadata": {},
   "source": [
    "# Tests"
   ]
  },
  {
   "cell_type": "markdown",
   "metadata": {},
   "source": [
    "### Test conversion"
   ]
  },
  {
   "cell_type": "code",
   "execution_count": 47,
   "metadata": {},
   "outputs": [
    {
     "name": "stdout",
     "output_type": "stream",
     "text": [
      "Calculating freqs\n",
      "End of calculating 0.0\n",
      "Calculating probs\n",
      "End of calculating 0.0\n",
      "GATCAATGAG\n",
      "True\n"
     ]
    }
   ],
   "source": [
    "sorted_table = get_sorted_probs(test_data)\n",
    "gol = Golomb(10, sorted_table)\n",
    "\n",
    "indicies = gol.from_data_numbers(test_data, sorted_table)\n",
    "current_data = gol.from_numbers_data(indicies, sorted_table)\n",
    "\n",
    "print(current_data)\n",
    "print(current_data == test_data)"
   ]
  },
  {
   "cell_type": "markdown",
   "metadata": {},
   "source": [
    "### Test of encoding"
   ]
  },
  {
   "cell_type": "code",
   "execution_count": 55,
   "metadata": {},
   "outputs": [
    {
     "name": "stdout",
     "output_type": "stream",
     "text": [
      "Calculating freqs\n",
      "End of calculating 0.0\n",
      "Calculating probs\n",
      "End of calculating 0.0\n",
      "{'A': 0.4, 'G': 0.3, 'T': 0.2, 'C': 0.1}\n",
      "11\n",
      "10\n",
      "110\n",
      "111\n",
      "10\n",
      "10\n",
      "110\n",
      "11\n",
      "10\n",
      "11\n",
      "11101101111010110111011\n",
      "3 11 4 3\n",
      "2. 1110\n",
      "2 10 4 3\n",
      "1. 110\n",
      "3 11 4 3\n",
      "2. 1111\n",
      "1 01 4 3\n",
      "1. 0101\n",
      "1 01 4 3\n",
      "1. 101\n",
      "2 10 4 3\n",
      "1. 110\n",
      "Error occurred list index out of range\n",
      "[3, 2, 4, 9, 1, 2] None\n",
      "[1, 0, 2, 3, 0, 0, 2, 1, 0, 1] GATCAATGAG\n",
      "False\n"
     ]
    }
   ],
   "source": [
    "sorted_table = get_sorted_probs(test_data)\n",
    "print(sorted_table)\n",
    "gol = Golomb(8, sorted_table, True)\n",
    "\n",
    "\n",
    "indicies = gol.from_data_numbers(test_data, sorted_table)\n",
    "encoded_string = gol.encode_indicies(indicies)\n",
    "\n",
    "print(encoded_string)\n",
    "\n",
    "decoded_numbers = gol.decode_stream(encoded_string)\n",
    "\n",
    "decoded_data = gol.from_numbers_data(decoded_numbers, sorted_table)\n",
    "\n",
    "print(decoded_numbers, decoded_data)\n",
    "print(indicies, test_data)\n",
    "\n",
    "print(decoded_data == test_data)"
   ]
  },
  {
   "cell_type": "markdown",
   "metadata": {},
   "source": [
    "# Test of specified number"
   ]
  },
  {
   "cell_type": "code",
   "execution_count": null,
   "metadata": {},
   "outputs": [],
   "source": [
    "gol = Golomb(5, sorted_table, True)"
   ]
  },
  {
   "cell_type": "code",
   "execution_count": null,
   "metadata": {},
   "outputs": [],
   "source": [
    "gol.decode_stream(\"001110\")"
   ]
  },
  {
   "cell_type": "markdown",
   "metadata": {},
   "source": [
    "https://homel.vsb.cz/~vas218/acs.html"
   ]
  },
  {
   "cell_type": "markdown",
   "metadata": {},
   "source": []
  }
 ],
 "metadata": {
  "interpreter": {
   "hash": "2a094b558792df53015a06eccbeeb156f6e89f526088fb771785a5b12806cace"
  },
  "kernelspec": {
   "display_name": "Python 3.8.6rc1 ('venv': venv)",
   "language": "python",
   "name": "python3"
  },
  "language_info": {
   "codemirror_mode": {
    "name": "ipython",
    "version": 3
   },
   "file_extension": ".py",
   "mimetype": "text/x-python",
   "name": "python",
   "nbconvert_exporter": "python",
   "pygments_lexer": "ipython3",
   "version": "3.8.1"
  },
  "orig_nbformat": 4
 },
 "nbformat": 4,
 "nbformat_minor": 2
}
