{
 "cells": [
  {
   "cell_type": "markdown",
   "metadata": {},
   "source": [
    "# Poznamky\n",
    "\n",
    "- Singulární - jednoznačné\n",
    "- Nesingulární - více výsledků\n",
    "- Prefixové, okamžité kódy - kodová slova se sama oddělují\n",
    "\n",
    "Ne všechny kódy jsme schopní dekodovat v jasném místě.\n",
    "Není potřeba použít binárku, stačí text."
   ]
  },
  {
   "cell_type": "markdown",
   "metadata": {},
   "source": [
    "# Zadání"
   ]
  },
  {
   "cell_type": "markdown",
   "metadata": {},
   "source": [
    "## 2.3. Variable-Length Codes (10 points)"
   ]
  },
  {
   "cell_type": "markdown",
   "metadata": {},
   "source": [
    "- Implement Golomb coding/decoding algorithm.(7 pts)\n",
    "- You should encode symbols with high probability by shorter codes. First compute frequency of symbols, sort them by probability and assign them a Golomb-code.\n",
    "- You don't have to store bits in binary, it is sufficient to store them as textual values.\n",
    "- Find the optimal M for the selected file.(2 pts)\n",
    "- Compare your results with the entropy and compute redundancy of the code R = C - H, where C is an average number of bits per byte used in the compressed file for the original data: 8*|c(m)|/|m|(1 pt)"
   ]
  },
  {
   "cell_type": "code",
   "execution_count": 20,
   "metadata": {},
   "outputs": [],
   "source": [
    "import os\n",
    "import sys\n",
    "\n",
    "def adding_module_path():\n",
    "    module_path = os.path.abspath(os.path.sep.join([\"..\"]*2))\n",
    "\n",
    "    if module_path not in sys.path:\n",
    "        sys.path.append(module_path)\n",
    "\n",
    "adding_module_path()"
   ]
  },
  {
   "cell_type": "code",
   "execution_count": 34,
   "metadata": {},
   "outputs": [],
   "source": [
    "from src.load_data import get_dataset\n",
    "from src.load_data import DataSets\n",
    "import numpy as np\n",
    "import time\n",
    "import pandas as pd"
   ]
  },
  {
   "cell_type": "code",
   "execution_count": 22,
   "metadata": {},
   "outputs": [
    {
     "name": "stdout",
     "output_type": "stream",
     "text": [
      "Loading C://Users//proko//Desktop//University//iv//aks//datasets\\dna\\dna.50MB\n"
     ]
    }
   ],
   "source": [
    "data = get_dataset(DataSets.dna)"
   ]
  },
  {
   "cell_type": "code",
   "execution_count": 23,
   "metadata": {},
   "outputs": [],
   "source": [
    "def calc_freq(data):\n",
    "\n",
    "    tic = time.time()\n",
    "    print('Calculating freqs')\n",
    "\n",
    "    res = {}\n",
    "    for c in data:\n",
    "        res[c] = res.get(c, 0) + 1\n",
    "\n",
    "    toc = time.time()\n",
    "    print(f'End of calculating {toc - tic}')\n",
    "    \n",
    "    return res"
   ]
  },
  {
   "cell_type": "code",
   "execution_count": 24,
   "metadata": {},
   "outputs": [],
   "source": [
    "def calc_probs(freq):\n",
    "    res = {}\n",
    "    \n",
    "    tic = time.time()\n",
    "    print('Calculating probs')\n",
    "\n",
    "    n = np.sum(list(freq.values()))\n",
    "    for k, v in freq.items():\n",
    "        res[k] = v / n\n",
    "\n",
    "    toc = time.time()\n",
    "    print(f'End of calculating {toc - tic}')\n",
    "    \n",
    "    return res"
   ]
  },
  {
   "cell_type": "code",
   "execution_count": 25,
   "metadata": {},
   "outputs": [],
   "source": [
    "def get_probs(data):\n",
    "    freq = calc_freq(data)\n",
    "    return calc_probs(freq)"
   ]
  },
  {
   "cell_type": "code",
   "execution_count": 26,
   "metadata": {},
   "outputs": [
    {
     "name": "stdout",
     "output_type": "stream",
     "text": [
      "Calculating freqs\n",
      "End of calculating 9.938917636871338\n",
      "Calculating probs\n",
      "End of calculating 0.0\n"
     ]
    }
   ],
   "source": [
    "p = get_probs(data)"
   ]
  },
  {
   "cell_type": "code",
   "execution_count": 19,
   "metadata": {},
   "outputs": [
    {
     "data": {
      "text/plain": [
       "0.9999999999999999"
      ]
     },
     "execution_count": 19,
     "metadata": {},
     "output_type": "execute_result"
    }
   ],
   "source": [
    "np.sum(list(p.values()))"
   ]
  },
  {
   "cell_type": "code",
   "execution_count": 33,
   "metadata": {},
   "outputs": [],
   "source": [
    "sorted_dic = dict(sorted(p.items(), key=lambda item: item[1], reverse=True))"
   ]
  },
  {
   "cell_type": "code",
   "execution_count": 37,
   "metadata": {},
   "outputs": [
    {
     "data": {
      "text/html": [
       "<div>\n",
       "<style scoped>\n",
       "    .dataframe tbody tr th:only-of-type {\n",
       "        vertical-align: middle;\n",
       "    }\n",
       "\n",
       "    .dataframe tbody tr th {\n",
       "        vertical-align: top;\n",
       "    }\n",
       "\n",
       "    .dataframe thead th {\n",
       "        text-align: right;\n",
       "    }\n",
       "</style>\n",
       "<table border=\"1\" class=\"dataframe\">\n",
       "  <thead>\n",
       "    <tr style=\"text-align: right;\">\n",
       "      <th></th>\n",
       "      <th>0</th>\n",
       "    </tr>\n",
       "  </thead>\n",
       "  <tbody>\n",
       "    <tr>\n",
       "      <th>A</th>\n",
       "      <td>2.899787e-01</td>\n",
       "    </tr>\n",
       "    <tr>\n",
       "      <th>T</th>\n",
       "      <td>2.897280e-01</td>\n",
       "    </tr>\n",
       "    <tr>\n",
       "      <th>C</th>\n",
       "      <td>2.102979e-01</td>\n",
       "    </tr>\n",
       "    <tr>\n",
       "      <th>G</th>\n",
       "      <td>2.099745e-01</td>\n",
       "    </tr>\n",
       "    <tr>\n",
       "      <th>N</th>\n",
       "      <td>8.907318e-06</td>\n",
       "    </tr>\n",
       "    <tr>\n",
       "      <th>\\n</th>\n",
       "      <td>6.408691e-06</td>\n",
       "    </tr>\n",
       "    <tr>\n",
       "      <th>R</th>\n",
       "      <td>1.296997e-06</td>\n",
       "    </tr>\n",
       "    <tr>\n",
       "      <th>Y</th>\n",
       "      <td>1.087189e-06</td>\n",
       "    </tr>\n",
       "    <tr>\n",
       "      <th>K</th>\n",
       "      <td>8.773804e-07</td>\n",
       "    </tr>\n",
       "    <tr>\n",
       "      <th>W</th>\n",
       "      <td>8.583069e-07</td>\n",
       "    </tr>\n",
       "    <tr>\n",
       "      <th>S</th>\n",
       "      <td>6.294250e-07</td>\n",
       "    </tr>\n",
       "    <tr>\n",
       "      <th>M</th>\n",
       "      <td>5.912781e-07</td>\n",
       "    </tr>\n",
       "    <tr>\n",
       "      <th>V</th>\n",
       "      <td>5.722046e-08</td>\n",
       "    </tr>\n",
       "    <tr>\n",
       "      <th>H</th>\n",
       "      <td>3.814697e-08</td>\n",
       "    </tr>\n",
       "    <tr>\n",
       "      <th>D</th>\n",
       "      <td>1.907349e-08</td>\n",
       "    </tr>\n",
       "    <tr>\n",
       "      <th>B</th>\n",
       "      <td>1.907349e-08</td>\n",
       "    </tr>\n",
       "  </tbody>\n",
       "</table>\n",
       "</div>"
      ],
      "text/plain": [
       "               0\n",
       "A   2.899787e-01\n",
       "T   2.897280e-01\n",
       "C   2.102979e-01\n",
       "G   2.099745e-01\n",
       "N   8.907318e-06\n",
       "\\n  6.408691e-06\n",
       "R   1.296997e-06\n",
       "Y   1.087189e-06\n",
       "K   8.773804e-07\n",
       "W   8.583069e-07\n",
       "S   6.294250e-07\n",
       "M   5.912781e-07\n",
       "V   5.722046e-08\n",
       "H   3.814697e-08\n",
       "D   1.907349e-08\n",
       "B   1.907349e-08"
      ]
     },
     "execution_count": 37,
     "metadata": {},
     "output_type": "execute_result"
    }
   ],
   "source": [
    "pd.DataFrame.from_dict(sorted_dic, orient='index')"
   ]
  },
  {
   "cell_type": "code",
   "execution_count": null,
   "metadata": {},
   "outputs": [],
   "source": [
    "class Golomb:\n",
    "    def __init__(self):\n",
    "        pass\n",
    "\n",
    "    def encode(self, c):\n",
    "        pass\n",
    "\n",
    "    def decode(self, stream):\n",
    "        pass"
   ]
  }
 ],
 "metadata": {
  "interpreter": {
   "hash": "2a094b558792df53015a06eccbeeb156f6e89f526088fb771785a5b12806cace"
  },
  "kernelspec": {
   "display_name": "Python 3.8.6rc1 ('venv': venv)",
   "language": "python",
   "name": "python3"
  },
  "language_info": {
   "codemirror_mode": {
    "name": "ipython",
    "version": 3
   },
   "file_extension": ".py",
   "mimetype": "text/x-python",
   "name": "python",
   "nbconvert_exporter": "python",
   "pygments_lexer": "ipython3",
   "version": "3.8.6rc1"
  },
  "orig_nbformat": 4
 },
 "nbformat": 4,
 "nbformat_minor": 2
}
