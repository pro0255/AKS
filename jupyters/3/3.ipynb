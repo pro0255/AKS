{
 "cells": [
  {
   "cell_type": "markdown",
   "metadata": {},
   "source": [
    "# Poznamky\n",
    "\n",
    "- Singulární - jednoznačné\n",
    "- Nesingulární - více výsledků\n",
    "- Prefixové, okamžité kódy - kodová slova se sama oddělují\n",
    "\n",
    "Ne všechny kódy jsme schopní dekodovat v jasném místě.\n",
    "Není potřeba použít binárku, stačí text."
   ]
  },
  {
   "cell_type": "markdown",
   "metadata": {},
   "source": [
    "# Zadání"
   ]
  },
  {
   "cell_type": "markdown",
   "metadata": {},
   "source": [
    "## 2.3. Variable-Length Codes (10 points)"
   ]
  },
  {
   "cell_type": "markdown",
   "metadata": {},
   "source": [
    "- Implement Golomb coding/decoding algorithm.(7 pts)\n",
    "- You should encode symbols with high probability by shorter codes. First compute frequency of symbols, sort them by probability and assign them a Golomb-code.\n",
    "- You don't have to store bits in binary, it is sufficient to store them as textual values.\n",
    "- Find the optimal M for the selected file.(2 pts)\n",
    "- Compare your results with the entropy and compute redundancy of the code R = C - H, where C is an average number of bits per byte used in the compressed file for the original data: 8*|c(m)|/|m|(1 pt)"
   ]
  },
  {
   "cell_type": "code",
   "execution_count": 38,
   "metadata": {},
   "outputs": [],
   "source": [
    "import os\n",
    "import sys\n",
    "\n",
    "def adding_module_path():\n",
    "    module_path = os.path.abspath(os.path.sep.join([\"..\"]*2))\n",
    "\n",
    "    if module_path not in sys.path:\n",
    "        sys.path.append(module_path)\n",
    "\n",
    "adding_module_path()"
   ]
  },
  {
   "cell_type": "code",
   "execution_count": 39,
   "metadata": {},
   "outputs": [],
   "source": [
    "from src.load_data import get_dataset\n",
    "from src.load_data import DataSets\n",
    "import numpy as np\n",
    "import time\n",
    "import pandas as pd"
   ]
  },
  {
   "cell_type": "code",
   "execution_count": 40,
   "metadata": {},
   "outputs": [
    {
     "name": "stdout",
     "output_type": "stream",
     "text": [
      "Loading C://Users//proko//Desktop//University//iv//aks//datasets\\dna\\dna.50MB\n"
     ]
    }
   ],
   "source": [
    "data = get_dataset(DataSets.dna)"
   ]
  },
  {
   "cell_type": "code",
   "execution_count": 41,
   "metadata": {},
   "outputs": [],
   "source": [
    "def calc_freq(data):\n",
    "\n",
    "    tic = time.time()\n",
    "    print('Calculating freqs')\n",
    "\n",
    "    res = {}\n",
    "    for c in data:\n",
    "        res[c] = res.get(c, 0) + 1\n",
    "\n",
    "    toc = time.time()\n",
    "    print(f'End of calculating {toc - tic}')\n",
    "    \n",
    "    return res"
   ]
  },
  {
   "cell_type": "code",
   "execution_count": 42,
   "metadata": {},
   "outputs": [],
   "source": [
    "def calc_probs(freq):\n",
    "    res = {}\n",
    "    \n",
    "    tic = time.time()\n",
    "    print('Calculating probs')\n",
    "\n",
    "    n = np.sum(list(freq.values()))\n",
    "    for k, v in freq.items():\n",
    "        res[k] = v / n\n",
    "\n",
    "    toc = time.time()\n",
    "    print(f'End of calculating {toc - tic}')\n",
    "    \n",
    "    return res"
   ]
  },
  {
   "cell_type": "code",
   "execution_count": 43,
   "metadata": {},
   "outputs": [],
   "source": [
    "def get_probs(data):\n",
    "    freq = calc_freq(data)\n",
    "    return calc_probs(freq)"
   ]
  },
  {
   "cell_type": "code",
   "execution_count": 44,
   "metadata": {},
   "outputs": [
    {
     "name": "stdout",
     "output_type": "stream",
     "text": [
      "Calculating freqs\n",
      "End of calculating 9.874698877334595\n",
      "Calculating probs\n",
      "End of calculating 0.0\n"
     ]
    }
   ],
   "source": [
    "p = get_probs(data)"
   ]
  },
  {
   "cell_type": "code",
   "execution_count": 519,
   "metadata": {},
   "outputs": [],
   "source": [
    "def get_sorted_probs(data):\n",
    "    p = get_probs(data)\n",
    "    return dict(sorted(p.items(), key=lambda item: item[1], reverse=True))"
   ]
  },
  {
   "cell_type": "code",
   "execution_count": 520,
   "metadata": {},
   "outputs": [
    {
     "name": "stdout",
     "output_type": "stream",
     "text": [
      "Calculating freqs\n",
      "End of calculating 9.800301313400269\n",
      "Calculating probs\n",
      "End of calculating 0.0\n"
     ]
    },
    {
     "data": {
      "text/html": [
       "<div>\n",
       "<style scoped>\n",
       "    .dataframe tbody tr th:only-of-type {\n",
       "        vertical-align: middle;\n",
       "    }\n",
       "\n",
       "    .dataframe tbody tr th {\n",
       "        vertical-align: top;\n",
       "    }\n",
       "\n",
       "    .dataframe thead th {\n",
       "        text-align: right;\n",
       "    }\n",
       "</style>\n",
       "<table border=\"1\" class=\"dataframe\">\n",
       "  <thead>\n",
       "    <tr style=\"text-align: right;\">\n",
       "      <th></th>\n",
       "      <th>0</th>\n",
       "    </tr>\n",
       "  </thead>\n",
       "  <tbody>\n",
       "    <tr>\n",
       "      <th>A</th>\n",
       "      <td>2.899787e-01</td>\n",
       "    </tr>\n",
       "    <tr>\n",
       "      <th>T</th>\n",
       "      <td>2.897280e-01</td>\n",
       "    </tr>\n",
       "    <tr>\n",
       "      <th>C</th>\n",
       "      <td>2.102979e-01</td>\n",
       "    </tr>\n",
       "    <tr>\n",
       "      <th>G</th>\n",
       "      <td>2.099745e-01</td>\n",
       "    </tr>\n",
       "    <tr>\n",
       "      <th>N</th>\n",
       "      <td>8.907318e-06</td>\n",
       "    </tr>\n",
       "    <tr>\n",
       "      <th>\\n</th>\n",
       "      <td>6.408691e-06</td>\n",
       "    </tr>\n",
       "    <tr>\n",
       "      <th>R</th>\n",
       "      <td>1.296997e-06</td>\n",
       "    </tr>\n",
       "    <tr>\n",
       "      <th>Y</th>\n",
       "      <td>1.087189e-06</td>\n",
       "    </tr>\n",
       "    <tr>\n",
       "      <th>K</th>\n",
       "      <td>8.773804e-07</td>\n",
       "    </tr>\n",
       "    <tr>\n",
       "      <th>W</th>\n",
       "      <td>8.583069e-07</td>\n",
       "    </tr>\n",
       "    <tr>\n",
       "      <th>S</th>\n",
       "      <td>6.294250e-07</td>\n",
       "    </tr>\n",
       "    <tr>\n",
       "      <th>M</th>\n",
       "      <td>5.912781e-07</td>\n",
       "    </tr>\n",
       "    <tr>\n",
       "      <th>V</th>\n",
       "      <td>5.722046e-08</td>\n",
       "    </tr>\n",
       "    <tr>\n",
       "      <th>H</th>\n",
       "      <td>3.814697e-08</td>\n",
       "    </tr>\n",
       "    <tr>\n",
       "      <th>D</th>\n",
       "      <td>1.907349e-08</td>\n",
       "    </tr>\n",
       "    <tr>\n",
       "      <th>B</th>\n",
       "      <td>1.907349e-08</td>\n",
       "    </tr>\n",
       "  </tbody>\n",
       "</table>\n",
       "</div>"
      ],
      "text/plain": [
       "               0\n",
       "A   2.899787e-01\n",
       "T   2.897280e-01\n",
       "C   2.102979e-01\n",
       "G   2.099745e-01\n",
       "N   8.907318e-06\n",
       "\\n  6.408691e-06\n",
       "R   1.296997e-06\n",
       "Y   1.087189e-06\n",
       "K   8.773804e-07\n",
       "W   8.583069e-07\n",
       "S   6.294250e-07\n",
       "M   5.912781e-07\n",
       "V   5.722046e-08\n",
       "H   3.814697e-08\n",
       "D   1.907349e-08\n",
       "B   1.907349e-08"
      ]
     },
     "execution_count": 520,
     "metadata": {},
     "output_type": "execute_result"
    }
   ],
   "source": [
    "pd.DataFrame.from_dict(get_sorted_probs(data), orient='index')"
   ]
  },
  {
   "cell_type": "code",
   "execution_count": null,
   "metadata": {},
   "outputs": [],
   "source": [
    "import math\n",
    "import time"
   ]
  },
  {
   "cell_type": "code",
   "execution_count": 531,
   "metadata": {},
   "outputs": [],
   "source": [
    "class Golomb:\n",
    "    def __init__(self, M, sorted_table):\n",
    "        self.M = M\n",
    "        self.alphabet = sorted_table\n",
    "\n",
    "    def from_numbers_data(self, numbers, prob_table):\n",
    "        keys = list(prob_table.keys())\n",
    "        res = \"\"\n",
    "        for number in numbers:\n",
    "            res += keys[number]\n",
    "        return res\n",
    "\n",
    "    def from_data_numbers(self, data, prob_table):\n",
    "        keys = list(prob_table.keys())\n",
    "        return [keys.index(c) for c in data]\n",
    "\n",
    "    def encode_number(self, number):\n",
    "        q = number // self.M\n",
    "        r = number % self.M\n",
    "        k = math.ceil(math.log2(self.M))\n",
    "        quo_part = '0' * q + '1'\n",
    "        c = 2**(k) - self.M\n",
    "        truncated_part = None\n",
    "        if r < c:\n",
    "            truncated_part =\"{0:b}\".format(r).zfill(k-1)[0:k]\n",
    "            #print(len(truncated_part), k - 1)\n",
    "        else:\n",
    "            truncated_part = \"{0:b}\".format(r + c).zfill(k)[0:k+1]\n",
    "            #print(len(truncated_part), k)\n",
    "\n",
    "        return \"\".join([quo_part, truncated_part])\n",
    "\n",
    "    def encode(self, c):\n",
    "        char_index = self.keys.index(c)\n",
    "        #print(f'index {char_index}')\n",
    "        return self.encode_number(char_index)\n",
    "\n",
    "    def decode_number(self, q, M, r):\n",
    "        return q * M + r\n",
    "\n",
    "    def encode_stream(self, stream):\n",
    "        tic = time.time()\n",
    "        res = \"\"\n",
    "        for c in stream:\n",
    "            enc = self.encode(c)\n",
    "            #print(enc, c)\n",
    "            res += enc\n",
    "        toc = time.time()\n",
    "        return res, toc - tic\n",
    "\n",
    "    def decode_stream(self, stream):\n",
    "        res = []\n",
    "        i = 0\n",
    "        current_quotient = \"\"\n",
    "        while i < len(stream):\n",
    "            current_char = stream[i]\n",
    "            if current_char == '0':\n",
    "                current_quotient += current_char\n",
    "                i += 1\n",
    "            else:\n",
    "                current_quotient += '1'       \n",
    "                k = math.ceil(math.log2(self.M))\n",
    "                move = k - 1\n",
    "\n",
    "\n",
    "                next_bits = stream[i+1:i+1+move]\n",
    "                dec = int(current_quotient + next_bits, 2)\n",
    "\n",
    "                #print(dec, 2**(k - 1))\n",
    "                remainder = 0\n",
    "\n",
    "                if dec < 2**(k - 1):\n",
    "                    #print('here', current_quotient, next_bits)\n",
    "                    remainder = int(next_bits, 2)\n",
    "                    i += k\n",
    "                else:\n",
    "                    bits = stream[i+1:i+1+k]\n",
    "                    remainder = int(bits, 2)\n",
    "                    #print('here2', current_quotient, bits)\n",
    "                    remainder = remainder - k\n",
    "                    i += k + 1\n",
    "                res.append(self.decode_number(current_quotient.count('0'), self.M, remainder))\n",
    "                current_quotient = \"\"\n",
    "            #print(i)\n",
    "\n",
    "        return res\n",
    "\n",
    "    def decode_from_indicies(self, ints, keys):\n",
    "        res = \"\"\n",
    "        for index in ints:\n",
    "            res += keys[index]\n",
    "        return res"
   ]
  },
  {
   "cell_type": "code",
   "execution_count": 532,
   "metadata": {},
   "outputs": [
    {
     "data": {
      "text/plain": [
       "'GATCAATGAG'"
      ]
     },
     "execution_count": 532,
     "metadata": {},
     "output_type": "execute_result"
    }
   ],
   "source": [
    "test_data = data[0:10]\n",
    "test_data"
   ]
  },
  {
   "cell_type": "markdown",
   "metadata": {},
   "source": [
    "# Test conversion"
   ]
  },
  {
   "cell_type": "code",
   "execution_count": 533,
   "metadata": {},
   "outputs": [
    {
     "name": "stdout",
     "output_type": "stream",
     "text": [
      "Calculating freqs\n",
      "End of calculating 0.0\n",
      "Calculating probs\n",
      "End of calculating 0.0\n",
      "GATCAATGAG\n",
      "True\n"
     ]
    }
   ],
   "source": [
    "sorted_table = get_sorted_probs(test_data)\n",
    "gol = Golomb(5, sorted_table)\n",
    "\n",
    "indicies = gol.from_data_numbers(test_data, sorted_table)\n",
    "current_data = gol.from_numbers_data(indicies, sorted_table)\n",
    "\n",
    "print(current_data)\n",
    "print(current_data == test_data)"
   ]
  },
  {
   "cell_type": "code",
   "execution_count": 527,
   "metadata": {},
   "outputs": [
    {
     "name": "stdout",
     "output_type": "stream",
     "text": [
      "Calculating freqs\n",
      "End of calculating 0.0\n",
      "Calculating probs\n",
      "End of calculating 0.0\n",
      "{'A': 0.4, 'G': 0.3, 'T': 0.2, 'C': 0.1}\n",
      "GATCAATGAG\n",
      "[1, 0, 2, 3, 0, 0, 2, 1, 0, 1]\n"
     ]
    }
   ],
   "source": [
    "sorted_table = get_sorted_probs(test_data)\n",
    "gol = Golomb(5, sorted_table)\n",
    "\n",
    "print(sorted_table)\n",
    "indicies = gol.from_data_numbers(test_data, sorted_table)\n",
    "\n",
    "print(test_data)\n",
    "print(indicies)\n",
    "# encoded_data, time_for_encoding = gol.encode_stream(test_data)\n",
    "# decoded_data = gol.decode_stream(encoded_data)\n",
    "# print(decoded_data)\n",
    "# predicted = gol.decode_from_indicies(decoded_data, gol.keys)\n",
    "# print(test_data, predicted)"
   ]
  },
  {
   "cell_type": "code",
   "execution_count": 518,
   "metadata": {},
   "outputs": [
    {
     "name": "stdout",
     "output_type": "stream",
     "text": [
      "[2, -1, 0, 1, -1, -1, 0, 2, -1, 2]\n",
      "GATCAATGAG CBATBBACBC\n",
      "[2, 3, 1, -1, 3, 2, 4]\n",
      "GATCAATGAG CGTBGCN\n",
      "[1, -2, -1, 0, -2, -2, -1, 1, -2, 1]\n",
      "GATCAATGAG TDBADDBTDT\n",
      "[3, -2, 8, -2, 10, 2, 13]\n",
      "GATCAATGAG GDKDSCH\n",
      "[2, -2, 9, 4, 12, 0, 14]\n",
      "GATCAATGAG CDWNVAD\n",
      "[1, -2, 6, 3, 5, 7, 12, -3]\n",
      "GATCAATGAG TDRG\n",
      "YVH\n",
      "[0, -3, -2, -1, -3, -3, -2, 0, -3, 0]\n",
      "GATCAATGAG AHDBHHDAHA\n",
      "[3, 26, 9, 6, 25, -3, 10]\n"
     ]
    },
    {
     "ename": "IndexError",
     "evalue": "list index out of range",
     "output_type": "error",
     "traceback": [
      "\u001b[1;31m---------------------------------------------------------------------------\u001b[0m",
      "\u001b[1;31mIndexError\u001b[0m                                Traceback (most recent call last)",
      "\u001b[1;32mc:\\Users\\proko\\Desktop\\University\\iv\\aks\\jupyters\\3\\3.ipynb Cell 18'\u001b[0m in \u001b[0;36m<module>\u001b[1;34m\u001b[0m\n\u001b[0;32m      <a href='vscode-notebook-cell:/c%3A/Users/proko/Desktop/University/iv/aks/jupyters/3/3.ipynb#ch0000039?line=3'>4</a>\u001b[0m decoded_data \u001b[39m=\u001b[39m gol\u001b[39m.\u001b[39mdecode_stream(encoded_data)\n\u001b[0;32m      <a href='vscode-notebook-cell:/c%3A/Users/proko/Desktop/University/iv/aks/jupyters/3/3.ipynb#ch0000039?line=4'>5</a>\u001b[0m \u001b[39mprint\u001b[39m(decoded_data)\n\u001b[1;32m----> <a href='vscode-notebook-cell:/c%3A/Users/proko/Desktop/University/iv/aks/jupyters/3/3.ipynb#ch0000039?line=5'>6</a>\u001b[0m predicted \u001b[39m=\u001b[39m gol\u001b[39m.\u001b[39;49mdecode_from_indicies(decoded_data, gol\u001b[39m.\u001b[39;49mkeys)\n\u001b[0;32m      <a href='vscode-notebook-cell:/c%3A/Users/proko/Desktop/University/iv/aks/jupyters/3/3.ipynb#ch0000039?line=6'>7</a>\u001b[0m \u001b[39mprint\u001b[39m(test_data, predicted)\n",
      "\u001b[1;32mc:\\Users\\proko\\Desktop\\University\\iv\\aks\\jupyters\\3\\3.ipynb Cell 16'\u001b[0m in \u001b[0;36mGolomb.decode_from_indicies\u001b[1;34m(self, ints, keys)\u001b[0m\n\u001b[0;32m     <a href='vscode-notebook-cell:/c%3A/Users/proko/Desktop/University/iv/aks/jupyters/3/3.ipynb#ch0000021?line=82'>83</a>\u001b[0m res \u001b[39m=\u001b[39m \u001b[39m\"\u001b[39m\u001b[39m\"\u001b[39m\n\u001b[0;32m     <a href='vscode-notebook-cell:/c%3A/Users/proko/Desktop/University/iv/aks/jupyters/3/3.ipynb#ch0000021?line=83'>84</a>\u001b[0m \u001b[39mfor\u001b[39;00m index \u001b[39min\u001b[39;00m ints:\n\u001b[1;32m---> <a href='vscode-notebook-cell:/c%3A/Users/proko/Desktop/University/iv/aks/jupyters/3/3.ipynb#ch0000021?line=84'>85</a>\u001b[0m     res \u001b[39m+\u001b[39m\u001b[39m=\u001b[39m keys[index]\n\u001b[0;32m     <a href='vscode-notebook-cell:/c%3A/Users/proko/Desktop/University/iv/aks/jupyters/3/3.ipynb#ch0000021?line=85'>86</a>\u001b[0m \u001b[39mreturn\u001b[39;00m res\n",
      "\u001b[1;31mIndexError\u001b[0m: list index out of range"
     ]
    }
   ],
   "source": [
    "for M in range(2, 20):\n",
    "    gol = Golomb(M, p)\n",
    "    encoded_data, time_for_encoding = gol.encode_stream(test_data)\n",
    "    decoded_data = gol.decode_stream(encoded_data)\n",
    "    print(decoded_data)\n",
    "    predicted = gol.decode_from_indicies(decoded_data, gol.keys)\n",
    "    print(test_data, predicted)"
   ]
  },
  {
   "cell_type": "code",
   "execution_count": null,
   "metadata": {},
   "outputs": [],
   "source": []
  }
 ],
 "metadata": {
  "interpreter": {
   "hash": "2a094b558792df53015a06eccbeeb156f6e89f526088fb771785a5b12806cace"
  },
  "kernelspec": {
   "display_name": "Python 3.8.6rc1 ('venv': venv)",
   "language": "python",
   "name": "python3"
  },
  "language_info": {
   "codemirror_mode": {
    "name": "ipython",
    "version": 3
   },
   "file_extension": ".py",
   "mimetype": "text/x-python",
   "name": "python",
   "nbconvert_exporter": "python",
   "pygments_lexer": "ipython3",
   "version": "3.8.6rc1"
  },
  "orig_nbformat": 4
 },
 "nbformat": 4,
 "nbformat_minor": 2
}
