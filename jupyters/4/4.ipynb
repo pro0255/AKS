{
 "cells": [
  {
   "cell_type": "markdown",
   "metadata": {},
   "source": [
    "# 9.3. Statistical Coding - 10 points"
   ]
  },
  {
   "cell_type": "markdown",
   "metadata": {},
   "source": [
    "## (3pt) Answer these question:"
   ]
  },
  {
   "cell_type": "markdown",
   "metadata": {},
   "source": [
    "### 1) Which of these codes cannot be Huffman codes for any probability assignment and why?\n",
    "\n",
    "- a) {0, 10, 11} - Ano vytvoření stromu je v pořádku.\n",
    "- b) {00, 01, 10, 110} - Ne strom není optimální.\n",
    "- c) {01, 10} - Ne strom není optimální."
   ]
  },
  {
   "cell_type": "markdown",
   "metadata": {},
   "source": [
    "### 2) Classes of codes. Consider the code {0, 01}.\n",
    "- a) **Is it prefix code?** - Není 0 je prefixem 01.\n",
    "- b) **Is it uniquely decodable?** - Je, každé přečtení 0 ukončí čtení a probíhá interpretace. Mám načtenou 0 čtu další 0 intrpretuju co mám načteno..\n",
    "- c) **It it nonsingular?** Ano je nesingulární. Jsem schopni mít více interpretací."
   ]
  },
  {
   "cell_type": "markdown",
   "metadata": {},
   "source": [
    "### 3) Optimal word lengths.\n",
    "- a) Can l=(1, 2, 2) be the word lengths of a binary Huffman code? - Ano, může. Optimální.\n",
    "- a) Can l=(2, 2, 3, 3) be the word lengths of a binary Huffman code? - Ne nelze, není optimální."
   ]
  },
  {
   "cell_type": "markdown",
   "metadata": {},
   "source": [
    "## (7pt) Programming Assignment\n",
    "- Implement Huffman encoding - build a Huffman tree and encode the file.\n",
    "- Use the same tree for decoding.\n",
    "- Use the same files as in Exercise 1\n",
    "- Compare the resulting compression to the entropy.\n",
    "- Do not generate bits, string of 0s and 1s are sufficient."
   ]
  },
  {
   "cell_type": "code",
   "execution_count": 1,
   "metadata": {},
   "outputs": [],
   "source": [
    "import os\n",
    "import sys\n",
    "\n",
    "def adding_module_path():\n",
    "    module_path = os.path.abspath(os.path.sep.join([\"..\"]*2))\n",
    "\n",
    "    if module_path not in sys.path:\n",
    "        sys.path.append(module_path)\n",
    "\n",
    "adding_module_path()"
   ]
  },
  {
   "cell_type": "code",
   "execution_count": 2,
   "metadata": {},
   "outputs": [],
   "source": [
    "from src.load_data import get_dataset\n",
    "from src.load_data import DataSets\n",
    "from src.get_probs import get_sorted_probs_as_df\n",
    "import numpy as np\n",
    "import pandas as pd\n",
    "import time\n",
    "from src.types.table_types import Fields"
   ]
  },
  {
   "cell_type": "code",
   "execution_count": 3,
   "metadata": {},
   "outputs": [
    {
     "name": "stdout",
     "output_type": "stream",
     "text": [
      "Loading C://Users//Vojta//Desktop//iv//AKS//datasets\\dna\\dna.50MB\n"
     ]
    }
   ],
   "source": [
    "data_dna, path_dna = get_dataset(DataSets.dna)"
   ]
  },
  {
   "cell_type": "code",
   "execution_count": 4,
   "metadata": {},
   "outputs": [
    {
     "name": "stdout",
     "output_type": "stream",
     "text": [
      "Calculating freqs\n",
      "End of calculating 6.598030090332031\n",
      "Calculating probs\n",
      "End of calculating 0.0\n"
     ]
    }
   ],
   "source": [
    "sorted_df = get_sorted_probs_as_df(data_dna)"
   ]
  },
  {
   "cell_type": "code",
   "execution_count": 5,
   "metadata": {},
   "outputs": [
    {
     "data": {
      "text/html": [
       "<div>\n",
       "<style scoped>\n",
       "    .dataframe tbody tr th:only-of-type {\n",
       "        vertical-align: middle;\n",
       "    }\n",
       "\n",
       "    .dataframe tbody tr th {\n",
       "        vertical-align: top;\n",
       "    }\n",
       "\n",
       "    .dataframe thead th {\n",
       "        text-align: right;\n",
       "    }\n",
       "</style>\n",
       "<table border=\"1\" class=\"dataframe\">\n",
       "  <thead>\n",
       "    <tr style=\"text-align: right;\">\n",
       "      <th></th>\n",
       "      <th>0</th>\n",
       "    </tr>\n",
       "  </thead>\n",
       "  <tbody>\n",
       "    <tr>\n",
       "      <th>A</th>\n",
       "      <td>2.899787e-01</td>\n",
       "    </tr>\n",
       "    <tr>\n",
       "      <th>T</th>\n",
       "      <td>2.897280e-01</td>\n",
       "    </tr>\n",
       "    <tr>\n",
       "      <th>C</th>\n",
       "      <td>2.102979e-01</td>\n",
       "    </tr>\n",
       "    <tr>\n",
       "      <th>G</th>\n",
       "      <td>2.099745e-01</td>\n",
       "    </tr>\n",
       "    <tr>\n",
       "      <th>N</th>\n",
       "      <td>8.907318e-06</td>\n",
       "    </tr>\n",
       "    <tr>\n",
       "      <th>\\n</th>\n",
       "      <td>6.408691e-06</td>\n",
       "    </tr>\n",
       "    <tr>\n",
       "      <th>R</th>\n",
       "      <td>1.296997e-06</td>\n",
       "    </tr>\n",
       "    <tr>\n",
       "      <th>Y</th>\n",
       "      <td>1.087189e-06</td>\n",
       "    </tr>\n",
       "    <tr>\n",
       "      <th>K</th>\n",
       "      <td>8.773804e-07</td>\n",
       "    </tr>\n",
       "    <tr>\n",
       "      <th>W</th>\n",
       "      <td>8.583069e-07</td>\n",
       "    </tr>\n",
       "    <tr>\n",
       "      <th>S</th>\n",
       "      <td>6.294250e-07</td>\n",
       "    </tr>\n",
       "    <tr>\n",
       "      <th>M</th>\n",
       "      <td>5.912781e-07</td>\n",
       "    </tr>\n",
       "    <tr>\n",
       "      <th>V</th>\n",
       "      <td>5.722046e-08</td>\n",
       "    </tr>\n",
       "    <tr>\n",
       "      <th>H</th>\n",
       "      <td>3.814697e-08</td>\n",
       "    </tr>\n",
       "    <tr>\n",
       "      <th>D</th>\n",
       "      <td>1.907349e-08</td>\n",
       "    </tr>\n",
       "    <tr>\n",
       "      <th>B</th>\n",
       "      <td>1.907349e-08</td>\n",
       "    </tr>\n",
       "  </tbody>\n",
       "</table>\n",
       "</div>"
      ],
      "text/plain": [
       "               0\n",
       "A   2.899787e-01\n",
       "T   2.897280e-01\n",
       "C   2.102979e-01\n",
       "G   2.099745e-01\n",
       "N   8.907318e-06\n",
       "\\n  6.408691e-06\n",
       "R   1.296997e-06\n",
       "Y   1.087189e-06\n",
       "K   8.773804e-07\n",
       "W   8.583069e-07\n",
       "S   6.294250e-07\n",
       "M   5.912781e-07\n",
       "V   5.722046e-08\n",
       "H   3.814697e-08\n",
       "D   1.907349e-08\n",
       "B   1.907349e-08"
      ]
     },
     "execution_count": 5,
     "metadata": {},
     "output_type": "execute_result"
    }
   ],
   "source": [
    "sorted_df"
   ]
  },
  {
   "cell_type": "code",
   "execution_count": 6,
   "metadata": {},
   "outputs": [],
   "source": [
    "class Node:\n",
    "    def __init__(self, parent=None, left=None, right=None, prob=None, label=None):\n",
    "        self.left = left\n",
    "        self.right = right\n",
    "        self.parent = parent\n",
    "        self.prob = prob\n",
    "        self.label = label\n",
    "\n",
    "    def __str__(self):\n",
    "        return f\"{self.label} -- {self.prob}\""
   ]
  },
  {
   "cell_type": "code",
   "execution_count": 7,
   "metadata": {},
   "outputs": [],
   "source": [
    "def process_node(node, alphabet, codeword = \"\"):\n",
    "    if len(node.label) == 1:\n",
    "        alphabet[node.label] = codeword\n",
    "\n",
    "    if node.right is not None:\n",
    "        process_node(node.right, alphabet, codeword + \"1\")\n",
    "\n",
    "    if node.left is not None:\n",
    "        process_node(node.left, alphabet, codeword + \"0\")"
   ]
  },
  {
   "cell_type": "code",
   "execution_count": 8,
   "metadata": {},
   "outputs": [],
   "source": [
    "def build_encoding_table(tree):\n",
    "    table = {}\n",
    "    process_node(tree.root, table, \"\")\n",
    "    return table"
   ]
  },
  {
   "cell_type": "code",
   "execution_count": 9,
   "metadata": {},
   "outputs": [],
   "source": [
    "class HuffmanTree:\n",
    "    def __init__(self):\n",
    "        pass\n",
    "\n",
    "    def get_char_encodings(self, alphabet):\n",
    "        res = {}\n",
    "\n",
    "        self.root\n",
    "\n",
    "\n",
    "    def print_node(self, node, level):\n",
    "        tabs = \"\\t\" * level\n",
    "        print(f'{tabs} {node}')\n",
    "\n",
    "        if node.left is not None:\n",
    "            self.print_node(node.left, level+1)\n",
    "\n",
    "        if node.right is not None:\n",
    "            self.print_node(node.right, level+1)\n",
    "\n",
    "\n",
    "    def print_tree(self):\n",
    "        self.print_node(self.root, 0)\n",
    "\n",
    "\n",
    "    def get_left_right(self, last_two):\n",
    "        left_label = last_two[0][0]\n",
    "        left_prob = last_two[0][1]\n",
    "\n",
    "        right_label = last_two[1][0]\n",
    "        right_prob = last_two[1][1]\n",
    "\n",
    "        left, right = list(sorted([(left_label, left_prob), (right_label, right_prob)], key=lambda item: len(item[0])))\n",
    "\n",
    "        left_label = left[0]\n",
    "        left_prob = left[1]\n",
    "\n",
    "        right_label = right[0]\n",
    "        right_prob = right[1]\n",
    "\n",
    "        return left_label, left_prob, right_label, right_prob\n",
    "\n",
    "    def get_nodes(self, existing_nodes, last_two):\n",
    "        left, right, parent = None, None, None\n",
    "\n",
    "        left_label = last_two[0][0]\n",
    "        left_prob = last_two[0][1]\n",
    "\n",
    "        right_label = last_two[1][0]\n",
    "        right_prob = last_two[1][0]\n",
    "\n",
    "\n",
    "        left_label, left_prob, right_label, right_prob = self.get_left_right(last_two)\n",
    "\n",
    "        if left_label in existing_nodes:\n",
    "            left = existing_nodes[left_label]\n",
    "        else:\n",
    "            left = Node(None, None, None, left_prob, left_label)\n",
    "            existing_nodes[left_label] = left\n",
    "\n",
    "\n",
    "        if right_label in existing_nodes:\n",
    "            right = existing_nodes[right_label]\n",
    "        else:\n",
    "            right = Node(None, None, None, right_prob, right_label)\n",
    "            existing_nodes[right_label] = right\n",
    "\n",
    "        new_node_label = \"\".join(list(sorted([i[0] for i in last_two])))\n",
    "        new_node_prob = np.sum([i[1] for i in last_two])\n",
    "\n",
    "        parent = Node(None, left, right, new_node_prob, new_node_label)\n",
    "        existing_nodes[new_node_label] = parent\n",
    "        left.parent = parent\n",
    "        right.parent = parent\n",
    "\n",
    "        return left, right, parent\n",
    "\n",
    "    def build_tree(self, data):\n",
    "        #sort by probability\n",
    "        sorted_df = get_sorted_probs_as_df(data)\n",
    "\n",
    "        dic = sorted_df.to_dict()[0]\n",
    "        existing_nodes = {}\n",
    "        parent = None\n",
    "\n",
    "        while len(list(dic.keys())) >= 2:\n",
    "            sorted_dic = sorted(dic.items(), key=lambda item: item[1], reverse=False)\n",
    "            last_two = sorted_dic[0:2]\n",
    "            \n",
    "            left, right, parent = self.get_nodes(existing_nodes, last_two)\n",
    "\n",
    "\n",
    "            new_dic = sorted_dic.copy()\n",
    "\n",
    "            del new_dic[0:2]\n",
    "\n",
    "\n",
    "            new_dic = dict(new_dic) \n",
    "            new_dic[parent.label] = parent.prob\n",
    "\n",
    "            dic = new_dic\n",
    "        \n",
    "        self.root = parent\n",
    "\n",
    "    def decode_binary(self, binary_text):\n",
    "\n",
    "        pass\n",
    "        #binary text\n",
    "\n",
    "        #go over tree\n",
    "\n",
    "        #if leaf return char\n",
    "\n",
    "\n",
    "    def encode_char(self, char):\n",
    "        #get builded tree\n",
    "\n",
    "        #go over tree\n",
    "\n",
    "        #if leaf return binary\n",
    "        pass\n",
    "\n",
    "    \n",
    "    def encode(self, data):\n",
    "        #iterate over char and create long string\n",
    "        table = build_encoding_table(self)\n",
    "        encoded = \"\"\n",
    "        for c in data:\n",
    "            encoded += table[c]\n",
    "        return encoded\n",
    "\n",
    "    def decode(self, data):\n",
    "        decoded = \"\"\n",
    "        #iterate over stream and get all decoded values\n",
    "        ptr = self.root\n",
    "\n",
    "        for bit in data:\n",
    "            if 1 == len(ptr.label):\n",
    "                decoded += ptr.label\n",
    "                ptr = self.root\n",
    "\n",
    "            if bit == '1':\n",
    "                ptr = ptr.right\n",
    "\n",
    "            if bit == '0':\n",
    "                ptr = ptr.left\n",
    "        \n",
    "        decoded += ptr.label\n",
    "        \n",
    "        return decoded"
   ]
  },
  {
   "cell_type": "code",
   "execution_count": 10,
   "metadata": {},
   "outputs": [],
   "source": [
    "tree = HuffmanTree()"
   ]
  },
  {
   "cell_type": "code",
   "execution_count": 11,
   "metadata": {},
   "outputs": [
    {
     "name": "stdout",
     "output_type": "stream",
     "text": [
      "Calculating freqs\n",
      "End of calculating 6.4379966259002686\n",
      "Calculating probs\n",
      "End of calculating 0.0\n"
     ]
    }
   ],
   "source": [
    "tree.build_tree(data_dna)"
   ]
  },
  {
   "cell_type": "code",
   "execution_count": 12,
   "metadata": {},
   "outputs": [
    {
     "name": "stdout",
     "output_type": "stream",
     "text": [
      "\n",
      "BDHVMSKWRYNGCAT -- 1.0\n"
     ]
    }
   ],
   "source": [
    "print(tree.root)"
   ]
  },
  {
   "cell_type": "markdown",
   "metadata": {},
   "source": [
    "# Small test"
   ]
  },
  {
   "cell_type": "code",
   "execution_count": 13,
   "metadata": {},
   "outputs": [
    {
     "data": {
      "text/plain": [
       "'GATCAATGAG'"
      ]
     },
     "execution_count": 13,
     "metadata": {},
     "output_type": "execute_result"
    }
   ],
   "source": [
    "test = data_dna[0:10]\n",
    "test"
   ]
  },
  {
   "cell_type": "code",
   "execution_count": 14,
   "metadata": {},
   "outputs": [
    {
     "data": {
      "text/plain": [
       "'11001001001010011001110'"
      ]
     },
     "execution_count": 14,
     "metadata": {},
     "output_type": "execute_result"
    }
   ],
   "source": [
    "encoded_data = tree.encode(test)\n",
    "encoded_data"
   ]
  },
  {
   "cell_type": "code",
   "execution_count": 15,
   "metadata": {},
   "outputs": [
    {
     "data": {
      "text/plain": [
       "'11001001001010011001110'"
      ]
     },
     "execution_count": 15,
     "metadata": {},
     "output_type": "execute_result"
    }
   ],
   "source": [
    "encoded_data"
   ]
  },
  {
   "cell_type": "code",
   "execution_count": 16,
   "metadata": {},
   "outputs": [
    {
     "data": {
      "text/plain": [
       "'GATCAATGAG'"
      ]
     },
     "execution_count": 16,
     "metadata": {},
     "output_type": "execute_result"
    }
   ],
   "source": [
    "decoded_data = tree.decode(encoded_data)\n",
    "decoded_data"
   ]
  },
  {
   "cell_type": "code",
   "execution_count": 17,
   "metadata": {},
   "outputs": [],
   "source": [
    "table = build_encoding_table(tree)"
   ]
  },
  {
   "cell_type": "code",
   "execution_count": 18,
   "metadata": {},
   "outputs": [
    {
     "name": "stdout",
     "output_type": "stream",
     "text": [
      "\n",
      "BDHVMSKWRYNGC -- 0.4202932357788086\n"
     ]
    }
   ],
   "source": [
    "print(tree.root.right)"
   ]
  },
  {
   "cell_type": "code",
   "execution_count": 36,
   "metadata": {},
   "outputs": [
    {
     "name": "stdout",
     "output_type": "stream",
     "text": [
      "AT -- 0.5797067642211914\n"
     ]
    }
   ],
   "source": [
    "print(tree.root.left)"
   ]
  },
  {
   "cell_type": "markdown",
   "metadata": {},
   "source": [
    "It is better to precalculate code table instead of iterating over nodes"
   ]
  },
  {
   "cell_type": "code",
   "execution_count": 37,
   "metadata": {},
   "outputs": [
    {
     "data": {
      "text/html": [
       "<div>\n",
       "<style scoped>\n",
       "    .dataframe tbody tr th:only-of-type {\n",
       "        vertical-align: middle;\n",
       "    }\n",
       "\n",
       "    .dataframe tbody tr th {\n",
       "        vertical-align: top;\n",
       "    }\n",
       "\n",
       "    .dataframe thead th {\n",
       "        text-align: right;\n",
       "    }\n",
       "</style>\n",
       "<table border=\"1\" class=\"dataframe\">\n",
       "  <thead>\n",
       "    <tr style=\"text-align: right;\">\n",
       "      <th></th>\n",
       "      <th>0</th>\n",
       "    </tr>\n",
       "  </thead>\n",
       "  <tbody>\n",
       "    <tr>\n",
       "      <th>B</th>\n",
       "      <td>111111111111</td>\n",
       "    </tr>\n",
       "    <tr>\n",
       "      <th>D</th>\n",
       "      <td>111111111110</td>\n",
       "    </tr>\n",
       "    <tr>\n",
       "      <th>H</th>\n",
       "      <td>11111111110</td>\n",
       "    </tr>\n",
       "    <tr>\n",
       "      <th>V</th>\n",
       "      <td>1111111110</td>\n",
       "    </tr>\n",
       "    <tr>\n",
       "      <th>M</th>\n",
       "      <td>111111110</td>\n",
       "    </tr>\n",
       "    <tr>\n",
       "      <th>S</th>\n",
       "      <td>11111110</td>\n",
       "    </tr>\n",
       "    <tr>\n",
       "      <th>K</th>\n",
       "      <td>11111101</td>\n",
       "    </tr>\n",
       "    <tr>\n",
       "      <th>W</th>\n",
       "      <td>11111100</td>\n",
       "    </tr>\n",
       "    <tr>\n",
       "      <th>R</th>\n",
       "      <td>1111101</td>\n",
       "    </tr>\n",
       "    <tr>\n",
       "      <th>Y</th>\n",
       "      <td>1111100</td>\n",
       "    </tr>\n",
       "    <tr>\n",
       "      <th>\\n</th>\n",
       "      <td>11110</td>\n",
       "    </tr>\n",
       "    <tr>\n",
       "      <th>N</th>\n",
       "      <td>1110</td>\n",
       "    </tr>\n",
       "    <tr>\n",
       "      <th>G</th>\n",
       "      <td>110</td>\n",
       "    </tr>\n",
       "    <tr>\n",
       "      <th>C</th>\n",
       "      <td>10</td>\n",
       "    </tr>\n",
       "    <tr>\n",
       "      <th>A</th>\n",
       "      <td>01</td>\n",
       "    </tr>\n",
       "    <tr>\n",
       "      <th>T</th>\n",
       "      <td>00</td>\n",
       "    </tr>\n",
       "  </tbody>\n",
       "</table>\n",
       "</div>"
      ],
      "text/plain": [
       "               0\n",
       "B   111111111111\n",
       "D   111111111110\n",
       "H    11111111110\n",
       "V     1111111110\n",
       "M      111111110\n",
       "S       11111110\n",
       "K       11111101\n",
       "W       11111100\n",
       "R        1111101\n",
       "Y        1111100\n",
       "\\n         11110\n",
       "N           1110\n",
       "G            110\n",
       "C             10\n",
       "A             01\n",
       "T             00"
      ]
     },
     "execution_count": 37,
     "metadata": {},
     "output_type": "execute_result"
    }
   ],
   "source": [
    "pd.DataFrame.from_dict(table, orient='index')"
   ]
  },
  {
   "cell_type": "markdown",
   "metadata": {},
   "source": [
    "# Kuba test"
   ]
  },
  {
   "cell_type": "code",
   "execution_count": 20,
   "metadata": {},
   "outputs": [
    {
     "name": "stdout",
     "output_type": "stream",
     "text": [
      "Calculating freqs\n",
      "End of calculating 0.0010025501251220703\n",
      "Calculating probs\n",
      "End of calculating 0.0\n"
     ]
    }
   ],
   "source": [
    "text = 'A'*10+'E'*15+'I'*12+'S'*3+'T'*4+'P'*13+'N'*2\n",
    "tree = HuffmanTree()\n",
    "tree.build_tree(text)\n",
    "table = build_encoding_table(tree)"
   ]
  },
  {
   "cell_type": "code",
   "execution_count": 21,
   "metadata": {},
   "outputs": [
    {
     "data": {
      "text/html": [
       "<div>\n",
       "<style scoped>\n",
       "    .dataframe tbody tr th:only-of-type {\n",
       "        vertical-align: middle;\n",
       "    }\n",
       "\n",
       "    .dataframe tbody tr th {\n",
       "        vertical-align: top;\n",
       "    }\n",
       "\n",
       "    .dataframe thead th {\n",
       "        text-align: right;\n",
       "    }\n",
       "</style>\n",
       "<table border=\"1\" class=\"dataframe\">\n",
       "  <thead>\n",
       "    <tr style=\"text-align: right;\">\n",
       "      <th></th>\n",
       "      <th>0</th>\n",
       "    </tr>\n",
       "  </thead>\n",
       "  <tbody>\n",
       "    <tr>\n",
       "      <th>S</th>\n",
       "      <td>11111</td>\n",
       "    </tr>\n",
       "    <tr>\n",
       "      <th>N</th>\n",
       "      <td>11110</td>\n",
       "    </tr>\n",
       "    <tr>\n",
       "      <th>T</th>\n",
       "      <td>1110</td>\n",
       "    </tr>\n",
       "    <tr>\n",
       "      <th>A</th>\n",
       "      <td>110</td>\n",
       "    </tr>\n",
       "    <tr>\n",
       "      <th>E</th>\n",
       "      <td>10</td>\n",
       "    </tr>\n",
       "    <tr>\n",
       "      <th>P</th>\n",
       "      <td>01</td>\n",
       "    </tr>\n",
       "    <tr>\n",
       "      <th>I</th>\n",
       "      <td>00</td>\n",
       "    </tr>\n",
       "  </tbody>\n",
       "</table>\n",
       "</div>"
      ],
      "text/plain": [
       "       0\n",
       "S  11111\n",
       "N  11110\n",
       "T   1110\n",
       "A    110\n",
       "E     10\n",
       "P     01\n",
       "I     00"
      ]
     },
     "execution_count": 21,
     "metadata": {},
     "output_type": "execute_result"
    }
   ],
   "source": [
    "pd.DataFrame.from_dict(table, orient='index')"
   ]
  },
  {
   "cell_type": "markdown",
   "metadata": {},
   "source": [
    "# Results"
   ]
  },
  {
   "cell_type": "code",
   "execution_count": 38,
   "metadata": {},
   "outputs": [],
   "source": [
    "def run(ds, path, name):\n",
    "    print(path)\n",
    "\n",
    "    tree = HuffmanTree()\n",
    "    tic = time.time()\n",
    "    tree.build_tree(ds)\n",
    "    toc = time.time()\n",
    "    building_tree = toc - tic\n",
    "\n",
    "    n = len(ds)\n",
    "\n",
    "    tic = time.time()\n",
    "    encoded_data = tree.encode(ds)\n",
    "    toc = time.time()\n",
    "\n",
    "    encoding_data = toc - tic\n",
    "\n",
    "    tic = time.time()\n",
    "    decoded_data = tree.decode(encoded_data)\n",
    "    toc = time.time()\n",
    "\n",
    "    decoding_data = toc - tic\n",
    "\n",
    "    return {\n",
    "        \"building_tree\": building_tree,\n",
    "        \"encoding_data\": encoding_data,\n",
    "        \"decoding_data\": decoding_data,\n",
    "        Fields.Path.value: path,\n",
    "        Fields.Parameter.value: \"\",\n",
    "        Fields.Type.value: \"Huffman\",\n",
    "        Fields.Original.value: n * 8,\n",
    "        Fields.Aprox.value: len(encoded_data),\n",
    "        Fields.Calculation.value: building_tree + encoding_data + decoding_data,\n",
    "        Fields.Name.value: name\n",
    "    }"
   ]
  },
  {
   "cell_type": "code",
   "execution_count": 39,
   "metadata": {},
   "outputs": [
    {
     "name": "stdout",
     "output_type": "stream",
     "text": [
      "Loading C://Users//proko//Desktop//University//iv//aks//datasets\\dna\\dna.50MB\n",
      "Loading C://Users//proko//Desktop//University//iv//aks//datasets\\english\\english.50MB\n"
     ]
    }
   ],
   "source": [
    "data_dna, path_dna = get_dataset(DataSets.dna)\n",
    "data_english, path_english = get_dataset(DataSets.english)"
   ]
  },
  {
   "cell_type": "code",
   "execution_count": 40,
   "metadata": {},
   "outputs": [],
   "source": [
    "datasets = [(data_dna, path_dna, DataSets.dna.value), (data_english, path_english, DataSets.english.value)]"
   ]
  },
  {
   "cell_type": "code",
   "execution_count": 41,
   "metadata": {},
   "outputs": [
    {
     "name": "stdout",
     "output_type": "stream",
     "text": [
      "C://Users//proko//Desktop//University//iv//aks//datasets\\dna\\dna.50MB\n",
      "Calculating freqs\n",
      "End of calculating 9.261345624923706\n",
      "Calculating probs\n",
      "End of calculating 0.0\n",
      "C://Users//proko//Desktop//University//iv//aks//datasets\\english\\english.50MB\n",
      "Calculating freqs\n",
      "End of calculating 8.386399984359741\n",
      "Calculating probs\n",
      "End of calculating 0.0009522438049316406\n"
     ]
    }
   ],
   "source": [
    "res = {}\n",
    "counter = 0\n",
    "\n",
    "for data, path, name in datasets:\n",
    "    value = run(data, path, name)\n",
    "    res[counter] = value\n",
    "    counter += 1"
   ]
  },
  {
   "cell_type": "code",
   "execution_count": 42,
   "metadata": {},
   "outputs": [],
   "source": [
    "result_dataframe = pd.DataFrame.from_dict(res, orient=\"index\")"
   ]
  },
  {
   "cell_type": "code",
   "execution_count": 43,
   "metadata": {},
   "outputs": [
    {
     "data": {
      "text/html": [
       "<div>\n",
       "<style scoped>\n",
       "    .dataframe tbody tr th:only-of-type {\n",
       "        vertical-align: middle;\n",
       "    }\n",
       "\n",
       "    .dataframe tbody tr th {\n",
       "        vertical-align: top;\n",
       "    }\n",
       "\n",
       "    .dataframe thead th {\n",
       "        text-align: right;\n",
       "    }\n",
       "</style>\n",
       "<table border=\"1\" class=\"dataframe\">\n",
       "  <thead>\n",
       "    <tr style=\"text-align: right;\">\n",
       "      <th></th>\n",
       "      <th>building_tree</th>\n",
       "      <th>encoding_data</th>\n",
       "      <th>decoding_data</th>\n",
       "      <th>Path</th>\n",
       "      <th>Parameter</th>\n",
       "      <th>Type</th>\n",
       "      <th>Original</th>\n",
       "      <th>Aprox</th>\n",
       "      <th>Calculation</th>\n",
       "      <th>Name</th>\n",
       "    </tr>\n",
       "  </thead>\n",
       "  <tbody>\n",
       "    <tr>\n",
       "      <th>0</th>\n",
       "      <td>9.263349</td>\n",
       "      <td>513.536595</td>\n",
       "      <td>136.444840</td>\n",
       "      <td>C://Users//proko//Desktop//University//iv//aks...</td>\n",
       "      <td></td>\n",
       "      <td>Huffman</td>\n",
       "      <td>419430400</td>\n",
       "      <td>115869903</td>\n",
       "      <td>659.244783</td>\n",
       "      <td>dna</td>\n",
       "    </tr>\n",
       "    <tr>\n",
       "      <th>1</th>\n",
       "      <td>8.394352</td>\n",
       "      <td>2162.968342</td>\n",
       "      <td>471.270896</td>\n",
       "      <td>C://Users//proko//Desktop//University//iv//aks...</td>\n",
       "      <td></td>\n",
       "      <td>Huffman</td>\n",
       "      <td>419430400</td>\n",
       "      <td>239334456</td>\n",
       "      <td>2642.633590</td>\n",
       "      <td>english</td>\n",
       "    </tr>\n",
       "  </tbody>\n",
       "</table>\n",
       "</div>"
      ],
      "text/plain": [
       "   building_tree  encoding_data  decoding_data  \\\n",
       "0       9.263349     513.536595     136.444840   \n",
       "1       8.394352    2162.968342     471.270896   \n",
       "\n",
       "                                                Path Parameter     Type  \\\n",
       "0  C://Users//proko//Desktop//University//iv//aks...            Huffman   \n",
       "1  C://Users//proko//Desktop//University//iv//aks...            Huffman   \n",
       "\n",
       "    Original      Aprox  Calculation     Name  \n",
       "0  419430400  115869903   659.244783      dna  \n",
       "1  419430400  239334456  2642.633590  english  "
      ]
     },
     "execution_count": 43,
     "metadata": {},
     "output_type": "execute_result"
    }
   ],
   "source": [
    "result_dataframe"
   ]
  },
  {
   "cell_type": "code",
   "execution_count": 44,
   "metadata": {},
   "outputs": [],
   "source": [
    "from src.save import save_both"
   ]
  },
  {
   "cell_type": "code",
   "execution_count": 45,
   "metadata": {},
   "outputs": [],
   "source": [
    "save_both(result_dataframe)"
   ]
  }
 ],
 "metadata": {
  "interpreter": {
   "hash": "2a094b558792df53015a06eccbeeb156f6e89f526088fb771785a5b12806cace"
  },
  "kernelspec": {
   "display_name": "Python 3.8.6rc1 ('venv': venv)",
   "language": "python",
   "name": "python3"
  },
  "language_info": {
   "codemirror_mode": {
    "name": "ipython",
    "version": 3
   },
   "file_extension": ".py",
   "mimetype": "text/x-python",
   "name": "python",
   "nbconvert_exporter": "python",
   "pygments_lexer": "ipython3",
   "version": "3.8.1"
  },
  "orig_nbformat": 4
 },
 "nbformat": 4,
 "nbformat_minor": 2
}
