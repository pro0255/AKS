{
 "cells": [
  {
   "cell_type": "markdown",
   "metadata": {},
   "source": [
    "# 9.3. Statistical Coding - 10 points"
   ]
  },
  {
   "cell_type": "markdown",
   "metadata": {},
   "source": [
    "## (3pt) Answer these question:"
   ]
  },
  {
   "cell_type": "markdown",
   "metadata": {},
   "source": [
    "### 1) Which of these codes cannot be Huffman codes for any probability assignment and why?\n",
    "\n",
    "- a) {0, 10, 11}\n",
    "- b) {00, 01, 10, 110}\n",
    "- c) {01, 10}"
   ]
  },
  {
   "cell_type": "markdown",
   "metadata": {},
   "source": [
    "### 2) Classes of codes. Consider the code {0, 01}.\n",
    "- a) Is it prefix code?\n",
    "- b) Is it uniquely decodable?\n",
    "- c) It it nonsingular?"
   ]
  },
  {
   "cell_type": "markdown",
   "metadata": {},
   "source": [
    "### 3) Optimal word lengths.\n",
    "- a) Can l=(1, 2, 2) be the word lengths of a binary Huffman code?\n",
    "- a) Can l=(2, 2, 3, 3) be the word lengths of a binary Huffman code?"
   ]
  },
  {
   "cell_type": "markdown",
   "metadata": {},
   "source": [
    "## (7pt) Programming Assignment\n",
    "- Implement Huffman encoding - build a Huffman tree and encode the file.\n",
    "- Use the same tree for decoding.\n",
    "- Use the same files as in Exercise 1\n",
    "- Compare the resulting compression to the entropy.\n",
    "- Do not generate bits, string of 0s and 1s are sufficient."
   ]
  },
  {
   "cell_type": "code",
   "execution_count": 1,
   "metadata": {},
   "outputs": [],
   "source": [
    "import os\n",
    "import sys\n",
    "\n",
    "def adding_module_path():\n",
    "    module_path = os.path.abspath(os.path.sep.join([\"..\"]*2))\n",
    "\n",
    "    if module_path not in sys.path:\n",
    "        sys.path.append(module_path)\n",
    "\n",
    "adding_module_path()"
   ]
  },
  {
   "cell_type": "code",
   "execution_count": 2,
   "metadata": {},
   "outputs": [],
   "source": [
    "from src.load_data import get_dataset\n",
    "from src.load_data import DataSets\n",
    "from src.get_probs import get_sorted_probs_as_df"
   ]
  },
  {
   "cell_type": "code",
   "execution_count": 3,
   "metadata": {},
   "outputs": [
    {
     "name": "stdout",
     "output_type": "stream",
     "text": [
      "Loading C://Users//proko//Desktop//University//iv//aks//datasets\\dna\\dna.50MB\n"
     ]
    }
   ],
   "source": [
    "data_dna = get_dataset(DataSets.dna)"
   ]
  },
  {
   "cell_type": "code",
   "execution_count": 4,
   "metadata": {},
   "outputs": [
    {
     "name": "stdout",
     "output_type": "stream",
     "text": [
      "Calculating freqs\n",
      "End of calculating 8.338574409484863\n",
      "Calculating probs\n",
      "End of calculating 0.0009951591491699219\n"
     ]
    }
   ],
   "source": [
    "sorted_df = get_sorted_probs_as_df(data_dna)"
   ]
  },
  {
   "cell_type": "code",
   "execution_count": 6,
   "metadata": {},
   "outputs": [
    {
     "data": {
      "text/html": [
       "<div>\n",
       "<style scoped>\n",
       "    .dataframe tbody tr th:only-of-type {\n",
       "        vertical-align: middle;\n",
       "    }\n",
       "\n",
       "    .dataframe tbody tr th {\n",
       "        vertical-align: top;\n",
       "    }\n",
       "\n",
       "    .dataframe thead th {\n",
       "        text-align: right;\n",
       "    }\n",
       "</style>\n",
       "<table border=\"1\" class=\"dataframe\">\n",
       "  <thead>\n",
       "    <tr style=\"text-align: right;\">\n",
       "      <th></th>\n",
       "      <th>0</th>\n",
       "    </tr>\n",
       "  </thead>\n",
       "  <tbody>\n",
       "    <tr>\n",
       "      <th>A</th>\n",
       "      <td>2.899787e-01</td>\n",
       "    </tr>\n",
       "    <tr>\n",
       "      <th>T</th>\n",
       "      <td>2.897280e-01</td>\n",
       "    </tr>\n",
       "    <tr>\n",
       "      <th>C</th>\n",
       "      <td>2.102979e-01</td>\n",
       "    </tr>\n",
       "    <tr>\n",
       "      <th>G</th>\n",
       "      <td>2.099745e-01</td>\n",
       "    </tr>\n",
       "    <tr>\n",
       "      <th>N</th>\n",
       "      <td>8.907318e-06</td>\n",
       "    </tr>\n",
       "    <tr>\n",
       "      <th>\\n</th>\n",
       "      <td>6.408691e-06</td>\n",
       "    </tr>\n",
       "    <tr>\n",
       "      <th>R</th>\n",
       "      <td>1.296997e-06</td>\n",
       "    </tr>\n",
       "    <tr>\n",
       "      <th>Y</th>\n",
       "      <td>1.087189e-06</td>\n",
       "    </tr>\n",
       "    <tr>\n",
       "      <th>K</th>\n",
       "      <td>8.773804e-07</td>\n",
       "    </tr>\n",
       "    <tr>\n",
       "      <th>W</th>\n",
       "      <td>8.583069e-07</td>\n",
       "    </tr>\n",
       "    <tr>\n",
       "      <th>S</th>\n",
       "      <td>6.294250e-07</td>\n",
       "    </tr>\n",
       "    <tr>\n",
       "      <th>M</th>\n",
       "      <td>5.912781e-07</td>\n",
       "    </tr>\n",
       "    <tr>\n",
       "      <th>V</th>\n",
       "      <td>5.722046e-08</td>\n",
       "    </tr>\n",
       "    <tr>\n",
       "      <th>H</th>\n",
       "      <td>3.814697e-08</td>\n",
       "    </tr>\n",
       "    <tr>\n",
       "      <th>D</th>\n",
       "      <td>1.907349e-08</td>\n",
       "    </tr>\n",
       "    <tr>\n",
       "      <th>B</th>\n",
       "      <td>1.907349e-08</td>\n",
       "    </tr>\n",
       "  </tbody>\n",
       "</table>\n",
       "</div>"
      ],
      "text/plain": [
       "               0\n",
       "A   2.899787e-01\n",
       "T   2.897280e-01\n",
       "C   2.102979e-01\n",
       "G   2.099745e-01\n",
       "N   8.907318e-06\n",
       "\\n  6.408691e-06\n",
       "R   1.296997e-06\n",
       "Y   1.087189e-06\n",
       "K   8.773804e-07\n",
       "W   8.583069e-07\n",
       "S   6.294250e-07\n",
       "M   5.912781e-07\n",
       "V   5.722046e-08\n",
       "H   3.814697e-08\n",
       "D   1.907349e-08\n",
       "B   1.907349e-08"
      ]
     },
     "execution_count": 6,
     "metadata": {},
     "output_type": "execute_result"
    }
   ],
   "source": [
    "sorted_df"
   ]
  },
  {
   "cell_type": "code",
   "execution_count": null,
   "metadata": {},
   "outputs": [],
   "source": []
  },
  {
   "cell_type": "code",
   "execution_count": 3,
   "metadata": {},
   "outputs": [],
   "source": [
    "class HuffmanTree:\n",
    "    def __init__(self):\n",
    "        pass\n",
    "\n",
    "\n",
    "    def build_tree(self, data):\n",
    "        #sort by probability\n",
    "\n",
    "        #get last 2 elements\n",
    "\n",
    "        #connect\n",
    "\n",
    "        #new node add to list\n",
    "\n",
    "        #sort by probability\n",
    "\n",
    "        #get last 2 elements\n",
    "\n",
    "        #...\n",
    "\n",
    "\n",
    "\n",
    "        #creation of tree\n",
    "        #tree is builded from bottom to up -> optimal code\n",
    "        pass\n",
    "\n",
    "    def decode_binary(self, binary_text):\n",
    "        pass\n",
    "        #binary text\n",
    "\n",
    "        #go over tree\n",
    "\n",
    "        #if leaf return char\n",
    "\n",
    "\n",
    "    def encode_char(self, char):\n",
    "        #get builded tree\n",
    "\n",
    "        #go over tree\n",
    "\n",
    "        #if leaf return binary\n",
    "        pass\n",
    "\n",
    "    \n",
    "    def encode(self, data):\n",
    "        #iterate over char and create long string\n",
    "\n",
    "        #call encode char\n",
    "        pass\n",
    "\n",
    "    def decode(self, data):\n",
    "        #iterate over stream and get all decoded values\n",
    "\n",
    "        #call decode binary\n",
    "        pass"
   ]
  },
  {
   "cell_type": "code",
   "execution_count": 2,
   "metadata": {},
   "outputs": [],
   "source": [
    "tree = HuffmanTree()"
   ]
  },
  {
   "cell_type": "code",
   "execution_count": null,
   "metadata": {},
   "outputs": [],
   "source": []
  }
 ],
 "metadata": {
  "interpreter": {
   "hash": "2a094b558792df53015a06eccbeeb156f6e89f526088fb771785a5b12806cace"
  },
  "kernelspec": {
   "display_name": "Python 3.8.6rc1 ('venv': venv)",
   "language": "python",
   "name": "python3"
  },
  "language_info": {
   "codemirror_mode": {
    "name": "ipython",
    "version": 3
   },
   "file_extension": ".py",
   "mimetype": "text/x-python",
   "name": "python",
   "nbconvert_exporter": "python",
   "pygments_lexer": "ipython3",
   "version": "3.8.6rc1"
  },
  "orig_nbformat": 4
 },
 "nbformat": 4,
 "nbformat_minor": 2
}
