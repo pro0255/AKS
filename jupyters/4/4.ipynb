{
 "cells": [
  {
   "cell_type": "markdown",
   "metadata": {},
   "source": [
    "# 9.3. Statistical Coding - 10 points"
   ]
  },
  {
   "cell_type": "markdown",
   "metadata": {},
   "source": [
    "## (3pt) Answer these question:"
   ]
  },
  {
   "cell_type": "markdown",
   "metadata": {},
   "source": [
    "### 1) Which of these codes cannot be Huffman codes for any probability assignment and why?\n",
    "\n",
    "- a) {0, 10, 11}\n",
    "- b) {00, 01, 10, 110}\n",
    "- c) {01, 10}"
   ]
  },
  {
   "cell_type": "markdown",
   "metadata": {},
   "source": [
    "### 2) Classes of codes. Consider the code {0, 01}.\n",
    "- a) Is it prefix code?\n",
    "- b) Is it uniquely decodable?\n",
    "- c) It it nonsingular?"
   ]
  },
  {
   "cell_type": "markdown",
   "metadata": {},
   "source": [
    "### 3) Optimal word lengths.\n",
    "- a) Can l=(1, 2, 2) be the word lengths of a binary Huffman code?\n",
    "- a) Can l=(2, 2, 3, 3) be the word lengths of a binary Huffman code?"
   ]
  },
  {
   "cell_type": "markdown",
   "metadata": {},
   "source": [
    "## (7pt) Programming Assignment\n",
    "- Implement Huffman encoding - build a Huffman tree and encode the file.\n",
    "- Use the same tree for decoding.\n",
    "- Use the same files as in Exercise 1\n",
    "- Compare the resulting compression to the entropy.\n",
    "- Do not generate bits, string of 0s and 1s are sufficient."
   ]
  },
  {
   "cell_type": "code",
   "execution_count": 1,
   "metadata": {},
   "outputs": [],
   "source": [
    "import os\n",
    "import sys\n",
    "\n",
    "def adding_module_path():\n",
    "    module_path = os.path.abspath(os.path.sep.join([\"..\"]*2))\n",
    "\n",
    "    if module_path not in sys.path:\n",
    "        sys.path.append(module_path)\n",
    "\n",
    "adding_module_path()"
   ]
  },
  {
   "cell_type": "code",
   "execution_count": 85,
   "metadata": {},
   "outputs": [],
   "source": [
    "from src.load_data import get_dataset\n",
    "from src.load_data import DataSets\n",
    "from src.get_probs import get_sorted_probs_as_df\n",
    "import numpy as np\n",
    "import pandas as pd"
   ]
  },
  {
   "cell_type": "code",
   "execution_count": 3,
   "metadata": {},
   "outputs": [
    {
     "name": "stdout",
     "output_type": "stream",
     "text": [
      "Loading C://Users//proko//Desktop//University//iv//aks//datasets\\dna\\dna.50MB\n"
     ]
    }
   ],
   "source": [
    "data_dna = get_dataset(DataSets.dna)"
   ]
  },
  {
   "cell_type": "code",
   "execution_count": 4,
   "metadata": {},
   "outputs": [
    {
     "name": "stdout",
     "output_type": "stream",
     "text": [
      "Calculating freqs\n",
      "End of calculating 8.338574409484863\n",
      "Calculating probs\n",
      "End of calculating 0.0009951591491699219\n"
     ]
    }
   ],
   "source": [
    "sorted_df = get_sorted_probs_as_df(data_dna)"
   ]
  },
  {
   "cell_type": "code",
   "execution_count": 6,
   "metadata": {},
   "outputs": [
    {
     "data": {
      "text/html": [
       "<div>\n",
       "<style scoped>\n",
       "    .dataframe tbody tr th:only-of-type {\n",
       "        vertical-align: middle;\n",
       "    }\n",
       "\n",
       "    .dataframe tbody tr th {\n",
       "        vertical-align: top;\n",
       "    }\n",
       "\n",
       "    .dataframe thead th {\n",
       "        text-align: right;\n",
       "    }\n",
       "</style>\n",
       "<table border=\"1\" class=\"dataframe\">\n",
       "  <thead>\n",
       "    <tr style=\"text-align: right;\">\n",
       "      <th></th>\n",
       "      <th>0</th>\n",
       "    </tr>\n",
       "  </thead>\n",
       "  <tbody>\n",
       "    <tr>\n",
       "      <th>A</th>\n",
       "      <td>2.899787e-01</td>\n",
       "    </tr>\n",
       "    <tr>\n",
       "      <th>T</th>\n",
       "      <td>2.897280e-01</td>\n",
       "    </tr>\n",
       "    <tr>\n",
       "      <th>C</th>\n",
       "      <td>2.102979e-01</td>\n",
       "    </tr>\n",
       "    <tr>\n",
       "      <th>G</th>\n",
       "      <td>2.099745e-01</td>\n",
       "    </tr>\n",
       "    <tr>\n",
       "      <th>N</th>\n",
       "      <td>8.907318e-06</td>\n",
       "    </tr>\n",
       "    <tr>\n",
       "      <th>\\n</th>\n",
       "      <td>6.408691e-06</td>\n",
       "    </tr>\n",
       "    <tr>\n",
       "      <th>R</th>\n",
       "      <td>1.296997e-06</td>\n",
       "    </tr>\n",
       "    <tr>\n",
       "      <th>Y</th>\n",
       "      <td>1.087189e-06</td>\n",
       "    </tr>\n",
       "    <tr>\n",
       "      <th>K</th>\n",
       "      <td>8.773804e-07</td>\n",
       "    </tr>\n",
       "    <tr>\n",
       "      <th>W</th>\n",
       "      <td>8.583069e-07</td>\n",
       "    </tr>\n",
       "    <tr>\n",
       "      <th>S</th>\n",
       "      <td>6.294250e-07</td>\n",
       "    </tr>\n",
       "    <tr>\n",
       "      <th>M</th>\n",
       "      <td>5.912781e-07</td>\n",
       "    </tr>\n",
       "    <tr>\n",
       "      <th>V</th>\n",
       "      <td>5.722046e-08</td>\n",
       "    </tr>\n",
       "    <tr>\n",
       "      <th>H</th>\n",
       "      <td>3.814697e-08</td>\n",
       "    </tr>\n",
       "    <tr>\n",
       "      <th>D</th>\n",
       "      <td>1.907349e-08</td>\n",
       "    </tr>\n",
       "    <tr>\n",
       "      <th>B</th>\n",
       "      <td>1.907349e-08</td>\n",
       "    </tr>\n",
       "  </tbody>\n",
       "</table>\n",
       "</div>"
      ],
      "text/plain": [
       "               0\n",
       "A   2.899787e-01\n",
       "T   2.897280e-01\n",
       "C   2.102979e-01\n",
       "G   2.099745e-01\n",
       "N   8.907318e-06\n",
       "\\n  6.408691e-06\n",
       "R   1.296997e-06\n",
       "Y   1.087189e-06\n",
       "K   8.773804e-07\n",
       "W   8.583069e-07\n",
       "S   6.294250e-07\n",
       "M   5.912781e-07\n",
       "V   5.722046e-08\n",
       "H   3.814697e-08\n",
       "D   1.907349e-08\n",
       "B   1.907349e-08"
      ]
     },
     "execution_count": 6,
     "metadata": {},
     "output_type": "execute_result"
    }
   ],
   "source": [
    "sorted_df"
   ]
  },
  {
   "cell_type": "code",
   "execution_count": 53,
   "metadata": {},
   "outputs": [],
   "source": [
    "class Node:\n",
    "    def __init__(self, parent=None, left=None, right=None, prob=None, label=None):\n",
    "        self.left = left\n",
    "        self.right = right\n",
    "        self.parent = parent\n",
    "        self.prob = prob\n",
    "        self.label = label\n",
    "\n",
    "    def __str__(self):\n",
    "        return f\"{self.label} -- {self.prob}\""
   ]
  },
  {
   "cell_type": "code",
   "execution_count": 80,
   "metadata": {},
   "outputs": [],
   "source": [
    "def process_node(node, alphabet, codeword = \"\"):\n",
    "    if len(node.label) == 1:\n",
    "        alphabet[node.label] = codeword\n",
    "\n",
    "    if node.right is not None:\n",
    "        process_node(node.right, alphabet, codeword + \"1\")\n",
    "\n",
    "    if node.left is not None:\n",
    "        process_node(node.left, alphabet, codeword + \"0\")"
   ]
  },
  {
   "cell_type": "code",
   "execution_count": 83,
   "metadata": {},
   "outputs": [],
   "source": [
    "def build_encoding_table(tree):\n",
    "    table = {}\n",
    "    process_node(tree.root, table, \"\")\n",
    "    return table"
   ]
  },
  {
   "cell_type": "code",
   "execution_count": 136,
   "metadata": {},
   "outputs": [],
   "source": [
    "class HuffmanTree:\n",
    "    def __init__(self):\n",
    "        pass\n",
    "\n",
    "    def get_char_encodings(self, alphabet):\n",
    "        res = {}\n",
    "\n",
    "        self.root\n",
    "\n",
    "\n",
    "    def print_node(self, node, level):\n",
    "        tabs = \"\\t\" * level\n",
    "        print(f'{tabs} {node}')\n",
    "\n",
    "        if node.left is not None:\n",
    "            self.print_node(node.left, level+1)\n",
    "\n",
    "        if node.right is not None:\n",
    "            self.print_node(node.right, level+1)\n",
    "\n",
    "\n",
    "    def print_tree(self):\n",
    "        self.print_node(self.root, 0)\n",
    "\n",
    "\n",
    "    def get_left_right(self, last_two):\n",
    "        left_label = last_two[0][0]\n",
    "        left_prob = last_two[0][1]\n",
    "\n",
    "        right_label = last_two[1][0]\n",
    "        right_prob = last_two[1][1]\n",
    "\n",
    "        left, right = list(sorted([(left_label, left_prob), (right_label, right_prob)], key=lambda item: len(item[0])))\n",
    "\n",
    "        left_label = left[0]\n",
    "        left_prob = left[1]\n",
    "\n",
    "        right_label = right[0]\n",
    "        right_prob = right[1]\n",
    "\n",
    "        return left_label, left_prob, right_label, right_prob\n",
    "\n",
    "    def get_nodes(self, existing_nodes, last_two):\n",
    "        left, right, parent = None, None, None\n",
    "\n",
    "        left_label = last_two[0][0]\n",
    "        left_prob = last_two[0][1]\n",
    "\n",
    "        right_label = last_two[1][0]\n",
    "        right_prob = last_two[1][0]\n",
    "\n",
    "\n",
    "        left_label, left_prob, right_label, right_prob = self.get_left_right(last_two)\n",
    "\n",
    "        if left_label in existing_nodes:\n",
    "            left = existing_nodes[left_label]\n",
    "        else:\n",
    "            left = Node(None, None, None, left_prob, left_label)\n",
    "            existing_nodes[left_label] = left\n",
    "\n",
    "\n",
    "        if right_label in existing_nodes:\n",
    "            right = existing_nodes[right_label]\n",
    "        else:\n",
    "            right = Node(None, None, None, right_prob, right_label)\n",
    "            existing_nodes[right_label] = right\n",
    "\n",
    "        new_node_label = \"\".join(list(sorted([i[0] for i in last_two])))\n",
    "        new_node_prob = np.sum([i[1] for i in last_two])\n",
    "\n",
    "        parent = Node(None, left, right, new_node_prob, new_node_label)\n",
    "        existing_nodes[new_node_label] = parent\n",
    "        left.parent = parent\n",
    "        right.parent = parent\n",
    "\n",
    "        return left, right, parent\n",
    "\n",
    "    def build_tree(self, data):\n",
    "        #sort by probability\n",
    "        sorted_df = get_sorted_probs_as_df(data_dna)\n",
    "\n",
    "        dic = sorted_df.to_dict()[0]\n",
    "        existing_nodes = {}\n",
    "        parent = None\n",
    "\n",
    "        while len(list(dic.keys())) >= 2:\n",
    "            sorted_dic = sorted(dic.items(), key=lambda item: item[1], reverse=False)\n",
    "            last_two = sorted_dic[0:2]\n",
    "            \n",
    "            left, right, parent = self.get_nodes(existing_nodes, last_two)\n",
    "\n",
    "\n",
    "            new_dic = sorted_dic.copy()\n",
    "\n",
    "            del new_dic[0:2]\n",
    "\n",
    "\n",
    "            new_dic = dict(new_dic) \n",
    "            new_dic[parent.label] = parent.prob\n",
    "\n",
    "            dic = new_dic\n",
    "        \n",
    "        self.root = parent\n",
    "\n",
    "    def decode_binary(self, binary_text):\n",
    "\n",
    "        pass\n",
    "        #binary text\n",
    "\n",
    "        #go over tree\n",
    "\n",
    "        #if leaf return char\n",
    "\n",
    "\n",
    "    def encode_char(self, char):\n",
    "        #get builded tree\n",
    "\n",
    "        #go over tree\n",
    "\n",
    "        #if leaf return binary\n",
    "        pass\n",
    "\n",
    "    \n",
    "    def encode(self, data):\n",
    "        #iterate over char and create long string\n",
    "        table = build_encoding_table(self)\n",
    "        encoded = \"\"\n",
    "        for c in data:\n",
    "            encoded += table[c]\n",
    "        return encoded\n",
    "\n",
    "    def decode(self, data):\n",
    "        decoded = \"\"\n",
    "        #iterate over stream and get all decoded values\n",
    "        ptr = self.root\n",
    "\n",
    "        for bit in data:\n",
    "            if 1 == len(ptr.label):\n",
    "                decoded += ptr.label\n",
    "                ptr = self.root\n",
    "\n",
    "            if bit == '1':\n",
    "                ptr = ptr.right\n",
    "\n",
    "            if bit == '0':\n",
    "                ptr = ptr.left\n",
    "        \n",
    "        decoded += ptr.label\n",
    "        \n",
    "        return decoded"
   ]
  },
  {
   "cell_type": "code",
   "execution_count": 137,
   "metadata": {},
   "outputs": [],
   "source": [
    "tree = HuffmanTree()"
   ]
  },
  {
   "cell_type": "code",
   "execution_count": 138,
   "metadata": {},
   "outputs": [
    {
     "name": "stdout",
     "output_type": "stream",
     "text": [
      "Calculating freqs\n",
      "End of calculating 8.775429010391235\n",
      "Calculating probs\n",
      "End of calculating 0.0\n"
     ]
    }
   ],
   "source": [
    "tree.build_tree(data_dna)"
   ]
  },
  {
   "cell_type": "code",
   "execution_count": 139,
   "metadata": {},
   "outputs": [
    {
     "name": "stdout",
     "output_type": "stream",
     "text": [
      "\n",
      "BDHVMSKWRYNGCAT -- 1.0\n"
     ]
    }
   ],
   "source": [
    "print(tree.root)"
   ]
  },
  {
   "cell_type": "code",
   "execution_count": 140,
   "metadata": {},
   "outputs": [
    {
     "data": {
      "text/plain": [
       "'GATCAATGAG'"
      ]
     },
     "execution_count": 140,
     "metadata": {},
     "output_type": "execute_result"
    }
   ],
   "source": [
    "test = data_dna[0:10]\n",
    "test"
   ]
  },
  {
   "cell_type": "code",
   "execution_count": 141,
   "metadata": {},
   "outputs": [
    {
     "data": {
      "text/plain": [
       "'11001001001010011001110'"
      ]
     },
     "execution_count": 141,
     "metadata": {},
     "output_type": "execute_result"
    }
   ],
   "source": [
    "encoded_data = tree.encode(test)\n",
    "encoded_data"
   ]
  },
  {
   "cell_type": "code",
   "execution_count": 142,
   "metadata": {},
   "outputs": [
    {
     "data": {
      "text/plain": [
       "'11001001001010011001110'"
      ]
     },
     "execution_count": 142,
     "metadata": {},
     "output_type": "execute_result"
    }
   ],
   "source": [
    "encoded_data"
   ]
  },
  {
   "cell_type": "code",
   "execution_count": 143,
   "metadata": {},
   "outputs": [
    {
     "data": {
      "text/plain": [
       "'GATCAATGAG'"
      ]
     },
     "execution_count": 143,
     "metadata": {},
     "output_type": "execute_result"
    }
   ],
   "source": [
    "decoded_data = tree.decode(encoded_data)\n",
    "decoded_data"
   ]
  },
  {
   "cell_type": "code",
   "execution_count": 84,
   "metadata": {},
   "outputs": [],
   "source": [
    "table = build_encoding_table(tree)"
   ]
  },
  {
   "cell_type": "code",
   "execution_count": 92,
   "metadata": {},
   "outputs": [
    {
     "name": "stdout",
     "output_type": "stream",
     "text": [
      "AT -- 0.5797067642211914\n"
     ]
    }
   ],
   "source": [
    "print(tree.root.right)"
   ]
  },
  {
   "cell_type": "code",
   "execution_count": 93,
   "metadata": {},
   "outputs": [
    {
     "name": "stdout",
     "output_type": "stream",
     "text": [
      "\n",
      "BDHVMSKWRYNGC -- 0.4202932357788086\n"
     ]
    }
   ],
   "source": [
    "print(tree.root.left)"
   ]
  },
  {
   "cell_type": "code",
   "execution_count": 88,
   "metadata": {},
   "outputs": [
    {
     "data": {
      "text/html": [
       "<div>\n",
       "<style scoped>\n",
       "    .dataframe tbody tr th:only-of-type {\n",
       "        vertical-align: middle;\n",
       "    }\n",
       "\n",
       "    .dataframe tbody tr th {\n",
       "        vertical-align: top;\n",
       "    }\n",
       "\n",
       "    .dataframe thead th {\n",
       "        text-align: right;\n",
       "    }\n",
       "</style>\n",
       "<table border=\"1\" class=\"dataframe\">\n",
       "  <thead>\n",
       "    <tr style=\"text-align: right;\">\n",
       "      <th></th>\n",
       "      <th>0</th>\n",
       "    </tr>\n",
       "  </thead>\n",
       "  <tbody>\n",
       "    <tr>\n",
       "      <th>A</th>\n",
       "      <td>11</td>\n",
       "    </tr>\n",
       "    <tr>\n",
       "      <th>T</th>\n",
       "      <td>10</td>\n",
       "    </tr>\n",
       "    <tr>\n",
       "      <th>C</th>\n",
       "      <td>01</td>\n",
       "    </tr>\n",
       "    <tr>\n",
       "      <th>G</th>\n",
       "      <td>001</td>\n",
       "    </tr>\n",
       "    <tr>\n",
       "      <th>\\n</th>\n",
       "      <td>00011</td>\n",
       "    </tr>\n",
       "    <tr>\n",
       "      <th>K</th>\n",
       "      <td>00010111</td>\n",
       "    </tr>\n",
       "    <tr>\n",
       "      <th>W</th>\n",
       "      <td>00010110</td>\n",
       "    </tr>\n",
       "    <tr>\n",
       "      <th>M</th>\n",
       "      <td>000101011</td>\n",
       "    </tr>\n",
       "    <tr>\n",
       "      <th>B</th>\n",
       "      <td>000101010111</td>\n",
       "    </tr>\n",
       "    <tr>\n",
       "      <th>D</th>\n",
       "      <td>000101010110</td>\n",
       "    </tr>\n",
       "    <tr>\n",
       "      <th>H</th>\n",
       "      <td>00010101010</td>\n",
       "    </tr>\n",
       "    <tr>\n",
       "      <th>V</th>\n",
       "      <td>0001010100</td>\n",
       "    </tr>\n",
       "    <tr>\n",
       "      <th>S</th>\n",
       "      <td>00010100</td>\n",
       "    </tr>\n",
       "    <tr>\n",
       "      <th>R</th>\n",
       "      <td>0001001</td>\n",
       "    </tr>\n",
       "    <tr>\n",
       "      <th>Y</th>\n",
       "      <td>0001000</td>\n",
       "    </tr>\n",
       "    <tr>\n",
       "      <th>N</th>\n",
       "      <td>0000</td>\n",
       "    </tr>\n",
       "  </tbody>\n",
       "</table>\n",
       "</div>"
      ],
      "text/plain": [
       "               0\n",
       "A             11\n",
       "T             10\n",
       "C             01\n",
       "G            001\n",
       "\\n         00011\n",
       "K       00010111\n",
       "W       00010110\n",
       "M      000101011\n",
       "B   000101010111\n",
       "D   000101010110\n",
       "H    00010101010\n",
       "V     0001010100\n",
       "S       00010100\n",
       "R        0001001\n",
       "Y        0001000\n",
       "N           0000"
      ]
     },
     "execution_count": 88,
     "metadata": {},
     "output_type": "execute_result"
    }
   ],
   "source": [
    "pd.DataFrame.from_dict(table, orient='index')"
   ]
  },
  {
   "cell_type": "code",
   "execution_count": null,
   "metadata": {},
   "outputs": [],
   "source": []
  }
 ],
 "metadata": {
  "interpreter": {
   "hash": "2a094b558792df53015a06eccbeeb156f6e89f526088fb771785a5b12806cace"
  },
  "kernelspec": {
   "display_name": "Python 3.8.6rc1 ('venv': venv)",
   "language": "python",
   "name": "python3"
  },
  "language_info": {
   "codemirror_mode": {
    "name": "ipython",
    "version": 3
   },
   "file_extension": ".py",
   "mimetype": "text/x-python",
   "name": "python",
   "nbconvert_exporter": "python",
   "pygments_lexer": "ipython3",
   "version": "3.8.6rc1"
  },
  "orig_nbformat": 4
 },
 "nbformat": 4,
 "nbformat_minor": 2
}
