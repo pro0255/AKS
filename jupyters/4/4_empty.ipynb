{
 "cells": [
  {
   "cell_type": "markdown",
   "metadata": {},
   "source": [
    "# 9.3. Statistical Coding - 10 points"
   ]
  },
  {
   "cell_type": "markdown",
   "metadata": {},
   "source": [
    "## (3pt) Answer these question:"
   ]
  },
  {
   "cell_type": "markdown",
   "metadata": {},
   "source": [
    "### 1) Which of these codes cannot be Huffman codes for any probability assignment and why?\n",
    "\n",
    "- a) {0, 10, 11}\n",
    "- b) {00, 01, 10, 110}\n",
    "- c) {01, 10}"
   ]
  },
  {
   "cell_type": "markdown",
   "metadata": {},
   "source": [
    "### 2) Classes of codes. Consider the code {0, 01}.\n",
    "- a) Is it prefix code?\n",
    "- b) Is it uniquely decodable?\n",
    "- c) It it nonsingular?"
   ]
  },
  {
   "cell_type": "markdown",
   "metadata": {},
   "source": [
    "### 3) Optimal word lengths.\n",
    "- a) Can l=(1, 2, 2) be the word lengths of a binary Huffman code?\n",
    "- a) Can l=(2, 2, 3, 3) be the word lengths of a binary Huffman code?"
   ]
  },
  {
   "cell_type": "markdown",
   "metadata": {},
   "source": [
    "## (7pt) Programming Assignment\n",
    "- Implement Huffman encoding - build a Huffman tree and encode the file.\n",
    "- Use the same tree for decoding.\n",
    "- Use the same files as in Exercise 1\n",
    "- Compare the resulting compression to the entropy.\n",
    "- Do not generate bits, string of 0s and 1s are sufficient."
   ]
  },
  {
   "cell_type": "code",
   "execution_count": 3,
   "metadata": {},
   "outputs": [],
   "source": [
    "class HuffmanTree:\n",
    "    def __init__(self):\n",
    "        pass\n",
    "\n",
    "\n",
    "    def build_tree(self, data):\n",
    "        #sort by probability\n",
    "\n",
    "        #get last 2 elements\n",
    "\n",
    "        #connect\n",
    "\n",
    "        #new node add to list\n",
    "\n",
    "        #sort by probability\n",
    "\n",
    "        #get last 2 elements\n",
    "\n",
    "        #...\n",
    "\n",
    "\n",
    "        #creation of tree\n",
    "        #tree is builded from bottom to up -> optimal code\n",
    "        pass\n",
    "\n",
    "    def decode_binary(self, binary_text):\n",
    "        pass\n",
    "        #binary text\n",
    "\n",
    "        #go over tree\n",
    "\n",
    "        #if leaf return char\n",
    "\n",
    "\n",
    "    def encode_char(self, char):\n",
    "        #get builded tree\n",
    "\n",
    "        #go over tree\n",
    "\n",
    "        #if leaf return binary\n",
    "        pass\n",
    "\n",
    "    \n",
    "    def encode(self, data):\n",
    "        #iterate over char and create long string\n",
    "\n",
    "        #call encode char\n",
    "        pass\n",
    "\n",
    "    def decode(self, data):\n",
    "        #iterate over stream and get all decoded values\n",
    "\n",
    "        #call decode binary\n",
    "        pass"
   ]
  },
  {
   "cell_type": "code",
   "execution_count": 2,
   "metadata": {},
   "outputs": [],
   "source": [
    "tree = HuffmanTree()"
   ]
  },
  {
   "cell_type": "code",
   "execution_count": null,
   "metadata": {},
   "outputs": [],
   "source": []
  }
 ],
 "metadata": {
  "interpreter": {
   "hash": "2a094b558792df53015a06eccbeeb156f6e89f526088fb771785a5b12806cace"
  },
  "kernelspec": {
   "display_name": "Python 3.8.6rc1 ('venv': venv)",
   "language": "python",
   "name": "python3"
  },
  "language_info": {
   "codemirror_mode": {
    "name": "ipython",
    "version": 3
   },
   "file_extension": ".py",
   "mimetype": "text/x-python",
   "name": "python",
   "nbconvert_exporter": "python",
   "pygments_lexer": "ipython3",
   "version": "3.8.6rc1"
  },
  "orig_nbformat": 4
 },
 "nbformat": 4,
 "nbformat_minor": 2
}
