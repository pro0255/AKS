{
 "cells": [
  {
   "cell_type": "markdown",
   "metadata": {},
   "source": [
    "# 9.3. Statistical Coding - 10 points"
   ]
  },
  {
   "cell_type": "markdown",
   "metadata": {},
   "source": [
    "## (3pt) Answer these question:"
   ]
  },
  {
   "cell_type": "markdown",
   "metadata": {},
   "source": [
    "### 1) Which of these codes cannot be Huffman codes for any probability assignment and why?\n",
    "\n",
    "- a) {0, 10, 11}\n",
    "- b) {00, 01, 10, 110}\n",
    "- c) {01, 10}"
   ]
  },
  {
   "cell_type": "markdown",
   "metadata": {},
   "source": [
    "### 2) Classes of codes. Consider the code {0, 01}.\n",
    "- a) Is it prefix code?\n",
    "- b) Is it uniquely decodable?\n",
    "- c) It it nonsingular?"
   ]
  },
  {
   "cell_type": "markdown",
   "metadata": {},
   "source": [
    "### 3) Optimal word lengths.\n",
    "- a) Can l=(1, 2, 2) be the word lengths of a binary Huffman code?\n",
    "- a) Can l=(2, 2, 3, 3) be the word lengths of a binary Huffman code?"
   ]
  },
  {
   "cell_type": "markdown",
   "metadata": {},
   "source": [
    "## (7pt) Programming Assignment\n",
    "- Implement Huffman encoding - build a Huffman tree and encode the file.\n",
    "- Use the same tree for decoding.\n",
    "- Use the same files as in Exercise 1\n",
    "- Compare the resulting compression to the entropy.\n",
    "- Do not generate bits, string of 0s and 1s are sufficient."
   ]
  },
  {
   "cell_type": "markdown",
   "metadata": {},
   "source": []
  }
 ],
 "metadata": {
  "language_info": {
   "name": "python"
  },
  "orig_nbformat": 4
 },
 "nbformat": 4,
 "nbformat_minor": 2
}
