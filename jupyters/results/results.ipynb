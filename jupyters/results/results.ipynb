{
 "cells": [
  {
   "cell_type": "markdown",
   "metadata": {},
   "source": [
    "# Results comparison"
   ]
  },
  {
   "cell_type": "code",
   "execution_count": 1,
   "metadata": {},
   "outputs": [],
   "source": [
    "import os\n",
    "import sys\n",
    "\n",
    "def adding_module_path():\n",
    "    module_path = os.path.abspath(os.path.sep.join([\"..\"]*2))\n",
    "\n",
    "    if module_path not in sys.path:\n",
    "        sys.path.append(module_path)\n",
    "\n",
    "adding_module_path()"
   ]
  },
  {
   "cell_type": "code",
   "execution_count": 2,
   "metadata": {},
   "outputs": [],
   "source": [
    "from src.config import SUBSET_FILENAME\n",
    "import os\n",
    "import pandas as pd"
   ]
  },
  {
   "cell_type": "code",
   "execution_count": 3,
   "metadata": {},
   "outputs": [],
   "source": [
    "FILENAME_NAME = SUBSET_FILENAME\n",
    "DIRECTORY = '..//..//jupyters'"
   ]
  },
  {
   "cell_type": "code",
   "execution_count": 4,
   "metadata": {},
   "outputs": [],
   "source": [
    "res = pd.DataFrame()"
   ]
  },
  {
   "cell_type": "code",
   "execution_count": 5,
   "metadata": {},
   "outputs": [
    {
     "name": "stdout",
     "output_type": "stream",
     "text": [
      "Error occurred in ..//..//jupyters\\1\\subset.csv\n",
      "Error occurred in ..//..//jupyters\\3\\subset.csv\n",
      "Error occurred in ..//..//jupyters\\results\\subset.csv\n"
     ]
    },
    {
     "name": "stderr",
     "output_type": "stream",
     "text": [
      "c:\\Users\\proko\\Desktop\\University\\iv\\aks\\venv\\lib\\site-packages\\IPython\\core\\interactiveshell.py:3251: FutureWarning: In a future version of pandas all arguments of read_csv except for the argument 'filepath_or_buffer' will be keyword-only.\n",
      "  exec(code_obj, self.user_global_ns, self.user_ns)\n",
      "c:\\Users\\proko\\Desktop\\University\\iv\\aks\\venv\\lib\\site-packages\\IPython\\core\\interactiveshell.py:3251: FutureWarning: In a future version of pandas all arguments of read_csv except for the argument 'filepath_or_buffer' will be keyword-only.\n",
      "  exec(code_obj, self.user_global_ns, self.user_ns)\n",
      "c:\\Users\\proko\\Desktop\\University\\iv\\aks\\venv\\lib\\site-packages\\IPython\\core\\interactiveshell.py:3251: FutureWarning: In a future version of pandas all arguments of read_csv except for the argument 'filepath_or_buffer' will be keyword-only.\n",
      "  exec(code_obj, self.user_global_ns, self.user_ns)\n"
     ]
    }
   ],
   "source": [
    "for sub in os.listdir(DIRECTORY):\n",
    "    path = os.path.sep.join([DIRECTORY, sub, SUBSET_FILENAME])\n",
    "    try:\n",
    "        current = pd.read_csv(path, ';')\n",
    "        res = pd.concat([res, current])\n",
    "    except Exception as e:\n",
    "        print(f\"Error occurred in {path}\")\n"
   ]
  },
  {
   "cell_type": "code",
   "execution_count": 6,
   "metadata": {},
   "outputs": [
    {
     "data": {
      "text/html": [
       "<div>\n",
       "<style scoped>\n",
       "    .dataframe tbody tr th:only-of-type {\n",
       "        vertical-align: middle;\n",
       "    }\n",
       "\n",
       "    .dataframe tbody tr th {\n",
       "        vertical-align: top;\n",
       "    }\n",
       "\n",
       "    .dataframe thead th {\n",
       "        text-align: right;\n",
       "    }\n",
       "</style>\n",
       "<table border=\"1\" class=\"dataframe\">\n",
       "  <thead>\n",
       "    <tr style=\"text-align: right;\">\n",
       "      <th></th>\n",
       "      <th>Path</th>\n",
       "      <th>Parameter</th>\n",
       "      <th>Type</th>\n",
       "      <th>Original</th>\n",
       "      <th>Aprox</th>\n",
       "      <th>Calculation</th>\n",
       "      <th>Name</th>\n",
       "    </tr>\n",
       "  </thead>\n",
       "  <tbody>\n",
       "    <tr>\n",
       "      <th>0</th>\n",
       "      <td>C://Users//proko//Desktop//University//iv//aks...</td>\n",
       "      <td>1.0</td>\n",
       "      <td>1-Entropy</td>\n",
       "      <td>419430400</td>\n",
       "      <td>1.014456e+08</td>\n",
       "      <td>50.299364</td>\n",
       "      <td>dna</td>\n",
       "    </tr>\n",
       "    <tr>\n",
       "      <th>1</th>\n",
       "      <td>C://Users//proko//Desktop//University//iv//aks...</td>\n",
       "      <td>2.0</td>\n",
       "      <td>2-Entropy</td>\n",
       "      <td>419430400</td>\n",
       "      <td>1.008999e+08</td>\n",
       "      <td>61.875355</td>\n",
       "      <td>dna</td>\n",
       "    </tr>\n",
       "    <tr>\n",
       "      <th>2</th>\n",
       "      <td>C://Users//proko//Desktop//University//iv//aks...</td>\n",
       "      <td>3.0</td>\n",
       "      <td>3-Entropy</td>\n",
       "      <td>419430400</td>\n",
       "      <td>1.006415e+08</td>\n",
       "      <td>65.436517</td>\n",
       "      <td>dna</td>\n",
       "    </tr>\n",
       "    <tr>\n",
       "      <th>3</th>\n",
       "      <td>C://Users//proko//Desktop//University//iv//aks...</td>\n",
       "      <td>4.0</td>\n",
       "      <td>4-Entropy</td>\n",
       "      <td>419430400</td>\n",
       "      <td>1.002885e+08</td>\n",
       "      <td>65.301906</td>\n",
       "      <td>dna</td>\n",
       "    </tr>\n",
       "    <tr>\n",
       "      <th>4</th>\n",
       "      <td>C://Users//proko//Desktop//University//iv//aks...</td>\n",
       "      <td>5.0</td>\n",
       "      <td>5-Entropy</td>\n",
       "      <td>419430400</td>\n",
       "      <td>9.979306e+07</td>\n",
       "      <td>61.107864</td>\n",
       "      <td>dna</td>\n",
       "    </tr>\n",
       "    <tr>\n",
       "      <th>5</th>\n",
       "      <td>C://Users//proko//Desktop//University//iv//aks...</td>\n",
       "      <td>1.0</td>\n",
       "      <td>1-Entropy</td>\n",
       "      <td>419430400</td>\n",
       "      <td>1.890838e+08</td>\n",
       "      <td>49.750874</td>\n",
       "      <td>english</td>\n",
       "    </tr>\n",
       "    <tr>\n",
       "      <th>6</th>\n",
       "      <td>C://Users//proko//Desktop//University//iv//aks...</td>\n",
       "      <td>2.0</td>\n",
       "      <td>2-Entropy</td>\n",
       "      <td>419430400</td>\n",
       "      <td>1.531843e+08</td>\n",
       "      <td>65.771558</td>\n",
       "      <td>english</td>\n",
       "    </tr>\n",
       "    <tr>\n",
       "      <th>7</th>\n",
       "      <td>C://Users//proko//Desktop//University//iv//aks...</td>\n",
       "      <td>3.0</td>\n",
       "      <td>3-Entropy</td>\n",
       "      <td>419430400</td>\n",
       "      <td>1.250720e+08</td>\n",
       "      <td>83.275140</td>\n",
       "      <td>english</td>\n",
       "    </tr>\n",
       "    <tr>\n",
       "      <th>8</th>\n",
       "      <td>C://Users//proko//Desktop//University//iv//aks...</td>\n",
       "      <td>4.0</td>\n",
       "      <td>4-Entropy</td>\n",
       "      <td>419430400</td>\n",
       "      <td>1.055135e+08</td>\n",
       "      <td>98.897889</td>\n",
       "      <td>english</td>\n",
       "    </tr>\n",
       "    <tr>\n",
       "      <th>9</th>\n",
       "      <td>C://Users//proko//Desktop//University//iv//aks...</td>\n",
       "      <td>5.0</td>\n",
       "      <td>5-Entropy</td>\n",
       "      <td>419430400</td>\n",
       "      <td>9.247546e+07</td>\n",
       "      <td>115.466281</td>\n",
       "      <td>english</td>\n",
       "    </tr>\n",
       "    <tr>\n",
       "      <th>0</th>\n",
       "      <td>C://Users//proko//Desktop//University//iv//aks...</td>\n",
       "      <td>NaN</td>\n",
       "      <td>Huffman</td>\n",
       "      <td>419430400</td>\n",
       "      <td>1.158699e+08</td>\n",
       "      <td>659.244783</td>\n",
       "      <td>dna</td>\n",
       "    </tr>\n",
       "    <tr>\n",
       "      <th>1</th>\n",
       "      <td>C://Users//proko//Desktop//University//iv//aks...</td>\n",
       "      <td>NaN</td>\n",
       "      <td>Huffman</td>\n",
       "      <td>419430400</td>\n",
       "      <td>2.393345e+08</td>\n",
       "      <td>2642.633590</td>\n",
       "      <td>english</td>\n",
       "    </tr>\n",
       "  </tbody>\n",
       "</table>\n",
       "</div>"
      ],
      "text/plain": [
       "                                                Path  Parameter       Type  \\\n",
       "0  C://Users//proko//Desktop//University//iv//aks...        1.0  1-Entropy   \n",
       "1  C://Users//proko//Desktop//University//iv//aks...        2.0  2-Entropy   \n",
       "2  C://Users//proko//Desktop//University//iv//aks...        3.0  3-Entropy   \n",
       "3  C://Users//proko//Desktop//University//iv//aks...        4.0  4-Entropy   \n",
       "4  C://Users//proko//Desktop//University//iv//aks...        5.0  5-Entropy   \n",
       "5  C://Users//proko//Desktop//University//iv//aks...        1.0  1-Entropy   \n",
       "6  C://Users//proko//Desktop//University//iv//aks...        2.0  2-Entropy   \n",
       "7  C://Users//proko//Desktop//University//iv//aks...        3.0  3-Entropy   \n",
       "8  C://Users//proko//Desktop//University//iv//aks...        4.0  4-Entropy   \n",
       "9  C://Users//proko//Desktop//University//iv//aks...        5.0  5-Entropy   \n",
       "0  C://Users//proko//Desktop//University//iv//aks...        NaN    Huffman   \n",
       "1  C://Users//proko//Desktop//University//iv//aks...        NaN    Huffman   \n",
       "\n",
       "    Original         Aprox  Calculation     Name  \n",
       "0  419430400  1.014456e+08    50.299364      dna  \n",
       "1  419430400  1.008999e+08    61.875355      dna  \n",
       "2  419430400  1.006415e+08    65.436517      dna  \n",
       "3  419430400  1.002885e+08    65.301906      dna  \n",
       "4  419430400  9.979306e+07    61.107864      dna  \n",
       "5  419430400  1.890838e+08    49.750874  english  \n",
       "6  419430400  1.531843e+08    65.771558  english  \n",
       "7  419430400  1.250720e+08    83.275140  english  \n",
       "8  419430400  1.055135e+08    98.897889  english  \n",
       "9  419430400  9.247546e+07   115.466281  english  \n",
       "0  419430400  1.158699e+08   659.244783      dna  \n",
       "1  419430400  2.393345e+08  2642.633590  english  "
      ]
     },
     "execution_count": 6,
     "metadata": {},
     "output_type": "execute_result"
    }
   ],
   "source": [
    "res"
   ]
  },
  {
   "cell_type": "code",
   "execution_count": null,
   "metadata": {},
   "outputs": [],
   "source": []
  }
 ],
 "metadata": {
  "interpreter": {
   "hash": "2a094b558792df53015a06eccbeeb156f6e89f526088fb771785a5b12806cace"
  },
  "kernelspec": {
   "display_name": "Python 3.8.6rc1 ('venv': venv)",
   "language": "python",
   "name": "python3"
  },
  "language_info": {
   "codemirror_mode": {
    "name": "ipython",
    "version": 3
   },
   "file_extension": ".py",
   "mimetype": "text/x-python",
   "name": "python",
   "nbconvert_exporter": "python",
   "pygments_lexer": "ipython3",
   "version": "3.8.6rc1"
  },
  "orig_nbformat": 4
 },
 "nbformat": 4,
 "nbformat_minor": 2
}
