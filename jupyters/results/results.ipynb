{
 "cells": [
  {
   "cell_type": "markdown",
   "metadata": {},
   "source": [
    "# Results comparison"
   ]
  },
  {
   "cell_type": "code",
   "execution_count": 2,
   "metadata": {},
   "outputs": [],
   "source": [
    "import os\n",
    "import sys\n",
    "\n",
    "def adding_module_path():\n",
    "    module_path = os.path.abspath(os.path.sep.join([\"..\"]*2))\n",
    "\n",
    "    if module_path not in sys.path:\n",
    "        sys.path.append(module_path)\n",
    "\n",
    "adding_module_path()"
   ]
  },
  {
   "cell_type": "code",
   "execution_count": 9,
   "metadata": {},
   "outputs": [],
   "source": [
    "from src.config import SUBSET_FILENAME\n",
    "import os\n",
    "import pandas as pd"
   ]
  },
  {
   "cell_type": "code",
   "execution_count": 10,
   "metadata": {},
   "outputs": [
    {
     "data": {
      "text/plain": [
       "'c:\\\\Users\\\\proko\\\\Desktop\\\\University\\\\iv\\\\aks\\\\jupyters\\\\results'"
      ]
     },
     "execution_count": 10,
     "metadata": {},
     "output_type": "execute_result"
    }
   ],
   "source": [
    "os.getcwd()"
   ]
  },
  {
   "cell_type": "code",
   "execution_count": 11,
   "metadata": {},
   "outputs": [],
   "source": [
    "FILENAME_NAME = SUBSET_FILENAME\n",
    "DIRECTORY = '..//..//jupyters'"
   ]
  },
  {
   "cell_type": "code",
   "execution_count": 12,
   "metadata": {},
   "outputs": [],
   "source": [
    "res = pd.DataFrame()"
   ]
  },
  {
   "cell_type": "code",
   "execution_count": 13,
   "metadata": {},
   "outputs": [
    {
     "name": "stdout",
     "output_type": "stream",
     "text": [
      "Error occurred in ..//..//jupyters\\1\\subset.csv\n",
      "Error occurred in ..//..//jupyters\\2\\subset.csv\n",
      "Error occurred in ..//..//jupyters\\3\\subset.csv\n",
      "Error occurred in ..//..//jupyters\\results\\subset.csv\n"
     ]
    },
    {
     "name": "stderr",
     "output_type": "stream",
     "text": [
      "c:\\Users\\proko\\Desktop\\University\\iv\\aks\\venv\\lib\\site-packages\\IPython\\core\\interactiveshell.py:3251: FutureWarning: In a future version of pandas all arguments of read_csv except for the argument 'filepath_or_buffer' will be keyword-only.\n",
      "  exec(code_obj, self.user_global_ns, self.user_ns)\n",
      "c:\\Users\\proko\\Desktop\\University\\iv\\aks\\venv\\lib\\site-packages\\IPython\\core\\interactiveshell.py:3251: FutureWarning: In a future version of pandas all arguments of read_csv except for the argument 'filepath_or_buffer' will be keyword-only.\n",
      "  exec(code_obj, self.user_global_ns, self.user_ns)\n"
     ]
    }
   ],
   "source": [
    "for sub in os.listdir(DIRECTORY):\n",
    "    path = os.path.sep.join([DIRECTORY, sub, SUBSET_FILENAME])\n",
    "    try:\n",
    "        current = pd.read_csv(path, ';')\n",
    "        res = pd.concat([res, current])\n",
    "    except Exception as e:\n",
    "        print(f\"Error occurred in {path}\")\n"
   ]
  },
  {
   "cell_type": "code",
   "execution_count": 14,
   "metadata": {},
   "outputs": [
    {
     "data": {
      "text/html": [
       "<div>\n",
       "<style scoped>\n",
       "    .dataframe tbody tr th:only-of-type {\n",
       "        vertical-align: middle;\n",
       "    }\n",
       "\n",
       "    .dataframe tbody tr th {\n",
       "        vertical-align: top;\n",
       "    }\n",
       "\n",
       "    .dataframe thead th {\n",
       "        text-align: right;\n",
       "    }\n",
       "</style>\n",
       "<table border=\"1\" class=\"dataframe\">\n",
       "  <thead>\n",
       "    <tr style=\"text-align: right;\">\n",
       "      <th></th>\n",
       "      <th>Unnamed: 0</th>\n",
       "      <th>Path</th>\n",
       "      <th>Parameter</th>\n",
       "      <th>Type</th>\n",
       "      <th>Original</th>\n",
       "      <th>Aprox</th>\n",
       "      <th>Calculation</th>\n",
       "    </tr>\n",
       "  </thead>\n",
       "  <tbody>\n",
       "    <tr>\n",
       "      <th>0</th>\n",
       "      <td>0</td>\n",
       "      <td>C://Users//proko//Desktop//University//iv//aks...</td>\n",
       "      <td>NaN</td>\n",
       "      <td>Huffman</td>\n",
       "      <td>40</td>\n",
       "      <td>11</td>\n",
       "      <td>9.420996</td>\n",
       "    </tr>\n",
       "    <tr>\n",
       "      <th>1</th>\n",
       "      <td>1</td>\n",
       "      <td>C://Users//proko//Desktop//University//iv//aks...</td>\n",
       "      <td>NaN</td>\n",
       "      <td>Huffman</td>\n",
       "      <td>40</td>\n",
       "      <td>25</td>\n",
       "      <td>9.944109</td>\n",
       "    </tr>\n",
       "  </tbody>\n",
       "</table>\n",
       "</div>"
      ],
      "text/plain": [
       "   Unnamed: 0                                               Path  Parameter  \\\n",
       "0           0  C://Users//proko//Desktop//University//iv//aks...        NaN   \n",
       "1           1  C://Users//proko//Desktop//University//iv//aks...        NaN   \n",
       "\n",
       "      Type  Original  Aprox  Calculation  \n",
       "0  Huffman        40     11     9.420996  \n",
       "1  Huffman        40     25     9.944109  "
      ]
     },
     "execution_count": 14,
     "metadata": {},
     "output_type": "execute_result"
    }
   ],
   "source": [
    "res"
   ]
  }
 ],
 "metadata": {
  "interpreter": {
   "hash": "2a094b558792df53015a06eccbeeb156f6e89f526088fb771785a5b12806cace"
  },
  "kernelspec": {
   "display_name": "Python 3.8.6rc1 ('venv': venv)",
   "language": "python",
   "name": "python3"
  },
  "language_info": {
   "codemirror_mode": {
    "name": "ipython",
    "version": 3
   },
   "file_extension": ".py",
   "mimetype": "text/x-python",
   "name": "python",
   "nbconvert_exporter": "python",
   "pygments_lexer": "ipython3",
   "version": "3.8.6rc1"
  },
  "orig_nbformat": 4
 },
 "nbformat": 4,
 "nbformat_minor": 2
}
