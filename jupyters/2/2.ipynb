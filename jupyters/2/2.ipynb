{
 "cells": [
  {
   "cell_type": "markdown",
   "metadata": {},
   "source": [
    "# 23.2. Computing Entropy (10 points)\n",
    "- Collection of files to work with: Pizza and Chili Corpus\n",
    "- Compute k-th order entropy of files in the dataset for k=0,1,2,3,4.\n",
    "- Compute approximate size of the compressed file if encoded by Hk bits per symbol. Length times H_k."
   ]
  },
  {
   "cell_type": "code",
   "execution_count": 1,
   "metadata": {},
   "outputs": [],
   "source": [
    "import os\n",
    "from collections import Counter\n",
    "import numpy as np\n",
    "import math\n",
    "import pandas as pd\n",
    "import plotly.express as px\n",
    "import time"
   ]
  },
  {
   "cell_type": "code",
   "execution_count": 2,
   "metadata": {},
   "outputs": [],
   "source": [
    "def load_data(path):\n",
    "    content = ''\n",
    "    with open(path, 'r', encoding='windows-1252', errors='replace') as f:\n",
    "        content = f.read()\n",
    "    return content"
   ]
  },
  {
   "cell_type": "code",
   "execution_count": 3,
   "metadata": {},
   "outputs": [],
   "source": [
    "directory = f'..\\..\\datasets'"
   ]
  },
  {
   "cell_type": "code",
   "execution_count": 4,
   "metadata": {},
   "outputs": [],
   "source": [
    "def get_alphabet(data):\n",
    "    c = dict(Counter(data))\n",
    "    return list(c.keys())"
   ]
  },
  {
   "cell_type": "code",
   "execution_count": 5,
   "metadata": {},
   "outputs": [],
   "source": [
    "def get_k_words_with_freq(text, k):\n",
    "    res = {}\n",
    "\n",
    "    tic = time.time()\n",
    "    \n",
    "    for i in range(0, len(text)-k+1):\n",
    "        current_text = text[i:i+k]\n",
    "        res[current_text] = res.get(current_text, 0) + 1\n",
    "\n",
    "    toc = time.time()\n",
    "\n",
    "    return (res, toc - tic)"
   ]
  },
  {
   "cell_type": "code",
   "execution_count": 6,
   "metadata": {},
   "outputs": [],
   "source": [
    "def calc_with_zero(nom, den):\n",
    "    if den == 0:\n",
    "        return 0\n",
    "    return nom / den"
   ]
  },
  {
   "cell_type": "code",
   "execution_count": 7,
   "metadata": {},
   "outputs": [],
   "source": [
    "def get_sub_k_with_freq(data, keys, k):\n",
    "    tic = time.time()\n",
    "\n",
    "    k_1 = k + 1\n",
    "\n",
    "    res = { k:{} for k in keys }\n",
    "    \n",
    "    for i in range(0, len(data) - k_1 + 1):\n",
    "\n",
    "        current_text = data[i:i+k_1]\n",
    "        \n",
    "        prefix = current_text[0:k]\n",
    "\n",
    "        current_dic = res[prefix]\n",
    "\n",
    "        current_dic[current_text] = current_dic.get(current_text, 0) + 1\n",
    "\n",
    "        res[prefix] = current_dic\n",
    "    \n",
    "    toc = time.time()\n",
    "\n",
    "    return res, toc - tic"
   ]
  },
  {
   "cell_type": "code",
   "execution_count": 8,
   "metadata": {},
   "outputs": [],
   "source": [
    "def calculate_entropy_for_state(state_k_dic, state_k_plus_1_dic):\n",
    "    tic = time.time()\n",
    "\n",
    "    res = {}\n",
    "\n",
    "    states_n = np.sum(list(state_k_dic.values()))\n",
    "\n",
    "    for state, state_freq in state_k_dic.items():\n",
    "        suma = 0\n",
    "        for state_k_plus_1, state_k_plus_1_freq in state_k_plus_1_dic[state].items():\n",
    "            suma += calc_with_zero(state_k_plus_1_freq, states_n) * math.log2(state_k_plus_1_freq / state_freq) \n",
    "        res[state] = suma\n",
    "\n",
    "\n",
    "    toc = time.time()\n",
    "    return -np.sum(list(res.values())), toc - tic, res"
   ]
  },
  {
   "cell_type": "code",
   "execution_count": 9,
   "metadata": {},
   "outputs": [],
   "source": [
    "def run(path, k):\n",
    "   data = load_data(path)\n",
    "\n",
    "   n = len(data)\n",
    "\n",
    "   states_with_freq, k_freq_time = get_k_words_with_freq(data, k)\n",
    "\n",
    "   k_plus_1_states_with_freq, k_plus_1_freq_time = get_sub_k_with_freq(data, list(states_with_freq.keys()), k)\n",
    "\n",
    "   finate, calculation_time, state_entropies =  calculate_entropy_for_state(states_with_freq, k_plus_1_states_with_freq)\n",
    "\n",
    "\n",
    "   return {\n",
    "      \"finate\": finate,\n",
    "      \"k\": k,\n",
    "      \"path\": path,\n",
    "      \"aproximate_size\": finate * n,\n",
    "      \"original_size\": n * 8,\n",
    "      \"k_freq_time\": k_freq_time, \n",
    "      \"k_plus_1_freq_time\": k_plus_1_freq_time,\n",
    "      \"calculation_time\": calculation_time,\n",
    "      \"state_entropies\": state_entropies\n",
    "   }"
   ]
  },
  {
   "cell_type": "code",
   "execution_count": 10,
   "metadata": {},
   "outputs": [],
   "source": [
    "all_directories = []\n",
    "\n",
    "\n",
    "for dir in os.listdir(directory):\n",
    "    for nested_dir in os.listdir(os.path.sep.join([directory, dir])):\n",
    "       all_directories.append(os.path.sep.join([directory, dir, nested_dir])) "
   ]
  },
  {
   "cell_type": "code",
   "execution_count": 11,
   "metadata": {},
   "outputs": [
    {
     "data": {
      "text/plain": [
       "['..\\\\..\\\\datasets\\\\english\\\\english.50MB']"
      ]
     },
     "execution_count": 11,
     "metadata": {},
     "output_type": "execute_result"
    }
   ],
   "source": [
    "all_directories[1:2]"
   ]
  },
  {
   "cell_type": "code",
   "execution_count": 12,
   "metadata": {},
   "outputs": [
    {
     "name": "stdout",
     "output_type": "stream",
     "text": [
      "..\\..\\datasets\\dna\\dna.50MB - 1\n",
      "..\\..\\datasets\\dna\\dna.50MB - 2\n",
      "..\\..\\datasets\\dna\\dna.50MB - 3\n",
      "..\\..\\datasets\\dna\\dna.50MB - 4\n",
      "..\\..\\datasets\\dna\\dna.50MB - 5\n",
      "..\\..\\datasets\\english\\english.50MB - 1\n",
      "..\\..\\datasets\\english\\english.50MB - 2\n",
      "..\\..\\datasets\\english\\english.50MB - 3\n",
      "..\\..\\datasets\\english\\english.50MB - 4\n",
      "..\\..\\datasets\\english\\english.50MB - 5\n"
     ]
    }
   ],
   "source": [
    "res = {}\n",
    "counter = 0\n",
    "from_k = 1\n",
    "to_k = 6\n",
    "\n",
    "\n",
    "for path in all_directories[0:2]:\n",
    "    result = None\n",
    "    for k in range(from_k, to_k):\n",
    "        print(f'{path} - {k}')\n",
    "        full_path = path\n",
    "        result = run(full_path, k)\n",
    "        res[counter] = result\n",
    "        counter += 1"
   ]
  },
  {
   "cell_type": "code",
   "execution_count": 15,
   "metadata": {},
   "outputs": [],
   "source": [
    "result_dataframe = pd.DataFrame.from_dict(res, orient=\"index\")"
   ]
  },
  {
   "cell_type": "code",
   "execution_count": 18,
   "metadata": {},
   "outputs": [
    {
     "data": {
      "text/html": [
       "<div>\n",
       "<style scoped>\n",
       "    .dataframe tbody tr th:only-of-type {\n",
       "        vertical-align: middle;\n",
       "    }\n",
       "\n",
       "    .dataframe tbody tr th {\n",
       "        vertical-align: top;\n",
       "    }\n",
       "\n",
       "    .dataframe thead th {\n",
       "        text-align: right;\n",
       "    }\n",
       "</style>\n",
       "<table border=\"1\" class=\"dataframe\">\n",
       "  <thead>\n",
       "    <tr style=\"text-align: right;\">\n",
       "      <th></th>\n",
       "      <th>finate</th>\n",
       "      <th>k</th>\n",
       "      <th>path</th>\n",
       "      <th>aproximate_size</th>\n",
       "      <th>original_size</th>\n",
       "      <th>k_freq_time</th>\n",
       "      <th>k_plus_1_freq_time</th>\n",
       "      <th>calculation_time</th>\n",
       "      <th>state_entropies</th>\n",
       "    </tr>\n",
       "  </thead>\n",
       "  <tbody>\n",
       "    <tr>\n",
       "      <th>0</th>\n",
       "      <td>1.934922</td>\n",
       "      <td>1</td>\n",
       "      <td>..\\..\\datasets\\dna\\dna.50MB</td>\n",
       "      <td>1.014456e+08</td>\n",
       "      <td>419430400</td>\n",
       "      <td>18.526829</td>\n",
       "      <td>33.898585</td>\n",
       "      <td>0.000000</td>\n",
       "      <td>{'G': -0.4182296166786281, 'A': -0.57031832158...</td>\n",
       "    </tr>\n",
       "    <tr>\n",
       "      <th>1</th>\n",
       "      <td>1.924513</td>\n",
       "      <td>2</td>\n",
       "      <td>..\\..\\datasets\\dna\\dna.50MB</td>\n",
       "      <td>1.008999e+08</td>\n",
       "      <td>419430400</td>\n",
       "      <td>24.539940</td>\n",
       "      <td>37.697706</td>\n",
       "      <td>0.000999</td>\n",
       "      <td>{'GA': -0.11694824052442548, 'AT': -0.14553541...</td>\n",
       "    </tr>\n",
       "    <tr>\n",
       "      <th>2</th>\n",
       "      <td>1.919584</td>\n",
       "      <td>3</td>\n",
       "      <td>..\\..\\datasets\\dna\\dna.50MB</td>\n",
       "      <td>1.006415e+08</td>\n",
       "      <td>419430400</td>\n",
       "      <td>24.279142</td>\n",
       "      <td>39.537709</td>\n",
       "      <td>0.001987</td>\n",
       "      <td>{'GAT': -0.02592923929629321, 'ATC': -0.023003...</td>\n",
       "    </tr>\n",
       "    <tr>\n",
       "      <th>3</th>\n",
       "      <td>1.912851</td>\n",
       "      <td>4</td>\n",
       "      <td>..\\..\\datasets\\dna\\dna.50MB</td>\n",
       "      <td>1.002885e+08</td>\n",
       "      <td>419430400</td>\n",
       "      <td>24.733479</td>\n",
       "      <td>43.666369</td>\n",
       "      <td>0.004957</td>\n",
       "      <td>{'GATC': -0.004477112476998099, 'ATCA': -0.009...</td>\n",
       "    </tr>\n",
       "    <tr>\n",
       "      <th>4</th>\n",
       "      <td>1.903402</td>\n",
       "      <td>5</td>\n",
       "      <td>..\\..\\datasets\\dna\\dna.50MB</td>\n",
       "      <td>9.979306e+07</td>\n",
       "      <td>419430400</td>\n",
       "      <td>26.128554</td>\n",
       "      <td>38.320786</td>\n",
       "      <td>0.010001</td>\n",
       "      <td>{'GATCA': -0.0017566910040682701, 'ATCAA': -0....</td>\n",
       "    </tr>\n",
       "    <tr>\n",
       "      <th>5</th>\n",
       "      <td>3.606487</td>\n",
       "      <td>1</td>\n",
       "      <td>..\\..\\datasets\\english\\english.50MB</td>\n",
       "      <td>1.890838e+08</td>\n",
       "      <td>419430400</td>\n",
       "      <td>18.767260</td>\n",
       "      <td>32.866286</td>\n",
       "      <td>0.005000</td>\n",
       "      <td>{'\n",
       "': -0.0956065483004109, 'T': -0.00488728286...</td>\n",
       "    </tr>\n",
       "    <tr>\n",
       "      <th>6</th>\n",
       "      <td>2.921758</td>\n",
       "      <td>2</td>\n",
       "      <td>..\\..\\datasets\\english\\english.50MB</td>\n",
       "      <td>1.531843e+08</td>\n",
       "      <td>419430400</td>\n",
       "      <td>23.815711</td>\n",
       "      <td>42.093274</td>\n",
       "      <td>0.070873</td>\n",
       "      <td>{'\n",
       "\n",
       "': -0.01029982260502319, '\n",
       "T': -0.00054962...</td>\n",
       "    </tr>\n",
       "    <tr>\n",
       "      <th>7</th>\n",
       "      <td>2.385559</td>\n",
       "      <td>3</td>\n",
       "      <td>..\\..\\datasets\\english\\english.50MB</td>\n",
       "      <td>1.250720e+08</td>\n",
       "      <td>419430400</td>\n",
       "      <td>28.463911</td>\n",
       "      <td>49.414789</td>\n",
       "      <td>0.402959</td>\n",
       "      <td>{'\n",
       "\n",
       "\n",
       "': -0.001002157849502695, '\n",
       "\n",
       "T': -0.00021...</td>\n",
       "    </tr>\n",
       "    <tr>\n",
       "      <th>8</th>\n",
       "      <td>2.012510</td>\n",
       "      <td>4</td>\n",
       "      <td>..\\..\\datasets\\english\\english.50MB</td>\n",
       "      <td>1.055135e+08</td>\n",
       "      <td>419430400</td>\n",
       "      <td>31.833898</td>\n",
       "      <td>56.284305</td>\n",
       "      <td>1.494567</td>\n",
       "      <td>{'\n",
       "\n",
       "\n",
       "\n",
       "': -0.0005175874720459757, '\n",
       "\n",
       "\n",
       "T': -3.70...</td>\n",
       "    </tr>\n",
       "    <tr>\n",
       "      <th>9</th>\n",
       "      <td>1.763829</td>\n",
       "      <td>5</td>\n",
       "      <td>..\\..\\datasets\\english\\english.50MB</td>\n",
       "      <td>9.247546e+07</td>\n",
       "      <td>419430400</td>\n",
       "      <td>33.288040</td>\n",
       "      <td>53.137946</td>\n",
       "      <td>3.668184</td>\n",
       "      <td>{'\n",
       "\n",
       "\n",
       "\n",
       "\n",
       "': -0.0002271166314822888, '\n",
       "\n",
       "\n",
       "\n",
       "T': -2....</td>\n",
       "    </tr>\n",
       "  </tbody>\n",
       "</table>\n",
       "</div>"
      ],
      "text/plain": [
       "     finate  k                                 path  aproximate_size  \\\n",
       "0  1.934922  1          ..\\..\\datasets\\dna\\dna.50MB     1.014456e+08   \n",
       "1  1.924513  2          ..\\..\\datasets\\dna\\dna.50MB     1.008999e+08   \n",
       "2  1.919584  3          ..\\..\\datasets\\dna\\dna.50MB     1.006415e+08   \n",
       "3  1.912851  4          ..\\..\\datasets\\dna\\dna.50MB     1.002885e+08   \n",
       "4  1.903402  5          ..\\..\\datasets\\dna\\dna.50MB     9.979306e+07   \n",
       "5  3.606487  1  ..\\..\\datasets\\english\\english.50MB     1.890838e+08   \n",
       "6  2.921758  2  ..\\..\\datasets\\english\\english.50MB     1.531843e+08   \n",
       "7  2.385559  3  ..\\..\\datasets\\english\\english.50MB     1.250720e+08   \n",
       "8  2.012510  4  ..\\..\\datasets\\english\\english.50MB     1.055135e+08   \n",
       "9  1.763829  5  ..\\..\\datasets\\english\\english.50MB     9.247546e+07   \n",
       "\n",
       "   original_size  k_freq_time  k_plus_1_freq_time  calculation_time  \\\n",
       "0      419430400    18.526829           33.898585          0.000000   \n",
       "1      419430400    24.539940           37.697706          0.000999   \n",
       "2      419430400    24.279142           39.537709          0.001987   \n",
       "3      419430400    24.733479           43.666369          0.004957   \n",
       "4      419430400    26.128554           38.320786          0.010001   \n",
       "5      419430400    18.767260           32.866286          0.005000   \n",
       "6      419430400    23.815711           42.093274          0.070873   \n",
       "7      419430400    28.463911           49.414789          0.402959   \n",
       "8      419430400    31.833898           56.284305          1.494567   \n",
       "9      419430400    33.288040           53.137946          3.668184   \n",
       "\n",
       "                                     state_entropies  \n",
       "0  {'G': -0.4182296166786281, 'A': -0.57031832158...  \n",
       "1  {'GA': -0.11694824052442548, 'AT': -0.14553541...  \n",
       "2  {'GAT': -0.02592923929629321, 'ATC': -0.023003...  \n",
       "3  {'GATC': -0.004477112476998099, 'ATCA': -0.009...  \n",
       "4  {'GATCA': -0.0017566910040682701, 'ATCAA': -0....  \n",
       "5  {'\n",
       "': -0.0956065483004109, 'T': -0.00488728286...  \n",
       "6  {'\n",
       "\n",
       "': -0.01029982260502319, '\n",
       "T': -0.00054962...  \n",
       "7  {'\n",
       "\n",
       "\n",
       "': -0.001002157849502695, '\n",
       "\n",
       "T': -0.00021...  \n",
       "8  {'\n",
       "\n",
       "\n",
       "\n",
       "': -0.0005175874720459757, '\n",
       "\n",
       "\n",
       "T': -3.70...  \n",
       "9  {'\n",
       "\n",
       "\n",
       "\n",
       "\n",
       "': -0.0002271166314822888, '\n",
       "\n",
       "\n",
       "\n",
       "T': -2....  "
      ]
     },
     "execution_count": 18,
     "metadata": {},
     "output_type": "execute_result"
    }
   ],
   "source": [
    "result_dataframe"
   ]
  },
  {
   "cell_type": "markdown",
   "metadata": {},
   "source": [
    "# Graphs"
   ]
  },
  {
   "cell_type": "code",
   "execution_count": 17,
   "metadata": {},
   "outputs": [
    {
     "data": {
      "application/vnd.plotly.v1+json": {
       "config": {
        "plotlyServerURL": "https://plot.ly"
       },
       "data": [
        {
         "hovertemplate": "path=..\\..\\datasets\\dna\\dna.50MB<br>k=%{x}<br>finate=%{y}<extra></extra>",
         "legendgroup": "..\\..\\datasets\\dna\\dna.50MB",
         "line": {
          "color": "#636efa",
          "dash": "solid"
         },
         "marker": {
          "symbol": "circle"
         },
         "mode": "lines",
         "name": "..\\..\\datasets\\dna\\dna.50MB",
         "orientation": "v",
         "showlegend": true,
         "type": "scatter",
         "x": [
          1,
          2,
          3,
          4,
          5
         ],
         "xaxis": "x",
         "y": [
          1.934922014957505,
          1.924512927159047,
          1.9195837721763294,
          1.9128505873250223,
          1.903401521959186
         ],
         "yaxis": "y"
        },
        {
         "hovertemplate": "path=..\\..\\datasets\\english\\english.50MB<br>k=%{x}<br>finate=%{y}<extra></extra>",
         "legendgroup": "..\\..\\datasets\\english\\english.50MB",
         "line": {
          "color": "#EF553B",
          "dash": "solid"
         },
         "marker": {
          "symbol": "circle"
         },
         "mode": "lines",
         "name": "..\\..\\datasets\\english\\english.50MB",
         "orientation": "v",
         "showlegend": true,
         "type": "scatter",
         "x": [
          1,
          2,
          3,
          4,
          5
         ],
         "xaxis": "x",
         "y": [
          3.606487137098752,
          2.921758157640328,
          2.385558717056479,
          2.012510375937039,
          1.7638293655816624
         ],
         "yaxis": "y"
        }
       ],
       "layout": {
        "legend": {
         "title": {
          "text": "path"
         },
         "tracegroupgap": 0
        },
        "margin": {
         "t": 60
        },
        "template": {
         "data": {
          "bar": [
           {
            "error_x": {
             "color": "#2a3f5f"
            },
            "error_y": {
             "color": "#2a3f5f"
            },
            "marker": {
             "line": {
              "color": "#E5ECF6",
              "width": 0.5
             },
             "pattern": {
              "fillmode": "overlay",
              "size": 10,
              "solidity": 0.2
             }
            },
            "type": "bar"
           }
          ],
          "barpolar": [
           {
            "marker": {
             "line": {
              "color": "#E5ECF6",
              "width": 0.5
             },
             "pattern": {
              "fillmode": "overlay",
              "size": 10,
              "solidity": 0.2
             }
            },
            "type": "barpolar"
           }
          ],
          "carpet": [
           {
            "aaxis": {
             "endlinecolor": "#2a3f5f",
             "gridcolor": "white",
             "linecolor": "white",
             "minorgridcolor": "white",
             "startlinecolor": "#2a3f5f"
            },
            "baxis": {
             "endlinecolor": "#2a3f5f",
             "gridcolor": "white",
             "linecolor": "white",
             "minorgridcolor": "white",
             "startlinecolor": "#2a3f5f"
            },
            "type": "carpet"
           }
          ],
          "choropleth": [
           {
            "colorbar": {
             "outlinewidth": 0,
             "ticks": ""
            },
            "type": "choropleth"
           }
          ],
          "contour": [
           {
            "colorbar": {
             "outlinewidth": 0,
             "ticks": ""
            },
            "colorscale": [
             [
              0,
              "#0d0887"
             ],
             [
              0.1111111111111111,
              "#46039f"
             ],
             [
              0.2222222222222222,
              "#7201a8"
             ],
             [
              0.3333333333333333,
              "#9c179e"
             ],
             [
              0.4444444444444444,
              "#bd3786"
             ],
             [
              0.5555555555555556,
              "#d8576b"
             ],
             [
              0.6666666666666666,
              "#ed7953"
             ],
             [
              0.7777777777777778,
              "#fb9f3a"
             ],
             [
              0.8888888888888888,
              "#fdca26"
             ],
             [
              1,
              "#f0f921"
             ]
            ],
            "type": "contour"
           }
          ],
          "contourcarpet": [
           {
            "colorbar": {
             "outlinewidth": 0,
             "ticks": ""
            },
            "type": "contourcarpet"
           }
          ],
          "heatmap": [
           {
            "colorbar": {
             "outlinewidth": 0,
             "ticks": ""
            },
            "colorscale": [
             [
              0,
              "#0d0887"
             ],
             [
              0.1111111111111111,
              "#46039f"
             ],
             [
              0.2222222222222222,
              "#7201a8"
             ],
             [
              0.3333333333333333,
              "#9c179e"
             ],
             [
              0.4444444444444444,
              "#bd3786"
             ],
             [
              0.5555555555555556,
              "#d8576b"
             ],
             [
              0.6666666666666666,
              "#ed7953"
             ],
             [
              0.7777777777777778,
              "#fb9f3a"
             ],
             [
              0.8888888888888888,
              "#fdca26"
             ],
             [
              1,
              "#f0f921"
             ]
            ],
            "type": "heatmap"
           }
          ],
          "heatmapgl": [
           {
            "colorbar": {
             "outlinewidth": 0,
             "ticks": ""
            },
            "colorscale": [
             [
              0,
              "#0d0887"
             ],
             [
              0.1111111111111111,
              "#46039f"
             ],
             [
              0.2222222222222222,
              "#7201a8"
             ],
             [
              0.3333333333333333,
              "#9c179e"
             ],
             [
              0.4444444444444444,
              "#bd3786"
             ],
             [
              0.5555555555555556,
              "#d8576b"
             ],
             [
              0.6666666666666666,
              "#ed7953"
             ],
             [
              0.7777777777777778,
              "#fb9f3a"
             ],
             [
              0.8888888888888888,
              "#fdca26"
             ],
             [
              1,
              "#f0f921"
             ]
            ],
            "type": "heatmapgl"
           }
          ],
          "histogram": [
           {
            "marker": {
             "pattern": {
              "fillmode": "overlay",
              "size": 10,
              "solidity": 0.2
             }
            },
            "type": "histogram"
           }
          ],
          "histogram2d": [
           {
            "colorbar": {
             "outlinewidth": 0,
             "ticks": ""
            },
            "colorscale": [
             [
              0,
              "#0d0887"
             ],
             [
              0.1111111111111111,
              "#46039f"
             ],
             [
              0.2222222222222222,
              "#7201a8"
             ],
             [
              0.3333333333333333,
              "#9c179e"
             ],
             [
              0.4444444444444444,
              "#bd3786"
             ],
             [
              0.5555555555555556,
              "#d8576b"
             ],
             [
              0.6666666666666666,
              "#ed7953"
             ],
             [
              0.7777777777777778,
              "#fb9f3a"
             ],
             [
              0.8888888888888888,
              "#fdca26"
             ],
             [
              1,
              "#f0f921"
             ]
            ],
            "type": "histogram2d"
           }
          ],
          "histogram2dcontour": [
           {
            "colorbar": {
             "outlinewidth": 0,
             "ticks": ""
            },
            "colorscale": [
             [
              0,
              "#0d0887"
             ],
             [
              0.1111111111111111,
              "#46039f"
             ],
             [
              0.2222222222222222,
              "#7201a8"
             ],
             [
              0.3333333333333333,
              "#9c179e"
             ],
             [
              0.4444444444444444,
              "#bd3786"
             ],
             [
              0.5555555555555556,
              "#d8576b"
             ],
             [
              0.6666666666666666,
              "#ed7953"
             ],
             [
              0.7777777777777778,
              "#fb9f3a"
             ],
             [
              0.8888888888888888,
              "#fdca26"
             ],
             [
              1,
              "#f0f921"
             ]
            ],
            "type": "histogram2dcontour"
           }
          ],
          "mesh3d": [
           {
            "colorbar": {
             "outlinewidth": 0,
             "ticks": ""
            },
            "type": "mesh3d"
           }
          ],
          "parcoords": [
           {
            "line": {
             "colorbar": {
              "outlinewidth": 0,
              "ticks": ""
             }
            },
            "type": "parcoords"
           }
          ],
          "pie": [
           {
            "automargin": true,
            "type": "pie"
           }
          ],
          "scatter": [
           {
            "marker": {
             "colorbar": {
              "outlinewidth": 0,
              "ticks": ""
             }
            },
            "type": "scatter"
           }
          ],
          "scatter3d": [
           {
            "line": {
             "colorbar": {
              "outlinewidth": 0,
              "ticks": ""
             }
            },
            "marker": {
             "colorbar": {
              "outlinewidth": 0,
              "ticks": ""
             }
            },
            "type": "scatter3d"
           }
          ],
          "scattercarpet": [
           {
            "marker": {
             "colorbar": {
              "outlinewidth": 0,
              "ticks": ""
             }
            },
            "type": "scattercarpet"
           }
          ],
          "scattergeo": [
           {
            "marker": {
             "colorbar": {
              "outlinewidth": 0,
              "ticks": ""
             }
            },
            "type": "scattergeo"
           }
          ],
          "scattergl": [
           {
            "marker": {
             "colorbar": {
              "outlinewidth": 0,
              "ticks": ""
             }
            },
            "type": "scattergl"
           }
          ],
          "scattermapbox": [
           {
            "marker": {
             "colorbar": {
              "outlinewidth": 0,
              "ticks": ""
             }
            },
            "type": "scattermapbox"
           }
          ],
          "scatterpolar": [
           {
            "marker": {
             "colorbar": {
              "outlinewidth": 0,
              "ticks": ""
             }
            },
            "type": "scatterpolar"
           }
          ],
          "scatterpolargl": [
           {
            "marker": {
             "colorbar": {
              "outlinewidth": 0,
              "ticks": ""
             }
            },
            "type": "scatterpolargl"
           }
          ],
          "scatterternary": [
           {
            "marker": {
             "colorbar": {
              "outlinewidth": 0,
              "ticks": ""
             }
            },
            "type": "scatterternary"
           }
          ],
          "surface": [
           {
            "colorbar": {
             "outlinewidth": 0,
             "ticks": ""
            },
            "colorscale": [
             [
              0,
              "#0d0887"
             ],
             [
              0.1111111111111111,
              "#46039f"
             ],
             [
              0.2222222222222222,
              "#7201a8"
             ],
             [
              0.3333333333333333,
              "#9c179e"
             ],
             [
              0.4444444444444444,
              "#bd3786"
             ],
             [
              0.5555555555555556,
              "#d8576b"
             ],
             [
              0.6666666666666666,
              "#ed7953"
             ],
             [
              0.7777777777777778,
              "#fb9f3a"
             ],
             [
              0.8888888888888888,
              "#fdca26"
             ],
             [
              1,
              "#f0f921"
             ]
            ],
            "type": "surface"
           }
          ],
          "table": [
           {
            "cells": {
             "fill": {
              "color": "#EBF0F8"
             },
             "line": {
              "color": "white"
             }
            },
            "header": {
             "fill": {
              "color": "#C8D4E3"
             },
             "line": {
              "color": "white"
             }
            },
            "type": "table"
           }
          ]
         },
         "layout": {
          "annotationdefaults": {
           "arrowcolor": "#2a3f5f",
           "arrowhead": 0,
           "arrowwidth": 1
          },
          "autotypenumbers": "strict",
          "coloraxis": {
           "colorbar": {
            "outlinewidth": 0,
            "ticks": ""
           }
          },
          "colorscale": {
           "diverging": [
            [
             0,
             "#8e0152"
            ],
            [
             0.1,
             "#c51b7d"
            ],
            [
             0.2,
             "#de77ae"
            ],
            [
             0.3,
             "#f1b6da"
            ],
            [
             0.4,
             "#fde0ef"
            ],
            [
             0.5,
             "#f7f7f7"
            ],
            [
             0.6,
             "#e6f5d0"
            ],
            [
             0.7,
             "#b8e186"
            ],
            [
             0.8,
             "#7fbc41"
            ],
            [
             0.9,
             "#4d9221"
            ],
            [
             1,
             "#276419"
            ]
           ],
           "sequential": [
            [
             0,
             "#0d0887"
            ],
            [
             0.1111111111111111,
             "#46039f"
            ],
            [
             0.2222222222222222,
             "#7201a8"
            ],
            [
             0.3333333333333333,
             "#9c179e"
            ],
            [
             0.4444444444444444,
             "#bd3786"
            ],
            [
             0.5555555555555556,
             "#d8576b"
            ],
            [
             0.6666666666666666,
             "#ed7953"
            ],
            [
             0.7777777777777778,
             "#fb9f3a"
            ],
            [
             0.8888888888888888,
             "#fdca26"
            ],
            [
             1,
             "#f0f921"
            ]
           ],
           "sequentialminus": [
            [
             0,
             "#0d0887"
            ],
            [
             0.1111111111111111,
             "#46039f"
            ],
            [
             0.2222222222222222,
             "#7201a8"
            ],
            [
             0.3333333333333333,
             "#9c179e"
            ],
            [
             0.4444444444444444,
             "#bd3786"
            ],
            [
             0.5555555555555556,
             "#d8576b"
            ],
            [
             0.6666666666666666,
             "#ed7953"
            ],
            [
             0.7777777777777778,
             "#fb9f3a"
            ],
            [
             0.8888888888888888,
             "#fdca26"
            ],
            [
             1,
             "#f0f921"
            ]
           ]
          },
          "colorway": [
           "#636efa",
           "#EF553B",
           "#00cc96",
           "#ab63fa",
           "#FFA15A",
           "#19d3f3",
           "#FF6692",
           "#B6E880",
           "#FF97FF",
           "#FECB52"
          ],
          "font": {
           "color": "#2a3f5f"
          },
          "geo": {
           "bgcolor": "white",
           "lakecolor": "white",
           "landcolor": "#E5ECF6",
           "showlakes": true,
           "showland": true,
           "subunitcolor": "white"
          },
          "hoverlabel": {
           "align": "left"
          },
          "hovermode": "closest",
          "mapbox": {
           "style": "light"
          },
          "paper_bgcolor": "white",
          "plot_bgcolor": "#E5ECF6",
          "polar": {
           "angularaxis": {
            "gridcolor": "white",
            "linecolor": "white",
            "ticks": ""
           },
           "bgcolor": "#E5ECF6",
           "radialaxis": {
            "gridcolor": "white",
            "linecolor": "white",
            "ticks": ""
           }
          },
          "scene": {
           "xaxis": {
            "backgroundcolor": "#E5ECF6",
            "gridcolor": "white",
            "gridwidth": 2,
            "linecolor": "white",
            "showbackground": true,
            "ticks": "",
            "zerolinecolor": "white"
           },
           "yaxis": {
            "backgroundcolor": "#E5ECF6",
            "gridcolor": "white",
            "gridwidth": 2,
            "linecolor": "white",
            "showbackground": true,
            "ticks": "",
            "zerolinecolor": "white"
           },
           "zaxis": {
            "backgroundcolor": "#E5ECF6",
            "gridcolor": "white",
            "gridwidth": 2,
            "linecolor": "white",
            "showbackground": true,
            "ticks": "",
            "zerolinecolor": "white"
           }
          },
          "shapedefaults": {
           "line": {
            "color": "#2a3f5f"
           }
          },
          "ternary": {
           "aaxis": {
            "gridcolor": "white",
            "linecolor": "white",
            "ticks": ""
           },
           "baxis": {
            "gridcolor": "white",
            "linecolor": "white",
            "ticks": ""
           },
           "bgcolor": "#E5ECF6",
           "caxis": {
            "gridcolor": "white",
            "linecolor": "white",
            "ticks": ""
           }
          },
          "title": {
           "x": 0.05
          },
          "xaxis": {
           "automargin": true,
           "gridcolor": "white",
           "linecolor": "white",
           "ticks": "",
           "title": {
            "standoff": 15
           },
           "zerolinecolor": "white",
           "zerolinewidth": 2
          },
          "yaxis": {
           "automargin": true,
           "gridcolor": "white",
           "linecolor": "white",
           "ticks": "",
           "title": {
            "standoff": 15
           },
           "zerolinecolor": "white",
           "zerolinewidth": 2
          }
         }
        },
        "xaxis": {
         "anchor": "y",
         "domain": [
          0,
          1
         ],
         "title": {
          "text": "k"
         }
        },
        "yaxis": {
         "anchor": "x",
         "domain": [
          0,
          1
         ],
         "title": {
          "text": "finate"
         }
        }
       }
      }
     },
     "metadata": {},
     "output_type": "display_data"
    }
   ],
   "source": [
    "fig = px.line(result_dataframe, x=\"k\", y=\"finate\", color='path')\n",
    "fig.show()"
   ]
  },
  {
   "cell_type": "code",
   "execution_count": null,
   "metadata": {},
   "outputs": [],
   "source": []
  }
 ],
 "metadata": {
  "interpreter": {
   "hash": "2a094b558792df53015a06eccbeeb156f6e89f526088fb771785a5b12806cace"
  },
  "kernelspec": {
   "display_name": "Python 3.8.6rc1 ('venv': venv)",
   "language": "python",
   "name": "python3"
  },
  "language_info": {
   "codemirror_mode": {
    "name": "ipython",
    "version": 3
   },
   "file_extension": ".py",
   "mimetype": "text/x-python",
   "name": "python",
   "nbconvert_exporter": "python",
   "pygments_lexer": "ipython3",
   "version": "3.8.6rc1"
  },
  "orig_nbformat": 4
 },
 "nbformat": 4,
 "nbformat_minor": 2
}
